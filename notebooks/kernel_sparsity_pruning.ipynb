{
 "cells": [
  {
   "cell_type": "markdown",
   "metadata": {},
   "source": [
    "# Kernel Sparsity via Pruning Tutorial\n",
    "\n",
    "Neural networks, in general, are very overparamatarized for given tasks (ie the number of parameters far exceeds the number of training points) yet still they [generalize very well](https://arxiv.org/abs/1611.03530). This flies against conventional wisdom where overparamatarizing a model will lead to overfitting and putting theory behind this empirical evidence is a very active area of research.\n",
    "\n",
    "Additionally, [early on](http://yann.lecun.com/exdb/publis/pdf/lecun-90b.pdf) it was discovered that large numbers of weights in neural networks could be pruned away (set to 0) without affecting the loss and in most cases actually improving the generalization capability of the network. This work was reinvigorated with Song Han's [2015 paper](https://arxiv.org/abs/1510.00149) in pursuit of compressing model size for mobile applications. This has resulted in numerous papers coming out on the topic of weight pruning, filter pruning, channel pruning, and ultimately block pruning. [This paper](https://arxiv.org/abs/1902.09574) out of Google gives a good overview of the current state of sparsity.\n",
    "\n",
    "Given that models are very overparamatarized and large numbers of weights can be effectively pruned away, what does this leave us with? Well intuitively, then, we can think of pruning as performing an [architecture search](https://openreview.net/pdf?id=rJlnB3C5Ym) within this large, traditionally fixed weight space. What was originally important in the dense model was representing a large number of pathways for optimization. We can then effectively remove the unused pathways in the optimization space with a fine toothed comb (post training).\n",
    "\n",
    "Well what does pruning get us? We now have a model with a lot of multiplications by zero that we don't need to run. If we're smart about how we do structure this compute (a surprisingly tricky problem), we can now run the model much faster than ever thought possible! That's where the [Neural Magic](http://neuralmagic.com/) engine can help us.\n",
    "\n",
    "This tutorial provides a step by step walk through for pruning an already trained (dense) model. Specifically it is set up to work with the model trained in our [model training tutorial](model_training.ipynb), but it can be changed to support other models/datasets as needed:\n",
    "1. Dataset selection\n",
    "2. Model selection and loading\n",
    "3. Pruning setup\n",
    "4. Recalibration using pruning"
   ]
  },
  {
   "cell_type": "code",
   "execution_count": 1,
   "metadata": {},
   "outputs": [
    {
     "name": "stdout",
     "output_type": "stream",
     "text": [
      "Python 3.6.8 (default, Jan 14 2019, 11:02:34) \n",
      "[GCC 8.0.1 20180414 (experimental) [trunk revision 259383]] on linux\n",
      "/home/mark/neuralmagic/Shared/neuralmagicml-pytorch\n",
      "Added current package path to sys.path\n",
      "Be sure to install from requirements.txt and pytorch separately\n"
     ]
    }
   ],
   "source": [
    "import sys\n",
    "import os\n",
    "\n",
    "print('Python %s on %s' % (sys.version, sys.platform))\n",
    "\n",
    "package_path = os.path.abspath(os.path.join(os.path.expanduser(os.getcwd()), os.pardir))\n",
    "print(package_path)\n",
    "\n",
    "\"\"\"\n",
    "Adding the path to the neuralmagic-pytorch extension to the path so it isn't necessary to have it installed\n",
    "\"\"\"\n",
    "sys.path.extend([package_path])\n",
    "\n",
    "print('Added current package path to sys.path')\n",
    "print('Be sure to install from requirements.txt and pytorch separately')\n"
   ]
  },
  {
   "cell_type": "markdown",
   "metadata": {},
   "source": [
    "## Dataset Selection\n",
    "\n",
    "We are using fast.ai's [Imagenette dataset](https://github.com/fastai/imagenette) provided under the [Apache License 2.0](https://github.com/fastai/imagenette/blob/master/LICENSE) as the default dataset. The original authors, much like ourselves, were interested in a dataset that has similar properties to more complicated datasets such as the Imagenet dataset but one that would allow rapid iterations. It includes 10 of the easiest classes out of the Imagenet 1000 dataset: tench, English springer, cassette player, chain saw, church, French horn, garbage truck, gas pump, golf ball, parachute. If you are interested in visualizing the properties in this dataset see our [model training tutorial](model_training.ipynb) which also gives a more in depth breakdown for what batch size to use and the dataset splits.\n",
    "\n",
    "The dataset can easily be changed to the desired dataset in the code given.\n",
    "\n",
    "Below we will need to fill in the dataset path, train batch size, and test batch size."
   ]
  },
  {
   "cell_type": "code",
   "execution_count": 2,
   "metadata": {
    "scrolled": false
   },
   "outputs": [
    {
     "name": "stdout",
     "output_type": "stream",
     "text": [
      "\n",
      "Enter the local path where the dataset can be found\n"
     ]
    },
    {
     "data": {
      "application/vnd.jupyter.widget-view+json": {
       "model_id": "7a7ecacc26884d3b934845d7914ab53c",
       "version_major": 2,
       "version_minor": 0
      },
      "text/plain": [
       "Text(value='', description='Dataset Path', placeholder='Enter local path to dataset')"
      ]
     },
     "metadata": {},
     "output_type": "display_data"
    },
    {
     "name": "stdout",
     "output_type": "stream",
     "text": [
      "\n",
      "Choose the batch size to run through the model during train and test runs\n",
      "(be sure to press enter if/after inputting manually)\n"
     ]
    },
    {
     "data": {
      "application/vnd.jupyter.widget-view+json": {
       "model_id": "01e758aa5c104e6ea9ae0a63fc870e06",
       "version_major": 2,
       "version_minor": 0
      },
      "text/plain": [
       "IntSlider(value=64, description='Train Batch Size:', max=256, min=1)"
      ]
     },
     "metadata": {},
     "output_type": "display_data"
    },
    {
     "data": {
      "application/vnd.jupyter.widget-view+json": {
       "model_id": "fe321a123b2a4cd78d80ba1093b9977e",
       "version_major": 2,
       "version_minor": 0
      },
      "text/plain": [
       "IntSlider(value=64, description='Test Batch Size:', max=256, min=1)"
      ]
     },
     "metadata": {},
     "output_type": "display_data"
    }
   ],
   "source": [
    "import ipywidgets as widgets\n",
    "import torch\n",
    "\n",
    "print('\\nEnter the local path where the dataset can be found')\n",
    "\n",
    "dataset_text = widgets.Text(value='', placeholder='Enter local path to dataset', description='Dataset Path')\n",
    "display(dataset_text)\n",
    "\n",
    "print('\\nChoose the batch size to run through the model during train and test runs')\n",
    "print('(be sure to press enter if/after inputting manually)')\n",
    "train_batch_size_slider = widgets.IntSlider(\n",
    "    value=64, min=1, max=256, step=1, description='Train Batch Size:'\n",
    ")\n",
    "display(train_batch_size_slider)\n",
    "test_batch_size_slider = widgets.IntSlider(\n",
    "    value=64 if torch.cuda.is_available() else 1, min=1, max=256, step=1, description='Test Batch Size:'\n",
    ")\n",
    "display(test_batch_size_slider)\n"
   ]
  },
  {
   "cell_type": "code",
   "execution_count": 3,
   "metadata": {},
   "outputs": [
    {
     "name": "stdout",
     "output_type": "stream",
     "text": [
      "\n",
      "Loading dataset from /home/mark/datasets/imagenette\n",
      "\n",
      "Using train batch size of 256 and test batch size of 256\n",
      "\n",
      "already downloaded imagenette of size ImagenetteSize.s160\n",
      "train dataset created: \n",
      "Dataset ImagenetteDataset\n",
      "    Number of datapoints: 12894\n",
      "    Root location: /home/mark/datasets/imagenette/imagenette-160/train\n",
      "\n",
      "already downloaded imagenette of size ImagenetteSize.s160\n",
      "validation test dataset created: \n",
      "Dataset ImagenetteDataset\n",
      "    Number of datapoints: 500\n",
      "    Root location: /home/mark/datasets/imagenette/imagenette-160/val\n",
      "\n",
      "already downloaded imagenette of size ImagenetteSize.s160\n",
      "train test dataset created: \n",
      "Dataset ImagenetteDataset\n",
      "    Number of datapoints: 500\n",
      "    Root location: /home/mark/datasets/imagenette/imagenette-160/train\n",
      "\n"
     ]
    }
   ],
   "source": [
    "from neuralmagicML.datasets import ImagenetteDataset, EarlyStopDataset\n",
    "from torch.utils.data import Dataset, DataLoader\n",
    "\n",
    "dataset_root = os.path.abspath(os.path.expanduser(dataset_text.value.strip()))\n",
    "print('\\nLoading dataset from {}'.format(dataset_root))\n",
    "\n",
    "if not os.path.exists(dataset_root):\n",
    "    raise Exception('Folder must exist for dataset at {}'.format(dataset_root))\n",
    "    \n",
    "train_batch_size = train_batch_size_slider.value\n",
    "test_batch_size = test_batch_size_slider.value\n",
    "\n",
    "print('\\nUsing train batch size of {} and test batch size of {}\\n'\n",
    "      .format(train_batch_size, test_batch_size))\n",
    "    \n",
    "train_dataset = ImagenetteDataset(dataset_root, train=True, rand_trans=True)\n",
    "train_data_loader = DataLoader(train_dataset, batch_size=train_batch_size, shuffle=True, num_workers=4)\n",
    "print('train dataset created: \\n{}\\n'.format(train_dataset))\n",
    "\n",
    "val_dataset = ImagenetteDataset(dataset_root, train=False, rand_trans=False)\n",
    "val_data_loader = DataLoader(val_dataset, batch_size=train_batch_size, shuffle=False, num_workers=4)\n",
    "print('validation test dataset created: \\n{}\\n'.format(val_dataset))\n",
    "\n",
    "train_test_dataset = EarlyStopDataset(ImagenetteDataset(dataset_root, train=True, rand_trans=False),\n",
    "                                      early_stop=len(val_dataset))\n",
    "train_test_data_loader = DataLoader(train_test_dataset, batch_size=train_batch_size, shuffle=False, num_workers=4)\n",
    "print('train test dataset created: \\n{}\\n'.format(train_test_dataset))\n"
   ]
  },
  {
   "cell_type": "markdown",
   "metadata": {},
   "source": [
    "## Model Selection and Loading\n",
    "\n",
    "For this exercise we'll create the standard [ResNet50 model](https://arxiv.org/abs/1512.03385) and in addition we will load the pretrained weights from our [model training tutorial](model_training.ipynb)\n",
    "\n",
    "If you changed the dataset in the above cell, then we'll need to update the number of classes to create the model appropriately as well as loading your own pretrained weights. Additionally the model can be changed out completely to work with your specific use case.\n",
    "\n",
    "Additionally, run the code block and select the device to run on before continuing. cpu runs in the pytorch cpu framework and cuda runs on an attached GPU.\n"
   ]
  },
  {
   "cell_type": "code",
   "execution_count": 4,
   "metadata": {},
   "outputs": [
    {
     "name": "stdout",
     "output_type": "stream",
     "text": [
      "Created model ResNet\n",
      "\n",
      "Choose the device to run on\n"
     ]
    },
    {
     "data": {
      "application/vnd.jupyter.widget-view+json": {
       "model_id": "2385f4bc8eb4499aa3d66178aab1d8e9",
       "version_major": 2,
       "version_minor": 0
      },
      "text/plain": [
       "ToggleButtons(description='Device', options=('cuda', 'cpu'), value='cuda')"
      ]
     },
     "metadata": {},
     "output_type": "display_data"
    }
   ],
   "source": [
    "import glob\n",
    "import datetime\n",
    "from neuralmagicML.models import resnet50, load_model\n",
    "\n",
    "num_classes = 10\n",
    "# TODO: change this to load pretrained weights from our cloud\n",
    "model = resnet50(num_classes=num_classes)\n",
    "model_id = '{}-{}'.format(model.__class__.__name__,\n",
    "                          datetime.datetime.today().strftime('%Y-%m-%d-%H:%M:%S')\n",
    "                              .replace('-', '.').replace(':', '.'))\n",
    "pretrained_paths = [path for path in glob.glob('ResNet*.pth')]\n",
    "pretrained_path = pretrained_paths[0]\n",
    "load_model(pretrained_path, model)\n",
    "print('Created model {}'.format(model.__class__.__name__))\n",
    "\n",
    "print('\\nChoose the device to run on')\n",
    "device_choice = widgets.ToggleButtons(\n",
    "    options=['cuda', 'cpu'] if torch.cuda.is_available() else ['cpu'],\n",
    "    description='Device'\n",
    ")\n",
    "display(device_choice)\n"
   ]
  },
  {
   "cell_type": "markdown",
   "metadata": {},
   "source": [
    "## Pruning Setup\n",
    "\n",
    "Informally, sparsity is the degree in which a tensor is comprised of zeros. More formally:\n",
    "\n",
    "let $N^i$ be the total number of elements in a (e.g. weight) tensor $W_i$ and let $N^i_z$ be the number of elements which are zero-valued within that tensor.\n",
    "\n",
    "The sparsity level associated with that tensor is then defined as $s_i \\triangleq \\dfrac{N^i_z}{N^i}$ \n",
    "\n",
    "Our goal now is to maximize the sparsity of each weight tensor within the model while preserving the accuracy of the densely trained version. The most robust and effective approach to this so far has been magnitude pruning. To frame the problem, let's say our goal is to go from an intial sparsity $s^i_{init}$ to a final sparsity $s^i_{final}$. We could start with changing out our usual $L_2$ weight regularization with $L_1$ [($L_2$ vs $L_1$)](https://towardsdatascience.com/l1-and-l2-regularization-methods-ce25e7fc831c) in our cost function. Following through, we would find that we did, in fact, introduce a few zeros into our weights. We created a direct pathway within the optimization problem such that the model is incentivized to reduce the magnitude of unimportant weights to 0 (unimportant are defined as weights that do not significantly contribute to the loss function). This is hard to balance, though. For example, how do we determine the proper weighting between the loss function and the regularization such that we reach a desired sparsity without sacrificing accuracy? Also, empirically we find that the model will settle in local minima thus failing to further reduce weights to zero.\n",
    "\n",
    "We can take this general idea to more of an extreme, though. Based on the previous thought experiment, it's reasonable to make an assumption that weights near zero are likely not important to the final loss function as well. Taking this even further, we could say that the smallest values within a given weight tensor are the ones least likely to affect our loss function. This is, of course, assuming that we've trained long enough to reach a stable point where our neural networks cost function has minimized unimportant weights. Naturally, then, we could apply a schedule where we prune away a small number of smallest weights for every $M$ training steps. This is exactly what 'magnitude pruning' does. \n",
    "\n",
    "Below, we go through a UI to set up a magnitude pruning schedule for our model. While pruning, some layers within a model will be more sensitive than others. A general rule is that the initial input layer and the final output layer are the most sensitive as they are an absolute bottleneck to the information flow. Because of this, we offer up a UI capable of creating very intricate schedules to the point that each layer could be pruned with a different schedule to a different final sparsity. In general, though, we can get by with ignoring the initial layer, pruning the final layer minimally (this is done to boost test accuracy for the pruned model), and prune all other layers equally. At Neural Magic we are actively working on automating this process to find the best possible pruning schedules to maximize performance while minimizing accuracy loss. \n",
    "\n",
    "The default for the below model will disable pruning for the initial and final layers and prune all other layers to 90% sparsity over the course of 10 epochs. The options available are described below:\n",
    "- Prune Epochs: number of epochs to apply the pruning over\n",
    "- Add New Group: add a new pruning group to the UI, used to prune selected layers to different sparsity levels at different rates\n",
    "- Delete Current Group: remove the current group from the pruning schedule\n",
    "- Tabs: the pruning groups setup so far, click to switch between\n",
    "- Sparsity: a range slider where the left value defines the sparsity level to initially start pruning at and the right value represents the final sparsity level\n",
    "- Start Epoch: the epoch to start pruning the selected layers at the initial sparsity\n",
    "- End Epoch: the epoch to finish pruning the selected layers to the final sparsity\n",
    "- Update Freq: the update frequency, in epochs, at which to prune the layers; ie 1.0 will prune every epoch\n",
    "- Selectable Layers: a dropdown of the layers available in the model that can be pruned along with their FLOPS and param counts; select the desired layers to prune using the checkboxes"
   ]
  },
  {
   "cell_type": "code",
   "execution_count": 5,
   "metadata": {
    "scrolled": false
   },
   "outputs": [
    {
     "name": "stdout",
     "output_type": "stream",
     "text": [
      "running on device cuda\n",
      "\n",
      "creating kernel sparsity analyzer widgets (need to execute the model, so may take some time)...\n"
     ]
    },
    {
     "data": {
      "application/vnd.jupyter.widget-view+json": {
       "model_id": "7bac76f85d804e61bf49492f50660d12",
       "version_major": 2,
       "version_minor": 0
      },
      "text/plain": [
       "Box(children=(VBox(children=(HBox(children=(Button(description='Add New Group', style=ButtonStyle()), Button(d…"
      ]
     },
     "metadata": {},
     "output_type": "display_data"
    }
   ],
   "source": [
    "from neuralmagicML.notebooks import KSModifierWidgets\n",
    "\n",
    "\n",
    "device = device_choice.value\n",
    "print('running on device {}'.format(device))\n",
    "\n",
    "print('\\ncreating kernel sparsity analyzer widgets (need to execute the model, so may take some time)...')\n",
    "ks_widget, ks_modifiers = KSModifierWidgets.interactive_module(model, device, inp_dim=(1, 3, 224, 224))\n",
    "\n",
    "# add first group for all layers and remove the input and final layers\n",
    "ks_widget.add_group(\n",
    "    init_start_sparsity=0.05, init_final_sparsity=0.85, init_enabled=True,\n",
    "    init_start_epoch=0.0, init_end_epoch=30.0, init_update_frequency=1.0\n",
    ")\n",
    "ks_modifiers[0].layers.pop(0)\n",
    "ks_modifiers[0].layers.pop()\n",
    "ks_widget.update_from_modifiers()\n",
    "\n",
    "# add second group with just the final layer to set a lower sparsity for it\n",
    "ks_widget.add_group(\n",
    "    init_start_sparsity=0.05, init_final_sparsity=0.6, init_enabled=True,\n",
    "    init_start_epoch=0.0, init_end_epoch=30.0, init_update_frequency=1.0\n",
    ")\n",
    "ks_modifiers[1].layers = ks_modifiers[1].layers[-1:]\n",
    "ks_widget.update_from_modifiers()\n",
    "\n",
    "display(ks_widget)\n"
   ]
  },
  {
   "cell_type": "markdown",
   "metadata": {},
   "source": [
    "### Learning Rate Selection\n",
    "\n",
    "With our magnitude pruning schedule complete, we need to define the hyperparameters for training while pruning. The most important of these is the learning rate. Too high and we will diverge from our initial dense solution. Too low and we will have to train for too many epochs. Below we run a learning rate sensitivity analysis from the [cyclic LR paper](https://arxiv.org/abs/1506.01186).\n",
    "\n",
    "To run the sensitivity analysis we will begin training the model at a very small learning rate ($10^{-7}$) where the weight updates will be lost in floating point precision errors (ie we won't learn). After each batch we exponentially increase the learning rate until we reach a very high learning rate ($10^0$) where we are guaranteed to diverge from our trained model.\n",
    "\n",
    "A flat region will be apparent in the graph starting from the left to some point at the right for a fully trained model. After this we reach a critical learning rate where the loss begins to rapidly rise. This is the critical point where we begin diverging from the local minimum in our optimization space. Using this information, we can find the optimal learning rate to use with an [SGD + nesterov momentum optimizer](https://towardsdatascience.com/stochastic-gradient-descent-with-momentum-a84097641a5d) while pruning. Ideally we want to pick a learning rate that is a little before the divergent behavior. In this way we can guarantee fast convergence of the model after each pruning step. \n",
    "\n",
    "A good default for the learning rate is given for the model and dataset used in this notebook. If changing either, you will need to update the learning rate."
   ]
  },
  {
   "cell_type": "code",
   "execution_count": 6,
   "metadata": {},
   "outputs": [
    {
     "name": "stdout",
     "output_type": "stream",
     "text": [
      "\n",
      "select the learning rate\n"
     ]
    },
    {
     "data": {
      "application/vnd.jupyter.widget-view+json": {
       "model_id": "a94aadc08d954442894f9d94f514f1eb",
       "version_major": 2,
       "version_minor": 0
      },
      "text/plain": [
       "FloatLogSlider(value=0.01, description='Learning Rate:', max=1.0, min=-7.0, step=0.01)"
      ]
     },
     "metadata": {},
     "output_type": "display_data"
    }
   ],
   "source": [
    "import torch\n",
    "from neuralmagicML.utils import lr_analysis, lr_analysis_figure, CrossEntropyLossWrapper\n",
    "%matplotlib inline\n",
    "import matplotlib.pyplot as plt\n",
    "\n",
    "### optimizer definitions\n",
    "momentum = 0.9\n",
    "weight_decay = 1e-4\n",
    "###\n",
    "\n",
    "# print('\\nrunning learning rate analysis...')\n",
    "# batches_per_sample = round(500 / train_batch_size)  # make sure we have enough sample points per learning rate\n",
    "# analysis = lr_analysis(model, device, train_data_loader, CrossEntropyLossWrapper(), batches_per_sample,\n",
    "#                        init_lr=1e-7, final_lr=1e0, sgd_momentum=momentum, sgd_weight_decay=weight_decay)\n",
    "# lr_analysis_figure(analysis)\n",
    "# plt.show()\n",
    "\n",
    "print('\\nselect the learning rate')\n",
    "lr_slider = widgets.FloatLogSlider(\n",
    "    value=0.01, min=-7, max=1, step=0.01, description='Learning Rate:'\n",
    ")\n",
    "display(lr_slider)\n"
   ]
  },
  {
   "cell_type": "markdown",
   "metadata": {},
   "source": [
    "### Post Pruning Hyperparameters\n",
    "\n",
    "After pruning the model, we'll need to train for a few final epochs to recover any lost accuracy. A typical setup is to train with an [exponential decay learning rate](https://towardsdatascience.com/learning-rate-schedules-and-adaptive-learning-rate-methods-for-deep-learning-2c8f433990d1) schedule starting from our previously found learning rate: $LR_i=LR_{init}*\\gamma^i$ where $LR_i$ is the learning rate used at epoch $i$. In doing this, we can find a local min with equivalent accuracy to the dense model provided we did not sparsify the model too much.\n",
    "\n",
    "Given this, the necessary hyperparameters to determine are:\n",
    "- Num Epochs - the number of epochs to train for in the finalizing stage\n",
    "- Final LR - the learning rate we will converge to while finalizing\n",
    "\n",
    "These parameters must be filled in below. We give defaults for the original model and dataset in this notebook. The defaults were found using previous intuition along with a few training runs. In general if accuracy is not recovering, then training for longer overall as well for longer times at higher learning rates (increasing update freq) will help."
   ]
  },
  {
   "cell_type": "code",
   "execution_count": 7,
   "metadata": {},
   "outputs": [
    {
     "name": "stdout",
     "output_type": "stream",
     "text": [
      "\n",
      "select the number of epochs to train for after pruning\n"
     ]
    },
    {
     "data": {
      "application/vnd.jupyter.widget-view+json": {
       "model_id": "20e269156f3443c89856a6c0a5856dfb",
       "version_major": 2,
       "version_minor": 0
      },
      "text/plain": [
       "IntText(value=30, description='Num Epochs')"
      ]
     },
     "metadata": {},
     "output_type": "display_data"
    },
    {
     "name": "stdout",
     "output_type": "stream",
     "text": [
      "\n",
      "select the final learning rate\n"
     ]
    },
    {
     "data": {
      "application/vnd.jupyter.widget-view+json": {
       "model_id": "fbb73fbe964b463a90a6a5b2b66219d0",
       "version_major": 2,
       "version_minor": 0
      },
      "text/plain": [
       "FloatLogSlider(value=0.001, description='Final LR:', max=1.0, min=-7.0, step=0.01)"
      ]
     },
     "metadata": {},
     "output_type": "display_data"
    }
   ],
   "source": [
    "print('\\nselect the number of epochs to train for after pruning')\n",
    "finalize_epochs_text = widgets.IntText(value=30, description='Num Epochs')\n",
    "display(finalize_epochs_text)\n",
    "\n",
    "print('\\nselect the final learning rate')\n",
    "lr_final_slider = widgets.FloatLogSlider(\n",
    "    value=0.001, min=-7, max=1, step=0.01, description='Final LR:'\n",
    ")\n",
    "display(lr_final_slider)\n"
   ]
  },
  {
   "cell_type": "markdown",
   "metadata": {},
   "source": [
    "## Recalibration Using Pruning\n",
    "\n",
    "With the parameters properly setup, we now create a schedule for applying the parameters. This is done using the Neural Magic ML library. Specifically we create a `ScheduledModifierManager` that controls a list of two different classes: `GradualKSModifier` which performs magnitude pruning to the weights in the given layers and `LearningRateModifier` which applies the exponential learning rate in the training epochs after pruning.\n",
    "\n",
    "We then create a `ScheduledOptimizer` giving it the model, an SGD optimizer, the `ScheduledModifierManager` we created, and the training datset size. Using all this information, the code can apply any schedule needed by capturing the `.step()` call, perform schedule updates, and then calling into the original optimizer. Additionally `epoch_start()` and `epoch_end()` should be called on the optimizer wrapper while training. We will see this use in the next code block. \n",
    "\n",
    "For the loss function we will use cross entropy as is standard for classification tasks. For additional metrics we will use the top 1 accuracy, ie did we predict the class correctly or not. We do this because there are only 10 classes available so top N accuracy is generally uninformative with so few classes. We use a custom wrapper class to organize the metrics and loss into one, callable class.\n",
    "\n",
    "Finally, beyond the usual basic screen-printouts let's use tensorboard's nice logging capabilities. We'll primarily track scalars such as the loss and accuracy throughout training in this example. We use tensorboardX to log from pytorch into tensorboard.\n"
   ]
  },
  {
   "cell_type": "code",
   "execution_count": 8,
   "metadata": {},
   "outputs": [
    {
     "name": "stdout",
     "output_type": "stream",
     "text": [
      "Created ScheduledModifierManager with exponential lr_modifier with gamma 0.9744600632908477 and 2 ks modifiers\n",
      "\n",
      "Created scheudled optimizer with initial lr: 0.01, momentum: 0.9, weight decay: 0.0001\n",
      "\n",
      "Created loss wrapper\n",
      "CrossEntropyLossWrapper(Loss: cross_entropy; Extras: TopKAccuracy)\n",
      "\n",
      "Created summary writer logging to \n",
      "/home/mark/neuralmagic/Shared/neuralmagicml-pytorch/notebooks/model_training_logs/ResNet-2019.08.11.11.59.07\n"
     ]
    }
   ],
   "source": [
    "import math\n",
    "from torch import optim\n",
    "from torch.nn import Conv2d, Linear\n",
    "from tensorboardX import SummaryWriter\n",
    "\n",
    "from neuralmagicML.sparsity import (\n",
    "    LearningRateModifier, ScheduledModifierManager, ScheduledOptimizer, KSAnalyzerLayer\n",
    ")\n",
    "from neuralmagicML.utils import TopKAccuracy, CrossEntropyLossWrapper\n",
    "\n",
    "\n",
    "model = model.to(device)\n",
    "\n",
    "prune_epochs = max([modifier.end_epoch for modifier in ks_modifiers])\n",
    "finalizer_epochs = finalize_epochs_text.value\n",
    "lr_init = lr_slider.value\n",
    "lr_final = lr_final_slider.value\n",
    "lr_gamma = (lr_final / lr_init) ** (1 / (finalizer_epochs - 1))\n",
    "lr_modifier = LearningRateModifier(lr_class='ExponentialLR', lr_kwargs={'gamma': lr_gamma},\n",
    "                                   start_epoch=prune_epochs, end_epoch=prune_epochs + finalizer_epochs,\n",
    "                                   update_frequency=1)\n",
    "modifier_manager = ScheduledModifierManager([lr_modifier, *ks_modifiers])\n",
    "print('Created ScheduledModifierManager with exponential lr_modifier with gamma {} and {} ks modifiers'\n",
    "      .format(lr_gamma, len(ks_modifiers)))\n",
    "\n",
    "optimizer = optim.SGD(model.parameters(), lr_slider.value, momentum=momentum,\n",
    "                      weight_decay=weight_decay, nesterov=True)\n",
    "optimizer = ScheduledOptimizer(optimizer, model, modifier_manager, steps_per_epoch=len(train_dataset))\n",
    "print('\\nCreated scheudled optimizer with initial lr: {}, momentum: {}, weight decay: {}'\n",
    "      .format(lr_slider.value, momentum, weight_decay))\n",
    "\n",
    "loss = CrossEntropyLossWrapper(extras={'top1acc': TopKAccuracy(1)})\n",
    "print('\\nCreated loss wrapper\\n{}'.format(loss))\n",
    "\n",
    "logs_dir = os.path.abspath(os.path.expanduser(os.path.join('.', 'model_training_logs', model_id)))\n",
    "\n",
    "if not os.path.exists(logs_dir):\n",
    "    os.makedirs(logs_dir)\n",
    "\n",
    "writer = SummaryWriter(logdir=logs_dir, comment='imagenette training')\n",
    "print('\\nCreated summary writer logging to \\n{}'.format(logs_dir))\n"
   ]
  },
  {
   "cell_type": "markdown",
   "metadata": {},
   "source": [
    "### Applying Pruning Schedule\n",
    "\n",
    "Below we go through a standard training and testing cycle in pytorch. \n",
    "\n",
    "for number of epochs required for pruning and finalizing:\n",
    "train model over full training dataset (one epoch); update weights\n",
    "test model over full validation dataset; no weight update\n",
    "test model over sampled training dataset; no weight update\n",
    "\n",
    "In the below code blocks, we create self-contained convenience functions for running the train and testing loops. These convenience functions are then called to train the model. At the end of the script we save the trained model in our current location with the date included as well as the final validation accuracy in the name.\n",
    "\n",
    "Note, we have additionally created a logs directory which, in combination with tensorboard, can be used to visualize the progress of the model. To launch tensorboard use the following command from within the notebooks directory: 'tensorboard --logdir model_training_logs --port 6006' Now you will have an interactive dashboard running on http://localhost:6006\n",
    "\n",
    "We additionally create analyzers for the kernel sparsity of all convs and kernel layers that is logged to tensorboard for visualization of the sparsity of each layer within the model. Also, we call `epoch_start()` and `epoch_end()` on the optimizer wrapper as mentioned above.\n",
    "\n",
    "Finally, we save the final result next to this notebook under the model id given earlier. Happy pruning!\n"
   ]
  },
  {
   "cell_type": "code",
   "execution_count": 9,
   "metadata": {},
   "outputs": [
    {
     "name": "stderr",
     "output_type": "stream",
     "text": [
      "\r",
      "  0%|          | 0/120 [00:00<?, ?it/s]"
     ]
    },
    {
     "name": "stdout",
     "output_type": "stream",
     "text": [
      "Recalibrating model for kernel sparsity...\n",
      "Starting epoch 0\n"
     ]
    },
    {
     "name": "stderr",
     "output_type": "stream",
     "text": [
      "/home/mark/neuralmagic/Shared/neuralmagicml-pytorch/neuralmagicML/sparsity/kernel/mask.py:193: UserWarning: To copy construct from a tensor, it is recommended to use sourceTensor.clone().detach() or sourceTensor.clone().detach().requires_grad_(True), rather than tensor.new_tensor(sourceTensor).\n",
      "  self._mask_tensor = self._param.data.new_tensor(self._mask_tensor)\n",
      "\n",
      "  0%|          | 0/51 [00:00<?, ?it/s]\u001b[A\n",
      "  2%|▏         | 1/51 [00:01<00:51,  1.03s/it]\u001b[A\n",
      "  4%|▍         | 2/51 [00:01<00:42,  1.14it/s]\u001b[A\n",
      "  6%|▌         | 3/51 [00:02<00:36,  1.30it/s]\u001b[A\n",
      "  8%|▊         | 4/51 [00:02<00:32,  1.45it/s]\u001b[A\n",
      " 10%|▉         | 5/51 [00:03<00:29,  1.56it/s]\u001b[A\n",
      " 12%|█▏        | 6/51 [00:03<00:27,  1.66it/s]\u001b[A\n",
      " 14%|█▎        | 7/51 [00:04<00:25,  1.73it/s]\u001b[A\n",
      " 16%|█▌        | 8/51 [00:04<00:24,  1.79it/s]\u001b[A\n",
      " 18%|█▊        | 9/51 [00:05<00:22,  1.83it/s]\u001b[A\n",
      " 20%|█▉        | 10/51 [00:05<00:22,  1.86it/s]\u001b[A\n",
      " 22%|██▏       | 11/51 [00:06<00:21,  1.88it/s]\u001b[A\n",
      " 24%|██▎       | 12/51 [00:06<00:20,  1.89it/s]\u001b[A\n",
      " 25%|██▌       | 13/51 [00:07<00:19,  1.91it/s]\u001b[A\n",
      " 27%|██▋       | 14/51 [00:07<00:19,  1.91it/s]\u001b[A\n",
      " 29%|██▉       | 15/51 [00:08<00:18,  1.92it/s]\u001b[A\n",
      " 31%|███▏      | 16/51 [00:08<00:18,  1.92it/s]\u001b[A\n",
      " 33%|███▎      | 17/51 [00:09<00:17,  1.92it/s]\u001b[A\n",
      " 35%|███▌      | 18/51 [00:09<00:17,  1.93it/s]\u001b[A\n",
      " 37%|███▋      | 19/51 [00:10<00:16,  1.93it/s]\u001b[A\n",
      " 39%|███▉      | 20/51 [00:10<00:16,  1.93it/s]\u001b[A\n",
      " 41%|████      | 21/51 [00:11<00:15,  1.93it/s]\u001b[A\n",
      " 43%|████▎     | 22/51 [00:11<00:15,  1.93it/s]\u001b[A\n",
      " 45%|████▌     | 23/51 [00:12<00:14,  1.93it/s]\u001b[A\n",
      " 47%|████▋     | 24/51 [00:12<00:13,  1.93it/s]\u001b[A\n",
      " 49%|████▉     | 25/51 [00:13<00:13,  1.93it/s]\u001b[A\n",
      " 51%|█████     | 26/51 [00:13<00:12,  1.93it/s]\u001b[A\n",
      " 53%|█████▎    | 27/51 [00:14<00:12,  1.93it/s]\u001b[A\n",
      " 55%|█████▍    | 28/51 [00:15<00:11,  1.93it/s]\u001b[A\n",
      " 57%|█████▋    | 29/51 [00:15<00:11,  1.93it/s]\u001b[A\n",
      " 59%|█████▉    | 30/51 [00:16<00:10,  1.93it/s]\u001b[A\n",
      " 61%|██████    | 31/51 [00:16<00:10,  1.93it/s]\u001b[A\n",
      " 63%|██████▎   | 32/51 [00:17<00:09,  1.92it/s]\u001b[A\n",
      " 65%|██████▍   | 33/51 [00:17<00:09,  1.92it/s]\u001b[A\n",
      " 67%|██████▋   | 34/51 [00:18<00:08,  1.92it/s]\u001b[A\n",
      " 69%|██████▊   | 35/51 [00:18<00:08,  1.92it/s]\u001b[A\n",
      " 71%|███████   | 36/51 [00:19<00:07,  1.92it/s]\u001b[A\n",
      " 73%|███████▎  | 37/51 [00:19<00:07,  1.92it/s]\u001b[A\n",
      " 75%|███████▍  | 38/51 [00:20<00:06,  1.92it/s]\u001b[A\n",
      " 76%|███████▋  | 39/51 [00:20<00:06,  1.92it/s]\u001b[A\n",
      " 78%|███████▊  | 40/51 [00:21<00:05,  1.92it/s]\u001b[A\n",
      " 80%|████████  | 41/51 [00:21<00:05,  1.92it/s]\u001b[A\n",
      " 82%|████████▏ | 42/51 [00:22<00:04,  1.92it/s]\u001b[A\n",
      " 84%|████████▍ | 43/51 [00:22<00:04,  1.92it/s]\u001b[A\n",
      " 86%|████████▋ | 44/51 [00:23<00:03,  1.92it/s]\u001b[A\n",
      " 88%|████████▊ | 45/51 [00:23<00:03,  1.92it/s]\u001b[A\n",
      " 90%|█████████ | 46/51 [00:24<00:02,  1.92it/s]\u001b[A\n",
      " 92%|█████████▏| 47/51 [00:24<00:02,  1.92it/s]\u001b[A\n",
      " 94%|█████████▍| 48/51 [00:25<00:01,  1.92it/s]\u001b[A\n",
      " 96%|█████████▌| 49/51 [00:25<00:01,  1.92it/s]\u001b[A\n",
      " 98%|█████████▊| 50/51 [00:26<00:00,  1.92it/s]\u001b[A\n",
      "100%|██████████| 51/51 [00:26<00:00,  2.34it/s]\u001b[A\n",
      "  0%|          | 0/2 [00:00<?, ?it/s]\u001b[A"
     ]
    },
    {
     "name": "stdout",
     "output_type": "stream",
     "text": [
      "Completed training for epoch 0, testing validation dataset\n"
     ]
    },
    {
     "name": "stderr",
     "output_type": "stream",
     "text": [
      "\n",
      " 50%|█████     | 1/2 [00:00<00:00,  1.66it/s]\u001b[A\n",
      "100%|██████████| 2/2 [00:00<00:00,  2.14it/s]\u001b[A\n",
      "  0%|          | 0/2 [00:00<?, ?it/s]\u001b[A"
     ]
    },
    {
     "name": "stdout",
     "output_type": "stream",
     "text": [
      "loss: 0.40830186009407043\n",
      "top1acc: 88.1999282836914\n",
      "Completed testing validation dataset for epoch 0, testing training dataset\n"
     ]
    },
    {
     "name": "stderr",
     "output_type": "stream",
     "text": [
      "\n",
      " 50%|█████     | 1/2 [00:00<00:00,  1.76it/s]\u001b[A\n",
      "  1%|          | 1/120 [00:28<56:56, 28.71s/it]A\n",
      "  0%|          | 0/51 [00:00<?, ?it/s]"
     ]
    },
    {
     "name": "stdout",
     "output_type": "stream",
     "text": [
      "loss: 0.2600196897983551\n",
      "top1acc: 91.59994506835938\n",
      "Completed testing training dataset for epoch 0\n",
      "Starting epoch 1\n"
     ]
    },
    {
     "name": "stderr",
     "output_type": "stream",
     "text": [
      "\u001b[A\n",
      "  2%|▏         | 1/51 [00:01<00:50,  1.00s/it]\u001b[A\n",
      "  4%|▍         | 2/51 [00:01<00:42,  1.16it/s]\u001b[A\n",
      "  6%|▌         | 3/51 [00:02<00:36,  1.32it/s]\u001b[A\n",
      "  8%|▊         | 4/51 [00:02<00:32,  1.45it/s]\u001b[A\n",
      " 10%|▉         | 5/51 [00:03<00:29,  1.57it/s]\u001b[A\n",
      " 12%|█▏        | 6/51 [00:03<00:27,  1.66it/s]\u001b[A\n",
      " 14%|█▎        | 7/51 [00:04<00:25,  1.73it/s]\u001b[A\n",
      " 16%|█▌        | 8/51 [00:04<00:24,  1.78it/s]\u001b[A\n",
      " 18%|█▊        | 9/51 [00:05<00:23,  1.82it/s]\u001b[A\n",
      " 20%|█▉        | 10/51 [00:05<00:22,  1.85it/s]\u001b[A\n",
      " 22%|██▏       | 11/51 [00:06<00:21,  1.87it/s]\u001b[A\n",
      " 24%|██▎       | 12/51 [00:06<00:20,  1.88it/s]\u001b[A\n",
      " 25%|██▌       | 13/51 [00:07<00:20,  1.89it/s]\u001b[A\n",
      " 27%|██▋       | 14/51 [00:07<00:19,  1.90it/s]\u001b[A\n",
      " 29%|██▉       | 15/51 [00:08<00:18,  1.90it/s]\u001b[A\n",
      " 31%|███▏      | 16/51 [00:08<00:18,  1.90it/s]\u001b[A\n",
      " 33%|███▎      | 17/51 [00:09<00:17,  1.90it/s]\u001b[A\n",
      " 35%|███▌      | 18/51 [00:09<00:17,  1.91it/s]\u001b[A\n",
      " 37%|███▋      | 19/51 [00:10<00:16,  1.91it/s]\u001b[A\n",
      " 39%|███▉      | 20/51 [00:10<00:16,  1.90it/s]\u001b[A\n",
      " 41%|████      | 21/51 [00:11<00:15,  1.90it/s]\u001b[A\n",
      " 43%|████▎     | 22/51 [00:11<00:15,  1.91it/s]\u001b[A\n",
      " 45%|████▌     | 23/51 [00:12<00:14,  1.91it/s]\u001b[A\n",
      " 47%|████▋     | 24/51 [00:13<00:14,  1.91it/s]\u001b[A\n",
      " 49%|████▉     | 25/51 [00:13<00:13,  1.91it/s]\u001b[A\n",
      " 51%|█████     | 26/51 [00:14<00:13,  1.91it/s]\u001b[A\n",
      " 53%|█████▎    | 27/51 [00:14<00:12,  1.91it/s]\u001b[A\n",
      " 55%|█████▍    | 28/51 [00:15<00:12,  1.91it/s]\u001b[A\n",
      " 57%|█████▋    | 29/51 [00:15<00:11,  1.91it/s]\u001b[A\n",
      " 59%|█████▉    | 30/51 [00:16<00:10,  1.91it/s]\u001b[A\n",
      " 61%|██████    | 31/51 [00:16<00:10,  1.91it/s]\u001b[A\n",
      " 63%|██████▎   | 32/51 [00:17<00:09,  1.91it/s]\u001b[A\n",
      " 65%|██████▍   | 33/51 [00:17<00:09,  1.91it/s]\u001b[A\n",
      " 67%|██████▋   | 34/51 [00:18<00:08,  1.91it/s]\u001b[A\n",
      " 69%|██████▊   | 35/51 [00:18<00:08,  1.91it/s]\u001b[A\n",
      " 71%|███████   | 36/51 [00:19<00:07,  1.91it/s]\u001b[A\n",
      " 73%|███████▎  | 37/51 [00:19<00:07,  1.90it/s]\u001b[A\n",
      " 75%|███████▍  | 38/51 [00:20<00:06,  1.90it/s]\u001b[A\n",
      " 76%|███████▋  | 39/51 [00:20<00:06,  1.91it/s]\u001b[A\n",
      " 78%|███████▊  | 40/51 [00:21<00:05,  1.91it/s]\u001b[A\n",
      " 80%|████████  | 41/51 [00:21<00:05,  1.90it/s]\u001b[A\n",
      " 82%|████████▏ | 42/51 [00:22<00:04,  1.90it/s]\u001b[A\n",
      " 84%|████████▍ | 43/51 [00:22<00:04,  1.90it/s]\u001b[A\n",
      " 86%|████████▋ | 44/51 [00:23<00:03,  1.91it/s]\u001b[A\n",
      " 88%|████████▊ | 45/51 [00:24<00:03,  1.90it/s]\u001b[A\n",
      " 90%|█████████ | 46/51 [00:24<00:02,  1.90it/s]\u001b[A\n",
      " 92%|█████████▏| 47/51 [00:25<00:02,  1.90it/s]\u001b[A\n",
      " 94%|█████████▍| 48/51 [00:25<00:01,  1.90it/s]\u001b[A\n",
      " 96%|█████████▌| 49/51 [00:26<00:01,  1.91it/s]\u001b[A\n",
      " 98%|█████████▊| 50/51 [00:26<00:00,  1.91it/s]\u001b[A\n",
      "100%|██████████| 51/51 [00:26<00:00,  2.32it/s]\u001b[A\n",
      "  0%|          | 0/2 [00:00<?, ?it/s]\u001b[A"
     ]
    },
    {
     "name": "stdout",
     "output_type": "stream",
     "text": [
      "Completed training for epoch 1, testing validation dataset\n"
     ]
    },
    {
     "name": "stderr",
     "output_type": "stream",
     "text": [
      "\n",
      " 50%|█████     | 1/2 [00:00<00:00,  1.66it/s]\u001b[A\n",
      "100%|██████████| 2/2 [00:00<00:00,  2.14it/s]\u001b[A\n",
      "  0%|          | 0/2 [00:00<?, ?it/s]\u001b[A"
     ]
    },
    {
     "name": "stdout",
     "output_type": "stream",
     "text": [
      "loss: 0.3848629891872406\n",
      "top1acc: 88.19993591308594\n",
      "Completed testing validation dataset for epoch 1, testing training dataset\n"
     ]
    },
    {
     "name": "stderr",
     "output_type": "stream",
     "text": [
      "\n",
      " 50%|█████     | 1/2 [00:00<00:00,  1.70it/s]\u001b[A\n",
      "  2%|▏         | 2/120 [00:57<56:30, 28.73s/it]A"
     ]
    },
    {
     "name": "stdout",
     "output_type": "stream",
     "text": [
      "loss: 0.24593403935432434\n",
      "top1acc: 91.99991607666016\n",
      "Completed testing training dataset for epoch 1\n",
      "Starting epoch 2\n"
     ]
    },
    {
     "name": "stderr",
     "output_type": "stream",
     "text": [
      "\n",
      "  0%|          | 0/51 [00:00<?, ?it/s]\u001b[A\n",
      "  2%|▏         | 1/51 [00:01<00:51,  1.04s/it]\u001b[A\n",
      "  4%|▍         | 2/51 [00:01<00:43,  1.13it/s]\u001b[A\n",
      "  6%|▌         | 3/51 [00:02<00:37,  1.29it/s]\u001b[A\n",
      "  8%|▊         | 4/51 [00:02<00:32,  1.43it/s]\u001b[A\n",
      " 10%|▉         | 5/51 [00:03<00:29,  1.54it/s]\u001b[A\n",
      " 12%|█▏        | 6/51 [00:03<00:27,  1.64it/s]\u001b[A\n",
      " 14%|█▎        | 7/51 [00:04<00:25,  1.71it/s]\u001b[A\n",
      " 16%|█▌        | 8/51 [00:04<00:24,  1.77it/s]\u001b[A\n",
      " 18%|█▊        | 9/51 [00:05<00:23,  1.81it/s]\u001b[A\n",
      " 20%|█▉        | 10/51 [00:05<00:22,  1.83it/s]\u001b[A\n",
      " 22%|██▏       | 11/51 [00:06<00:21,  1.86it/s]\u001b[A\n",
      " 24%|██▎       | 12/51 [00:06<00:20,  1.87it/s]\u001b[A\n",
      " 25%|██▌       | 13/51 [00:07<00:20,  1.88it/s]\u001b[A\n",
      " 27%|██▋       | 14/51 [00:07<00:19,  1.89it/s]\u001b[A\n",
      " 29%|██▉       | 15/51 [00:08<00:19,  1.89it/s]\u001b[A\n",
      " 31%|███▏      | 16/51 [00:08<00:18,  1.90it/s]\u001b[A\n",
      " 33%|███▎      | 17/51 [00:09<00:17,  1.89it/s]\u001b[A\n",
      " 35%|███▌      | 18/51 [00:09<00:17,  1.89it/s]\u001b[A\n",
      " 37%|███▋      | 19/51 [00:10<00:16,  1.90it/s]\u001b[A\n",
      " 39%|███▉      | 20/51 [00:11<00:16,  1.90it/s]\u001b[A\n",
      " 41%|████      | 21/51 [00:11<00:15,  1.90it/s]\u001b[A\n",
      " 43%|████▎     | 22/51 [00:12<00:15,  1.90it/s]\u001b[A\n",
      " 45%|████▌     | 23/51 [00:12<00:14,  1.90it/s]\u001b[A\n",
      " 47%|████▋     | 24/51 [00:13<00:14,  1.90it/s]\u001b[A\n",
      " 49%|████▉     | 25/51 [00:13<00:13,  1.90it/s]\u001b[A\n",
      " 51%|█████     | 26/51 [00:14<00:13,  1.89it/s]\u001b[A\n",
      " 53%|█████▎    | 27/51 [00:14<00:12,  1.90it/s]\u001b[A\n",
      " 55%|█████▍    | 28/51 [00:15<00:12,  1.90it/s]\u001b[A\n",
      " 57%|█████▋    | 29/51 [00:15<00:11,  1.90it/s]\u001b[A\n",
      " 59%|█████▉    | 30/51 [00:16<00:11,  1.90it/s]\u001b[A\n",
      " 61%|██████    | 31/51 [00:16<00:10,  1.90it/s]\u001b[A\n",
      " 63%|██████▎   | 32/51 [00:17<00:09,  1.90it/s]\u001b[A\n",
      " 65%|██████▍   | 33/51 [00:17<00:09,  1.90it/s]\u001b[A\n",
      " 67%|██████▋   | 34/51 [00:18<00:08,  1.90it/s]\u001b[A\n",
      " 69%|██████▊   | 35/51 [00:18<00:08,  1.90it/s]\u001b[A\n",
      " 71%|███████   | 36/51 [00:19<00:07,  1.90it/s]\u001b[A\n",
      " 73%|███████▎  | 37/51 [00:19<00:07,  1.90it/s]\u001b[A\n",
      " 75%|███████▍  | 38/51 [00:20<00:06,  1.90it/s]\u001b[A\n",
      " 76%|███████▋  | 39/51 [00:21<00:06,  1.90it/s]\u001b[A\n",
      " 78%|███████▊  | 40/51 [00:21<00:05,  1.90it/s]\u001b[A\n",
      " 80%|████████  | 41/51 [00:22<00:05,  1.90it/s]\u001b[A\n",
      " 82%|████████▏ | 42/51 [00:22<00:04,  1.90it/s]\u001b[A\n",
      " 84%|████████▍ | 43/51 [00:23<00:04,  1.90it/s]\u001b[A\n",
      " 86%|████████▋ | 44/51 [00:23<00:03,  1.90it/s]\u001b[A\n",
      " 88%|████████▊ | 45/51 [00:24<00:03,  1.90it/s]\u001b[A\n",
      " 90%|█████████ | 46/51 [00:24<00:02,  1.90it/s]\u001b[A\n",
      " 92%|█████████▏| 47/51 [00:25<00:02,  1.90it/s]\u001b[A\n",
      " 94%|█████████▍| 48/51 [00:25<00:01,  1.90it/s]\u001b[A\n",
      " 96%|█████████▌| 49/51 [00:26<00:01,  1.90it/s]\u001b[A\n",
      " 98%|█████████▊| 50/51 [00:26<00:00,  1.90it/s]\u001b[A\n",
      "100%|██████████| 51/51 [00:27<00:00,  2.32it/s]\u001b[A\n",
      "  0%|          | 0/2 [00:00<?, ?it/s]\u001b[A"
     ]
    },
    {
     "name": "stdout",
     "output_type": "stream",
     "text": [
      "Completed training for epoch 2, testing validation dataset\n"
     ]
    },
    {
     "name": "stderr",
     "output_type": "stream",
     "text": [
      "\n",
      " 50%|█████     | 1/2 [00:00<00:00,  1.68it/s]\u001b[A\n",
      "100%|██████████| 2/2 [00:00<00:00,  2.16it/s]\u001b[A\n",
      "  0%|          | 0/2 [00:00<?, ?it/s]\u001b[A"
     ]
    },
    {
     "name": "stdout",
     "output_type": "stream",
     "text": [
      "loss: 0.42813313007354736\n",
      "top1acc: 87.2000732421875\n",
      "Completed testing validation dataset for epoch 2, testing training dataset\n"
     ]
    },
    {
     "name": "stderr",
     "output_type": "stream",
     "text": [
      "\n",
      " 50%|█████     | 1/2 [00:00<00:00,  1.69it/s]\u001b[A\n",
      "  2%|▎         | 3/120 [01:26<56:08, 28.79s/it]A"
     ]
    },
    {
     "name": "stdout",
     "output_type": "stream",
     "text": [
      "loss: 0.3073204755783081\n",
      "top1acc: 89.40003967285156\n",
      "Completed testing training dataset for epoch 2\n",
      "Starting epoch 3\n"
     ]
    },
    {
     "name": "stderr",
     "output_type": "stream",
     "text": [
      "\n",
      "  0%|          | 0/51 [00:00<?, ?it/s]\u001b[A\n",
      "  2%|▏         | 1/51 [00:01<00:52,  1.05s/it]\u001b[A\n",
      "  4%|▍         | 2/51 [00:01<00:43,  1.12it/s]\u001b[A\n",
      "  6%|▌         | 3/51 [00:02<00:37,  1.28it/s]\u001b[A\n",
      "  8%|▊         | 4/51 [00:02<00:33,  1.42it/s]\u001b[A\n",
      " 10%|▉         | 5/51 [00:03<00:30,  1.53it/s]\u001b[A\n",
      " 12%|█▏        | 6/51 [00:03<00:27,  1.63it/s]\u001b[A\n",
      " 14%|█▎        | 7/51 [00:04<00:25,  1.70it/s]\u001b[A\n",
      " 16%|█▌        | 8/51 [00:04<00:24,  1.76it/s]\u001b[A\n",
      " 18%|█▊        | 9/51 [00:05<00:23,  1.80it/s]\u001b[A\n",
      " 20%|█▉        | 10/51 [00:05<00:22,  1.83it/s]\u001b[A\n",
      " 22%|██▏       | 11/51 [00:06<00:21,  1.85it/s]\u001b[A\n",
      " 24%|██▎       | 12/51 [00:06<00:20,  1.86it/s]\u001b[A\n",
      " 25%|██▌       | 13/51 [00:07<00:20,  1.87it/s]\u001b[A\n",
      " 27%|██▋       | 14/51 [00:07<00:19,  1.87it/s]\u001b[A\n",
      " 29%|██▉       | 15/51 [00:08<00:19,  1.88it/s]\u001b[A\n",
      " 31%|███▏      | 16/51 [00:08<00:18,  1.88it/s]\u001b[A\n",
      " 33%|███▎      | 17/51 [00:09<00:18,  1.89it/s]\u001b[A\n",
      " 35%|███▌      | 18/51 [00:10<00:17,  1.89it/s]\u001b[A\n",
      " 37%|███▋      | 19/51 [00:10<00:16,  1.89it/s]\u001b[A\n",
      " 39%|███▉      | 20/51 [00:11<00:16,  1.90it/s]\u001b[A\n",
      " 41%|████      | 21/51 [00:11<00:15,  1.90it/s]\u001b[A\n",
      " 43%|████▎     | 22/51 [00:12<00:15,  1.90it/s]\u001b[A\n",
      " 45%|████▌     | 23/51 [00:12<00:14,  1.90it/s]\u001b[A\n",
      " 47%|████▋     | 24/51 [00:13<00:14,  1.90it/s]\u001b[A\n",
      " 49%|████▉     | 25/51 [00:13<00:13,  1.90it/s]\u001b[A\n",
      " 51%|█████     | 26/51 [00:14<00:13,  1.90it/s]\u001b[A\n",
      " 53%|█████▎    | 27/51 [00:14<00:12,  1.90it/s]\u001b[A\n",
      " 55%|█████▍    | 28/51 [00:15<00:12,  1.90it/s]\u001b[A\n",
      " 57%|█████▋    | 29/51 [00:15<00:11,  1.90it/s]\u001b[A\n",
      " 59%|█████▉    | 30/51 [00:16<00:11,  1.90it/s]\u001b[A\n",
      " 61%|██████    | 31/51 [00:16<00:10,  1.90it/s]\u001b[A\n",
      " 63%|██████▎   | 32/51 [00:17<00:10,  1.90it/s]\u001b[A\n",
      " 65%|██████▍   | 33/51 [00:17<00:09,  1.90it/s]\u001b[A\n",
      " 67%|██████▋   | 34/51 [00:18<00:08,  1.90it/s]\u001b[A\n",
      " 69%|██████▊   | 35/51 [00:18<00:08,  1.90it/s]\u001b[A\n",
      " 71%|███████   | 36/51 [00:19<00:07,  1.90it/s]\u001b[A\n",
      " 73%|███████▎  | 37/51 [00:20<00:07,  1.90it/s]\u001b[A\n",
      " 75%|███████▍  | 38/51 [00:20<00:06,  1.90it/s]\u001b[A\n",
      " 76%|███████▋  | 39/51 [00:21<00:06,  1.90it/s]\u001b[A\n",
      " 78%|███████▊  | 40/51 [00:21<00:05,  1.90it/s]\u001b[A\n",
      " 80%|████████  | 41/51 [00:22<00:05,  1.90it/s]\u001b[A\n",
      " 82%|████████▏ | 42/51 [00:22<00:04,  1.90it/s]\u001b[A\n",
      " 84%|████████▍ | 43/51 [00:23<00:04,  1.90it/s]\u001b[A\n",
      " 86%|████████▋ | 44/51 [00:23<00:03,  1.89it/s]\u001b[A\n",
      " 88%|████████▊ | 45/51 [00:24<00:03,  1.90it/s]\u001b[A\n",
      " 90%|█████████ | 46/51 [00:24<00:02,  1.90it/s]\u001b[A\n",
      " 92%|█████████▏| 47/51 [00:25<00:02,  1.90it/s]\u001b[A\n",
      " 94%|█████████▍| 48/51 [00:25<00:01,  1.90it/s]\u001b[A\n",
      " 96%|█████████▌| 49/51 [00:26<00:01,  1.90it/s]\u001b[A\n",
      " 98%|█████████▊| 50/51 [00:26<00:00,  1.89it/s]\u001b[A\n",
      "100%|██████████| 51/51 [00:27<00:00,  2.31it/s]\u001b[A\n",
      "  0%|          | 0/2 [00:00<?, ?it/s]\u001b[A"
     ]
    },
    {
     "name": "stdout",
     "output_type": "stream",
     "text": [
      "Completed training for epoch 3, testing validation dataset\n"
     ]
    },
    {
     "name": "stderr",
     "output_type": "stream",
     "text": [
      "\n",
      " 50%|█████     | 1/2 [00:00<00:00,  1.69it/s]\u001b[A\n",
      "100%|██████████| 2/2 [00:00<00:00,  2.17it/s]\u001b[A\n",
      "  0%|          | 0/2 [00:00<?, ?it/s]\u001b[A"
     ]
    },
    {
     "name": "stdout",
     "output_type": "stream",
     "text": [
      "loss: 0.39044925570487976\n",
      "top1acc: 88.39994812011719\n",
      "Completed testing validation dataset for epoch 3, testing training dataset\n"
     ]
    },
    {
     "name": "stderr",
     "output_type": "stream",
     "text": [
      "\n",
      " 50%|█████     | 1/2 [00:00<00:00,  1.65it/s]\u001b[A\n",
      "  3%|▎         | 4/120 [01:55<55:48, 28.86s/it]A\n"
     ]
    },
    {
     "name": "stdout",
     "output_type": "stream",
     "text": [
      "loss: 0.23077288269996643\n",
      "top1acc: 92.1999740600586\n",
      "Completed testing training dataset for epoch 3\n",
      "Starting epoch 4\n"
     ]
    },
    {
     "name": "stderr",
     "output_type": "stream",
     "text": [
      "  0%|          | 0/51 [00:00<?, ?it/s]\u001b[A\n",
      "  2%|▏         | 1/51 [00:01<00:50,  1.02s/it]\u001b[A\n",
      "  4%|▍         | 2/51 [00:01<00:42,  1.15it/s]\u001b[A\n",
      "  6%|▌         | 3/51 [00:02<00:37,  1.30it/s]\u001b[A\n",
      "  8%|▊         | 4/51 [00:02<00:32,  1.43it/s]\u001b[A\n",
      " 10%|▉         | 5/51 [00:03<00:29,  1.54it/s]\u001b[A\n",
      " 12%|█▏        | 6/51 [00:03<00:27,  1.63it/s]\u001b[A\n",
      " 14%|█▎        | 7/51 [00:04<00:25,  1.70it/s]\u001b[A\n",
      " 16%|█▌        | 8/51 [00:04<00:24,  1.76it/s]\u001b[A\n",
      " 18%|█▊        | 9/51 [00:05<00:23,  1.80it/s]\u001b[A\n",
      " 20%|█▉        | 10/51 [00:05<00:22,  1.82it/s]\u001b[A\n",
      " 22%|██▏       | 11/51 [00:06<00:21,  1.85it/s]\u001b[A\n",
      " 24%|██▎       | 12/51 [00:06<00:20,  1.86it/s]\u001b[A\n",
      " 25%|██▌       | 13/51 [00:07<00:20,  1.87it/s]\u001b[A\n",
      " 27%|██▋       | 14/51 [00:07<00:19,  1.87it/s]\u001b[A\n",
      " 29%|██▉       | 15/51 [00:08<00:19,  1.87it/s]\u001b[A\n",
      " 31%|███▏      | 16/51 [00:08<00:18,  1.88it/s]\u001b[A\n",
      " 33%|███▎      | 17/51 [00:09<00:18,  1.88it/s]\u001b[A\n",
      " 35%|███▌      | 18/51 [00:10<00:17,  1.89it/s]\u001b[A\n",
      " 37%|███▋      | 19/51 [00:10<00:16,  1.89it/s]\u001b[A\n",
      " 39%|███▉      | 20/51 [00:11<00:16,  1.89it/s]\u001b[A\n",
      " 41%|████      | 21/51 [00:11<00:15,  1.89it/s]\u001b[A\n",
      " 43%|████▎     | 22/51 [00:12<00:15,  1.89it/s]\u001b[A\n",
      " 45%|████▌     | 23/51 [00:12<00:14,  1.89it/s]\u001b[A\n",
      " 47%|████▋     | 24/51 [00:13<00:14,  1.89it/s]\u001b[A\n",
      " 49%|████▉     | 25/51 [00:13<00:13,  1.89it/s]\u001b[A\n",
      " 51%|█████     | 26/51 [00:14<00:13,  1.89it/s]\u001b[A\n",
      " 53%|█████▎    | 27/51 [00:14<00:12,  1.89it/s]\u001b[A\n",
      " 55%|█████▍    | 28/51 [00:15<00:12,  1.89it/s]\u001b[A\n",
      " 57%|█████▋    | 29/51 [00:15<00:11,  1.89it/s]\u001b[A\n",
      " 59%|█████▉    | 30/51 [00:16<00:11,  1.89it/s]\u001b[A\n",
      " 61%|██████    | 31/51 [00:16<00:10,  1.89it/s]\u001b[A\n",
      " 63%|██████▎   | 32/51 [00:17<00:10,  1.89it/s]\u001b[A\n",
      " 65%|██████▍   | 33/51 [00:17<00:09,  1.89it/s]\u001b[A\n",
      " 67%|██████▋   | 34/51 [00:18<00:08,  1.89it/s]\u001b[A\n",
      " 69%|██████▊   | 35/51 [00:19<00:08,  1.89it/s]\u001b[A\n",
      " 71%|███████   | 36/51 [00:19<00:07,  1.89it/s]\u001b[A\n",
      " 73%|███████▎  | 37/51 [00:20<00:07,  1.89it/s]\u001b[A\n",
      " 75%|███████▍  | 38/51 [00:20<00:06,  1.89it/s]\u001b[A\n",
      " 76%|███████▋  | 39/51 [00:21<00:06,  1.89it/s]\u001b[A\n",
      " 78%|███████▊  | 40/51 [00:21<00:05,  1.89it/s]\u001b[A\n",
      " 80%|████████  | 41/51 [00:22<00:05,  1.89it/s]\u001b[A\n",
      " 82%|████████▏ | 42/51 [00:22<00:04,  1.89it/s]\u001b[A\n",
      " 84%|████████▍ | 43/51 [00:23<00:04,  1.89it/s]\u001b[A\n",
      " 86%|████████▋ | 44/51 [00:23<00:03,  1.89it/s]\u001b[A\n",
      " 88%|████████▊ | 45/51 [00:24<00:03,  1.89it/s]\u001b[A\n",
      " 90%|█████████ | 46/51 [00:24<00:02,  1.89it/s]\u001b[A\n",
      " 92%|█████████▏| 47/51 [00:25<00:02,  1.89it/s]\u001b[A\n",
      " 94%|█████████▍| 48/51 [00:25<00:01,  1.89it/s]\u001b[A\n",
      " 96%|█████████▌| 49/51 [00:26<00:01,  1.89it/s]\u001b[A\n",
      " 98%|█████████▊| 50/51 [00:26<00:00,  1.89it/s]\u001b[A\n",
      "100%|██████████| 51/51 [00:27<00:00,  2.31it/s]\u001b[A\n",
      "  0%|          | 0/2 [00:00<?, ?it/s]\u001b[A"
     ]
    },
    {
     "name": "stdout",
     "output_type": "stream",
     "text": [
      "Completed training for epoch 4, testing validation dataset\n"
     ]
    },
    {
     "name": "stderr",
     "output_type": "stream",
     "text": [
      "\n",
      " 50%|█████     | 1/2 [00:00<00:00,  1.64it/s]\u001b[A\n",
      "100%|██████████| 2/2 [00:00<00:00,  2.12it/s]\u001b[A\n",
      "  0%|          | 0/2 [00:00<?, ?it/s]\u001b[A"
     ]
    },
    {
     "name": "stdout",
     "output_type": "stream",
     "text": [
      "loss: 0.45614320039749146\n",
      "top1acc: 88.19993591308594\n",
      "Completed testing validation dataset for epoch 4, testing training dataset\n"
     ]
    },
    {
     "name": "stderr",
     "output_type": "stream",
     "text": [
      "\n",
      " 50%|█████     | 1/2 [00:00<00:00,  1.76it/s]\u001b[A\n",
      "  4%|▍         | 5/120 [02:24<55:25, 28.92s/it]A"
     ]
    },
    {
     "name": "stdout",
     "output_type": "stream",
     "text": [
      "loss: 0.30494895577430725\n",
      "top1acc: 90.20002746582031\n",
      "Completed testing training dataset for epoch 4\n",
      "Starting epoch 5\n"
     ]
    },
    {
     "name": "stderr",
     "output_type": "stream",
     "text": [
      "\n",
      "  0%|          | 0/51 [00:00<?, ?it/s]\u001b[A\n",
      "  2%|▏         | 1/51 [00:01<00:52,  1.05s/it]\u001b[A\n",
      "  4%|▍         | 2/51 [00:01<00:43,  1.12it/s]\u001b[A\n",
      "  6%|▌         | 3/51 [00:02<00:37,  1.28it/s]\u001b[A\n",
      "  8%|▊         | 4/51 [00:02<00:33,  1.42it/s]\u001b[A\n",
      " 10%|▉         | 5/51 [00:03<00:30,  1.53it/s]\u001b[A\n",
      " 12%|█▏        | 6/51 [00:03<00:27,  1.62it/s]\u001b[A\n",
      " 14%|█▎        | 7/51 [00:04<00:25,  1.69it/s]\u001b[A\n",
      " 16%|█▌        | 8/51 [00:04<00:24,  1.75it/s]\u001b[A\n",
      " 18%|█▊        | 9/51 [00:05<00:23,  1.79it/s]\u001b[A\n",
      " 20%|█▉        | 10/51 [00:05<00:22,  1.82it/s]\u001b[A\n",
      " 22%|██▏       | 11/51 [00:06<00:21,  1.84it/s]\u001b[A\n",
      " 24%|██▎       | 12/51 [00:06<00:21,  1.85it/s]\u001b[A\n",
      " 25%|██▌       | 13/51 [00:07<00:20,  1.86it/s]\u001b[A\n",
      " 27%|██▋       | 14/51 [00:07<00:19,  1.87it/s]\u001b[A\n",
      " 29%|██▉       | 15/51 [00:08<00:19,  1.88it/s]\u001b[A\n",
      " 31%|███▏      | 16/51 [00:08<00:18,  1.88it/s]\u001b[A\n",
      " 33%|███▎      | 17/51 [00:09<00:18,  1.88it/s]\u001b[A\n",
      " 35%|███▌      | 18/51 [00:10<00:17,  1.88it/s]\u001b[A\n",
      " 37%|███▋      | 19/51 [00:10<00:16,  1.89it/s]\u001b[A\n",
      " 39%|███▉      | 20/51 [00:11<00:16,  1.89it/s]\u001b[A\n",
      " 41%|████      | 21/51 [00:11<00:15,  1.89it/s]\u001b[A\n",
      " 43%|████▎     | 22/51 [00:12<00:15,  1.89it/s]\u001b[A\n",
      " 45%|████▌     | 23/51 [00:12<00:14,  1.89it/s]\u001b[A\n",
      " 47%|████▋     | 24/51 [00:13<00:14,  1.89it/s]\u001b[A\n",
      " 49%|████▉     | 25/51 [00:13<00:13,  1.89it/s]\u001b[A\n",
      " 51%|█████     | 26/51 [00:14<00:13,  1.89it/s]\u001b[A\n",
      " 53%|█████▎    | 27/51 [00:14<00:12,  1.89it/s]\u001b[A\n",
      " 55%|█████▍    | 28/51 [00:15<00:12,  1.89it/s]\u001b[A\n",
      " 57%|█████▋    | 29/51 [00:15<00:11,  1.89it/s]\u001b[A\n",
      " 59%|█████▉    | 30/51 [00:16<00:11,  1.89it/s]\u001b[A\n",
      " 61%|██████    | 31/51 [00:16<00:10,  1.89it/s]\u001b[A\n",
      " 63%|██████▎   | 32/51 [00:17<00:10,  1.89it/s]\u001b[A\n",
      " 65%|██████▍   | 33/51 [00:17<00:09,  1.89it/s]\u001b[A\n",
      " 67%|██████▋   | 34/51 [00:18<00:09,  1.89it/s]\u001b[A\n",
      " 69%|██████▊   | 35/51 [00:19<00:08,  1.89it/s]\u001b[A\n",
      " 71%|███████   | 36/51 [00:19<00:07,  1.89it/s]\u001b[A\n",
      " 73%|███████▎  | 37/51 [00:20<00:07,  1.89it/s]\u001b[A\n",
      " 75%|███████▍  | 38/51 [00:20<00:06,  1.89it/s]\u001b[A\n",
      " 76%|███████▋  | 39/51 [00:21<00:06,  1.89it/s]\u001b[A\n",
      " 78%|███████▊  | 40/51 [00:21<00:05,  1.89it/s]\u001b[A\n",
      " 80%|████████  | 41/51 [00:22<00:05,  1.89it/s]\u001b[A\n",
      " 82%|████████▏ | 42/51 [00:22<00:04,  1.89it/s]\u001b[A\n",
      " 84%|████████▍ | 43/51 [00:23<00:04,  1.89it/s]\u001b[A\n",
      " 86%|████████▋ | 44/51 [00:23<00:03,  1.89it/s]\u001b[A\n",
      " 88%|████████▊ | 45/51 [00:24<00:03,  1.89it/s]\u001b[A\n",
      " 90%|█████████ | 46/51 [00:24<00:02,  1.89it/s]\u001b[A\n",
      " 92%|█████████▏| 47/51 [00:25<00:02,  1.89it/s]\u001b[A\n",
      " 94%|█████████▍| 48/51 [00:25<00:01,  1.89it/s]\u001b[A\n",
      " 96%|█████████▌| 49/51 [00:26<00:01,  1.89it/s]\u001b[A\n",
      " 98%|█████████▊| 50/51 [00:26<00:00,  1.89it/s]\u001b[A\n",
      "100%|██████████| 51/51 [00:27<00:00,  2.30it/s]\u001b[A\n",
      "  0%|          | 0/2 [00:00<?, ?it/s]\u001b[A"
     ]
    },
    {
     "name": "stdout",
     "output_type": "stream",
     "text": [
      "Completed training for epoch 5, testing validation dataset\n"
     ]
    },
    {
     "name": "stderr",
     "output_type": "stream",
     "text": [
      "\n",
      " 50%|█████     | 1/2 [00:00<00:00,  1.69it/s]\u001b[A\n",
      "100%|██████████| 2/2 [00:00<00:00,  2.17it/s]\u001b[A\n",
      "  0%|          | 0/2 [00:00<?, ?it/s]\u001b[A"
     ]
    },
    {
     "name": "stdout",
     "output_type": "stream",
     "text": [
      "loss: 0.42969316244125366\n",
      "top1acc: 87.00005340576172\n",
      "Completed testing validation dataset for epoch 5, testing training dataset\n"
     ]
    },
    {
     "name": "stderr",
     "output_type": "stream",
     "text": [
      "\n",
      " 50%|█████     | 1/2 [00:00<00:00,  1.66it/s]\u001b[A\n",
      "  5%|▌         | 6/120 [02:53<55:04, 28.99s/it]A"
     ]
    },
    {
     "name": "stdout",
     "output_type": "stream",
     "text": [
      "loss: 0.24472083151340485\n",
      "top1acc: 90.80005645751953\n",
      "Completed testing training dataset for epoch 5\n",
      "Starting epoch 6\n"
     ]
    },
    {
     "name": "stderr",
     "output_type": "stream",
     "text": [
      "\n",
      "  0%|          | 0/51 [00:00<?, ?it/s]\u001b[A\n",
      "  2%|▏         | 1/51 [00:01<00:50,  1.01s/it]\u001b[A\n",
      "  4%|▍         | 2/51 [00:01<00:42,  1.15it/s]\u001b[A\n",
      "  6%|▌         | 3/51 [00:02<00:36,  1.30it/s]\u001b[A\n",
      "  8%|▊         | 4/51 [00:02<00:32,  1.44it/s]\u001b[A\n",
      " 10%|▉         | 5/51 [00:03<00:29,  1.55it/s]\u001b[A\n",
      " 12%|█▏        | 6/51 [00:03<00:27,  1.64it/s]\u001b[A\n",
      " 14%|█▎        | 7/51 [00:04<00:25,  1.70it/s]\u001b[A\n",
      " 16%|█▌        | 8/51 [00:04<00:24,  1.76it/s]\u001b[A\n",
      " 18%|█▊        | 9/51 [00:05<00:23,  1.79it/s]\u001b[A\n",
      " 20%|█▉        | 10/51 [00:05<00:22,  1.82it/s]\u001b[A\n",
      " 22%|██▏       | 11/51 [00:06<00:21,  1.84it/s]\u001b[A\n",
      " 24%|██▎       | 12/51 [00:06<00:21,  1.85it/s]\u001b[A\n",
      " 25%|██▌       | 13/51 [00:07<00:20,  1.86it/s]\u001b[A\n",
      " 27%|██▋       | 14/51 [00:07<00:19,  1.87it/s]\u001b[A\n",
      " 29%|██▉       | 15/51 [00:08<00:19,  1.87it/s]\u001b[A\n",
      " 31%|███▏      | 16/51 [00:08<00:18,  1.87it/s]\u001b[A\n",
      " 33%|███▎      | 17/51 [00:09<00:18,  1.88it/s]\u001b[A\n",
      " 35%|███▌      | 18/51 [00:10<00:17,  1.88it/s]\u001b[A\n",
      " 37%|███▋      | 19/51 [00:10<00:17,  1.88it/s]\u001b[A\n",
      " 39%|███▉      | 20/51 [00:11<00:16,  1.88it/s]\u001b[A\n",
      " 41%|████      | 21/51 [00:11<00:15,  1.88it/s]\u001b[A\n",
      " 43%|████▎     | 22/51 [00:12<00:15,  1.88it/s]\u001b[A\n",
      " 45%|████▌     | 23/51 [00:12<00:14,  1.88it/s]\u001b[A\n",
      " 47%|████▋     | 24/51 [00:13<00:14,  1.88it/s]\u001b[A\n",
      " 49%|████▉     | 25/51 [00:13<00:13,  1.88it/s]\u001b[A\n",
      " 51%|█████     | 26/51 [00:14<00:13,  1.88it/s]\u001b[A\n",
      " 53%|█████▎    | 27/51 [00:14<00:12,  1.88it/s]\u001b[A\n",
      " 55%|█████▍    | 28/51 [00:15<00:12,  1.88it/s]\u001b[A\n",
      " 57%|█████▋    | 29/51 [00:15<00:11,  1.88it/s]\u001b[A\n",
      " 59%|█████▉    | 30/51 [00:16<00:11,  1.88it/s]\u001b[A\n",
      " 61%|██████    | 31/51 [00:16<00:10,  1.88it/s]\u001b[A\n",
      " 63%|██████▎   | 32/51 [00:17<00:10,  1.88it/s]\u001b[A\n",
      " 65%|██████▍   | 33/51 [00:17<00:09,  1.88it/s]\u001b[A\n",
      " 67%|██████▋   | 34/51 [00:18<00:09,  1.88it/s]\u001b[A\n",
      " 69%|██████▊   | 35/51 [00:19<00:08,  1.89it/s]\u001b[A\n",
      " 71%|███████   | 36/51 [00:19<00:07,  1.89it/s]\u001b[A\n",
      " 73%|███████▎  | 37/51 [00:20<00:07,  1.89it/s]\u001b[A\n",
      " 75%|███████▍  | 38/51 [00:20<00:06,  1.89it/s]\u001b[A\n",
      " 76%|███████▋  | 39/51 [00:21<00:06,  1.88it/s]\u001b[A\n",
      " 78%|███████▊  | 40/51 [00:21<00:05,  1.88it/s]\u001b[A\n",
      " 80%|████████  | 41/51 [00:22<00:05,  1.88it/s]\u001b[A\n",
      " 82%|████████▏ | 42/51 [00:22<00:04,  1.88it/s]\u001b[A\n",
      " 84%|████████▍ | 43/51 [00:23<00:04,  1.88it/s]\u001b[A\n",
      " 86%|████████▋ | 44/51 [00:23<00:03,  1.88it/s]\u001b[A\n",
      " 88%|████████▊ | 45/51 [00:24<00:03,  1.88it/s]\u001b[A\n",
      " 90%|█████████ | 46/51 [00:24<00:02,  1.88it/s]\u001b[A\n",
      " 92%|█████████▏| 47/51 [00:25<00:02,  1.89it/s]\u001b[A\n",
      " 94%|█████████▍| 48/51 [00:25<00:01,  1.87it/s]\u001b[A\n",
      " 96%|█████████▌| 49/51 [00:26<00:01,  1.88it/s]\u001b[A\n",
      " 98%|█████████▊| 50/51 [00:27<00:00,  1.88it/s]\u001b[A\n",
      "100%|██████████| 51/51 [00:27<00:00,  2.28it/s]\u001b[A\n",
      "  0%|          | 0/2 [00:00<?, ?it/s]\u001b[A"
     ]
    },
    {
     "name": "stdout",
     "output_type": "stream",
     "text": [
      "Completed training for epoch 6, testing validation dataset\n"
     ]
    },
    {
     "name": "stderr",
     "output_type": "stream",
     "text": [
      "\n",
      " 50%|█████     | 1/2 [00:00<00:00,  1.70it/s]\u001b[A\n",
      "100%|██████████| 2/2 [00:00<00:00,  2.18it/s]\u001b[A\n",
      "  0%|          | 0/2 [00:00<?, ?it/s]\u001b[A"
     ]
    },
    {
     "name": "stdout",
     "output_type": "stream",
     "text": [
      "loss: 0.4251702129840851\n",
      "top1acc: 85.99993133544922\n",
      "Completed testing validation dataset for epoch 6, testing training dataset\n"
     ]
    },
    {
     "name": "stderr",
     "output_type": "stream",
     "text": [
      "\n",
      " 50%|█████     | 1/2 [00:00<00:00,  1.72it/s]\u001b[A\n",
      "  6%|▌         | 7/120 [03:22<54:41, 29.04s/it]A"
     ]
    },
    {
     "name": "stdout",
     "output_type": "stream",
     "text": [
      "loss: 0.2427665889263153\n",
      "top1acc: 91.59996032714844\n",
      "Completed testing training dataset for epoch 6\n",
      "Starting epoch 7\n"
     ]
    },
    {
     "name": "stderr",
     "output_type": "stream",
     "text": [
      "\n",
      "  0%|          | 0/51 [00:00<?, ?it/s]\u001b[A\n",
      "  2%|▏         | 1/51 [00:01<00:50,  1.01s/it]\u001b[A\n",
      "  4%|▍         | 2/51 [00:01<00:42,  1.15it/s]\u001b[A\n",
      "  6%|▌         | 3/51 [00:02<00:36,  1.30it/s]\u001b[A\n",
      "  8%|▊         | 4/51 [00:02<00:32,  1.43it/s]\u001b[A\n",
      " 10%|▉         | 5/51 [00:03<00:29,  1.54it/s]\u001b[A\n",
      " 12%|█▏        | 6/51 [00:03<00:27,  1.63it/s]\u001b[A\n",
      " 14%|█▎        | 7/51 [00:04<00:25,  1.70it/s]\u001b[A\n",
      " 16%|█▌        | 8/51 [00:04<00:24,  1.75it/s]\u001b[A\n",
      " 18%|█▊        | 9/51 [00:05<00:23,  1.78it/s]\u001b[A\n",
      " 20%|█▉        | 10/51 [00:05<00:22,  1.81it/s]\u001b[A\n",
      " 22%|██▏       | 11/51 [00:06<00:21,  1.83it/s]\u001b[A\n",
      " 24%|██▎       | 12/51 [00:06<00:21,  1.85it/s]\u001b[A\n",
      " 25%|██▌       | 13/51 [00:07<00:20,  1.86it/s]\u001b[A\n",
      " 27%|██▋       | 14/51 [00:07<00:19,  1.87it/s]\u001b[A\n",
      " 29%|██▉       | 15/51 [00:08<00:19,  1.87it/s]\u001b[A\n",
      " 31%|███▏      | 16/51 [00:09<00:18,  1.87it/s]\u001b[A\n",
      " 33%|███▎      | 17/51 [00:09<00:18,  1.88it/s]\u001b[A\n",
      " 35%|███▌      | 18/51 [00:10<00:17,  1.88it/s]\u001b[A\n",
      " 37%|███▋      | 19/51 [00:10<00:17,  1.88it/s]\u001b[A\n",
      " 39%|███▉      | 20/51 [00:11<00:16,  1.88it/s]\u001b[A\n",
      " 41%|████      | 21/51 [00:11<00:15,  1.88it/s]\u001b[A\n",
      " 43%|████▎     | 22/51 [00:12<00:15,  1.88it/s]\u001b[A\n",
      " 45%|████▌     | 23/51 [00:12<00:14,  1.88it/s]\u001b[A\n",
      " 47%|████▋     | 24/51 [00:13<00:14,  1.88it/s]\u001b[A\n",
      " 49%|████▉     | 25/51 [00:13<00:13,  1.88it/s]\u001b[A\n",
      " 51%|█████     | 26/51 [00:14<00:13,  1.88it/s]\u001b[A\n",
      " 53%|█████▎    | 27/51 [00:14<00:12,  1.88it/s]\u001b[A\n",
      " 55%|█████▍    | 28/51 [00:15<00:12,  1.88it/s]\u001b[A\n",
      " 57%|█████▋    | 29/51 [00:15<00:11,  1.88it/s]\u001b[A\n",
      " 59%|█████▉    | 30/51 [00:16<00:11,  1.88it/s]\u001b[A\n",
      " 61%|██████    | 31/51 [00:16<00:10,  1.88it/s]\u001b[A\n",
      " 63%|██████▎   | 32/51 [00:17<00:10,  1.88it/s]\u001b[A\n",
      " 65%|██████▍   | 33/51 [00:18<00:09,  1.88it/s]\u001b[A\n",
      " 67%|██████▋   | 34/51 [00:18<00:09,  1.88it/s]\u001b[A\n",
      " 69%|██████▊   | 35/51 [00:19<00:08,  1.87it/s]\u001b[A\n",
      " 71%|███████   | 36/51 [00:19<00:08,  1.87it/s]\u001b[A\n",
      " 73%|███████▎  | 37/51 [00:20<00:07,  1.87it/s]\u001b[A\n",
      " 75%|███████▍  | 38/51 [00:20<00:06,  1.88it/s]\u001b[A\n",
      " 76%|███████▋  | 39/51 [00:21<00:06,  1.88it/s]\u001b[A\n",
      " 78%|███████▊  | 40/51 [00:21<00:05,  1.88it/s]\u001b[A\n",
      " 80%|████████  | 41/51 [00:22<00:05,  1.87it/s]\u001b[A\n",
      " 82%|████████▏ | 42/51 [00:22<00:04,  1.88it/s]\u001b[A\n",
      " 84%|████████▍ | 43/51 [00:23<00:04,  1.88it/s]\u001b[A\n",
      " 86%|████████▋ | 44/51 [00:23<00:03,  1.88it/s]\u001b[A\n",
      " 88%|████████▊ | 45/51 [00:24<00:03,  1.88it/s]\u001b[A\n",
      " 90%|█████████ | 46/51 [00:24<00:02,  1.88it/s]\u001b[A\n",
      " 92%|█████████▏| 47/51 [00:25<00:02,  1.88it/s]\u001b[A\n",
      " 94%|█████████▍| 48/51 [00:26<00:01,  1.88it/s]\u001b[A\n",
      " 96%|█████████▌| 49/51 [00:26<00:01,  1.88it/s]\u001b[A\n",
      " 98%|█████████▊| 50/51 [00:27<00:00,  1.88it/s]\u001b[A\n",
      "100%|██████████| 51/51 [00:27<00:00,  2.29it/s]\u001b[A\n",
      "  0%|          | 0/2 [00:00<?, ?it/s]\u001b[A"
     ]
    },
    {
     "name": "stdout",
     "output_type": "stream",
     "text": [
      "Completed training for epoch 7, testing validation dataset\n"
     ]
    },
    {
     "name": "stderr",
     "output_type": "stream",
     "text": [
      "\n",
      " 50%|█████     | 1/2 [00:00<00:00,  1.65it/s]\u001b[A\n",
      "100%|██████████| 2/2 [00:00<00:00,  2.12it/s]\u001b[A\n",
      "  0%|          | 0/2 [00:00<?, ?it/s]\u001b[A"
     ]
    },
    {
     "name": "stdout",
     "output_type": "stream",
     "text": [
      "loss: 0.405050665140152\n",
      "top1acc: 87.60006713867188\n",
      "Completed testing validation dataset for epoch 7, testing training dataset\n"
     ]
    },
    {
     "name": "stderr",
     "output_type": "stream",
     "text": [
      "\n",
      " 50%|█████     | 1/2 [00:00<00:00,  1.66it/s]\u001b[A\n",
      "  7%|▋         | 8/120 [03:52<54:19, 29.10s/it]A"
     ]
    },
    {
     "name": "stdout",
     "output_type": "stream",
     "text": [
      "loss: 0.2375756949186325\n",
      "top1acc: 92.59994506835938\n",
      "Completed testing training dataset for epoch 7\n",
      "Starting epoch 8\n"
     ]
    },
    {
     "name": "stderr",
     "output_type": "stream",
     "text": [
      "\n",
      "  0%|          | 0/51 [00:00<?, ?it/s]\u001b[A\n",
      "  2%|▏         | 1/51 [00:01<00:51,  1.02s/it]\u001b[A\n",
      "  4%|▍         | 2/51 [00:01<00:42,  1.14it/s]\u001b[A\n",
      "  6%|▌         | 3/51 [00:02<00:37,  1.29it/s]\u001b[A\n",
      "  8%|▊         | 4/51 [00:02<00:32,  1.43it/s]\u001b[A\n",
      " 10%|▉         | 5/51 [00:03<00:29,  1.54it/s]\u001b[A\n",
      " 12%|█▏        | 6/51 [00:03<00:27,  1.63it/s]\u001b[A\n",
      " 14%|█▎        | 7/51 [00:04<00:25,  1.70it/s]\u001b[A\n",
      " 16%|█▌        | 8/51 [00:04<00:24,  1.75it/s]\u001b[A\n",
      " 18%|█▊        | 9/51 [00:05<00:23,  1.79it/s]\u001b[A\n",
      " 20%|█▉        | 10/51 [00:05<00:22,  1.81it/s]\u001b[A\n",
      " 22%|██▏       | 11/51 [00:06<00:21,  1.83it/s]\u001b[A\n",
      " 24%|██▎       | 12/51 [00:06<00:21,  1.85it/s]\u001b[A\n",
      " 25%|██▌       | 13/51 [00:07<00:20,  1.86it/s]\u001b[A\n",
      " 27%|██▋       | 14/51 [00:07<00:19,  1.86it/s]\u001b[A\n",
      " 29%|██▉       | 15/51 [00:08<00:19,  1.87it/s]\u001b[A\n",
      " 31%|███▏      | 16/51 [00:08<00:18,  1.87it/s]\u001b[A\n",
      " 33%|███▎      | 17/51 [00:09<00:18,  1.87it/s]\u001b[A\n",
      " 35%|███▌      | 18/51 [00:10<00:17,  1.87it/s]\u001b[A\n",
      " 37%|███▋      | 19/51 [00:10<00:17,  1.88it/s]\u001b[A\n",
      " 39%|███▉      | 20/51 [00:11<00:16,  1.88it/s]\u001b[A\n",
      " 41%|████      | 21/51 [00:11<00:15,  1.88it/s]\u001b[A\n",
      " 43%|████▎     | 22/51 [00:12<00:15,  1.88it/s]\u001b[A\n",
      " 45%|████▌     | 23/51 [00:12<00:14,  1.88it/s]\u001b[A\n",
      " 47%|████▋     | 24/51 [00:13<00:14,  1.88it/s]\u001b[A\n",
      " 49%|████▉     | 25/51 [00:13<00:13,  1.88it/s]\u001b[A\n",
      " 51%|█████     | 26/51 [00:14<00:13,  1.88it/s]\u001b[A\n",
      " 53%|█████▎    | 27/51 [00:14<00:12,  1.88it/s]\u001b[A\n",
      " 55%|█████▍    | 28/51 [00:15<00:12,  1.88it/s]\u001b[A\n",
      " 57%|█████▋    | 29/51 [00:15<00:11,  1.88it/s]\u001b[A\n",
      " 59%|█████▉    | 30/51 [00:16<00:11,  1.88it/s]\u001b[A\n",
      " 61%|██████    | 31/51 [00:16<00:10,  1.88it/s]\u001b[A\n",
      " 63%|██████▎   | 32/51 [00:17<00:10,  1.88it/s]\u001b[A\n",
      " 65%|██████▍   | 33/51 [00:18<00:09,  1.88it/s]\u001b[A\n",
      " 67%|██████▋   | 34/51 [00:18<00:09,  1.88it/s]\u001b[A\n",
      " 69%|██████▊   | 35/51 [00:19<00:08,  1.88it/s]\u001b[A\n",
      " 71%|███████   | 36/51 [00:19<00:07,  1.88it/s]\u001b[A\n",
      " 73%|███████▎  | 37/51 [00:20<00:07,  1.88it/s]\u001b[A\n",
      " 75%|███████▍  | 38/51 [00:20<00:06,  1.88it/s]\u001b[A\n",
      " 76%|███████▋  | 39/51 [00:21<00:06,  1.88it/s]\u001b[A\n",
      " 78%|███████▊  | 40/51 [00:21<00:05,  1.88it/s]\u001b[A\n",
      " 80%|████████  | 41/51 [00:22<00:05,  1.88it/s]\u001b[A\n",
      " 82%|████████▏ | 42/51 [00:22<00:04,  1.88it/s]\u001b[A\n",
      " 84%|████████▍ | 43/51 [00:23<00:04,  1.87it/s]\u001b[A\n",
      " 86%|████████▋ | 44/51 [00:23<00:03,  1.87it/s]\u001b[A\n",
      " 88%|████████▊ | 45/51 [00:24<00:03,  1.87it/s]\u001b[A\n",
      " 90%|█████████ | 46/51 [00:24<00:02,  1.87it/s]\u001b[A\n",
      " 92%|█████████▏| 47/51 [00:25<00:02,  1.87it/s]\u001b[A\n",
      " 94%|█████████▍| 48/51 [00:26<00:01,  1.87it/s]\u001b[A\n",
      " 96%|█████████▌| 49/51 [00:26<00:01,  1.87it/s]\u001b[A\n",
      " 98%|█████████▊| 50/51 [00:27<00:00,  1.87it/s]\u001b[A\n",
      "100%|██████████| 51/51 [00:27<00:00,  2.28it/s]\u001b[A\n",
      "  0%|          | 0/2 [00:00<?, ?it/s]\u001b[A"
     ]
    },
    {
     "name": "stdout",
     "output_type": "stream",
     "text": [
      "Completed training for epoch 8, testing validation dataset\n"
     ]
    },
    {
     "name": "stderr",
     "output_type": "stream",
     "text": [
      "\n",
      " 50%|█████     | 1/2 [00:00<00:00,  1.65it/s]\u001b[A\n",
      "100%|██████████| 2/2 [00:00<00:00,  2.11it/s]\u001b[A\n",
      "  0%|          | 0/2 [00:00<?, ?it/s]\u001b[A"
     ]
    },
    {
     "name": "stdout",
     "output_type": "stream",
     "text": [
      "loss: 0.4008839428424835\n",
      "top1acc: 88.79998016357422\n",
      "Completed testing validation dataset for epoch 8, testing training dataset\n"
     ]
    },
    {
     "name": "stderr",
     "output_type": "stream",
     "text": [
      "\n",
      " 50%|█████     | 1/2 [00:00<00:00,  1.63it/s]\u001b[A\n",
      "  8%|▊         | 9/120 [04:21<53:56, 29.15s/it]A"
     ]
    },
    {
     "name": "stdout",
     "output_type": "stream",
     "text": [
      "loss: 0.27077919244766235\n",
      "top1acc: 91.20008850097656\n",
      "Completed testing training dataset for epoch 8\n",
      "Starting epoch 9\n"
     ]
    },
    {
     "name": "stderr",
     "output_type": "stream",
     "text": [
      "\n",
      "  0%|          | 0/51 [00:00<?, ?it/s]\u001b[A\n",
      "  2%|▏         | 1/51 [00:01<00:51,  1.02s/it]\u001b[A\n",
      "  4%|▍         | 2/51 [00:01<00:42,  1.14it/s]\u001b[A\n",
      "  6%|▌         | 3/51 [00:02<00:37,  1.29it/s]\u001b[A\n",
      "  8%|▊         | 4/51 [00:02<00:32,  1.43it/s]\u001b[A\n",
      " 10%|▉         | 5/51 [00:03<00:29,  1.54it/s]\u001b[A\n",
      " 12%|█▏        | 6/51 [00:03<00:27,  1.63it/s]\u001b[A\n",
      " 14%|█▎        | 7/51 [00:04<00:25,  1.70it/s]\u001b[A\n",
      " 16%|█▌        | 8/51 [00:04<00:24,  1.75it/s]\u001b[A\n",
      " 18%|█▊        | 9/51 [00:05<00:23,  1.79it/s]\u001b[A\n",
      " 20%|█▉        | 10/51 [00:05<00:22,  1.82it/s]\u001b[A\n",
      " 22%|██▏       | 11/51 [00:06<00:21,  1.84it/s]\u001b[A\n",
      " 24%|██▎       | 12/51 [00:06<00:21,  1.85it/s]\u001b[A\n",
      " 25%|██▌       | 13/51 [00:07<00:20,  1.86it/s]\u001b[A\n",
      " 27%|██▋       | 14/51 [00:07<00:19,  1.87it/s]\u001b[A\n",
      " 29%|██▉       | 15/51 [00:08<00:19,  1.87it/s]\u001b[A\n",
      " 31%|███▏      | 16/51 [00:08<00:18,  1.88it/s]\u001b[A\n",
      " 33%|███▎      | 17/51 [00:09<00:18,  1.88it/s]\u001b[A\n",
      " 35%|███▌      | 18/51 [00:10<00:17,  1.88it/s]\u001b[A\n",
      " 37%|███▋      | 19/51 [00:10<00:16,  1.88it/s]\u001b[A\n",
      " 39%|███▉      | 20/51 [00:11<00:16,  1.88it/s]\u001b[A\n",
      " 41%|████      | 21/51 [00:11<00:15,  1.88it/s]\u001b[A\n",
      " 43%|████▎     | 22/51 [00:12<00:15,  1.88it/s]\u001b[A\n",
      " 45%|████▌     | 23/51 [00:12<00:14,  1.88it/s]\u001b[A\n",
      " 47%|████▋     | 24/51 [00:13<00:14,  1.88it/s]\u001b[A\n",
      " 49%|████▉     | 25/51 [00:13<00:13,  1.88it/s]\u001b[A\n",
      " 51%|█████     | 26/51 [00:14<00:13,  1.88it/s]\u001b[A\n",
      " 53%|█████▎    | 27/51 [00:14<00:12,  1.88it/s]\u001b[A\n",
      " 55%|█████▍    | 28/51 [00:15<00:12,  1.89it/s]\u001b[A\n",
      " 57%|█████▋    | 29/51 [00:15<00:11,  1.89it/s]\u001b[A\n",
      " 59%|█████▉    | 30/51 [00:16<00:11,  1.89it/s]\u001b[A\n",
      " 61%|██████    | 31/51 [00:16<00:10,  1.89it/s]\u001b[A\n",
      " 63%|██████▎   | 32/51 [00:17<00:10,  1.89it/s]\u001b[A\n",
      " 65%|██████▍   | 33/51 [00:18<00:09,  1.89it/s]\u001b[A\n",
      " 67%|██████▋   | 34/51 [00:18<00:09,  1.89it/s]\u001b[A\n",
      " 69%|██████▊   | 35/51 [00:19<00:08,  1.89it/s]\u001b[A\n",
      " 71%|███████   | 36/51 [00:19<00:07,  1.89it/s]\u001b[A\n",
      " 73%|███████▎  | 37/51 [00:20<00:07,  1.89it/s]\u001b[A\n",
      " 75%|███████▍  | 38/51 [00:20<00:06,  1.89it/s]\u001b[A\n",
      " 76%|███████▋  | 39/51 [00:21<00:06,  1.89it/s]\u001b[A\n",
      " 78%|███████▊  | 40/51 [00:21<00:05,  1.89it/s]\u001b[A\n",
      " 80%|████████  | 41/51 [00:22<00:05,  1.89it/s]\u001b[A\n",
      " 82%|████████▏ | 42/51 [00:22<00:04,  1.89it/s]\u001b[A\n",
      " 84%|████████▍ | 43/51 [00:23<00:04,  1.89it/s]\u001b[A\n",
      " 86%|████████▋ | 44/51 [00:23<00:03,  1.89it/s]\u001b[A\n",
      " 88%|████████▊ | 45/51 [00:24<00:03,  1.89it/s]\u001b[A\n",
      " 90%|█████████ | 46/51 [00:24<00:02,  1.89it/s]\u001b[A\n",
      " 92%|█████████▏| 47/51 [00:25<00:02,  1.89it/s]\u001b[A\n",
      " 94%|█████████▍| 48/51 [00:25<00:01,  1.89it/s]\u001b[A\n",
      " 96%|█████████▌| 49/51 [00:26<00:01,  1.89it/s]\u001b[A\n",
      " 98%|█████████▊| 50/51 [00:27<00:00,  1.89it/s]\u001b[A\n",
      "100%|██████████| 51/51 [00:27<00:00,  2.30it/s]\u001b[A\n",
      "  0%|          | 0/2 [00:00<?, ?it/s]\u001b[A"
     ]
    },
    {
     "name": "stdout",
     "output_type": "stream",
     "text": [
      "Completed training for epoch 9, testing validation dataset\n"
     ]
    },
    {
     "name": "stderr",
     "output_type": "stream",
     "text": [
      "\n",
      " 50%|█████     | 1/2 [00:00<00:00,  1.67it/s]\u001b[A\n",
      "100%|██████████| 2/2 [00:00<00:00,  2.15it/s]\u001b[A\n",
      "  0%|          | 0/2 [00:00<?, ?it/s]\u001b[A"
     ]
    },
    {
     "name": "stdout",
     "output_type": "stream",
     "text": [
      "loss: 0.4125473201274872\n",
      "top1acc: 87.1999282836914\n",
      "Completed testing validation dataset for epoch 9, testing training dataset\n"
     ]
    },
    {
     "name": "stderr",
     "output_type": "stream",
     "text": [
      "\n",
      " 50%|█████     | 1/2 [00:00<00:00,  1.68it/s]\u001b[A\n",
      "  8%|▊         | 10/120 [04:50<53:27, 29.16s/it]"
     ]
    },
    {
     "name": "stdout",
     "output_type": "stream",
     "text": [
      "loss: 0.2762140929698944\n",
      "top1acc: 90.80004119873047\n",
      "Completed testing training dataset for epoch 9\n",
      "Starting epoch 10\n"
     ]
    },
    {
     "name": "stderr",
     "output_type": "stream",
     "text": [
      "\n",
      "  0%|          | 0/51 [00:00<?, ?it/s]\u001b[A\n",
      "  2%|▏         | 1/51 [00:01<00:52,  1.05s/it]\u001b[A\n",
      "  4%|▍         | 2/51 [00:01<00:43,  1.12it/s]\u001b[A\n",
      "  6%|▌         | 3/51 [00:02<00:37,  1.27it/s]\u001b[A\n",
      "  8%|▊         | 4/51 [00:02<00:33,  1.41it/s]\u001b[A\n",
      " 10%|▉         | 5/51 [00:03<00:30,  1.52it/s]\u001b[A\n",
      " 12%|█▏        | 6/51 [00:03<00:27,  1.62it/s]\u001b[A\n",
      " 14%|█▎        | 7/51 [00:04<00:26,  1.69it/s]\u001b[A\n",
      " 16%|█▌        | 8/51 [00:04<00:24,  1.74it/s]\u001b[A\n",
      " 18%|█▊        | 9/51 [00:05<00:23,  1.78it/s]\u001b[A\n",
      " 20%|█▉        | 10/51 [00:05<00:22,  1.81it/s]\u001b[A\n",
      " 22%|██▏       | 11/51 [00:06<00:21,  1.83it/s]\u001b[A\n",
      " 24%|██▎       | 12/51 [00:06<00:21,  1.85it/s]\u001b[A\n",
      " 25%|██▌       | 13/51 [00:07<00:20,  1.86it/s]\u001b[A\n",
      " 27%|██▋       | 14/51 [00:07<00:19,  1.87it/s]\u001b[A\n",
      " 29%|██▉       | 15/51 [00:08<00:19,  1.87it/s]\u001b[A\n",
      " 31%|███▏      | 16/51 [00:09<00:18,  1.88it/s]\u001b[A\n",
      " 33%|███▎      | 17/51 [00:09<00:18,  1.88it/s]\u001b[A\n",
      " 35%|███▌      | 18/51 [00:10<00:17,  1.88it/s]\u001b[A\n",
      " 37%|███▋      | 19/51 [00:10<00:17,  1.88it/s]\u001b[A\n",
      " 39%|███▉      | 20/51 [00:11<00:16,  1.87it/s]\u001b[A\n",
      " 41%|████      | 21/51 [00:11<00:16,  1.87it/s]\u001b[A\n",
      " 43%|████▎     | 22/51 [00:12<00:15,  1.88it/s]\u001b[A\n",
      " 45%|████▌     | 23/51 [00:12<00:14,  1.88it/s]\u001b[A\n",
      " 47%|████▋     | 24/51 [00:13<00:14,  1.88it/s]\u001b[A\n",
      " 49%|████▉     | 25/51 [00:13<00:13,  1.88it/s]\u001b[A\n",
      " 51%|█████     | 26/51 [00:14<00:13,  1.88it/s]\u001b[A\n",
      " 53%|█████▎    | 27/51 [00:14<00:12,  1.88it/s]\u001b[A\n",
      " 55%|█████▍    | 28/51 [00:15<00:12,  1.88it/s]\u001b[A\n",
      " 57%|█████▋    | 29/51 [00:15<00:11,  1.88it/s]\u001b[A\n",
      " 59%|█████▉    | 30/51 [00:16<00:11,  1.88it/s]\u001b[A\n",
      " 61%|██████    | 31/51 [00:16<00:10,  1.88it/s]\u001b[A\n",
      " 63%|██████▎   | 32/51 [00:17<00:10,  1.88it/s]\u001b[A\n",
      " 65%|██████▍   | 33/51 [00:18<00:09,  1.88it/s]\u001b[A\n",
      " 67%|██████▋   | 34/51 [00:18<00:09,  1.88it/s]\u001b[A\n",
      " 69%|██████▊   | 35/51 [00:19<00:08,  1.88it/s]\u001b[A\n",
      " 71%|███████   | 36/51 [00:19<00:07,  1.88it/s]\u001b[A\n",
      " 73%|███████▎  | 37/51 [00:20<00:07,  1.88it/s]\u001b[A\n",
      " 75%|███████▍  | 38/51 [00:20<00:06,  1.88it/s]\u001b[A\n",
      " 76%|███████▋  | 39/51 [00:21<00:06,  1.88it/s]\u001b[A\n",
      " 78%|███████▊  | 40/51 [00:21<00:05,  1.88it/s]\u001b[A\n",
      " 80%|████████  | 41/51 [00:22<00:05,  1.88it/s]\u001b[A\n",
      " 82%|████████▏ | 42/51 [00:22<00:04,  1.88it/s]\u001b[A\n",
      " 84%|████████▍ | 43/51 [00:23<00:04,  1.88it/s]\u001b[A\n",
      " 86%|████████▋ | 44/51 [00:23<00:03,  1.88it/s]\u001b[A\n",
      " 88%|████████▊ | 45/51 [00:24<00:03,  1.88it/s]\u001b[A\n",
      " 90%|█████████ | 46/51 [00:24<00:02,  1.88it/s]\u001b[A\n",
      " 92%|█████████▏| 47/51 [00:25<00:02,  1.88it/s]\u001b[A\n",
      " 94%|█████████▍| 48/51 [00:26<00:01,  1.88it/s]\u001b[A\n",
      " 96%|█████████▌| 49/51 [00:26<00:01,  1.88it/s]\u001b[A\n",
      " 98%|█████████▊| 50/51 [00:27<00:00,  1.88it/s]\u001b[A\n",
      "100%|██████████| 51/51 [00:27<00:00,  2.29it/s]\u001b[A\n",
      "  0%|          | 0/2 [00:00<?, ?it/s]\u001b[A"
     ]
    },
    {
     "name": "stdout",
     "output_type": "stream",
     "text": [
      "Completed training for epoch 10, testing validation dataset\n"
     ]
    },
    {
     "name": "stderr",
     "output_type": "stream",
     "text": [
      "\n",
      " 50%|█████     | 1/2 [00:00<00:00,  1.63it/s]\u001b[A\n",
      "100%|██████████| 2/2 [00:00<00:00,  2.09it/s]\u001b[A\n",
      "  0%|          | 0/2 [00:00<?, ?it/s]\u001b[A"
     ]
    },
    {
     "name": "stdout",
     "output_type": "stream",
     "text": [
      "loss: 0.4566492736339569\n",
      "top1acc: 86.59993743896484\n",
      "Completed testing validation dataset for epoch 10, testing training dataset\n"
     ]
    },
    {
     "name": "stderr",
     "output_type": "stream",
     "text": [
      "\n",
      " 50%|█████     | 1/2 [00:00<00:00,  1.73it/s]\u001b[A\n",
      "  9%|▉         | 11/120 [05:19<53:01, 29.19s/it]"
     ]
    },
    {
     "name": "stdout",
     "output_type": "stream",
     "text": [
      "loss: 0.3191305100917816\n",
      "top1acc: 89.20000457763672\n",
      "Completed testing training dataset for epoch 10\n",
      "Starting epoch 11\n"
     ]
    },
    {
     "name": "stderr",
     "output_type": "stream",
     "text": [
      "\n",
      "  0%|          | 0/51 [00:00<?, ?it/s]\u001b[A\n",
      "  2%|▏         | 1/51 [00:01<00:52,  1.05s/it]\u001b[A\n",
      "  4%|▍         | 2/51 [00:01<00:43,  1.12it/s]\u001b[A\n",
      "  6%|▌         | 3/51 [00:02<00:37,  1.28it/s]\u001b[A\n",
      "  8%|▊         | 4/51 [00:02<00:33,  1.41it/s]\u001b[A\n",
      " 10%|▉         | 5/51 [00:03<00:30,  1.53it/s]\u001b[A\n",
      " 12%|█▏        | 6/51 [00:03<00:27,  1.62it/s]\u001b[A\n",
      " 14%|█▎        | 7/51 [00:04<00:26,  1.69it/s]\u001b[A\n",
      " 16%|█▌        | 8/51 [00:04<00:24,  1.75it/s]\u001b[A\n",
      " 18%|█▊        | 9/51 [00:05<00:23,  1.79it/s]\u001b[A\n",
      " 20%|█▉        | 10/51 [00:05<00:22,  1.81it/s]\u001b[A\n",
      " 22%|██▏       | 11/51 [00:06<00:21,  1.83it/s]\u001b[A\n",
      " 24%|██▎       | 12/51 [00:06<00:21,  1.85it/s]\u001b[A\n",
      " 25%|██▌       | 13/51 [00:07<00:20,  1.86it/s]\u001b[A\n",
      " 27%|██▋       | 14/51 [00:07<00:19,  1.86it/s]\u001b[A\n",
      " 29%|██▉       | 15/51 [00:08<00:19,  1.87it/s]\u001b[A\n",
      " 31%|███▏      | 16/51 [00:09<00:18,  1.87it/s]\u001b[A\n",
      " 33%|███▎      | 17/51 [00:09<00:18,  1.87it/s]\u001b[A\n",
      " 35%|███▌      | 18/51 [00:10<00:17,  1.88it/s]\u001b[A\n",
      " 37%|███▋      | 19/51 [00:10<00:17,  1.88it/s]\u001b[A\n",
      " 39%|███▉      | 20/51 [00:11<00:16,  1.88it/s]\u001b[A\n",
      " 41%|████      | 21/51 [00:11<00:15,  1.88it/s]\u001b[A\n",
      " 43%|████▎     | 22/51 [00:12<00:15,  1.88it/s]\u001b[A\n",
      " 45%|████▌     | 23/51 [00:12<00:14,  1.88it/s]\u001b[A\n",
      " 47%|████▋     | 24/51 [00:13<00:14,  1.88it/s]\u001b[A\n",
      " 49%|████▉     | 25/51 [00:13<00:13,  1.88it/s]\u001b[A\n",
      " 51%|█████     | 26/51 [00:14<00:13,  1.88it/s]\u001b[A\n",
      " 53%|█████▎    | 27/51 [00:14<00:12,  1.88it/s]\u001b[A\n",
      " 55%|█████▍    | 28/51 [00:15<00:12,  1.87it/s]\u001b[A\n",
      " 57%|█████▋    | 29/51 [00:15<00:11,  1.88it/s]\u001b[A\n",
      " 59%|█████▉    | 30/51 [00:16<00:11,  1.88it/s]\u001b[A\n",
      " 61%|██████    | 31/51 [00:16<00:10,  1.88it/s]\u001b[A\n",
      " 63%|██████▎   | 32/51 [00:17<00:10,  1.88it/s]\u001b[A\n",
      " 65%|██████▍   | 33/51 [00:18<00:09,  1.88it/s]\u001b[A\n",
      " 67%|██████▋   | 34/51 [00:18<00:09,  1.88it/s]\u001b[A\n",
      " 69%|██████▊   | 35/51 [00:19<00:08,  1.88it/s]\u001b[A\n",
      " 71%|███████   | 36/51 [00:19<00:07,  1.88it/s]\u001b[A\n",
      " 73%|███████▎  | 37/51 [00:20<00:07,  1.88it/s]\u001b[A\n",
      " 75%|███████▍  | 38/51 [00:20<00:06,  1.88it/s]\u001b[A\n",
      " 76%|███████▋  | 39/51 [00:21<00:06,  1.88it/s]\u001b[A\n",
      " 78%|███████▊  | 40/51 [00:21<00:05,  1.88it/s]\u001b[A\n",
      " 80%|████████  | 41/51 [00:22<00:05,  1.88it/s]\u001b[A\n",
      " 82%|████████▏ | 42/51 [00:22<00:04,  1.88it/s]\u001b[A\n",
      " 84%|████████▍ | 43/51 [00:23<00:04,  1.88it/s]\u001b[A\n",
      " 86%|████████▋ | 44/51 [00:23<00:03,  1.88it/s]\u001b[A\n",
      " 88%|████████▊ | 45/51 [00:24<00:03,  1.88it/s]\u001b[A\n",
      " 90%|█████████ | 46/51 [00:24<00:02,  1.88it/s]\u001b[A\n",
      " 92%|█████████▏| 47/51 [00:25<00:02,  1.88it/s]\u001b[A\n",
      " 94%|█████████▍| 48/51 [00:26<00:01,  1.88it/s]\u001b[A\n",
      " 96%|█████████▌| 49/51 [00:26<00:01,  1.88it/s]\u001b[A\n",
      " 98%|█████████▊| 50/51 [00:27<00:00,  1.88it/s]\u001b[A\n",
      "100%|██████████| 51/51 [00:27<00:00,  2.29it/s]\u001b[A\n",
      "  0%|          | 0/2 [00:00<?, ?it/s]\u001b[A"
     ]
    },
    {
     "name": "stdout",
     "output_type": "stream",
     "text": [
      "Completed training for epoch 11, testing validation dataset\n"
     ]
    },
    {
     "name": "stderr",
     "output_type": "stream",
     "text": [
      "\n",
      " 50%|█████     | 1/2 [00:00<00:00,  1.66it/s]\u001b[A\n",
      "100%|██████████| 2/2 [00:00<00:00,  2.14it/s]\u001b[A\n",
      "  0%|          | 0/2 [00:00<?, ?it/s]\u001b[A"
     ]
    },
    {
     "name": "stdout",
     "output_type": "stream",
     "text": [
      "loss: 0.4467296302318573\n",
      "top1acc: 87.19994354248047\n",
      "Completed testing validation dataset for epoch 11, testing training dataset\n"
     ]
    },
    {
     "name": "stderr",
     "output_type": "stream",
     "text": [
      "\n",
      " 50%|█████     | 1/2 [00:00<00:00,  1.73it/s]\u001b[A\n",
      " 10%|█         | 12/120 [05:49<52:34, 29.21s/it]"
     ]
    },
    {
     "name": "stdout",
     "output_type": "stream",
     "text": [
      "loss: 0.3194417357444763\n",
      "top1acc: 90.40000915527344\n",
      "Completed testing training dataset for epoch 11\n",
      "Starting epoch 12\n"
     ]
    },
    {
     "name": "stderr",
     "output_type": "stream",
     "text": [
      "\n",
      "  0%|          | 0/51 [00:00<?, ?it/s]\u001b[A\n",
      "  2%|▏         | 1/51 [00:01<00:52,  1.04s/it]\u001b[A\n",
      "  4%|▍         | 2/51 [00:01<00:43,  1.12it/s]\u001b[A\n",
      "  6%|▌         | 3/51 [00:02<00:37,  1.28it/s]\u001b[A\n",
      "  8%|▊         | 4/51 [00:02<00:33,  1.41it/s]\u001b[A\n",
      " 10%|▉         | 5/51 [00:03<00:30,  1.53it/s]\u001b[A\n",
      " 12%|█▏        | 6/51 [00:03<00:27,  1.62it/s]\u001b[A\n",
      " 14%|█▎        | 7/51 [00:04<00:26,  1.69it/s]\u001b[A\n",
      " 16%|█▌        | 8/51 [00:04<00:24,  1.74it/s]\u001b[A\n",
      " 18%|█▊        | 9/51 [00:05<00:23,  1.78it/s]\u001b[A\n",
      " 20%|█▉        | 10/51 [00:05<00:22,  1.81it/s]\u001b[A\n",
      " 22%|██▏       | 11/51 [00:06<00:21,  1.83it/s]\u001b[A\n",
      " 24%|██▎       | 12/51 [00:06<00:21,  1.84it/s]\u001b[A\n",
      " 25%|██▌       | 13/51 [00:07<00:20,  1.85it/s]\u001b[A\n",
      " 27%|██▋       | 14/51 [00:07<00:19,  1.86it/s]\u001b[A\n",
      " 29%|██▉       | 15/51 [00:08<00:19,  1.87it/s]\u001b[A\n",
      " 31%|███▏      | 16/51 [00:09<00:18,  1.87it/s]\u001b[A\n",
      " 33%|███▎      | 17/51 [00:09<00:18,  1.87it/s]\u001b[A\n",
      " 35%|███▌      | 18/51 [00:10<00:17,  1.87it/s]\u001b[A\n",
      " 37%|███▋      | 19/51 [00:10<00:17,  1.88it/s]\u001b[A\n",
      " 39%|███▉      | 20/51 [00:11<00:16,  1.87it/s]\u001b[A\n",
      " 41%|████      | 21/51 [00:11<00:16,  1.87it/s]\u001b[A\n",
      " 43%|████▎     | 22/51 [00:12<00:15,  1.87it/s]\u001b[A\n",
      " 45%|████▌     | 23/51 [00:12<00:14,  1.88it/s]\u001b[A\n",
      " 47%|████▋     | 24/51 [00:13<00:14,  1.88it/s]\u001b[A\n",
      " 49%|████▉     | 25/51 [00:13<00:13,  1.88it/s]\u001b[A\n",
      " 51%|█████     | 26/51 [00:14<00:13,  1.88it/s]\u001b[A\n",
      " 53%|█████▎    | 27/51 [00:14<00:12,  1.88it/s]\u001b[A\n",
      " 55%|█████▍    | 28/51 [00:15<00:12,  1.88it/s]\u001b[A\n",
      " 57%|█████▋    | 29/51 [00:15<00:11,  1.88it/s]\u001b[A\n",
      " 59%|█████▉    | 30/51 [00:16<00:11,  1.88it/s]\u001b[A\n",
      " 61%|██████    | 31/51 [00:17<00:10,  1.88it/s]\u001b[A\n",
      " 63%|██████▎   | 32/51 [00:17<00:10,  1.88it/s]\u001b[A\n",
      " 65%|██████▍   | 33/51 [00:18<00:09,  1.88it/s]\u001b[A\n",
      " 67%|██████▋   | 34/51 [00:18<00:09,  1.88it/s]\u001b[A\n",
      " 69%|██████▊   | 35/51 [00:19<00:08,  1.88it/s]\u001b[A\n",
      " 71%|███████   | 36/51 [00:19<00:07,  1.88it/s]\u001b[A\n",
      " 73%|███████▎  | 37/51 [00:20<00:07,  1.88it/s]\u001b[A\n",
      " 75%|███████▍  | 38/51 [00:20<00:06,  1.88it/s]\u001b[A\n",
      " 76%|███████▋  | 39/51 [00:21<00:06,  1.88it/s]\u001b[A\n",
      " 78%|███████▊  | 40/51 [00:21<00:05,  1.88it/s]\u001b[A\n",
      " 80%|████████  | 41/51 [00:22<00:05,  1.88it/s]\u001b[A\n",
      " 82%|████████▏ | 42/51 [00:22<00:04,  1.88it/s]\u001b[A\n",
      " 84%|████████▍ | 43/51 [00:23<00:04,  1.88it/s]\u001b[A\n",
      " 86%|████████▋ | 44/51 [00:23<00:03,  1.88it/s]\u001b[A\n",
      " 88%|████████▊ | 45/51 [00:24<00:03,  1.88it/s]\u001b[A\n",
      " 90%|█████████ | 46/51 [00:25<00:02,  1.88it/s]\u001b[A\n",
      " 92%|█████████▏| 47/51 [00:25<00:02,  1.88it/s]\u001b[A\n",
      " 94%|█████████▍| 48/51 [00:26<00:01,  1.87it/s]\u001b[A\n",
      " 96%|█████████▌| 49/51 [00:26<00:01,  1.87it/s]\u001b[A\n",
      " 98%|█████████▊| 50/51 [00:27<00:00,  1.88it/s]\u001b[A\n",
      "100%|██████████| 51/51 [00:27<00:00,  2.28it/s]\u001b[A\n",
      "  0%|          | 0/2 [00:00<?, ?it/s]\u001b[A"
     ]
    },
    {
     "name": "stdout",
     "output_type": "stream",
     "text": [
      "Completed training for epoch 12, testing validation dataset\n"
     ]
    },
    {
     "name": "stderr",
     "output_type": "stream",
     "text": [
      "\n",
      " 50%|█████     | 1/2 [00:00<00:00,  1.64it/s]\u001b[A\n",
      "100%|██████████| 2/2 [00:00<00:00,  2.10it/s]\u001b[A\n",
      "  0%|          | 0/2 [00:00<?, ?it/s]\u001b[A"
     ]
    },
    {
     "name": "stdout",
     "output_type": "stream",
     "text": [
      "loss: 0.45951053500175476\n",
      "top1acc: 86.40006256103516\n",
      "Completed testing validation dataset for epoch 12, testing training dataset\n"
     ]
    },
    {
     "name": "stderr",
     "output_type": "stream",
     "text": [
      "\n",
      " 50%|█████     | 1/2 [00:00<00:00,  1.71it/s]\u001b[A\n",
      " 11%|█         | 13/120 [06:18<52:08, 29.24s/it]"
     ]
    },
    {
     "name": "stdout",
     "output_type": "stream",
     "text": [
      "loss: 0.29615432024002075\n",
      "top1acc: 90.5999984741211\n",
      "Completed testing training dataset for epoch 12\n",
      "Starting epoch 13\n"
     ]
    },
    {
     "name": "stderr",
     "output_type": "stream",
     "text": [
      "\n",
      "  0%|          | 0/51 [00:00<?, ?it/s]\u001b[A\n",
      "  2%|▏         | 1/51 [00:01<00:51,  1.04s/it]\u001b[A\n",
      "  4%|▍         | 2/51 [00:01<00:43,  1.13it/s]\u001b[A\n",
      "  6%|▌         | 3/51 [00:02<00:37,  1.28it/s]\u001b[A\n",
      "  8%|▊         | 4/51 [00:02<00:33,  1.42it/s]\u001b[A\n",
      " 10%|▉         | 5/51 [00:03<00:30,  1.53it/s]\u001b[A\n",
      " 12%|█▏        | 6/51 [00:03<00:27,  1.62it/s]\u001b[A\n",
      " 14%|█▎        | 7/51 [00:04<00:26,  1.69it/s]\u001b[A\n",
      " 16%|█▌        | 8/51 [00:04<00:24,  1.74it/s]\u001b[A\n",
      " 18%|█▊        | 9/51 [00:05<00:23,  1.78it/s]\u001b[A\n",
      " 20%|█▉        | 10/51 [00:05<00:22,  1.81it/s]\u001b[A\n",
      " 22%|██▏       | 11/51 [00:06<00:21,  1.83it/s]\u001b[A\n",
      " 24%|██▎       | 12/51 [00:06<00:21,  1.84it/s]\u001b[A\n",
      " 25%|██▌       | 13/51 [00:07<00:20,  1.85it/s]\u001b[A\n",
      " 27%|██▋       | 14/51 [00:07<00:19,  1.86it/s]\u001b[A\n",
      " 29%|██▉       | 15/51 [00:08<00:19,  1.86it/s]\u001b[A\n",
      " 31%|███▏      | 16/51 [00:09<00:18,  1.87it/s]\u001b[A\n",
      " 33%|███▎      | 17/51 [00:09<00:18,  1.87it/s]\u001b[A\n",
      " 35%|███▌      | 18/51 [00:10<00:17,  1.87it/s]\u001b[A\n",
      " 37%|███▋      | 19/51 [00:10<00:17,  1.87it/s]\u001b[A\n",
      " 39%|███▉      | 20/51 [00:11<00:16,  1.88it/s]\u001b[A\n",
      " 41%|████      | 21/51 [00:11<00:15,  1.88it/s]\u001b[A\n",
      " 43%|████▎     | 22/51 [00:12<00:15,  1.88it/s]\u001b[A\n",
      " 45%|████▌     | 23/51 [00:12<00:14,  1.88it/s]\u001b[A\n",
      " 47%|████▋     | 24/51 [00:13<00:14,  1.88it/s]\u001b[A\n",
      " 49%|████▉     | 25/51 [00:13<00:13,  1.88it/s]\u001b[A\n",
      " 51%|█████     | 26/51 [00:14<00:13,  1.87it/s]\u001b[A\n",
      " 53%|█████▎    | 27/51 [00:14<00:12,  1.87it/s]\u001b[A\n",
      " 55%|█████▍    | 28/51 [00:15<00:12,  1.88it/s]\u001b[A\n",
      " 57%|█████▋    | 29/51 [00:15<00:11,  1.88it/s]\u001b[A\n",
      " 59%|█████▉    | 30/51 [00:16<00:11,  1.88it/s]\u001b[A\n",
      " 61%|██████    | 31/51 [00:17<00:10,  1.88it/s]\u001b[A\n",
      " 63%|██████▎   | 32/51 [00:17<00:10,  1.88it/s]\u001b[A\n",
      " 65%|██████▍   | 33/51 [00:18<00:09,  1.88it/s]\u001b[A\n",
      " 67%|██████▋   | 34/51 [00:18<00:09,  1.88it/s]\u001b[A\n",
      " 69%|██████▊   | 35/51 [00:19<00:08,  1.88it/s]\u001b[A\n",
      " 71%|███████   | 36/51 [00:19<00:07,  1.88it/s]\u001b[A\n",
      " 73%|███████▎  | 37/51 [00:20<00:07,  1.88it/s]\u001b[A\n",
      " 75%|███████▍  | 38/51 [00:20<00:06,  1.88it/s]\u001b[A\n",
      " 76%|███████▋  | 39/51 [00:21<00:06,  1.88it/s]\u001b[A\n",
      " 78%|███████▊  | 40/51 [00:21<00:05,  1.88it/s]\u001b[A\n",
      " 80%|████████  | 41/51 [00:22<00:05,  1.88it/s]\u001b[A\n",
      " 82%|████████▏ | 42/51 [00:22<00:04,  1.88it/s]\u001b[A\n",
      " 84%|████████▍ | 43/51 [00:23<00:04,  1.88it/s]\u001b[A\n",
      " 86%|████████▋ | 44/51 [00:23<00:03,  1.88it/s]\u001b[A\n",
      " 88%|████████▊ | 45/51 [00:24<00:03,  1.88it/s]\u001b[A\n",
      " 90%|█████████ | 46/51 [00:24<00:02,  1.88it/s]\u001b[A\n",
      " 92%|█████████▏| 47/51 [00:25<00:02,  1.88it/s]\u001b[A\n",
      " 94%|█████████▍| 48/51 [00:26<00:01,  1.88it/s]\u001b[A\n",
      " 96%|█████████▌| 49/51 [00:26<00:01,  1.88it/s]\u001b[A\n",
      " 98%|█████████▊| 50/51 [00:27<00:00,  1.88it/s]\u001b[A\n",
      "100%|██████████| 51/51 [00:27<00:00,  2.29it/s]\u001b[A\n",
      "  0%|          | 0/2 [00:00<?, ?it/s]\u001b[A"
     ]
    },
    {
     "name": "stdout",
     "output_type": "stream",
     "text": [
      "Completed training for epoch 13, testing validation dataset\n"
     ]
    },
    {
     "name": "stderr",
     "output_type": "stream",
     "text": [
      "\n",
      " 50%|█████     | 1/2 [00:00<00:00,  1.63it/s]\u001b[A\n",
      "100%|██████████| 2/2 [00:00<00:00,  2.09it/s]\u001b[A\n",
      "  0%|          | 0/2 [00:00<?, ?it/s]\u001b[A"
     ]
    },
    {
     "name": "stdout",
     "output_type": "stream",
     "text": [
      "loss: 0.40761926770210266\n",
      "top1acc: 86.39993286132812\n",
      "Completed testing validation dataset for epoch 13, testing training dataset\n"
     ]
    },
    {
     "name": "stderr",
     "output_type": "stream",
     "text": [
      "\n",
      " 50%|█████     | 1/2 [00:00<00:00,  1.64it/s]\u001b[A\n",
      " 12%|█▏        | 14/120 [06:47<51:41, 29.26s/it]"
     ]
    },
    {
     "name": "stdout",
     "output_type": "stream",
     "text": [
      "loss: 0.3294319808483124\n",
      "top1acc: 90.20001983642578\n",
      "Completed testing training dataset for epoch 13\n",
      "Starting epoch 14\n"
     ]
    },
    {
     "name": "stderr",
     "output_type": "stream",
     "text": [
      "\n",
      "  0%|          | 0/51 [00:00<?, ?it/s]\u001b[A\n",
      "  2%|▏         | 1/51 [00:01<00:51,  1.02s/it]\u001b[A\n",
      "  4%|▍         | 2/51 [00:01<00:42,  1.14it/s]\u001b[A\n",
      "  6%|▌         | 3/51 [00:02<00:37,  1.30it/s]\u001b[A\n",
      "  8%|▊         | 4/51 [00:02<00:32,  1.43it/s]\u001b[A\n",
      " 10%|▉         | 5/51 [00:03<00:29,  1.54it/s]\u001b[A\n",
      " 12%|█▏        | 6/51 [00:03<00:27,  1.63it/s]\u001b[A\n",
      " 14%|█▎        | 7/51 [00:04<00:25,  1.70it/s]\u001b[A\n",
      " 16%|█▌        | 8/51 [00:04<00:24,  1.75it/s]\u001b[A\n",
      " 18%|█▊        | 9/51 [00:05<00:23,  1.79it/s]\u001b[A\n",
      " 20%|█▉        | 10/51 [00:05<00:22,  1.81it/s]\u001b[A\n",
      " 22%|██▏       | 11/51 [00:06<00:21,  1.83it/s]\u001b[A\n",
      " 24%|██▎       | 12/51 [00:06<00:21,  1.85it/s]\u001b[A\n",
      " 25%|██▌       | 13/51 [00:07<00:20,  1.86it/s]\u001b[A\n",
      " 27%|██▋       | 14/51 [00:07<00:19,  1.87it/s]\u001b[A\n",
      " 29%|██▉       | 15/51 [00:08<00:19,  1.87it/s]\u001b[A\n",
      " 31%|███▏      | 16/51 [00:08<00:18,  1.87it/s]\u001b[A\n",
      " 33%|███▎      | 17/51 [00:09<00:18,  1.87it/s]\u001b[A\n",
      " 35%|███▌      | 18/51 [00:10<00:17,  1.88it/s]\u001b[A\n",
      " 37%|███▋      | 19/51 [00:10<00:17,  1.88it/s]\u001b[A\n",
      " 39%|███▉      | 20/51 [00:11<00:16,  1.88it/s]\u001b[A\n",
      " 41%|████      | 21/51 [00:11<00:15,  1.88it/s]\u001b[A\n",
      " 43%|████▎     | 22/51 [00:12<00:15,  1.88it/s]\u001b[A\n",
      " 45%|████▌     | 23/51 [00:12<00:14,  1.88it/s]\u001b[A\n",
      " 47%|████▋     | 24/51 [00:13<00:14,  1.88it/s]\u001b[A\n",
      " 49%|████▉     | 25/51 [00:13<00:13,  1.88it/s]\u001b[A\n",
      " 51%|█████     | 26/51 [00:14<00:13,  1.88it/s]\u001b[A\n",
      " 53%|█████▎    | 27/51 [00:14<00:12,  1.88it/s]\u001b[A\n",
      " 55%|█████▍    | 28/51 [00:15<00:12,  1.88it/s]\u001b[A\n",
      " 57%|█████▋    | 29/51 [00:15<00:11,  1.87it/s]\u001b[A\n",
      " 59%|█████▉    | 30/51 [00:16<00:11,  1.87it/s]\u001b[A\n",
      " 61%|██████    | 31/51 [00:16<00:10,  1.87it/s]\u001b[A\n",
      " 63%|██████▎   | 32/51 [00:17<00:10,  1.87it/s]\u001b[A\n",
      " 65%|██████▍   | 33/51 [00:18<00:09,  1.87it/s]\u001b[A\n",
      " 67%|██████▋   | 34/51 [00:18<00:09,  1.88it/s]\u001b[A\n",
      " 69%|██████▊   | 35/51 [00:19<00:08,  1.88it/s]\u001b[A\n",
      " 71%|███████   | 36/51 [00:19<00:07,  1.88it/s]\u001b[A\n",
      " 73%|███████▎  | 37/51 [00:20<00:07,  1.88it/s]\u001b[A\n",
      " 75%|███████▍  | 38/51 [00:20<00:06,  1.88it/s]\u001b[A\n",
      " 76%|███████▋  | 39/51 [00:21<00:06,  1.88it/s]\u001b[A\n",
      " 78%|███████▊  | 40/51 [00:21<00:05,  1.88it/s]\u001b[A\n",
      " 80%|████████  | 41/51 [00:22<00:05,  1.88it/s]\u001b[A\n",
      " 82%|████████▏ | 42/51 [00:22<00:04,  1.88it/s]\u001b[A\n",
      " 84%|████████▍ | 43/51 [00:23<00:04,  1.88it/s]\u001b[A\n",
      " 86%|████████▋ | 44/51 [00:23<00:03,  1.88it/s]\u001b[A\n",
      " 88%|████████▊ | 45/51 [00:24<00:03,  1.88it/s]\u001b[A\n",
      " 90%|█████████ | 46/51 [00:24<00:02,  1.88it/s]\u001b[A\n",
      " 92%|█████████▏| 47/51 [00:25<00:02,  1.88it/s]\u001b[A\n",
      " 94%|█████████▍| 48/51 [00:26<00:01,  1.88it/s]\u001b[A\n",
      " 96%|█████████▌| 49/51 [00:26<00:01,  1.88it/s]\u001b[A\n",
      " 98%|█████████▊| 50/51 [00:27<00:00,  1.88it/s]\u001b[A\n",
      "100%|██████████| 51/51 [00:27<00:00,  2.29it/s]\u001b[A\n",
      "  0%|          | 0/2 [00:00<?, ?it/s]\u001b[A"
     ]
    },
    {
     "name": "stdout",
     "output_type": "stream",
     "text": [
      "Completed training for epoch 14, testing validation dataset\n"
     ]
    },
    {
     "name": "stderr",
     "output_type": "stream",
     "text": [
      "\n",
      " 50%|█████     | 1/2 [00:00<00:00,  1.58it/s]\u001b[A\n",
      "100%|██████████| 2/2 [00:00<00:00,  2.05it/s]\u001b[A\n",
      "  0%|          | 0/2 [00:00<?, ?it/s]\u001b[A"
     ]
    },
    {
     "name": "stdout",
     "output_type": "stream",
     "text": [
      "loss: 0.41504549980163574\n",
      "top1acc: 86.39997100830078\n",
      "Completed testing validation dataset for epoch 14, testing training dataset\n"
     ]
    },
    {
     "name": "stderr",
     "output_type": "stream",
     "text": [
      "\n",
      " 50%|█████     | 1/2 [00:00<00:00,  1.63it/s]\u001b[A\n",
      " 12%|█▎        | 15/120 [07:16<51:14, 29.28s/it]"
     ]
    },
    {
     "name": "stdout",
     "output_type": "stream",
     "text": [
      "loss: 0.3576636016368866\n",
      "top1acc: 88.00006866455078\n",
      "Completed testing training dataset for epoch 14\n",
      "Starting epoch 15\n"
     ]
    },
    {
     "name": "stderr",
     "output_type": "stream",
     "text": [
      "\n",
      "  0%|          | 0/51 [00:00<?, ?it/s]\u001b[A\n",
      "  2%|▏         | 1/51 [00:01<00:51,  1.02s/it]\u001b[A\n",
      "  4%|▍         | 2/51 [00:01<00:42,  1.14it/s]\u001b[A\n",
      "  6%|▌         | 3/51 [00:02<00:37,  1.29it/s]\u001b[A\n",
      "  8%|▊         | 4/51 [00:02<00:32,  1.43it/s]\u001b[A\n",
      " 10%|▉         | 5/51 [00:03<00:29,  1.54it/s]\u001b[A\n",
      " 12%|█▏        | 6/51 [00:03<00:27,  1.63it/s]\u001b[A\n",
      " 14%|█▎        | 7/51 [00:04<00:25,  1.69it/s]\u001b[A\n",
      " 16%|█▌        | 8/51 [00:04<00:24,  1.75it/s]\u001b[A\n",
      " 18%|█▊        | 9/51 [00:05<00:23,  1.78it/s]\u001b[A\n",
      " 20%|█▉        | 10/51 [00:05<00:22,  1.81it/s]\u001b[A\n",
      " 22%|██▏       | 11/51 [00:06<00:21,  1.83it/s]\u001b[A\n",
      " 24%|██▎       | 12/51 [00:06<00:21,  1.84it/s]\u001b[A\n",
      " 25%|██▌       | 13/51 [00:07<00:20,  1.86it/s]\u001b[A\n",
      " 27%|██▋       | 14/51 [00:07<00:19,  1.86it/s]\u001b[A\n",
      " 29%|██▉       | 15/51 [00:08<00:19,  1.87it/s]\u001b[A\n",
      " 31%|███▏      | 16/51 [00:09<00:18,  1.87it/s]\u001b[A\n",
      " 33%|███▎      | 17/51 [00:09<00:18,  1.87it/s]\u001b[A\n",
      " 35%|███▌      | 18/51 [00:10<00:17,  1.88it/s]\u001b[A\n",
      " 37%|███▋      | 19/51 [00:10<00:17,  1.88it/s]\u001b[A\n",
      " 39%|███▉      | 20/51 [00:11<00:16,  1.88it/s]\u001b[A\n",
      " 41%|████      | 21/51 [00:11<00:15,  1.88it/s]\u001b[A\n",
      " 43%|████▎     | 22/51 [00:12<00:15,  1.88it/s]\u001b[A\n",
      " 45%|████▌     | 23/51 [00:12<00:14,  1.88it/s]\u001b[A\n",
      " 47%|████▋     | 24/51 [00:13<00:14,  1.88it/s]\u001b[A\n",
      " 49%|████▉     | 25/51 [00:13<00:13,  1.88it/s]\u001b[A\n",
      " 51%|█████     | 26/51 [00:14<00:13,  1.88it/s]\u001b[A\n",
      " 53%|█████▎    | 27/51 [00:14<00:12,  1.88it/s]\u001b[A\n",
      " 55%|█████▍    | 28/51 [00:15<00:12,  1.88it/s]\u001b[A\n",
      " 57%|█████▋    | 29/51 [00:15<00:11,  1.88it/s]\u001b[A\n",
      " 59%|█████▉    | 30/51 [00:16<00:11,  1.88it/s]\u001b[A\n",
      " 61%|██████    | 31/51 [00:16<00:10,  1.88it/s]\u001b[A\n",
      " 63%|██████▎   | 32/51 [00:17<00:10,  1.88it/s]\u001b[A\n",
      " 65%|██████▍   | 33/51 [00:18<00:09,  1.88it/s]\u001b[A\n",
      " 67%|██████▋   | 34/51 [00:18<00:09,  1.88it/s]\u001b[A\n",
      " 69%|██████▊   | 35/51 [00:19<00:08,  1.88it/s]\u001b[A\n",
      " 71%|███████   | 36/51 [00:19<00:07,  1.88it/s]\u001b[A\n",
      " 73%|███████▎  | 37/51 [00:20<00:07,  1.88it/s]\u001b[A\n",
      " 75%|███████▍  | 38/51 [00:20<00:06,  1.88it/s]\u001b[A\n",
      " 76%|███████▋  | 39/51 [00:21<00:06,  1.88it/s]\u001b[A\n",
      " 78%|███████▊  | 40/51 [00:21<00:05,  1.88it/s]\u001b[A\n",
      " 80%|████████  | 41/51 [00:22<00:05,  1.88it/s]\u001b[A\n",
      " 82%|████████▏ | 42/51 [00:22<00:04,  1.88it/s]\u001b[A\n",
      " 84%|████████▍ | 43/51 [00:23<00:04,  1.88it/s]\u001b[A\n",
      " 86%|████████▋ | 44/51 [00:23<00:03,  1.88it/s]\u001b[A\n",
      " 88%|████████▊ | 45/51 [00:24<00:03,  1.88it/s]\u001b[A\n",
      " 90%|█████████ | 46/51 [00:24<00:02,  1.88it/s]\u001b[A\n",
      " 92%|█████████▏| 47/51 [00:25<00:02,  1.88it/s]\u001b[A\n",
      " 94%|█████████▍| 48/51 [00:26<00:01,  1.88it/s]\u001b[A\n",
      " 96%|█████████▌| 49/51 [00:26<00:01,  1.88it/s]\u001b[A\n",
      " 98%|█████████▊| 50/51 [00:27<00:00,  1.88it/s]\u001b[A\n",
      "100%|██████████| 51/51 [00:27<00:00,  2.29it/s]\u001b[A\n",
      "  0%|          | 0/2 [00:00<?, ?it/s]\u001b[A"
     ]
    },
    {
     "name": "stdout",
     "output_type": "stream",
     "text": [
      "Completed training for epoch 15, testing validation dataset\n"
     ]
    },
    {
     "name": "stderr",
     "output_type": "stream",
     "text": [
      "\n",
      " 50%|█████     | 1/2 [00:00<00:00,  1.66it/s]\u001b[A\n",
      "100%|██████████| 2/2 [00:00<00:00,  2.14it/s]\u001b[A\n",
      "  0%|          | 0/2 [00:00<?, ?it/s]\u001b[A"
     ]
    },
    {
     "name": "stdout",
     "output_type": "stream",
     "text": [
      "loss: 0.4535043239593506\n",
      "top1acc: 86.4000015258789\n",
      "Completed testing validation dataset for epoch 15, testing training dataset\n"
     ]
    },
    {
     "name": "stderr",
     "output_type": "stream",
     "text": [
      "\n",
      " 50%|█████     | 1/2 [00:00<00:00,  1.71it/s]\u001b[A\n",
      " 13%|█▎        | 16/120 [07:46<50:44, 29.28s/it]"
     ]
    },
    {
     "name": "stdout",
     "output_type": "stream",
     "text": [
      "loss: 0.3570753037929535\n",
      "top1acc: 89.4000015258789\n",
      "Completed testing training dataset for epoch 15\n",
      "Starting epoch 16\n"
     ]
    },
    {
     "name": "stderr",
     "output_type": "stream",
     "text": [
      "\n",
      "  0%|          | 0/51 [00:00<?, ?it/s]\u001b[A\n",
      "  2%|▏         | 1/51 [00:01<00:51,  1.04s/it]\u001b[A\n",
      "  4%|▍         | 2/51 [00:01<00:43,  1.13it/s]\u001b[A\n",
      "  6%|▌         | 3/51 [00:02<00:37,  1.28it/s]\u001b[A\n",
      "  8%|▊         | 4/51 [00:02<00:33,  1.42it/s]\u001b[A\n",
      " 10%|▉         | 5/51 [00:03<00:30,  1.53it/s]\u001b[A\n",
      " 12%|█▏        | 6/51 [00:03<00:27,  1.62it/s]\u001b[A\n",
      " 14%|█▎        | 7/51 [00:04<00:26,  1.69it/s]\u001b[A\n",
      " 16%|█▌        | 8/51 [00:04<00:24,  1.74it/s]\u001b[A\n",
      " 18%|█▊        | 9/51 [00:05<00:23,  1.78it/s]\u001b[A\n",
      " 20%|█▉        | 10/51 [00:05<00:22,  1.81it/s]\u001b[A\n",
      " 22%|██▏       | 11/51 [00:06<00:21,  1.83it/s]\u001b[A\n",
      " 24%|██▎       | 12/51 [00:06<00:21,  1.84it/s]\u001b[A\n",
      " 25%|██▌       | 13/51 [00:07<00:20,  1.85it/s]\u001b[A\n",
      " 27%|██▋       | 14/51 [00:07<00:19,  1.86it/s]\u001b[A\n",
      " 29%|██▉       | 15/51 [00:08<00:19,  1.87it/s]\u001b[A\n",
      " 31%|███▏      | 16/51 [00:09<00:18,  1.87it/s]\u001b[A\n",
      " 33%|███▎      | 17/51 [00:09<00:18,  1.87it/s]\u001b[A\n",
      " 35%|███▌      | 18/51 [00:10<00:17,  1.87it/s]\u001b[A\n",
      " 37%|███▋      | 19/51 [00:10<00:17,  1.88it/s]\u001b[A\n",
      " 39%|███▉      | 20/51 [00:11<00:16,  1.88it/s]\u001b[A\n",
      " 41%|████      | 21/51 [00:11<00:15,  1.88it/s]\u001b[A\n",
      " 43%|████▎     | 22/51 [00:12<00:15,  1.88it/s]\u001b[A\n",
      " 45%|████▌     | 23/51 [00:12<00:14,  1.88it/s]\u001b[A\n",
      " 47%|████▋     | 24/51 [00:13<00:14,  1.88it/s]\u001b[A\n",
      " 49%|████▉     | 25/51 [00:13<00:13,  1.88it/s]\u001b[A\n",
      " 51%|█████     | 26/51 [00:14<00:13,  1.88it/s]\u001b[A\n",
      " 53%|█████▎    | 27/51 [00:14<00:12,  1.88it/s]\u001b[A\n",
      " 55%|█████▍    | 28/51 [00:15<00:12,  1.88it/s]\u001b[A\n",
      " 57%|█████▋    | 29/51 [00:15<00:11,  1.88it/s]\u001b[A\n",
      " 59%|█████▉    | 30/51 [00:16<00:11,  1.88it/s]\u001b[A\n",
      " 61%|██████    | 31/51 [00:17<00:10,  1.88it/s]\u001b[A\n",
      " 63%|██████▎   | 32/51 [00:17<00:10,  1.88it/s]\u001b[A\n",
      " 65%|██████▍   | 33/51 [00:18<00:09,  1.88it/s]\u001b[A\n",
      " 67%|██████▋   | 34/51 [00:18<00:09,  1.88it/s]\u001b[A\n",
      " 69%|██████▊   | 35/51 [00:19<00:08,  1.88it/s]\u001b[A\n",
      " 71%|███████   | 36/51 [00:19<00:07,  1.88it/s]\u001b[A\n",
      " 73%|███████▎  | 37/51 [00:20<00:07,  1.88it/s]\u001b[A\n",
      " 75%|███████▍  | 38/51 [00:20<00:06,  1.88it/s]\u001b[A\n",
      " 76%|███████▋  | 39/51 [00:21<00:06,  1.88it/s]\u001b[A\n",
      " 78%|███████▊  | 40/51 [00:21<00:05,  1.88it/s]\u001b[A\n",
      " 80%|████████  | 41/51 [00:22<00:05,  1.88it/s]\u001b[A\n",
      " 82%|████████▏ | 42/51 [00:22<00:04,  1.88it/s]\u001b[A\n",
      " 84%|████████▍ | 43/51 [00:23<00:04,  1.88it/s]\u001b[A\n",
      " 86%|████████▋ | 44/51 [00:23<00:03,  1.88it/s]\u001b[A\n",
      " 88%|████████▊ | 45/51 [00:24<00:03,  1.87it/s]\u001b[A\n",
      " 90%|█████████ | 46/51 [00:25<00:02,  1.88it/s]\u001b[A\n",
      " 92%|█████████▏| 47/51 [00:25<00:02,  1.88it/s]\u001b[A\n",
      " 94%|█████████▍| 48/51 [00:26<00:01,  1.88it/s]\u001b[A\n",
      " 96%|█████████▌| 49/51 [00:26<00:01,  1.88it/s]\u001b[A\n",
      " 98%|█████████▊| 50/51 [00:27<00:00,  1.88it/s]\u001b[A\n",
      "100%|██████████| 51/51 [00:27<00:00,  2.29it/s]\u001b[A\n",
      "  0%|          | 0/2 [00:00<?, ?it/s]\u001b[A"
     ]
    },
    {
     "name": "stdout",
     "output_type": "stream",
     "text": [
      "Completed training for epoch 16, testing validation dataset\n"
     ]
    },
    {
     "name": "stderr",
     "output_type": "stream",
     "text": [
      "\n",
      " 50%|█████     | 1/2 [00:00<00:00,  1.62it/s]\u001b[A\n",
      "100%|██████████| 2/2 [00:00<00:00,  2.09it/s]\u001b[A\n",
      "  0%|          | 0/2 [00:00<?, ?it/s]\u001b[A"
     ]
    },
    {
     "name": "stdout",
     "output_type": "stream",
     "text": [
      "loss: 0.4227321445941925\n",
      "top1acc: 85.40007019042969\n",
      "Completed testing validation dataset for epoch 16, testing training dataset\n"
     ]
    },
    {
     "name": "stderr",
     "output_type": "stream",
     "text": [
      "\n",
      " 50%|█████     | 1/2 [00:00<00:00,  1.73it/s]\u001b[A\n",
      " 14%|█▍        | 17/120 [08:15<50:16, 29.28s/it]"
     ]
    },
    {
     "name": "stdout",
     "output_type": "stream",
     "text": [
      "loss: 0.38998785614967346\n",
      "top1acc: 86.20002746582031\n",
      "Completed testing training dataset for epoch 16\n",
      "Starting epoch 17\n"
     ]
    },
    {
     "name": "stderr",
     "output_type": "stream",
     "text": [
      "\n",
      "  0%|          | 0/51 [00:00<?, ?it/s]\u001b[A\n",
      "  2%|▏         | 1/51 [00:01<00:51,  1.03s/it]\u001b[A\n",
      "  4%|▍         | 2/51 [00:01<00:43,  1.14it/s]\u001b[A\n",
      "  6%|▌         | 3/51 [00:02<00:37,  1.29it/s]\u001b[A\n",
      "  8%|▊         | 4/51 [00:02<00:33,  1.42it/s]\u001b[A\n",
      " 10%|▉         | 5/51 [00:03<00:30,  1.53it/s]\u001b[A\n",
      " 12%|█▏        | 6/51 [00:03<00:27,  1.62it/s]\u001b[A\n",
      " 14%|█▎        | 7/51 [00:04<00:26,  1.68it/s]\u001b[A\n",
      " 16%|█▌        | 8/51 [00:04<00:24,  1.74it/s]\u001b[A\n",
      " 18%|█▊        | 9/51 [00:05<00:23,  1.76it/s]\u001b[A\n",
      " 20%|█▉        | 10/51 [00:05<00:22,  1.80it/s]\u001b[A\n",
      " 22%|██▏       | 11/51 [00:06<00:21,  1.82it/s]\u001b[A\n",
      " 24%|██▎       | 12/51 [00:06<00:21,  1.84it/s]\u001b[A\n",
      " 25%|██▌       | 13/51 [00:07<00:20,  1.85it/s]\u001b[A\n",
      " 27%|██▋       | 14/51 [00:07<00:19,  1.85it/s]\u001b[A\n",
      " 29%|██▉       | 15/51 [00:08<00:19,  1.86it/s]\u001b[A\n",
      " 31%|███▏      | 16/51 [00:09<00:18,  1.87it/s]\u001b[A\n",
      " 33%|███▎      | 17/51 [00:09<00:18,  1.87it/s]\u001b[A\n",
      " 35%|███▌      | 18/51 [00:10<00:17,  1.87it/s]\u001b[A\n",
      " 37%|███▋      | 19/51 [00:10<00:17,  1.88it/s]\u001b[A\n",
      " 39%|███▉      | 20/51 [00:11<00:16,  1.88it/s]\u001b[A\n",
      " 41%|████      | 21/51 [00:11<00:15,  1.88it/s]\u001b[A\n",
      " 43%|████▎     | 22/51 [00:12<00:15,  1.88it/s]\u001b[A\n",
      " 45%|████▌     | 23/51 [00:12<00:14,  1.88it/s]\u001b[A\n",
      " 47%|████▋     | 24/51 [00:13<00:14,  1.87it/s]\u001b[A\n",
      " 49%|████▉     | 25/51 [00:13<00:13,  1.88it/s]\u001b[A\n",
      " 51%|█████     | 26/51 [00:14<00:13,  1.88it/s]\u001b[A\n",
      " 53%|█████▎    | 27/51 [00:14<00:12,  1.88it/s]\u001b[A\n",
      " 55%|█████▍    | 28/51 [00:15<00:12,  1.88it/s]\u001b[A\n",
      " 57%|█████▋    | 29/51 [00:15<00:11,  1.87it/s]\u001b[A\n",
      " 59%|█████▉    | 30/51 [00:16<00:11,  1.87it/s]\u001b[A\n",
      " 61%|██████    | 31/51 [00:17<00:10,  1.87it/s]\u001b[A\n",
      " 63%|██████▎   | 32/51 [00:17<00:10,  1.88it/s]\u001b[A\n",
      " 65%|██████▍   | 33/51 [00:18<00:09,  1.88it/s]\u001b[A\n",
      " 67%|██████▋   | 34/51 [00:18<00:09,  1.88it/s]\u001b[A\n",
      " 69%|██████▊   | 35/51 [00:19<00:08,  1.88it/s]\u001b[A\n",
      " 71%|███████   | 36/51 [00:19<00:07,  1.88it/s]\u001b[A\n",
      " 73%|███████▎  | 37/51 [00:20<00:07,  1.88it/s]\u001b[A\n",
      " 75%|███████▍  | 38/51 [00:20<00:06,  1.88it/s]\u001b[A\n",
      " 76%|███████▋  | 39/51 [00:21<00:06,  1.88it/s]\u001b[A\n",
      " 78%|███████▊  | 40/51 [00:21<00:05,  1.88it/s]\u001b[A\n",
      " 80%|████████  | 41/51 [00:22<00:05,  1.88it/s]\u001b[A\n",
      " 82%|████████▏ | 42/51 [00:22<00:04,  1.88it/s]\u001b[A\n",
      " 84%|████████▍ | 43/51 [00:23<00:04,  1.88it/s]\u001b[A\n",
      " 86%|████████▋ | 44/51 [00:23<00:03,  1.87it/s]\u001b[A\n",
      " 88%|████████▊ | 45/51 [00:24<00:03,  1.88it/s]\u001b[A\n",
      " 90%|█████████ | 46/51 [00:25<00:02,  1.88it/s]\u001b[A\n",
      " 92%|█████████▏| 47/51 [00:25<00:02,  1.88it/s]\u001b[A\n",
      " 94%|█████████▍| 48/51 [00:26<00:01,  1.88it/s]\u001b[A\n",
      " 96%|█████████▌| 49/51 [00:26<00:01,  1.88it/s]\u001b[A\n",
      " 98%|█████████▊| 50/51 [00:27<00:00,  1.88it/s]\u001b[A\n",
      "100%|██████████| 51/51 [00:27<00:00,  2.29it/s]\u001b[A\n",
      "  0%|          | 0/2 [00:00<?, ?it/s]\u001b[A"
     ]
    },
    {
     "name": "stdout",
     "output_type": "stream",
     "text": [
      "Completed training for epoch 17, testing validation dataset\n"
     ]
    },
    {
     "name": "stderr",
     "output_type": "stream",
     "text": [
      "\n",
      " 50%|█████     | 1/2 [00:00<00:00,  1.68it/s]\u001b[A\n",
      "100%|██████████| 2/2 [00:00<00:00,  2.15it/s]\u001b[A\n",
      "  0%|          | 0/2 [00:00<?, ?it/s]\u001b[A"
     ]
    },
    {
     "name": "stdout",
     "output_type": "stream",
     "text": [
      "loss: 0.4564765691757202\n",
      "top1acc: 85.40007019042969\n",
      "Completed testing validation dataset for epoch 17, testing training dataset\n"
     ]
    },
    {
     "name": "stderr",
     "output_type": "stream",
     "text": [
      "\n",
      " 50%|█████     | 1/2 [00:00<00:00,  1.59it/s]\u001b[A\n",
      " 15%|█▌        | 18/120 [08:44<49:49, 29.31s/it]"
     ]
    },
    {
     "name": "stdout",
     "output_type": "stream",
     "text": [
      "loss: 0.42787811160087585\n",
      "top1acc: 85.99993896484375\n",
      "Completed testing training dataset for epoch 17\n",
      "Starting epoch 18\n"
     ]
    },
    {
     "name": "stderr",
     "output_type": "stream",
     "text": [
      "\n",
      "  0%|          | 0/51 [00:00<?, ?it/s]\u001b[A\n",
      "  2%|▏         | 1/51 [00:01<00:51,  1.02s/it]\u001b[A\n",
      "  4%|▍         | 2/51 [00:01<00:43,  1.14it/s]\u001b[A\n",
      "  6%|▌         | 3/51 [00:02<00:37,  1.29it/s]\u001b[A\n",
      "  8%|▊         | 4/51 [00:02<00:33,  1.42it/s]\u001b[A\n",
      " 10%|▉         | 5/51 [00:03<00:29,  1.53it/s]\u001b[A\n",
      " 12%|█▏        | 6/51 [00:03<00:27,  1.62it/s]\u001b[A\n",
      " 14%|█▎        | 7/51 [00:04<00:26,  1.69it/s]\u001b[A\n",
      " 16%|█▌        | 8/51 [00:04<00:24,  1.74it/s]\u001b[A\n",
      " 18%|█▊        | 9/51 [00:05<00:23,  1.77it/s]\u001b[A\n",
      " 20%|█▉        | 10/51 [00:05<00:22,  1.80it/s]\u001b[A\n",
      " 22%|██▏       | 11/51 [00:06<00:21,  1.82it/s]\u001b[A\n",
      " 24%|██▎       | 12/51 [00:06<00:21,  1.84it/s]\u001b[A\n",
      " 25%|██▌       | 13/51 [00:07<00:20,  1.85it/s]\u001b[A\n",
      " 27%|██▋       | 14/51 [00:07<00:20,  1.85it/s]\u001b[A\n",
      " 29%|██▉       | 15/51 [00:08<00:19,  1.85it/s]\u001b[A\n",
      " 31%|███▏      | 16/51 [00:09<00:18,  1.86it/s]\u001b[A\n",
      " 33%|███▎      | 17/51 [00:09<00:18,  1.86it/s]\u001b[A\n",
      " 35%|███▌      | 18/51 [00:10<00:17,  1.87it/s]\u001b[A\n",
      " 37%|███▋      | 19/51 [00:10<00:17,  1.86it/s]\u001b[A\n",
      " 39%|███▉      | 20/51 [00:11<00:16,  1.87it/s]\u001b[A\n",
      " 41%|████      | 21/51 [00:11<00:16,  1.87it/s]\u001b[A\n",
      " 43%|████▎     | 22/51 [00:12<00:15,  1.87it/s]\u001b[A\n",
      " 45%|████▌     | 23/51 [00:12<00:14,  1.87it/s]\u001b[A\n",
      " 47%|████▋     | 24/51 [00:13<00:14,  1.87it/s]\u001b[A\n",
      " 49%|████▉     | 25/51 [00:13<00:13,  1.86it/s]\u001b[A\n",
      " 51%|█████     | 26/51 [00:14<00:13,  1.87it/s]\u001b[A\n",
      " 53%|█████▎    | 27/51 [00:14<00:12,  1.87it/s]\u001b[A\n",
      " 55%|█████▍    | 28/51 [00:15<00:12,  1.87it/s]\u001b[A\n",
      " 57%|█████▋    | 29/51 [00:16<00:11,  1.87it/s]\u001b[A\n",
      " 59%|█████▉    | 30/51 [00:16<00:11,  1.87it/s]\u001b[A\n",
      " 61%|██████    | 31/51 [00:17<00:10,  1.87it/s]\u001b[A\n",
      " 63%|██████▎   | 32/51 [00:17<00:10,  1.87it/s]\u001b[A\n",
      " 65%|██████▍   | 33/51 [00:18<00:09,  1.87it/s]\u001b[A\n",
      " 67%|██████▋   | 34/51 [00:18<00:09,  1.87it/s]\u001b[A\n",
      " 69%|██████▊   | 35/51 [00:19<00:08,  1.87it/s]\u001b[A\n",
      " 71%|███████   | 36/51 [00:19<00:08,  1.87it/s]\u001b[A\n",
      " 73%|███████▎  | 37/51 [00:20<00:07,  1.87it/s]\u001b[A\n",
      " 75%|███████▍  | 38/51 [00:20<00:06,  1.88it/s]\u001b[A\n",
      " 76%|███████▋  | 39/51 [00:21<00:06,  1.88it/s]\u001b[A\n",
      " 78%|███████▊  | 40/51 [00:21<00:05,  1.88it/s]\u001b[A\n",
      " 80%|████████  | 41/51 [00:22<00:05,  1.87it/s]\u001b[A\n",
      " 82%|████████▏ | 42/51 [00:22<00:04,  1.88it/s]\u001b[A\n",
      " 84%|████████▍ | 43/51 [00:23<00:04,  1.87it/s]\u001b[A\n",
      " 86%|████████▋ | 44/51 [00:24<00:03,  1.87it/s]\u001b[A\n",
      " 88%|████████▊ | 45/51 [00:24<00:03,  1.87it/s]\u001b[A\n",
      " 90%|█████████ | 46/51 [00:25<00:02,  1.87it/s]\u001b[A\n",
      " 92%|█████████▏| 47/51 [00:25<00:02,  1.87it/s]\u001b[A\n",
      " 94%|█████████▍| 48/51 [00:26<00:01,  1.87it/s]\u001b[A\n",
      " 96%|█████████▌| 49/51 [00:26<00:01,  1.87it/s]\u001b[A\n",
      " 98%|█████████▊| 50/51 [00:27<00:00,  1.87it/s]\u001b[A\n",
      "100%|██████████| 51/51 [00:27<00:00,  2.28it/s]\u001b[A\n",
      "  0%|          | 0/2 [00:00<?, ?it/s]\u001b[A"
     ]
    },
    {
     "name": "stdout",
     "output_type": "stream",
     "text": [
      "Completed training for epoch 18, testing validation dataset\n"
     ]
    },
    {
     "name": "stderr",
     "output_type": "stream",
     "text": [
      "\n",
      " 50%|█████     | 1/2 [00:00<00:00,  1.64it/s]\u001b[A\n",
      "100%|██████████| 2/2 [00:00<00:00,  2.11it/s]\u001b[A\n",
      "  0%|          | 0/2 [00:00<?, ?it/s]\u001b[A"
     ]
    },
    {
     "name": "stdout",
     "output_type": "stream",
     "text": [
      "loss: 0.4621700942516327\n",
      "top1acc: 85.40003204345703\n",
      "Completed testing validation dataset for epoch 18, testing training dataset\n"
     ]
    },
    {
     "name": "stderr",
     "output_type": "stream",
     "text": [
      "\n",
      " 50%|█████     | 1/2 [00:00<00:00,  1.74it/s]\u001b[A\n",
      " 16%|█▌        | 19/120 [09:14<49:22, 29.33s/it]"
     ]
    },
    {
     "name": "stdout",
     "output_type": "stream",
     "text": [
      "loss: 0.4481644034385681\n",
      "top1acc: 83.80000305175781\n",
      "Completed testing training dataset for epoch 18\n",
      "Starting epoch 19\n"
     ]
    },
    {
     "name": "stderr",
     "output_type": "stream",
     "text": [
      "\n",
      "  0%|          | 0/51 [00:00<?, ?it/s]\u001b[A\n",
      "  2%|▏         | 1/51 [00:01<00:52,  1.05s/it]\u001b[A\n",
      "  4%|▍         | 2/51 [00:01<00:43,  1.12it/s]\u001b[A\n",
      "  6%|▌         | 3/51 [00:02<00:37,  1.28it/s]\u001b[A\n",
      "  8%|▊         | 4/51 [00:02<00:33,  1.41it/s]\u001b[A\n",
      " 10%|▉         | 5/51 [00:03<00:30,  1.52it/s]\u001b[A\n",
      " 12%|█▏        | 6/51 [00:03<00:27,  1.61it/s]\u001b[A\n",
      " 14%|█▎        | 7/51 [00:04<00:26,  1.69it/s]\u001b[A\n",
      " 16%|█▌        | 8/51 [00:04<00:24,  1.74it/s]\u001b[A\n",
      " 18%|█▊        | 9/51 [00:05<00:23,  1.78it/s]\u001b[A\n",
      " 20%|█▉        | 10/51 [00:05<00:22,  1.81it/s]\u001b[A\n",
      " 22%|██▏       | 11/51 [00:06<00:21,  1.83it/s]\u001b[A\n",
      " 24%|██▎       | 12/51 [00:06<00:21,  1.84it/s]\u001b[A\n",
      " 25%|██▌       | 13/51 [00:07<00:20,  1.85it/s]\u001b[A\n",
      " 27%|██▋       | 14/51 [00:07<00:19,  1.86it/s]\u001b[A\n",
      " 29%|██▉       | 15/51 [00:08<00:19,  1.86it/s]\u001b[A\n",
      " 31%|███▏      | 16/51 [00:09<00:18,  1.87it/s]\u001b[A\n",
      " 33%|███▎      | 17/51 [00:09<00:18,  1.87it/s]\u001b[A\n",
      " 35%|███▌      | 18/51 [00:10<00:17,  1.87it/s]\u001b[A\n",
      " 37%|███▋      | 19/51 [00:10<00:17,  1.87it/s]\u001b[A\n",
      " 39%|███▉      | 20/51 [00:11<00:16,  1.88it/s]\u001b[A\n",
      " 41%|████      | 21/51 [00:11<00:15,  1.88it/s]\u001b[A\n",
      " 43%|████▎     | 22/51 [00:12<00:15,  1.87it/s]\u001b[A\n",
      " 45%|████▌     | 23/51 [00:12<00:14,  1.87it/s]\u001b[A\n",
      " 47%|████▋     | 24/51 [00:13<00:14,  1.87it/s]\u001b[A\n",
      " 49%|████▉     | 25/51 [00:13<00:13,  1.87it/s]\u001b[A\n",
      " 51%|█████     | 26/51 [00:14<00:13,  1.87it/s]\u001b[A\n",
      " 53%|█████▎    | 27/51 [00:14<00:12,  1.87it/s]\u001b[A\n",
      " 55%|█████▍    | 28/51 [00:15<00:12,  1.88it/s]\u001b[A\n",
      " 57%|█████▋    | 29/51 [00:15<00:11,  1.88it/s]\u001b[A\n",
      " 59%|█████▉    | 30/51 [00:16<00:11,  1.88it/s]\u001b[A\n",
      " 61%|██████    | 31/51 [00:17<00:10,  1.88it/s]\u001b[A\n",
      " 63%|██████▎   | 32/51 [00:17<00:10,  1.88it/s]\u001b[A\n",
      " 65%|██████▍   | 33/51 [00:18<00:09,  1.87it/s]\u001b[A\n",
      " 67%|██████▋   | 34/51 [00:18<00:09,  1.88it/s]\u001b[A\n",
      " 69%|██████▊   | 35/51 [00:19<00:08,  1.87it/s]\u001b[A\n",
      " 71%|███████   | 36/51 [00:19<00:08,  1.87it/s]\u001b[A\n",
      " 73%|███████▎  | 37/51 [00:20<00:07,  1.87it/s]\u001b[A\n",
      " 75%|███████▍  | 38/51 [00:20<00:06,  1.87it/s]\u001b[A\n",
      " 76%|███████▋  | 39/51 [00:21<00:06,  1.87it/s]\u001b[A\n",
      " 78%|███████▊  | 40/51 [00:21<00:05,  1.88it/s]\u001b[A\n",
      " 80%|████████  | 41/51 [00:22<00:05,  1.88it/s]\u001b[A\n",
      " 82%|████████▏ | 42/51 [00:22<00:04,  1.88it/s]\u001b[A\n",
      " 84%|████████▍ | 43/51 [00:23<00:04,  1.87it/s]\u001b[A\n",
      " 86%|████████▋ | 44/51 [00:23<00:03,  1.88it/s]\u001b[A\n",
      " 88%|████████▊ | 45/51 [00:24<00:03,  1.88it/s]\u001b[A\n",
      " 90%|█████████ | 46/51 [00:25<00:02,  1.88it/s]\u001b[A\n",
      " 92%|█████████▏| 47/51 [00:25<00:02,  1.88it/s]\u001b[A\n",
      " 94%|█████████▍| 48/51 [00:26<00:01,  1.88it/s]\u001b[A\n",
      " 96%|█████████▌| 49/51 [00:26<00:01,  1.88it/s]\u001b[A\n",
      " 98%|█████████▊| 50/51 [00:27<00:00,  1.88it/s]\u001b[A\n",
      "100%|██████████| 51/51 [00:27<00:00,  2.29it/s]\u001b[A\n",
      "  0%|          | 0/2 [00:00<?, ?it/s]\u001b[A"
     ]
    },
    {
     "name": "stdout",
     "output_type": "stream",
     "text": [
      "Completed training for epoch 19, testing validation dataset\n"
     ]
    },
    {
     "name": "stderr",
     "output_type": "stream",
     "text": [
      "\n",
      " 50%|█████     | 1/2 [00:00<00:00,  1.64it/s]\u001b[A\n",
      "100%|██████████| 2/2 [00:00<00:00,  2.11it/s]\u001b[A\n",
      "  0%|          | 0/2 [00:00<?, ?it/s]\u001b[A"
     ]
    },
    {
     "name": "stdout",
     "output_type": "stream",
     "text": [
      "loss: 0.43604859709739685\n",
      "top1acc: 86.40005493164062\n",
      "Completed testing validation dataset for epoch 19, testing training dataset\n"
     ]
    },
    {
     "name": "stderr",
     "output_type": "stream",
     "text": [
      "\n",
      " 50%|█████     | 1/2 [00:00<00:00,  1.62it/s]\u001b[A\n",
      " 17%|█▋        | 20/120 [09:43<48:54, 29.35s/it]"
     ]
    },
    {
     "name": "stdout",
     "output_type": "stream",
     "text": [
      "loss: 0.4647865891456604\n",
      "top1acc: 83.19999694824219\n",
      "Completed testing training dataset for epoch 19\n",
      "Starting epoch 20\n"
     ]
    },
    {
     "name": "stderr",
     "output_type": "stream",
     "text": [
      "\n",
      "  0%|          | 0/51 [00:00<?, ?it/s]\u001b[A\n",
      "  2%|▏         | 1/51 [00:01<00:50,  1.02s/it]\u001b[A\n",
      "  4%|▍         | 2/51 [00:01<00:42,  1.15it/s]\u001b[A\n",
      "  6%|▌         | 3/51 [00:02<00:36,  1.30it/s]\u001b[A\n",
      "  8%|▊         | 4/51 [00:02<00:32,  1.43it/s]\u001b[A\n",
      " 10%|▉         | 5/51 [00:03<00:29,  1.54it/s]\u001b[A\n",
      " 12%|█▏        | 6/51 [00:03<00:27,  1.63it/s]\u001b[A\n",
      " 14%|█▎        | 7/51 [00:04<00:25,  1.70it/s]\u001b[A\n",
      " 16%|█▌        | 8/51 [00:04<00:24,  1.75it/s]\u001b[A\n",
      " 18%|█▊        | 9/51 [00:05<00:23,  1.79it/s]\u001b[A\n",
      " 20%|█▉        | 10/51 [00:05<00:22,  1.81it/s]\u001b[A\n",
      " 22%|██▏       | 11/51 [00:06<00:21,  1.83it/s]\u001b[A\n",
      " 24%|██▎       | 12/51 [00:06<00:21,  1.84it/s]\u001b[A\n",
      " 25%|██▌       | 13/51 [00:07<00:20,  1.85it/s]\u001b[A\n",
      " 27%|██▋       | 14/51 [00:07<00:19,  1.86it/s]\u001b[A\n",
      " 29%|██▉       | 15/51 [00:08<00:19,  1.86it/s]\u001b[A\n",
      " 31%|███▏      | 16/51 [00:09<00:18,  1.87it/s]\u001b[A\n",
      " 33%|███▎      | 17/51 [00:09<00:18,  1.87it/s]\u001b[A\n",
      " 35%|███▌      | 18/51 [00:10<00:17,  1.87it/s]\u001b[A\n",
      " 37%|███▋      | 19/51 [00:10<00:17,  1.87it/s]\u001b[A\n",
      " 39%|███▉      | 20/51 [00:11<00:16,  1.87it/s]\u001b[A\n",
      " 41%|████      | 21/51 [00:11<00:15,  1.88it/s]\u001b[A\n",
      " 43%|████▎     | 22/51 [00:12<00:15,  1.88it/s]\u001b[A\n",
      " 45%|████▌     | 23/51 [00:12<00:14,  1.88it/s]\u001b[A\n",
      " 47%|████▋     | 24/51 [00:13<00:14,  1.88it/s]\u001b[A\n",
      " 49%|████▉     | 25/51 [00:13<00:13,  1.88it/s]\u001b[A\n",
      " 51%|█████     | 26/51 [00:14<00:13,  1.88it/s]\u001b[A\n",
      " 53%|█████▎    | 27/51 [00:14<00:12,  1.88it/s]\u001b[A\n",
      " 55%|█████▍    | 28/51 [00:15<00:12,  1.88it/s]\u001b[A\n",
      " 57%|█████▋    | 29/51 [00:15<00:11,  1.88it/s]\u001b[A\n",
      " 59%|█████▉    | 30/51 [00:16<00:11,  1.88it/s]\u001b[A\n",
      " 61%|██████    | 31/51 [00:17<00:10,  1.88it/s]\u001b[A\n",
      " 63%|██████▎   | 32/51 [00:17<00:10,  1.88it/s]\u001b[A\n",
      " 65%|██████▍   | 33/51 [00:18<00:09,  1.88it/s]\u001b[A\n",
      " 67%|██████▋   | 34/51 [00:18<00:09,  1.88it/s]\u001b[A\n",
      " 69%|██████▊   | 35/51 [00:19<00:08,  1.88it/s]\u001b[A\n",
      " 71%|███████   | 36/51 [00:19<00:08,  1.87it/s]\u001b[A\n",
      " 73%|███████▎  | 37/51 [00:20<00:07,  1.87it/s]\u001b[A\n",
      " 75%|███████▍  | 38/51 [00:20<00:06,  1.87it/s]\u001b[A\n",
      " 76%|███████▋  | 39/51 [00:21<00:06,  1.87it/s]\u001b[A\n",
      " 78%|███████▊  | 40/51 [00:21<00:05,  1.87it/s]\u001b[A\n",
      " 80%|████████  | 41/51 [00:22<00:05,  1.88it/s]\u001b[A\n",
      " 82%|████████▏ | 42/51 [00:22<00:04,  1.88it/s]\u001b[A\n",
      " 84%|████████▍ | 43/51 [00:23<00:04,  1.87it/s]\u001b[A\n",
      " 86%|████████▋ | 44/51 [00:23<00:03,  1.87it/s]\u001b[A\n",
      " 88%|████████▊ | 45/51 [00:24<00:03,  1.87it/s]\u001b[A\n",
      " 90%|█████████ | 46/51 [00:25<00:02,  1.88it/s]\u001b[A\n",
      " 92%|█████████▏| 47/51 [00:25<00:02,  1.88it/s]\u001b[A\n",
      " 94%|█████████▍| 48/51 [00:26<00:01,  1.88it/s]\u001b[A\n",
      " 96%|█████████▌| 49/51 [00:26<00:01,  1.88it/s]\u001b[A\n",
      " 98%|█████████▊| 50/51 [00:27<00:00,  1.88it/s]\u001b[A\n",
      "100%|██████████| 51/51 [00:27<00:00,  2.28it/s]\u001b[A\n",
      "  0%|          | 0/2 [00:00<?, ?it/s]\u001b[A"
     ]
    },
    {
     "name": "stdout",
     "output_type": "stream",
     "text": [
      "Completed training for epoch 20, testing validation dataset\n"
     ]
    },
    {
     "name": "stderr",
     "output_type": "stream",
     "text": [
      "\n",
      " 50%|█████     | 1/2 [00:00<00:00,  1.63it/s]\u001b[A\n",
      "100%|██████████| 2/2 [00:00<00:00,  2.10it/s]\u001b[A\n",
      "  0%|          | 0/2 [00:00<?, ?it/s]\u001b[A"
     ]
    },
    {
     "name": "stdout",
     "output_type": "stream",
     "text": [
      "loss: 0.46687614917755127\n",
      "top1acc: 85.2000732421875\n",
      "Completed testing validation dataset for epoch 20, testing training dataset\n"
     ]
    },
    {
     "name": "stderr",
     "output_type": "stream",
     "text": [
      "\n",
      " 50%|█████     | 1/2 [00:00<00:00,  1.72it/s]\u001b[A\n",
      " 18%|█▊        | 21/120 [10:12<48:23, 29.33s/it]"
     ]
    },
    {
     "name": "stdout",
     "output_type": "stream",
     "text": [
      "loss: 0.45753148198127747\n",
      "top1acc: 85.4000244140625\n",
      "Completed testing training dataset for epoch 20\n",
      "Starting epoch 21\n"
     ]
    },
    {
     "name": "stderr",
     "output_type": "stream",
     "text": [
      "\n",
      "  0%|          | 0/51 [00:00<?, ?it/s]\u001b[A\n",
      "  2%|▏         | 1/51 [00:01<00:52,  1.06s/it]\u001b[A\n",
      "  4%|▍         | 2/51 [00:01<00:44,  1.11it/s]\u001b[A\n",
      "  6%|▌         | 3/51 [00:02<00:37,  1.27it/s]\u001b[A\n",
      "  8%|▊         | 4/51 [00:02<00:33,  1.41it/s]\u001b[A\n",
      " 10%|▉         | 5/51 [00:03<00:30,  1.52it/s]\u001b[A\n",
      " 12%|█▏        | 6/51 [00:03<00:27,  1.61it/s]\u001b[A\n",
      " 14%|█▎        | 7/51 [00:04<00:26,  1.69it/s]\u001b[A\n",
      " 16%|█▌        | 8/51 [00:04<00:24,  1.74it/s]\u001b[A\n",
      " 18%|█▊        | 9/51 [00:05<00:23,  1.78it/s]\u001b[A\n",
      " 20%|█▉        | 10/51 [00:05<00:22,  1.81it/s]\u001b[A\n",
      " 22%|██▏       | 11/51 [00:06<00:21,  1.83it/s]\u001b[A\n",
      " 24%|██▎       | 12/51 [00:06<00:21,  1.84it/s]\u001b[A\n",
      " 25%|██▌       | 13/51 [00:07<00:20,  1.85it/s]\u001b[A\n",
      " 27%|██▋       | 14/51 [00:07<00:19,  1.86it/s]\u001b[A\n",
      " 29%|██▉       | 15/51 [00:08<00:19,  1.86it/s]\u001b[A\n",
      " 31%|███▏      | 16/51 [00:09<00:18,  1.87it/s]\u001b[A\n",
      " 33%|███▎      | 17/51 [00:09<00:18,  1.87it/s]\u001b[A\n",
      " 35%|███▌      | 18/51 [00:10<00:17,  1.87it/s]\u001b[A\n",
      " 37%|███▋      | 19/51 [00:10<00:17,  1.87it/s]\u001b[A\n",
      " 39%|███▉      | 20/51 [00:11<00:16,  1.87it/s]\u001b[A\n",
      " 41%|████      | 21/51 [00:11<00:16,  1.87it/s]\u001b[A\n",
      " 43%|████▎     | 22/51 [00:12<00:15,  1.87it/s]\u001b[A\n",
      " 45%|████▌     | 23/51 [00:12<00:14,  1.87it/s]\u001b[A\n",
      " 47%|████▋     | 24/51 [00:13<00:14,  1.88it/s]\u001b[A\n",
      " 49%|████▉     | 25/51 [00:13<00:13,  1.88it/s]\u001b[A\n",
      " 51%|█████     | 26/51 [00:14<00:13,  1.88it/s]\u001b[A\n",
      " 53%|█████▎    | 27/51 [00:14<00:12,  1.88it/s]\u001b[A\n",
      " 55%|█████▍    | 28/51 [00:15<00:12,  1.88it/s]\u001b[A\n",
      " 57%|█████▋    | 29/51 [00:15<00:11,  1.88it/s]\u001b[A\n",
      " 59%|█████▉    | 30/51 [00:16<00:11,  1.88it/s]\u001b[A\n",
      " 61%|██████    | 31/51 [00:17<00:10,  1.88it/s]\u001b[A\n",
      " 63%|██████▎   | 32/51 [00:17<00:10,  1.88it/s]\u001b[A\n",
      " 65%|██████▍   | 33/51 [00:18<00:09,  1.88it/s]\u001b[A\n",
      " 67%|██████▋   | 34/51 [00:18<00:09,  1.88it/s]\u001b[A\n",
      " 69%|██████▊   | 35/51 [00:19<00:08,  1.88it/s]\u001b[A\n",
      " 71%|███████   | 36/51 [00:19<00:07,  1.88it/s]\u001b[A\n",
      " 73%|███████▎  | 37/51 [00:20<00:07,  1.88it/s]\u001b[A\n",
      " 75%|███████▍  | 38/51 [00:20<00:06,  1.88it/s]\u001b[A\n",
      " 76%|███████▋  | 39/51 [00:21<00:06,  1.88it/s]\u001b[A\n",
      " 78%|███████▊  | 40/51 [00:21<00:05,  1.88it/s]\u001b[A\n",
      " 80%|████████  | 41/51 [00:22<00:05,  1.88it/s]\u001b[A\n",
      " 82%|████████▏ | 42/51 [00:22<00:04,  1.88it/s]\u001b[A\n",
      " 84%|████████▍ | 43/51 [00:23<00:04,  1.88it/s]\u001b[A\n",
      " 86%|████████▋ | 44/51 [00:23<00:03,  1.88it/s]\u001b[A\n",
      " 88%|████████▊ | 45/51 [00:24<00:03,  1.88it/s]\u001b[A\n",
      " 90%|█████████ | 46/51 [00:25<00:02,  1.88it/s]\u001b[A\n",
      " 92%|█████████▏| 47/51 [00:25<00:02,  1.88it/s]\u001b[A\n",
      " 94%|█████████▍| 48/51 [00:26<00:01,  1.88it/s]\u001b[A\n",
      " 96%|█████████▌| 49/51 [00:26<00:01,  1.88it/s]\u001b[A\n",
      " 98%|█████████▊| 50/51 [00:27<00:00,  1.88it/s]\u001b[A\n",
      "100%|██████████| 51/51 [00:27<00:00,  2.30it/s]\u001b[A\n",
      "  0%|          | 0/2 [00:00<?, ?it/s]\u001b[A"
     ]
    },
    {
     "name": "stdout",
     "output_type": "stream",
     "text": [
      "Completed training for epoch 21, testing validation dataset\n"
     ]
    },
    {
     "name": "stderr",
     "output_type": "stream",
     "text": [
      "\n",
      " 50%|█████     | 1/2 [00:00<00:00,  1.64it/s]\u001b[A\n",
      "100%|██████████| 2/2 [00:00<00:00,  2.12it/s]\u001b[A\n",
      "  0%|          | 0/2 [00:00<?, ?it/s]\u001b[A"
     ]
    },
    {
     "name": "stdout",
     "output_type": "stream",
     "text": [
      "loss: 0.46205756068229675\n",
      "top1acc: 85.80005645751953\n",
      "Completed testing validation dataset for epoch 21, testing training dataset\n"
     ]
    },
    {
     "name": "stderr",
     "output_type": "stream",
     "text": [
      "\n",
      " 50%|█████     | 1/2 [00:00<00:00,  1.67it/s]\u001b[A\n",
      " 18%|█▊        | 22/120 [10:42<47:54, 29.33s/it]"
     ]
    },
    {
     "name": "stdout",
     "output_type": "stream",
     "text": [
      "loss: 0.44732433557510376\n",
      "top1acc: 84.8000259399414\n",
      "Completed testing training dataset for epoch 21\n",
      "Starting epoch 22\n"
     ]
    },
    {
     "name": "stderr",
     "output_type": "stream",
     "text": [
      "\n",
      "  0%|          | 0/51 [00:00<?, ?it/s]\u001b[A\n",
      "  2%|▏         | 1/51 [00:01<00:51,  1.02s/it]\u001b[A\n",
      "  4%|▍         | 2/51 [00:01<00:42,  1.14it/s]\u001b[A\n",
      "  6%|▌         | 3/51 [00:02<00:37,  1.29it/s]\u001b[A\n",
      "  8%|▊         | 4/51 [00:02<00:32,  1.43it/s]\u001b[A\n",
      " 10%|▉         | 5/51 [00:03<00:29,  1.54it/s]\u001b[A\n",
      " 12%|█▏        | 6/51 [00:03<00:27,  1.63it/s]\u001b[A\n",
      " 14%|█▎        | 7/51 [00:04<00:25,  1.69it/s]\u001b[A\n",
      " 16%|█▌        | 8/51 [00:04<00:24,  1.74it/s]\u001b[A\n",
      " 18%|█▊        | 9/51 [00:05<00:23,  1.78it/s]\u001b[A\n",
      " 20%|█▉        | 10/51 [00:05<00:22,  1.81it/s]\u001b[A\n",
      " 22%|██▏       | 11/51 [00:06<00:21,  1.83it/s]\u001b[A\n",
      " 24%|██▎       | 12/51 [00:06<00:21,  1.84it/s]\u001b[A\n",
      " 25%|██▌       | 13/51 [00:07<00:20,  1.85it/s]\u001b[A\n",
      " 27%|██▋       | 14/51 [00:07<00:19,  1.86it/s]\u001b[A\n",
      " 29%|██▉       | 15/51 [00:08<00:19,  1.86it/s]\u001b[A\n",
      " 31%|███▏      | 16/51 [00:09<00:18,  1.87it/s]\u001b[A\n",
      " 33%|███▎      | 17/51 [00:09<00:18,  1.87it/s]\u001b[A\n",
      " 35%|███▌      | 18/51 [00:10<00:17,  1.87it/s]\u001b[A\n",
      " 37%|███▋      | 19/51 [00:10<00:17,  1.87it/s]\u001b[A\n",
      " 39%|███▉      | 20/51 [00:11<00:16,  1.87it/s]\u001b[A\n",
      " 41%|████      | 21/51 [00:11<00:16,  1.87it/s]\u001b[A\n",
      " 43%|████▎     | 22/51 [00:12<00:15,  1.87it/s]\u001b[A\n",
      " 45%|████▌     | 23/51 [00:12<00:14,  1.87it/s]\u001b[A\n",
      " 47%|████▋     | 24/51 [00:13<00:14,  1.87it/s]\u001b[A\n",
      " 49%|████▉     | 25/51 [00:13<00:13,  1.87it/s]\u001b[A\n",
      " 51%|█████     | 26/51 [00:14<00:13,  1.87it/s]\u001b[A\n",
      " 53%|█████▎    | 27/51 [00:14<00:12,  1.87it/s]\u001b[A\n",
      " 55%|█████▍    | 28/51 [00:15<00:12,  1.87it/s]\u001b[A\n",
      " 57%|█████▋    | 29/51 [00:15<00:11,  1.88it/s]\u001b[A\n",
      " 59%|█████▉    | 30/51 [00:16<00:11,  1.88it/s]\u001b[A\n",
      " 61%|██████    | 31/51 [00:17<00:10,  1.88it/s]\u001b[A\n",
      " 63%|██████▎   | 32/51 [00:17<00:10,  1.88it/s]\u001b[A\n",
      " 65%|██████▍   | 33/51 [00:18<00:09,  1.88it/s]\u001b[A\n",
      " 67%|██████▋   | 34/51 [00:18<00:09,  1.88it/s]\u001b[A\n",
      " 69%|██████▊   | 35/51 [00:19<00:08,  1.88it/s]\u001b[A\n",
      " 71%|███████   | 36/51 [00:19<00:07,  1.88it/s]\u001b[A\n",
      " 73%|███████▎  | 37/51 [00:20<00:07,  1.88it/s]\u001b[A\n",
      " 75%|███████▍  | 38/51 [00:20<00:06,  1.88it/s]\u001b[A\n",
      " 76%|███████▋  | 39/51 [00:21<00:06,  1.88it/s]\u001b[A\n",
      " 78%|███████▊  | 40/51 [00:21<00:05,  1.88it/s]\u001b[A\n",
      " 80%|████████  | 41/51 [00:22<00:05,  1.88it/s]\u001b[A\n",
      " 82%|████████▏ | 42/51 [00:22<00:04,  1.88it/s]\u001b[A\n",
      " 84%|████████▍ | 43/51 [00:23<00:04,  1.88it/s]\u001b[A\n",
      " 86%|████████▋ | 44/51 [00:23<00:03,  1.88it/s]\u001b[A\n",
      " 88%|████████▊ | 45/51 [00:24<00:03,  1.88it/s]\u001b[A\n",
      " 90%|█████████ | 46/51 [00:24<00:02,  1.88it/s]\u001b[A\n",
      " 92%|█████████▏| 47/51 [00:25<00:02,  1.88it/s]\u001b[A\n",
      " 94%|█████████▍| 48/51 [00:26<00:01,  1.88it/s]\u001b[A\n",
      " 96%|█████████▌| 49/51 [00:26<00:01,  1.88it/s]\u001b[A\n",
      " 98%|█████████▊| 50/51 [00:27<00:00,  1.88it/s]\u001b[A\n",
      "100%|██████████| 51/51 [00:27<00:00,  2.29it/s]\u001b[A\n",
      "  0%|          | 0/2 [00:00<?, ?it/s]\u001b[A"
     ]
    },
    {
     "name": "stdout",
     "output_type": "stream",
     "text": [
      "Completed training for epoch 22, testing validation dataset\n"
     ]
    },
    {
     "name": "stderr",
     "output_type": "stream",
     "text": [
      "\n",
      " 50%|█████     | 1/2 [00:00<00:00,  1.67it/s]\u001b[A\n",
      "100%|██████████| 2/2 [00:00<00:00,  2.15it/s]\u001b[A\n",
      "  0%|          | 0/2 [00:00<?, ?it/s]\u001b[A"
     ]
    },
    {
     "name": "stdout",
     "output_type": "stream",
     "text": [
      "loss: 0.5216693878173828\n",
      "top1acc: 84.60002136230469\n",
      "Completed testing validation dataset for epoch 22, testing training dataset\n"
     ]
    },
    {
     "name": "stderr",
     "output_type": "stream",
     "text": [
      "\n",
      " 50%|█████     | 1/2 [00:00<00:00,  1.77it/s]\u001b[A\n",
      " 19%|█▉        | 23/120 [11:11<47:22, 29.30s/it]"
     ]
    },
    {
     "name": "stdout",
     "output_type": "stream",
     "text": [
      "loss: 0.4795128405094147\n",
      "top1acc: 84.0\n",
      "Completed testing training dataset for epoch 22\n",
      "Starting epoch 23\n"
     ]
    },
    {
     "name": "stderr",
     "output_type": "stream",
     "text": [
      "\n",
      "  0%|          | 0/51 [00:00<?, ?it/s]\u001b[A\n",
      "  2%|▏         | 1/51 [00:01<00:51,  1.03s/it]\u001b[A\n",
      "  4%|▍         | 2/51 [00:01<00:43,  1.14it/s]\u001b[A\n",
      "  6%|▌         | 3/51 [00:02<00:37,  1.29it/s]\u001b[A\n",
      "  8%|▊         | 4/51 [00:02<00:32,  1.43it/s]\u001b[A\n",
      " 10%|▉         | 5/51 [00:03<00:29,  1.54it/s]\u001b[A\n",
      " 12%|█▏        | 6/51 [00:03<00:27,  1.62it/s]\u001b[A\n",
      " 14%|█▎        | 7/51 [00:04<00:25,  1.69it/s]\u001b[A\n",
      " 16%|█▌        | 8/51 [00:04<00:24,  1.74it/s]\u001b[A\n",
      " 18%|█▊        | 9/51 [00:05<00:23,  1.78it/s]\u001b[A\n",
      " 20%|█▉        | 10/51 [00:05<00:22,  1.81it/s]\u001b[A\n",
      " 22%|██▏       | 11/51 [00:06<00:21,  1.83it/s]\u001b[A\n",
      " 24%|██▎       | 12/51 [00:06<00:21,  1.84it/s]\u001b[A\n",
      " 25%|██▌       | 13/51 [00:07<00:20,  1.85it/s]\u001b[A\n",
      " 27%|██▋       | 14/51 [00:07<00:19,  1.86it/s]\u001b[A\n",
      " 29%|██▉       | 15/51 [00:08<00:19,  1.86it/s]\u001b[A\n",
      " 31%|███▏      | 16/51 [00:09<00:18,  1.87it/s]\u001b[A\n",
      " 33%|███▎      | 17/51 [00:09<00:18,  1.87it/s]\u001b[A\n",
      " 35%|███▌      | 18/51 [00:10<00:17,  1.87it/s]\u001b[A\n",
      " 37%|███▋      | 19/51 [00:10<00:17,  1.87it/s]\u001b[A\n",
      " 39%|███▉      | 20/51 [00:11<00:16,  1.87it/s]\u001b[A\n",
      " 41%|████      | 21/51 [00:11<00:16,  1.87it/s]\u001b[A\n",
      " 43%|████▎     | 22/51 [00:12<00:15,  1.88it/s]\u001b[A\n",
      " 45%|████▌     | 23/51 [00:12<00:14,  1.88it/s]\u001b[A\n",
      " 47%|████▋     | 24/51 [00:13<00:14,  1.88it/s]\u001b[A\n",
      " 49%|████▉     | 25/51 [00:13<00:13,  1.88it/s]\u001b[A\n",
      " 51%|█████     | 26/51 [00:14<00:13,  1.88it/s]\u001b[A\n",
      " 53%|█████▎    | 27/51 [00:14<00:12,  1.88it/s]\u001b[A\n",
      " 55%|█████▍    | 28/51 [00:15<00:12,  1.88it/s]\u001b[A\n",
      " 57%|█████▋    | 29/51 [00:15<00:11,  1.88it/s]\u001b[A\n",
      " 59%|█████▉    | 30/51 [00:16<00:11,  1.88it/s]\u001b[A\n",
      " 61%|██████    | 31/51 [00:17<00:10,  1.88it/s]\u001b[A\n",
      " 63%|██████▎   | 32/51 [00:17<00:10,  1.88it/s]\u001b[A\n",
      " 65%|██████▍   | 33/51 [00:18<00:09,  1.88it/s]\u001b[A\n",
      " 67%|██████▋   | 34/51 [00:18<00:09,  1.88it/s]\u001b[A\n",
      " 69%|██████▊   | 35/51 [00:19<00:08,  1.88it/s]\u001b[A\n",
      " 71%|███████   | 36/51 [00:19<00:07,  1.88it/s]\u001b[A\n",
      " 73%|███████▎  | 37/51 [00:20<00:07,  1.88it/s]\u001b[A\n",
      " 75%|███████▍  | 38/51 [00:20<00:06,  1.88it/s]\u001b[A\n",
      " 76%|███████▋  | 39/51 [00:21<00:06,  1.88it/s]\u001b[A\n",
      " 78%|███████▊  | 40/51 [00:21<00:05,  1.88it/s]\u001b[A\n",
      " 80%|████████  | 41/51 [00:22<00:05,  1.88it/s]\u001b[A\n",
      " 82%|████████▏ | 42/51 [00:22<00:04,  1.88it/s]\u001b[A\n",
      " 84%|████████▍ | 43/51 [00:23<00:04,  1.88it/s]\u001b[A\n",
      " 86%|████████▋ | 44/51 [00:23<00:03,  1.88it/s]\u001b[A\n",
      " 88%|████████▊ | 45/51 [00:24<00:03,  1.88it/s]\u001b[A\n",
      " 90%|█████████ | 46/51 [00:24<00:02,  1.88it/s]\u001b[A\n",
      " 92%|█████████▏| 47/51 [00:25<00:02,  1.88it/s]\u001b[A\n",
      " 94%|█████████▍| 48/51 [00:26<00:01,  1.88it/s]\u001b[A\n",
      " 96%|█████████▌| 49/51 [00:26<00:01,  1.88it/s]\u001b[A\n",
      " 98%|█████████▊| 50/51 [00:27<00:00,  1.88it/s]\u001b[A\n",
      "100%|██████████| 51/51 [00:27<00:00,  2.28it/s]\u001b[A\n",
      "  0%|          | 0/2 [00:00<?, ?it/s]\u001b[A"
     ]
    },
    {
     "name": "stdout",
     "output_type": "stream",
     "text": [
      "Completed training for epoch 23, testing validation dataset\n"
     ]
    },
    {
     "name": "stderr",
     "output_type": "stream",
     "text": [
      "\n",
      " 50%|█████     | 1/2 [00:00<00:00,  1.65it/s]\u001b[A\n",
      "100%|██████████| 2/2 [00:00<00:00,  2.13it/s]\u001b[A\n",
      "  0%|          | 0/2 [00:00<?, ?it/s]\u001b[A"
     ]
    },
    {
     "name": "stdout",
     "output_type": "stream",
     "text": [
      "loss: 0.4228565990924835\n",
      "top1acc: 87.1999282836914\n",
      "Completed testing validation dataset for epoch 23, testing training dataset\n"
     ]
    },
    {
     "name": "stderr",
     "output_type": "stream",
     "text": [
      "\n",
      " 50%|█████     | 1/2 [00:00<00:00,  1.70it/s]\u001b[A\n",
      " 20%|██        | 24/120 [11:40<46:52, 29.30s/it]"
     ]
    },
    {
     "name": "stdout",
     "output_type": "stream",
     "text": [
      "loss: 0.41076934337615967\n",
      "top1acc: 86.20006561279297\n",
      "Completed testing training dataset for epoch 23\n",
      "Starting epoch 24\n"
     ]
    },
    {
     "name": "stderr",
     "output_type": "stream",
     "text": [
      "\n",
      "  0%|          | 0/51 [00:00<?, ?it/s]\u001b[A\n",
      "  2%|▏         | 1/51 [00:01<00:50,  1.01s/it]\u001b[A\n",
      "  4%|▍         | 2/51 [00:01<00:42,  1.15it/s]\u001b[A\n",
      "  6%|▌         | 3/51 [00:02<00:36,  1.30it/s]\u001b[A\n",
      "  8%|▊         | 4/51 [00:02<00:32,  1.44it/s]\u001b[A\n",
      " 10%|▉         | 5/51 [00:03<00:29,  1.55it/s]\u001b[A\n",
      " 12%|█▏        | 6/51 [00:03<00:27,  1.63it/s]\u001b[A\n",
      " 14%|█▎        | 7/51 [00:04<00:25,  1.70it/s]\u001b[A\n",
      " 16%|█▌        | 8/51 [00:04<00:24,  1.75it/s]\u001b[A\n",
      " 18%|█▊        | 9/51 [00:05<00:23,  1.79it/s]\u001b[A\n",
      " 20%|█▉        | 10/51 [00:05<00:22,  1.82it/s]\u001b[A\n",
      " 22%|██▏       | 11/51 [00:06<00:21,  1.84it/s]\u001b[A\n",
      " 24%|██▎       | 12/51 [00:06<00:21,  1.85it/s]\u001b[A\n",
      " 25%|██▌       | 13/51 [00:07<00:20,  1.86it/s]\u001b[A\n",
      " 27%|██▋       | 14/51 [00:07<00:19,  1.86it/s]\u001b[A\n",
      " 29%|██▉       | 15/51 [00:08<00:19,  1.87it/s]\u001b[A\n",
      " 31%|███▏      | 16/51 [00:08<00:18,  1.87it/s]\u001b[A\n",
      " 33%|███▎      | 17/51 [00:09<00:18,  1.88it/s]\u001b[A\n",
      " 35%|███▌      | 18/51 [00:10<00:17,  1.88it/s]\u001b[A\n",
      " 37%|███▋      | 19/51 [00:10<00:17,  1.88it/s]\u001b[A\n",
      " 39%|███▉      | 20/51 [00:11<00:16,  1.88it/s]\u001b[A\n",
      " 41%|████      | 21/51 [00:11<00:15,  1.88it/s]\u001b[A\n",
      " 43%|████▎     | 22/51 [00:12<00:15,  1.88it/s]\u001b[A\n",
      " 45%|████▌     | 23/51 [00:12<00:14,  1.88it/s]\u001b[A\n",
      " 47%|████▋     | 24/51 [00:13<00:14,  1.88it/s]\u001b[A\n",
      " 49%|████▉     | 25/51 [00:13<00:13,  1.88it/s]\u001b[A\n",
      " 51%|█████     | 26/51 [00:14<00:13,  1.88it/s]\u001b[A\n",
      " 53%|█████▎    | 27/51 [00:14<00:12,  1.88it/s]\u001b[A\n",
      " 55%|█████▍    | 28/51 [00:15<00:12,  1.88it/s]\u001b[A\n",
      " 57%|█████▋    | 29/51 [00:15<00:11,  1.88it/s]\u001b[A\n",
      " 59%|█████▉    | 30/51 [00:16<00:11,  1.88it/s]\u001b[A\n",
      " 61%|██████    | 31/51 [00:16<00:10,  1.86it/s]\u001b[A\n",
      " 63%|██████▎   | 32/51 [00:17<00:10,  1.87it/s]\u001b[A\n",
      " 65%|██████▍   | 33/51 [00:18<00:09,  1.87it/s]\u001b[A\n",
      " 67%|██████▋   | 34/51 [00:18<00:09,  1.87it/s]\u001b[A\n",
      " 69%|██████▊   | 35/51 [00:19<00:08,  1.88it/s]\u001b[A\n",
      " 71%|███████   | 36/51 [00:19<00:07,  1.88it/s]\u001b[A\n",
      " 73%|███████▎  | 37/51 [00:20<00:07,  1.88it/s]\u001b[A\n",
      " 75%|███████▍  | 38/51 [00:20<00:06,  1.88it/s]\u001b[A\n",
      " 76%|███████▋  | 39/51 [00:21<00:06,  1.88it/s]\u001b[A\n",
      " 78%|███████▊  | 40/51 [00:21<00:05,  1.88it/s]\u001b[A\n",
      " 80%|████████  | 41/51 [00:22<00:05,  1.88it/s]\u001b[A\n",
      " 82%|████████▏ | 42/51 [00:22<00:04,  1.88it/s]\u001b[A\n",
      " 84%|████████▍ | 43/51 [00:23<00:04,  1.88it/s]\u001b[A\n",
      " 86%|████████▋ | 44/51 [00:23<00:03,  1.88it/s]\u001b[A\n",
      " 88%|████████▊ | 45/51 [00:24<00:03,  1.88it/s]\u001b[A\n",
      " 90%|█████████ | 46/51 [00:24<00:02,  1.88it/s]\u001b[A\n",
      " 92%|█████████▏| 47/51 [00:25<00:02,  1.88it/s]\u001b[A\n",
      " 94%|█████████▍| 48/51 [00:26<00:01,  1.88it/s]\u001b[A\n",
      " 96%|█████████▌| 49/51 [00:26<00:01,  1.88it/s]\u001b[A\n",
      " 98%|█████████▊| 50/51 [00:27<00:00,  1.88it/s]\u001b[A\n",
      "100%|██████████| 51/51 [00:27<00:00,  2.29it/s]\u001b[A\n",
      "  0%|          | 0/2 [00:00<?, ?it/s]\u001b[A"
     ]
    },
    {
     "name": "stdout",
     "output_type": "stream",
     "text": [
      "Completed training for epoch 24, testing validation dataset\n"
     ]
    },
    {
     "name": "stderr",
     "output_type": "stream",
     "text": [
      "\n",
      " 50%|█████     | 1/2 [00:00<00:00,  1.66it/s]\u001b[A\n",
      "100%|██████████| 2/2 [00:00<00:00,  2.14it/s]\u001b[A\n",
      "  0%|          | 0/2 [00:00<?, ?it/s]\u001b[A"
     ]
    },
    {
     "name": "stdout",
     "output_type": "stream",
     "text": [
      "loss: 0.43019184470176697\n",
      "top1acc: 85.20001983642578\n",
      "Completed testing validation dataset for epoch 24, testing training dataset\n"
     ]
    },
    {
     "name": "stderr",
     "output_type": "stream",
     "text": [
      "\n",
      " 50%|█████     | 1/2 [00:00<00:00,  1.74it/s]\u001b[A\n",
      " 21%|██        | 25/120 [12:10<46:21, 29.28s/it]"
     ]
    },
    {
     "name": "stdout",
     "output_type": "stream",
     "text": [
      "loss: 0.39435330033302307\n",
      "top1acc: 86.39994049072266\n",
      "Completed testing training dataset for epoch 24\n",
      "Starting epoch 25\n"
     ]
    },
    {
     "name": "stderr",
     "output_type": "stream",
     "text": [
      "\n",
      "  0%|          | 0/51 [00:00<?, ?it/s]\u001b[A\n",
      "  2%|▏         | 1/51 [00:01<00:51,  1.03s/it]\u001b[A\n",
      "  4%|▍         | 2/51 [00:01<00:43,  1.14it/s]\u001b[A\n",
      "  6%|▌         | 3/51 [00:02<00:37,  1.29it/s]\u001b[A\n",
      "  8%|▊         | 4/51 [00:02<00:33,  1.42it/s]\u001b[A\n",
      " 10%|▉         | 5/51 [00:03<00:29,  1.53it/s]\u001b[A\n",
      " 12%|█▏        | 6/51 [00:03<00:27,  1.62it/s]\u001b[A\n",
      " 14%|█▎        | 7/51 [00:04<00:25,  1.69it/s]\u001b[A\n",
      " 16%|█▌        | 8/51 [00:04<00:24,  1.75it/s]\u001b[A\n",
      " 18%|█▊        | 9/51 [00:05<00:23,  1.78it/s]\u001b[A\n",
      " 20%|█▉        | 10/51 [00:05<00:22,  1.81it/s]\u001b[A\n",
      " 22%|██▏       | 11/51 [00:06<00:21,  1.83it/s]\u001b[A\n",
      " 24%|██▎       | 12/51 [00:06<00:21,  1.85it/s]\u001b[A\n",
      " 25%|██▌       | 13/51 [00:07<00:20,  1.86it/s]\u001b[A\n",
      " 27%|██▋       | 14/51 [00:07<00:19,  1.86it/s]\u001b[A\n",
      " 29%|██▉       | 15/51 [00:08<00:19,  1.87it/s]\u001b[A\n",
      " 31%|███▏      | 16/51 [00:09<00:18,  1.87it/s]\u001b[A\n",
      " 33%|███▎      | 17/51 [00:09<00:18,  1.87it/s]\u001b[A\n",
      " 35%|███▌      | 18/51 [00:10<00:17,  1.88it/s]\u001b[A\n",
      " 37%|███▋      | 19/51 [00:10<00:17,  1.88it/s]\u001b[A\n",
      " 39%|███▉      | 20/51 [00:11<00:16,  1.88it/s]\u001b[A\n",
      " 41%|████      | 21/51 [00:11<00:15,  1.88it/s]\u001b[A\n",
      " 43%|████▎     | 22/51 [00:12<00:15,  1.88it/s]\u001b[A\n",
      " 45%|████▌     | 23/51 [00:12<00:14,  1.88it/s]\u001b[A\n",
      " 47%|████▋     | 24/51 [00:13<00:14,  1.88it/s]\u001b[A\n",
      " 49%|████▉     | 25/51 [00:13<00:13,  1.87it/s]\u001b[A\n",
      " 51%|█████     | 26/51 [00:14<00:13,  1.87it/s]\u001b[A\n",
      " 53%|█████▎    | 27/51 [00:14<00:12,  1.88it/s]\u001b[A\n",
      " 55%|█████▍    | 28/51 [00:15<00:12,  1.88it/s]\u001b[A\n",
      " 57%|█████▋    | 29/51 [00:15<00:11,  1.88it/s]\u001b[A\n",
      " 59%|█████▉    | 30/51 [00:16<00:11,  1.88it/s]\u001b[A\n",
      " 61%|██████    | 31/51 [00:17<00:10,  1.88it/s]\u001b[A\n",
      " 63%|██████▎   | 32/51 [00:17<00:10,  1.88it/s]\u001b[A\n",
      " 65%|██████▍   | 33/51 [00:18<00:09,  1.87it/s]\u001b[A\n",
      " 67%|██████▋   | 34/51 [00:18<00:09,  1.87it/s]\u001b[A\n",
      " 69%|██████▊   | 35/51 [00:19<00:08,  1.87it/s]\u001b[A\n",
      " 71%|███████   | 36/51 [00:19<00:08,  1.87it/s]\u001b[A\n",
      " 73%|███████▎  | 37/51 [00:20<00:07,  1.87it/s]\u001b[A\n",
      " 75%|███████▍  | 38/51 [00:20<00:06,  1.88it/s]\u001b[A\n",
      " 76%|███████▋  | 39/51 [00:21<00:06,  1.88it/s]\u001b[A\n",
      " 78%|███████▊  | 40/51 [00:21<00:05,  1.88it/s]\u001b[A\n",
      " 80%|████████  | 41/51 [00:22<00:05,  1.88it/s]\u001b[A\n",
      " 82%|████████▏ | 42/51 [00:22<00:04,  1.88it/s]\u001b[A\n",
      " 84%|████████▍ | 43/51 [00:23<00:04,  1.88it/s]\u001b[A\n",
      " 86%|████████▋ | 44/51 [00:23<00:03,  1.88it/s]\u001b[A\n",
      " 88%|████████▊ | 45/51 [00:24<00:03,  1.88it/s]\u001b[A\n",
      " 90%|█████████ | 46/51 [00:24<00:02,  1.88it/s]\u001b[A\n",
      " 92%|█████████▏| 47/51 [00:25<00:02,  1.88it/s]\u001b[A\n",
      " 94%|█████████▍| 48/51 [00:26<00:01,  1.88it/s]\u001b[A\n",
      " 96%|█████████▌| 49/51 [00:26<00:01,  1.88it/s]\u001b[A\n",
      " 98%|█████████▊| 50/51 [00:27<00:00,  1.88it/s]\u001b[A\n",
      "100%|██████████| 51/51 [00:27<00:00,  2.29it/s]\u001b[A\n",
      "  0%|          | 0/2 [00:00<?, ?it/s]\u001b[A"
     ]
    },
    {
     "name": "stdout",
     "output_type": "stream",
     "text": [
      "Completed training for epoch 25, testing validation dataset\n"
     ]
    },
    {
     "name": "stderr",
     "output_type": "stream",
     "text": [
      "\n",
      " 50%|█████     | 1/2 [00:00<00:00,  1.62it/s]\u001b[A\n",
      "100%|██████████| 2/2 [00:00<00:00,  2.09it/s]\u001b[A\n",
      "  0%|          | 0/2 [00:00<?, ?it/s]\u001b[A"
     ]
    },
    {
     "name": "stdout",
     "output_type": "stream",
     "text": [
      "loss: 0.4158949851989746\n",
      "top1acc: 88.40007019042969\n",
      "Completed testing validation dataset for epoch 25, testing training dataset\n"
     ]
    },
    {
     "name": "stderr",
     "output_type": "stream",
     "text": [
      "\n",
      " 50%|█████     | 1/2 [00:00<00:00,  1.60it/s]\u001b[A\n",
      " 22%|██▏       | 26/120 [12:39<45:53, 29.30s/it]"
     ]
    },
    {
     "name": "stdout",
     "output_type": "stream",
     "text": [
      "loss: 0.3742988407611847\n",
      "top1acc: 87.79994201660156\n",
      "Completed testing training dataset for epoch 25\n",
      "Starting epoch 26\n"
     ]
    },
    {
     "name": "stderr",
     "output_type": "stream",
     "text": [
      "\n",
      "  0%|          | 0/51 [00:00<?, ?it/s]\u001b[A\n",
      "  2%|▏         | 1/51 [00:01<00:51,  1.02s/it]\u001b[A\n",
      "  4%|▍         | 2/51 [00:01<00:42,  1.14it/s]\u001b[A\n",
      "  6%|▌         | 3/51 [00:02<00:37,  1.30it/s]\u001b[A\n",
      "  8%|▊         | 4/51 [00:02<00:32,  1.43it/s]\u001b[A\n",
      " 10%|▉         | 5/51 [00:03<00:29,  1.54it/s]\u001b[A\n",
      " 12%|█▏        | 6/51 [00:03<00:27,  1.63it/s]\u001b[A\n",
      " 14%|█▎        | 7/51 [00:04<00:25,  1.70it/s]\u001b[A\n",
      " 16%|█▌        | 8/51 [00:04<00:24,  1.75it/s]\u001b[A\n",
      " 18%|█▊        | 9/51 [00:05<00:23,  1.78it/s]\u001b[A\n",
      " 20%|█▉        | 10/51 [00:05<00:22,  1.81it/s]\u001b[A\n",
      " 22%|██▏       | 11/51 [00:06<00:21,  1.83it/s]\u001b[A\n",
      " 24%|██▎       | 12/51 [00:06<00:21,  1.85it/s]\u001b[A\n",
      " 25%|██▌       | 13/51 [00:07<00:20,  1.86it/s]\u001b[A\n",
      " 27%|██▋       | 14/51 [00:07<00:19,  1.86it/s]\u001b[A\n",
      " 29%|██▉       | 15/51 [00:08<00:19,  1.87it/s]\u001b[A\n",
      " 31%|███▏      | 16/51 [00:09<00:18,  1.87it/s]\u001b[A\n",
      " 33%|███▎      | 17/51 [00:09<00:18,  1.87it/s]\u001b[A\n",
      " 35%|███▌      | 18/51 [00:10<00:17,  1.87it/s]\u001b[A\n",
      " 37%|███▋      | 19/51 [00:10<00:17,  1.87it/s]\u001b[A\n",
      " 39%|███▉      | 20/51 [00:11<00:16,  1.87it/s]\u001b[A\n",
      " 41%|████      | 21/51 [00:11<00:16,  1.87it/s]\u001b[A\n",
      " 43%|████▎     | 22/51 [00:12<00:15,  1.88it/s]\u001b[A\n",
      " 45%|████▌     | 23/51 [00:12<00:14,  1.88it/s]\u001b[A\n",
      " 47%|████▋     | 24/51 [00:13<00:14,  1.88it/s]\u001b[A\n",
      " 49%|████▉     | 25/51 [00:13<00:13,  1.87it/s]\u001b[A\n",
      " 51%|█████     | 26/51 [00:14<00:13,  1.88it/s]\u001b[A\n",
      " 53%|█████▎    | 27/51 [00:14<00:12,  1.88it/s]\u001b[A\n",
      " 55%|█████▍    | 28/51 [00:15<00:12,  1.88it/s]\u001b[A\n",
      " 57%|█████▋    | 29/51 [00:15<00:11,  1.88it/s]\u001b[A\n",
      " 59%|█████▉    | 30/51 [00:16<00:11,  1.88it/s]\u001b[A\n",
      " 61%|██████    | 31/51 [00:16<00:10,  1.88it/s]\u001b[A\n",
      " 63%|██████▎   | 32/51 [00:17<00:10,  1.88it/s]\u001b[A\n",
      " 65%|██████▍   | 33/51 [00:18<00:09,  1.88it/s]\u001b[A\n",
      " 67%|██████▋   | 34/51 [00:18<00:09,  1.88it/s]\u001b[A\n",
      " 69%|██████▊   | 35/51 [00:19<00:08,  1.88it/s]\u001b[A\n",
      " 71%|███████   | 36/51 [00:19<00:07,  1.88it/s]\u001b[A\n",
      " 73%|███████▎  | 37/51 [00:20<00:07,  1.88it/s]\u001b[A\n",
      " 75%|███████▍  | 38/51 [00:20<00:06,  1.88it/s]\u001b[A\n",
      " 76%|███████▋  | 39/51 [00:21<00:06,  1.88it/s]\u001b[A\n",
      " 78%|███████▊  | 40/51 [00:21<00:05,  1.88it/s]\u001b[A\n",
      " 80%|████████  | 41/51 [00:22<00:05,  1.88it/s]\u001b[A\n",
      " 82%|████████▏ | 42/51 [00:22<00:04,  1.87it/s]\u001b[A\n",
      " 84%|████████▍ | 43/51 [00:23<00:04,  1.87it/s]\u001b[A\n",
      " 86%|████████▋ | 44/51 [00:23<00:03,  1.87it/s]\u001b[A\n",
      " 88%|████████▊ | 45/51 [00:24<00:03,  1.88it/s]\u001b[A\n",
      " 90%|█████████ | 46/51 [00:24<00:02,  1.88it/s]\u001b[A\n",
      " 92%|█████████▏| 47/51 [00:25<00:02,  1.88it/s]\u001b[A\n",
      " 94%|█████████▍| 48/51 [00:26<00:01,  1.87it/s]\u001b[A\n",
      " 96%|█████████▌| 49/51 [00:26<00:01,  1.87it/s]\u001b[A\n",
      " 98%|█████████▊| 50/51 [00:27<00:00,  1.88it/s]\u001b[A\n",
      "100%|██████████| 51/51 [00:27<00:00,  2.29it/s]\u001b[A\n",
      "  0%|          | 0/2 [00:00<?, ?it/s]\u001b[A"
     ]
    },
    {
     "name": "stdout",
     "output_type": "stream",
     "text": [
      "Completed training for epoch 26, testing validation dataset\n"
     ]
    },
    {
     "name": "stderr",
     "output_type": "stream",
     "text": [
      "\n",
      " 50%|█████     | 1/2 [00:00<00:00,  1.70it/s]\u001b[A\n",
      "100%|██████████| 2/2 [00:00<00:00,  2.17it/s]\u001b[A\n",
      "  0%|          | 0/2 [00:00<?, ?it/s]\u001b[A"
     ]
    },
    {
     "name": "stdout",
     "output_type": "stream",
     "text": [
      "loss: 0.4543895423412323\n",
      "top1acc: 87.19993591308594\n",
      "Completed testing validation dataset for epoch 26, testing training dataset\n"
     ]
    },
    {
     "name": "stderr",
     "output_type": "stream",
     "text": [
      "\n",
      " 50%|█████     | 1/2 [00:00<00:00,  1.61it/s]\u001b[A\n",
      " 22%|██▎       | 27/120 [13:08<45:25, 29.30s/it]"
     ]
    },
    {
     "name": "stdout",
     "output_type": "stream",
     "text": [
      "loss: 0.38315320014953613\n",
      "top1acc: 86.20001983642578\n",
      "Completed testing training dataset for epoch 26\n",
      "Starting epoch 27\n"
     ]
    },
    {
     "name": "stderr",
     "output_type": "stream",
     "text": [
      "\n",
      "  0%|          | 0/51 [00:00<?, ?it/s]\u001b[A\n",
      "  2%|▏         | 1/51 [00:01<00:51,  1.03s/it]\u001b[A\n",
      "  4%|▍         | 2/51 [00:01<00:43,  1.13it/s]\u001b[A\n",
      "  6%|▌         | 3/51 [00:02<00:37,  1.28it/s]\u001b[A\n",
      "  8%|▊         | 4/51 [00:02<00:33,  1.42it/s]\u001b[A\n",
      " 10%|▉         | 5/51 [00:03<00:30,  1.53it/s]\u001b[A\n",
      " 12%|█▏        | 6/51 [00:03<00:27,  1.62it/s]\u001b[A\n",
      " 14%|█▎        | 7/51 [00:04<00:26,  1.69it/s]\u001b[A\n",
      " 16%|█▌        | 8/51 [00:04<00:24,  1.74it/s]\u001b[A\n",
      " 18%|█▊        | 9/51 [00:05<00:23,  1.77it/s]\u001b[A\n",
      " 20%|█▉        | 10/51 [00:05<00:22,  1.80it/s]\u001b[A\n",
      " 22%|██▏       | 11/51 [00:06<00:21,  1.82it/s]\u001b[A\n",
      " 24%|██▎       | 12/51 [00:06<00:21,  1.84it/s]\u001b[A\n",
      " 25%|██▌       | 13/51 [00:07<00:20,  1.85it/s]\u001b[A\n",
      " 27%|██▋       | 14/51 [00:07<00:19,  1.86it/s]\u001b[A\n",
      " 29%|██▉       | 15/51 [00:08<00:19,  1.86it/s]\u001b[A\n",
      " 31%|███▏      | 16/51 [00:09<00:18,  1.87it/s]\u001b[A\n",
      " 33%|███▎      | 17/51 [00:09<00:18,  1.87it/s]\u001b[A\n",
      " 35%|███▌      | 18/51 [00:10<00:17,  1.87it/s]\u001b[A\n",
      " 37%|███▋      | 19/51 [00:10<00:17,  1.87it/s]\u001b[A\n",
      " 39%|███▉      | 20/51 [00:11<00:16,  1.87it/s]\u001b[A\n",
      " 41%|████      | 21/51 [00:11<00:15,  1.88it/s]\u001b[A\n",
      " 43%|████▎     | 22/51 [00:12<00:15,  1.88it/s]\u001b[A\n",
      " 45%|████▌     | 23/51 [00:12<00:14,  1.88it/s]\u001b[A\n",
      " 47%|████▋     | 24/51 [00:13<00:14,  1.88it/s]\u001b[A\n",
      " 49%|████▉     | 25/51 [00:13<00:13,  1.88it/s]\u001b[A\n",
      " 51%|█████     | 26/51 [00:14<00:13,  1.88it/s]\u001b[A\n",
      " 53%|█████▎    | 27/51 [00:14<00:12,  1.88it/s]\u001b[A\n",
      " 55%|█████▍    | 28/51 [00:15<00:12,  1.88it/s]\u001b[A\n",
      " 57%|█████▋    | 29/51 [00:15<00:11,  1.88it/s]\u001b[A\n",
      " 59%|█████▉    | 30/51 [00:16<00:11,  1.88it/s]\u001b[A\n",
      " 61%|██████    | 31/51 [00:17<00:10,  1.87it/s]\u001b[A\n",
      " 63%|██████▎   | 32/51 [00:17<00:10,  1.87it/s]\u001b[A\n",
      " 65%|██████▍   | 33/51 [00:18<00:09,  1.87it/s]\u001b[A\n",
      " 67%|██████▋   | 34/51 [00:18<00:09,  1.87it/s]\u001b[A\n",
      " 69%|██████▊   | 35/51 [00:19<00:08,  1.88it/s]\u001b[A\n",
      " 71%|███████   | 36/51 [00:19<00:07,  1.88it/s]\u001b[A\n",
      " 73%|███████▎  | 37/51 [00:20<00:07,  1.88it/s]\u001b[A\n",
      " 75%|███████▍  | 38/51 [00:20<00:06,  1.88it/s]\u001b[A\n",
      " 76%|███████▋  | 39/51 [00:21<00:06,  1.88it/s]\u001b[A\n",
      " 78%|███████▊  | 40/51 [00:21<00:05,  1.88it/s]\u001b[A\n",
      " 80%|████████  | 41/51 [00:22<00:05,  1.88it/s]\u001b[A\n",
      " 82%|████████▏ | 42/51 [00:22<00:04,  1.88it/s]\u001b[A\n",
      " 84%|████████▍ | 43/51 [00:23<00:04,  1.88it/s]\u001b[A\n",
      " 86%|████████▋ | 44/51 [00:23<00:03,  1.88it/s]\u001b[A\n",
      " 88%|████████▊ | 45/51 [00:24<00:03,  1.88it/s]\u001b[A\n",
      " 90%|█████████ | 46/51 [00:25<00:02,  1.88it/s]\u001b[A\n",
      " 92%|█████████▏| 47/51 [00:25<00:02,  1.87it/s]\u001b[A\n",
      " 94%|█████████▍| 48/51 [00:26<00:01,  1.88it/s]\u001b[A\n",
      " 96%|█████████▌| 49/51 [00:26<00:01,  1.88it/s]\u001b[A\n",
      " 98%|█████████▊| 50/51 [00:27<00:00,  1.88it/s]\u001b[A\n",
      "100%|██████████| 51/51 [00:27<00:00,  2.29it/s]\u001b[A\n",
      "  0%|          | 0/2 [00:00<?, ?it/s]\u001b[A"
     ]
    },
    {
     "name": "stdout",
     "output_type": "stream",
     "text": [
      "Completed training for epoch 27, testing validation dataset\n"
     ]
    },
    {
     "name": "stderr",
     "output_type": "stream",
     "text": [
      "\n",
      " 50%|█████     | 1/2 [00:00<00:00,  1.61it/s]\u001b[A\n",
      "100%|██████████| 2/2 [00:00<00:00,  2.07it/s]\u001b[A\n",
      "  0%|          | 0/2 [00:00<?, ?it/s]\u001b[A"
     ]
    },
    {
     "name": "stdout",
     "output_type": "stream",
     "text": [
      "loss: 0.4181293249130249\n",
      "top1acc: 87.2000732421875\n",
      "Completed testing validation dataset for epoch 27, testing training dataset\n"
     ]
    },
    {
     "name": "stderr",
     "output_type": "stream",
     "text": [
      "\n",
      " 50%|█████     | 1/2 [00:00<00:00,  1.71it/s]\u001b[A\n",
      " 23%|██▎       | 28/120 [13:38<44:57, 29.32s/it]"
     ]
    },
    {
     "name": "stdout",
     "output_type": "stream",
     "text": [
      "loss: 0.34489017724990845\n",
      "top1acc: 88.60002899169922\n",
      "Completed testing training dataset for epoch 27\n",
      "Starting epoch 28\n"
     ]
    },
    {
     "name": "stderr",
     "output_type": "stream",
     "text": [
      "\n",
      "  0%|          | 0/51 [00:00<?, ?it/s]\u001b[A\n",
      "  2%|▏         | 1/51 [00:01<00:50,  1.02s/it]\u001b[A\n",
      "  4%|▍         | 2/51 [00:01<00:42,  1.14it/s]\u001b[A\n",
      "  6%|▌         | 3/51 [00:02<00:37,  1.30it/s]\u001b[A\n",
      "  8%|▊         | 4/51 [00:02<00:32,  1.43it/s]\u001b[A\n",
      " 10%|▉         | 5/51 [00:03<00:29,  1.54it/s]\u001b[A\n",
      " 12%|█▏        | 6/51 [00:03<00:27,  1.63it/s]\u001b[A\n",
      " 14%|█▎        | 7/51 [00:04<00:25,  1.69it/s]\u001b[A\n",
      " 16%|█▌        | 8/51 [00:04<00:24,  1.75it/s]\u001b[A\n",
      " 18%|█▊        | 9/51 [00:05<00:23,  1.78it/s]\u001b[A\n",
      " 20%|█▉        | 10/51 [00:05<00:22,  1.81it/s]\u001b[A\n",
      " 22%|██▏       | 11/51 [00:06<00:21,  1.83it/s]\u001b[A\n",
      " 24%|██▎       | 12/51 [00:06<00:21,  1.84it/s]\u001b[A\n",
      " 25%|██▌       | 13/51 [00:07<00:20,  1.85it/s]\u001b[A\n",
      " 27%|██▋       | 14/51 [00:07<00:19,  1.86it/s]\u001b[A\n",
      " 29%|██▉       | 15/51 [00:08<00:19,  1.87it/s]\u001b[A\n",
      " 31%|███▏      | 16/51 [00:09<00:18,  1.87it/s]\u001b[A\n",
      " 33%|███▎      | 17/51 [00:09<00:18,  1.87it/s]\u001b[A\n",
      " 35%|███▌      | 18/51 [00:10<00:17,  1.87it/s]\u001b[A\n",
      " 37%|███▋      | 19/51 [00:10<00:17,  1.87it/s]\u001b[A\n",
      " 39%|███▉      | 20/51 [00:11<00:16,  1.88it/s]\u001b[A\n",
      " 41%|████      | 21/51 [00:11<00:16,  1.87it/s]\u001b[A\n",
      " 43%|████▎     | 22/51 [00:12<00:15,  1.87it/s]\u001b[A\n",
      " 45%|████▌     | 23/51 [00:12<00:15,  1.87it/s]\u001b[A\n",
      " 47%|████▋     | 24/51 [00:13<00:14,  1.87it/s]\u001b[A\n",
      " 49%|████▉     | 25/51 [00:13<00:13,  1.87it/s]\u001b[A\n",
      " 51%|█████     | 26/51 [00:14<00:13,  1.87it/s]\u001b[A\n",
      " 53%|█████▎    | 27/51 [00:14<00:12,  1.88it/s]\u001b[A\n",
      " 55%|█████▍    | 28/51 [00:15<00:12,  1.87it/s]\u001b[A\n",
      " 57%|█████▋    | 29/51 [00:15<00:11,  1.88it/s]\u001b[A\n",
      " 59%|█████▉    | 30/51 [00:16<00:11,  1.88it/s]\u001b[A\n",
      " 61%|██████    | 31/51 [00:17<00:10,  1.88it/s]\u001b[A\n",
      " 63%|██████▎   | 32/51 [00:17<00:10,  1.88it/s]\u001b[A\n",
      " 65%|██████▍   | 33/51 [00:18<00:09,  1.88it/s]\u001b[A\n",
      " 67%|██████▋   | 34/51 [00:18<00:09,  1.88it/s]\u001b[A\n",
      " 69%|██████▊   | 35/51 [00:19<00:08,  1.88it/s]\u001b[A\n",
      " 71%|███████   | 36/51 [00:19<00:07,  1.88it/s]\u001b[A\n",
      " 73%|███████▎  | 37/51 [00:20<00:07,  1.88it/s]\u001b[A\n",
      " 75%|███████▍  | 38/51 [00:20<00:06,  1.88it/s]\u001b[A\n",
      " 76%|███████▋  | 39/51 [00:21<00:06,  1.88it/s]\u001b[A\n",
      " 78%|███████▊  | 40/51 [00:21<00:05,  1.88it/s]\u001b[A\n",
      " 80%|████████  | 41/51 [00:22<00:05,  1.88it/s]\u001b[A\n",
      " 82%|████████▏ | 42/51 [00:22<00:04,  1.87it/s]\u001b[A\n",
      " 84%|████████▍ | 43/51 [00:23<00:04,  1.88it/s]\u001b[A\n",
      " 86%|████████▋ | 44/51 [00:23<00:03,  1.88it/s]\u001b[A\n",
      " 88%|████████▊ | 45/51 [00:24<00:03,  1.88it/s]\u001b[A\n",
      " 90%|█████████ | 46/51 [00:25<00:02,  1.88it/s]\u001b[A\n",
      " 92%|█████████▏| 47/51 [00:25<00:02,  1.88it/s]\u001b[A\n",
      " 94%|█████████▍| 48/51 [00:26<00:01,  1.88it/s]\u001b[A\n",
      " 96%|█████████▌| 49/51 [00:26<00:01,  1.88it/s]\u001b[A\n",
      " 98%|█████████▊| 50/51 [00:27<00:00,  1.88it/s]\u001b[A\n",
      "100%|██████████| 51/51 [00:27<00:00,  2.29it/s]\u001b[A\n",
      "  0%|          | 0/2 [00:00<?, ?it/s]\u001b[A"
     ]
    },
    {
     "name": "stdout",
     "output_type": "stream",
     "text": [
      "Completed training for epoch 28, testing validation dataset\n"
     ]
    },
    {
     "name": "stderr",
     "output_type": "stream",
     "text": [
      "\n",
      " 50%|█████     | 1/2 [00:00<00:00,  1.64it/s]\u001b[A\n",
      "100%|██████████| 2/2 [00:00<00:00,  2.12it/s]\u001b[A\n",
      "  0%|          | 0/2 [00:00<?, ?it/s]\u001b[A"
     ]
    },
    {
     "name": "stdout",
     "output_type": "stream",
     "text": [
      "loss: 0.39852046966552734\n",
      "top1acc: 88.39994812011719\n",
      "Completed testing validation dataset for epoch 28, testing training dataset\n"
     ]
    },
    {
     "name": "stderr",
     "output_type": "stream",
     "text": [
      "\n",
      " 50%|█████     | 1/2 [00:00<00:00,  1.74it/s]\u001b[A\n",
      " 24%|██▍       | 29/120 [14:07<44:26, 29.31s/it]"
     ]
    },
    {
     "name": "stdout",
     "output_type": "stream",
     "text": [
      "loss: 0.3328379988670349\n",
      "top1acc: 88.59996795654297\n",
      "Completed testing training dataset for epoch 28\n",
      "Starting epoch 29\n"
     ]
    },
    {
     "name": "stderr",
     "output_type": "stream",
     "text": [
      "\n",
      "  0%|          | 0/51 [00:00<?, ?it/s]\u001b[A\n",
      "  2%|▏         | 1/51 [00:01<00:51,  1.02s/it]\u001b[A\n",
      "  4%|▍         | 2/51 [00:01<00:43,  1.14it/s]\u001b[A\n",
      "  6%|▌         | 3/51 [00:02<00:37,  1.29it/s]\u001b[A\n",
      "  8%|▊         | 4/51 [00:02<00:32,  1.43it/s]\u001b[A\n",
      " 10%|▉         | 5/51 [00:03<00:29,  1.54it/s]\u001b[A\n",
      " 12%|█▏        | 6/51 [00:03<00:27,  1.63it/s]\u001b[A\n",
      " 14%|█▎        | 7/51 [00:04<00:25,  1.70it/s]\u001b[A\n",
      " 16%|█▌        | 8/51 [00:04<00:24,  1.75it/s]\u001b[A\n",
      " 18%|█▊        | 9/51 [00:05<00:23,  1.79it/s]\u001b[A\n",
      " 20%|█▉        | 10/51 [00:05<00:22,  1.81it/s]\u001b[A\n",
      " 22%|██▏       | 11/51 [00:06<00:21,  1.83it/s]\u001b[A\n",
      " 24%|██▎       | 12/51 [00:06<00:21,  1.85it/s]\u001b[A\n",
      " 25%|██▌       | 13/51 [00:07<00:20,  1.86it/s]\u001b[A\n",
      " 27%|██▋       | 14/51 [00:07<00:19,  1.86it/s]\u001b[A\n",
      " 29%|██▉       | 15/51 [00:08<00:19,  1.87it/s]\u001b[A\n",
      " 31%|███▏      | 16/51 [00:09<00:18,  1.87it/s]\u001b[A\n",
      " 33%|███▎      | 17/51 [00:09<00:18,  1.87it/s]\u001b[A\n",
      " 35%|███▌      | 18/51 [00:10<00:17,  1.88it/s]\u001b[A\n",
      " 37%|███▋      | 19/51 [00:10<00:17,  1.88it/s]\u001b[A\n",
      " 39%|███▉      | 20/51 [00:11<00:16,  1.88it/s]\u001b[A\n",
      " 41%|████      | 21/51 [00:11<00:15,  1.88it/s]\u001b[A\n",
      " 43%|████▎     | 22/51 [00:12<00:15,  1.88it/s]\u001b[A\n",
      " 45%|████▌     | 23/51 [00:12<00:14,  1.88it/s]\u001b[A\n",
      " 47%|████▋     | 24/51 [00:13<00:14,  1.88it/s]\u001b[A\n",
      " 49%|████▉     | 25/51 [00:13<00:13,  1.88it/s]\u001b[A\n",
      " 51%|█████     | 26/51 [00:14<00:13,  1.88it/s]\u001b[A\n",
      " 53%|█████▎    | 27/51 [00:14<00:12,  1.88it/s]\u001b[A\n",
      " 55%|█████▍    | 28/51 [00:15<00:12,  1.88it/s]\u001b[A\n",
      " 57%|█████▋    | 29/51 [00:15<00:11,  1.88it/s]\u001b[A\n",
      " 59%|█████▉    | 30/51 [00:16<00:11,  1.88it/s]\u001b[A\n",
      " 61%|██████    | 31/51 [00:16<00:10,  1.88it/s]\u001b[A\n",
      " 63%|██████▎   | 32/51 [00:17<00:10,  1.88it/s]\u001b[A\n",
      " 65%|██████▍   | 33/51 [00:18<00:09,  1.88it/s]\u001b[A\n",
      " 67%|██████▋   | 34/51 [00:18<00:09,  1.88it/s]\u001b[A\n",
      " 69%|██████▊   | 35/51 [00:19<00:08,  1.88it/s]\u001b[A\n",
      " 71%|███████   | 36/51 [00:19<00:07,  1.88it/s]\u001b[A\n",
      " 73%|███████▎  | 37/51 [00:20<00:07,  1.88it/s]\u001b[A\n",
      " 75%|███████▍  | 38/51 [00:20<00:06,  1.88it/s]\u001b[A\n",
      " 76%|███████▋  | 39/51 [00:21<00:06,  1.88it/s]\u001b[A\n",
      " 78%|███████▊  | 40/51 [00:21<00:05,  1.88it/s]\u001b[A\n",
      " 80%|████████  | 41/51 [00:22<00:05,  1.88it/s]\u001b[A\n",
      " 82%|████████▏ | 42/51 [00:22<00:04,  1.88it/s]\u001b[A\n",
      " 84%|████████▍ | 43/51 [00:23<00:04,  1.88it/s]\u001b[A\n",
      " 86%|████████▋ | 44/51 [00:23<00:03,  1.88it/s]\u001b[A\n",
      " 88%|████████▊ | 45/51 [00:24<00:03,  1.88it/s]\u001b[A\n",
      " 90%|█████████ | 46/51 [00:24<00:02,  1.88it/s]\u001b[A\n",
      " 92%|█████████▏| 47/51 [00:25<00:02,  1.88it/s]\u001b[A\n",
      " 94%|█████████▍| 48/51 [00:26<00:01,  1.88it/s]\u001b[A\n",
      " 96%|█████████▌| 49/51 [00:26<00:01,  1.88it/s]\u001b[A\n",
      " 98%|█████████▊| 50/51 [00:27<00:00,  1.88it/s]\u001b[A\n",
      "100%|██████████| 51/51 [00:27<00:00,  2.29it/s]\u001b[A\n",
      "  0%|          | 0/2 [00:00<?, ?it/s]\u001b[A"
     ]
    },
    {
     "name": "stdout",
     "output_type": "stream",
     "text": [
      "Completed training for epoch 29, testing validation dataset\n"
     ]
    },
    {
     "name": "stderr",
     "output_type": "stream",
     "text": [
      "\n",
      " 50%|█████     | 1/2 [00:00<00:00,  1.64it/s]\u001b[A\n",
      "100%|██████████| 2/2 [00:00<00:00,  2.10it/s]\u001b[A\n",
      "  0%|          | 0/2 [00:00<?, ?it/s]\u001b[A"
     ]
    },
    {
     "name": "stdout",
     "output_type": "stream",
     "text": [
      "loss: 0.46314120292663574\n",
      "top1acc: 87.0000228881836\n",
      "Completed testing validation dataset for epoch 29, testing training dataset\n"
     ]
    },
    {
     "name": "stderr",
     "output_type": "stream",
     "text": [
      "\n",
      " 50%|█████     | 1/2 [00:00<00:00,  1.66it/s]\u001b[A\n",
      " 25%|██▌       | 30/120 [14:36<43:56, 29.30s/it]"
     ]
    },
    {
     "name": "stdout",
     "output_type": "stream",
     "text": [
      "loss: 0.36581555008888245\n",
      "top1acc: 87.1999740600586\n",
      "Completed testing training dataset for epoch 29\n",
      "Starting epoch 30\n"
     ]
    },
    {
     "name": "stderr",
     "output_type": "stream",
     "text": [
      "\n",
      "  0%|          | 0/51 [00:00<?, ?it/s]\u001b[A\n",
      "  2%|▏         | 1/51 [00:01<00:52,  1.05s/it]\u001b[A\n",
      "  4%|▍         | 2/51 [00:01<00:43,  1.12it/s]\u001b[A\n",
      "  6%|▌         | 3/51 [00:02<00:37,  1.27it/s]\u001b[A\n",
      "  8%|▊         | 4/51 [00:02<00:33,  1.41it/s]\u001b[A\n",
      " 10%|▉         | 5/51 [00:03<00:30,  1.52it/s]\u001b[A\n",
      " 12%|█▏        | 6/51 [00:03<00:27,  1.61it/s]\u001b[A\n",
      " 14%|█▎        | 7/51 [00:04<00:26,  1.68it/s]\u001b[A\n",
      " 16%|█▌        | 8/51 [00:04<00:24,  1.73it/s]\u001b[A\n",
      " 18%|█▊        | 9/51 [00:05<00:23,  1.77it/s]\u001b[A\n",
      " 20%|█▉        | 10/51 [00:05<00:22,  1.80it/s]\u001b[A\n",
      " 22%|██▏       | 11/51 [00:06<00:21,  1.82it/s]\u001b[A\n",
      " 24%|██▎       | 12/51 [00:06<00:21,  1.84it/s]\u001b[A\n",
      " 25%|██▌       | 13/51 [00:07<00:20,  1.85it/s]\u001b[A\n",
      " 27%|██▋       | 14/51 [00:07<00:19,  1.86it/s]\u001b[A\n",
      " 29%|██▉       | 15/51 [00:08<00:19,  1.86it/s]\u001b[A\n",
      " 31%|███▏      | 16/51 [00:09<00:18,  1.87it/s]\u001b[A\n",
      " 33%|███▎      | 17/51 [00:09<00:18,  1.87it/s]\u001b[A\n",
      " 35%|███▌      | 18/51 [00:10<00:17,  1.87it/s]\u001b[A\n",
      " 37%|███▋      | 19/51 [00:10<00:17,  1.87it/s]\u001b[A\n",
      " 39%|███▉      | 20/51 [00:11<00:16,  1.87it/s]\u001b[A\n",
      " 41%|████      | 21/51 [00:11<00:16,  1.87it/s]\u001b[A\n",
      " 43%|████▎     | 22/51 [00:12<00:15,  1.87it/s]\u001b[A\n",
      " 45%|████▌     | 23/51 [00:12<00:14,  1.87it/s]\u001b[A\n",
      " 47%|████▋     | 24/51 [00:13<00:14,  1.87it/s]\u001b[A\n",
      " 49%|████▉     | 25/51 [00:13<00:13,  1.87it/s]\u001b[A\n",
      " 51%|█████     | 26/51 [00:14<00:13,  1.88it/s]\u001b[A\n",
      " 53%|█████▎    | 27/51 [00:14<00:12,  1.87it/s]\u001b[A\n",
      " 55%|█████▍    | 28/51 [00:15<00:12,  1.88it/s]\u001b[A\n",
      " 57%|█████▋    | 29/51 [00:15<00:11,  1.87it/s]\u001b[A\n",
      " 59%|█████▉    | 30/51 [00:16<00:11,  1.87it/s]\u001b[A\n",
      " 61%|██████    | 31/51 [00:17<00:10,  1.87it/s]\u001b[A\n",
      " 63%|██████▎   | 32/51 [00:17<00:10,  1.87it/s]\u001b[A\n",
      " 65%|██████▍   | 33/51 [00:18<00:09,  1.87it/s]\u001b[A\n",
      " 67%|██████▋   | 34/51 [00:18<00:09,  1.87it/s]\u001b[A\n",
      " 69%|██████▊   | 35/51 [00:19<00:08,  1.87it/s]\u001b[A\n",
      " 71%|███████   | 36/51 [00:19<00:07,  1.88it/s]\u001b[A\n",
      " 73%|███████▎  | 37/51 [00:20<00:07,  1.87it/s]\u001b[A\n",
      " 75%|███████▍  | 38/51 [00:20<00:06,  1.88it/s]\u001b[A\n",
      " 76%|███████▋  | 39/51 [00:21<00:06,  1.88it/s]\u001b[A\n",
      " 78%|███████▊  | 40/51 [00:21<00:05,  1.88it/s]\u001b[A\n",
      " 80%|████████  | 41/51 [00:22<00:05,  1.88it/s]\u001b[A\n",
      " 82%|████████▏ | 42/51 [00:22<00:04,  1.88it/s]\u001b[A\n",
      " 84%|████████▍ | 43/51 [00:23<00:04,  1.87it/s]\u001b[A\n",
      " 86%|████████▋ | 44/51 [00:23<00:03,  1.88it/s]\u001b[A\n",
      " 88%|████████▊ | 45/51 [00:24<00:03,  1.87it/s]\u001b[A\n",
      " 90%|█████████ | 46/51 [00:25<00:02,  1.88it/s]\u001b[A\n",
      " 92%|█████████▏| 47/51 [00:25<00:02,  1.88it/s]\u001b[A\n",
      " 94%|█████████▍| 48/51 [00:26<00:01,  1.88it/s]\u001b[A\n",
      " 96%|█████████▌| 49/51 [00:26<00:01,  1.88it/s]\u001b[A\n",
      " 98%|█████████▊| 50/51 [00:27<00:00,  1.88it/s]\u001b[A\n",
      "100%|██████████| 51/51 [00:27<00:00,  2.29it/s]\u001b[A\n",
      "  0%|          | 0/2 [00:00<?, ?it/s]\u001b[A"
     ]
    },
    {
     "name": "stdout",
     "output_type": "stream",
     "text": [
      "Completed training for epoch 30, testing validation dataset\n"
     ]
    },
    {
     "name": "stderr",
     "output_type": "stream",
     "text": [
      "\n",
      " 50%|█████     | 1/2 [00:00<00:00,  1.67it/s]\u001b[A\n",
      "100%|██████████| 2/2 [00:00<00:00,  2.14it/s]\u001b[A\n",
      "  0%|          | 0/2 [00:00<?, ?it/s]\u001b[A"
     ]
    },
    {
     "name": "stdout",
     "output_type": "stream",
     "text": [
      "loss: 0.449349969625473\n",
      "top1acc: 86.60005187988281\n",
      "Completed testing validation dataset for epoch 30, testing training dataset\n"
     ]
    },
    {
     "name": "stderr",
     "output_type": "stream",
     "text": [
      "\n",
      " 50%|█████     | 1/2 [00:00<00:00,  1.73it/s]\u001b[A\n",
      " 26%|██▌       | 31/120 [15:05<43:28, 29.31s/it]\n",
      "  0%|          | 0/51 [00:00<?, ?it/s]\u001b[A"
     ]
    },
    {
     "name": "stdout",
     "output_type": "stream",
     "text": [
      "loss: 0.37936416268348694\n",
      "top1acc: 86.5999755859375\n",
      "Completed testing training dataset for epoch 30\n",
      "Starting epoch 31\n"
     ]
    },
    {
     "name": "stderr",
     "output_type": "stream",
     "text": [
      "\n",
      "  2%|▏         | 1/51 [00:01<00:51,  1.03s/it]\u001b[A\n",
      "  4%|▍         | 2/51 [00:01<00:43,  1.13it/s]\u001b[A\n",
      "  6%|▌         | 3/51 [00:02<00:37,  1.29it/s]\u001b[A\n",
      "  8%|▊         | 4/51 [00:02<00:33,  1.42it/s]\u001b[A\n",
      " 10%|▉         | 5/51 [00:03<00:30,  1.53it/s]\u001b[A\n",
      " 12%|█▏        | 6/51 [00:03<00:27,  1.62it/s]\u001b[A\n",
      " 14%|█▎        | 7/51 [00:04<00:25,  1.69it/s]\u001b[A\n",
      " 16%|█▌        | 8/51 [00:04<00:24,  1.75it/s]\u001b[A\n",
      " 18%|█▊        | 9/51 [00:05<00:23,  1.78it/s]\u001b[A\n",
      " 20%|█▉        | 10/51 [00:05<00:22,  1.81it/s]\u001b[A\n",
      " 22%|██▏       | 11/51 [00:06<00:21,  1.83it/s]\u001b[A\n",
      " 24%|██▎       | 12/51 [00:06<00:21,  1.84it/s]\u001b[A\n",
      " 25%|██▌       | 13/51 [00:07<00:20,  1.86it/s]\u001b[A\n",
      " 27%|██▋       | 14/51 [00:07<00:19,  1.86it/s]\u001b[A\n",
      " 29%|██▉       | 15/51 [00:08<00:19,  1.87it/s]\u001b[A\n",
      " 31%|███▏      | 16/51 [00:09<00:18,  1.87it/s]\u001b[A\n",
      " 33%|███▎      | 17/51 [00:09<00:18,  1.87it/s]\u001b[A\n",
      " 35%|███▌      | 18/51 [00:10<00:17,  1.87it/s]\u001b[A\n",
      " 37%|███▋      | 19/51 [00:10<00:17,  1.87it/s]\u001b[A\n",
      " 39%|███▉      | 20/51 [00:11<00:16,  1.88it/s]\u001b[A\n",
      " 41%|████      | 21/51 [00:11<00:15,  1.88it/s]\u001b[A\n",
      " 43%|████▎     | 22/51 [00:12<00:15,  1.88it/s]\u001b[A\n",
      " 45%|████▌     | 23/51 [00:12<00:14,  1.88it/s]\u001b[A\n",
      " 47%|████▋     | 24/51 [00:13<00:14,  1.88it/s]\u001b[A\n",
      " 49%|████▉     | 25/51 [00:13<00:13,  1.88it/s]\u001b[A\n",
      " 51%|█████     | 26/51 [00:14<00:13,  1.88it/s]\u001b[A\n",
      " 53%|█████▎    | 27/51 [00:14<00:12,  1.88it/s]\u001b[A\n",
      " 55%|█████▍    | 28/51 [00:15<00:12,  1.88it/s]\u001b[A\n",
      " 57%|█████▋    | 29/51 [00:15<00:11,  1.88it/s]\u001b[A\n",
      " 59%|█████▉    | 30/51 [00:16<00:11,  1.88it/s]\u001b[A\n",
      " 61%|██████    | 31/51 [00:17<00:10,  1.88it/s]\u001b[A\n",
      " 63%|██████▎   | 32/51 [00:17<00:10,  1.88it/s]\u001b[A\n",
      " 65%|██████▍   | 33/51 [00:18<00:09,  1.88it/s]\u001b[A\n",
      " 67%|██████▋   | 34/51 [00:18<00:09,  1.88it/s]\u001b[A\n",
      " 69%|██████▊   | 35/51 [00:19<00:08,  1.88it/s]\u001b[A\n",
      " 71%|███████   | 36/51 [00:19<00:07,  1.88it/s]\u001b[A\n",
      " 73%|███████▎  | 37/51 [00:20<00:07,  1.88it/s]\u001b[A\n",
      " 75%|███████▍  | 38/51 [00:20<00:06,  1.88it/s]\u001b[A\n",
      " 76%|███████▋  | 39/51 [00:21<00:06,  1.88it/s]\u001b[A\n",
      " 78%|███████▊  | 40/51 [00:21<00:05,  1.88it/s]\u001b[A\n",
      " 80%|████████  | 41/51 [00:22<00:05,  1.88it/s]\u001b[A\n",
      " 82%|████████▏ | 42/51 [00:22<00:04,  1.88it/s]\u001b[A\n",
      " 84%|████████▍ | 43/51 [00:23<00:04,  1.88it/s]\u001b[A\n",
      " 86%|████████▋ | 44/51 [00:23<00:03,  1.88it/s]\u001b[A\n",
      " 88%|████████▊ | 45/51 [00:24<00:03,  1.88it/s]\u001b[A\n",
      " 90%|█████████ | 46/51 [00:24<00:02,  1.88it/s]\u001b[A\n",
      " 92%|█████████▏| 47/51 [00:25<00:02,  1.88it/s]\u001b[A\n",
      " 94%|█████████▍| 48/51 [00:26<00:01,  1.88it/s]\u001b[A\n",
      " 96%|█████████▌| 49/51 [00:26<00:01,  1.88it/s]\u001b[A\n",
      " 98%|█████████▊| 50/51 [00:27<00:00,  1.88it/s]\u001b[A\n",
      "100%|██████████| 51/51 [00:27<00:00,  2.29it/s]\u001b[A\n",
      "  0%|          | 0/2 [00:00<?, ?it/s]\u001b[A"
     ]
    },
    {
     "name": "stdout",
     "output_type": "stream",
     "text": [
      "Completed training for epoch 31, testing validation dataset\n"
     ]
    },
    {
     "name": "stderr",
     "output_type": "stream",
     "text": [
      "\n",
      " 50%|█████     | 1/2 [00:00<00:00,  1.70it/s]\u001b[A\n",
      "100%|██████████| 2/2 [00:00<00:00,  2.18it/s]\u001b[A\n",
      "  0%|          | 0/2 [00:00<?, ?it/s]\u001b[A"
     ]
    },
    {
     "name": "stdout",
     "output_type": "stream",
     "text": [
      "loss: 0.4185154139995575\n",
      "top1acc: 86.80005645751953\n",
      "Completed testing validation dataset for epoch 31, testing training dataset\n"
     ]
    },
    {
     "name": "stderr",
     "output_type": "stream",
     "text": [
      "\n",
      " 50%|█████     | 1/2 [00:00<00:00,  1.62it/s]\u001b[A\n",
      " 27%|██▋       | 32/120 [15:35<42:53, 29.24s/it]\n",
      "  0%|          | 0/51 [00:00<?, ?it/s]\u001b[A"
     ]
    },
    {
     "name": "stdout",
     "output_type": "stream",
     "text": [
      "loss: 0.31141212582588196\n",
      "top1acc: 89.59996795654297\n",
      "Completed testing training dataset for epoch 31\n",
      "Starting epoch 32\n"
     ]
    },
    {
     "name": "stderr",
     "output_type": "stream",
     "text": [
      "\n",
      "  2%|▏         | 1/51 [00:01<00:51,  1.02s/it]\u001b[A\n",
      "  4%|▍         | 2/51 [00:01<00:42,  1.14it/s]\u001b[A\n",
      "  6%|▌         | 3/51 [00:02<00:37,  1.29it/s]\u001b[A\n",
      "  8%|▊         | 4/51 [00:02<00:32,  1.43it/s]\u001b[A\n",
      " 10%|▉         | 5/51 [00:03<00:29,  1.54it/s]\u001b[A\n",
      " 12%|█▏        | 6/51 [00:03<00:27,  1.63it/s]\u001b[A\n",
      " 14%|█▎        | 7/51 [00:04<00:25,  1.69it/s]\u001b[A\n",
      " 16%|█▌        | 8/51 [00:04<00:24,  1.75it/s]\u001b[A\n",
      " 18%|█▊        | 9/51 [00:05<00:23,  1.78it/s]\u001b[A\n",
      " 20%|█▉        | 10/51 [00:05<00:22,  1.81it/s]\u001b[A\n",
      " 22%|██▏       | 11/51 [00:06<00:21,  1.83it/s]\u001b[A\n",
      " 24%|██▎       | 12/51 [00:06<00:21,  1.84it/s]\u001b[A\n",
      " 25%|██▌       | 13/51 [00:07<00:20,  1.85it/s]\u001b[A\n",
      " 27%|██▋       | 14/51 [00:07<00:19,  1.86it/s]\u001b[A\n",
      " 29%|██▉       | 15/51 [00:08<00:19,  1.87it/s]\u001b[A\n",
      " 31%|███▏      | 16/51 [00:09<00:18,  1.87it/s]\u001b[A\n",
      " 33%|███▎      | 17/51 [00:09<00:18,  1.87it/s]\u001b[A\n",
      " 35%|███▌      | 18/51 [00:10<00:17,  1.87it/s]\u001b[A\n",
      " 37%|███▋      | 19/51 [00:10<00:17,  1.87it/s]\u001b[A\n",
      " 39%|███▉      | 20/51 [00:11<00:16,  1.87it/s]\u001b[A\n",
      " 41%|████      | 21/51 [00:11<00:16,  1.87it/s]\u001b[A\n",
      " 43%|████▎     | 22/51 [00:12<00:15,  1.88it/s]\u001b[A\n",
      " 45%|████▌     | 23/51 [00:12<00:14,  1.88it/s]\u001b[A\n",
      " 47%|████▋     | 24/51 [00:13<00:14,  1.88it/s]\u001b[A\n",
      " 49%|████▉     | 25/51 [00:13<00:13,  1.88it/s]\u001b[A\n",
      " 51%|█████     | 26/51 [00:14<00:13,  1.88it/s]\u001b[A\n",
      " 53%|█████▎    | 27/51 [00:14<00:12,  1.88it/s]\u001b[A\n",
      " 55%|█████▍    | 28/51 [00:15<00:12,  1.88it/s]\u001b[A\n",
      " 57%|█████▋    | 29/51 [00:15<00:11,  1.88it/s]\u001b[A\n",
      " 59%|█████▉    | 30/51 [00:16<00:11,  1.88it/s]\u001b[A\n",
      " 61%|██████    | 31/51 [00:17<00:10,  1.88it/s]\u001b[A\n",
      " 63%|██████▎   | 32/51 [00:17<00:10,  1.88it/s]\u001b[A\n",
      " 65%|██████▍   | 33/51 [00:18<00:09,  1.88it/s]\u001b[A\n",
      " 67%|██████▋   | 34/51 [00:18<00:09,  1.88it/s]\u001b[A\n",
      " 69%|██████▊   | 35/51 [00:19<00:08,  1.88it/s]\u001b[A\n",
      " 71%|███████   | 36/51 [00:19<00:07,  1.88it/s]\u001b[A\n",
      " 73%|███████▎  | 37/51 [00:20<00:07,  1.88it/s]\u001b[A\n",
      " 75%|███████▍  | 38/51 [00:20<00:06,  1.88it/s]\u001b[A\n",
      " 76%|███████▋  | 39/51 [00:21<00:06,  1.88it/s]\u001b[A\n",
      " 78%|███████▊  | 40/51 [00:21<00:05,  1.88it/s]\u001b[A\n",
      " 80%|████████  | 41/51 [00:22<00:05,  1.88it/s]\u001b[A\n",
      " 82%|████████▏ | 42/51 [00:22<00:04,  1.88it/s]\u001b[A\n",
      " 84%|████████▍ | 43/51 [00:23<00:04,  1.88it/s]\u001b[A\n",
      " 86%|████████▋ | 44/51 [00:23<00:03,  1.88it/s]\u001b[A\n",
      " 88%|████████▊ | 45/51 [00:24<00:03,  1.88it/s]\u001b[A\n",
      " 90%|█████████ | 46/51 [00:24<00:02,  1.88it/s]\u001b[A\n",
      " 92%|█████████▏| 47/51 [00:25<00:02,  1.88it/s]\u001b[A\n",
      " 94%|█████████▍| 48/51 [00:26<00:01,  1.88it/s]\u001b[A\n",
      " 96%|█████████▌| 49/51 [00:26<00:01,  1.88it/s]\u001b[A\n",
      " 98%|█████████▊| 50/51 [00:27<00:00,  1.88it/s]\u001b[A\n",
      "100%|██████████| 51/51 [00:27<00:00,  2.29it/s]\u001b[A\n",
      "  0%|          | 0/2 [00:00<?, ?it/s]\u001b[A"
     ]
    },
    {
     "name": "stdout",
     "output_type": "stream",
     "text": [
      "Completed training for epoch 32, testing validation dataset\n"
     ]
    },
    {
     "name": "stderr",
     "output_type": "stream",
     "text": [
      "\n",
      " 50%|█████     | 1/2 [00:00<00:00,  1.60it/s]\u001b[A\n",
      "100%|██████████| 2/2 [00:00<00:00,  2.06it/s]\u001b[A\n",
      "  0%|          | 0/2 [00:00<?, ?it/s]\u001b[A"
     ]
    },
    {
     "name": "stdout",
     "output_type": "stream",
     "text": [
      "loss: 0.41506946086883545\n",
      "top1acc: 88.60006713867188\n",
      "Completed testing validation dataset for epoch 32, testing training dataset\n"
     ]
    },
    {
     "name": "stderr",
     "output_type": "stream",
     "text": [
      "\n",
      " 50%|█████     | 1/2 [00:00<00:00,  1.66it/s]\u001b[A\n",
      " 28%|██▊       | 33/120 [16:04<42:20, 29.20s/it]\n",
      "  0%|          | 0/51 [00:00<?, ?it/s]\u001b[A"
     ]
    },
    {
     "name": "stdout",
     "output_type": "stream",
     "text": [
      "loss: 0.32775169610977173\n",
      "top1acc: 88.9999771118164\n",
      "Completed testing training dataset for epoch 32\n",
      "Starting epoch 33\n"
     ]
    },
    {
     "name": "stderr",
     "output_type": "stream",
     "text": [
      "\n",
      "  2%|▏         | 1/51 [00:01<00:50,  1.02s/it]\u001b[A\n",
      "  4%|▍         | 2/51 [00:01<00:42,  1.15it/s]\u001b[A\n",
      "  6%|▌         | 3/51 [00:02<00:36,  1.30it/s]\u001b[A\n",
      "  8%|▊         | 4/51 [00:02<00:32,  1.43it/s]\u001b[A\n",
      " 10%|▉         | 5/51 [00:03<00:29,  1.54it/s]\u001b[A\n",
      " 12%|█▏        | 6/51 [00:03<00:27,  1.63it/s]\u001b[A\n",
      " 14%|█▎        | 7/51 [00:04<00:25,  1.70it/s]\u001b[A\n",
      " 16%|█▌        | 8/51 [00:04<00:24,  1.75it/s]\u001b[A\n",
      " 18%|█▊        | 9/51 [00:05<00:23,  1.78it/s]\u001b[A\n",
      " 20%|█▉        | 10/51 [00:05<00:22,  1.81it/s]\u001b[A\n",
      " 22%|██▏       | 11/51 [00:06<00:21,  1.83it/s]\u001b[A\n",
      " 24%|██▎       | 12/51 [00:06<00:21,  1.85it/s]\u001b[A\n",
      " 25%|██▌       | 13/51 [00:07<00:20,  1.86it/s]\u001b[A\n",
      " 27%|██▋       | 14/51 [00:07<00:19,  1.86it/s]\u001b[A\n",
      " 29%|██▉       | 15/51 [00:08<00:19,  1.87it/s]\u001b[A\n",
      " 31%|███▏      | 16/51 [00:09<00:18,  1.87it/s]\u001b[A\n",
      " 33%|███▎      | 17/51 [00:09<00:18,  1.87it/s]\u001b[A\n",
      " 35%|███▌      | 18/51 [00:10<00:17,  1.88it/s]\u001b[A\n",
      " 37%|███▋      | 19/51 [00:10<00:17,  1.88it/s]\u001b[A\n",
      " 39%|███▉      | 20/51 [00:11<00:16,  1.88it/s]\u001b[A\n",
      " 41%|████      | 21/51 [00:11<00:15,  1.88it/s]\u001b[A\n",
      " 43%|████▎     | 22/51 [00:12<00:15,  1.88it/s]\u001b[A\n",
      " 45%|████▌     | 23/51 [00:12<00:14,  1.88it/s]\u001b[A\n",
      " 47%|████▋     | 24/51 [00:13<00:14,  1.88it/s]\u001b[A\n",
      " 49%|████▉     | 25/51 [00:13<00:13,  1.88it/s]\u001b[A\n",
      " 51%|█████     | 26/51 [00:14<00:13,  1.88it/s]\u001b[A\n",
      " 53%|█████▎    | 27/51 [00:14<00:12,  1.88it/s]\u001b[A\n",
      " 55%|█████▍    | 28/51 [00:15<00:12,  1.88it/s]\u001b[A\n",
      " 57%|█████▋    | 29/51 [00:15<00:11,  1.88it/s]\u001b[A\n",
      " 59%|█████▉    | 30/51 [00:16<00:11,  1.88it/s]\u001b[A\n",
      " 61%|██████    | 31/51 [00:16<00:10,  1.88it/s]\u001b[A\n",
      " 63%|██████▎   | 32/51 [00:17<00:10,  1.88it/s]\u001b[A\n",
      " 65%|██████▍   | 33/51 [00:18<00:09,  1.88it/s]\u001b[A\n",
      " 67%|██████▋   | 34/51 [00:18<00:09,  1.88it/s]\u001b[A\n",
      " 69%|██████▊   | 35/51 [00:19<00:08,  1.87it/s]\u001b[A\n",
      " 71%|███████   | 36/51 [00:19<00:08,  1.87it/s]\u001b[A\n",
      " 73%|███████▎  | 37/51 [00:20<00:07,  1.87it/s]\u001b[A\n",
      " 75%|███████▍  | 38/51 [00:20<00:06,  1.88it/s]\u001b[A\n",
      " 76%|███████▋  | 39/51 [00:21<00:06,  1.88it/s]\u001b[A\n",
      " 78%|███████▊  | 40/51 [00:21<00:05,  1.88it/s]\u001b[A\n",
      " 80%|████████  | 41/51 [00:22<00:05,  1.88it/s]\u001b[A\n",
      " 82%|████████▏ | 42/51 [00:22<00:04,  1.88it/s]\u001b[A\n",
      " 84%|████████▍ | 43/51 [00:23<00:04,  1.88it/s]\u001b[A\n",
      " 86%|████████▋ | 44/51 [00:23<00:03,  1.88it/s]\u001b[A\n",
      " 88%|████████▊ | 45/51 [00:24<00:03,  1.88it/s]\u001b[A\n",
      " 90%|█████████ | 46/51 [00:24<00:02,  1.88it/s]\u001b[A\n",
      " 92%|█████████▏| 47/51 [00:25<00:02,  1.88it/s]\u001b[A\n",
      " 94%|█████████▍| 48/51 [00:26<00:01,  1.88it/s]\u001b[A\n",
      " 96%|█████████▌| 49/51 [00:26<00:01,  1.88it/s]\u001b[A\n",
      " 98%|█████████▊| 50/51 [00:27<00:00,  1.88it/s]\u001b[A\n",
      "100%|██████████| 51/51 [00:27<00:00,  2.29it/s]\u001b[A\n",
      "  0%|          | 0/2 [00:00<?, ?it/s]\u001b[A"
     ]
    },
    {
     "name": "stdout",
     "output_type": "stream",
     "text": [
      "Completed training for epoch 33, testing validation dataset\n"
     ]
    },
    {
     "name": "stderr",
     "output_type": "stream",
     "text": [
      "\n",
      " 50%|█████     | 1/2 [00:00<00:00,  1.55it/s]\u001b[A\n",
      "100%|██████████| 2/2 [00:00<00:00,  2.01it/s]\u001b[A\n",
      "  0%|          | 0/2 [00:00<?, ?it/s]\u001b[A"
     ]
    },
    {
     "name": "stdout",
     "output_type": "stream",
     "text": [
      "loss: 0.39833810925483704\n",
      "top1acc: 88.99993896484375\n",
      "Completed testing validation dataset for epoch 33, testing training dataset\n"
     ]
    },
    {
     "name": "stderr",
     "output_type": "stream",
     "text": [
      "\n",
      " 50%|█████     | 1/2 [00:00<00:00,  1.62it/s]\u001b[A\n",
      " 28%|██▊       | 34/120 [16:33<41:49, 29.18s/it]\n",
      "  0%|          | 0/51 [00:00<?, ?it/s]\u001b[A"
     ]
    },
    {
     "name": "stdout",
     "output_type": "stream",
     "text": [
      "loss: 0.31584635376930237\n",
      "top1acc: 89.19999694824219\n",
      "Completed testing training dataset for epoch 33\n",
      "Starting epoch 34\n"
     ]
    },
    {
     "name": "stderr",
     "output_type": "stream",
     "text": [
      "\n",
      "  2%|▏         | 1/51 [00:01<00:52,  1.06s/it]\u001b[A\n",
      "  4%|▍         | 2/51 [00:01<00:44,  1.11it/s]\u001b[A\n",
      "  6%|▌         | 3/51 [00:02<00:37,  1.27it/s]\u001b[A\n",
      "  8%|▊         | 4/51 [00:02<00:33,  1.40it/s]\u001b[A\n",
      " 10%|▉         | 5/51 [00:03<00:30,  1.52it/s]\u001b[A\n",
      " 12%|█▏        | 6/51 [00:03<00:27,  1.61it/s]\u001b[A\n",
      " 14%|█▎        | 7/51 [00:04<00:26,  1.68it/s]\u001b[A\n",
      " 16%|█▌        | 8/51 [00:04<00:24,  1.74it/s]\u001b[A\n",
      " 18%|█▊        | 9/51 [00:05<00:23,  1.78it/s]\u001b[A\n",
      " 20%|█▉        | 10/51 [00:05<00:22,  1.81it/s]\u001b[A\n",
      " 22%|██▏       | 11/51 [00:06<00:21,  1.82it/s]\u001b[A\n",
      " 24%|██▎       | 12/51 [00:06<00:21,  1.84it/s]\u001b[A\n",
      " 25%|██▌       | 13/51 [00:07<00:20,  1.85it/s]\u001b[A\n",
      " 27%|██▋       | 14/51 [00:07<00:19,  1.86it/s]\u001b[A\n",
      " 29%|██▉       | 15/51 [00:08<00:19,  1.86it/s]\u001b[A\n",
      " 31%|███▏      | 16/51 [00:09<00:18,  1.87it/s]\u001b[A\n",
      " 33%|███▎      | 17/51 [00:09<00:18,  1.87it/s]\u001b[A\n",
      " 35%|███▌      | 18/51 [00:10<00:17,  1.87it/s]\u001b[A\n",
      " 37%|███▋      | 19/51 [00:10<00:17,  1.87it/s]\u001b[A\n",
      " 39%|███▉      | 20/51 [00:11<00:16,  1.88it/s]\u001b[A\n",
      " 41%|████      | 21/51 [00:11<00:15,  1.88it/s]\u001b[A\n",
      " 43%|████▎     | 22/51 [00:12<00:15,  1.87it/s]\u001b[A\n",
      " 45%|████▌     | 23/51 [00:12<00:14,  1.87it/s]\u001b[A\n",
      " 47%|████▋     | 24/51 [00:13<00:14,  1.87it/s]\u001b[A\n",
      " 49%|████▉     | 25/51 [00:13<00:13,  1.88it/s]\u001b[A\n",
      " 51%|█████     | 26/51 [00:14<00:13,  1.88it/s]\u001b[A\n",
      " 53%|█████▎    | 27/51 [00:14<00:12,  1.88it/s]\u001b[A\n",
      " 55%|█████▍    | 28/51 [00:15<00:12,  1.88it/s]\u001b[A\n",
      " 57%|█████▋    | 29/51 [00:15<00:11,  1.88it/s]\u001b[A\n",
      " 59%|█████▉    | 30/51 [00:16<00:11,  1.88it/s]\u001b[A\n",
      " 61%|██████    | 31/51 [00:17<00:10,  1.88it/s]\u001b[A\n",
      " 63%|██████▎   | 32/51 [00:17<00:10,  1.88it/s]\u001b[A\n",
      " 65%|██████▍   | 33/51 [00:18<00:09,  1.88it/s]\u001b[A\n",
      " 67%|██████▋   | 34/51 [00:18<00:09,  1.88it/s]\u001b[A\n",
      " 69%|██████▊   | 35/51 [00:19<00:08,  1.88it/s]\u001b[A\n",
      " 71%|███████   | 36/51 [00:19<00:07,  1.88it/s]\u001b[A\n",
      " 73%|███████▎  | 37/51 [00:20<00:07,  1.88it/s]\u001b[A\n",
      " 75%|███████▍  | 38/51 [00:20<00:06,  1.88it/s]\u001b[A\n",
      " 76%|███████▋  | 39/51 [00:21<00:06,  1.88it/s]\u001b[A\n",
      " 78%|███████▊  | 40/51 [00:21<00:05,  1.88it/s]\u001b[A\n",
      " 80%|████████  | 41/51 [00:22<00:05,  1.88it/s]\u001b[A\n",
      " 82%|████████▏ | 42/51 [00:22<00:04,  1.88it/s]\u001b[A\n",
      " 84%|████████▍ | 43/51 [00:23<00:04,  1.88it/s]\u001b[A\n",
      " 86%|████████▋ | 44/51 [00:23<00:03,  1.88it/s]\u001b[A\n",
      " 88%|████████▊ | 45/51 [00:24<00:03,  1.88it/s]\u001b[A\n",
      " 90%|█████████ | 46/51 [00:25<00:02,  1.88it/s]\u001b[A\n",
      " 92%|█████████▏| 47/51 [00:25<00:02,  1.88it/s]\u001b[A\n",
      " 94%|█████████▍| 48/51 [00:26<00:01,  1.88it/s]\u001b[A\n",
      " 96%|█████████▌| 49/51 [00:26<00:01,  1.88it/s]\u001b[A\n",
      " 98%|█████████▊| 50/51 [00:27<00:00,  1.88it/s]\u001b[A\n",
      "100%|██████████| 51/51 [00:27<00:00,  2.29it/s]\u001b[A\n",
      "  0%|          | 0/2 [00:00<?, ?it/s]\u001b[A"
     ]
    },
    {
     "name": "stdout",
     "output_type": "stream",
     "text": [
      "Completed training for epoch 34, testing validation dataset\n"
     ]
    },
    {
     "name": "stderr",
     "output_type": "stream",
     "text": [
      "\n",
      " 50%|█████     | 1/2 [00:00<00:00,  1.66it/s]\u001b[A\n",
      "100%|██████████| 2/2 [00:00<00:00,  2.13it/s]\u001b[A\n",
      "  0%|          | 0/2 [00:00<?, ?it/s]\u001b[A"
     ]
    },
    {
     "name": "stdout",
     "output_type": "stream",
     "text": [
      "loss: 0.4221983253955841\n",
      "top1acc: 87.60002136230469\n",
      "Completed testing validation dataset for epoch 34, testing training dataset\n"
     ]
    },
    {
     "name": "stderr",
     "output_type": "stream",
     "text": [
      "\n",
      " 50%|█████     | 1/2 [00:00<00:00,  1.63it/s]\u001b[A\n",
      " 29%|██▉       | 35/120 [17:02<41:18, 29.16s/it]\n",
      "  0%|          | 0/51 [00:00<?, ?it/s]\u001b[A"
     ]
    },
    {
     "name": "stdout",
     "output_type": "stream",
     "text": [
      "loss: 0.325738787651062\n",
      "top1acc: 87.79994201660156\n",
      "Completed testing training dataset for epoch 34\n",
      "Starting epoch 35\n"
     ]
    },
    {
     "name": "stderr",
     "output_type": "stream",
     "text": [
      "\n",
      "  2%|▏         | 1/51 [00:01<00:50,  1.01s/it]\u001b[A\n",
      "  4%|▍         | 2/51 [00:01<00:42,  1.15it/s]\u001b[A\n",
      "  6%|▌         | 3/51 [00:02<00:36,  1.30it/s]\u001b[A\n",
      "  8%|▊         | 4/51 [00:02<00:32,  1.43it/s]\u001b[A\n",
      " 10%|▉         | 5/51 [00:03<00:29,  1.54it/s]\u001b[A\n",
      " 12%|█▏        | 6/51 [00:03<00:27,  1.63it/s]\u001b[A\n",
      " 14%|█▎        | 7/51 [00:04<00:25,  1.70it/s]\u001b[A\n",
      " 16%|█▌        | 8/51 [00:04<00:24,  1.75it/s]\u001b[A\n",
      " 18%|█▊        | 9/51 [00:05<00:23,  1.79it/s]\u001b[A\n",
      " 20%|█▉        | 10/51 [00:05<00:22,  1.81it/s]\u001b[A\n",
      " 22%|██▏       | 11/51 [00:06<00:21,  1.83it/s]\u001b[A\n",
      " 24%|██▎       | 12/51 [00:06<00:21,  1.85it/s]\u001b[A\n",
      " 25%|██▌       | 13/51 [00:07<00:20,  1.85it/s]\u001b[A\n",
      " 27%|██▋       | 14/51 [00:07<00:19,  1.86it/s]\u001b[A\n",
      " 29%|██▉       | 15/51 [00:08<00:19,  1.87it/s]\u001b[A\n",
      " 31%|███▏      | 16/51 [00:09<00:18,  1.87it/s]\u001b[A\n",
      " 33%|███▎      | 17/51 [00:09<00:18,  1.87it/s]\u001b[A\n",
      " 35%|███▌      | 18/51 [00:10<00:17,  1.87it/s]\u001b[A\n",
      " 37%|███▋      | 19/51 [00:10<00:17,  1.88it/s]\u001b[A\n",
      " 39%|███▉      | 20/51 [00:11<00:16,  1.88it/s]\u001b[A\n",
      " 41%|████      | 21/51 [00:11<00:15,  1.88it/s]\u001b[A\n",
      " 43%|████▎     | 22/51 [00:12<00:15,  1.88it/s]\u001b[A\n",
      " 45%|████▌     | 23/51 [00:12<00:14,  1.88it/s]\u001b[A\n",
      " 47%|████▋     | 24/51 [00:13<00:14,  1.88it/s]\u001b[A\n",
      " 49%|████▉     | 25/51 [00:13<00:13,  1.88it/s]\u001b[A\n",
      " 51%|█████     | 26/51 [00:14<00:13,  1.88it/s]\u001b[A\n",
      " 53%|█████▎    | 27/51 [00:14<00:12,  1.88it/s]\u001b[A\n",
      " 55%|█████▍    | 28/51 [00:15<00:12,  1.88it/s]\u001b[A\n",
      " 57%|█████▋    | 29/51 [00:15<00:11,  1.88it/s]\u001b[A\n",
      " 59%|█████▉    | 30/51 [00:16<00:11,  1.88it/s]\u001b[A\n",
      " 61%|██████    | 31/51 [00:16<00:10,  1.88it/s]\u001b[A\n",
      " 63%|██████▎   | 32/51 [00:17<00:10,  1.88it/s]\u001b[A\n",
      " 65%|██████▍   | 33/51 [00:18<00:09,  1.88it/s]\u001b[A\n",
      " 67%|██████▋   | 34/51 [00:18<00:09,  1.88it/s]\u001b[A\n",
      " 69%|██████▊   | 35/51 [00:19<00:08,  1.88it/s]\u001b[A\n",
      " 71%|███████   | 36/51 [00:19<00:07,  1.88it/s]\u001b[A\n",
      " 73%|███████▎  | 37/51 [00:20<00:07,  1.88it/s]\u001b[A\n",
      " 75%|███████▍  | 38/51 [00:20<00:06,  1.88it/s]\u001b[A\n",
      " 76%|███████▋  | 39/51 [00:21<00:06,  1.88it/s]\u001b[A\n",
      " 78%|███████▊  | 40/51 [00:21<00:05,  1.88it/s]\u001b[A\n",
      " 80%|████████  | 41/51 [00:22<00:05,  1.88it/s]\u001b[A\n",
      " 82%|████████▏ | 42/51 [00:22<00:04,  1.88it/s]\u001b[A\n",
      " 84%|████████▍ | 43/51 [00:23<00:04,  1.88it/s]\u001b[A\n",
      " 86%|████████▋ | 44/51 [00:23<00:03,  1.88it/s]\u001b[A\n",
      " 88%|████████▊ | 45/51 [00:24<00:03,  1.88it/s]\u001b[A\n",
      " 90%|█████████ | 46/51 [00:24<00:02,  1.88it/s]\u001b[A\n",
      " 92%|█████████▏| 47/51 [00:25<00:02,  1.88it/s]\u001b[A\n",
      " 94%|█████████▍| 48/51 [00:26<00:01,  1.88it/s]\u001b[A\n",
      " 96%|█████████▌| 49/51 [00:26<00:01,  1.88it/s]\u001b[A\n",
      " 98%|█████████▊| 50/51 [00:27<00:00,  1.88it/s]\u001b[A\n",
      "100%|██████████| 51/51 [00:27<00:00,  2.29it/s]\u001b[A\n",
      "  0%|          | 0/2 [00:00<?, ?it/s]\u001b[A"
     ]
    },
    {
     "name": "stdout",
     "output_type": "stream",
     "text": [
      "Completed training for epoch 35, testing validation dataset\n"
     ]
    },
    {
     "name": "stderr",
     "output_type": "stream",
     "text": [
      "\n",
      " 50%|█████     | 1/2 [00:00<00:00,  1.63it/s]\u001b[A\n",
      "100%|██████████| 2/2 [00:00<00:00,  2.10it/s]\u001b[A\n",
      "  0%|          | 0/2 [00:00<?, ?it/s]\u001b[A"
     ]
    },
    {
     "name": "stdout",
     "output_type": "stream",
     "text": [
      "loss: 0.486969530582428\n",
      "top1acc: 84.79995727539062\n",
      "Completed testing validation dataset for epoch 35, testing training dataset\n"
     ]
    },
    {
     "name": "stderr",
     "output_type": "stream",
     "text": [
      "\n",
      " 50%|█████     | 1/2 [00:00<00:00,  1.60it/s]\u001b[A\n",
      " 30%|███       | 36/120 [17:31<40:47, 29.14s/it]\n",
      "  0%|          | 0/51 [00:00<?, ?it/s]\u001b[A"
     ]
    },
    {
     "name": "stdout",
     "output_type": "stream",
     "text": [
      "loss: 0.4209975600242615\n",
      "top1acc: 84.8000259399414\n",
      "Completed testing training dataset for epoch 35\n",
      "Starting epoch 36\n"
     ]
    },
    {
     "name": "stderr",
     "output_type": "stream",
     "text": [
      "\n",
      "  2%|▏         | 1/51 [00:01<00:51,  1.03s/it]\u001b[A\n",
      "  4%|▍         | 2/51 [00:01<00:43,  1.13it/s]\u001b[A\n",
      "  6%|▌         | 3/51 [00:02<00:37,  1.29it/s]\u001b[A\n",
      "  8%|▊         | 4/51 [00:02<00:33,  1.42it/s]\u001b[A\n",
      " 10%|▉         | 5/51 [00:03<00:30,  1.53it/s]\u001b[A\n",
      " 12%|█▏        | 6/51 [00:03<00:27,  1.62it/s]\u001b[A\n",
      " 14%|█▎        | 7/51 [00:04<00:26,  1.69it/s]\u001b[A\n",
      " 16%|█▌        | 8/51 [00:04<00:24,  1.74it/s]\u001b[A\n",
      " 18%|█▊        | 9/51 [00:05<00:23,  1.78it/s]\u001b[A\n",
      " 20%|█▉        | 10/51 [00:05<00:22,  1.81it/s]\u001b[A\n",
      " 22%|██▏       | 11/51 [00:06<00:21,  1.83it/s]\u001b[A\n",
      " 24%|██▎       | 12/51 [00:06<00:21,  1.84it/s]\u001b[A\n",
      " 25%|██▌       | 13/51 [00:07<00:20,  1.85it/s]\u001b[A\n",
      " 27%|██▋       | 14/51 [00:07<00:19,  1.86it/s]\u001b[A\n",
      " 29%|██▉       | 15/51 [00:08<00:19,  1.86it/s]\u001b[A\n",
      " 31%|███▏      | 16/51 [00:09<00:18,  1.87it/s]\u001b[A\n",
      " 33%|███▎      | 17/51 [00:09<00:18,  1.87it/s]\u001b[A\n",
      " 35%|███▌      | 18/51 [00:10<00:17,  1.87it/s]\u001b[A\n",
      " 37%|███▋      | 19/51 [00:10<00:17,  1.87it/s]\u001b[A\n",
      " 39%|███▉      | 20/51 [00:11<00:16,  1.88it/s]\u001b[A\n",
      " 41%|████      | 21/51 [00:11<00:15,  1.88it/s]\u001b[A\n",
      " 43%|████▎     | 22/51 [00:12<00:15,  1.88it/s]\u001b[A\n",
      " 45%|████▌     | 23/51 [00:12<00:14,  1.88it/s]\u001b[A\n",
      " 47%|████▋     | 24/51 [00:13<00:14,  1.88it/s]\u001b[A\n",
      " 49%|████▉     | 25/51 [00:13<00:13,  1.88it/s]\u001b[A\n",
      " 51%|█████     | 26/51 [00:14<00:13,  1.88it/s]\u001b[A\n",
      " 53%|█████▎    | 27/51 [00:14<00:12,  1.88it/s]\u001b[A\n",
      " 55%|█████▍    | 28/51 [00:15<00:12,  1.88it/s]\u001b[A\n",
      " 57%|█████▋    | 29/51 [00:15<00:11,  1.88it/s]\u001b[A\n",
      " 59%|█████▉    | 30/51 [00:16<00:11,  1.87it/s]\u001b[A\n",
      " 61%|██████    | 31/51 [00:17<00:10,  1.87it/s]\u001b[A\n",
      " 63%|██████▎   | 32/51 [00:17<00:10,  1.88it/s]\u001b[A\n",
      " 65%|██████▍   | 33/51 [00:18<00:09,  1.88it/s]\u001b[A\n",
      " 67%|██████▋   | 34/51 [00:18<00:09,  1.88it/s]\u001b[A\n",
      " 69%|██████▊   | 35/51 [00:19<00:08,  1.88it/s]\u001b[A\n",
      " 71%|███████   | 36/51 [00:19<00:07,  1.88it/s]\u001b[A\n",
      " 73%|███████▎  | 37/51 [00:20<00:07,  1.88it/s]\u001b[A\n",
      " 75%|███████▍  | 38/51 [00:20<00:06,  1.88it/s]\u001b[A\n",
      " 76%|███████▋  | 39/51 [00:21<00:06,  1.88it/s]\u001b[A\n",
      " 78%|███████▊  | 40/51 [00:21<00:05,  1.88it/s]\u001b[A\n",
      " 80%|████████  | 41/51 [00:22<00:05,  1.88it/s]\u001b[A\n",
      " 82%|████████▏ | 42/51 [00:22<00:04,  1.87it/s]\u001b[A\n",
      " 84%|████████▍ | 43/51 [00:23<00:04,  1.87it/s]\u001b[A\n",
      " 86%|████████▋ | 44/51 [00:23<00:03,  1.87it/s]\u001b[A\n",
      " 88%|████████▊ | 45/51 [00:24<00:03,  1.88it/s]\u001b[A\n",
      " 90%|█████████ | 46/51 [00:25<00:02,  1.88it/s]\u001b[A\n",
      " 92%|█████████▏| 47/51 [00:25<00:02,  1.88it/s]\u001b[A\n",
      " 94%|█████████▍| 48/51 [00:26<00:01,  1.88it/s]\u001b[A\n",
      " 96%|█████████▌| 49/51 [00:26<00:01,  1.88it/s]\u001b[A\n",
      " 98%|█████████▊| 50/51 [00:27<00:00,  1.88it/s]\u001b[A\n",
      "100%|██████████| 51/51 [00:27<00:00,  2.29it/s]\u001b[A\n",
      "  0%|          | 0/2 [00:00<?, ?it/s]\u001b[A"
     ]
    },
    {
     "name": "stdout",
     "output_type": "stream",
     "text": [
      "Completed training for epoch 36, testing validation dataset\n"
     ]
    },
    {
     "name": "stderr",
     "output_type": "stream",
     "text": [
      "\n",
      " 50%|█████     | 1/2 [00:00<00:00,  1.61it/s]\u001b[A\n",
      "100%|██████████| 2/2 [00:00<00:00,  2.08it/s]\u001b[A\n",
      "  0%|          | 0/2 [00:00<?, ?it/s]\u001b[A"
     ]
    },
    {
     "name": "stdout",
     "output_type": "stream",
     "text": [
      "loss: 0.3792221248149872\n",
      "top1acc: 89.80000305175781\n",
      "Completed testing validation dataset for epoch 36, testing training dataset\n"
     ]
    },
    {
     "name": "stderr",
     "output_type": "stream",
     "text": [
      "\n",
      " 50%|█████     | 1/2 [00:00<00:00,  1.63it/s]\u001b[A\n",
      " 31%|███       | 37/120 [18:00<40:18, 29.14s/it]\n",
      "  0%|          | 0/51 [00:00<?, ?it/s]\u001b[A"
     ]
    },
    {
     "name": "stdout",
     "output_type": "stream",
     "text": [
      "loss: 0.27344274520874023\n",
      "top1acc: 90.60002899169922\n",
      "Completed testing training dataset for epoch 36\n",
      "Starting epoch 37\n"
     ]
    },
    {
     "name": "stderr",
     "output_type": "stream",
     "text": [
      "\n",
      "  2%|▏         | 1/51 [00:01<00:51,  1.02s/it]\u001b[A\n",
      "  4%|▍         | 2/51 [00:01<00:42,  1.14it/s]\u001b[A\n",
      "  6%|▌         | 3/51 [00:02<00:37,  1.30it/s]\u001b[A\n",
      "  8%|▊         | 4/51 [00:02<00:32,  1.43it/s]\u001b[A\n",
      " 10%|▉         | 5/51 [00:03<00:29,  1.54it/s]\u001b[A\n",
      " 12%|█▏        | 6/51 [00:03<00:27,  1.62it/s]\u001b[A\n",
      " 14%|█▎        | 7/51 [00:04<00:25,  1.69it/s]\u001b[A\n",
      " 16%|█▌        | 8/51 [00:04<00:24,  1.75it/s]\u001b[A\n",
      " 18%|█▊        | 9/51 [00:05<00:23,  1.78it/s]\u001b[A\n",
      " 20%|█▉        | 10/51 [00:05<00:22,  1.81it/s]\u001b[A\n",
      " 22%|██▏       | 11/51 [00:06<00:21,  1.83it/s]\u001b[A\n",
      " 24%|██▎       | 12/51 [00:06<00:21,  1.84it/s]\u001b[A\n",
      " 25%|██▌       | 13/51 [00:07<00:20,  1.85it/s]\u001b[A\n",
      " 27%|██▋       | 14/51 [00:07<00:19,  1.86it/s]\u001b[A\n",
      " 29%|██▉       | 15/51 [00:08<00:19,  1.86it/s]\u001b[A\n",
      " 31%|███▏      | 16/51 [00:09<00:18,  1.87it/s]\u001b[A\n",
      " 33%|███▎      | 17/51 [00:09<00:18,  1.87it/s]\u001b[A\n",
      " 35%|███▌      | 18/51 [00:10<00:17,  1.87it/s]\u001b[A\n",
      " 37%|███▋      | 19/51 [00:10<00:17,  1.87it/s]\u001b[A\n",
      " 39%|███▉      | 20/51 [00:11<00:16,  1.87it/s]\u001b[A\n",
      " 41%|████      | 21/51 [00:11<00:16,  1.87it/s]\u001b[A\n",
      " 43%|████▎     | 22/51 [00:12<00:15,  1.87it/s]\u001b[A\n",
      " 45%|████▌     | 23/51 [00:12<00:14,  1.87it/s]\u001b[A\n",
      " 47%|████▋     | 24/51 [00:13<00:14,  1.87it/s]\u001b[A\n",
      " 49%|████▉     | 25/51 [00:13<00:13,  1.87it/s]\u001b[A\n",
      " 51%|█████     | 26/51 [00:14<00:13,  1.87it/s]\u001b[A\n",
      " 53%|█████▎    | 27/51 [00:14<00:12,  1.87it/s]\u001b[A\n",
      " 55%|█████▍    | 28/51 [00:15<00:12,  1.87it/s]\u001b[A\n",
      " 57%|█████▋    | 29/51 [00:15<00:11,  1.88it/s]\u001b[A\n",
      " 59%|█████▉    | 30/51 [00:16<00:11,  1.87it/s]\u001b[A\n",
      " 61%|██████    | 31/51 [00:17<00:10,  1.87it/s]\u001b[A\n",
      " 63%|██████▎   | 32/51 [00:17<00:10,  1.86it/s]\u001b[A\n",
      " 65%|██████▍   | 33/51 [00:18<00:09,  1.87it/s]\u001b[A\n",
      " 67%|██████▋   | 34/51 [00:18<00:09,  1.87it/s]\u001b[A\n",
      " 69%|██████▊   | 35/51 [00:19<00:08,  1.87it/s]\u001b[A\n",
      " 71%|███████   | 36/51 [00:19<00:08,  1.86it/s]\u001b[A\n",
      " 73%|███████▎  | 37/51 [00:20<00:07,  1.86it/s]\u001b[A\n",
      " 75%|███████▍  | 38/51 [00:20<00:06,  1.87it/s]\u001b[A\n",
      " 76%|███████▋  | 39/51 [00:21<00:06,  1.87it/s]\u001b[A\n",
      " 78%|███████▊  | 40/51 [00:21<00:05,  1.87it/s]\u001b[A\n",
      " 80%|████████  | 41/51 [00:22<00:05,  1.87it/s]\u001b[A\n",
      " 82%|████████▏ | 42/51 [00:22<00:04,  1.87it/s]\u001b[A\n",
      " 84%|████████▍ | 43/51 [00:23<00:04,  1.87it/s]\u001b[A\n",
      " 86%|████████▋ | 44/51 [00:23<00:03,  1.88it/s]\u001b[A\n",
      " 88%|████████▊ | 45/51 [00:24<00:03,  1.87it/s]\u001b[A\n",
      " 90%|█████████ | 46/51 [00:25<00:02,  1.86it/s]\u001b[A\n",
      " 92%|█████████▏| 47/51 [00:25<00:02,  1.87it/s]\u001b[A\n",
      " 94%|█████████▍| 48/51 [00:26<00:01,  1.87it/s]\u001b[A\n",
      " 96%|█████████▌| 49/51 [00:26<00:01,  1.87it/s]\u001b[A\n",
      " 98%|█████████▊| 50/51 [00:27<00:00,  1.87it/s]\u001b[A\n",
      "100%|██████████| 51/51 [00:27<00:00,  2.28it/s]\u001b[A\n",
      "  0%|          | 0/2 [00:00<?, ?it/s]\u001b[A"
     ]
    },
    {
     "name": "stdout",
     "output_type": "stream",
     "text": [
      "Completed training for epoch 37, testing validation dataset\n"
     ]
    },
    {
     "name": "stderr",
     "output_type": "stream",
     "text": [
      "\n",
      " 50%|█████     | 1/2 [00:00<00:00,  1.66it/s]\u001b[A\n",
      "100%|██████████| 2/2 [00:00<00:00,  2.13it/s]\u001b[A\n",
      "  0%|          | 0/2 [00:00<?, ?it/s]\u001b[A"
     ]
    },
    {
     "name": "stdout",
     "output_type": "stream",
     "text": [
      "loss: 0.4061359167098999\n",
      "top1acc: 87.79993438720703\n",
      "Completed testing validation dataset for epoch 37, testing training dataset\n"
     ]
    },
    {
     "name": "stderr",
     "output_type": "stream",
     "text": [
      "\n",
      " 50%|█████     | 1/2 [00:00<00:00,  1.65it/s]\u001b[A\n",
      " 32%|███▏      | 38/120 [18:29<39:49, 29.14s/it]\n",
      "  0%|          | 0/51 [00:00<?, ?it/s]\u001b[A"
     ]
    },
    {
     "name": "stdout",
     "output_type": "stream",
     "text": [
      "loss: 0.2958497405052185\n",
      "top1acc: 88.80006408691406\n",
      "Completed testing training dataset for epoch 37\n",
      "Starting epoch 38\n"
     ]
    },
    {
     "name": "stderr",
     "output_type": "stream",
     "text": [
      "\n",
      "  2%|▏         | 1/51 [00:01<00:51,  1.02s/it]\u001b[A\n",
      "  4%|▍         | 2/51 [00:01<00:42,  1.14it/s]\u001b[A\n",
      "  6%|▌         | 3/51 [00:02<00:37,  1.30it/s]\u001b[A\n",
      "  8%|▊         | 4/51 [00:02<00:32,  1.43it/s]\u001b[A\n",
      " 10%|▉         | 5/51 [00:03<00:29,  1.54it/s]\u001b[A\n",
      " 12%|█▏        | 6/51 [00:03<00:27,  1.62it/s]\u001b[A\n",
      " 14%|█▎        | 7/51 [00:04<00:26,  1.69it/s]\u001b[A\n",
      " 16%|█▌        | 8/51 [00:04<00:24,  1.74it/s]\u001b[A\n",
      " 18%|█▊        | 9/51 [00:05<00:23,  1.78it/s]\u001b[A\n",
      " 20%|█▉        | 10/51 [00:05<00:22,  1.81it/s]\u001b[A\n",
      " 22%|██▏       | 11/51 [00:06<00:21,  1.83it/s]\u001b[A\n",
      " 24%|██▎       | 12/51 [00:06<00:21,  1.84it/s]\u001b[A\n",
      " 25%|██▌       | 13/51 [00:07<00:20,  1.85it/s]\u001b[A\n",
      " 27%|██▋       | 14/51 [00:07<00:19,  1.86it/s]\u001b[A\n",
      " 29%|██▉       | 15/51 [00:08<00:19,  1.86it/s]\u001b[A\n",
      " 31%|███▏      | 16/51 [00:09<00:18,  1.87it/s]\u001b[A\n",
      " 33%|███▎      | 17/51 [00:09<00:18,  1.87it/s]\u001b[A\n",
      " 35%|███▌      | 18/51 [00:10<00:17,  1.87it/s]\u001b[A\n",
      " 37%|███▋      | 19/51 [00:10<00:17,  1.87it/s]\u001b[A\n",
      " 39%|███▉      | 20/51 [00:11<00:16,  1.87it/s]\u001b[A\n",
      " 41%|████      | 21/51 [00:11<00:16,  1.87it/s]\u001b[A\n",
      " 43%|████▎     | 22/51 [00:12<00:15,  1.87it/s]\u001b[A\n",
      " 45%|████▌     | 23/51 [00:12<00:14,  1.87it/s]\u001b[A\n",
      " 47%|████▋     | 24/51 [00:13<00:14,  1.87it/s]\u001b[A\n",
      " 49%|████▉     | 25/51 [00:13<00:13,  1.87it/s]\u001b[A\n",
      " 51%|█████     | 26/51 [00:14<00:13,  1.87it/s]\u001b[A\n",
      " 53%|█████▎    | 27/51 [00:14<00:12,  1.87it/s]\u001b[A\n",
      " 55%|█████▍    | 28/51 [00:15<00:12,  1.87it/s]\u001b[A\n",
      " 57%|█████▋    | 29/51 [00:15<00:11,  1.87it/s]\u001b[A\n",
      " 59%|█████▉    | 30/51 [00:16<00:11,  1.88it/s]\u001b[A\n",
      " 61%|██████    | 31/51 [00:17<00:10,  1.88it/s]\u001b[A\n",
      " 63%|██████▎   | 32/51 [00:17<00:10,  1.88it/s]\u001b[A\n",
      " 65%|██████▍   | 33/51 [00:18<00:09,  1.88it/s]\u001b[A\n",
      " 67%|██████▋   | 34/51 [00:18<00:09,  1.88it/s]\u001b[A\n",
      " 69%|██████▊   | 35/51 [00:19<00:08,  1.88it/s]\u001b[A\n",
      " 71%|███████   | 36/51 [00:19<00:08,  1.87it/s]\u001b[A\n",
      " 73%|███████▎  | 37/51 [00:20<00:07,  1.87it/s]\u001b[A\n",
      " 75%|███████▍  | 38/51 [00:20<00:06,  1.87it/s]\u001b[A\n",
      " 76%|███████▋  | 39/51 [00:21<00:06,  1.87it/s]\u001b[A\n",
      " 78%|███████▊  | 40/51 [00:21<00:05,  1.87it/s]\u001b[A\n",
      " 80%|████████  | 41/51 [00:22<00:05,  1.87it/s]\u001b[A\n",
      " 82%|████████▏ | 42/51 [00:22<00:04,  1.87it/s]\u001b[A\n",
      " 84%|████████▍ | 43/51 [00:23<00:04,  1.87it/s]\u001b[A\n",
      " 86%|████████▋ | 44/51 [00:23<00:03,  1.87it/s]\u001b[A\n",
      " 88%|████████▊ | 45/51 [00:24<00:03,  1.87it/s]\u001b[A\n",
      " 90%|█████████ | 46/51 [00:25<00:02,  1.88it/s]\u001b[A\n",
      " 92%|█████████▏| 47/51 [00:25<00:02,  1.88it/s]\u001b[A\n",
      " 94%|█████████▍| 48/51 [00:26<00:01,  1.88it/s]\u001b[A\n",
      " 96%|█████████▌| 49/51 [00:26<00:01,  1.88it/s]\u001b[A\n",
      " 98%|█████████▊| 50/51 [00:27<00:00,  1.88it/s]\u001b[A\n",
      "100%|██████████| 51/51 [00:27<00:00,  2.29it/s]\u001b[A\n",
      "  0%|          | 0/2 [00:00<?, ?it/s]\u001b[A"
     ]
    },
    {
     "name": "stdout",
     "output_type": "stream",
     "text": [
      "Completed training for epoch 38, testing validation dataset\n"
     ]
    },
    {
     "name": "stderr",
     "output_type": "stream",
     "text": [
      "\n",
      " 50%|█████     | 1/2 [00:00<00:00,  1.62it/s]\u001b[A\n",
      "100%|██████████| 2/2 [00:00<00:00,  2.08it/s]\u001b[A\n",
      "  0%|          | 0/2 [00:00<?, ?it/s]\u001b[A"
     ]
    },
    {
     "name": "stdout",
     "output_type": "stream",
     "text": [
      "loss: 0.4110291302204132\n",
      "top1acc: 87.60006713867188\n",
      "Completed testing validation dataset for epoch 38, testing training dataset\n"
     ]
    },
    {
     "name": "stderr",
     "output_type": "stream",
     "text": [
      "\n",
      " 50%|█████     | 1/2 [00:00<00:00,  1.63it/s]\u001b[A\n",
      " 32%|███▎      | 39/120 [18:58<39:21, 29.15s/it]\n",
      "  0%|          | 0/51 [00:00<?, ?it/s]\u001b[A"
     ]
    },
    {
     "name": "stdout",
     "output_type": "stream",
     "text": [
      "loss: 0.29461923241615295\n",
      "top1acc: 89.80003356933594\n",
      "Completed testing training dataset for epoch 38\n",
      "Starting epoch 39\n"
     ]
    },
    {
     "name": "stderr",
     "output_type": "stream",
     "text": [
      "\n",
      "  2%|▏         | 1/51 [00:01<00:51,  1.03s/it]\u001b[A\n",
      "  4%|▍         | 2/51 [00:01<00:43,  1.13it/s]\u001b[A\n",
      "  6%|▌         | 3/51 [00:02<00:37,  1.29it/s]\u001b[A\n",
      "  8%|▊         | 4/51 [00:02<00:33,  1.42it/s]\u001b[A\n",
      " 10%|▉         | 5/51 [00:03<00:30,  1.53it/s]\u001b[A\n",
      " 12%|█▏        | 6/51 [00:03<00:27,  1.62it/s]\u001b[A\n",
      " 14%|█▎        | 7/51 [00:04<00:26,  1.69it/s]\u001b[A\n",
      " 16%|█▌        | 8/51 [00:04<00:24,  1.74it/s]\u001b[A\n",
      " 18%|█▊        | 9/51 [00:05<00:23,  1.78it/s]\u001b[A\n",
      " 20%|█▉        | 10/51 [00:05<00:22,  1.81it/s]\u001b[A\n",
      " 22%|██▏       | 11/51 [00:06<00:21,  1.83it/s]\u001b[A\n",
      " 24%|██▎       | 12/51 [00:06<00:21,  1.84it/s]\u001b[A\n",
      " 25%|██▌       | 13/51 [00:07<00:20,  1.85it/s]\u001b[A\n",
      " 27%|██▋       | 14/51 [00:07<00:19,  1.86it/s]\u001b[A\n",
      " 29%|██▉       | 15/51 [00:08<00:19,  1.86it/s]\u001b[A\n",
      " 31%|███▏      | 16/51 [00:09<00:18,  1.87it/s]\u001b[A\n",
      " 33%|███▎      | 17/51 [00:09<00:18,  1.87it/s]\u001b[A\n",
      " 35%|███▌      | 18/51 [00:10<00:17,  1.87it/s]\u001b[A\n",
      " 37%|███▋      | 19/51 [00:10<00:17,  1.87it/s]\u001b[A\n",
      " 39%|███▉      | 20/51 [00:11<00:16,  1.87it/s]\u001b[A\n",
      " 41%|████      | 21/51 [00:11<00:16,  1.87it/s]\u001b[A\n",
      " 43%|████▎     | 22/51 [00:12<00:15,  1.87it/s]\u001b[A\n",
      " 45%|████▌     | 23/51 [00:12<00:14,  1.87it/s]\u001b[A\n",
      " 47%|████▋     | 24/51 [00:13<00:14,  1.87it/s]\u001b[A\n",
      " 49%|████▉     | 25/51 [00:13<00:13,  1.87it/s]\u001b[A\n",
      " 51%|█████     | 26/51 [00:14<00:13,  1.87it/s]\u001b[A\n",
      " 53%|█████▎    | 27/51 [00:14<00:12,  1.87it/s]\u001b[A\n",
      " 55%|█████▍    | 28/51 [00:15<00:12,  1.87it/s]\u001b[A\n",
      " 57%|█████▋    | 29/51 [00:15<00:11,  1.87it/s]\u001b[A\n",
      " 59%|█████▉    | 30/51 [00:16<00:11,  1.87it/s]\u001b[A\n",
      " 61%|██████    | 31/51 [00:17<00:10,  1.87it/s]\u001b[A\n",
      " 63%|██████▎   | 32/51 [00:17<00:10,  1.88it/s]\u001b[A\n",
      " 65%|██████▍   | 33/51 [00:18<00:09,  1.86it/s]\u001b[A\n",
      " 67%|██████▋   | 34/51 [00:18<00:09,  1.87it/s]\u001b[A\n",
      " 69%|██████▊   | 35/51 [00:19<00:08,  1.86it/s]\u001b[A\n",
      " 71%|███████   | 36/51 [00:19<00:08,  1.86it/s]\u001b[A\n",
      " 73%|███████▎  | 37/51 [00:20<00:07,  1.87it/s]\u001b[A\n",
      " 75%|███████▍  | 38/51 [00:20<00:06,  1.87it/s]\u001b[A\n",
      " 76%|███████▋  | 39/51 [00:21<00:06,  1.87it/s]\u001b[A\n",
      " 78%|███████▊  | 40/51 [00:21<00:05,  1.87it/s]\u001b[A\n",
      " 80%|████████  | 41/51 [00:22<00:05,  1.87it/s]\u001b[A\n",
      " 82%|████████▏ | 42/51 [00:22<00:04,  1.88it/s]\u001b[A\n",
      " 84%|████████▍ | 43/51 [00:23<00:04,  1.87it/s]\u001b[A\n",
      " 86%|████████▋ | 44/51 [00:23<00:03,  1.87it/s]\u001b[A\n",
      " 88%|████████▊ | 45/51 [00:24<00:03,  1.87it/s]\u001b[A\n",
      " 90%|█████████ | 46/51 [00:25<00:02,  1.88it/s]\u001b[A\n",
      " 92%|█████████▏| 47/51 [00:25<00:02,  1.88it/s]\u001b[A\n",
      " 94%|█████████▍| 48/51 [00:26<00:01,  1.88it/s]\u001b[A\n",
      " 96%|█████████▌| 49/51 [00:26<00:01,  1.88it/s]\u001b[A\n",
      " 98%|█████████▊| 50/51 [00:27<00:00,  1.88it/s]\u001b[A\n",
      "100%|██████████| 51/51 [00:27<00:00,  2.29it/s]\u001b[A\n",
      "  0%|          | 0/2 [00:00<?, ?it/s]\u001b[A"
     ]
    },
    {
     "name": "stdout",
     "output_type": "stream",
     "text": [
      "Completed training for epoch 39, testing validation dataset\n"
     ]
    },
    {
     "name": "stderr",
     "output_type": "stream",
     "text": [
      "\n",
      " 50%|█████     | 1/2 [00:00<00:00,  1.69it/s]\u001b[A\n",
      "100%|██████████| 2/2 [00:00<00:00,  2.16it/s]\u001b[A\n",
      "  0%|          | 0/2 [00:00<?, ?it/s]\u001b[A"
     ]
    },
    {
     "name": "stdout",
     "output_type": "stream",
     "text": [
      "loss: 0.4312516748905182\n",
      "top1acc: 86.40006256103516\n",
      "Completed testing validation dataset for epoch 39, testing training dataset\n"
     ]
    },
    {
     "name": "stderr",
     "output_type": "stream",
     "text": [
      "\n",
      " 50%|█████     | 1/2 [00:00<00:00,  1.76it/s]\u001b[A\n",
      " 33%|███▎      | 40/120 [19:28<38:50, 29.14s/it]\n",
      "  0%|          | 0/51 [00:00<?, ?it/s]\u001b[A"
     ]
    },
    {
     "name": "stdout",
     "output_type": "stream",
     "text": [
      "loss: 0.32860878109931946\n",
      "top1acc: 88.1999282836914\n",
      "Completed testing training dataset for epoch 39\n",
      "Starting epoch 40\n"
     ]
    },
    {
     "name": "stderr",
     "output_type": "stream",
     "text": [
      "\n",
      "  2%|▏         | 1/51 [00:01<00:52,  1.05s/it]\u001b[A\n",
      "  4%|▍         | 2/51 [00:01<00:43,  1.11it/s]\u001b[A\n",
      "  6%|▌         | 3/51 [00:02<00:37,  1.27it/s]\u001b[A\n",
      "  8%|▊         | 4/51 [00:02<00:33,  1.41it/s]\u001b[A\n",
      " 10%|▉         | 5/51 [00:03<00:30,  1.51it/s]\u001b[A\n",
      " 12%|█▏        | 6/51 [00:03<00:28,  1.60it/s]\u001b[A\n",
      " 14%|█▎        | 7/51 [00:04<00:26,  1.67it/s]\u001b[A\n",
      " 16%|█▌        | 8/51 [00:04<00:24,  1.73it/s]\u001b[A\n",
      " 18%|█▊        | 9/51 [00:05<00:23,  1.77it/s]\u001b[A\n",
      " 20%|█▉        | 10/51 [00:05<00:22,  1.80it/s]\u001b[A\n",
      " 22%|██▏       | 11/51 [00:06<00:21,  1.82it/s]\u001b[A\n",
      " 24%|██▎       | 12/51 [00:06<00:21,  1.84it/s]\u001b[A\n",
      " 25%|██▌       | 13/51 [00:07<00:20,  1.85it/s]\u001b[A\n",
      " 27%|██▋       | 14/51 [00:08<00:19,  1.86it/s]\u001b[A\n",
      " 29%|██▉       | 15/51 [00:08<00:19,  1.86it/s]\u001b[A\n",
      " 31%|███▏      | 16/51 [00:09<00:18,  1.87it/s]\u001b[A\n",
      " 33%|███▎      | 17/51 [00:09<00:18,  1.87it/s]\u001b[A\n",
      " 35%|███▌      | 18/51 [00:10<00:17,  1.87it/s]\u001b[A\n",
      " 37%|███▋      | 19/51 [00:10<00:17,  1.87it/s]\u001b[A\n",
      " 39%|███▉      | 20/51 [00:11<00:16,  1.87it/s]\u001b[A\n",
      " 41%|████      | 21/51 [00:11<00:16,  1.87it/s]\u001b[A\n",
      " 43%|████▎     | 22/51 [00:12<00:15,  1.87it/s]\u001b[A\n",
      " 45%|████▌     | 23/51 [00:12<00:14,  1.87it/s]\u001b[A\n",
      " 47%|████▋     | 24/51 [00:13<00:14,  1.88it/s]\u001b[A\n",
      " 49%|████▉     | 25/51 [00:13<00:13,  1.87it/s]\u001b[A\n",
      " 51%|█████     | 26/51 [00:14<00:13,  1.87it/s]\u001b[A\n",
      " 53%|█████▎    | 27/51 [00:14<00:12,  1.88it/s]\u001b[A\n",
      " 55%|█████▍    | 28/51 [00:15<00:12,  1.88it/s]\u001b[A\n",
      " 57%|█████▋    | 29/51 [00:15<00:11,  1.88it/s]\u001b[A\n",
      " 59%|█████▉    | 30/51 [00:16<00:11,  1.88it/s]\u001b[A\n",
      " 61%|██████    | 31/51 [00:17<00:10,  1.88it/s]\u001b[A\n",
      " 63%|██████▎   | 32/51 [00:17<00:10,  1.87it/s]\u001b[A\n",
      " 65%|██████▍   | 33/51 [00:18<00:09,  1.87it/s]\u001b[A\n",
      " 67%|██████▋   | 34/51 [00:18<00:09,  1.87it/s]\u001b[A\n",
      " 69%|██████▊   | 35/51 [00:19<00:08,  1.87it/s]\u001b[A\n",
      " 71%|███████   | 36/51 [00:19<00:08,  1.87it/s]\u001b[A\n",
      " 73%|███████▎  | 37/51 [00:20<00:07,  1.87it/s]\u001b[A\n",
      " 75%|███████▍  | 38/51 [00:20<00:06,  1.87it/s]\u001b[A\n",
      " 76%|███████▋  | 39/51 [00:21<00:06,  1.87it/s]\u001b[A\n",
      " 78%|███████▊  | 40/51 [00:21<00:05,  1.88it/s]\u001b[A\n",
      " 80%|████████  | 41/51 [00:22<00:05,  1.87it/s]\u001b[A\n",
      " 82%|████████▏ | 42/51 [00:22<00:04,  1.87it/s]\u001b[A\n",
      " 84%|████████▍ | 43/51 [00:23<00:04,  1.87it/s]\u001b[A\n",
      " 86%|████████▋ | 44/51 [00:24<00:03,  1.86it/s]\u001b[A\n",
      " 88%|████████▊ | 45/51 [00:24<00:03,  1.87it/s]\u001b[A\n",
      " 90%|█████████ | 46/51 [00:25<00:02,  1.87it/s]\u001b[A\n",
      " 92%|█████████▏| 47/51 [00:25<00:02,  1.87it/s]\u001b[A\n",
      " 94%|█████████▍| 48/51 [00:26<00:01,  1.88it/s]\u001b[A\n",
      " 96%|█████████▌| 49/51 [00:26<00:01,  1.88it/s]\u001b[A\n",
      " 98%|█████████▊| 50/51 [00:27<00:00,  1.88it/s]\u001b[A\n",
      "100%|██████████| 51/51 [00:27<00:00,  2.29it/s]\u001b[A\n",
      "  0%|          | 0/2 [00:00<?, ?it/s]\u001b[A"
     ]
    },
    {
     "name": "stdout",
     "output_type": "stream",
     "text": [
      "Completed training for epoch 40, testing validation dataset\n"
     ]
    },
    {
     "name": "stderr",
     "output_type": "stream",
     "text": [
      "\n",
      " 50%|█████     | 1/2 [00:00<00:00,  1.65it/s]\u001b[A\n",
      "100%|██████████| 2/2 [00:00<00:00,  2.11it/s]\u001b[A\n",
      "  0%|          | 0/2 [00:00<?, ?it/s]\u001b[A"
     ]
    },
    {
     "name": "stdout",
     "output_type": "stream",
     "text": [
      "loss: 0.4056905210018158\n",
      "top1acc: 87.60005950927734\n",
      "Completed testing validation dataset for epoch 40, testing training dataset\n"
     ]
    },
    {
     "name": "stderr",
     "output_type": "stream",
     "text": [
      "\n",
      " 50%|█████     | 1/2 [00:00<00:00,  1.58it/s]\u001b[A\n",
      " 34%|███▍      | 41/120 [19:57<38:23, 29.16s/it]\n",
      "  0%|          | 0/51 [00:00<?, ?it/s]\u001b[A"
     ]
    },
    {
     "name": "stdout",
     "output_type": "stream",
     "text": [
      "loss: 0.28178489208221436\n",
      "top1acc: 90.20001983642578\n",
      "Completed testing training dataset for epoch 40\n",
      "Starting epoch 41\n"
     ]
    },
    {
     "name": "stderr",
     "output_type": "stream",
     "text": [
      "\n",
      "  2%|▏         | 1/51 [00:01<00:52,  1.05s/it]\u001b[A\n",
      "  4%|▍         | 2/51 [00:01<00:43,  1.12it/s]\u001b[A\n",
      "  6%|▌         | 3/51 [00:02<00:37,  1.27it/s]\u001b[A\n",
      "  8%|▊         | 4/51 [00:02<00:33,  1.41it/s]\u001b[A\n",
      " 10%|▉         | 5/51 [00:03<00:30,  1.52it/s]\u001b[A\n",
      " 12%|█▏        | 6/51 [00:03<00:27,  1.62it/s]\u001b[A\n",
      " 14%|█▎        | 7/51 [00:04<00:26,  1.69it/s]\u001b[A\n",
      " 16%|█▌        | 8/51 [00:04<00:24,  1.74it/s]\u001b[A\n",
      " 18%|█▊        | 9/51 [00:05<00:23,  1.78it/s]\u001b[A\n",
      " 20%|█▉        | 10/51 [00:05<00:22,  1.81it/s]\u001b[A\n",
      " 22%|██▏       | 11/51 [00:06<00:21,  1.83it/s]\u001b[A\n",
      " 24%|██▎       | 12/51 [00:06<00:21,  1.84it/s]\u001b[A\n",
      " 25%|██▌       | 13/51 [00:07<00:20,  1.85it/s]\u001b[A\n",
      " 27%|██▋       | 14/51 [00:07<00:19,  1.86it/s]\u001b[A\n",
      " 29%|██▉       | 15/51 [00:08<00:19,  1.86it/s]\u001b[A\n",
      " 31%|███▏      | 16/51 [00:09<00:18,  1.87it/s]\u001b[A\n",
      " 33%|███▎      | 17/51 [00:09<00:18,  1.87it/s]\u001b[A\n",
      " 35%|███▌      | 18/51 [00:10<00:17,  1.87it/s]\u001b[A\n",
      " 37%|███▋      | 19/51 [00:10<00:17,  1.87it/s]\u001b[A\n",
      " 39%|███▉      | 20/51 [00:11<00:16,  1.87it/s]\u001b[A\n",
      " 41%|████      | 21/51 [00:11<00:16,  1.87it/s]\u001b[A\n",
      " 43%|████▎     | 22/51 [00:12<00:15,  1.87it/s]\u001b[A\n",
      " 45%|████▌     | 23/51 [00:12<00:14,  1.87it/s]\u001b[A\n",
      " 47%|████▋     | 24/51 [00:13<00:14,  1.87it/s]\u001b[A\n",
      " 49%|████▉     | 25/51 [00:13<00:13,  1.87it/s]\u001b[A\n",
      " 51%|█████     | 26/51 [00:14<00:13,  1.87it/s]\u001b[A\n",
      " 53%|█████▎    | 27/51 [00:14<00:12,  1.87it/s]\u001b[A\n",
      " 55%|█████▍    | 28/51 [00:15<00:12,  1.87it/s]\u001b[A\n",
      " 57%|█████▋    | 29/51 [00:15<00:11,  1.87it/s]\u001b[A\n",
      " 59%|█████▉    | 30/51 [00:16<00:11,  1.87it/s]\u001b[A\n",
      " 61%|██████    | 31/51 [00:17<00:10,  1.87it/s]\u001b[A\n",
      " 63%|██████▎   | 32/51 [00:17<00:10,  1.87it/s]\u001b[A\n",
      " 65%|██████▍   | 33/51 [00:18<00:09,  1.87it/s]\u001b[A\n",
      " 67%|██████▋   | 34/51 [00:18<00:09,  1.87it/s]\u001b[A\n",
      " 69%|██████▊   | 35/51 [00:19<00:08,  1.87it/s]\u001b[A\n",
      " 71%|███████   | 36/51 [00:19<00:08,  1.87it/s]\u001b[A\n",
      " 73%|███████▎  | 37/51 [00:20<00:07,  1.87it/s]\u001b[A\n",
      " 75%|███████▍  | 38/51 [00:20<00:06,  1.88it/s]\u001b[A\n",
      " 76%|███████▋  | 39/51 [00:21<00:06,  1.87it/s]\u001b[A\n",
      " 78%|███████▊  | 40/51 [00:21<00:05,  1.88it/s]\u001b[A\n",
      " 80%|████████  | 41/51 [00:22<00:05,  1.88it/s]\u001b[A\n",
      " 82%|████████▏ | 42/51 [00:22<00:04,  1.88it/s]\u001b[A\n",
      " 84%|████████▍ | 43/51 [00:23<00:04,  1.88it/s]\u001b[A\n",
      " 86%|████████▋ | 44/51 [00:23<00:03,  1.88it/s]\u001b[A\n",
      " 88%|████████▊ | 45/51 [00:24<00:03,  1.88it/s]\u001b[A\n",
      " 90%|█████████ | 46/51 [00:25<00:02,  1.88it/s]\u001b[A\n",
      " 92%|█████████▏| 47/51 [00:25<00:02,  1.88it/s]\u001b[A\n",
      " 94%|█████████▍| 48/51 [00:26<00:01,  1.88it/s]\u001b[A\n",
      " 96%|█████████▌| 49/51 [00:26<00:01,  1.88it/s]\u001b[A\n",
      " 98%|█████████▊| 50/51 [00:27<00:00,  1.88it/s]\u001b[A\n",
      "100%|██████████| 51/51 [00:27<00:00,  2.29it/s]\u001b[A\n",
      "  0%|          | 0/2 [00:00<?, ?it/s]\u001b[A"
     ]
    },
    {
     "name": "stdout",
     "output_type": "stream",
     "text": [
      "Completed training for epoch 41, testing validation dataset\n"
     ]
    },
    {
     "name": "stderr",
     "output_type": "stream",
     "text": [
      "\n",
      " 50%|█████     | 1/2 [00:00<00:00,  1.65it/s]\u001b[A\n",
      "100%|██████████| 2/2 [00:00<00:00,  2.12it/s]\u001b[A\n",
      "  0%|          | 0/2 [00:00<?, ?it/s]\u001b[A"
     ]
    },
    {
     "name": "stdout",
     "output_type": "stream",
     "text": [
      "loss: 0.39275553822517395\n",
      "top1acc: 87.7999267578125\n",
      "Completed testing validation dataset for epoch 41, testing training dataset\n"
     ]
    },
    {
     "name": "stderr",
     "output_type": "stream",
     "text": [
      "\n",
      " 50%|█████     | 1/2 [00:00<00:00,  1.74it/s]\u001b[A\n",
      " 35%|███▌      | 42/120 [20:26<37:53, 29.15s/it]\n",
      "  0%|          | 0/51 [00:00<?, ?it/s]\u001b[A"
     ]
    },
    {
     "name": "stdout",
     "output_type": "stream",
     "text": [
      "loss: 0.27410611510276794\n",
      "top1acc: 90.4000244140625\n",
      "Completed testing training dataset for epoch 41\n",
      "Starting epoch 42\n"
     ]
    },
    {
     "name": "stderr",
     "output_type": "stream",
     "text": [
      "\n",
      "  2%|▏         | 1/51 [00:01<00:51,  1.04s/it]\u001b[A\n",
      "  4%|▍         | 2/51 [00:01<00:43,  1.13it/s]\u001b[A\n",
      "  6%|▌         | 3/51 [00:02<00:37,  1.28it/s]\u001b[A\n",
      "  8%|▊         | 4/51 [00:02<00:33,  1.42it/s]\u001b[A\n",
      " 10%|▉         | 5/51 [00:03<00:30,  1.53it/s]\u001b[A\n",
      " 12%|█▏        | 6/51 [00:03<00:27,  1.62it/s]\u001b[A\n",
      " 14%|█▎        | 7/51 [00:04<00:26,  1.69it/s]\u001b[A\n",
      " 16%|█▌        | 8/51 [00:04<00:24,  1.74it/s]\u001b[A\n",
      " 18%|█▊        | 9/51 [00:05<00:23,  1.78it/s]\u001b[A\n",
      " 20%|█▉        | 10/51 [00:05<00:22,  1.81it/s]\u001b[A\n",
      " 22%|██▏       | 11/51 [00:06<00:21,  1.83it/s]\u001b[A\n",
      " 24%|██▎       | 12/51 [00:06<00:21,  1.84it/s]\u001b[A\n",
      " 25%|██▌       | 13/51 [00:07<00:20,  1.85it/s]\u001b[A\n",
      " 27%|██▋       | 14/51 [00:07<00:19,  1.86it/s]\u001b[A\n",
      " 29%|██▉       | 15/51 [00:08<00:19,  1.86it/s]\u001b[A\n",
      " 31%|███▏      | 16/51 [00:09<00:18,  1.87it/s]\u001b[A\n",
      " 33%|███▎      | 17/51 [00:09<00:18,  1.87it/s]\u001b[A\n",
      " 35%|███▌      | 18/51 [00:10<00:17,  1.87it/s]\u001b[A\n",
      " 37%|███▋      | 19/51 [00:10<00:17,  1.87it/s]\u001b[A\n",
      " 39%|███▉      | 20/51 [00:11<00:16,  1.88it/s]\u001b[A\n",
      " 41%|████      | 21/51 [00:11<00:15,  1.88it/s]\u001b[A\n",
      " 43%|████▎     | 22/51 [00:12<00:15,  1.88it/s]\u001b[A\n",
      " 45%|████▌     | 23/51 [00:12<00:14,  1.88it/s]\u001b[A\n",
      " 47%|████▋     | 24/51 [00:13<00:14,  1.88it/s]\u001b[A\n",
      " 49%|████▉     | 25/51 [00:13<00:13,  1.87it/s]\u001b[A\n",
      " 51%|█████     | 26/51 [00:14<00:13,  1.87it/s]\u001b[A\n",
      " 53%|█████▎    | 27/51 [00:14<00:12,  1.87it/s]\u001b[A\n",
      " 55%|█████▍    | 28/51 [00:15<00:12,  1.88it/s]\u001b[A\n",
      " 57%|█████▋    | 29/51 [00:15<00:11,  1.88it/s]\u001b[A\n",
      " 59%|█████▉    | 30/51 [00:16<00:11,  1.88it/s]\u001b[A\n",
      " 61%|██████    | 31/51 [00:17<00:10,  1.88it/s]\u001b[A\n",
      " 63%|██████▎   | 32/51 [00:17<00:10,  1.88it/s]\u001b[A\n",
      " 65%|██████▍   | 33/51 [00:18<00:09,  1.88it/s]\u001b[A\n",
      " 67%|██████▋   | 34/51 [00:18<00:09,  1.88it/s]\u001b[A\n",
      " 69%|██████▊   | 35/51 [00:19<00:08,  1.88it/s]\u001b[A\n",
      " 71%|███████   | 36/51 [00:19<00:08,  1.86it/s]\u001b[A\n",
      " 73%|███████▎  | 37/51 [00:20<00:07,  1.87it/s]\u001b[A\n",
      " 75%|███████▍  | 38/51 [00:20<00:06,  1.87it/s]\u001b[A\n",
      " 76%|███████▋  | 39/51 [00:21<00:06,  1.87it/s]\u001b[A\n",
      " 78%|███████▊  | 40/51 [00:21<00:05,  1.87it/s]\u001b[A\n",
      " 80%|████████  | 41/51 [00:22<00:05,  1.86it/s]\u001b[A\n",
      " 82%|████████▏ | 42/51 [00:22<00:04,  1.87it/s]\u001b[A\n",
      " 84%|████████▍ | 43/51 [00:23<00:04,  1.87it/s]\u001b[A\n",
      " 86%|████████▋ | 44/51 [00:23<00:03,  1.86it/s]\u001b[A\n",
      " 88%|████████▊ | 45/51 [00:24<00:03,  1.86it/s]\u001b[A\n",
      " 90%|█████████ | 46/51 [00:25<00:02,  1.87it/s]\u001b[A\n",
      " 92%|█████████▏| 47/51 [00:25<00:02,  1.87it/s]\u001b[A\n",
      " 94%|█████████▍| 48/51 [00:26<00:01,  1.86it/s]\u001b[A\n",
      " 96%|█████████▌| 49/51 [00:26<00:01,  1.87it/s]\u001b[A\n",
      " 98%|█████████▊| 50/51 [00:27<00:00,  1.87it/s]\u001b[A\n",
      "100%|██████████| 51/51 [00:27<00:00,  2.28it/s]\u001b[A\n",
      "  0%|          | 0/2 [00:00<?, ?it/s]\u001b[A"
     ]
    },
    {
     "name": "stdout",
     "output_type": "stream",
     "text": [
      "Completed training for epoch 42, testing validation dataset\n"
     ]
    },
    {
     "name": "stderr",
     "output_type": "stream",
     "text": [
      "\n",
      " 50%|█████     | 1/2 [00:00<00:00,  1.62it/s]\u001b[A\n",
      "100%|██████████| 2/2 [00:00<00:00,  2.09it/s]\u001b[A\n",
      "  0%|          | 0/2 [00:00<?, ?it/s]\u001b[A"
     ]
    },
    {
     "name": "stdout",
     "output_type": "stream",
     "text": [
      "loss: 0.4023912847042084\n",
      "top1acc: 87.79994201660156\n",
      "Completed testing validation dataset for epoch 42, testing training dataset\n"
     ]
    },
    {
     "name": "stderr",
     "output_type": "stream",
     "text": [
      "\n",
      " 50%|█████     | 1/2 [00:00<00:00,  1.65it/s]\u001b[A\n",
      " 36%|███▌      | 43/120 [20:55<37:25, 29.16s/it]\n",
      "  0%|          | 0/51 [00:00<?, ?it/s]\u001b[A"
     ]
    },
    {
     "name": "stdout",
     "output_type": "stream",
     "text": [
      "loss: 0.2605035603046417\n",
      "top1acc: 91.79995727539062\n",
      "Completed testing training dataset for epoch 42\n",
      "Starting epoch 43\n"
     ]
    },
    {
     "name": "stderr",
     "output_type": "stream",
     "text": [
      "\n",
      "  2%|▏         | 1/51 [00:01<00:53,  1.06s/it]\u001b[A\n",
      "  4%|▍         | 2/51 [00:01<00:44,  1.11it/s]\u001b[A\n",
      "  6%|▌         | 3/51 [00:02<00:38,  1.26it/s]\u001b[A\n",
      "  8%|▊         | 4/51 [00:02<00:33,  1.40it/s]\u001b[A\n",
      " 10%|▉         | 5/51 [00:03<00:30,  1.51it/s]\u001b[A\n",
      " 12%|█▏        | 6/51 [00:03<00:27,  1.61it/s]\u001b[A\n",
      " 14%|█▎        | 7/51 [00:04<00:26,  1.68it/s]\u001b[A\n",
      " 16%|█▌        | 8/51 [00:04<00:24,  1.74it/s]\u001b[A\n",
      " 18%|█▊        | 9/51 [00:05<00:23,  1.78it/s]\u001b[A\n",
      " 20%|█▉        | 10/51 [00:05<00:22,  1.81it/s]\u001b[A\n",
      " 22%|██▏       | 11/51 [00:06<00:21,  1.83it/s]\u001b[A\n",
      " 24%|██▎       | 12/51 [00:06<00:21,  1.84it/s]\u001b[A\n",
      " 25%|██▌       | 13/51 [00:07<00:20,  1.85it/s]\u001b[A\n",
      " 27%|██▋       | 14/51 [00:07<00:19,  1.86it/s]\u001b[A\n",
      " 29%|██▉       | 15/51 [00:08<00:19,  1.86it/s]\u001b[A\n",
      " 31%|███▏      | 16/51 [00:09<00:18,  1.87it/s]\u001b[A\n",
      " 33%|███▎      | 17/51 [00:09<00:18,  1.86it/s]\u001b[A\n",
      " 35%|███▌      | 18/51 [00:10<00:17,  1.87it/s]\u001b[A\n",
      " 37%|███▋      | 19/51 [00:10<00:17,  1.87it/s]\u001b[A\n",
      " 39%|███▉      | 20/51 [00:11<00:16,  1.87it/s]\u001b[A\n",
      " 41%|████      | 21/51 [00:11<00:16,  1.87it/s]\u001b[A\n",
      " 43%|████▎     | 22/51 [00:12<00:15,  1.87it/s]\u001b[A\n",
      " 45%|████▌     | 23/51 [00:12<00:14,  1.87it/s]\u001b[A\n",
      " 47%|████▋     | 24/51 [00:13<00:14,  1.87it/s]\u001b[A\n",
      " 49%|████▉     | 25/51 [00:13<00:13,  1.87it/s]\u001b[A\n",
      " 51%|█████     | 26/51 [00:14<00:13,  1.88it/s]\u001b[A\n",
      " 53%|█████▎    | 27/51 [00:14<00:12,  1.88it/s]\u001b[A\n",
      " 55%|█████▍    | 28/51 [00:15<00:12,  1.88it/s]\u001b[A\n",
      " 57%|█████▋    | 29/51 [00:15<00:11,  1.88it/s]\u001b[A\n",
      " 59%|█████▉    | 30/51 [00:16<00:11,  1.88it/s]\u001b[A\n",
      " 61%|██████    | 31/51 [00:17<00:10,  1.88it/s]\u001b[A\n",
      " 63%|██████▎   | 32/51 [00:17<00:10,  1.88it/s]\u001b[A\n",
      " 65%|██████▍   | 33/51 [00:18<00:09,  1.88it/s]\u001b[A\n",
      " 67%|██████▋   | 34/51 [00:18<00:09,  1.87it/s]\u001b[A\n",
      " 69%|██████▊   | 35/51 [00:19<00:08,  1.88it/s]\u001b[A\n",
      " 71%|███████   | 36/51 [00:19<00:07,  1.88it/s]\u001b[A\n",
      " 73%|███████▎  | 37/51 [00:20<00:07,  1.88it/s]\u001b[A\n",
      " 75%|███████▍  | 38/51 [00:20<00:06,  1.88it/s]\u001b[A\n",
      " 76%|███████▋  | 39/51 [00:21<00:06,  1.88it/s]\u001b[A\n",
      " 78%|███████▊  | 40/51 [00:21<00:05,  1.88it/s]\u001b[A\n",
      " 80%|████████  | 41/51 [00:22<00:05,  1.88it/s]\u001b[A\n",
      " 82%|████████▏ | 42/51 [00:22<00:04,  1.87it/s]\u001b[A\n",
      " 84%|████████▍ | 43/51 [00:23<00:04,  1.87it/s]\u001b[A\n",
      " 86%|████████▋ | 44/51 [00:23<00:03,  1.88it/s]\u001b[A\n",
      " 88%|████████▊ | 45/51 [00:24<00:03,  1.88it/s]\u001b[A\n",
      " 90%|█████████ | 46/51 [00:25<00:02,  1.88it/s]\u001b[A\n",
      " 92%|█████████▏| 47/51 [00:25<00:02,  1.88it/s]\u001b[A\n",
      " 94%|█████████▍| 48/51 [00:26<00:01,  1.88it/s]\u001b[A\n",
      " 96%|█████████▌| 49/51 [00:26<00:01,  1.88it/s]\u001b[A\n",
      " 98%|█████████▊| 50/51 [00:27<00:00,  1.88it/s]\u001b[A\n",
      "100%|██████████| 51/51 [00:27<00:00,  2.29it/s]\u001b[A\n",
      "  0%|          | 0/2 [00:00<?, ?it/s]\u001b[A"
     ]
    },
    {
     "name": "stdout",
     "output_type": "stream",
     "text": [
      "Completed training for epoch 43, testing validation dataset\n"
     ]
    },
    {
     "name": "stderr",
     "output_type": "stream",
     "text": [
      "\n",
      " 50%|█████     | 1/2 [00:00<00:00,  1.72it/s]\u001b[A\n",
      "100%|██████████| 2/2 [00:00<00:00,  2.20it/s]\u001b[A\n",
      "  0%|          | 0/2 [00:00<?, ?it/s]\u001b[A"
     ]
    },
    {
     "name": "stdout",
     "output_type": "stream",
     "text": [
      "loss: 0.45103609561920166\n",
      "top1acc: 86.40006256103516\n",
      "Completed testing validation dataset for epoch 43, testing training dataset\n"
     ]
    },
    {
     "name": "stderr",
     "output_type": "stream",
     "text": [
      "\n",
      " 50%|█████     | 1/2 [00:00<00:00,  1.75it/s]\u001b[A\n",
      " 37%|███▋      | 44/120 [21:24<36:54, 29.14s/it]\n",
      "  0%|          | 0/51 [00:00<?, ?it/s]\u001b[A"
     ]
    },
    {
     "name": "stdout",
     "output_type": "stream",
     "text": [
      "loss: 0.31510525941848755\n",
      "top1acc: 88.60000610351562\n",
      "Completed testing training dataset for epoch 43\n",
      "Starting epoch 44\n"
     ]
    },
    {
     "name": "stderr",
     "output_type": "stream",
     "text": [
      "\n",
      "  2%|▏         | 1/51 [00:01<00:50,  1.02s/it]\u001b[A\n",
      "  4%|▍         | 2/51 [00:01<00:42,  1.15it/s]\u001b[A\n",
      "  6%|▌         | 3/51 [00:02<00:36,  1.30it/s]\u001b[A\n",
      "  8%|▊         | 4/51 [00:02<00:32,  1.43it/s]\u001b[A\n",
      " 10%|▉         | 5/51 [00:03<00:29,  1.54it/s]\u001b[A\n",
      " 12%|█▏        | 6/51 [00:03<00:27,  1.63it/s]\u001b[A\n",
      " 14%|█▎        | 7/51 [00:04<00:25,  1.70it/s]\u001b[A\n",
      " 16%|█▌        | 8/51 [00:04<00:24,  1.75it/s]\u001b[A\n",
      " 18%|█▊        | 9/51 [00:05<00:23,  1.78it/s]\u001b[A\n",
      " 20%|█▉        | 10/51 [00:05<00:22,  1.81it/s]\u001b[A\n",
      " 22%|██▏       | 11/51 [00:06<00:21,  1.83it/s]\u001b[A\n",
      " 24%|██▎       | 12/51 [00:06<00:21,  1.84it/s]\u001b[A\n",
      " 25%|██▌       | 13/51 [00:07<00:20,  1.85it/s]\u001b[A\n",
      " 27%|██▋       | 14/51 [00:07<00:19,  1.86it/s]\u001b[A\n",
      " 29%|██▉       | 15/51 [00:08<00:19,  1.86it/s]\u001b[A\n",
      " 31%|███▏      | 16/51 [00:09<00:18,  1.87it/s]\u001b[A\n",
      " 33%|███▎      | 17/51 [00:09<00:18,  1.87it/s]\u001b[A\n",
      " 35%|███▌      | 18/51 [00:10<00:17,  1.87it/s]\u001b[A\n",
      " 37%|███▋      | 19/51 [00:10<00:17,  1.87it/s]\u001b[A\n",
      " 39%|███▉      | 20/51 [00:11<00:16,  1.87it/s]\u001b[A\n",
      " 41%|████      | 21/51 [00:11<00:16,  1.87it/s]\u001b[A\n",
      " 43%|████▎     | 22/51 [00:12<00:15,  1.87it/s]\u001b[A\n",
      " 45%|████▌     | 23/51 [00:12<00:14,  1.88it/s]\u001b[A\n",
      " 47%|████▋     | 24/51 [00:13<00:14,  1.88it/s]\u001b[A\n",
      " 49%|████▉     | 25/51 [00:13<00:13,  1.87it/s]\u001b[A\n",
      " 51%|█████     | 26/51 [00:14<00:13,  1.87it/s]\u001b[A\n",
      " 53%|█████▎    | 27/51 [00:14<00:12,  1.87it/s]\u001b[A\n",
      " 55%|█████▍    | 28/51 [00:15<00:12,  1.87it/s]\u001b[A\n",
      " 57%|█████▋    | 29/51 [00:15<00:11,  1.88it/s]\u001b[A\n",
      " 59%|█████▉    | 30/51 [00:16<00:11,  1.87it/s]\u001b[A\n",
      " 61%|██████    | 31/51 [00:17<00:10,  1.87it/s]\u001b[A\n",
      " 63%|██████▎   | 32/51 [00:17<00:10,  1.87it/s]\u001b[A\n",
      " 65%|██████▍   | 33/51 [00:18<00:09,  1.88it/s]\u001b[A\n",
      " 67%|██████▋   | 34/51 [00:18<00:09,  1.88it/s]\u001b[A\n",
      " 69%|██████▊   | 35/51 [00:19<00:08,  1.88it/s]\u001b[A\n",
      " 71%|███████   | 36/51 [00:19<00:08,  1.87it/s]\u001b[A\n",
      " 73%|███████▎  | 37/51 [00:20<00:07,  1.87it/s]\u001b[A\n",
      " 75%|███████▍  | 38/51 [00:20<00:06,  1.88it/s]\u001b[A\n",
      " 76%|███████▋  | 39/51 [00:21<00:06,  1.88it/s]\u001b[A\n",
      " 78%|███████▊  | 40/51 [00:21<00:05,  1.87it/s]\u001b[A\n",
      " 80%|████████  | 41/51 [00:22<00:05,  1.87it/s]\u001b[A\n",
      " 82%|████████▏ | 42/51 [00:22<00:04,  1.87it/s]\u001b[A\n",
      " 84%|████████▍ | 43/51 [00:23<00:04,  1.87it/s]\u001b[A\n",
      " 86%|████████▋ | 44/51 [00:23<00:03,  1.87it/s]\u001b[A\n",
      " 88%|████████▊ | 45/51 [00:24<00:03,  1.88it/s]\u001b[A\n",
      " 90%|█████████ | 46/51 [00:25<00:02,  1.88it/s]\u001b[A\n",
      " 92%|█████████▏| 47/51 [00:25<00:02,  1.88it/s]\u001b[A\n",
      " 94%|█████████▍| 48/51 [00:26<00:01,  1.88it/s]\u001b[A\n",
      " 96%|█████████▌| 49/51 [00:26<00:01,  1.88it/s]\u001b[A\n",
      " 98%|█████████▊| 50/51 [00:27<00:00,  1.88it/s]\u001b[A\n",
      "100%|██████████| 51/51 [00:27<00:00,  2.29it/s]\u001b[A\n",
      "  0%|          | 0/2 [00:00<?, ?it/s]\u001b[A"
     ]
    },
    {
     "name": "stdout",
     "output_type": "stream",
     "text": [
      "Completed training for epoch 44, testing validation dataset\n"
     ]
    },
    {
     "name": "stderr",
     "output_type": "stream",
     "text": [
      "\n",
      " 50%|█████     | 1/2 [00:00<00:00,  1.68it/s]\u001b[A\n",
      "100%|██████████| 2/2 [00:00<00:00,  2.15it/s]\u001b[A\n",
      "  0%|          | 0/2 [00:00<?, ?it/s]\u001b[A"
     ]
    },
    {
     "name": "stdout",
     "output_type": "stream",
     "text": [
      "loss: 0.3909650444984436\n",
      "top1acc: 88.00006866455078\n",
      "Completed testing validation dataset for epoch 44, testing training dataset\n"
     ]
    },
    {
     "name": "stderr",
     "output_type": "stream",
     "text": [
      "\n",
      " 50%|█████     | 1/2 [00:00<00:00,  1.64it/s]\u001b[A\n",
      " 38%|███▊      | 45/120 [21:53<36:24, 29.13s/it]\n",
      "  0%|          | 0/51 [00:00<?, ?it/s]\u001b[A"
     ]
    },
    {
     "name": "stdout",
     "output_type": "stream",
     "text": [
      "loss: 0.24962574243545532\n",
      "top1acc: 92.00008392333984\n",
      "Completed testing training dataset for epoch 44\n",
      "Starting epoch 45\n"
     ]
    },
    {
     "name": "stderr",
     "output_type": "stream",
     "text": [
      "\n",
      "  2%|▏         | 1/51 [00:01<00:52,  1.05s/it]\u001b[A\n",
      "  4%|▍         | 2/51 [00:01<00:43,  1.12it/s]\u001b[A\n",
      "  6%|▌         | 3/51 [00:02<00:37,  1.27it/s]\u001b[A\n",
      "  8%|▊         | 4/51 [00:02<00:33,  1.41it/s]\u001b[A\n",
      " 10%|▉         | 5/51 [00:03<00:30,  1.52it/s]\u001b[A\n",
      " 12%|█▏        | 6/51 [00:03<00:27,  1.61it/s]\u001b[A\n",
      " 14%|█▎        | 7/51 [00:04<00:26,  1.69it/s]\u001b[A\n",
      " 16%|█▌        | 8/51 [00:04<00:24,  1.74it/s]\u001b[A\n",
      " 18%|█▊        | 9/51 [00:05<00:23,  1.78it/s]\u001b[A\n",
      " 20%|█▉        | 10/51 [00:05<00:22,  1.81it/s]\u001b[A\n",
      " 22%|██▏       | 11/51 [00:06<00:21,  1.83it/s]\u001b[A\n",
      " 24%|██▎       | 12/51 [00:06<00:21,  1.84it/s]\u001b[A\n",
      " 25%|██▌       | 13/51 [00:07<00:20,  1.85it/s]\u001b[A\n",
      " 27%|██▋       | 14/51 [00:07<00:19,  1.86it/s]\u001b[A\n",
      " 29%|██▉       | 15/51 [00:08<00:19,  1.86it/s]\u001b[A\n",
      " 31%|███▏      | 16/51 [00:09<00:18,  1.87it/s]\u001b[A\n",
      " 33%|███▎      | 17/51 [00:09<00:18,  1.87it/s]\u001b[A\n",
      " 35%|███▌      | 18/51 [00:10<00:17,  1.87it/s]\u001b[A\n",
      " 37%|███▋      | 19/51 [00:10<00:17,  1.87it/s]\u001b[A\n",
      " 39%|███▉      | 20/51 [00:11<00:16,  1.87it/s]\u001b[A\n",
      " 41%|████      | 21/51 [00:11<00:16,  1.87it/s]\u001b[A\n",
      " 43%|████▎     | 22/51 [00:12<00:15,  1.87it/s]\u001b[A\n",
      " 45%|████▌     | 23/51 [00:12<00:14,  1.87it/s]\u001b[A\n",
      " 47%|████▋     | 24/51 [00:13<00:14,  1.87it/s]\u001b[A\n",
      " 49%|████▉     | 25/51 [00:13<00:13,  1.87it/s]\u001b[A\n",
      " 51%|█████     | 26/51 [00:14<00:13,  1.87it/s]\u001b[A\n",
      " 53%|█████▎    | 27/51 [00:14<00:12,  1.87it/s]\u001b[A\n",
      " 55%|█████▍    | 28/51 [00:15<00:12,  1.87it/s]\u001b[A\n",
      " 57%|█████▋    | 29/51 [00:15<00:11,  1.88it/s]\u001b[A\n",
      " 59%|█████▉    | 30/51 [00:16<00:11,  1.87it/s]\u001b[A\n",
      " 61%|██████    | 31/51 [00:17<00:10,  1.87it/s]\u001b[A\n",
      " 63%|██████▎   | 32/51 [00:17<00:10,  1.88it/s]\u001b[A\n",
      " 65%|██████▍   | 33/51 [00:18<00:09,  1.88it/s]\u001b[A\n",
      " 67%|██████▋   | 34/51 [00:18<00:09,  1.88it/s]\u001b[A\n",
      " 69%|██████▊   | 35/51 [00:19<00:08,  1.88it/s]\u001b[A\n",
      " 71%|███████   | 36/51 [00:19<00:08,  1.87it/s]\u001b[A\n",
      " 73%|███████▎  | 37/51 [00:20<00:07,  1.87it/s]\u001b[A\n",
      " 75%|███████▍  | 38/51 [00:20<00:06,  1.88it/s]\u001b[A\n",
      " 76%|███████▋  | 39/51 [00:21<00:06,  1.88it/s]\u001b[A\n",
      " 78%|███████▊  | 40/51 [00:21<00:05,  1.88it/s]\u001b[A\n",
      " 80%|████████  | 41/51 [00:22<00:05,  1.88it/s]\u001b[A\n",
      " 82%|████████▏ | 42/51 [00:22<00:04,  1.87it/s]\u001b[A\n",
      " 84%|████████▍ | 43/51 [00:23<00:04,  1.87it/s]\u001b[A\n",
      " 86%|████████▋ | 44/51 [00:23<00:03,  1.87it/s]\u001b[A\n",
      " 88%|████████▊ | 45/51 [00:24<00:03,  1.88it/s]\u001b[A\n",
      " 90%|█████████ | 46/51 [00:25<00:02,  1.88it/s]\u001b[A\n",
      " 92%|█████████▏| 47/51 [00:25<00:02,  1.88it/s]\u001b[A\n",
      " 94%|█████████▍| 48/51 [00:26<00:01,  1.88it/s]\u001b[A\n",
      " 96%|█████████▌| 49/51 [00:26<00:01,  1.88it/s]\u001b[A\n",
      " 98%|█████████▊| 50/51 [00:27<00:00,  1.88it/s]\u001b[A\n",
      "100%|██████████| 51/51 [00:27<00:00,  2.29it/s]\u001b[A\n",
      "  0%|          | 0/2 [00:00<?, ?it/s]\u001b[A"
     ]
    },
    {
     "name": "stdout",
     "output_type": "stream",
     "text": [
      "Completed training for epoch 45, testing validation dataset\n"
     ]
    },
    {
     "name": "stderr",
     "output_type": "stream",
     "text": [
      "\n",
      " 50%|█████     | 1/2 [00:00<00:00,  1.68it/s]\u001b[A\n",
      "100%|██████████| 2/2 [00:00<00:00,  2.15it/s]\u001b[A\n",
      "  0%|          | 0/2 [00:00<?, ?it/s]\u001b[A"
     ]
    },
    {
     "name": "stdout",
     "output_type": "stream",
     "text": [
      "loss: 0.4290706217288971\n",
      "top1acc: 87.00005340576172\n",
      "Completed testing validation dataset for epoch 45, testing training dataset\n"
     ]
    },
    {
     "name": "stderr",
     "output_type": "stream",
     "text": [
      "\n",
      " 50%|█████     | 1/2 [00:00<00:00,  1.76it/s]\u001b[A\n",
      " 38%|███▊      | 46/120 [22:22<35:54, 29.11s/it]\n",
      "  0%|          | 0/51 [00:00<?, ?it/s]\u001b[A"
     ]
    },
    {
     "name": "stdout",
     "output_type": "stream",
     "text": [
      "loss: 0.2944796085357666\n",
      "top1acc: 88.80001068115234\n",
      "Completed testing training dataset for epoch 45\n",
      "Starting epoch 46\n"
     ]
    },
    {
     "name": "stderr",
     "output_type": "stream",
     "text": [
      "\n",
      "  2%|▏         | 1/51 [00:01<00:53,  1.06s/it]\u001b[A\n",
      "  4%|▍         | 2/51 [00:01<00:44,  1.11it/s]\u001b[A\n",
      "  6%|▌         | 3/51 [00:02<00:38,  1.26it/s]\u001b[A\n",
      "  8%|▊         | 4/51 [00:02<00:33,  1.40it/s]\u001b[A\n",
      " 10%|▉         | 5/51 [00:03<00:30,  1.51it/s]\u001b[A\n",
      " 12%|█▏        | 6/51 [00:03<00:28,  1.61it/s]\u001b[A\n",
      " 14%|█▎        | 7/51 [00:04<00:26,  1.68it/s]\u001b[A\n",
      " 16%|█▌        | 8/51 [00:04<00:24,  1.74it/s]\u001b[A\n",
      " 18%|█▊        | 9/51 [00:05<00:23,  1.77it/s]\u001b[A\n",
      " 20%|█▉        | 10/51 [00:05<00:22,  1.80it/s]\u001b[A\n",
      " 22%|██▏       | 11/51 [00:06<00:21,  1.82it/s]\u001b[A\n",
      " 24%|██▎       | 12/51 [00:06<00:21,  1.84it/s]\u001b[A\n",
      " 25%|██▌       | 13/51 [00:07<00:20,  1.85it/s]\u001b[A\n",
      " 27%|██▋       | 14/51 [00:08<00:19,  1.86it/s]\u001b[A\n",
      " 29%|██▉       | 15/51 [00:08<00:19,  1.86it/s]\u001b[A\n",
      " 31%|███▏      | 16/51 [00:09<00:18,  1.87it/s]\u001b[A\n",
      " 33%|███▎      | 17/51 [00:09<00:18,  1.87it/s]\u001b[A\n",
      " 35%|███▌      | 18/51 [00:10<00:17,  1.87it/s]\u001b[A\n",
      " 37%|███▋      | 19/51 [00:10<00:17,  1.87it/s]\u001b[A\n",
      " 39%|███▉      | 20/51 [00:11<00:16,  1.86it/s]\u001b[A\n",
      " 41%|████      | 21/51 [00:11<00:16,  1.87it/s]\u001b[A\n",
      " 43%|████▎     | 22/51 [00:12<00:15,  1.87it/s]\u001b[A\n",
      " 45%|████▌     | 23/51 [00:12<00:14,  1.87it/s]\u001b[A\n",
      " 47%|████▋     | 24/51 [00:13<00:14,  1.87it/s]\u001b[A\n",
      " 49%|████▉     | 25/51 [00:13<00:13,  1.87it/s]\u001b[A\n",
      " 51%|█████     | 26/51 [00:14<00:13,  1.87it/s]\u001b[A\n",
      " 53%|█████▎    | 27/51 [00:14<00:12,  1.87it/s]\u001b[A\n",
      " 55%|█████▍    | 28/51 [00:15<00:12,  1.87it/s]\u001b[A\n",
      " 57%|█████▋    | 29/51 [00:16<00:11,  1.87it/s]\u001b[A\n",
      " 59%|█████▉    | 30/51 [00:16<00:11,  1.87it/s]\u001b[A\n",
      " 61%|██████    | 31/51 [00:17<00:10,  1.87it/s]\u001b[A\n",
      " 63%|██████▎   | 32/51 [00:17<00:10,  1.87it/s]\u001b[A\n",
      " 65%|██████▍   | 33/51 [00:18<00:09,  1.87it/s]\u001b[A\n",
      " 67%|██████▋   | 34/51 [00:18<00:09,  1.87it/s]\u001b[A\n",
      " 69%|██████▊   | 35/51 [00:19<00:08,  1.87it/s]\u001b[A\n",
      " 71%|███████   | 36/51 [00:19<00:08,  1.87it/s]\u001b[A\n",
      " 73%|███████▎  | 37/51 [00:20<00:07,  1.87it/s]\u001b[A\n",
      " 75%|███████▍  | 38/51 [00:20<00:06,  1.87it/s]\u001b[A\n",
      " 76%|███████▋  | 39/51 [00:21<00:06,  1.87it/s]\u001b[A\n",
      " 78%|███████▊  | 40/51 [00:21<00:05,  1.87it/s]\u001b[A\n",
      " 80%|████████  | 41/51 [00:22<00:05,  1.87it/s]\u001b[A\n",
      " 82%|████████▏ | 42/51 [00:22<00:04,  1.87it/s]\u001b[A\n",
      " 84%|████████▍ | 43/51 [00:23<00:04,  1.87it/s]\u001b[A\n",
      " 86%|████████▋ | 44/51 [00:24<00:03,  1.87it/s]\u001b[A\n",
      " 88%|████████▊ | 45/51 [00:24<00:03,  1.87it/s]\u001b[A\n",
      " 90%|█████████ | 46/51 [00:25<00:02,  1.88it/s]\u001b[A\n",
      " 92%|█████████▏| 47/51 [00:25<00:02,  1.88it/s]\u001b[A\n",
      " 94%|█████████▍| 48/51 [00:26<00:01,  1.88it/s]\u001b[A\n",
      " 96%|█████████▌| 49/51 [00:26<00:01,  1.88it/s]\u001b[A\n",
      " 98%|█████████▊| 50/51 [00:27<00:00,  1.88it/s]\u001b[A\n",
      "100%|██████████| 51/51 [00:27<00:00,  2.29it/s]\u001b[A\n",
      "  0%|          | 0/2 [00:00<?, ?it/s]\u001b[A"
     ]
    },
    {
     "name": "stdout",
     "output_type": "stream",
     "text": [
      "Completed training for epoch 46, testing validation dataset\n"
     ]
    },
    {
     "name": "stderr",
     "output_type": "stream",
     "text": [
      "\n",
      " 50%|█████     | 1/2 [00:00<00:00,  1.65it/s]\u001b[A\n",
      "100%|██████████| 2/2 [00:00<00:00,  2.12it/s]\u001b[A\n",
      "  0%|          | 0/2 [00:00<?, ?it/s]\u001b[A"
     ]
    },
    {
     "name": "stdout",
     "output_type": "stream",
     "text": [
      "loss: 0.40049102902412415\n",
      "top1acc: 87.20006561279297\n",
      "Completed testing validation dataset for epoch 46, testing training dataset\n"
     ]
    },
    {
     "name": "stderr",
     "output_type": "stream",
     "text": [
      "\n",
      " 50%|█████     | 1/2 [00:00<00:00,  1.63it/s]\u001b[A\n",
      " 39%|███▉      | 47/120 [22:52<35:27, 29.14s/it]\n",
      "  0%|          | 0/51 [00:00<?, ?it/s]\u001b[A"
     ]
    },
    {
     "name": "stdout",
     "output_type": "stream",
     "text": [
      "loss: 0.2466651350259781\n",
      "top1acc: 90.60005187988281\n",
      "Completed testing training dataset for epoch 46\n",
      "Starting epoch 47\n"
     ]
    },
    {
     "name": "stderr",
     "output_type": "stream",
     "text": [
      "\n",
      "  2%|▏         | 1/51 [00:01<00:52,  1.06s/it]\u001b[A\n",
      "  4%|▍         | 2/51 [00:01<00:44,  1.11it/s]\u001b[A\n",
      "  6%|▌         | 3/51 [00:02<00:37,  1.27it/s]\u001b[A\n",
      "  8%|▊         | 4/51 [00:02<00:33,  1.40it/s]\u001b[A\n",
      " 10%|▉         | 5/51 [00:03<00:30,  1.52it/s]\u001b[A\n",
      " 12%|█▏        | 6/51 [00:03<00:27,  1.61it/s]\u001b[A\n",
      " 14%|█▎        | 7/51 [00:04<00:26,  1.68it/s]\u001b[A\n",
      " 16%|█▌        | 8/51 [00:04<00:24,  1.74it/s]\u001b[A\n",
      " 18%|█▊        | 9/51 [00:05<00:23,  1.77it/s]\u001b[A\n",
      " 20%|█▉        | 10/51 [00:05<00:22,  1.80it/s]\u001b[A\n",
      " 22%|██▏       | 11/51 [00:06<00:21,  1.82it/s]\u001b[A\n",
      " 24%|██▎       | 12/51 [00:06<00:21,  1.84it/s]\u001b[A\n",
      " 25%|██▌       | 13/51 [00:07<00:20,  1.85it/s]\u001b[A\n",
      " 27%|██▋       | 14/51 [00:07<00:19,  1.86it/s]\u001b[A\n",
      " 29%|██▉       | 15/51 [00:08<00:19,  1.86it/s]\u001b[A\n",
      " 31%|███▏      | 16/51 [00:09<00:18,  1.87it/s]\u001b[A\n",
      " 33%|███▎      | 17/51 [00:09<00:18,  1.87it/s]\u001b[A\n",
      " 35%|███▌      | 18/51 [00:10<00:17,  1.87it/s]\u001b[A\n",
      " 37%|███▋      | 19/51 [00:10<00:17,  1.87it/s]\u001b[A\n",
      " 39%|███▉      | 20/51 [00:11<00:16,  1.87it/s]\u001b[A\n",
      " 41%|████      | 21/51 [00:11<00:16,  1.87it/s]\u001b[A\n",
      " 43%|████▎     | 22/51 [00:12<00:15,  1.87it/s]\u001b[A\n",
      " 45%|████▌     | 23/51 [00:12<00:14,  1.87it/s]\u001b[A\n",
      " 47%|████▋     | 24/51 [00:13<00:14,  1.88it/s]\u001b[A\n",
      " 49%|████▉     | 25/51 [00:13<00:13,  1.87it/s]\u001b[A\n",
      " 51%|█████     | 26/51 [00:14<00:13,  1.87it/s]\u001b[A\n",
      " 53%|█████▎    | 27/51 [00:14<00:12,  1.87it/s]\u001b[A\n",
      " 55%|█████▍    | 28/51 [00:15<00:12,  1.87it/s]\u001b[A\n",
      " 57%|█████▋    | 29/51 [00:15<00:11,  1.87it/s]\u001b[A\n",
      " 59%|█████▉    | 30/51 [00:16<00:11,  1.87it/s]\u001b[A\n",
      " 61%|██████    | 31/51 [00:17<00:10,  1.87it/s]\u001b[A\n",
      " 63%|██████▎   | 32/51 [00:17<00:10,  1.87it/s]\u001b[A\n",
      " 65%|██████▍   | 33/51 [00:18<00:09,  1.87it/s]\u001b[A\n",
      " 67%|██████▋   | 34/51 [00:18<00:09,  1.87it/s]\u001b[A\n",
      " 69%|██████▊   | 35/51 [00:19<00:08,  1.87it/s]\u001b[A\n",
      " 71%|███████   | 36/51 [00:19<00:08,  1.87it/s]\u001b[A\n",
      " 73%|███████▎  | 37/51 [00:20<00:07,  1.87it/s]\u001b[A\n",
      " 75%|███████▍  | 38/51 [00:20<00:06,  1.87it/s]\u001b[A\n",
      " 76%|███████▋  | 39/51 [00:21<00:06,  1.87it/s]\u001b[A\n",
      " 78%|███████▊  | 40/51 [00:21<00:05,  1.87it/s]\u001b[A\n",
      " 80%|████████  | 41/51 [00:22<00:05,  1.87it/s]\u001b[A\n",
      " 82%|████████▏ | 42/51 [00:22<00:04,  1.87it/s]\u001b[A\n",
      " 84%|████████▍ | 43/51 [00:23<00:04,  1.87it/s]\u001b[A\n",
      " 86%|████████▋ | 44/51 [00:24<00:03,  1.88it/s]\u001b[A\n",
      " 88%|████████▊ | 45/51 [00:24<00:03,  1.88it/s]\u001b[A\n",
      " 90%|█████████ | 46/51 [00:25<00:02,  1.88it/s]\u001b[A\n",
      " 92%|█████████▏| 47/51 [00:25<00:02,  1.88it/s]\u001b[A\n",
      " 94%|█████████▍| 48/51 [00:26<00:01,  1.88it/s]\u001b[A\n",
      " 96%|█████████▌| 49/51 [00:26<00:01,  1.88it/s]\u001b[A\n",
      " 98%|█████████▊| 50/51 [00:27<00:00,  1.88it/s]\u001b[A\n",
      "100%|██████████| 51/51 [00:27<00:00,  2.29it/s]\u001b[A\n",
      "  0%|          | 0/2 [00:00<?, ?it/s]\u001b[A"
     ]
    },
    {
     "name": "stdout",
     "output_type": "stream",
     "text": [
      "Completed training for epoch 47, testing validation dataset\n"
     ]
    },
    {
     "name": "stderr",
     "output_type": "stream",
     "text": [
      "\n",
      " 50%|█████     | 1/2 [00:00<00:00,  1.66it/s]\u001b[A\n",
      "100%|██████████| 2/2 [00:00<00:00,  2.13it/s]\u001b[A\n",
      "  0%|          | 0/2 [00:00<?, ?it/s]\u001b[A"
     ]
    },
    {
     "name": "stdout",
     "output_type": "stream",
     "text": [
      "loss: 0.3959505558013916\n",
      "top1acc: 88.39994049072266\n",
      "Completed testing validation dataset for epoch 47, testing training dataset\n"
     ]
    },
    {
     "name": "stderr",
     "output_type": "stream",
     "text": [
      "\n",
      " 50%|█████     | 1/2 [00:00<00:00,  1.73it/s]\u001b[A\n",
      " 40%|████      | 48/120 [23:21<34:58, 29.14s/it]\n",
      "  0%|          | 0/51 [00:00<?, ?it/s]\u001b[A"
     ]
    },
    {
     "name": "stdout",
     "output_type": "stream",
     "text": [
      "loss: 0.2569080889225006\n",
      "top1acc: 92.40005493164062\n",
      "Completed testing training dataset for epoch 47\n",
      "Starting epoch 48\n"
     ]
    },
    {
     "name": "stderr",
     "output_type": "stream",
     "text": [
      "\n",
      "  2%|▏         | 1/51 [00:01<00:52,  1.06s/it]\u001b[A\n",
      "  4%|▍         | 2/51 [00:01<00:44,  1.11it/s]\u001b[A\n",
      "  6%|▌         | 3/51 [00:02<00:37,  1.27it/s]\u001b[A\n",
      "  8%|▊         | 4/51 [00:02<00:33,  1.40it/s]\u001b[A\n",
      " 10%|▉         | 5/51 [00:03<00:30,  1.52it/s]\u001b[A\n",
      " 12%|█▏        | 6/51 [00:03<00:27,  1.61it/s]\u001b[A\n",
      " 14%|█▎        | 7/51 [00:04<00:26,  1.68it/s]\u001b[A\n",
      " 16%|█▌        | 8/51 [00:04<00:24,  1.74it/s]\u001b[A\n",
      " 18%|█▊        | 9/51 [00:05<00:23,  1.78it/s]\u001b[A\n",
      " 20%|█▉        | 10/51 [00:05<00:22,  1.81it/s]\u001b[A\n",
      " 22%|██▏       | 11/51 [00:06<00:21,  1.83it/s]\u001b[A\n",
      " 24%|██▎       | 12/51 [00:06<00:21,  1.84it/s]\u001b[A\n",
      " 25%|██▌       | 13/51 [00:07<00:20,  1.85it/s]\u001b[A\n",
      " 27%|██▋       | 14/51 [00:07<00:19,  1.86it/s]\u001b[A\n",
      " 29%|██▉       | 15/51 [00:08<00:19,  1.86it/s]\u001b[A\n",
      " 31%|███▏      | 16/51 [00:09<00:18,  1.87it/s]\u001b[A\n",
      " 33%|███▎      | 17/51 [00:09<00:18,  1.87it/s]\u001b[A\n",
      " 35%|███▌      | 18/51 [00:10<00:17,  1.87it/s]\u001b[A\n",
      " 37%|███▋      | 19/51 [00:10<00:17,  1.87it/s]\u001b[A\n",
      " 39%|███▉      | 20/51 [00:11<00:16,  1.88it/s]\u001b[A\n",
      " 41%|████      | 21/51 [00:11<00:15,  1.88it/s]\u001b[A\n",
      " 43%|████▎     | 22/51 [00:12<00:15,  1.88it/s]\u001b[A\n",
      " 45%|████▌     | 23/51 [00:12<00:14,  1.88it/s]\u001b[A\n",
      " 47%|████▋     | 24/51 [00:13<00:14,  1.88it/s]\u001b[A\n",
      " 49%|████▉     | 25/51 [00:13<00:13,  1.88it/s]\u001b[A\n",
      " 51%|█████     | 26/51 [00:14<00:13,  1.88it/s]\u001b[A\n",
      " 53%|█████▎    | 27/51 [00:14<00:12,  1.87it/s]\u001b[A\n",
      " 55%|█████▍    | 28/51 [00:15<00:12,  1.88it/s]\u001b[A\n",
      " 57%|█████▋    | 29/51 [00:15<00:11,  1.88it/s]\u001b[A\n",
      " 59%|█████▉    | 30/51 [00:16<00:11,  1.88it/s]\u001b[A\n",
      " 61%|██████    | 31/51 [00:17<00:10,  1.88it/s]\u001b[A\n",
      " 63%|██████▎   | 32/51 [00:17<00:10,  1.88it/s]\u001b[A\n",
      " 65%|██████▍   | 33/51 [00:18<00:09,  1.88it/s]\u001b[A\n",
      " 67%|██████▋   | 34/51 [00:18<00:09,  1.88it/s]\u001b[A\n",
      " 69%|██████▊   | 35/51 [00:19<00:08,  1.88it/s]\u001b[A\n",
      " 71%|███████   | 36/51 [00:19<00:07,  1.88it/s]\u001b[A\n",
      " 73%|███████▎  | 37/51 [00:20<00:07,  1.88it/s]\u001b[A\n",
      " 75%|███████▍  | 38/51 [00:20<00:06,  1.88it/s]\u001b[A\n",
      " 76%|███████▋  | 39/51 [00:21<00:06,  1.88it/s]\u001b[A\n",
      " 78%|███████▊  | 40/51 [00:21<00:05,  1.88it/s]\u001b[A\n",
      " 80%|████████  | 41/51 [00:22<00:05,  1.88it/s]\u001b[A\n",
      " 82%|████████▏ | 42/51 [00:22<00:04,  1.88it/s]\u001b[A\n",
      " 84%|████████▍ | 43/51 [00:23<00:04,  1.88it/s]\u001b[A\n",
      " 86%|████████▋ | 44/51 [00:23<00:03,  1.88it/s]\u001b[A\n",
      " 88%|████████▊ | 45/51 [00:24<00:03,  1.88it/s]\u001b[A\n",
      " 90%|█████████ | 46/51 [00:25<00:02,  1.88it/s]\u001b[A\n",
      " 92%|█████████▏| 47/51 [00:25<00:02,  1.88it/s]\u001b[A\n",
      " 94%|█████████▍| 48/51 [00:26<00:01,  1.88it/s]\u001b[A\n",
      " 96%|█████████▌| 49/51 [00:26<00:01,  1.88it/s]\u001b[A\n",
      " 98%|█████████▊| 50/51 [00:27<00:00,  1.88it/s]\u001b[A\n",
      "100%|██████████| 51/51 [00:27<00:00,  2.29it/s]\u001b[A\n",
      "  0%|          | 0/2 [00:00<?, ?it/s]\u001b[A"
     ]
    },
    {
     "name": "stdout",
     "output_type": "stream",
     "text": [
      "Completed training for epoch 48, testing validation dataset\n"
     ]
    },
    {
     "name": "stderr",
     "output_type": "stream",
     "text": [
      "\n",
      " 50%|█████     | 1/2 [00:00<00:00,  1.63it/s]\u001b[A\n",
      "100%|██████████| 2/2 [00:00<00:00,  2.10it/s]\u001b[A\n",
      "  0%|          | 0/2 [00:00<?, ?it/s]\u001b[A"
     ]
    },
    {
     "name": "stdout",
     "output_type": "stream",
     "text": [
      "loss: 0.4169016182422638\n",
      "top1acc: 87.39993286132812\n",
      "Completed testing validation dataset for epoch 48, testing training dataset\n"
     ]
    },
    {
     "name": "stderr",
     "output_type": "stream",
     "text": [
      "\n",
      " 50%|█████     | 1/2 [00:00<00:00,  1.67it/s]\u001b[A\n",
      " 41%|████      | 49/120 [23:50<34:28, 29.14s/it]\n",
      "  0%|          | 0/51 [00:00<?, ?it/s]\u001b[A"
     ]
    },
    {
     "name": "stdout",
     "output_type": "stream",
     "text": [
      "loss: 0.24977931380271912\n",
      "top1acc: 91.0\n",
      "Completed testing training dataset for epoch 48\n",
      "Starting epoch 49\n"
     ]
    },
    {
     "name": "stderr",
     "output_type": "stream",
     "text": [
      "\n",
      "  2%|▏         | 1/51 [00:01<00:52,  1.04s/it]\u001b[A\n",
      "  4%|▍         | 2/51 [00:01<00:43,  1.13it/s]\u001b[A\n",
      "  6%|▌         | 3/51 [00:02<00:37,  1.28it/s]\u001b[A\n",
      "  8%|▊         | 4/51 [00:02<00:33,  1.41it/s]\u001b[A\n",
      " 10%|▉         | 5/51 [00:03<00:30,  1.52it/s]\u001b[A\n",
      " 12%|█▏        | 6/51 [00:03<00:27,  1.62it/s]\u001b[A\n",
      " 14%|█▎        | 7/51 [00:04<00:26,  1.68it/s]\u001b[A\n",
      " 16%|█▌        | 8/51 [00:04<00:24,  1.73it/s]\u001b[A\n",
      " 18%|█▊        | 9/51 [00:05<00:23,  1.77it/s]\u001b[A\n",
      " 20%|█▉        | 10/51 [00:05<00:22,  1.80it/s]\u001b[A\n",
      " 22%|██▏       | 11/51 [00:06<00:21,  1.82it/s]\u001b[A\n",
      " 24%|██▎       | 12/51 [00:06<00:21,  1.84it/s]\u001b[A\n",
      " 25%|██▌       | 13/51 [00:07<00:20,  1.85it/s]\u001b[A\n",
      " 27%|██▋       | 14/51 [00:07<00:19,  1.86it/s]\u001b[A\n",
      " 29%|██▉       | 15/51 [00:08<00:19,  1.86it/s]\u001b[A\n",
      " 31%|███▏      | 16/51 [00:09<00:18,  1.87it/s]\u001b[A\n",
      " 33%|███▎      | 17/51 [00:09<00:18,  1.87it/s]\u001b[A\n",
      " 35%|███▌      | 18/51 [00:10<00:17,  1.87it/s]\u001b[A\n",
      " 37%|███▋      | 19/51 [00:10<00:17,  1.87it/s]\u001b[A\n",
      " 39%|███▉      | 20/51 [00:11<00:16,  1.87it/s]\u001b[A\n",
      " 41%|████      | 21/51 [00:11<00:16,  1.87it/s]\u001b[A\n",
      " 43%|████▎     | 22/51 [00:12<00:15,  1.87it/s]\u001b[A\n",
      " 45%|████▌     | 23/51 [00:12<00:14,  1.87it/s]\u001b[A\n",
      " 47%|████▋     | 24/51 [00:13<00:14,  1.87it/s]\u001b[A\n",
      " 49%|████▉     | 25/51 [00:13<00:13,  1.87it/s]\u001b[A\n",
      " 51%|█████     | 26/51 [00:14<00:13,  1.87it/s]\u001b[A\n",
      " 53%|█████▎    | 27/51 [00:14<00:12,  1.87it/s]\u001b[A\n",
      " 55%|█████▍    | 28/51 [00:15<00:12,  1.88it/s]\u001b[A\n",
      " 57%|█████▋    | 29/51 [00:15<00:11,  1.87it/s]\u001b[A\n",
      " 59%|█████▉    | 30/51 [00:16<00:11,  1.87it/s]\u001b[A\n",
      " 61%|██████    | 31/51 [00:17<00:10,  1.87it/s]\u001b[A\n",
      " 63%|██████▎   | 32/51 [00:17<00:10,  1.87it/s]\u001b[A\n",
      " 65%|██████▍   | 33/51 [00:18<00:09,  1.87it/s]\u001b[A\n",
      " 67%|██████▋   | 34/51 [00:18<00:09,  1.87it/s]\u001b[A\n",
      " 69%|██████▊   | 35/51 [00:19<00:08,  1.87it/s]\u001b[A\n",
      " 71%|███████   | 36/51 [00:19<00:08,  1.87it/s]\u001b[A\n",
      " 73%|███████▎  | 37/51 [00:20<00:07,  1.87it/s]\u001b[A\n",
      " 75%|███████▍  | 38/51 [00:20<00:06,  1.87it/s]\u001b[A\n",
      " 76%|███████▋  | 39/51 [00:21<00:06,  1.87it/s]\u001b[A\n",
      " 78%|███████▊  | 40/51 [00:21<00:05,  1.87it/s]\u001b[A\n",
      " 80%|████████  | 41/51 [00:22<00:05,  1.87it/s]\u001b[A\n",
      " 82%|████████▏ | 42/51 [00:22<00:04,  1.87it/s]\u001b[A\n",
      " 84%|████████▍ | 43/51 [00:23<00:04,  1.87it/s]\u001b[A\n",
      " 86%|████████▋ | 44/51 [00:23<00:03,  1.87it/s]\u001b[A\n",
      " 88%|████████▊ | 45/51 [00:24<00:03,  1.88it/s]\u001b[A\n",
      " 90%|█████████ | 46/51 [00:25<00:02,  1.88it/s]\u001b[A\n",
      " 92%|█████████▏| 47/51 [00:25<00:02,  1.88it/s]\u001b[A\n",
      " 94%|█████████▍| 48/51 [00:26<00:01,  1.88it/s]\u001b[A\n",
      " 96%|█████████▌| 49/51 [00:26<00:01,  1.88it/s]\u001b[A\n",
      " 98%|█████████▊| 50/51 [00:27<00:00,  1.88it/s]\u001b[A\n",
      "100%|██████████| 51/51 [00:27<00:00,  2.28it/s]\u001b[A\n",
      "  0%|          | 0/2 [00:00<?, ?it/s]\u001b[A"
     ]
    },
    {
     "name": "stdout",
     "output_type": "stream",
     "text": [
      "Completed training for epoch 49, testing validation dataset\n"
     ]
    },
    {
     "name": "stderr",
     "output_type": "stream",
     "text": [
      "\n",
      " 50%|█████     | 1/2 [00:00<00:00,  1.67it/s]\u001b[A\n",
      "100%|██████████| 2/2 [00:00<00:00,  2.15it/s]\u001b[A\n",
      "  0%|          | 0/2 [00:00<?, ?it/s]\u001b[A"
     ]
    },
    {
     "name": "stdout",
     "output_type": "stream",
     "text": [
      "loss: 0.4045274257659912\n",
      "top1acc: 89.19996643066406\n",
      "Completed testing validation dataset for epoch 49, testing training dataset\n"
     ]
    },
    {
     "name": "stderr",
     "output_type": "stream",
     "text": [
      "\n",
      " 50%|█████     | 1/2 [00:00<00:00,  1.73it/s]\u001b[A\n",
      " 42%|████▏     | 50/120 [24:19<33:59, 29.14s/it]\n",
      "  0%|          | 0/51 [00:00<?, ?it/s]\u001b[A"
     ]
    },
    {
     "name": "stdout",
     "output_type": "stream",
     "text": [
      "loss: 0.22321996092796326\n",
      "top1acc: 93.99999237060547\n",
      "Completed testing training dataset for epoch 49\n",
      "Starting epoch 50\n"
     ]
    },
    {
     "name": "stderr",
     "output_type": "stream",
     "text": [
      "\n",
      "  2%|▏         | 1/51 [00:01<00:50,  1.02s/it]\u001b[A\n",
      "  4%|▍         | 2/51 [00:01<00:42,  1.14it/s]\u001b[A\n",
      "  6%|▌         | 3/51 [00:02<00:37,  1.30it/s]\u001b[A\n",
      "  8%|▊         | 4/51 [00:02<00:32,  1.43it/s]\u001b[A\n",
      " 10%|▉         | 5/51 [00:03<00:29,  1.54it/s]\u001b[A\n",
      " 12%|█▏        | 6/51 [00:03<00:27,  1.63it/s]\u001b[A\n",
      " 14%|█▎        | 7/51 [00:04<00:25,  1.69it/s]\u001b[A\n",
      " 16%|█▌        | 8/51 [00:04<00:24,  1.75it/s]\u001b[A\n",
      " 18%|█▊        | 9/51 [00:05<00:23,  1.78it/s]\u001b[A\n",
      " 20%|█▉        | 10/51 [00:05<00:22,  1.81it/s]\u001b[A\n",
      " 22%|██▏       | 11/51 [00:06<00:21,  1.83it/s]\u001b[A\n",
      " 24%|██▎       | 12/51 [00:06<00:21,  1.84it/s]\u001b[A\n",
      " 25%|██▌       | 13/51 [00:07<00:20,  1.85it/s]\u001b[A\n",
      " 27%|██▋       | 14/51 [00:07<00:19,  1.86it/s]\u001b[A\n",
      " 29%|██▉       | 15/51 [00:08<00:19,  1.86it/s]\u001b[A\n",
      " 31%|███▏      | 16/51 [00:09<00:18,  1.87it/s]\u001b[A\n",
      " 33%|███▎      | 17/51 [00:09<00:18,  1.87it/s]\u001b[A\n",
      " 35%|███▌      | 18/51 [00:10<00:17,  1.87it/s]\u001b[A\n",
      " 37%|███▋      | 19/51 [00:10<00:17,  1.87it/s]\u001b[A\n",
      " 39%|███▉      | 20/51 [00:11<00:16,  1.88it/s]\u001b[A\n",
      " 41%|████      | 21/51 [00:11<00:16,  1.87it/s]\u001b[A\n",
      " 43%|████▎     | 22/51 [00:12<00:15,  1.87it/s]\u001b[A\n",
      " 45%|████▌     | 23/51 [00:12<00:14,  1.87it/s]\u001b[A\n",
      " 47%|████▋     | 24/51 [00:13<00:14,  1.88it/s]\u001b[A\n",
      " 49%|████▉     | 25/51 [00:13<00:13,  1.88it/s]\u001b[A\n",
      " 51%|█████     | 26/51 [00:14<00:13,  1.88it/s]\u001b[A\n",
      " 53%|█████▎    | 27/51 [00:14<00:12,  1.88it/s]\u001b[A\n",
      " 55%|█████▍    | 28/51 [00:15<00:12,  1.88it/s]\u001b[A\n",
      " 57%|█████▋    | 29/51 [00:15<00:11,  1.88it/s]\u001b[A\n",
      " 59%|█████▉    | 30/51 [00:16<00:11,  1.87it/s]\u001b[A\n",
      " 61%|██████    | 31/51 [00:17<00:10,  1.87it/s]\u001b[A\n",
      " 63%|██████▎   | 32/51 [00:17<00:10,  1.88it/s]\u001b[A\n",
      " 65%|██████▍   | 33/51 [00:18<00:09,  1.87it/s]\u001b[A\n",
      " 67%|██████▋   | 34/51 [00:18<00:09,  1.88it/s]\u001b[A\n",
      " 69%|██████▊   | 35/51 [00:19<00:08,  1.88it/s]\u001b[A\n",
      " 71%|███████   | 36/51 [00:19<00:07,  1.88it/s]\u001b[A\n",
      " 73%|███████▎  | 37/51 [00:20<00:07,  1.88it/s]\u001b[A\n",
      " 75%|███████▍  | 38/51 [00:20<00:06,  1.88it/s]\u001b[A\n",
      " 76%|███████▋  | 39/51 [00:21<00:06,  1.88it/s]\u001b[A\n",
      " 78%|███████▊  | 40/51 [00:21<00:05,  1.88it/s]\u001b[A\n",
      " 80%|████████  | 41/51 [00:22<00:05,  1.87it/s]\u001b[A\n",
      " 82%|████████▏ | 42/51 [00:22<00:04,  1.87it/s]\u001b[A\n",
      " 84%|████████▍ | 43/51 [00:23<00:04,  1.87it/s]\u001b[A\n",
      " 86%|████████▋ | 44/51 [00:23<00:03,  1.88it/s]\u001b[A\n",
      " 88%|████████▊ | 45/51 [00:24<00:03,  1.87it/s]\u001b[A\n",
      " 90%|█████████ | 46/51 [00:25<00:02,  1.87it/s]\u001b[A\n",
      " 92%|█████████▏| 47/51 [00:25<00:02,  1.88it/s]\u001b[A\n",
      " 94%|█████████▍| 48/51 [00:26<00:01,  1.88it/s]\u001b[A\n",
      " 96%|█████████▌| 49/51 [00:26<00:01,  1.88it/s]\u001b[A\n",
      " 98%|█████████▊| 50/51 [00:27<00:00,  1.88it/s]\u001b[A\n",
      "100%|██████████| 51/51 [00:27<00:00,  2.29it/s]\u001b[A\n",
      "  0%|          | 0/2 [00:00<?, ?it/s]\u001b[A"
     ]
    },
    {
     "name": "stdout",
     "output_type": "stream",
     "text": [
      "Completed training for epoch 50, testing validation dataset\n"
     ]
    },
    {
     "name": "stderr",
     "output_type": "stream",
     "text": [
      "\n",
      " 50%|█████     | 1/2 [00:00<00:00,  1.71it/s]\u001b[A\n",
      "100%|██████████| 2/2 [00:00<00:00,  2.18it/s]\u001b[A\n",
      "  0%|          | 0/2 [00:00<?, ?it/s]\u001b[A"
     ]
    },
    {
     "name": "stdout",
     "output_type": "stream",
     "text": [
      "loss: 0.39499419927597046\n",
      "top1acc: 88.59992980957031\n",
      "Completed testing validation dataset for epoch 50, testing training dataset\n"
     ]
    },
    {
     "name": "stderr",
     "output_type": "stream",
     "text": [
      "\n",
      " 50%|█████     | 1/2 [00:00<00:00,  1.63it/s]\u001b[A\n",
      " 42%|████▎     | 51/120 [24:48<33:29, 29.13s/it]\n",
      "  0%|          | 0/51 [00:00<?, ?it/s]\u001b[A"
     ]
    },
    {
     "name": "stdout",
     "output_type": "stream",
     "text": [
      "loss: 0.22959136962890625\n",
      "top1acc: 92.40003967285156\n",
      "Completed testing training dataset for epoch 50\n",
      "Starting epoch 51\n"
     ]
    },
    {
     "name": "stderr",
     "output_type": "stream",
     "text": [
      "\n",
      "  2%|▏         | 1/51 [00:01<00:52,  1.05s/it]\u001b[A\n",
      "  4%|▍         | 2/51 [00:01<00:43,  1.12it/s]\u001b[A\n",
      "  6%|▌         | 3/51 [00:02<00:37,  1.27it/s]\u001b[A\n",
      "  8%|▊         | 4/51 [00:02<00:33,  1.41it/s]\u001b[A\n",
      " 10%|▉         | 5/51 [00:03<00:30,  1.52it/s]\u001b[A\n",
      " 12%|█▏        | 6/51 [00:03<00:28,  1.60it/s]\u001b[A\n",
      " 14%|█▎        | 7/51 [00:04<00:26,  1.68it/s]\u001b[A\n",
      " 16%|█▌        | 8/51 [00:04<00:24,  1.73it/s]\u001b[A\n",
      " 18%|█▊        | 9/51 [00:05<00:23,  1.78it/s]\u001b[A\n",
      " 20%|█▉        | 10/51 [00:05<00:22,  1.81it/s]\u001b[A\n",
      " 22%|██▏       | 11/51 [00:06<00:21,  1.83it/s]\u001b[A\n",
      " 24%|██▎       | 12/51 [00:06<00:21,  1.83it/s]\u001b[A\n",
      " 25%|██▌       | 13/51 [00:07<00:20,  1.85it/s]\u001b[A\n",
      " 27%|██▋       | 14/51 [00:07<00:19,  1.86it/s]\u001b[A\n",
      " 29%|██▉       | 15/51 [00:08<00:19,  1.86it/s]\u001b[A\n",
      " 31%|███▏      | 16/51 [00:09<00:18,  1.86it/s]\u001b[A\n",
      " 33%|███▎      | 17/51 [00:09<00:18,  1.87it/s]\u001b[A\n",
      " 35%|███▌      | 18/51 [00:10<00:17,  1.87it/s]\u001b[A\n",
      " 37%|███▋      | 19/51 [00:10<00:17,  1.86it/s]\u001b[A\n",
      " 39%|███▉      | 20/51 [00:11<00:16,  1.87it/s]\u001b[A\n",
      " 41%|████      | 21/51 [00:11<00:16,  1.87it/s]\u001b[A\n",
      " 43%|████▎     | 22/51 [00:12<00:15,  1.87it/s]\u001b[A\n",
      " 45%|████▌     | 23/51 [00:12<00:15,  1.86it/s]\u001b[A\n",
      " 47%|████▋     | 24/51 [00:13<00:14,  1.87it/s]\u001b[A\n",
      " 49%|████▉     | 25/51 [00:13<00:13,  1.87it/s]\u001b[A\n",
      " 51%|█████     | 26/51 [00:14<00:13,  1.87it/s]\u001b[A\n",
      " 53%|█████▎    | 27/51 [00:14<00:12,  1.87it/s]\u001b[A\n",
      " 55%|█████▍    | 28/51 [00:15<00:12,  1.87it/s]\u001b[A\n",
      " 57%|█████▋    | 29/51 [00:16<00:11,  1.88it/s]\u001b[A\n",
      " 59%|█████▉    | 30/51 [00:16<00:11,  1.87it/s]\u001b[A\n",
      " 61%|██████    | 31/51 [00:17<00:10,  1.87it/s]\u001b[A\n",
      " 63%|██████▎   | 32/51 [00:17<00:10,  1.88it/s]\u001b[A\n",
      " 65%|██████▍   | 33/51 [00:18<00:09,  1.88it/s]\u001b[A\n",
      " 67%|██████▋   | 34/51 [00:18<00:09,  1.88it/s]\u001b[A\n",
      " 69%|██████▊   | 35/51 [00:19<00:08,  1.88it/s]\u001b[A\n",
      " 71%|███████   | 36/51 [00:19<00:07,  1.88it/s]\u001b[A\n",
      " 73%|███████▎  | 37/51 [00:20<00:07,  1.88it/s]\u001b[A\n",
      " 75%|███████▍  | 38/51 [00:20<00:06,  1.88it/s]\u001b[A\n",
      " 76%|███████▋  | 39/51 [00:21<00:06,  1.87it/s]\u001b[A\n",
      " 78%|███████▊  | 40/51 [00:21<00:05,  1.87it/s]\u001b[A\n",
      " 80%|████████  | 41/51 [00:22<00:05,  1.87it/s]\u001b[A\n",
      " 82%|████████▏ | 42/51 [00:22<00:04,  1.87it/s]\u001b[A\n",
      " 84%|████████▍ | 43/51 [00:23<00:04,  1.86it/s]\u001b[A\n",
      " 86%|████████▋ | 44/51 [00:24<00:03,  1.87it/s]\u001b[A\n",
      " 88%|████████▊ | 45/51 [00:24<00:03,  1.87it/s]\u001b[A\n",
      " 90%|█████████ | 46/51 [00:25<00:02,  1.87it/s]\u001b[A\n",
      " 92%|█████████▏| 47/51 [00:25<00:02,  1.87it/s]\u001b[A\n",
      " 94%|█████████▍| 48/51 [00:26<00:01,  1.88it/s]\u001b[A\n",
      " 96%|█████████▌| 49/51 [00:26<00:01,  1.88it/s]\u001b[A\n",
      " 98%|█████████▊| 50/51 [00:27<00:00,  1.88it/s]\u001b[A\n",
      "100%|██████████| 51/51 [00:27<00:00,  2.29it/s]\u001b[A\n",
      "  0%|          | 0/2 [00:00<?, ?it/s]\u001b[A"
     ]
    },
    {
     "name": "stdout",
     "output_type": "stream",
     "text": [
      "Completed training for epoch 51, testing validation dataset\n"
     ]
    },
    {
     "name": "stderr",
     "output_type": "stream",
     "text": [
      "\n",
      " 50%|█████     | 1/2 [00:00<00:00,  1.65it/s]\u001b[A\n",
      "100%|██████████| 2/2 [00:00<00:00,  2.12it/s]\u001b[A\n",
      "  0%|          | 0/2 [00:00<?, ?it/s]\u001b[A"
     ]
    },
    {
     "name": "stdout",
     "output_type": "stream",
     "text": [
      "loss: 0.4138984978199005\n",
      "top1acc: 87.20005798339844\n",
      "Completed testing validation dataset for epoch 51, testing training dataset\n"
     ]
    },
    {
     "name": "stderr",
     "output_type": "stream",
     "text": [
      "\n",
      " 50%|█████     | 1/2 [00:00<00:00,  1.56it/s]\u001b[A\n",
      " 43%|████▎     | 52/120 [25:17<33:02, 29.15s/it]\n",
      "  0%|          | 0/51 [00:00<?, ?it/s]\u001b[A"
     ]
    },
    {
     "name": "stdout",
     "output_type": "stream",
     "text": [
      "loss: 0.23643410205841064\n",
      "top1acc: 92.60008239746094\n",
      "Completed testing training dataset for epoch 51\n",
      "Starting epoch 52\n"
     ]
    },
    {
     "name": "stderr",
     "output_type": "stream",
     "text": [
      "\n",
      "  2%|▏         | 1/51 [00:01<00:52,  1.04s/it]\u001b[A\n",
      "  4%|▍         | 2/51 [00:01<00:43,  1.12it/s]\u001b[A\n",
      "  6%|▌         | 3/51 [00:02<00:37,  1.28it/s]\u001b[A\n",
      "  8%|▊         | 4/51 [00:02<00:33,  1.41it/s]\u001b[A\n",
      " 10%|▉         | 5/51 [00:03<00:30,  1.53it/s]\u001b[A\n",
      " 12%|█▏        | 6/51 [00:03<00:27,  1.62it/s]\u001b[A\n",
      " 14%|█▎        | 7/51 [00:04<00:26,  1.69it/s]\u001b[A\n",
      " 16%|█▌        | 8/51 [00:04<00:24,  1.74it/s]\u001b[A\n",
      " 18%|█▊        | 9/51 [00:05<00:23,  1.78it/s]\u001b[A\n",
      " 20%|█▉        | 10/51 [00:05<00:22,  1.81it/s]\u001b[A\n",
      " 22%|██▏       | 11/51 [00:06<00:21,  1.83it/s]\u001b[A\n",
      " 24%|██▎       | 12/51 [00:06<00:21,  1.84it/s]\u001b[A\n",
      " 25%|██▌       | 13/51 [00:07<00:20,  1.85it/s]\u001b[A\n",
      " 27%|██▋       | 14/51 [00:07<00:19,  1.86it/s]\u001b[A\n",
      " 29%|██▉       | 15/51 [00:08<00:19,  1.87it/s]\u001b[A\n",
      " 31%|███▏      | 16/51 [00:09<00:18,  1.87it/s]\u001b[A\n",
      " 33%|███▎      | 17/51 [00:09<00:18,  1.87it/s]\u001b[A\n",
      " 35%|███▌      | 18/51 [00:10<00:17,  1.87it/s]\u001b[A\n",
      " 37%|███▋      | 19/51 [00:10<00:17,  1.87it/s]\u001b[A\n",
      " 39%|███▉      | 20/51 [00:11<00:16,  1.88it/s]\u001b[A\n",
      " 41%|████      | 21/51 [00:11<00:15,  1.88it/s]\u001b[A\n",
      " 43%|████▎     | 22/51 [00:12<00:15,  1.87it/s]\u001b[A\n",
      " 45%|████▌     | 23/51 [00:12<00:14,  1.88it/s]\u001b[A\n",
      " 47%|████▋     | 24/51 [00:13<00:14,  1.88it/s]\u001b[A\n",
      " 49%|████▉     | 25/51 [00:13<00:13,  1.88it/s]\u001b[A\n",
      " 51%|█████     | 26/51 [00:14<00:13,  1.88it/s]\u001b[A\n",
      " 53%|█████▎    | 27/51 [00:14<00:12,  1.88it/s]\u001b[A\n",
      " 55%|█████▍    | 28/51 [00:15<00:12,  1.88it/s]\u001b[A\n",
      " 57%|█████▋    | 29/51 [00:15<00:11,  1.88it/s]\u001b[A\n",
      " 59%|█████▉    | 30/51 [00:16<00:11,  1.88it/s]\u001b[A\n",
      " 61%|██████    | 31/51 [00:17<00:10,  1.88it/s]\u001b[A\n",
      " 63%|██████▎   | 32/51 [00:17<00:10,  1.87it/s]\u001b[A\n",
      " 65%|██████▍   | 33/51 [00:18<00:09,  1.87it/s]\u001b[A\n",
      " 67%|██████▋   | 34/51 [00:18<00:09,  1.87it/s]\u001b[A\n",
      " 69%|██████▊   | 35/51 [00:19<00:08,  1.86it/s]\u001b[A\n",
      " 71%|███████   | 36/51 [00:19<00:08,  1.87it/s]\u001b[A\n",
      " 73%|███████▎  | 37/51 [00:20<00:07,  1.87it/s]\u001b[A\n",
      " 75%|███████▍  | 38/51 [00:20<00:06,  1.87it/s]\u001b[A\n",
      " 76%|███████▋  | 39/51 [00:21<00:06,  1.87it/s]\u001b[A\n",
      " 78%|███████▊  | 40/51 [00:21<00:05,  1.87it/s]\u001b[A\n",
      " 80%|████████  | 41/51 [00:22<00:05,  1.87it/s]\u001b[A\n",
      " 82%|████████▏ | 42/51 [00:22<00:04,  1.87it/s]\u001b[A\n",
      " 84%|████████▍ | 43/51 [00:23<00:04,  1.87it/s]\u001b[A\n",
      " 86%|████████▋ | 44/51 [00:23<00:03,  1.87it/s]\u001b[A\n",
      " 88%|████████▊ | 45/51 [00:24<00:03,  1.87it/s]\u001b[A\n",
      " 90%|█████████ | 46/51 [00:25<00:02,  1.87it/s]\u001b[A\n",
      " 92%|█████████▏| 47/51 [00:25<00:02,  1.88it/s]\u001b[A\n",
      " 94%|█████████▍| 48/51 [00:26<00:01,  1.88it/s]\u001b[A\n",
      " 96%|█████████▌| 49/51 [00:26<00:01,  1.88it/s]\u001b[A\n",
      " 98%|█████████▊| 50/51 [00:27<00:00,  1.88it/s]\u001b[A\n",
      "100%|██████████| 51/51 [00:27<00:00,  2.29it/s]\u001b[A\n",
      "  0%|          | 0/2 [00:00<?, ?it/s]\u001b[A"
     ]
    },
    {
     "name": "stdout",
     "output_type": "stream",
     "text": [
      "Completed training for epoch 52, testing validation dataset\n"
     ]
    },
    {
     "name": "stderr",
     "output_type": "stream",
     "text": [
      "\n",
      " 50%|█████     | 1/2 [00:00<00:00,  1.67it/s]\u001b[A\n",
      "100%|██████████| 2/2 [00:00<00:00,  2.15it/s]\u001b[A\n",
      "  0%|          | 0/2 [00:00<?, ?it/s]\u001b[A"
     ]
    },
    {
     "name": "stdout",
     "output_type": "stream",
     "text": [
      "loss: 0.38472604751586914\n",
      "top1acc: 88.59994506835938\n",
      "Completed testing validation dataset for epoch 52, testing training dataset\n"
     ]
    },
    {
     "name": "stderr",
     "output_type": "stream",
     "text": [
      "\n",
      " 50%|█████     | 1/2 [00:00<00:00,  1.64it/s]\u001b[A\n",
      " 44%|████▍     | 53/120 [25:46<32:32, 29.15s/it]\n",
      "  0%|          | 0/51 [00:00<?, ?it/s]\u001b[A"
     ]
    },
    {
     "name": "stdout",
     "output_type": "stream",
     "text": [
      "loss: 0.23469194769859314\n",
      "top1acc: 92.79994201660156\n",
      "Completed testing training dataset for epoch 52\n",
      "Starting epoch 53\n"
     ]
    },
    {
     "name": "stderr",
     "output_type": "stream",
     "text": [
      "\n",
      "  2%|▏         | 1/51 [00:01<00:51,  1.02s/it]\u001b[A\n",
      "  4%|▍         | 2/51 [00:01<00:42,  1.14it/s]\u001b[A\n",
      "  6%|▌         | 3/51 [00:02<00:37,  1.29it/s]\u001b[A\n",
      "  8%|▊         | 4/51 [00:02<00:32,  1.43it/s]\u001b[A\n",
      " 10%|▉         | 5/51 [00:03<00:29,  1.54it/s]\u001b[A\n",
      " 12%|█▏        | 6/51 [00:03<00:27,  1.63it/s]\u001b[A\n",
      " 14%|█▎        | 7/51 [00:04<00:25,  1.69it/s]\u001b[A\n",
      " 16%|█▌        | 8/51 [00:04<00:24,  1.75it/s]\u001b[A\n",
      " 18%|█▊        | 9/51 [00:05<00:23,  1.78it/s]\u001b[A\n",
      " 20%|█▉        | 10/51 [00:05<00:22,  1.81it/s]\u001b[A\n",
      " 22%|██▏       | 11/51 [00:06<00:21,  1.82it/s]\u001b[A\n",
      " 24%|██▎       | 12/51 [00:06<00:21,  1.84it/s]\u001b[A\n",
      " 25%|██▌       | 13/51 [00:07<00:20,  1.85it/s]\u001b[A\n",
      " 27%|██▋       | 14/51 [00:07<00:19,  1.86it/s]\u001b[A\n",
      " 29%|██▉       | 15/51 [00:08<00:19,  1.86it/s]\u001b[A\n",
      " 31%|███▏      | 16/51 [00:09<00:18,  1.87it/s]\u001b[A\n",
      " 33%|███▎      | 17/51 [00:09<00:18,  1.87it/s]\u001b[A\n",
      " 35%|███▌      | 18/51 [00:10<00:17,  1.87it/s]\u001b[A\n",
      " 37%|███▋      | 19/51 [00:10<00:17,  1.87it/s]\u001b[A\n",
      " 39%|███▉      | 20/51 [00:11<00:16,  1.88it/s]\u001b[A\n",
      " 41%|████      | 21/51 [00:11<00:15,  1.88it/s]\u001b[A\n",
      " 43%|████▎     | 22/51 [00:12<00:15,  1.88it/s]\u001b[A\n",
      " 45%|████▌     | 23/51 [00:12<00:14,  1.88it/s]\u001b[A\n",
      " 47%|████▋     | 24/51 [00:13<00:14,  1.88it/s]\u001b[A\n",
      " 49%|████▉     | 25/51 [00:13<00:13,  1.88it/s]\u001b[A\n",
      " 51%|█████     | 26/51 [00:14<00:13,  1.88it/s]\u001b[A\n",
      " 53%|█████▎    | 27/51 [00:14<00:12,  1.88it/s]\u001b[A\n",
      " 55%|█████▍    | 28/51 [00:15<00:12,  1.88it/s]\u001b[A\n",
      " 57%|█████▋    | 29/51 [00:15<00:11,  1.88it/s]\u001b[A\n",
      " 59%|█████▉    | 30/51 [00:16<00:11,  1.88it/s]\u001b[A\n",
      " 61%|██████    | 31/51 [00:17<00:10,  1.88it/s]\u001b[A\n",
      " 63%|██████▎   | 32/51 [00:17<00:10,  1.88it/s]\u001b[A\n",
      " 65%|██████▍   | 33/51 [00:18<00:09,  1.88it/s]\u001b[A\n",
      " 67%|██████▋   | 34/51 [00:18<00:09,  1.88it/s]\u001b[A\n",
      " 69%|██████▊   | 35/51 [00:19<00:08,  1.88it/s]\u001b[A\n",
      " 71%|███████   | 36/51 [00:19<00:07,  1.88it/s]\u001b[A\n",
      " 73%|███████▎  | 37/51 [00:20<00:07,  1.88it/s]\u001b[A\n",
      " 75%|███████▍  | 38/51 [00:20<00:06,  1.88it/s]\u001b[A\n",
      " 76%|███████▋  | 39/51 [00:21<00:06,  1.88it/s]\u001b[A\n",
      " 78%|███████▊  | 40/51 [00:21<00:05,  1.88it/s]\u001b[A\n",
      " 80%|████████  | 41/51 [00:22<00:05,  1.88it/s]\u001b[A\n",
      " 82%|████████▏ | 42/51 [00:22<00:04,  1.88it/s]\u001b[A\n",
      " 84%|████████▍ | 43/51 [00:23<00:04,  1.88it/s]\u001b[A\n",
      " 86%|████████▋ | 44/51 [00:23<00:03,  1.88it/s]\u001b[A\n",
      " 88%|████████▊ | 45/51 [00:24<00:03,  1.88it/s]\u001b[A\n",
      " 90%|█████████ | 46/51 [00:24<00:02,  1.88it/s]\u001b[A\n",
      " 92%|█████████▏| 47/51 [00:25<00:02,  1.88it/s]\u001b[A\n",
      " 94%|█████████▍| 48/51 [00:26<00:01,  1.88it/s]\u001b[A\n",
      " 96%|█████████▌| 49/51 [00:26<00:01,  1.88it/s]\u001b[A\n",
      " 98%|█████████▊| 50/51 [00:27<00:00,  1.88it/s]\u001b[A\n",
      "100%|██████████| 51/51 [00:27<00:00,  2.29it/s]\u001b[A\n",
      "  0%|          | 0/2 [00:00<?, ?it/s]\u001b[A"
     ]
    },
    {
     "name": "stdout",
     "output_type": "stream",
     "text": [
      "Completed training for epoch 53, testing validation dataset\n"
     ]
    },
    {
     "name": "stderr",
     "output_type": "stream",
     "text": [
      "\n",
      " 50%|█████     | 1/2 [00:00<00:00,  1.55it/s]\u001b[A\n",
      "100%|██████████| 2/2 [00:00<00:00,  2.01it/s]\u001b[A\n",
      "  0%|          | 0/2 [00:00<?, ?it/s]\u001b[A"
     ]
    },
    {
     "name": "stdout",
     "output_type": "stream",
     "text": [
      "loss: 0.3848687708377838\n",
      "top1acc: 89.1999740600586\n",
      "Completed testing validation dataset for epoch 53, testing training dataset\n"
     ]
    },
    {
     "name": "stderr",
     "output_type": "stream",
     "text": [
      "\n",
      " 50%|█████     | 1/2 [00:00<00:00,  1.67it/s]\u001b[A\n",
      " 45%|████▌     | 54/120 [26:16<32:03, 29.14s/it]\n",
      "  0%|          | 0/51 [00:00<?, ?it/s]\u001b[A"
     ]
    },
    {
     "name": "stdout",
     "output_type": "stream",
     "text": [
      "loss: 0.22524890303611755\n",
      "top1acc: 92.20005798339844\n",
      "Completed testing training dataset for epoch 53\n",
      "Starting epoch 54\n"
     ]
    },
    {
     "name": "stderr",
     "output_type": "stream",
     "text": [
      "\n",
      "  2%|▏         | 1/51 [00:01<00:52,  1.06s/it]\u001b[A\n",
      "  4%|▍         | 2/51 [00:01<00:44,  1.11it/s]\u001b[A\n",
      "  6%|▌         | 3/51 [00:02<00:37,  1.27it/s]\u001b[A\n",
      "  8%|▊         | 4/51 [00:02<00:33,  1.40it/s]\u001b[A\n",
      " 10%|▉         | 5/51 [00:03<00:30,  1.52it/s]\u001b[A\n",
      " 12%|█▏        | 6/51 [00:03<00:27,  1.61it/s]\u001b[A\n",
      " 14%|█▎        | 7/51 [00:04<00:26,  1.68it/s]\u001b[A\n",
      " 16%|█▌        | 8/51 [00:04<00:24,  1.73it/s]\u001b[A\n",
      " 18%|█▊        | 9/51 [00:05<00:23,  1.77it/s]\u001b[A\n",
      " 20%|█▉        | 10/51 [00:05<00:22,  1.80it/s]\u001b[A\n",
      " 22%|██▏       | 11/51 [00:06<00:21,  1.82it/s]\u001b[A\n",
      " 24%|██▎       | 12/51 [00:06<00:21,  1.84it/s]\u001b[A\n",
      " 25%|██▌       | 13/51 [00:07<00:20,  1.85it/s]\u001b[A\n",
      " 27%|██▋       | 14/51 [00:07<00:19,  1.86it/s]\u001b[A\n",
      " 29%|██▉       | 15/51 [00:08<00:19,  1.86it/s]\u001b[A\n",
      " 31%|███▏      | 16/51 [00:09<00:18,  1.87it/s]\u001b[A\n",
      " 33%|███▎      | 17/51 [00:09<00:18,  1.87it/s]\u001b[A\n",
      " 35%|███▌      | 18/51 [00:10<00:17,  1.87it/s]\u001b[A\n",
      " 37%|███▋      | 19/51 [00:10<00:17,  1.87it/s]\u001b[A\n",
      " 39%|███▉      | 20/51 [00:11<00:16,  1.87it/s]\u001b[A\n",
      " 41%|████      | 21/51 [00:11<00:16,  1.87it/s]\u001b[A\n",
      " 43%|████▎     | 22/51 [00:12<00:15,  1.86it/s]\u001b[A\n",
      " 45%|████▌     | 23/51 [00:12<00:15,  1.86it/s]\u001b[A\n",
      " 47%|████▋     | 24/51 [00:13<00:14,  1.87it/s]\u001b[A\n",
      " 49%|████▉     | 25/51 [00:13<00:13,  1.87it/s]\u001b[A\n",
      " 51%|█████     | 26/51 [00:14<00:13,  1.87it/s]\u001b[A\n",
      " 53%|█████▎    | 27/51 [00:14<00:12,  1.87it/s]\u001b[A\n",
      " 55%|█████▍    | 28/51 [00:15<00:12,  1.87it/s]\u001b[A\n",
      " 57%|█████▋    | 29/51 [00:16<00:11,  1.87it/s]\u001b[A\n",
      " 59%|█████▉    | 30/51 [00:16<00:11,  1.87it/s]\u001b[A\n",
      " 61%|██████    | 31/51 [00:17<00:10,  1.87it/s]\u001b[A\n",
      " 63%|██████▎   | 32/51 [00:17<00:10,  1.87it/s]\u001b[A\n",
      " 65%|██████▍   | 33/51 [00:18<00:09,  1.87it/s]\u001b[A\n",
      " 67%|██████▋   | 34/51 [00:18<00:09,  1.87it/s]\u001b[A\n",
      " 69%|██████▊   | 35/51 [00:19<00:08,  1.87it/s]\u001b[A\n",
      " 71%|███████   | 36/51 [00:19<00:08,  1.87it/s]\u001b[A\n",
      " 73%|███████▎  | 37/51 [00:20<00:07,  1.87it/s]\u001b[A\n",
      " 75%|███████▍  | 38/51 [00:20<00:06,  1.88it/s]\u001b[A\n",
      " 76%|███████▋  | 39/51 [00:21<00:06,  1.88it/s]\u001b[A\n",
      " 78%|███████▊  | 40/51 [00:21<00:05,  1.88it/s]\u001b[A\n",
      " 80%|████████  | 41/51 [00:22<00:05,  1.88it/s]\u001b[A\n",
      " 82%|████████▏ | 42/51 [00:22<00:04,  1.88it/s]\u001b[A\n",
      " 84%|████████▍ | 43/51 [00:23<00:04,  1.88it/s]\u001b[A\n",
      " 86%|████████▋ | 44/51 [00:24<00:03,  1.88it/s]\u001b[A\n",
      " 88%|████████▊ | 45/51 [00:24<00:03,  1.88it/s]\u001b[A\n",
      " 90%|█████████ | 46/51 [00:25<00:02,  1.88it/s]\u001b[A\n",
      " 92%|█████████▏| 47/51 [00:25<00:02,  1.88it/s]\u001b[A\n",
      " 94%|█████████▍| 48/51 [00:26<00:01,  1.88it/s]\u001b[A\n",
      " 96%|█████████▌| 49/51 [00:26<00:01,  1.88it/s]\u001b[A\n",
      " 98%|█████████▊| 50/51 [00:27<00:00,  1.88it/s]\u001b[A\n",
      "100%|██████████| 51/51 [00:27<00:00,  2.29it/s]\u001b[A\n",
      "  0%|          | 0/2 [00:00<?, ?it/s]\u001b[A"
     ]
    },
    {
     "name": "stdout",
     "output_type": "stream",
     "text": [
      "Completed training for epoch 54, testing validation dataset\n"
     ]
    },
    {
     "name": "stderr",
     "output_type": "stream",
     "text": [
      "\n",
      " 50%|█████     | 1/2 [00:00<00:00,  1.65it/s]\u001b[A\n",
      "100%|██████████| 2/2 [00:00<00:00,  2.12it/s]\u001b[A\n",
      "  0%|          | 0/2 [00:00<?, ?it/s]\u001b[A"
     ]
    },
    {
     "name": "stdout",
     "output_type": "stream",
     "text": [
      "loss: 0.38090160489082336\n",
      "top1acc: 89.19999694824219\n",
      "Completed testing validation dataset for epoch 54, testing training dataset\n"
     ]
    },
    {
     "name": "stderr",
     "output_type": "stream",
     "text": [
      "\n",
      " 50%|█████     | 1/2 [00:00<00:00,  1.69it/s]\u001b[A\n",
      " 46%|████▌     | 55/120 [26:45<31:34, 29.15s/it]\n",
      "  0%|          | 0/51 [00:00<?, ?it/s]\u001b[A"
     ]
    },
    {
     "name": "stdout",
     "output_type": "stream",
     "text": [
      "loss: 0.22203096747398376\n",
      "top1acc: 93.199951171875\n",
      "Completed testing training dataset for epoch 54\n",
      "Starting epoch 55\n"
     ]
    },
    {
     "name": "stderr",
     "output_type": "stream",
     "text": [
      "\n",
      "  2%|▏         | 1/51 [00:01<00:53,  1.07s/it]\u001b[A\n",
      "  4%|▍         | 2/51 [00:01<00:44,  1.10it/s]\u001b[A\n",
      "  6%|▌         | 3/51 [00:02<00:38,  1.26it/s]\u001b[A\n",
      "  8%|▊         | 4/51 [00:02<00:33,  1.40it/s]\u001b[A\n",
      " 10%|▉         | 5/51 [00:03<00:30,  1.51it/s]\u001b[A\n",
      " 12%|█▏        | 6/51 [00:03<00:28,  1.61it/s]\u001b[A\n",
      " 14%|█▎        | 7/51 [00:04<00:26,  1.68it/s]\u001b[A\n",
      " 16%|█▌        | 8/51 [00:04<00:24,  1.74it/s]\u001b[A\n",
      " 18%|█▊        | 9/51 [00:05<00:23,  1.78it/s]\u001b[A\n",
      " 20%|█▉        | 10/51 [00:05<00:22,  1.81it/s]\u001b[A\n",
      " 22%|██▏       | 11/51 [00:06<00:21,  1.83it/s]\u001b[A\n",
      " 24%|██▎       | 12/51 [00:06<00:21,  1.84it/s]\u001b[A\n",
      " 25%|██▌       | 13/51 [00:07<00:20,  1.85it/s]\u001b[A\n",
      " 27%|██▋       | 14/51 [00:07<00:19,  1.86it/s]\u001b[A\n",
      " 29%|██▉       | 15/51 [00:08<00:19,  1.86it/s]\u001b[A\n",
      " 31%|███▏      | 16/51 [00:09<00:18,  1.87it/s]\u001b[A\n",
      " 33%|███▎      | 17/51 [00:09<00:18,  1.87it/s]\u001b[A\n",
      " 35%|███▌      | 18/51 [00:10<00:17,  1.87it/s]\u001b[A\n",
      " 37%|███▋      | 19/51 [00:10<00:17,  1.87it/s]\u001b[A\n",
      " 39%|███▉      | 20/51 [00:11<00:16,  1.87it/s]\u001b[A\n",
      " 41%|████      | 21/51 [00:11<00:16,  1.87it/s]\u001b[A\n",
      " 43%|████▎     | 22/51 [00:12<00:15,  1.88it/s]\u001b[A\n",
      " 45%|████▌     | 23/51 [00:12<00:14,  1.88it/s]\u001b[A\n",
      " 47%|████▋     | 24/51 [00:13<00:14,  1.88it/s]\u001b[A\n",
      " 49%|████▉     | 25/51 [00:13<00:13,  1.88it/s]\u001b[A\n",
      " 51%|█████     | 26/51 [00:14<00:13,  1.88it/s]\u001b[A\n",
      " 53%|█████▎    | 27/51 [00:14<00:12,  1.88it/s]\u001b[A\n",
      " 55%|█████▍    | 28/51 [00:15<00:12,  1.88it/s]\u001b[A\n",
      " 57%|█████▋    | 29/51 [00:15<00:11,  1.88it/s]\u001b[A\n",
      " 59%|█████▉    | 30/51 [00:16<00:11,  1.88it/s]\u001b[A\n",
      " 61%|██████    | 31/51 [00:17<00:10,  1.87it/s]\u001b[A\n",
      " 63%|██████▎   | 32/51 [00:17<00:10,  1.88it/s]\u001b[A\n",
      " 65%|██████▍   | 33/51 [00:18<00:09,  1.88it/s]\u001b[A\n",
      " 67%|██████▋   | 34/51 [00:18<00:09,  1.88it/s]\u001b[A\n",
      " 69%|██████▊   | 35/51 [00:19<00:08,  1.88it/s]\u001b[A\n",
      " 71%|███████   | 36/51 [00:19<00:07,  1.88it/s]\u001b[A\n",
      " 73%|███████▎  | 37/51 [00:20<00:07,  1.88it/s]\u001b[A\n",
      " 75%|███████▍  | 38/51 [00:20<00:06,  1.88it/s]\u001b[A\n",
      " 76%|███████▋  | 39/51 [00:21<00:06,  1.88it/s]\u001b[A\n",
      " 78%|███████▊  | 40/51 [00:21<00:05,  1.88it/s]\u001b[A\n",
      " 80%|████████  | 41/51 [00:22<00:05,  1.88it/s]\u001b[A\n",
      " 82%|████████▏ | 42/51 [00:22<00:04,  1.88it/s]\u001b[A\n",
      " 84%|████████▍ | 43/51 [00:23<00:04,  1.87it/s]\u001b[A\n",
      " 86%|████████▋ | 44/51 [00:23<00:03,  1.87it/s]\u001b[A\n",
      " 88%|████████▊ | 45/51 [00:24<00:03,  1.86it/s]\u001b[A\n",
      " 90%|█████████ | 46/51 [00:25<00:02,  1.86it/s]\u001b[A\n",
      " 92%|█████████▏| 47/51 [00:25<00:02,  1.86it/s]\u001b[A\n",
      " 94%|█████████▍| 48/51 [00:26<00:01,  1.87it/s]\u001b[A\n",
      " 96%|█████████▌| 49/51 [00:26<00:01,  1.87it/s]\u001b[A\n",
      " 98%|█████████▊| 50/51 [00:27<00:00,  1.87it/s]\u001b[A\n",
      "100%|██████████| 51/51 [00:27<00:00,  2.28it/s]\u001b[A\n",
      "  0%|          | 0/2 [00:00<?, ?it/s]\u001b[A"
     ]
    },
    {
     "name": "stdout",
     "output_type": "stream",
     "text": [
      "Completed training for epoch 55, testing validation dataset\n"
     ]
    },
    {
     "name": "stderr",
     "output_type": "stream",
     "text": [
      "\n",
      " 50%|█████     | 1/2 [00:00<00:00,  1.73it/s]\u001b[A\n",
      "100%|██████████| 2/2 [00:00<00:00,  2.21it/s]\u001b[A\n",
      "  0%|          | 0/2 [00:00<?, ?it/s]\u001b[A"
     ]
    },
    {
     "name": "stdout",
     "output_type": "stream",
     "text": [
      "loss: 0.39797133207321167\n",
      "top1acc: 88.19993591308594\n",
      "Completed testing validation dataset for epoch 55, testing training dataset\n"
     ]
    },
    {
     "name": "stderr",
     "output_type": "stream",
     "text": [
      "\n",
      " 50%|█████     | 1/2 [00:00<00:00,  1.65it/s]\u001b[A\n",
      " 47%|████▋     | 56/120 [27:14<31:05, 29.15s/it]\n",
      "  0%|          | 0/51 [00:00<?, ?it/s]\u001b[A"
     ]
    },
    {
     "name": "stdout",
     "output_type": "stream",
     "text": [
      "loss: 0.22874808311462402\n",
      "top1acc: 92.79995727539062\n",
      "Completed testing training dataset for epoch 55\n",
      "Starting epoch 56\n"
     ]
    },
    {
     "name": "stderr",
     "output_type": "stream",
     "text": [
      "\n",
      "  2%|▏         | 1/51 [00:01<00:51,  1.03s/it]\u001b[A\n",
      "  4%|▍         | 2/51 [00:01<00:43,  1.13it/s]\u001b[A\n",
      "  6%|▌         | 3/51 [00:02<00:37,  1.29it/s]\u001b[A\n",
      "  8%|▊         | 4/51 [00:02<00:33,  1.42it/s]\u001b[A\n",
      " 10%|▉         | 5/51 [00:03<00:30,  1.53it/s]\u001b[A\n",
      " 12%|█▏        | 6/51 [00:03<00:27,  1.62it/s]\u001b[A\n",
      " 14%|█▎        | 7/51 [00:04<00:26,  1.69it/s]\u001b[A\n",
      " 16%|█▌        | 8/51 [00:04<00:24,  1.74it/s]\u001b[A\n",
      " 18%|█▊        | 9/51 [00:05<00:23,  1.78it/s]\u001b[A\n",
      " 20%|█▉        | 10/51 [00:05<00:22,  1.81it/s]\u001b[A\n",
      " 22%|██▏       | 11/51 [00:06<00:21,  1.83it/s]\u001b[A\n",
      " 24%|██▎       | 12/51 [00:06<00:21,  1.84it/s]\u001b[A\n",
      " 25%|██▌       | 13/51 [00:07<00:20,  1.85it/s]\u001b[A\n",
      " 27%|██▋       | 14/51 [00:07<00:19,  1.86it/s]\u001b[A\n",
      " 29%|██▉       | 15/51 [00:08<00:19,  1.86it/s]\u001b[A\n",
      " 31%|███▏      | 16/51 [00:09<00:18,  1.87it/s]\u001b[A\n",
      " 33%|███▎      | 17/51 [00:09<00:18,  1.87it/s]\u001b[A\n",
      " 35%|███▌      | 18/51 [00:10<00:17,  1.87it/s]\u001b[A\n",
      " 37%|███▋      | 19/51 [00:10<00:17,  1.87it/s]\u001b[A\n",
      " 39%|███▉      | 20/51 [00:11<00:16,  1.87it/s]\u001b[A\n",
      " 41%|████      | 21/51 [00:11<00:16,  1.87it/s]\u001b[A\n",
      " 43%|████▎     | 22/51 [00:12<00:15,  1.88it/s]\u001b[A\n",
      " 45%|████▌     | 23/51 [00:12<00:14,  1.88it/s]\u001b[A\n",
      " 47%|████▋     | 24/51 [00:13<00:14,  1.88it/s]\u001b[A\n",
      " 49%|████▉     | 25/51 [00:13<00:13,  1.87it/s]\u001b[A\n",
      " 51%|█████     | 26/51 [00:14<00:13,  1.88it/s]\u001b[A\n",
      " 53%|█████▎    | 27/51 [00:14<00:12,  1.87it/s]\u001b[A\n",
      " 55%|█████▍    | 28/51 [00:15<00:12,  1.87it/s]\u001b[A\n",
      " 57%|█████▋    | 29/51 [00:15<00:11,  1.87it/s]\u001b[A\n",
      " 59%|█████▉    | 30/51 [00:16<00:11,  1.87it/s]\u001b[A\n",
      " 61%|██████    | 31/51 [00:17<00:10,  1.87it/s]\u001b[A\n",
      " 63%|██████▎   | 32/51 [00:17<00:10,  1.87it/s]\u001b[A\n",
      " 65%|██████▍   | 33/51 [00:18<00:09,  1.87it/s]\u001b[A\n",
      " 67%|██████▋   | 34/51 [00:18<00:09,  1.87it/s]\u001b[A\n",
      " 69%|██████▊   | 35/51 [00:19<00:08,  1.87it/s]\u001b[A\n",
      " 71%|███████   | 36/51 [00:19<00:08,  1.87it/s]\u001b[A\n",
      " 73%|███████▎  | 37/51 [00:20<00:07,  1.87it/s]\u001b[A\n",
      " 75%|███████▍  | 38/51 [00:20<00:06,  1.87it/s]\u001b[A\n",
      " 76%|███████▋  | 39/51 [00:21<00:06,  1.87it/s]\u001b[A\n",
      " 78%|███████▊  | 40/51 [00:21<00:05,  1.87it/s]\u001b[A\n",
      " 80%|████████  | 41/51 [00:22<00:05,  1.87it/s]\u001b[A\n",
      " 82%|████████▏ | 42/51 [00:22<00:04,  1.87it/s]\u001b[A\n",
      " 84%|████████▍ | 43/51 [00:23<00:04,  1.87it/s]\u001b[A\n",
      " 86%|████████▋ | 44/51 [00:23<00:03,  1.87it/s]\u001b[A\n",
      " 88%|████████▊ | 45/51 [00:24<00:03,  1.87it/s]\u001b[A\n",
      " 90%|█████████ | 46/51 [00:25<00:02,  1.88it/s]\u001b[A\n",
      " 92%|█████████▏| 47/51 [00:25<00:02,  1.88it/s]\u001b[A\n",
      " 94%|█████████▍| 48/51 [00:26<00:01,  1.88it/s]\u001b[A\n",
      " 96%|█████████▌| 49/51 [00:26<00:01,  1.88it/s]\u001b[A\n",
      " 98%|█████████▊| 50/51 [00:27<00:00,  1.88it/s]\u001b[A\n",
      "100%|██████████| 51/51 [00:27<00:00,  2.29it/s]\u001b[A\n",
      "  0%|          | 0/2 [00:00<?, ?it/s]\u001b[A"
     ]
    },
    {
     "name": "stdout",
     "output_type": "stream",
     "text": [
      "Completed training for epoch 56, testing validation dataset\n"
     ]
    },
    {
     "name": "stderr",
     "output_type": "stream",
     "text": [
      "\n",
      " 50%|█████     | 1/2 [00:00<00:00,  1.63it/s]\u001b[A\n",
      "100%|██████████| 2/2 [00:00<00:00,  2.10it/s]\u001b[A\n",
      "  0%|          | 0/2 [00:00<?, ?it/s]\u001b[A"
     ]
    },
    {
     "name": "stdout",
     "output_type": "stream",
     "text": [
      "loss: 0.39996203780174255\n",
      "top1acc: 88.79994201660156\n",
      "Completed testing validation dataset for epoch 56, testing training dataset\n"
     ]
    },
    {
     "name": "stderr",
     "output_type": "stream",
     "text": [
      "\n",
      " 50%|█████     | 1/2 [00:00<00:00,  1.55it/s]\u001b[A\n",
      " 48%|████▊     | 57/120 [27:43<30:37, 29.16s/it]\n",
      "  0%|          | 0/51 [00:00<?, ?it/s]\u001b[A"
     ]
    },
    {
     "name": "stdout",
     "output_type": "stream",
     "text": [
      "loss: 0.22392000257968903\n",
      "top1acc: 91.59996032714844\n",
      "Completed testing training dataset for epoch 56\n",
      "Starting epoch 57\n"
     ]
    },
    {
     "name": "stderr",
     "output_type": "stream",
     "text": [
      "\n",
      "  2%|▏         | 1/51 [00:01<00:52,  1.06s/it]\u001b[A\n",
      "  4%|▍         | 2/51 [00:01<00:44,  1.11it/s]\u001b[A\n",
      "  6%|▌         | 3/51 [00:02<00:37,  1.27it/s]\u001b[A\n",
      "  8%|▊         | 4/51 [00:02<00:33,  1.40it/s]\u001b[A\n",
      " 10%|▉         | 5/51 [00:03<00:30,  1.52it/s]\u001b[A\n",
      " 12%|█▏        | 6/51 [00:03<00:27,  1.61it/s]\u001b[A\n",
      " 14%|█▎        | 7/51 [00:04<00:26,  1.68it/s]\u001b[A\n",
      " 16%|█▌        | 8/51 [00:04<00:24,  1.74it/s]\u001b[A\n",
      " 18%|█▊        | 9/51 [00:05<00:23,  1.78it/s]\u001b[A\n",
      " 20%|█▉        | 10/51 [00:05<00:22,  1.81it/s]\u001b[A\n",
      " 22%|██▏       | 11/51 [00:06<00:21,  1.83it/s]\u001b[A\n",
      " 24%|██▎       | 12/51 [00:06<00:21,  1.84it/s]\u001b[A\n",
      " 25%|██▌       | 13/51 [00:07<00:20,  1.84it/s]\u001b[A\n",
      " 27%|██▋       | 14/51 [00:07<00:19,  1.85it/s]\u001b[A\n",
      " 29%|██▉       | 15/51 [00:08<00:19,  1.86it/s]\u001b[A\n",
      " 31%|███▏      | 16/51 [00:09<00:18,  1.86it/s]\u001b[A\n",
      " 33%|███▎      | 17/51 [00:09<00:18,  1.87it/s]\u001b[A\n",
      " 35%|███▌      | 18/51 [00:10<00:17,  1.87it/s]\u001b[A\n",
      " 37%|███▋      | 19/51 [00:10<00:17,  1.87it/s]\u001b[A\n",
      " 39%|███▉      | 20/51 [00:11<00:16,  1.87it/s]\u001b[A\n",
      " 41%|████      | 21/51 [00:11<00:16,  1.87it/s]\u001b[A\n",
      " 43%|████▎     | 22/51 [00:12<00:15,  1.87it/s]\u001b[A\n",
      " 45%|████▌     | 23/51 [00:12<00:14,  1.87it/s]\u001b[A\n",
      " 47%|████▋     | 24/51 [00:13<00:14,  1.87it/s]\u001b[A\n",
      " 49%|████▉     | 25/51 [00:13<00:13,  1.87it/s]\u001b[A\n",
      " 51%|█████     | 26/51 [00:14<00:13,  1.87it/s]\u001b[A\n",
      " 53%|█████▎    | 27/51 [00:14<00:12,  1.87it/s]\u001b[A\n",
      " 55%|█████▍    | 28/51 [00:15<00:12,  1.87it/s]\u001b[A\n",
      " 57%|█████▋    | 29/51 [00:15<00:11,  1.87it/s]\u001b[A\n",
      " 59%|█████▉    | 30/51 [00:16<00:11,  1.87it/s]\u001b[A\n",
      " 61%|██████    | 31/51 [00:17<00:10,  1.87it/s]\u001b[A\n",
      " 63%|██████▎   | 32/51 [00:17<00:10,  1.87it/s]\u001b[A\n",
      " 65%|██████▍   | 33/51 [00:18<00:09,  1.87it/s]\u001b[A\n",
      " 67%|██████▋   | 34/51 [00:18<00:09,  1.87it/s]\u001b[A\n",
      " 69%|██████▊   | 35/51 [00:19<00:08,  1.87it/s]\u001b[A\n",
      " 71%|███████   | 36/51 [00:19<00:08,  1.87it/s]\u001b[A\n",
      " 73%|███████▎  | 37/51 [00:20<00:07,  1.87it/s]\u001b[A\n",
      " 75%|███████▍  | 38/51 [00:20<00:06,  1.87it/s]\u001b[A\n",
      " 76%|███████▋  | 39/51 [00:21<00:06,  1.87it/s]\u001b[A\n",
      " 78%|███████▊  | 40/51 [00:21<00:05,  1.88it/s]\u001b[A\n",
      " 80%|████████  | 41/51 [00:22<00:05,  1.88it/s]\u001b[A\n",
      " 82%|████████▏ | 42/51 [00:22<00:04,  1.88it/s]\u001b[A\n",
      " 84%|████████▍ | 43/51 [00:23<00:04,  1.88it/s]\u001b[A\n",
      " 86%|████████▋ | 44/51 [00:24<00:03,  1.87it/s]\u001b[A\n",
      " 88%|████████▊ | 45/51 [00:24<00:03,  1.87it/s]\u001b[A\n",
      " 90%|█████████ | 46/51 [00:25<00:02,  1.87it/s]\u001b[A\n",
      " 92%|█████████▏| 47/51 [00:25<00:02,  1.87it/s]\u001b[A\n",
      " 94%|█████████▍| 48/51 [00:26<00:01,  1.87it/s]\u001b[A\n",
      " 96%|█████████▌| 49/51 [00:26<00:01,  1.87it/s]\u001b[A\n",
      " 98%|█████████▊| 50/51 [00:27<00:00,  1.87it/s]\u001b[A\n",
      "100%|██████████| 51/51 [00:27<00:00,  2.28it/s]\u001b[A\n",
      "  0%|          | 0/2 [00:00<?, ?it/s]\u001b[A"
     ]
    },
    {
     "name": "stdout",
     "output_type": "stream",
     "text": [
      "Completed training for epoch 57, testing validation dataset\n"
     ]
    },
    {
     "name": "stderr",
     "output_type": "stream",
     "text": [
      "\n",
      " 50%|█████     | 1/2 [00:00<00:00,  1.69it/s]\u001b[A\n",
      "100%|██████████| 2/2 [00:00<00:00,  2.17it/s]\u001b[A\n",
      "  0%|          | 0/2 [00:00<?, ?it/s]\u001b[A"
     ]
    },
    {
     "name": "stdout",
     "output_type": "stream",
     "text": [
      "loss: 0.4128941595554352\n",
      "top1acc: 87.39994049072266\n",
      "Completed testing validation dataset for epoch 57, testing training dataset\n"
     ]
    },
    {
     "name": "stderr",
     "output_type": "stream",
     "text": [
      "\n",
      " 50%|█████     | 1/2 [00:00<00:00,  1.69it/s]\u001b[A\n",
      " 48%|████▊     | 58/120 [28:12<30:08, 29.16s/it]\n",
      "  0%|          | 0/51 [00:00<?, ?it/s]\u001b[A"
     ]
    },
    {
     "name": "stdout",
     "output_type": "stream",
     "text": [
      "loss: 0.217548206448555\n",
      "top1acc: 93.79994201660156\n",
      "Completed testing training dataset for epoch 57\n",
      "Starting epoch 58\n"
     ]
    },
    {
     "name": "stderr",
     "output_type": "stream",
     "text": [
      "\n",
      "  2%|▏         | 1/51 [00:01<00:52,  1.05s/it]\u001b[A\n",
      "  4%|▍         | 2/51 [00:01<00:44,  1.11it/s]\u001b[A\n",
      "  6%|▌         | 3/51 [00:02<00:37,  1.27it/s]\u001b[A\n",
      "  8%|▊         | 4/51 [00:02<00:33,  1.40it/s]\u001b[A\n",
      " 10%|▉         | 5/51 [00:03<00:30,  1.52it/s]\u001b[A\n",
      " 12%|█▏        | 6/51 [00:03<00:27,  1.61it/s]\u001b[A\n",
      " 14%|█▎        | 7/51 [00:04<00:26,  1.68it/s]\u001b[A\n",
      " 16%|█▌        | 8/51 [00:04<00:24,  1.74it/s]\u001b[A\n",
      " 18%|█▊        | 9/51 [00:05<00:23,  1.77it/s]\u001b[A\n",
      " 20%|█▉        | 10/51 [00:05<00:22,  1.80it/s]\u001b[A\n",
      " 22%|██▏       | 11/51 [00:06<00:21,  1.82it/s]\u001b[A\n",
      " 24%|██▎       | 12/51 [00:06<00:21,  1.83it/s]\u001b[A\n",
      " 25%|██▌       | 13/51 [00:07<00:20,  1.84it/s]\u001b[A\n",
      " 27%|██▋       | 14/51 [00:08<00:20,  1.85it/s]\u001b[A\n",
      " 29%|██▉       | 15/51 [00:08<00:19,  1.86it/s]\u001b[A\n",
      " 31%|███▏      | 16/51 [00:09<00:18,  1.86it/s]\u001b[A\n",
      " 33%|███▎      | 17/51 [00:09<00:18,  1.86it/s]\u001b[A\n",
      " 35%|███▌      | 18/51 [00:10<00:17,  1.86it/s]\u001b[A\n",
      " 37%|███▋      | 19/51 [00:10<00:17,  1.87it/s]\u001b[A\n",
      " 39%|███▉      | 20/51 [00:11<00:16,  1.87it/s]\u001b[A\n",
      " 41%|████      | 21/51 [00:11<00:16,  1.87it/s]\u001b[A\n",
      " 43%|████▎     | 22/51 [00:12<00:15,  1.87it/s]\u001b[A\n",
      " 45%|████▌     | 23/51 [00:12<00:14,  1.87it/s]\u001b[A\n",
      " 47%|████▋     | 24/51 [00:13<00:14,  1.87it/s]\u001b[A\n",
      " 49%|████▉     | 25/51 [00:13<00:13,  1.87it/s]\u001b[A\n",
      " 51%|█████     | 26/51 [00:14<00:13,  1.87it/s]\u001b[A\n",
      " 53%|█████▎    | 27/51 [00:14<00:12,  1.87it/s]\u001b[A\n",
      " 55%|█████▍    | 28/51 [00:15<00:12,  1.87it/s]\u001b[A\n",
      " 57%|█████▋    | 29/51 [00:16<00:11,  1.87it/s]\u001b[A\n",
      " 59%|█████▉    | 30/51 [00:16<00:11,  1.87it/s]\u001b[A\n",
      " 61%|██████    | 31/51 [00:17<00:10,  1.87it/s]\u001b[A\n",
      " 63%|██████▎   | 32/51 [00:17<00:10,  1.87it/s]\u001b[A\n",
      " 65%|██████▍   | 33/51 [00:18<00:09,  1.88it/s]\u001b[A\n",
      " 67%|██████▋   | 34/51 [00:18<00:09,  1.88it/s]\u001b[A\n",
      " 69%|██████▊   | 35/51 [00:19<00:08,  1.88it/s]\u001b[A\n",
      " 71%|███████   | 36/51 [00:19<00:07,  1.88it/s]\u001b[A\n",
      " 73%|███████▎  | 37/51 [00:20<00:07,  1.88it/s]\u001b[A\n",
      " 75%|███████▍  | 38/51 [00:20<00:06,  1.88it/s]\u001b[A\n",
      " 76%|███████▋  | 39/51 [00:21<00:06,  1.87it/s]\u001b[A\n",
      " 78%|███████▊  | 40/51 [00:21<00:05,  1.87it/s]\u001b[A\n",
      " 80%|████████  | 41/51 [00:22<00:05,  1.88it/s]\u001b[A\n",
      " 82%|████████▏ | 42/51 [00:22<00:04,  1.87it/s]\u001b[A\n",
      " 84%|████████▍ | 43/51 [00:23<00:04,  1.87it/s]\u001b[A\n",
      " 86%|████████▋ | 44/51 [00:24<00:03,  1.87it/s]\u001b[A\n",
      " 88%|████████▊ | 45/51 [00:24<00:03,  1.88it/s]\u001b[A\n",
      " 90%|█████████ | 46/51 [00:25<00:02,  1.88it/s]\u001b[A\n",
      " 92%|█████████▏| 47/51 [00:25<00:02,  1.88it/s]\u001b[A\n",
      " 94%|█████████▍| 48/51 [00:26<00:01,  1.88it/s]\u001b[A\n",
      " 96%|█████████▌| 49/51 [00:26<00:01,  1.88it/s]\u001b[A\n",
      " 98%|█████████▊| 50/51 [00:27<00:00,  1.87it/s]\u001b[A\n",
      "100%|██████████| 51/51 [00:27<00:00,  2.28it/s]\u001b[A\n",
      "  0%|          | 0/2 [00:00<?, ?it/s]\u001b[A"
     ]
    },
    {
     "name": "stdout",
     "output_type": "stream",
     "text": [
      "Completed training for epoch 58, testing validation dataset\n"
     ]
    },
    {
     "name": "stderr",
     "output_type": "stream",
     "text": [
      "\n",
      " 50%|█████     | 1/2 [00:00<00:00,  1.63it/s]\u001b[A\n",
      "100%|██████████| 2/2 [00:00<00:00,  2.09it/s]\u001b[A\n",
      "  0%|          | 0/2 [00:00<?, ?it/s]\u001b[A"
     ]
    },
    {
     "name": "stdout",
     "output_type": "stream",
     "text": [
      "loss: 0.38770297169685364\n",
      "top1acc: 88.39994812011719\n",
      "Completed testing validation dataset for epoch 58, testing training dataset\n"
     ]
    },
    {
     "name": "stderr",
     "output_type": "stream",
     "text": [
      "\n",
      " 50%|█████     | 1/2 [00:00<00:00,  1.74it/s]\u001b[A\n",
      " 49%|████▉     | 59/120 [28:41<29:39, 29.18s/it]\n",
      "  0%|          | 0/51 [00:00<?, ?it/s]\u001b[A"
     ]
    },
    {
     "name": "stdout",
     "output_type": "stream",
     "text": [
      "loss: 0.22199110686779022\n",
      "top1acc: 92.00008392333984\n",
      "Completed testing training dataset for epoch 58\n",
      "Starting epoch 59\n"
     ]
    },
    {
     "name": "stderr",
     "output_type": "stream",
     "text": [
      "\n",
      "  2%|▏         | 1/51 [00:01<00:53,  1.06s/it]\u001b[A\n",
      "  4%|▍         | 2/51 [00:01<00:44,  1.11it/s]\u001b[A\n",
      "  6%|▌         | 3/51 [00:02<00:38,  1.26it/s]\u001b[A\n",
      "  8%|▊         | 4/51 [00:02<00:33,  1.40it/s]\u001b[A\n",
      " 10%|▉         | 5/51 [00:03<00:30,  1.51it/s]\u001b[A\n",
      " 12%|█▏        | 6/51 [00:03<00:27,  1.61it/s]\u001b[A\n",
      " 14%|█▎        | 7/51 [00:04<00:26,  1.68it/s]\u001b[A\n",
      " 16%|█▌        | 8/51 [00:04<00:24,  1.74it/s]\u001b[A\n",
      " 18%|█▊        | 9/51 [00:05<00:23,  1.78it/s]\u001b[A\n",
      " 20%|█▉        | 10/51 [00:05<00:22,  1.81it/s]\u001b[A\n",
      " 22%|██▏       | 11/51 [00:06<00:21,  1.83it/s]\u001b[A\n",
      " 24%|██▎       | 12/51 [00:06<00:21,  1.84it/s]\u001b[A\n",
      " 25%|██▌       | 13/51 [00:07<00:20,  1.85it/s]\u001b[A\n",
      " 27%|██▋       | 14/51 [00:07<00:19,  1.86it/s]\u001b[A\n",
      " 29%|██▉       | 15/51 [00:08<00:19,  1.86it/s]\u001b[A\n",
      " 31%|███▏      | 16/51 [00:09<00:18,  1.87it/s]\u001b[A\n",
      " 33%|███▎      | 17/51 [00:09<00:18,  1.87it/s]\u001b[A\n",
      " 35%|███▌      | 18/51 [00:10<00:17,  1.87it/s]\u001b[A\n",
      " 37%|███▋      | 19/51 [00:10<00:17,  1.87it/s]\u001b[A\n",
      " 39%|███▉      | 20/51 [00:11<00:16,  1.88it/s]\u001b[A\n",
      " 41%|████      | 21/51 [00:11<00:16,  1.87it/s]\u001b[A\n",
      " 43%|████▎     | 22/51 [00:12<00:15,  1.87it/s]\u001b[A\n",
      " 45%|████▌     | 23/51 [00:12<00:14,  1.88it/s]\u001b[A\n",
      " 47%|████▋     | 24/51 [00:13<00:14,  1.88it/s]\u001b[A\n",
      " 49%|████▉     | 25/51 [00:13<00:13,  1.88it/s]\u001b[A\n",
      " 51%|█████     | 26/51 [00:14<00:13,  1.88it/s]\u001b[A\n",
      " 53%|█████▎    | 27/51 [00:14<00:12,  1.88it/s]\u001b[A\n",
      " 55%|█████▍    | 28/51 [00:15<00:12,  1.88it/s]\u001b[A\n",
      " 57%|█████▋    | 29/51 [00:15<00:11,  1.88it/s]\u001b[A\n",
      " 59%|█████▉    | 30/51 [00:16<00:11,  1.88it/s]\u001b[A\n",
      " 61%|██████    | 31/51 [00:17<00:10,  1.88it/s]\u001b[A\n",
      " 63%|██████▎   | 32/51 [00:17<00:10,  1.88it/s]\u001b[A\n",
      " 65%|██████▍   | 33/51 [00:18<00:09,  1.88it/s]\u001b[A\n",
      " 67%|██████▋   | 34/51 [00:18<00:09,  1.87it/s]\u001b[A\n",
      " 69%|██████▊   | 35/51 [00:19<00:08,  1.87it/s]\u001b[A\n",
      " 71%|███████   | 36/51 [00:19<00:08,  1.87it/s]\u001b[A\n",
      " 73%|███████▎  | 37/51 [00:20<00:07,  1.87it/s]\u001b[A\n",
      " 75%|███████▍  | 38/51 [00:20<00:06,  1.87it/s]\u001b[A\n",
      " 76%|███████▋  | 39/51 [00:21<00:06,  1.87it/s]\u001b[A\n",
      " 78%|███████▊  | 40/51 [00:21<00:05,  1.87it/s]\u001b[A\n",
      " 80%|████████  | 41/51 [00:22<00:05,  1.87it/s]\u001b[A\n",
      " 82%|████████▏ | 42/51 [00:22<00:04,  1.88it/s]\u001b[A\n",
      " 84%|████████▍ | 43/51 [00:23<00:04,  1.88it/s]\u001b[A\n",
      " 86%|████████▋ | 44/51 [00:23<00:03,  1.88it/s]\u001b[A\n",
      " 88%|████████▊ | 45/51 [00:24<00:03,  1.88it/s]\u001b[A\n",
      " 90%|█████████ | 46/51 [00:25<00:02,  1.88it/s]\u001b[A\n",
      " 92%|█████████▏| 47/51 [00:25<00:02,  1.88it/s]\u001b[A\n",
      " 94%|█████████▍| 48/51 [00:26<00:01,  1.88it/s]\u001b[A\n",
      " 96%|█████████▌| 49/51 [00:26<00:01,  1.88it/s]\u001b[A\n",
      " 98%|█████████▊| 50/51 [00:27<00:00,  1.88it/s]\u001b[A\n",
      "100%|██████████| 51/51 [00:27<00:00,  2.29it/s]\u001b[A\n",
      "  0%|          | 0/2 [00:00<?, ?it/s]\u001b[A"
     ]
    },
    {
     "name": "stdout",
     "output_type": "stream",
     "text": [
      "Completed training for epoch 59, testing validation dataset\n"
     ]
    },
    {
     "name": "stderr",
     "output_type": "stream",
     "text": [
      "\n",
      " 50%|█████     | 1/2 [00:00<00:00,  1.63it/s]\u001b[A\n",
      "100%|██████████| 2/2 [00:00<00:00,  2.10it/s]\u001b[A\n",
      "  0%|          | 0/2 [00:00<?, ?it/s]\u001b[A"
     ]
    },
    {
     "name": "stdout",
     "output_type": "stream",
     "text": [
      "loss: 0.40839189291000366\n",
      "top1acc: 87.7999267578125\n",
      "Completed testing validation dataset for epoch 59, testing training dataset\n"
     ]
    },
    {
     "name": "stderr",
     "output_type": "stream",
     "text": [
      "\n",
      " 50%|█████     | 1/2 [00:00<00:00,  1.75it/s]\u001b[A\n",
      " 50%|█████     | 60/120 [29:11<29:09, 29.16s/it]\n",
      "  0%|          | 0/51 [00:00<?, ?it/s]\u001b[A"
     ]
    },
    {
     "name": "stdout",
     "output_type": "stream",
     "text": [
      "loss: 0.21117450296878815\n",
      "top1acc: 92.59991455078125\n",
      "Completed testing training dataset for epoch 59\n",
      "Starting epoch 60\n"
     ]
    },
    {
     "name": "stderr",
     "output_type": "stream",
     "text": [
      "\n",
      "  2%|▏         | 1/51 [00:01<00:52,  1.05s/it]\u001b[A\n",
      "  4%|▍         | 2/51 [00:01<00:43,  1.12it/s]\u001b[A\n",
      "  6%|▌         | 3/51 [00:02<00:37,  1.27it/s]\u001b[A\n",
      "  8%|▊         | 4/51 [00:02<00:33,  1.41it/s]\u001b[A\n",
      " 10%|▉         | 5/51 [00:03<00:30,  1.52it/s]\u001b[A\n",
      " 12%|█▏        | 6/51 [00:03<00:27,  1.61it/s]\u001b[A\n",
      " 14%|█▎        | 7/51 [00:04<00:26,  1.68it/s]\u001b[A\n",
      " 16%|█▌        | 8/51 [00:04<00:24,  1.73it/s]\u001b[A\n",
      " 18%|█▊        | 9/51 [00:05<00:23,  1.77it/s]\u001b[A\n",
      " 20%|█▉        | 10/51 [00:05<00:22,  1.80it/s]\u001b[A\n",
      " 22%|██▏       | 11/51 [00:06<00:21,  1.82it/s]\u001b[A\n",
      " 24%|██▎       | 12/51 [00:06<00:21,  1.84it/s]\u001b[A\n",
      " 25%|██▌       | 13/51 [00:07<00:20,  1.85it/s]\u001b[A\n",
      " 27%|██▋       | 14/51 [00:07<00:19,  1.86it/s]\u001b[A\n",
      " 29%|██▉       | 15/51 [00:08<00:19,  1.86it/s]\u001b[A\n",
      " 31%|███▏      | 16/51 [00:09<00:18,  1.87it/s]\u001b[A\n",
      " 33%|███▎      | 17/51 [00:09<00:18,  1.87it/s]\u001b[A\n",
      " 35%|███▌      | 18/51 [00:10<00:17,  1.87it/s]\u001b[A\n",
      " 37%|███▋      | 19/51 [00:10<00:17,  1.87it/s]\u001b[A\n",
      " 39%|███▉      | 20/51 [00:11<00:16,  1.87it/s]\u001b[A\n",
      " 41%|████      | 21/51 [00:11<00:16,  1.87it/s]\u001b[A\n",
      " 43%|████▎     | 22/51 [00:12<00:15,  1.87it/s]\u001b[A\n",
      " 45%|████▌     | 23/51 [00:12<00:14,  1.87it/s]\u001b[A\n",
      " 47%|████▋     | 24/51 [00:13<00:14,  1.87it/s]\u001b[A\n",
      " 49%|████▉     | 25/51 [00:13<00:13,  1.87it/s]\u001b[A\n",
      " 51%|█████     | 26/51 [00:14<00:13,  1.87it/s]\u001b[A\n",
      " 53%|█████▎    | 27/51 [00:14<00:12,  1.88it/s]\u001b[A\n",
      " 55%|█████▍    | 28/51 [00:15<00:12,  1.88it/s]\u001b[A\n",
      " 57%|█████▋    | 29/51 [00:15<00:11,  1.88it/s]\u001b[A\n",
      " 59%|█████▉    | 30/51 [00:16<00:11,  1.88it/s]\u001b[A\n",
      " 61%|██████    | 31/51 [00:17<00:10,  1.88it/s]\u001b[A\n",
      " 63%|██████▎   | 32/51 [00:17<00:10,  1.88it/s]\u001b[A\n",
      " 65%|██████▍   | 33/51 [00:18<00:09,  1.88it/s]\u001b[A\n",
      " 67%|██████▋   | 34/51 [00:18<00:09,  1.88it/s]\u001b[A\n",
      " 69%|██████▊   | 35/51 [00:19<00:08,  1.88it/s]\u001b[A\n",
      " 71%|███████   | 36/51 [00:19<00:07,  1.88it/s]\u001b[A\n",
      " 73%|███████▎  | 37/51 [00:20<00:07,  1.88it/s]\u001b[A\n",
      " 75%|███████▍  | 38/51 [00:20<00:06,  1.88it/s]\u001b[A\n",
      " 76%|███████▋  | 39/51 [00:21<00:06,  1.88it/s]\u001b[A\n",
      " 78%|███████▊  | 40/51 [00:21<00:05,  1.88it/s]\u001b[A\n",
      " 80%|████████  | 41/51 [00:22<00:05,  1.88it/s]\u001b[A\n",
      " 82%|████████▏ | 42/51 [00:22<00:04,  1.88it/s]\u001b[A\n",
      " 84%|████████▍ | 43/51 [00:23<00:04,  1.88it/s]\u001b[A\n",
      " 86%|████████▋ | 44/51 [00:23<00:03,  1.87it/s]\u001b[A\n",
      " 88%|████████▊ | 45/51 [00:24<00:03,  1.87it/s]\u001b[A\n",
      " 90%|█████████ | 46/51 [00:25<00:02,  1.87it/s]\u001b[A\n",
      " 92%|█████████▏| 47/51 [00:25<00:02,  1.88it/s]\u001b[A\n",
      " 94%|█████████▍| 48/51 [00:26<00:01,  1.88it/s]\u001b[A\n",
      " 96%|█████████▌| 49/51 [00:26<00:01,  1.88it/s]\u001b[A\n",
      " 98%|█████████▊| 50/51 [00:27<00:00,  1.88it/s]\u001b[A\n",
      "100%|██████████| 51/51 [00:27<00:00,  2.28it/s]\u001b[A\n",
      "  0%|          | 0/2 [00:00<?, ?it/s]\u001b[A"
     ]
    },
    {
     "name": "stdout",
     "output_type": "stream",
     "text": [
      "Completed training for epoch 60, testing validation dataset\n"
     ]
    },
    {
     "name": "stderr",
     "output_type": "stream",
     "text": [
      "\n",
      " 50%|█████     | 1/2 [00:00<00:00,  1.69it/s]\u001b[A\n",
      "100%|██████████| 2/2 [00:00<00:00,  2.17it/s]\u001b[A\n",
      "  0%|          | 0/2 [00:00<?, ?it/s]\u001b[A"
     ]
    },
    {
     "name": "stdout",
     "output_type": "stream",
     "text": [
      "loss: 0.40562838315963745\n",
      "top1acc: 88.79998016357422\n",
      "Completed testing validation dataset for epoch 60, testing training dataset\n"
     ]
    },
    {
     "name": "stderr",
     "output_type": "stream",
     "text": [
      "\n",
      " 50%|█████     | 1/2 [00:00<00:00,  1.66it/s]\u001b[A\n",
      " 51%|█████     | 61/120 [29:40<28:40, 29.15s/it]\n",
      "  0%|          | 0/51 [00:00<?, ?it/s]\u001b[A"
     ]
    },
    {
     "name": "stdout",
     "output_type": "stream",
     "text": [
      "loss: 0.21959011256694794\n",
      "top1acc: 93.99996185302734\n",
      "Completed testing training dataset for epoch 60\n",
      "Starting epoch 61\n"
     ]
    },
    {
     "name": "stderr",
     "output_type": "stream",
     "text": [
      "\n",
      "  2%|▏         | 1/51 [00:01<00:51,  1.04s/it]\u001b[A\n",
      "  4%|▍         | 2/51 [00:01<00:43,  1.13it/s]\u001b[A\n",
      "  6%|▌         | 3/51 [00:02<00:37,  1.28it/s]\u001b[A\n",
      "  8%|▊         | 4/51 [00:02<00:33,  1.42it/s]\u001b[A\n",
      " 10%|▉         | 5/51 [00:03<00:30,  1.53it/s]\u001b[A\n",
      " 12%|█▏        | 6/51 [00:03<00:27,  1.62it/s]\u001b[A\n",
      " 14%|█▎        | 7/51 [00:04<00:26,  1.69it/s]\u001b[A\n",
      " 16%|█▌        | 8/51 [00:04<00:24,  1.74it/s]\u001b[A\n",
      " 18%|█▊        | 9/51 [00:05<00:23,  1.78it/s]\u001b[A\n",
      " 20%|█▉        | 10/51 [00:05<00:22,  1.80it/s]\u001b[A\n",
      " 22%|██▏       | 11/51 [00:06<00:21,  1.82it/s]\u001b[A\n",
      " 24%|██▎       | 12/51 [00:06<00:21,  1.84it/s]\u001b[A\n",
      " 25%|██▌       | 13/51 [00:07<00:20,  1.85it/s]\u001b[A\n",
      " 27%|██▋       | 14/51 [00:07<00:19,  1.86it/s]\u001b[A\n",
      " 29%|██▉       | 15/51 [00:08<00:19,  1.86it/s]\u001b[A\n",
      " 31%|███▏      | 16/51 [00:09<00:18,  1.87it/s]\u001b[A\n",
      " 33%|███▎      | 17/51 [00:09<00:18,  1.87it/s]\u001b[A\n",
      " 35%|███▌      | 18/51 [00:10<00:17,  1.87it/s]\u001b[A\n",
      " 37%|███▋      | 19/51 [00:10<00:17,  1.86it/s]\u001b[A\n",
      " 39%|███▉      | 20/51 [00:11<00:16,  1.87it/s]\u001b[A\n",
      " 41%|████      | 21/51 [00:11<00:16,  1.87it/s]\u001b[A\n",
      " 43%|████▎     | 22/51 [00:12<00:15,  1.87it/s]\u001b[A\n",
      " 45%|████▌     | 23/51 [00:12<00:14,  1.87it/s]\u001b[A\n",
      " 47%|████▋     | 24/51 [00:13<00:14,  1.87it/s]\u001b[A\n",
      " 49%|████▉     | 25/51 [00:13<00:13,  1.87it/s]\u001b[A\n",
      " 51%|█████     | 26/51 [00:14<00:13,  1.88it/s]\u001b[A\n",
      " 53%|█████▎    | 27/51 [00:14<00:12,  1.88it/s]\u001b[A\n",
      " 55%|█████▍    | 28/51 [00:15<00:12,  1.88it/s]\u001b[A\n",
      " 57%|█████▋    | 29/51 [00:15<00:11,  1.88it/s]\u001b[A\n",
      " 59%|█████▉    | 30/51 [00:16<00:11,  1.88it/s]\u001b[A\n",
      " 61%|██████    | 31/51 [00:17<00:10,  1.88it/s]\u001b[A\n",
      " 63%|██████▎   | 32/51 [00:17<00:10,  1.88it/s]\u001b[A\n",
      " 65%|██████▍   | 33/51 [00:18<00:09,  1.88it/s]\u001b[A\n",
      " 67%|██████▋   | 34/51 [00:18<00:09,  1.88it/s]\u001b[A\n",
      " 69%|██████▊   | 35/51 [00:19<00:08,  1.87it/s]\u001b[A\n",
      " 71%|███████   | 36/51 [00:19<00:08,  1.87it/s]\u001b[A\n",
      " 73%|███████▎  | 37/51 [00:20<00:07,  1.87it/s]\u001b[A\n",
      " 75%|███████▍  | 38/51 [00:20<00:06,  1.88it/s]\u001b[A\n",
      " 76%|███████▋  | 39/51 [00:21<00:06,  1.88it/s]\u001b[A\n",
      " 78%|███████▊  | 40/51 [00:21<00:05,  1.88it/s]\u001b[A\n",
      " 80%|████████  | 41/51 [00:22<00:05,  1.88it/s]\u001b[A\n",
      " 82%|████████▏ | 42/51 [00:22<00:04,  1.88it/s]\u001b[A\n",
      " 84%|████████▍ | 43/51 [00:23<00:04,  1.88it/s]\u001b[A\n",
      " 86%|████████▋ | 44/51 [00:23<00:03,  1.88it/s]\u001b[A\n",
      " 88%|████████▊ | 45/51 [00:24<00:03,  1.88it/s]\u001b[A\n",
      " 90%|█████████ | 46/51 [00:25<00:02,  1.88it/s]\u001b[A\n",
      " 92%|█████████▏| 47/51 [00:25<00:02,  1.88it/s]\u001b[A\n",
      " 94%|█████████▍| 48/51 [00:26<00:01,  1.88it/s]\u001b[A\n",
      " 96%|█████████▌| 49/51 [00:26<00:01,  1.88it/s]\u001b[A\n",
      " 98%|█████████▊| 50/51 [00:27<00:00,  1.88it/s]\u001b[A\n",
      "100%|██████████| 51/51 [00:27<00:00,  2.29it/s]\u001b[A\n",
      "  0%|          | 0/2 [00:00<?, ?it/s]\u001b[A"
     ]
    },
    {
     "name": "stdout",
     "output_type": "stream",
     "text": [
      "Completed training for epoch 61, testing validation dataset\n"
     ]
    },
    {
     "name": "stderr",
     "output_type": "stream",
     "text": [
      "\n",
      " 50%|█████     | 1/2 [00:00<00:00,  1.64it/s]\u001b[A\n",
      "100%|██████████| 2/2 [00:00<00:00,  2.11it/s]\u001b[A\n",
      "  0%|          | 0/2 [00:00<?, ?it/s]\u001b[A"
     ]
    },
    {
     "name": "stdout",
     "output_type": "stream",
     "text": [
      "loss: 0.39709046483039856\n",
      "top1acc: 88.59996795654297\n",
      "Completed testing validation dataset for epoch 61, testing training dataset\n"
     ]
    },
    {
     "name": "stderr",
     "output_type": "stream",
     "text": [
      "\n",
      " 50%|█████     | 1/2 [00:00<00:00,  1.66it/s]\u001b[A\n",
      " 52%|█████▏    | 62/120 [30:09<28:10, 29.15s/it]\n",
      "  0%|          | 0/51 [00:00<?, ?it/s]\u001b[A"
     ]
    },
    {
     "name": "stdout",
     "output_type": "stream",
     "text": [
      "loss: 0.21680980920791626\n",
      "top1acc: 93.5999755859375\n",
      "Completed testing training dataset for epoch 61\n",
      "Starting epoch 62\n"
     ]
    },
    {
     "name": "stderr",
     "output_type": "stream",
     "text": [
      "\n",
      "  2%|▏         | 1/51 [00:01<00:52,  1.04s/it]\u001b[A\n",
      "  4%|▍         | 2/51 [00:01<00:43,  1.12it/s]\u001b[A\n",
      "  6%|▌         | 3/51 [00:02<00:37,  1.28it/s]\u001b[A\n",
      "  8%|▊         | 4/51 [00:02<00:33,  1.41it/s]\u001b[A\n",
      " 10%|▉         | 5/51 [00:03<00:30,  1.53it/s]\u001b[A\n",
      " 12%|█▏        | 6/51 [00:03<00:27,  1.62it/s]\u001b[A\n",
      " 14%|█▎        | 7/51 [00:04<00:26,  1.69it/s]\u001b[A\n",
      " 16%|█▌        | 8/51 [00:04<00:24,  1.74it/s]\u001b[A\n",
      " 18%|█▊        | 9/51 [00:05<00:23,  1.78it/s]\u001b[A\n",
      " 20%|█▉        | 10/51 [00:05<00:22,  1.81it/s]\u001b[A\n",
      " 22%|██▏       | 11/51 [00:06<00:21,  1.83it/s]\u001b[A\n",
      " 24%|██▎       | 12/51 [00:06<00:21,  1.84it/s]\u001b[A\n",
      " 25%|██▌       | 13/51 [00:07<00:20,  1.85it/s]\u001b[A\n",
      " 27%|██▋       | 14/51 [00:07<00:19,  1.86it/s]\u001b[A\n",
      " 29%|██▉       | 15/51 [00:08<00:19,  1.86it/s]\u001b[A\n",
      " 31%|███▏      | 16/51 [00:09<00:18,  1.87it/s]\u001b[A\n",
      " 33%|███▎      | 17/51 [00:09<00:18,  1.87it/s]\u001b[A\n",
      " 35%|███▌      | 18/51 [00:10<00:17,  1.87it/s]\u001b[A\n",
      " 37%|███▋      | 19/51 [00:10<00:17,  1.87it/s]\u001b[A\n",
      " 39%|███▉      | 20/51 [00:11<00:16,  1.88it/s]\u001b[A\n",
      " 41%|████      | 21/51 [00:11<00:16,  1.87it/s]\u001b[A\n",
      " 43%|████▎     | 22/51 [00:12<00:15,  1.88it/s]\u001b[A\n",
      " 45%|████▌     | 23/51 [00:12<00:14,  1.88it/s]\u001b[A\n",
      " 47%|████▋     | 24/51 [00:13<00:14,  1.88it/s]\u001b[A\n",
      " 49%|████▉     | 25/51 [00:13<00:13,  1.88it/s]\u001b[A\n",
      " 51%|█████     | 26/51 [00:14<00:13,  1.88it/s]\u001b[A\n",
      " 53%|█████▎    | 27/51 [00:14<00:12,  1.87it/s]\u001b[A\n",
      " 55%|█████▍    | 28/51 [00:15<00:12,  1.88it/s]\u001b[A\n",
      " 57%|█████▋    | 29/51 [00:15<00:11,  1.88it/s]\u001b[A\n",
      " 59%|█████▉    | 30/51 [00:16<00:11,  1.88it/s]\u001b[A\n",
      " 61%|██████    | 31/51 [00:17<00:10,  1.88it/s]\u001b[A\n",
      " 63%|██████▎   | 32/51 [00:17<00:10,  1.87it/s]\u001b[A\n",
      " 65%|██████▍   | 33/51 [00:18<00:09,  1.87it/s]\u001b[A\n",
      " 67%|██████▋   | 34/51 [00:18<00:09,  1.87it/s]\u001b[A\n",
      " 69%|██████▊   | 35/51 [00:19<00:08,  1.87it/s]\u001b[A\n",
      " 71%|███████   | 36/51 [00:19<00:08,  1.87it/s]\u001b[A\n",
      " 73%|███████▎  | 37/51 [00:20<00:07,  1.88it/s]\u001b[A\n",
      " 75%|███████▍  | 38/51 [00:20<00:06,  1.88it/s]\u001b[A\n",
      " 76%|███████▋  | 39/51 [00:21<00:06,  1.88it/s]\u001b[A\n",
      " 78%|███████▊  | 40/51 [00:21<00:05,  1.88it/s]\u001b[A\n",
      " 80%|████████  | 41/51 [00:22<00:05,  1.88it/s]\u001b[A\n",
      " 82%|████████▏ | 42/51 [00:22<00:04,  1.88it/s]\u001b[A\n",
      " 84%|████████▍ | 43/51 [00:23<00:04,  1.88it/s]\u001b[A\n",
      " 86%|████████▋ | 44/51 [00:23<00:03,  1.88it/s]\u001b[A\n",
      " 88%|████████▊ | 45/51 [00:24<00:03,  1.88it/s]\u001b[A\n",
      " 90%|█████████ | 46/51 [00:25<00:02,  1.88it/s]\u001b[A\n",
      " 92%|█████████▏| 47/51 [00:25<00:02,  1.88it/s]\u001b[A\n",
      " 94%|█████████▍| 48/51 [00:26<00:01,  1.88it/s]\u001b[A\n",
      " 96%|█████████▌| 49/51 [00:26<00:01,  1.88it/s]\u001b[A\n",
      " 98%|█████████▊| 50/51 [00:27<00:00,  1.88it/s]\u001b[A\n",
      "100%|██████████| 51/51 [00:27<00:00,  2.29it/s]\u001b[A\n",
      "  0%|          | 0/2 [00:00<?, ?it/s]\u001b[A"
     ]
    },
    {
     "name": "stdout",
     "output_type": "stream",
     "text": [
      "Completed training for epoch 62, testing validation dataset\n"
     ]
    },
    {
     "name": "stderr",
     "output_type": "stream",
     "text": [
      "\n",
      " 50%|█████     | 1/2 [00:00<00:00,  1.68it/s]\u001b[A\n",
      "100%|██████████| 2/2 [00:00<00:00,  2.16it/s]\u001b[A\n",
      "  0%|          | 0/2 [00:00<?, ?it/s]\u001b[A"
     ]
    },
    {
     "name": "stdout",
     "output_type": "stream",
     "text": [
      "loss: 0.38294318318367004\n",
      "top1acc: 87.7999267578125\n",
      "Completed testing validation dataset for epoch 62, testing training dataset\n"
     ]
    },
    {
     "name": "stderr",
     "output_type": "stream",
     "text": [
      "\n",
      " 50%|█████     | 1/2 [00:00<00:00,  1.66it/s]\u001b[A\n",
      " 52%|█████▎    | 63/120 [30:38<27:40, 29.13s/it]\n",
      "  0%|          | 0/51 [00:00<?, ?it/s]\u001b[A"
     ]
    },
    {
     "name": "stdout",
     "output_type": "stream",
     "text": [
      "loss: 0.19681884348392487\n",
      "top1acc: 94.19995880126953\n",
      "Completed testing training dataset for epoch 62\n",
      "Starting epoch 63\n"
     ]
    },
    {
     "name": "stderr",
     "output_type": "stream",
     "text": [
      "\n",
      "  2%|▏         | 1/51 [00:01<00:52,  1.06s/it]\u001b[A\n",
      "  4%|▍         | 2/51 [00:01<00:44,  1.11it/s]\u001b[A\n",
      "  6%|▌         | 3/51 [00:02<00:37,  1.27it/s]\u001b[A\n",
      "  8%|▊         | 4/51 [00:02<00:33,  1.40it/s]\u001b[A\n",
      " 10%|▉         | 5/51 [00:03<00:30,  1.52it/s]\u001b[A\n",
      " 12%|█▏        | 6/51 [00:03<00:27,  1.61it/s]\u001b[A\n",
      " 14%|█▎        | 7/51 [00:04<00:26,  1.68it/s]\u001b[A\n",
      " 16%|█▌        | 8/51 [00:04<00:24,  1.74it/s]\u001b[A\n",
      " 18%|█▊        | 9/51 [00:05<00:23,  1.78it/s]\u001b[A\n",
      " 20%|█▉        | 10/51 [00:05<00:22,  1.80it/s]\u001b[A\n",
      " 22%|██▏       | 11/51 [00:06<00:21,  1.83it/s]\u001b[A\n",
      " 24%|██▎       | 12/51 [00:06<00:21,  1.84it/s]\u001b[A\n",
      " 25%|██▌       | 13/51 [00:07<00:20,  1.85it/s]\u001b[A\n",
      " 27%|██▋       | 14/51 [00:07<00:19,  1.86it/s]\u001b[A\n",
      " 29%|██▉       | 15/51 [00:08<00:19,  1.86it/s]\u001b[A\n",
      " 31%|███▏      | 16/51 [00:09<00:18,  1.87it/s]\u001b[A\n",
      " 33%|███▎      | 17/51 [00:09<00:18,  1.87it/s]\u001b[A\n",
      " 35%|███▌      | 18/51 [00:10<00:17,  1.87it/s]\u001b[A\n",
      " 37%|███▋      | 19/51 [00:10<00:17,  1.87it/s]\u001b[A\n",
      " 39%|███▉      | 20/51 [00:11<00:16,  1.87it/s]\u001b[A\n",
      " 41%|████      | 21/51 [00:11<00:16,  1.87it/s]\u001b[A\n",
      " 43%|████▎     | 22/51 [00:12<00:15,  1.87it/s]\u001b[A\n",
      " 45%|████▌     | 23/51 [00:12<00:14,  1.87it/s]\u001b[A\n",
      " 47%|████▋     | 24/51 [00:13<00:14,  1.87it/s]\u001b[A\n",
      " 49%|████▉     | 25/51 [00:13<00:13,  1.87it/s]\u001b[A\n",
      " 51%|█████     | 26/51 [00:14<00:13,  1.87it/s]\u001b[A\n",
      " 53%|█████▎    | 27/51 [00:14<00:12,  1.87it/s]\u001b[A\n",
      " 55%|█████▍    | 28/51 [00:15<00:12,  1.87it/s]\u001b[A\n",
      " 57%|█████▋    | 29/51 [00:15<00:11,  1.87it/s]\u001b[A\n",
      " 59%|█████▉    | 30/51 [00:16<00:11,  1.87it/s]\u001b[A\n",
      " 61%|██████    | 31/51 [00:17<00:10,  1.87it/s]\u001b[A\n",
      " 63%|██████▎   | 32/51 [00:17<00:10,  1.87it/s]\u001b[A\n",
      " 65%|██████▍   | 33/51 [00:18<00:09,  1.87it/s]\u001b[A\n",
      " 67%|██████▋   | 34/51 [00:18<00:09,  1.87it/s]\u001b[A\n",
      " 69%|██████▊   | 35/51 [00:19<00:08,  1.87it/s]\u001b[A\n",
      " 71%|███████   | 36/51 [00:19<00:08,  1.87it/s]\u001b[A\n",
      " 73%|███████▎  | 37/51 [00:20<00:07,  1.87it/s]\u001b[A\n",
      " 75%|███████▍  | 38/51 [00:20<00:06,  1.88it/s]\u001b[A\n",
      " 76%|███████▋  | 39/51 [00:21<00:06,  1.88it/s]\u001b[A\n",
      " 78%|███████▊  | 40/51 [00:21<00:05,  1.87it/s]\u001b[A\n",
      " 80%|████████  | 41/51 [00:22<00:05,  1.87it/s]\u001b[A\n",
      " 82%|████████▏ | 42/51 [00:22<00:04,  1.87it/s]\u001b[A\n",
      " 84%|████████▍ | 43/51 [00:23<00:04,  1.87it/s]\u001b[A\n",
      " 86%|████████▋ | 44/51 [00:23<00:03,  1.88it/s]\u001b[A\n",
      " 88%|████████▊ | 45/51 [00:24<00:03,  1.88it/s]\u001b[A\n",
      " 90%|█████████ | 46/51 [00:25<00:02,  1.88it/s]\u001b[A\n",
      " 92%|█████████▏| 47/51 [00:25<00:02,  1.88it/s]\u001b[A\n",
      " 94%|█████████▍| 48/51 [00:26<00:01,  1.88it/s]\u001b[A\n",
      " 96%|█████████▌| 49/51 [00:26<00:01,  1.88it/s]\u001b[A\n",
      " 98%|█████████▊| 50/51 [00:27<00:00,  1.88it/s]\u001b[A\n",
      "100%|██████████| 51/51 [00:27<00:00,  2.29it/s]\u001b[A\n",
      "  0%|          | 0/2 [00:00<?, ?it/s]\u001b[A"
     ]
    },
    {
     "name": "stdout",
     "output_type": "stream",
     "text": [
      "Completed training for epoch 63, testing validation dataset\n"
     ]
    },
    {
     "name": "stderr",
     "output_type": "stream",
     "text": [
      "\n",
      " 50%|█████     | 1/2 [00:00<00:00,  1.63it/s]\u001b[A\n",
      "100%|██████████| 2/2 [00:00<00:00,  2.10it/s]\u001b[A\n",
      "  0%|          | 0/2 [00:00<?, ?it/s]\u001b[A"
     ]
    },
    {
     "name": "stdout",
     "output_type": "stream",
     "text": [
      "loss: 0.3836655616760254\n",
      "top1acc: 88.39993286132812\n",
      "Completed testing validation dataset for epoch 63, testing training dataset\n"
     ]
    },
    {
     "name": "stderr",
     "output_type": "stream",
     "text": [
      "\n",
      " 50%|█████     | 1/2 [00:00<00:00,  1.72it/s]\u001b[A\n",
      " 53%|█████▎    | 64/120 [31:07<27:11, 29.14s/it]\n",
      "  0%|          | 0/51 [00:00<?, ?it/s]\u001b[A"
     ]
    },
    {
     "name": "stdout",
     "output_type": "stream",
     "text": [
      "loss: 0.20196741819381714\n",
      "top1acc: 94.19994354248047\n",
      "Completed testing training dataset for epoch 63\n",
      "Starting epoch 64\n"
     ]
    },
    {
     "name": "stderr",
     "output_type": "stream",
     "text": [
      "\n",
      "  2%|▏         | 1/51 [00:01<00:52,  1.06s/it]\u001b[A\n",
      "  4%|▍         | 2/51 [00:01<00:44,  1.11it/s]\u001b[A\n",
      "  6%|▌         | 3/51 [00:02<00:37,  1.27it/s]\u001b[A\n",
      "  8%|▊         | 4/51 [00:02<00:33,  1.40it/s]\u001b[A\n",
      " 10%|▉         | 5/51 [00:03<00:30,  1.52it/s]\u001b[A\n",
      " 12%|█▏        | 6/51 [00:03<00:28,  1.60it/s]\u001b[A\n",
      " 14%|█▎        | 7/51 [00:04<00:26,  1.68it/s]\u001b[A\n",
      " 16%|█▌        | 8/51 [00:04<00:24,  1.73it/s]\u001b[A\n",
      " 18%|█▊        | 9/51 [00:05<00:23,  1.77it/s]\u001b[A\n",
      " 20%|█▉        | 10/51 [00:05<00:22,  1.80it/s]\u001b[A\n",
      " 22%|██▏       | 11/51 [00:06<00:21,  1.82it/s]\u001b[A\n",
      " 24%|██▎       | 12/51 [00:06<00:21,  1.84it/s]\u001b[A\n",
      " 25%|██▌       | 13/51 [00:07<00:20,  1.85it/s]\u001b[A\n",
      " 27%|██▋       | 14/51 [00:07<00:19,  1.86it/s]\u001b[A\n",
      " 29%|██▉       | 15/51 [00:08<00:19,  1.86it/s]\u001b[A\n",
      " 31%|███▏      | 16/51 [00:09<00:18,  1.87it/s]\u001b[A\n",
      " 33%|███▎      | 17/51 [00:09<00:18,  1.87it/s]\u001b[A\n",
      " 35%|███▌      | 18/51 [00:10<00:17,  1.87it/s]\u001b[A\n",
      " 37%|███▋      | 19/51 [00:10<00:17,  1.87it/s]\u001b[A\n",
      " 39%|███▉      | 20/51 [00:11<00:16,  1.88it/s]\u001b[A\n",
      " 41%|████      | 21/51 [00:11<00:15,  1.88it/s]\u001b[A\n",
      " 43%|████▎     | 22/51 [00:12<00:15,  1.87it/s]\u001b[A\n",
      " 45%|████▌     | 23/51 [00:12<00:14,  1.87it/s]\u001b[A\n",
      " 47%|████▋     | 24/51 [00:13<00:14,  1.87it/s]\u001b[A\n",
      " 49%|████▉     | 25/51 [00:13<00:13,  1.87it/s]\u001b[A\n",
      " 51%|█████     | 26/51 [00:14<00:13,  1.87it/s]\u001b[A\n",
      " 53%|█████▎    | 27/51 [00:14<00:12,  1.87it/s]\u001b[A\n",
      " 55%|█████▍    | 28/51 [00:15<00:12,  1.88it/s]\u001b[A\n",
      " 57%|█████▋    | 29/51 [00:15<00:11,  1.88it/s]\u001b[A\n",
      " 59%|█████▉    | 30/51 [00:16<00:11,  1.88it/s]\u001b[A\n",
      " 61%|██████    | 31/51 [00:17<00:10,  1.87it/s]\u001b[A\n",
      " 63%|██████▎   | 32/51 [00:17<00:10,  1.87it/s]\u001b[A\n",
      " 65%|██████▍   | 33/51 [00:18<00:09,  1.88it/s]\u001b[A\n",
      " 67%|██████▋   | 34/51 [00:18<00:09,  1.88it/s]\u001b[A\n",
      " 69%|██████▊   | 35/51 [00:19<00:08,  1.88it/s]\u001b[A\n",
      " 71%|███████   | 36/51 [00:19<00:07,  1.88it/s]\u001b[A\n",
      " 73%|███████▎  | 37/51 [00:20<00:07,  1.87it/s]\u001b[A\n",
      " 75%|███████▍  | 38/51 [00:20<00:06,  1.88it/s]\u001b[A\n",
      " 76%|███████▋  | 39/51 [00:21<00:06,  1.87it/s]\u001b[A\n",
      " 78%|███████▊  | 40/51 [00:21<00:05,  1.88it/s]\u001b[A\n",
      " 80%|████████  | 41/51 [00:22<00:05,  1.88it/s]\u001b[A\n",
      " 82%|████████▏ | 42/51 [00:22<00:04,  1.88it/s]\u001b[A\n",
      " 84%|████████▍ | 43/51 [00:23<00:04,  1.87it/s]\u001b[A\n",
      " 86%|████████▋ | 44/51 [00:23<00:03,  1.88it/s]\u001b[A\n",
      " 88%|████████▊ | 45/51 [00:24<00:03,  1.88it/s]\u001b[A\n",
      " 90%|█████████ | 46/51 [00:25<00:02,  1.88it/s]\u001b[A\n",
      " 92%|█████████▏| 47/51 [00:25<00:02,  1.88it/s]\u001b[A\n",
      " 94%|█████████▍| 48/51 [00:26<00:01,  1.88it/s]\u001b[A\n",
      " 96%|█████████▌| 49/51 [00:26<00:01,  1.88it/s]\u001b[A\n",
      " 98%|█████████▊| 50/51 [00:27<00:00,  1.87it/s]\u001b[A\n",
      "100%|██████████| 51/51 [00:27<00:00,  2.28it/s]\u001b[A\n",
      "  0%|          | 0/2 [00:00<?, ?it/s]\u001b[A"
     ]
    },
    {
     "name": "stdout",
     "output_type": "stream",
     "text": [
      "Completed training for epoch 64, testing validation dataset\n"
     ]
    },
    {
     "name": "stderr",
     "output_type": "stream",
     "text": [
      "\n",
      " 50%|█████     | 1/2 [00:00<00:00,  1.64it/s]\u001b[A\n",
      "100%|██████████| 2/2 [00:00<00:00,  2.11it/s]\u001b[A\n",
      "  0%|          | 0/2 [00:00<?, ?it/s]\u001b[A"
     ]
    },
    {
     "name": "stdout",
     "output_type": "stream",
     "text": [
      "loss: 0.3928786814212799\n",
      "top1acc: 88.59994506835938\n",
      "Completed testing validation dataset for epoch 64, testing training dataset\n"
     ]
    },
    {
     "name": "stderr",
     "output_type": "stream",
     "text": [
      "\n",
      " 50%|█████     | 1/2 [00:00<00:00,  1.74it/s]\u001b[A\n",
      " 54%|█████▍    | 65/120 [31:36<26:42, 29.14s/it]\n",
      "  0%|          | 0/51 [00:00<?, ?it/s]\u001b[A"
     ]
    },
    {
     "name": "stdout",
     "output_type": "stream",
     "text": [
      "loss: 0.2070450335741043\n",
      "top1acc: 93.79995727539062\n",
      "Completed testing training dataset for epoch 64\n",
      "Starting epoch 65\n"
     ]
    },
    {
     "name": "stderr",
     "output_type": "stream",
     "text": [
      "\n",
      "  2%|▏         | 1/51 [00:01<00:51,  1.03s/it]\u001b[A\n",
      "  4%|▍         | 2/51 [00:01<00:43,  1.14it/s]\u001b[A\n",
      "  6%|▌         | 3/51 [00:02<00:37,  1.29it/s]\u001b[A\n",
      "  8%|▊         | 4/51 [00:02<00:32,  1.42it/s]\u001b[A\n",
      " 10%|▉         | 5/51 [00:03<00:29,  1.54it/s]\u001b[A\n",
      " 12%|█▏        | 6/51 [00:03<00:27,  1.62it/s]\u001b[A\n",
      " 14%|█▎        | 7/51 [00:04<00:25,  1.69it/s]\u001b[A\n",
      " 16%|█▌        | 8/51 [00:04<00:24,  1.75it/s]\u001b[A\n",
      " 18%|█▊        | 9/51 [00:05<00:23,  1.78it/s]\u001b[A\n",
      " 20%|█▉        | 10/51 [00:05<00:22,  1.81it/s]\u001b[A\n",
      " 22%|██▏       | 11/51 [00:06<00:21,  1.83it/s]\u001b[A\n",
      " 24%|██▎       | 12/51 [00:06<00:21,  1.84it/s]\u001b[A\n",
      " 25%|██▌       | 13/51 [00:07<00:20,  1.85it/s]\u001b[A\n",
      " 27%|██▋       | 14/51 [00:07<00:19,  1.86it/s]\u001b[A\n",
      " 29%|██▉       | 15/51 [00:08<00:19,  1.87it/s]\u001b[A\n",
      " 31%|███▏      | 16/51 [00:09<00:18,  1.87it/s]\u001b[A\n",
      " 33%|███▎      | 17/51 [00:09<00:18,  1.87it/s]\u001b[A\n",
      " 35%|███▌      | 18/51 [00:10<00:17,  1.87it/s]\u001b[A\n",
      " 37%|███▋      | 19/51 [00:10<00:17,  1.87it/s]\u001b[A\n",
      " 39%|███▉      | 20/51 [00:11<00:16,  1.87it/s]\u001b[A\n",
      " 41%|████      | 21/51 [00:11<00:16,  1.87it/s]\u001b[A\n",
      " 43%|████▎     | 22/51 [00:12<00:15,  1.87it/s]\u001b[A\n",
      " 45%|████▌     | 23/51 [00:12<00:14,  1.87it/s]\u001b[A\n",
      " 47%|████▋     | 24/51 [00:13<00:14,  1.87it/s]\u001b[A\n",
      " 49%|████▉     | 25/51 [00:13<00:13,  1.88it/s]\u001b[A\n",
      " 51%|█████     | 26/51 [00:14<00:13,  1.88it/s]\u001b[A\n",
      " 53%|█████▎    | 27/51 [00:14<00:12,  1.87it/s]\u001b[A\n",
      " 55%|█████▍    | 28/51 [00:15<00:12,  1.87it/s]\u001b[A\n",
      " 57%|█████▋    | 29/51 [00:15<00:11,  1.88it/s]\u001b[A\n",
      " 59%|█████▉    | 30/51 [00:16<00:11,  1.88it/s]\u001b[A\n",
      " 61%|██████    | 31/51 [00:17<00:10,  1.88it/s]\u001b[A\n",
      " 63%|██████▎   | 32/51 [00:17<00:10,  1.88it/s]\u001b[A\n",
      " 65%|██████▍   | 33/51 [00:18<00:09,  1.88it/s]\u001b[A\n",
      " 67%|██████▋   | 34/51 [00:18<00:09,  1.88it/s]\u001b[A\n",
      " 69%|██████▊   | 35/51 [00:19<00:08,  1.88it/s]\u001b[A\n",
      " 71%|███████   | 36/51 [00:19<00:07,  1.88it/s]\u001b[A\n",
      " 73%|███████▎  | 37/51 [00:20<00:07,  1.88it/s]\u001b[A\n",
      " 75%|███████▍  | 38/51 [00:20<00:06,  1.88it/s]\u001b[A\n",
      " 76%|███████▋  | 39/51 [00:21<00:06,  1.88it/s]\u001b[A\n",
      " 78%|███████▊  | 40/51 [00:21<00:05,  1.87it/s]\u001b[A\n",
      " 80%|████████  | 41/51 [00:22<00:05,  1.86it/s]\u001b[A\n",
      " 82%|████████▏ | 42/51 [00:22<00:04,  1.87it/s]\u001b[A\n",
      " 84%|████████▍ | 43/51 [00:23<00:04,  1.87it/s]\u001b[A\n",
      " 86%|████████▋ | 44/51 [00:23<00:03,  1.87it/s]\u001b[A\n",
      " 88%|████████▊ | 45/51 [00:24<00:03,  1.87it/s]\u001b[A\n",
      " 90%|█████████ | 46/51 [00:25<00:02,  1.87it/s]\u001b[A\n",
      " 92%|█████████▏| 47/51 [00:25<00:02,  1.88it/s]\u001b[A\n",
      " 94%|█████████▍| 48/51 [00:26<00:01,  1.88it/s]\u001b[A\n",
      " 96%|█████████▌| 49/51 [00:26<00:01,  1.88it/s]\u001b[A\n",
      " 98%|█████████▊| 50/51 [00:27<00:00,  1.88it/s]\u001b[A\n",
      "100%|██████████| 51/51 [00:27<00:00,  2.29it/s]\u001b[A\n",
      "  0%|          | 0/2 [00:00<?, ?it/s]\u001b[A"
     ]
    },
    {
     "name": "stdout",
     "output_type": "stream",
     "text": [
      "Completed training for epoch 65, testing validation dataset\n"
     ]
    },
    {
     "name": "stderr",
     "output_type": "stream",
     "text": [
      "\n",
      " 50%|█████     | 1/2 [00:00<00:00,  1.67it/s]\u001b[A\n",
      "100%|██████████| 2/2 [00:00<00:00,  2.15it/s]\u001b[A\n",
      "  0%|          | 0/2 [00:00<?, ?it/s]\u001b[A"
     ]
    },
    {
     "name": "stdout",
     "output_type": "stream",
     "text": [
      "loss: 0.38105136156082153\n",
      "top1acc: 87.20006561279297\n",
      "Completed testing validation dataset for epoch 65, testing training dataset\n"
     ]
    },
    {
     "name": "stderr",
     "output_type": "stream",
     "text": [
      "\n",
      " 50%|█████     | 1/2 [00:00<00:00,  1.59it/s]\u001b[A\n",
      " 55%|█████▌    | 66/120 [32:05<26:13, 29.14s/it]\n",
      "  0%|          | 0/51 [00:00<?, ?it/s]\u001b[A"
     ]
    },
    {
     "name": "stdout",
     "output_type": "stream",
     "text": [
      "loss: 0.2093859165906906\n",
      "top1acc: 92.7999496459961\n",
      "Completed testing training dataset for epoch 65\n",
      "Starting epoch 66\n"
     ]
    },
    {
     "name": "stderr",
     "output_type": "stream",
     "text": [
      "\n",
      "  2%|▏         | 1/51 [00:01<00:51,  1.03s/it]\u001b[A\n",
      "  4%|▍         | 2/51 [00:01<00:43,  1.13it/s]\u001b[A\n",
      "  6%|▌         | 3/51 [00:02<00:37,  1.29it/s]\u001b[A\n",
      "  8%|▊         | 4/51 [00:02<00:33,  1.42it/s]\u001b[A\n",
      " 10%|▉         | 5/51 [00:03<00:30,  1.53it/s]\u001b[A\n",
      " 12%|█▏        | 6/51 [00:03<00:27,  1.62it/s]\u001b[A\n",
      " 14%|█▎        | 7/51 [00:04<00:26,  1.69it/s]\u001b[A\n",
      " 16%|█▌        | 8/51 [00:04<00:24,  1.75it/s]\u001b[A\n",
      " 18%|█▊        | 9/51 [00:05<00:23,  1.78it/s]\u001b[A\n",
      " 20%|█▉        | 10/51 [00:05<00:22,  1.81it/s]\u001b[A\n",
      " 22%|██▏       | 11/51 [00:06<00:21,  1.83it/s]\u001b[A\n",
      " 24%|██▎       | 12/51 [00:06<00:21,  1.84it/s]\u001b[A\n",
      " 25%|██▌       | 13/51 [00:07<00:20,  1.85it/s]\u001b[A\n",
      " 27%|██▋       | 14/51 [00:07<00:19,  1.86it/s]\u001b[A\n",
      " 29%|██▉       | 15/51 [00:08<00:19,  1.87it/s]\u001b[A\n",
      " 31%|███▏      | 16/51 [00:09<00:18,  1.87it/s]\u001b[A\n",
      " 33%|███▎      | 17/51 [00:09<00:18,  1.87it/s]\u001b[A\n",
      " 35%|███▌      | 18/51 [00:10<00:17,  1.87it/s]\u001b[A\n",
      " 37%|███▋      | 19/51 [00:10<00:17,  1.88it/s]\u001b[A\n",
      " 39%|███▉      | 20/51 [00:11<00:16,  1.88it/s]\u001b[A\n",
      " 41%|████      | 21/51 [00:11<00:15,  1.88it/s]\u001b[A\n",
      " 43%|████▎     | 22/51 [00:12<00:15,  1.88it/s]\u001b[A\n",
      " 45%|████▌     | 23/51 [00:12<00:14,  1.88it/s]\u001b[A\n",
      " 47%|████▋     | 24/51 [00:13<00:14,  1.88it/s]\u001b[A\n",
      " 49%|████▉     | 25/51 [00:13<00:13,  1.88it/s]\u001b[A\n",
      " 51%|█████     | 26/51 [00:14<00:13,  1.88it/s]\u001b[A\n",
      " 53%|█████▎    | 27/51 [00:14<00:12,  1.88it/s]\u001b[A\n",
      " 55%|█████▍    | 28/51 [00:15<00:12,  1.88it/s]\u001b[A\n",
      " 57%|█████▋    | 29/51 [00:15<00:11,  1.88it/s]\u001b[A\n",
      " 59%|█████▉    | 30/51 [00:16<00:11,  1.88it/s]\u001b[A\n",
      " 61%|██████    | 31/51 [00:17<00:10,  1.88it/s]\u001b[A\n",
      " 63%|██████▎   | 32/51 [00:17<00:10,  1.88it/s]\u001b[A\n",
      " 65%|██████▍   | 33/51 [00:18<00:09,  1.88it/s]\u001b[A\n",
      " 67%|██████▋   | 34/51 [00:18<00:09,  1.88it/s]\u001b[A\n",
      " 69%|██████▊   | 35/51 [00:19<00:08,  1.88it/s]\u001b[A\n",
      " 71%|███████   | 36/51 [00:19<00:07,  1.88it/s]\u001b[A\n",
      " 73%|███████▎  | 37/51 [00:20<00:07,  1.88it/s]\u001b[A\n",
      " 75%|███████▍  | 38/51 [00:20<00:06,  1.88it/s]\u001b[A\n",
      " 76%|███████▋  | 39/51 [00:21<00:06,  1.88it/s]\u001b[A\n",
      " 78%|███████▊  | 40/51 [00:21<00:05,  1.88it/s]\u001b[A\n",
      " 80%|████████  | 41/51 [00:22<00:05,  1.88it/s]\u001b[A\n",
      " 82%|████████▏ | 42/51 [00:22<00:04,  1.88it/s]\u001b[A\n",
      " 84%|████████▍ | 43/51 [00:23<00:04,  1.88it/s]\u001b[A\n",
      " 86%|████████▋ | 44/51 [00:23<00:03,  1.88it/s]\u001b[A\n",
      " 88%|████████▊ | 45/51 [00:24<00:03,  1.88it/s]\u001b[A\n",
      " 90%|█████████ | 46/51 [00:25<00:02,  1.88it/s]\u001b[A\n",
      " 92%|█████████▏| 47/51 [00:25<00:02,  1.88it/s]\u001b[A\n",
      " 94%|█████████▍| 48/51 [00:26<00:01,  1.88it/s]\u001b[A\n",
      " 96%|█████████▌| 49/51 [00:26<00:01,  1.88it/s]\u001b[A\n",
      " 98%|█████████▊| 50/51 [00:27<00:00,  1.88it/s]\u001b[A\n",
      "100%|██████████| 51/51 [00:27<00:00,  2.29it/s]\u001b[A\n",
      "  0%|          | 0/2 [00:00<?, ?it/s]\u001b[A"
     ]
    },
    {
     "name": "stdout",
     "output_type": "stream",
     "text": [
      "Completed training for epoch 66, testing validation dataset\n"
     ]
    },
    {
     "name": "stderr",
     "output_type": "stream",
     "text": [
      "\n",
      " 50%|█████     | 1/2 [00:00<00:00,  1.65it/s]\u001b[A\n",
      "100%|██████████| 2/2 [00:00<00:00,  2.12it/s]\u001b[A\n",
      "  0%|          | 0/2 [00:00<?, ?it/s]\u001b[A"
     ]
    },
    {
     "name": "stdout",
     "output_type": "stream",
     "text": [
      "loss: 0.3828638195991516\n",
      "top1acc: 88.39994049072266\n",
      "Completed testing validation dataset for epoch 66, testing training dataset\n"
     ]
    },
    {
     "name": "stderr",
     "output_type": "stream",
     "text": [
      "\n",
      " 50%|█████     | 1/2 [00:00<00:00,  1.69it/s]\u001b[A\n",
      " 56%|█████▌    | 67/120 [32:34<25:43, 29.13s/it]\n",
      "  0%|          | 0/51 [00:00<?, ?it/s]\u001b[A"
     ]
    },
    {
     "name": "stdout",
     "output_type": "stream",
     "text": [
      "loss: 0.19363835453987122\n",
      "top1acc: 93.59994506835938\n",
      "Completed testing training dataset for epoch 66\n",
      "Starting epoch 67\n"
     ]
    },
    {
     "name": "stderr",
     "output_type": "stream",
     "text": [
      "\n",
      "  2%|▏         | 1/51 [00:01<00:51,  1.03s/it]\u001b[A\n",
      "  4%|▍         | 2/51 [00:01<00:43,  1.13it/s]\u001b[A\n",
      "  6%|▌         | 3/51 [00:02<00:37,  1.29it/s]\u001b[A\n",
      "  8%|▊         | 4/51 [00:02<00:33,  1.42it/s]\u001b[A\n",
      " 10%|▉         | 5/51 [00:03<00:30,  1.53it/s]\u001b[A\n",
      " 12%|█▏        | 6/51 [00:03<00:27,  1.62it/s]\u001b[A\n",
      " 14%|█▎        | 7/51 [00:04<00:25,  1.69it/s]\u001b[A\n",
      " 16%|█▌        | 8/51 [00:04<00:24,  1.75it/s]\u001b[A\n",
      " 18%|█▊        | 9/51 [00:05<00:23,  1.78it/s]\u001b[A\n",
      " 20%|█▉        | 10/51 [00:05<00:22,  1.81it/s]\u001b[A\n",
      " 22%|██▏       | 11/51 [00:06<00:21,  1.83it/s]\u001b[A\n",
      " 24%|██▎       | 12/51 [00:06<00:21,  1.84it/s]\u001b[A\n",
      " 25%|██▌       | 13/51 [00:07<00:20,  1.85it/s]\u001b[A\n",
      " 27%|██▋       | 14/51 [00:07<00:19,  1.86it/s]\u001b[A\n",
      " 29%|██▉       | 15/51 [00:08<00:19,  1.86it/s]\u001b[A\n",
      " 31%|███▏      | 16/51 [00:09<00:18,  1.87it/s]\u001b[A\n",
      " 33%|███▎      | 17/51 [00:09<00:18,  1.87it/s]\u001b[A\n",
      " 35%|███▌      | 18/51 [00:10<00:17,  1.87it/s]\u001b[A\n",
      " 37%|███▋      | 19/51 [00:10<00:17,  1.87it/s]\u001b[A\n",
      " 39%|███▉      | 20/51 [00:11<00:16,  1.88it/s]\u001b[A\n",
      " 41%|████      | 21/51 [00:11<00:15,  1.88it/s]\u001b[A\n",
      " 43%|████▎     | 22/51 [00:12<00:15,  1.88it/s]\u001b[A\n",
      " 45%|████▌     | 23/51 [00:12<00:14,  1.87it/s]\u001b[A\n",
      " 47%|████▋     | 24/51 [00:13<00:14,  1.87it/s]\u001b[A\n",
      " 49%|████▉     | 25/51 [00:13<00:13,  1.88it/s]\u001b[A\n",
      " 51%|█████     | 26/51 [00:14<00:13,  1.88it/s]\u001b[A\n",
      " 53%|█████▎    | 27/51 [00:14<00:12,  1.87it/s]\u001b[A\n",
      " 55%|█████▍    | 28/51 [00:15<00:12,  1.87it/s]\u001b[A\n",
      " 57%|█████▋    | 29/51 [00:15<00:11,  1.87it/s]\u001b[A\n",
      " 59%|█████▉    | 30/51 [00:16<00:11,  1.87it/s]\u001b[A\n",
      " 61%|██████    | 31/51 [00:17<00:10,  1.87it/s]\u001b[A\n",
      " 63%|██████▎   | 32/51 [00:17<00:10,  1.87it/s]\u001b[A\n",
      " 65%|██████▍   | 33/51 [00:18<00:09,  1.88it/s]\u001b[A\n",
      " 67%|██████▋   | 34/51 [00:18<00:09,  1.88it/s]\u001b[A\n",
      " 69%|██████▊   | 35/51 [00:19<00:08,  1.88it/s]\u001b[A\n",
      " 71%|███████   | 36/51 [00:19<00:08,  1.87it/s]\u001b[A\n",
      " 73%|███████▎  | 37/51 [00:20<00:07,  1.87it/s]\u001b[A\n",
      " 75%|███████▍  | 38/51 [00:20<00:06,  1.87it/s]\u001b[A\n",
      " 76%|███████▋  | 39/51 [00:21<00:06,  1.88it/s]\u001b[A\n",
      " 78%|███████▊  | 40/51 [00:21<00:05,  1.88it/s]\u001b[A\n",
      " 80%|████████  | 41/51 [00:22<00:05,  1.88it/s]\u001b[A\n",
      " 82%|████████▏ | 42/51 [00:22<00:04,  1.87it/s]\u001b[A\n",
      " 84%|████████▍ | 43/51 [00:23<00:04,  1.87it/s]\u001b[A\n",
      " 86%|████████▋ | 44/51 [00:23<00:03,  1.88it/s]\u001b[A\n",
      " 88%|████████▊ | 45/51 [00:24<00:03,  1.88it/s]\u001b[A\n",
      " 90%|█████████ | 46/51 [00:25<00:02,  1.88it/s]\u001b[A\n",
      " 92%|█████████▏| 47/51 [00:25<00:02,  1.88it/s]\u001b[A\n",
      " 94%|█████████▍| 48/51 [00:26<00:01,  1.88it/s]\u001b[A\n",
      " 96%|█████████▌| 49/51 [00:26<00:01,  1.88it/s]\u001b[A\n",
      " 98%|█████████▊| 50/51 [00:27<00:00,  1.88it/s]\u001b[A\n",
      "100%|██████████| 51/51 [00:27<00:00,  2.29it/s]\u001b[A\n",
      "  0%|          | 0/2 [00:00<?, ?it/s]\u001b[A"
     ]
    },
    {
     "name": "stdout",
     "output_type": "stream",
     "text": [
      "Completed training for epoch 67, testing validation dataset\n"
     ]
    },
    {
     "name": "stderr",
     "output_type": "stream",
     "text": [
      "\n",
      " 50%|█████     | 1/2 [00:00<00:00,  1.63it/s]\u001b[A\n",
      "100%|██████████| 2/2 [00:00<00:00,  2.10it/s]\u001b[A\n",
      "  0%|          | 0/2 [00:00<?, ?it/s]\u001b[A"
     ]
    },
    {
     "name": "stdout",
     "output_type": "stream",
     "text": [
      "loss: 0.3754747807979584\n",
      "top1acc: 88.59992980957031\n",
      "Completed testing validation dataset for epoch 67, testing training dataset\n"
     ]
    },
    {
     "name": "stderr",
     "output_type": "stream",
     "text": [
      "\n",
      " 50%|█████     | 1/2 [00:00<00:00,  1.65it/s]\u001b[A\n",
      " 57%|█████▋    | 68/120 [33:04<25:14, 29.13s/it]\n",
      "  0%|          | 0/51 [00:00<?, ?it/s]\u001b[A"
     ]
    },
    {
     "name": "stdout",
     "output_type": "stream",
     "text": [
      "loss: 0.20335723459720612\n",
      "top1acc: 92.99991607666016\n",
      "Completed testing training dataset for epoch 67\n",
      "Starting epoch 68\n"
     ]
    },
    {
     "name": "stderr",
     "output_type": "stream",
     "text": [
      "\n",
      "  2%|▏         | 1/51 [00:01<00:52,  1.06s/it]\u001b[A\n",
      "  4%|▍         | 2/51 [00:01<00:44,  1.11it/s]\u001b[A\n",
      "  6%|▌         | 3/51 [00:02<00:37,  1.26it/s]\u001b[A\n",
      "  8%|▊         | 4/51 [00:02<00:33,  1.40it/s]\u001b[A\n",
      " 10%|▉         | 5/51 [00:03<00:30,  1.52it/s]\u001b[A\n",
      " 12%|█▏        | 6/51 [00:03<00:27,  1.61it/s]\u001b[A\n",
      " 14%|█▎        | 7/51 [00:04<00:26,  1.68it/s]\u001b[A\n",
      " 16%|█▌        | 8/51 [00:04<00:24,  1.74it/s]\u001b[A\n",
      " 18%|█▊        | 9/51 [00:05<00:23,  1.78it/s]\u001b[A\n",
      " 20%|█▉        | 10/51 [00:05<00:22,  1.81it/s]\u001b[A\n",
      " 22%|██▏       | 11/51 [00:06<00:21,  1.82it/s]\u001b[A\n",
      " 24%|██▎       | 12/51 [00:06<00:21,  1.84it/s]\u001b[A\n",
      " 25%|██▌       | 13/51 [00:07<00:20,  1.85it/s]\u001b[A\n",
      " 27%|██▋       | 14/51 [00:07<00:19,  1.86it/s]\u001b[A\n",
      " 29%|██▉       | 15/51 [00:08<00:19,  1.86it/s]\u001b[A\n",
      " 31%|███▏      | 16/51 [00:09<00:18,  1.87it/s]\u001b[A\n",
      " 33%|███▎      | 17/51 [00:09<00:18,  1.87it/s]\u001b[A\n",
      " 35%|███▌      | 18/51 [00:10<00:17,  1.87it/s]\u001b[A\n",
      " 37%|███▋      | 19/51 [00:10<00:17,  1.87it/s]\u001b[A\n",
      " 39%|███▉      | 20/51 [00:11<00:16,  1.87it/s]\u001b[A\n",
      " 41%|████      | 21/51 [00:11<00:16,  1.87it/s]\u001b[A\n",
      " 43%|████▎     | 22/51 [00:12<00:15,  1.87it/s]\u001b[A\n",
      " 45%|████▌     | 23/51 [00:12<00:14,  1.87it/s]\u001b[A\n",
      " 47%|████▋     | 24/51 [00:13<00:14,  1.87it/s]\u001b[A\n",
      " 49%|████▉     | 25/51 [00:13<00:13,  1.87it/s]\u001b[A\n",
      " 51%|█████     | 26/51 [00:14<00:13,  1.87it/s]\u001b[A\n",
      " 53%|█████▎    | 27/51 [00:14<00:12,  1.87it/s]\u001b[A\n",
      " 55%|█████▍    | 28/51 [00:15<00:12,  1.87it/s]\u001b[A\n",
      " 57%|█████▋    | 29/51 [00:15<00:11,  1.87it/s]\u001b[A\n",
      " 59%|█████▉    | 30/51 [00:16<00:11,  1.87it/s]\u001b[A\n",
      " 61%|██████    | 31/51 [00:17<00:10,  1.87it/s]\u001b[A\n",
      " 63%|██████▎   | 32/51 [00:17<00:10,  1.87it/s]\u001b[A\n",
      " 65%|██████▍   | 33/51 [00:18<00:09,  1.87it/s]\u001b[A\n",
      " 67%|██████▋   | 34/51 [00:18<00:09,  1.87it/s]\u001b[A\n",
      " 69%|██████▊   | 35/51 [00:19<00:08,  1.87it/s]\u001b[A\n",
      " 71%|███████   | 36/51 [00:19<00:08,  1.87it/s]\u001b[A\n",
      " 73%|███████▎  | 37/51 [00:20<00:07,  1.87it/s]\u001b[A\n",
      " 75%|███████▍  | 38/51 [00:20<00:06,  1.87it/s]\u001b[A\n",
      " 76%|███████▋  | 39/51 [00:21<00:06,  1.87it/s]\u001b[A\n",
      " 78%|███████▊  | 40/51 [00:21<00:05,  1.87it/s]\u001b[A\n",
      " 80%|████████  | 41/51 [00:22<00:05,  1.87it/s]\u001b[A\n",
      " 82%|████████▏ | 42/51 [00:22<00:04,  1.87it/s]\u001b[A\n",
      " 84%|████████▍ | 43/51 [00:23<00:04,  1.87it/s]\u001b[A\n",
      " 86%|████████▋ | 44/51 [00:24<00:03,  1.88it/s]\u001b[A\n",
      " 88%|████████▊ | 45/51 [00:24<00:03,  1.88it/s]\u001b[A\n",
      " 90%|█████████ | 46/51 [00:25<00:02,  1.88it/s]\u001b[A\n",
      " 92%|█████████▏| 47/51 [00:25<00:02,  1.88it/s]\u001b[A\n",
      " 94%|█████████▍| 48/51 [00:26<00:01,  1.88it/s]\u001b[A\n",
      " 96%|█████████▌| 49/51 [00:26<00:01,  1.88it/s]\u001b[A\n",
      " 98%|█████████▊| 50/51 [00:27<00:00,  1.88it/s]\u001b[A\n",
      "100%|██████████| 51/51 [00:27<00:00,  2.29it/s]\u001b[A\n",
      "  0%|          | 0/2 [00:00<?, ?it/s]\u001b[A"
     ]
    },
    {
     "name": "stdout",
     "output_type": "stream",
     "text": [
      "Completed training for epoch 68, testing validation dataset\n"
     ]
    },
    {
     "name": "stderr",
     "output_type": "stream",
     "text": [
      "\n",
      " 50%|█████     | 1/2 [00:00<00:00,  1.64it/s]\u001b[A\n",
      "100%|██████████| 2/2 [00:00<00:00,  2.10it/s]\u001b[A\n",
      "  0%|          | 0/2 [00:00<?, ?it/s]\u001b[A"
     ]
    },
    {
     "name": "stdout",
     "output_type": "stream",
     "text": [
      "loss: 0.38460686802864075\n",
      "top1acc: 88.79994201660156\n",
      "Completed testing validation dataset for epoch 68, testing training dataset\n"
     ]
    },
    {
     "name": "stderr",
     "output_type": "stream",
     "text": [
      "\n",
      " 50%|█████     | 1/2 [00:00<00:00,  1.62it/s]\u001b[A\n",
      " 57%|█████▊    | 69/120 [33:33<24:46, 29.15s/it]\n",
      "  0%|          | 0/51 [00:00<?, ?it/s]\u001b[A"
     ]
    },
    {
     "name": "stdout",
     "output_type": "stream",
     "text": [
      "loss: 0.19496190547943115\n",
      "top1acc: 93.9999771118164\n",
      "Completed testing training dataset for epoch 68\n",
      "Starting epoch 69\n"
     ]
    },
    {
     "name": "stderr",
     "output_type": "stream",
     "text": [
      "\n",
      "  2%|▏         | 1/51 [00:01<00:51,  1.02s/it]\u001b[A\n",
      "  4%|▍         | 2/51 [00:01<00:42,  1.14it/s]\u001b[A\n",
      "  6%|▌         | 3/51 [00:02<00:37,  1.29it/s]\u001b[A\n",
      "  8%|▊         | 4/51 [00:02<00:32,  1.43it/s]\u001b[A\n",
      " 10%|▉         | 5/51 [00:03<00:29,  1.54it/s]\u001b[A\n",
      " 12%|█▏        | 6/51 [00:03<00:27,  1.62it/s]\u001b[A\n",
      " 14%|█▎        | 7/51 [00:04<00:26,  1.69it/s]\u001b[A\n",
      " 16%|█▌        | 8/51 [00:04<00:24,  1.74it/s]\u001b[A\n",
      " 18%|█▊        | 9/51 [00:05<00:23,  1.78it/s]\u001b[A\n",
      " 20%|█▉        | 10/51 [00:05<00:22,  1.81it/s]\u001b[A\n",
      " 22%|██▏       | 11/51 [00:06<00:21,  1.83it/s]\u001b[A\n",
      " 24%|██▎       | 12/51 [00:06<00:21,  1.84it/s]\u001b[A\n",
      " 25%|██▌       | 13/51 [00:07<00:20,  1.84it/s]\u001b[A\n",
      " 27%|██▋       | 14/51 [00:07<00:19,  1.85it/s]\u001b[A\n",
      " 29%|██▉       | 15/51 [00:08<00:19,  1.86it/s]\u001b[A\n",
      " 31%|███▏      | 16/51 [00:09<00:18,  1.86it/s]\u001b[A\n",
      " 33%|███▎      | 17/51 [00:09<00:18,  1.87it/s]\u001b[A\n",
      " 35%|███▌      | 18/51 [00:10<00:17,  1.87it/s]\u001b[A\n",
      " 37%|███▋      | 19/51 [00:10<00:17,  1.87it/s]\u001b[A\n",
      " 39%|███▉      | 20/51 [00:11<00:16,  1.87it/s]\u001b[A\n",
      " 41%|████      | 21/51 [00:11<00:16,  1.87it/s]\u001b[A\n",
      " 43%|████▎     | 22/51 [00:12<00:15,  1.88it/s]\u001b[A\n",
      " 45%|████▌     | 23/51 [00:12<00:14,  1.88it/s]\u001b[A\n",
      " 47%|████▋     | 24/51 [00:13<00:14,  1.86it/s]\u001b[A\n",
      " 49%|████▉     | 25/51 [00:13<00:13,  1.87it/s]\u001b[A\n",
      " 51%|█████     | 26/51 [00:14<00:13,  1.87it/s]\u001b[A\n",
      " 53%|█████▎    | 27/51 [00:14<00:12,  1.87it/s]\u001b[A\n",
      " 55%|█████▍    | 28/51 [00:15<00:12,  1.87it/s]\u001b[A\n",
      " 57%|█████▋    | 29/51 [00:15<00:11,  1.88it/s]\u001b[A\n",
      " 59%|█████▉    | 30/51 [00:16<00:11,  1.87it/s]\u001b[A\n",
      " 61%|██████    | 31/51 [00:17<00:10,  1.88it/s]\u001b[A\n",
      " 63%|██████▎   | 32/51 [00:17<00:10,  1.88it/s]\u001b[A\n",
      " 65%|██████▍   | 33/51 [00:18<00:09,  1.87it/s]\u001b[A\n",
      " 67%|██████▋   | 34/51 [00:18<00:09,  1.87it/s]\u001b[A\n",
      " 69%|██████▊   | 35/51 [00:19<00:08,  1.87it/s]\u001b[A\n",
      " 71%|███████   | 36/51 [00:19<00:08,  1.87it/s]\u001b[A\n",
      " 73%|███████▎  | 37/51 [00:20<00:07,  1.87it/s]\u001b[A\n",
      " 75%|███████▍  | 38/51 [00:20<00:06,  1.87it/s]\u001b[A\n",
      " 76%|███████▋  | 39/51 [00:21<00:06,  1.87it/s]\u001b[A\n",
      " 78%|███████▊  | 40/51 [00:21<00:05,  1.87it/s]\u001b[A\n",
      " 80%|████████  | 41/51 [00:22<00:05,  1.87it/s]\u001b[A\n",
      " 82%|████████▏ | 42/51 [00:22<00:04,  1.87it/s]\u001b[A\n",
      " 84%|████████▍ | 43/51 [00:23<00:04,  1.87it/s]\u001b[A\n",
      " 86%|████████▋ | 44/51 [00:23<00:03,  1.88it/s]\u001b[A\n",
      " 88%|████████▊ | 45/51 [00:24<00:03,  1.88it/s]\u001b[A\n",
      " 90%|█████████ | 46/51 [00:25<00:02,  1.88it/s]\u001b[A\n",
      " 92%|█████████▏| 47/51 [00:25<00:02,  1.88it/s]\u001b[A\n",
      " 94%|█████████▍| 48/51 [00:26<00:01,  1.88it/s]\u001b[A\n",
      " 96%|█████████▌| 49/51 [00:26<00:01,  1.88it/s]\u001b[A\n",
      " 98%|█████████▊| 50/51 [00:27<00:00,  1.88it/s]\u001b[A\n",
      "100%|██████████| 51/51 [00:27<00:00,  2.29it/s]\u001b[A\n",
      "  0%|          | 0/2 [00:00<?, ?it/s]\u001b[A"
     ]
    },
    {
     "name": "stdout",
     "output_type": "stream",
     "text": [
      "Completed training for epoch 69, testing validation dataset\n"
     ]
    },
    {
     "name": "stderr",
     "output_type": "stream",
     "text": [
      "\n",
      " 50%|█████     | 1/2 [00:00<00:00,  1.67it/s]\u001b[A\n",
      "100%|██████████| 2/2 [00:00<00:00,  2.15it/s]\u001b[A\n",
      "  0%|          | 0/2 [00:00<?, ?it/s]\u001b[A"
     ]
    },
    {
     "name": "stdout",
     "output_type": "stream",
     "text": [
      "loss: 0.3933296501636505\n",
      "top1acc: 87.59992980957031\n",
      "Completed testing validation dataset for epoch 69, testing training dataset\n"
     ]
    },
    {
     "name": "stderr",
     "output_type": "stream",
     "text": [
      "\n",
      " 50%|█████     | 1/2 [00:00<00:00,  1.75it/s]\u001b[A\n",
      " 58%|█████▊    | 70/120 [34:02<24:16, 29.13s/it]\n",
      "  0%|          | 0/51 [00:00<?, ?it/s]\u001b[A"
     ]
    },
    {
     "name": "stdout",
     "output_type": "stream",
     "text": [
      "loss: 0.18533119559288025\n",
      "top1acc: 93.99994659423828\n",
      "Completed testing training dataset for epoch 69\n",
      "Starting epoch 70\n"
     ]
    },
    {
     "name": "stderr",
     "output_type": "stream",
     "text": [
      "\n",
      "  2%|▏         | 1/51 [00:01<00:52,  1.05s/it]\u001b[A\n",
      "  4%|▍         | 2/51 [00:01<00:43,  1.12it/s]\u001b[A\n",
      "  6%|▌         | 3/51 [00:02<00:37,  1.27it/s]\u001b[A\n",
      "  8%|▊         | 4/51 [00:02<00:33,  1.41it/s]\u001b[A\n",
      " 10%|▉         | 5/51 [00:03<00:30,  1.52it/s]\u001b[A\n",
      " 12%|█▏        | 6/51 [00:03<00:27,  1.61it/s]\u001b[A\n",
      " 14%|█▎        | 7/51 [00:04<00:26,  1.69it/s]\u001b[A\n",
      " 16%|█▌        | 8/51 [00:04<00:24,  1.74it/s]\u001b[A\n",
      " 18%|█▊        | 9/51 [00:05<00:23,  1.78it/s]\u001b[A\n",
      " 20%|█▉        | 10/51 [00:05<00:22,  1.81it/s]\u001b[A\n",
      " 22%|██▏       | 11/51 [00:06<00:21,  1.83it/s]\u001b[A\n",
      " 24%|██▎       | 12/51 [00:06<00:21,  1.84it/s]\u001b[A\n",
      " 25%|██▌       | 13/51 [00:07<00:20,  1.85it/s]\u001b[A\n",
      " 27%|██▋       | 14/51 [00:07<00:19,  1.85it/s]\u001b[A\n",
      " 29%|██▉       | 15/51 [00:08<00:19,  1.86it/s]\u001b[A\n",
      " 31%|███▏      | 16/51 [00:09<00:18,  1.86it/s]\u001b[A\n",
      " 33%|███▎      | 17/51 [00:09<00:18,  1.87it/s]\u001b[A\n",
      " 35%|███▌      | 18/51 [00:10<00:17,  1.87it/s]\u001b[A\n",
      " 37%|███▋      | 19/51 [00:10<00:17,  1.87it/s]\u001b[A\n",
      " 39%|███▉      | 20/51 [00:11<00:16,  1.87it/s]\u001b[A\n",
      " 41%|████      | 21/51 [00:11<00:16,  1.87it/s]\u001b[A\n",
      " 43%|████▎     | 22/51 [00:12<00:15,  1.87it/s]\u001b[A\n",
      " 45%|████▌     | 23/51 [00:12<00:14,  1.87it/s]\u001b[A\n",
      " 47%|████▋     | 24/51 [00:13<00:14,  1.87it/s]\u001b[A\n",
      " 49%|████▉     | 25/51 [00:13<00:13,  1.87it/s]\u001b[A\n",
      " 51%|█████     | 26/51 [00:14<00:13,  1.87it/s]\u001b[A\n",
      " 53%|█████▎    | 27/51 [00:14<00:12,  1.87it/s]\u001b[A\n",
      " 55%|█████▍    | 28/51 [00:15<00:12,  1.87it/s]\u001b[A\n",
      " 57%|█████▋    | 29/51 [00:15<00:11,  1.87it/s]\u001b[A\n",
      " 59%|█████▉    | 30/51 [00:16<00:11,  1.87it/s]\u001b[A\n",
      " 61%|██████    | 31/51 [00:17<00:10,  1.87it/s]\u001b[A\n",
      " 63%|██████▎   | 32/51 [00:17<00:10,  1.87it/s]\u001b[A\n",
      " 65%|██████▍   | 33/51 [00:18<00:09,  1.87it/s]\u001b[A\n",
      " 67%|██████▋   | 34/51 [00:18<00:09,  1.87it/s]\u001b[A\n",
      " 69%|██████▊   | 35/51 [00:19<00:08,  1.87it/s]\u001b[A\n",
      " 71%|███████   | 36/51 [00:19<00:08,  1.87it/s]\u001b[A\n",
      " 73%|███████▎  | 37/51 [00:20<00:07,  1.87it/s]\u001b[A\n",
      " 75%|███████▍  | 38/51 [00:20<00:06,  1.87it/s]\u001b[A\n",
      " 76%|███████▋  | 39/51 [00:21<00:06,  1.87it/s]\u001b[A\n",
      " 78%|███████▊  | 40/51 [00:21<00:05,  1.87it/s]\u001b[A\n",
      " 80%|████████  | 41/51 [00:22<00:05,  1.87it/s]\u001b[A\n",
      " 82%|████████▏ | 42/51 [00:22<00:04,  1.87it/s]\u001b[A\n",
      " 84%|████████▍ | 43/51 [00:23<00:04,  1.88it/s]\u001b[A\n",
      " 86%|████████▋ | 44/51 [00:23<00:03,  1.88it/s]\u001b[A\n",
      " 88%|████████▊ | 45/51 [00:24<00:03,  1.88it/s]\u001b[A\n",
      " 90%|█████████ | 46/51 [00:25<00:02,  1.88it/s]\u001b[A\n",
      " 92%|█████████▏| 47/51 [00:25<00:02,  1.88it/s]\u001b[A\n",
      " 94%|█████████▍| 48/51 [00:26<00:01,  1.88it/s]\u001b[A\n",
      " 96%|█████████▌| 49/51 [00:26<00:01,  1.88it/s]\u001b[A\n",
      " 98%|█████████▊| 50/51 [00:27<00:00,  1.88it/s]\u001b[A\n",
      "100%|██████████| 51/51 [00:27<00:00,  2.29it/s]\u001b[A\n",
      "  0%|          | 0/2 [00:00<?, ?it/s]\u001b[A"
     ]
    },
    {
     "name": "stdout",
     "output_type": "stream",
     "text": [
      "Completed training for epoch 70, testing validation dataset\n"
     ]
    },
    {
     "name": "stderr",
     "output_type": "stream",
     "text": [
      "\n",
      " 50%|█████     | 1/2 [00:00<00:00,  1.67it/s]\u001b[A\n",
      "100%|██████████| 2/2 [00:00<00:00,  2.14it/s]\u001b[A\n",
      "  0%|          | 0/2 [00:00<?, ?it/s]\u001b[A"
     ]
    },
    {
     "name": "stdout",
     "output_type": "stream",
     "text": [
      "loss: 0.3944971561431885\n",
      "top1acc: 88.39994049072266\n",
      "Completed testing validation dataset for epoch 70, testing training dataset\n"
     ]
    },
    {
     "name": "stderr",
     "output_type": "stream",
     "text": [
      "\n",
      " 50%|█████     | 1/2 [00:00<00:00,  1.70it/s]\u001b[A\n",
      " 59%|█████▉    | 71/120 [34:31<23:47, 29.13s/it]\n",
      "  0%|          | 0/51 [00:00<?, ?it/s]\u001b[A"
     ]
    },
    {
     "name": "stdout",
     "output_type": "stream",
     "text": [
      "loss: 0.19101685285568237\n",
      "top1acc: 93.39997863769531\n",
      "Completed testing training dataset for epoch 70\n",
      "Starting epoch 71\n"
     ]
    },
    {
     "name": "stderr",
     "output_type": "stream",
     "text": [
      "\n",
      "  2%|▏         | 1/51 [00:01<00:51,  1.03s/it]\u001b[A\n",
      "  4%|▍         | 2/51 [00:01<00:43,  1.14it/s]\u001b[A\n",
      "  6%|▌         | 3/51 [00:02<00:37,  1.29it/s]\u001b[A\n",
      "  8%|▊         | 4/51 [00:02<00:33,  1.42it/s]\u001b[A\n",
      " 10%|▉         | 5/51 [00:03<00:29,  1.53it/s]\u001b[A\n",
      " 12%|█▏        | 6/51 [00:03<00:27,  1.62it/s]\u001b[A\n",
      " 14%|█▎        | 7/51 [00:04<00:26,  1.69it/s]\u001b[A\n",
      " 16%|█▌        | 8/51 [00:04<00:24,  1.74it/s]\u001b[A\n",
      " 18%|█▊        | 9/51 [00:05<00:23,  1.78it/s]\u001b[A\n",
      " 20%|█▉        | 10/51 [00:05<00:22,  1.81it/s]\u001b[A\n",
      " 22%|██▏       | 11/51 [00:06<00:21,  1.83it/s]\u001b[A\n",
      " 24%|██▎       | 12/51 [00:06<00:21,  1.84it/s]\u001b[A\n",
      " 25%|██▌       | 13/51 [00:07<00:20,  1.85it/s]\u001b[A\n",
      " 27%|██▋       | 14/51 [00:07<00:19,  1.86it/s]\u001b[A\n",
      " 29%|██▉       | 15/51 [00:08<00:19,  1.86it/s]\u001b[A\n",
      " 31%|███▏      | 16/51 [00:09<00:18,  1.87it/s]\u001b[A\n",
      " 33%|███▎      | 17/51 [00:09<00:18,  1.87it/s]\u001b[A\n",
      " 35%|███▌      | 18/51 [00:10<00:17,  1.87it/s]\u001b[A\n",
      " 37%|███▋      | 19/51 [00:10<00:17,  1.87it/s]\u001b[A\n",
      " 39%|███▉      | 20/51 [00:11<00:16,  1.87it/s]\u001b[A\n",
      " 41%|████      | 21/51 [00:11<00:16,  1.87it/s]\u001b[A\n",
      " 43%|████▎     | 22/51 [00:12<00:15,  1.87it/s]\u001b[A\n",
      " 45%|████▌     | 23/51 [00:12<00:14,  1.87it/s]\u001b[A\n",
      " 47%|████▋     | 24/51 [00:13<00:14,  1.87it/s]\u001b[A\n",
      " 49%|████▉     | 25/51 [00:13<00:13,  1.87it/s]\u001b[A\n",
      " 51%|█████     | 26/51 [00:14<00:13,  1.87it/s]\u001b[A\n",
      " 53%|█████▎    | 27/51 [00:14<00:12,  1.87it/s]\u001b[A\n",
      " 55%|█████▍    | 28/51 [00:15<00:12,  1.87it/s]\u001b[A\n",
      " 57%|█████▋    | 29/51 [00:15<00:11,  1.87it/s]\u001b[A\n",
      " 59%|█████▉    | 30/51 [00:16<00:11,  1.87it/s]\u001b[A\n",
      " 61%|██████    | 31/51 [00:17<00:10,  1.87it/s]\u001b[A\n",
      " 63%|██████▎   | 32/51 [00:17<00:10,  1.87it/s]\u001b[A\n",
      " 65%|██████▍   | 33/51 [00:18<00:09,  1.87it/s]\u001b[A\n",
      " 67%|██████▋   | 34/51 [00:18<00:09,  1.87it/s]\u001b[A\n",
      " 69%|██████▊   | 35/51 [00:19<00:08,  1.87it/s]\u001b[A\n",
      " 71%|███████   | 36/51 [00:19<00:08,  1.87it/s]\u001b[A\n",
      " 73%|███████▎  | 37/51 [00:20<00:07,  1.87it/s]\u001b[A\n",
      " 75%|███████▍  | 38/51 [00:20<00:06,  1.87it/s]\u001b[A\n",
      " 76%|███████▋  | 39/51 [00:21<00:06,  1.87it/s]\u001b[A\n",
      " 78%|███████▊  | 40/51 [00:21<00:05,  1.87it/s]\u001b[A\n",
      " 80%|████████  | 41/51 [00:22<00:05,  1.87it/s]\u001b[A\n",
      " 82%|████████▏ | 42/51 [00:22<00:04,  1.87it/s]\u001b[A\n",
      " 84%|████████▍ | 43/51 [00:23<00:04,  1.87it/s]\u001b[A\n",
      " 86%|████████▋ | 44/51 [00:23<00:03,  1.87it/s]\u001b[A\n",
      " 88%|████████▊ | 45/51 [00:24<00:03,  1.87it/s]\u001b[A\n",
      " 90%|█████████ | 46/51 [00:25<00:02,  1.87it/s]\u001b[A\n",
      " 92%|█████████▏| 47/51 [00:25<00:02,  1.88it/s]\u001b[A\n",
      " 94%|█████████▍| 48/51 [00:26<00:01,  1.88it/s]\u001b[A\n",
      " 96%|█████████▌| 49/51 [00:26<00:01,  1.88it/s]\u001b[A\n",
      " 98%|█████████▊| 50/51 [00:27<00:00,  1.88it/s]\u001b[A\n",
      "100%|██████████| 51/51 [00:27<00:00,  2.29it/s]\u001b[A\n",
      "  0%|          | 0/2 [00:00<?, ?it/s]\u001b[A"
     ]
    },
    {
     "name": "stdout",
     "output_type": "stream",
     "text": [
      "Completed training for epoch 71, testing validation dataset\n"
     ]
    },
    {
     "name": "stderr",
     "output_type": "stream",
     "text": [
      "\n",
      " 50%|█████     | 1/2 [00:00<00:00,  1.62it/s]\u001b[A\n",
      "100%|██████████| 2/2 [00:00<00:00,  2.09it/s]\u001b[A\n",
      "  0%|          | 0/2 [00:00<?, ?it/s]\u001b[A"
     ]
    },
    {
     "name": "stdout",
     "output_type": "stream",
     "text": [
      "loss: 0.38206833600997925\n",
      "top1acc: 89.79994201660156\n",
      "Completed testing validation dataset for epoch 71, testing training dataset\n"
     ]
    },
    {
     "name": "stderr",
     "output_type": "stream",
     "text": [
      "\n",
      " 50%|█████     | 1/2 [00:00<00:00,  1.70it/s]\u001b[A\n",
      " 60%|██████    | 72/120 [35:00<23:18, 29.14s/it]\n",
      "  0%|          | 0/51 [00:00<?, ?it/s]\u001b[A"
     ]
    },
    {
     "name": "stdout",
     "output_type": "stream",
     "text": [
      "loss: 0.18914751708507538\n",
      "top1acc: 93.19995880126953\n",
      "Completed testing training dataset for epoch 71\n",
      "Starting epoch 72\n"
     ]
    },
    {
     "name": "stderr",
     "output_type": "stream",
     "text": [
      "\n",
      "  2%|▏         | 1/51 [00:01<00:53,  1.06s/it]\u001b[A\n",
      "  4%|▍         | 2/51 [00:01<00:44,  1.11it/s]\u001b[A\n",
      "  6%|▌         | 3/51 [00:02<00:38,  1.26it/s]\u001b[A\n",
      "  8%|▊         | 4/51 [00:02<00:33,  1.40it/s]\u001b[A\n",
      " 10%|▉         | 5/51 [00:03<00:30,  1.51it/s]\u001b[A\n",
      " 12%|█▏        | 6/51 [00:03<00:27,  1.61it/s]\u001b[A\n",
      " 14%|█▎        | 7/51 [00:04<00:26,  1.68it/s]\u001b[A\n",
      " 16%|█▌        | 8/51 [00:04<00:24,  1.73it/s]\u001b[A\n",
      " 18%|█▊        | 9/51 [00:05<00:23,  1.76it/s]\u001b[A\n",
      " 20%|█▉        | 10/51 [00:05<00:22,  1.79it/s]\u001b[A\n",
      " 22%|██▏       | 11/51 [00:06<00:22,  1.82it/s]\u001b[A\n",
      " 24%|██▎       | 12/51 [00:06<00:21,  1.83it/s]\u001b[A\n",
      " 25%|██▌       | 13/51 [00:07<00:20,  1.85it/s]\u001b[A\n",
      " 27%|██▋       | 14/51 [00:08<00:19,  1.86it/s]\u001b[A\n",
      " 29%|██▉       | 15/51 [00:08<00:19,  1.86it/s]\u001b[A\n",
      " 31%|███▏      | 16/51 [00:09<00:18,  1.87it/s]\u001b[A\n",
      " 33%|███▎      | 17/51 [00:09<00:18,  1.87it/s]\u001b[A\n",
      " 35%|███▌      | 18/51 [00:10<00:17,  1.87it/s]\u001b[A\n",
      " 37%|███▋      | 19/51 [00:10<00:17,  1.86it/s]\u001b[A\n",
      " 39%|███▉      | 20/51 [00:11<00:16,  1.86it/s]\u001b[A\n",
      " 41%|████      | 21/51 [00:11<00:16,  1.87it/s]\u001b[A\n",
      " 43%|████▎     | 22/51 [00:12<00:15,  1.87it/s]\u001b[A\n",
      " 45%|████▌     | 23/51 [00:12<00:14,  1.87it/s]\u001b[A\n",
      " 47%|████▋     | 24/51 [00:13<00:14,  1.87it/s]\u001b[A\n",
      " 49%|████▉     | 25/51 [00:13<00:13,  1.87it/s]\u001b[A\n",
      " 51%|█████     | 26/51 [00:14<00:13,  1.87it/s]\u001b[A\n",
      " 53%|█████▎    | 27/51 [00:14<00:12,  1.87it/s]\u001b[A\n",
      " 55%|█████▍    | 28/51 [00:15<00:12,  1.87it/s]\u001b[A\n",
      " 57%|█████▋    | 29/51 [00:16<00:11,  1.87it/s]\u001b[A\n",
      " 59%|█████▉    | 30/51 [00:16<00:11,  1.87it/s]\u001b[A\n",
      " 61%|██████    | 31/51 [00:17<00:10,  1.88it/s]\u001b[A\n",
      " 63%|██████▎   | 32/51 [00:17<00:10,  1.88it/s]\u001b[A\n",
      " 65%|██████▍   | 33/51 [00:18<00:09,  1.88it/s]\u001b[A\n",
      " 67%|██████▋   | 34/51 [00:18<00:09,  1.88it/s]\u001b[A\n",
      " 69%|██████▊   | 35/51 [00:19<00:08,  1.88it/s]\u001b[A\n",
      " 71%|███████   | 36/51 [00:19<00:07,  1.88it/s]\u001b[A\n",
      " 73%|███████▎  | 37/51 [00:20<00:07,  1.88it/s]\u001b[A\n",
      " 75%|███████▍  | 38/51 [00:20<00:06,  1.88it/s]\u001b[A\n",
      " 76%|███████▋  | 39/51 [00:21<00:06,  1.88it/s]\u001b[A\n",
      " 78%|███████▊  | 40/51 [00:21<00:05,  1.88it/s]\u001b[A\n",
      " 80%|████████  | 41/51 [00:22<00:05,  1.88it/s]\u001b[A\n",
      " 82%|████████▏ | 42/51 [00:22<00:04,  1.88it/s]\u001b[A\n",
      " 84%|████████▍ | 43/51 [00:23<00:04,  1.88it/s]\u001b[A\n",
      " 86%|████████▋ | 44/51 [00:24<00:03,  1.88it/s]\u001b[A\n",
      " 88%|████████▊ | 45/51 [00:24<00:03,  1.88it/s]\u001b[A\n",
      " 90%|█████████ | 46/51 [00:25<00:02,  1.88it/s]\u001b[A\n",
      " 92%|█████████▏| 47/51 [00:25<00:02,  1.88it/s]\u001b[A\n",
      " 94%|█████████▍| 48/51 [00:26<00:01,  1.88it/s]\u001b[A\n",
      " 96%|█████████▌| 49/51 [00:26<00:01,  1.88it/s]\u001b[A\n",
      " 98%|█████████▊| 50/51 [00:27<00:00,  1.88it/s]\u001b[A\n",
      "100%|██████████| 51/51 [00:27<00:00,  2.29it/s]\u001b[A\n",
      "  0%|          | 0/2 [00:00<?, ?it/s]\u001b[A"
     ]
    },
    {
     "name": "stdout",
     "output_type": "stream",
     "text": [
      "Completed training for epoch 72, testing validation dataset\n"
     ]
    },
    {
     "name": "stderr",
     "output_type": "stream",
     "text": [
      "\n",
      " 50%|█████     | 1/2 [00:00<00:00,  1.67it/s]\u001b[A\n",
      "100%|██████████| 2/2 [00:00<00:00,  2.15it/s]\u001b[A\n",
      "  0%|          | 0/2 [00:00<?, ?it/s]\u001b[A"
     ]
    },
    {
     "name": "stdout",
     "output_type": "stream",
     "text": [
      "loss: 0.37942934036254883\n",
      "top1acc: 88.99993896484375\n",
      "Completed testing validation dataset for epoch 72, testing training dataset\n"
     ]
    },
    {
     "name": "stderr",
     "output_type": "stream",
     "text": [
      "\n",
      " 50%|█████     | 1/2 [00:00<00:00,  1.63it/s]\u001b[A\n",
      " 61%|██████    | 73/120 [35:29<22:50, 29.15s/it]\n",
      "  0%|          | 0/51 [00:00<?, ?it/s]\u001b[A"
     ]
    },
    {
     "name": "stdout",
     "output_type": "stream",
     "text": [
      "loss: 0.1781320869922638\n",
      "top1acc: 94.59994506835938\n",
      "Completed testing training dataset for epoch 72\n",
      "Starting epoch 73\n"
     ]
    },
    {
     "name": "stderr",
     "output_type": "stream",
     "text": [
      "\n",
      "  2%|▏         | 1/51 [00:01<00:52,  1.05s/it]\u001b[A\n",
      "  4%|▍         | 2/51 [00:01<00:43,  1.12it/s]\u001b[A\n",
      "  6%|▌         | 3/51 [00:02<00:37,  1.27it/s]\u001b[A\n",
      "  8%|▊         | 4/51 [00:02<00:33,  1.41it/s]\u001b[A\n",
      " 10%|▉         | 5/51 [00:03<00:30,  1.52it/s]\u001b[A\n",
      " 12%|█▏        | 6/51 [00:03<00:27,  1.61it/s]\u001b[A\n",
      " 14%|█▎        | 7/51 [00:04<00:26,  1.68it/s]\u001b[A\n",
      " 16%|█▌        | 8/51 [00:04<00:24,  1.74it/s]\u001b[A\n",
      " 18%|█▊        | 9/51 [00:05<00:23,  1.78it/s]\u001b[A\n",
      " 20%|█▉        | 10/51 [00:05<00:22,  1.81it/s]\u001b[A\n",
      " 22%|██▏       | 11/51 [00:06<00:21,  1.83it/s]\u001b[A\n",
      " 24%|██▎       | 12/51 [00:06<00:21,  1.83it/s]\u001b[A\n",
      " 25%|██▌       | 13/51 [00:07<00:20,  1.85it/s]\u001b[A\n",
      " 27%|██▋       | 14/51 [00:07<00:19,  1.86it/s]\u001b[A\n",
      " 29%|██▉       | 15/51 [00:08<00:19,  1.86it/s]\u001b[A\n",
      " 31%|███▏      | 16/51 [00:09<00:18,  1.86it/s]\u001b[A\n",
      " 33%|███▎      | 17/51 [00:09<00:18,  1.87it/s]\u001b[A\n",
      " 35%|███▌      | 18/51 [00:10<00:17,  1.87it/s]\u001b[A\n",
      " 37%|███▋      | 19/51 [00:10<00:17,  1.87it/s]\u001b[A\n",
      " 39%|███▉      | 20/51 [00:11<00:16,  1.87it/s]\u001b[A\n",
      " 41%|████      | 21/51 [00:11<00:16,  1.87it/s]\u001b[A\n",
      " 43%|████▎     | 22/51 [00:12<00:15,  1.87it/s]\u001b[A\n",
      " 45%|████▌     | 23/51 [00:12<00:14,  1.87it/s]\u001b[A\n",
      " 47%|████▋     | 24/51 [00:13<00:14,  1.87it/s]\u001b[A\n",
      " 49%|████▉     | 25/51 [00:13<00:13,  1.87it/s]\u001b[A\n",
      " 51%|█████     | 26/51 [00:14<00:13,  1.87it/s]\u001b[A\n",
      " 53%|█████▎    | 27/51 [00:14<00:12,  1.87it/s]\u001b[A\n",
      " 55%|█████▍    | 28/51 [00:15<00:12,  1.87it/s]\u001b[A\n",
      " 57%|█████▋    | 29/51 [00:15<00:11,  1.88it/s]\u001b[A\n",
      " 59%|█████▉    | 30/51 [00:16<00:11,  1.87it/s]\u001b[A\n",
      " 61%|██████    | 31/51 [00:17<00:10,  1.87it/s]\u001b[A\n",
      " 63%|██████▎   | 32/51 [00:17<00:10,  1.87it/s]\u001b[A\n",
      " 65%|██████▍   | 33/51 [00:18<00:09,  1.87it/s]\u001b[A\n",
      " 67%|██████▋   | 34/51 [00:18<00:09,  1.87it/s]\u001b[A\n",
      " 69%|██████▊   | 35/51 [00:19<00:08,  1.87it/s]\u001b[A\n",
      " 71%|███████   | 36/51 [00:19<00:08,  1.87it/s]\u001b[A\n",
      " 73%|███████▎  | 37/51 [00:20<00:07,  1.87it/s]\u001b[A\n",
      " 75%|███████▍  | 38/51 [00:20<00:06,  1.87it/s]\u001b[A\n",
      " 76%|███████▋  | 39/51 [00:21<00:06,  1.87it/s]\u001b[A\n",
      " 78%|███████▊  | 40/51 [00:21<00:05,  1.88it/s]\u001b[A\n",
      " 80%|████████  | 41/51 [00:22<00:05,  1.88it/s]\u001b[A\n",
      " 82%|████████▏ | 42/51 [00:22<00:04,  1.88it/s]\u001b[A\n",
      " 84%|████████▍ | 43/51 [00:23<00:04,  1.87it/s]\u001b[A\n",
      " 86%|████████▋ | 44/51 [00:23<00:03,  1.88it/s]\u001b[A\n",
      " 88%|████████▊ | 45/51 [00:24<00:03,  1.88it/s]\u001b[A\n",
      " 90%|█████████ | 46/51 [00:25<00:02,  1.88it/s]\u001b[A\n",
      " 92%|█████████▏| 47/51 [00:25<00:02,  1.88it/s]\u001b[A\n",
      " 94%|█████████▍| 48/51 [00:26<00:01,  1.88it/s]\u001b[A\n",
      " 96%|█████████▌| 49/51 [00:26<00:01,  1.88it/s]\u001b[A\n",
      " 98%|█████████▊| 50/51 [00:27<00:00,  1.87it/s]\u001b[A\n",
      "100%|██████████| 51/51 [00:27<00:00,  2.28it/s]\u001b[A\n",
      "  0%|          | 0/2 [00:00<?, ?it/s]\u001b[A"
     ]
    },
    {
     "name": "stdout",
     "output_type": "stream",
     "text": [
      "Completed training for epoch 73, testing validation dataset\n"
     ]
    },
    {
     "name": "stderr",
     "output_type": "stream",
     "text": [
      "\n",
      " 50%|█████     | 1/2 [00:00<00:00,  1.59it/s]\u001b[A\n",
      "100%|██████████| 2/2 [00:00<00:00,  2.04it/s]\u001b[A\n",
      "  0%|          | 0/2 [00:00<?, ?it/s]\u001b[A"
     ]
    },
    {
     "name": "stdout",
     "output_type": "stream",
     "text": [
      "loss: 0.37708935141563416\n",
      "top1acc: 89.19996643066406\n",
      "Completed testing validation dataset for epoch 73, testing training dataset\n"
     ]
    },
    {
     "name": "stderr",
     "output_type": "stream",
     "text": [
      "\n",
      " 50%|█████     | 1/2 [00:00<00:00,  1.62it/s]\u001b[A\n",
      " 62%|██████▏   | 74/120 [35:59<22:21, 29.17s/it]\n",
      "  0%|          | 0/51 [00:00<?, ?it/s]\u001b[A"
     ]
    },
    {
     "name": "stdout",
     "output_type": "stream",
     "text": [
      "loss: 0.168060302734375\n",
      "top1acc: 94.5999755859375\n",
      "Completed testing training dataset for epoch 73\n",
      "Starting epoch 74\n"
     ]
    },
    {
     "name": "stderr",
     "output_type": "stream",
     "text": [
      "\n",
      "  2%|▏         | 1/51 [00:01<00:51,  1.04s/it]\u001b[A\n",
      "  4%|▍         | 2/51 [00:01<00:43,  1.13it/s]\u001b[A\n",
      "  6%|▌         | 3/51 [00:02<00:37,  1.28it/s]\u001b[A\n",
      "  8%|▊         | 4/51 [00:02<00:33,  1.42it/s]\u001b[A\n",
      " 10%|▉         | 5/51 [00:03<00:30,  1.53it/s]\u001b[A\n",
      " 12%|█▏        | 6/51 [00:03<00:27,  1.62it/s]\u001b[A\n",
      " 14%|█▎        | 7/51 [00:04<00:26,  1.69it/s]\u001b[A\n",
      " 16%|█▌        | 8/51 [00:04<00:24,  1.74it/s]\u001b[A\n",
      " 18%|█▊        | 9/51 [00:05<00:23,  1.78it/s]\u001b[A\n",
      " 20%|█▉        | 10/51 [00:05<00:22,  1.81it/s]\u001b[A\n",
      " 22%|██▏       | 11/51 [00:06<00:21,  1.83it/s]\u001b[A\n",
      " 24%|██▎       | 12/51 [00:06<00:21,  1.84it/s]\u001b[A\n",
      " 25%|██▌       | 13/51 [00:07<00:20,  1.85it/s]\u001b[A\n",
      " 27%|██▋       | 14/51 [00:07<00:19,  1.86it/s]\u001b[A\n",
      " 29%|██▉       | 15/51 [00:08<00:19,  1.87it/s]\u001b[A\n",
      " 31%|███▏      | 16/51 [00:09<00:18,  1.87it/s]\u001b[A\n",
      " 33%|███▎      | 17/51 [00:09<00:18,  1.87it/s]\u001b[A\n",
      " 35%|███▌      | 18/51 [00:10<00:17,  1.87it/s]\u001b[A\n",
      " 37%|███▋      | 19/51 [00:10<00:17,  1.87it/s]\u001b[A\n",
      " 39%|███▉      | 20/51 [00:11<00:16,  1.87it/s]\u001b[A\n",
      " 41%|████      | 21/51 [00:11<00:16,  1.87it/s]\u001b[A\n",
      " 43%|████▎     | 22/51 [00:12<00:15,  1.87it/s]\u001b[A\n",
      " 45%|████▌     | 23/51 [00:12<00:14,  1.87it/s]\u001b[A\n",
      " 47%|████▋     | 24/51 [00:13<00:14,  1.87it/s]\u001b[A\n",
      " 49%|████▉     | 25/51 [00:13<00:13,  1.87it/s]\u001b[A\n",
      " 51%|█████     | 26/51 [00:14<00:13,  1.88it/s]\u001b[A\n",
      " 53%|█████▎    | 27/51 [00:14<00:12,  1.88it/s]\u001b[A\n",
      " 55%|█████▍    | 28/51 [00:15<00:12,  1.88it/s]\u001b[A\n",
      " 57%|█████▋    | 29/51 [00:15<00:11,  1.88it/s]\u001b[A\n",
      " 59%|█████▉    | 30/51 [00:16<00:11,  1.88it/s]\u001b[A\n",
      " 61%|██████    | 31/51 [00:17<00:10,  1.88it/s]\u001b[A\n",
      " 63%|██████▎   | 32/51 [00:17<00:10,  1.88it/s]\u001b[A\n",
      " 65%|██████▍   | 33/51 [00:18<00:09,  1.88it/s]\u001b[A\n",
      " 67%|██████▋   | 34/51 [00:18<00:09,  1.88it/s]\u001b[A\n",
      " 69%|██████▊   | 35/51 [00:19<00:08,  1.88it/s]\u001b[A\n",
      " 71%|███████   | 36/51 [00:19<00:08,  1.87it/s]\u001b[A\n",
      " 73%|███████▎  | 37/51 [00:20<00:07,  1.87it/s]\u001b[A\n",
      " 75%|███████▍  | 38/51 [00:20<00:06,  1.87it/s]\u001b[A\n",
      " 76%|███████▋  | 39/51 [00:21<00:06,  1.87it/s]\u001b[A\n",
      " 78%|███████▊  | 40/51 [00:21<00:05,  1.88it/s]\u001b[A\n",
      " 80%|████████  | 41/51 [00:22<00:05,  1.88it/s]\u001b[A\n",
      " 82%|████████▏ | 42/51 [00:22<00:04,  1.88it/s]\u001b[A\n",
      " 84%|████████▍ | 43/51 [00:23<00:04,  1.88it/s]\u001b[A\n",
      " 86%|████████▋ | 44/51 [00:23<00:03,  1.88it/s]\u001b[A\n",
      " 88%|████████▊ | 45/51 [00:24<00:03,  1.88it/s]\u001b[A\n",
      " 90%|█████████ | 46/51 [00:25<00:02,  1.88it/s]\u001b[A\n",
      " 92%|█████████▏| 47/51 [00:25<00:02,  1.88it/s]\u001b[A\n",
      " 94%|█████████▍| 48/51 [00:26<00:01,  1.88it/s]\u001b[A\n",
      " 96%|█████████▌| 49/51 [00:26<00:01,  1.88it/s]\u001b[A\n",
      " 98%|█████████▊| 50/51 [00:27<00:00,  1.88it/s]\u001b[A\n",
      "100%|██████████| 51/51 [00:27<00:00,  2.28it/s]\u001b[A\n",
      "  0%|          | 0/2 [00:00<?, ?it/s]\u001b[A"
     ]
    },
    {
     "name": "stdout",
     "output_type": "stream",
     "text": [
      "Completed training for epoch 74, testing validation dataset\n"
     ]
    },
    {
     "name": "stderr",
     "output_type": "stream",
     "text": [
      "\n",
      " 50%|█████     | 1/2 [00:00<00:00,  1.66it/s]\u001b[A\n",
      "100%|██████████| 2/2 [00:00<00:00,  2.14it/s]\u001b[A\n",
      "  0%|          | 0/2 [00:00<?, ?it/s]\u001b[A"
     ]
    },
    {
     "name": "stdout",
     "output_type": "stream",
     "text": [
      "loss: 0.4007960259914398\n",
      "top1acc: 88.00006866455078\n",
      "Completed testing validation dataset for epoch 74, testing training dataset\n"
     ]
    },
    {
     "name": "stderr",
     "output_type": "stream",
     "text": [
      "\n",
      " 50%|█████     | 1/2 [00:00<00:00,  1.57it/s]\u001b[A\n",
      " 62%|██████▎   | 75/120 [36:28<21:52, 29.17s/it]\n",
      "  0%|          | 0/51 [00:00<?, ?it/s]\u001b[A"
     ]
    },
    {
     "name": "stdout",
     "output_type": "stream",
     "text": [
      "loss: 0.19823449850082397\n",
      "top1acc: 92.79995727539062\n",
      "Completed testing training dataset for epoch 74\n",
      "Starting epoch 75\n"
     ]
    },
    {
     "name": "stderr",
     "output_type": "stream",
     "text": [
      "\n",
      "  2%|▏         | 1/51 [00:01<00:53,  1.07s/it]\u001b[A\n",
      "  4%|▍         | 2/51 [00:01<00:44,  1.10it/s]\u001b[A\n",
      "  6%|▌         | 3/51 [00:02<00:38,  1.26it/s]\u001b[A\n",
      "  8%|▊         | 4/51 [00:02<00:33,  1.40it/s]\u001b[A\n",
      " 10%|▉         | 5/51 [00:03<00:30,  1.51it/s]\u001b[A\n",
      " 12%|█▏        | 6/51 [00:03<00:28,  1.60it/s]\u001b[A\n",
      " 14%|█▎        | 7/51 [00:04<00:26,  1.68it/s]\u001b[A\n",
      " 16%|█▌        | 8/51 [00:04<00:24,  1.73it/s]\u001b[A\n",
      " 18%|█▊        | 9/51 [00:05<00:23,  1.77it/s]\u001b[A\n",
      " 20%|█▉        | 10/51 [00:05<00:22,  1.80it/s]\u001b[A\n",
      " 22%|██▏       | 11/51 [00:06<00:21,  1.82it/s]\u001b[A\n",
      " 24%|██▎       | 12/51 [00:06<00:21,  1.84it/s]\u001b[A\n",
      " 25%|██▌       | 13/51 [00:07<00:20,  1.85it/s]\u001b[A\n",
      " 27%|██▋       | 14/51 [00:08<00:19,  1.86it/s]\u001b[A\n",
      " 29%|██▉       | 15/51 [00:08<00:19,  1.86it/s]\u001b[A\n",
      " 31%|███▏      | 16/51 [00:09<00:18,  1.87it/s]\u001b[A\n",
      " 33%|███▎      | 17/51 [00:09<00:18,  1.87it/s]\u001b[A\n",
      " 35%|███▌      | 18/51 [00:10<00:17,  1.87it/s]\u001b[A\n",
      " 37%|███▋      | 19/51 [00:10<00:17,  1.87it/s]\u001b[A\n",
      " 39%|███▉      | 20/51 [00:11<00:16,  1.86it/s]\u001b[A\n",
      " 41%|████      | 21/51 [00:11<00:16,  1.86it/s]\u001b[A\n",
      " 43%|████▎     | 22/51 [00:12<00:15,  1.86it/s]\u001b[A\n",
      " 45%|████▌     | 23/51 [00:12<00:14,  1.87it/s]\u001b[A\n",
      " 47%|████▋     | 24/51 [00:13<00:14,  1.87it/s]\u001b[A\n",
      " 49%|████▉     | 25/51 [00:13<00:13,  1.87it/s]\u001b[A\n",
      " 51%|█████     | 26/51 [00:14<00:13,  1.87it/s]\u001b[A\n",
      " 53%|█████▎    | 27/51 [00:14<00:12,  1.87it/s]\u001b[A\n",
      " 55%|█████▍    | 28/51 [00:15<00:12,  1.87it/s]\u001b[A\n",
      " 57%|█████▋    | 29/51 [00:16<00:11,  1.87it/s]\u001b[A\n",
      " 59%|█████▉    | 30/51 [00:16<00:11,  1.87it/s]\u001b[A\n",
      " 61%|██████    | 31/51 [00:17<00:10,  1.87it/s]\u001b[A\n",
      " 63%|██████▎   | 32/51 [00:17<00:10,  1.87it/s]\u001b[A\n",
      " 65%|██████▍   | 33/51 [00:18<00:09,  1.87it/s]\u001b[A\n",
      " 67%|██████▋   | 34/51 [00:18<00:09,  1.87it/s]\u001b[A\n",
      " 69%|██████▊   | 35/51 [00:19<00:08,  1.87it/s]\u001b[A\n",
      " 71%|███████   | 36/51 [00:19<00:08,  1.87it/s]\u001b[A\n",
      " 73%|███████▎  | 37/51 [00:20<00:07,  1.87it/s]\u001b[A\n",
      " 75%|███████▍  | 38/51 [00:20<00:06,  1.88it/s]\u001b[A\n",
      " 76%|███████▋  | 39/51 [00:21<00:06,  1.87it/s]\u001b[A\n",
      " 78%|███████▊  | 40/51 [00:21<00:05,  1.87it/s]\u001b[A\n",
      " 80%|████████  | 41/51 [00:22<00:05,  1.87it/s]\u001b[A\n",
      " 82%|████████▏ | 42/51 [00:22<00:04,  1.87it/s]\u001b[A\n",
      " 84%|████████▍ | 43/51 [00:23<00:04,  1.87it/s]\u001b[A\n",
      " 86%|████████▋ | 44/51 [00:24<00:03,  1.87it/s]\u001b[A\n",
      " 88%|████████▊ | 45/51 [00:24<00:03,  1.88it/s]\u001b[A\n",
      " 90%|█████████ | 46/51 [00:25<00:02,  1.88it/s]\u001b[A\n",
      " 92%|█████████▏| 47/51 [00:25<00:02,  1.88it/s]\u001b[A\n",
      " 94%|█████████▍| 48/51 [00:26<00:01,  1.88it/s]\u001b[A\n",
      " 96%|█████████▌| 49/51 [00:26<00:01,  1.88it/s]\u001b[A\n",
      " 98%|█████████▊| 50/51 [00:27<00:00,  1.88it/s]\u001b[A\n",
      "100%|██████████| 51/51 [00:27<00:00,  2.29it/s]\u001b[A\n",
      "  0%|          | 0/2 [00:00<?, ?it/s]\u001b[A"
     ]
    },
    {
     "name": "stdout",
     "output_type": "stream",
     "text": [
      "Completed training for epoch 75, testing validation dataset\n"
     ]
    },
    {
     "name": "stderr",
     "output_type": "stream",
     "text": [
      "\n",
      " 50%|█████     | 1/2 [00:00<00:00,  1.63it/s]\u001b[A\n",
      "100%|██████████| 2/2 [00:00<00:00,  2.09it/s]\u001b[A\n",
      "  0%|          | 0/2 [00:00<?, ?it/s]\u001b[A"
     ]
    },
    {
     "name": "stdout",
     "output_type": "stream",
     "text": [
      "loss: 0.3824807405471802\n",
      "top1acc: 89.19994354248047\n",
      "Completed testing validation dataset for epoch 75, testing training dataset\n"
     ]
    },
    {
     "name": "stderr",
     "output_type": "stream",
     "text": [
      "\n",
      " 50%|█████     | 1/2 [00:00<00:00,  1.74it/s]\u001b[A\n",
      " 63%|██████▎   | 76/120 [36:57<21:23, 29.17s/it]\n",
      "  0%|          | 0/51 [00:00<?, ?it/s]\u001b[A"
     ]
    },
    {
     "name": "stdout",
     "output_type": "stream",
     "text": [
      "loss: 0.171090230345726\n",
      "top1acc: 94.9999771118164\n",
      "Completed testing training dataset for epoch 75\n",
      "Starting epoch 76\n"
     ]
    },
    {
     "name": "stderr",
     "output_type": "stream",
     "text": [
      "\n",
      "  2%|▏         | 1/51 [00:01<00:52,  1.05s/it]\u001b[A\n",
      "  4%|▍         | 2/51 [00:01<00:43,  1.12it/s]\u001b[A\n",
      "  6%|▌         | 3/51 [00:02<00:37,  1.27it/s]\u001b[A\n",
      "  8%|▊         | 4/51 [00:02<00:33,  1.41it/s]\u001b[A\n",
      " 10%|▉         | 5/51 [00:03<00:30,  1.52it/s]\u001b[A\n",
      " 12%|█▏        | 6/51 [00:03<00:27,  1.61it/s]\u001b[A\n",
      " 14%|█▎        | 7/51 [00:04<00:26,  1.68it/s]\u001b[A\n",
      " 16%|█▌        | 8/51 [00:04<00:24,  1.74it/s]\u001b[A\n",
      " 18%|█▊        | 9/51 [00:05<00:23,  1.77it/s]\u001b[A\n",
      " 20%|█▉        | 10/51 [00:05<00:22,  1.80it/s]\u001b[A\n",
      " 22%|██▏       | 11/51 [00:06<00:21,  1.83it/s]\u001b[A\n",
      " 24%|██▎       | 12/51 [00:06<00:21,  1.84it/s]\u001b[A\n",
      " 25%|██▌       | 13/51 [00:07<00:20,  1.85it/s]\u001b[A\n",
      " 27%|██▋       | 14/51 [00:07<00:19,  1.86it/s]\u001b[A\n",
      " 29%|██▉       | 15/51 [00:08<00:19,  1.87it/s]\u001b[A\n",
      " 31%|███▏      | 16/51 [00:09<00:18,  1.87it/s]\u001b[A\n",
      " 33%|███▎      | 17/51 [00:09<00:18,  1.87it/s]\u001b[A\n",
      " 35%|███▌      | 18/51 [00:10<00:17,  1.87it/s]\u001b[A\n",
      " 37%|███▋      | 19/51 [00:10<00:17,  1.88it/s]\u001b[A\n",
      " 39%|███▉      | 20/51 [00:11<00:16,  1.88it/s]\u001b[A\n",
      " 41%|████      | 21/51 [00:11<00:15,  1.88it/s]\u001b[A\n",
      " 43%|████▎     | 22/51 [00:12<00:15,  1.87it/s]\u001b[A\n",
      " 45%|████▌     | 23/51 [00:12<00:14,  1.87it/s]\u001b[A\n",
      " 47%|████▋     | 24/51 [00:13<00:14,  1.87it/s]\u001b[A\n",
      " 49%|████▉     | 25/51 [00:13<00:13,  1.87it/s]\u001b[A\n",
      " 51%|█████     | 26/51 [00:14<00:13,  1.87it/s]\u001b[A\n",
      " 53%|█████▎    | 27/51 [00:14<00:12,  1.88it/s]\u001b[A\n",
      " 55%|█████▍    | 28/51 [00:15<00:12,  1.87it/s]\u001b[A\n",
      " 57%|█████▋    | 29/51 [00:15<00:11,  1.87it/s]\u001b[A\n",
      " 59%|█████▉    | 30/51 [00:16<00:11,  1.86it/s]\u001b[A\n",
      " 61%|██████    | 31/51 [00:17<00:10,  1.87it/s]\u001b[A\n",
      " 63%|██████▎   | 32/51 [00:17<00:10,  1.87it/s]\u001b[A\n",
      " 65%|██████▍   | 33/51 [00:18<00:09,  1.87it/s]\u001b[A\n",
      " 67%|██████▋   | 34/51 [00:18<00:09,  1.87it/s]\u001b[A\n",
      " 69%|██████▊   | 35/51 [00:19<00:08,  1.87it/s]\u001b[A\n",
      " 71%|███████   | 36/51 [00:19<00:08,  1.87it/s]\u001b[A\n",
      " 73%|███████▎  | 37/51 [00:20<00:07,  1.87it/s]\u001b[A\n",
      " 75%|███████▍  | 38/51 [00:20<00:06,  1.87it/s]\u001b[A\n",
      " 76%|███████▋  | 39/51 [00:21<00:06,  1.87it/s]\u001b[A\n",
      " 78%|███████▊  | 40/51 [00:21<00:05,  1.86it/s]\u001b[A\n",
      " 80%|████████  | 41/51 [00:22<00:05,  1.87it/s]\u001b[A\n",
      " 82%|████████▏ | 42/51 [00:22<00:04,  1.86it/s]\u001b[A\n",
      " 84%|████████▍ | 43/51 [00:23<00:04,  1.87it/s]\u001b[A\n",
      " 86%|████████▋ | 44/51 [00:24<00:03,  1.87it/s]\u001b[A\n",
      " 88%|████████▊ | 45/51 [00:24<00:03,  1.87it/s]\u001b[A\n",
      " 90%|█████████ | 46/51 [00:25<00:02,  1.87it/s]\u001b[A\n",
      " 92%|█████████▏| 47/51 [00:25<00:02,  1.87it/s]\u001b[A\n",
      " 94%|█████████▍| 48/51 [00:26<00:01,  1.88it/s]\u001b[A\n",
      " 96%|█████████▌| 49/51 [00:26<00:01,  1.88it/s]\u001b[A\n",
      " 98%|█████████▊| 50/51 [00:27<00:00,  1.88it/s]\u001b[A\n",
      "100%|██████████| 51/51 [00:27<00:00,  2.29it/s]\u001b[A\n",
      "  0%|          | 0/2 [00:00<?, ?it/s]\u001b[A"
     ]
    },
    {
     "name": "stdout",
     "output_type": "stream",
     "text": [
      "Completed training for epoch 76, testing validation dataset\n"
     ]
    },
    {
     "name": "stderr",
     "output_type": "stream",
     "text": [
      "\n",
      " 50%|█████     | 1/2 [00:00<00:00,  1.60it/s]\u001b[A\n",
      "100%|██████████| 2/2 [00:00<00:00,  2.07it/s]\u001b[A\n",
      "  0%|          | 0/2 [00:00<?, ?it/s]\u001b[A"
     ]
    },
    {
     "name": "stdout",
     "output_type": "stream",
     "text": [
      "loss: 0.3787241280078888\n",
      "top1acc: 89.99994659423828\n",
      "Completed testing validation dataset for epoch 76, testing training dataset\n"
     ]
    },
    {
     "name": "stderr",
     "output_type": "stream",
     "text": [
      "\n",
      " 50%|█████     | 1/2 [00:00<00:00,  1.65it/s]\u001b[A\n",
      " 64%|██████▍   | 77/120 [37:26<20:55, 29.19s/it]\n",
      "  0%|          | 0/51 [00:00<?, ?it/s]\u001b[A"
     ]
    },
    {
     "name": "stdout",
     "output_type": "stream",
     "text": [
      "loss: 0.16411608457565308\n",
      "top1acc: 94.8000259399414\n",
      "Completed testing training dataset for epoch 76\n",
      "Starting epoch 77\n"
     ]
    },
    {
     "name": "stderr",
     "output_type": "stream",
     "text": [
      "\n",
      "  2%|▏         | 1/51 [00:01<00:51,  1.03s/it]\u001b[A\n",
      "  4%|▍         | 2/51 [00:01<00:43,  1.13it/s]\u001b[A\n",
      "  6%|▌         | 3/51 [00:02<00:37,  1.28it/s]\u001b[A\n",
      "  8%|▊         | 4/51 [00:02<00:33,  1.42it/s]\u001b[A\n",
      " 10%|▉         | 5/51 [00:03<00:30,  1.53it/s]\u001b[A\n",
      " 12%|█▏        | 6/51 [00:03<00:27,  1.62it/s]\u001b[A\n",
      " 14%|█▎        | 7/51 [00:04<00:26,  1.69it/s]\u001b[A\n",
      " 16%|█▌        | 8/51 [00:04<00:24,  1.74it/s]\u001b[A\n",
      " 18%|█▊        | 9/51 [00:05<00:23,  1.78it/s]\u001b[A\n",
      " 20%|█▉        | 10/51 [00:05<00:22,  1.81it/s]\u001b[A\n",
      " 22%|██▏       | 11/51 [00:06<00:21,  1.83it/s]\u001b[A\n",
      " 24%|██▎       | 12/51 [00:06<00:21,  1.84it/s]\u001b[A\n",
      " 25%|██▌       | 13/51 [00:07<00:20,  1.85it/s]\u001b[A\n",
      " 27%|██▋       | 14/51 [00:07<00:19,  1.86it/s]\u001b[A\n",
      " 29%|██▉       | 15/51 [00:08<00:19,  1.86it/s]\u001b[A\n",
      " 31%|███▏      | 16/51 [00:09<00:18,  1.86it/s]\u001b[A\n",
      " 33%|███▎      | 17/51 [00:09<00:18,  1.87it/s]\u001b[A\n",
      " 35%|███▌      | 18/51 [00:10<00:17,  1.87it/s]\u001b[A\n",
      " 37%|███▋      | 19/51 [00:10<00:17,  1.87it/s]\u001b[A\n",
      " 39%|███▉      | 20/51 [00:11<00:16,  1.87it/s]\u001b[A\n",
      " 41%|████      | 21/51 [00:11<00:16,  1.87it/s]\u001b[A\n",
      " 43%|████▎     | 22/51 [00:12<00:15,  1.87it/s]\u001b[A\n",
      " 45%|████▌     | 23/51 [00:12<00:14,  1.87it/s]\u001b[A\n",
      " 47%|████▋     | 24/51 [00:13<00:14,  1.87it/s]\u001b[A\n",
      " 49%|████▉     | 25/51 [00:13<00:13,  1.87it/s]\u001b[A\n",
      " 51%|█████     | 26/51 [00:14<00:13,  1.87it/s]\u001b[A\n",
      " 53%|█████▎    | 27/51 [00:14<00:12,  1.87it/s]\u001b[A\n",
      " 55%|█████▍    | 28/51 [00:15<00:12,  1.87it/s]\u001b[A\n",
      " 57%|█████▋    | 29/51 [00:15<00:11,  1.87it/s]\u001b[A\n",
      " 59%|█████▉    | 30/51 [00:16<00:11,  1.87it/s]\u001b[A\n",
      " 61%|██████    | 31/51 [00:17<00:10,  1.87it/s]\u001b[A\n",
      " 63%|██████▎   | 32/51 [00:17<00:10,  1.87it/s]\u001b[A\n",
      " 65%|██████▍   | 33/51 [00:18<00:09,  1.87it/s]\u001b[A\n",
      " 67%|██████▋   | 34/51 [00:18<00:09,  1.87it/s]\u001b[A\n",
      " 69%|██████▊   | 35/51 [00:19<00:08,  1.87it/s]\u001b[A\n",
      " 71%|███████   | 36/51 [00:19<00:08,  1.87it/s]\u001b[A\n",
      " 73%|███████▎  | 37/51 [00:20<00:07,  1.87it/s]\u001b[A\n",
      " 75%|███████▍  | 38/51 [00:20<00:06,  1.87it/s]\u001b[A\n",
      " 76%|███████▋  | 39/51 [00:21<00:06,  1.87it/s]\u001b[A\n",
      " 78%|███████▊  | 40/51 [00:21<00:05,  1.87it/s]\u001b[A\n",
      " 80%|████████  | 41/51 [00:22<00:05,  1.87it/s]\u001b[A\n",
      " 82%|████████▏ | 42/51 [00:22<00:04,  1.87it/s]\u001b[A\n",
      " 84%|████████▍ | 43/51 [00:23<00:04,  1.88it/s]\u001b[A\n",
      " 86%|████████▋ | 44/51 [00:23<00:03,  1.88it/s]\u001b[A\n",
      " 88%|████████▊ | 45/51 [00:24<00:03,  1.88it/s]\u001b[A\n",
      " 90%|█████████ | 46/51 [00:25<00:02,  1.88it/s]\u001b[A\n",
      " 92%|█████████▏| 47/51 [00:25<00:02,  1.88it/s]\u001b[A\n",
      " 94%|█████████▍| 48/51 [00:26<00:01,  1.87it/s]\u001b[A\n",
      " 96%|█████████▌| 49/51 [00:26<00:01,  1.87it/s]\u001b[A\n",
      " 98%|█████████▊| 50/51 [00:27<00:00,  1.87it/s]\u001b[A\n",
      "100%|██████████| 51/51 [00:27<00:00,  2.27it/s]\u001b[A\n",
      "  0%|          | 0/2 [00:00<?, ?it/s]\u001b[A"
     ]
    },
    {
     "name": "stdout",
     "output_type": "stream",
     "text": [
      "Completed training for epoch 77, testing validation dataset\n"
     ]
    },
    {
     "name": "stderr",
     "output_type": "stream",
     "text": [
      "\n",
      " 50%|█████     | 1/2 [00:00<00:00,  1.67it/s]\u001b[A\n",
      "100%|██████████| 2/2 [00:00<00:00,  2.15it/s]\u001b[A\n",
      "  0%|          | 0/2 [00:00<?, ?it/s]\u001b[A"
     ]
    },
    {
     "name": "stdout",
     "output_type": "stream",
     "text": [
      "loss: 0.39519935846328735\n",
      "top1acc: 88.1999740600586\n",
      "Completed testing validation dataset for epoch 77, testing training dataset\n"
     ]
    },
    {
     "name": "stderr",
     "output_type": "stream",
     "text": [
      "\n",
      " 50%|█████     | 1/2 [00:00<00:00,  1.67it/s]\u001b[A\n",
      " 65%|██████▌   | 78/120 [37:55<20:25, 29.18s/it]\n",
      "  0%|          | 0/51 [00:00<?, ?it/s]\u001b[A"
     ]
    },
    {
     "name": "stdout",
     "output_type": "stream",
     "text": [
      "loss: 0.18979564309120178\n",
      "top1acc: 94.39997863769531\n",
      "Completed testing training dataset for epoch 77\n",
      "Starting epoch 78\n"
     ]
    },
    {
     "name": "stderr",
     "output_type": "stream",
     "text": [
      "\n",
      "  2%|▏         | 1/51 [00:01<00:52,  1.05s/it]\u001b[A\n",
      "  4%|▍         | 2/51 [00:01<00:43,  1.12it/s]\u001b[A\n",
      "  6%|▌         | 3/51 [00:02<00:37,  1.28it/s]\u001b[A\n",
      "  8%|▊         | 4/51 [00:02<00:33,  1.41it/s]\u001b[A\n",
      " 10%|▉         | 5/51 [00:03<00:30,  1.52it/s]\u001b[A\n",
      " 12%|█▏        | 6/51 [00:03<00:27,  1.61it/s]\u001b[A\n",
      " 14%|█▎        | 7/51 [00:04<00:26,  1.68it/s]\u001b[A\n",
      " 16%|█▌        | 8/51 [00:04<00:24,  1.73it/s]\u001b[A\n",
      " 18%|█▊        | 9/51 [00:05<00:23,  1.77it/s]\u001b[A\n",
      " 20%|█▉        | 10/51 [00:05<00:22,  1.80it/s]\u001b[A\n",
      " 22%|██▏       | 11/51 [00:06<00:21,  1.82it/s]\u001b[A\n",
      " 24%|██▎       | 12/51 [00:06<00:21,  1.84it/s]\u001b[A\n",
      " 25%|██▌       | 13/51 [00:07<00:20,  1.85it/s]\u001b[A\n",
      " 27%|██▋       | 14/51 [00:07<00:19,  1.86it/s]\u001b[A\n",
      " 29%|██▉       | 15/51 [00:08<00:19,  1.85it/s]\u001b[A\n",
      " 31%|███▏      | 16/51 [00:09<00:18,  1.85it/s]\u001b[A\n",
      " 33%|███▎      | 17/51 [00:09<00:18,  1.86it/s]\u001b[A\n",
      " 35%|███▌      | 18/51 [00:10<00:17,  1.86it/s]\u001b[A\n",
      " 37%|███▋      | 19/51 [00:10<00:17,  1.86it/s]\u001b[A\n",
      " 39%|███▉      | 20/51 [00:11<00:16,  1.87it/s]\u001b[A\n",
      " 41%|████      | 21/51 [00:11<00:16,  1.87it/s]\u001b[A\n",
      " 43%|████▎     | 22/51 [00:12<00:15,  1.87it/s]\u001b[A\n",
      " 45%|████▌     | 23/51 [00:12<00:14,  1.87it/s]\u001b[A\n",
      " 47%|████▋     | 24/51 [00:13<00:14,  1.87it/s]\u001b[A\n",
      " 49%|████▉     | 25/51 [00:13<00:13,  1.87it/s]\u001b[A\n",
      " 51%|█████     | 26/51 [00:14<00:13,  1.87it/s]\u001b[A\n",
      " 53%|█████▎    | 27/51 [00:14<00:12,  1.87it/s]\u001b[A\n",
      " 55%|█████▍    | 28/51 [00:15<00:12,  1.87it/s]\u001b[A\n",
      " 57%|█████▋    | 29/51 [00:16<00:11,  1.87it/s]\u001b[A\n",
      " 59%|█████▉    | 30/51 [00:16<00:11,  1.87it/s]\u001b[A\n",
      " 61%|██████    | 31/51 [00:17<00:10,  1.87it/s]\u001b[A\n",
      " 63%|██████▎   | 32/51 [00:17<00:10,  1.87it/s]\u001b[A\n",
      " 65%|██████▍   | 33/51 [00:18<00:09,  1.87it/s]\u001b[A\n",
      " 67%|██████▋   | 34/51 [00:18<00:09,  1.87it/s]\u001b[A\n",
      " 69%|██████▊   | 35/51 [00:19<00:08,  1.87it/s]\u001b[A\n",
      " 71%|███████   | 36/51 [00:19<00:08,  1.87it/s]\u001b[A\n",
      " 73%|███████▎  | 37/51 [00:20<00:07,  1.87it/s]\u001b[A\n",
      " 75%|███████▍  | 38/51 [00:20<00:06,  1.88it/s]\u001b[A\n",
      " 76%|███████▋  | 39/51 [00:21<00:06,  1.87it/s]\u001b[A\n",
      " 78%|███████▊  | 40/51 [00:21<00:05,  1.87it/s]\u001b[A\n",
      " 80%|████████  | 41/51 [00:22<00:05,  1.87it/s]\u001b[A\n",
      " 82%|████████▏ | 42/51 [00:22<00:04,  1.87it/s]\u001b[A\n",
      " 84%|████████▍ | 43/51 [00:23<00:04,  1.87it/s]\u001b[A\n",
      " 86%|████████▋ | 44/51 [00:24<00:03,  1.88it/s]\u001b[A\n",
      " 88%|████████▊ | 45/51 [00:24<00:03,  1.88it/s]\u001b[A\n",
      " 90%|█████████ | 46/51 [00:25<00:02,  1.88it/s]\u001b[A\n",
      " 92%|█████████▏| 47/51 [00:25<00:02,  1.88it/s]\u001b[A\n",
      " 94%|█████████▍| 48/51 [00:26<00:01,  1.88it/s]\u001b[A\n",
      " 96%|█████████▌| 49/51 [00:26<00:01,  1.88it/s]\u001b[A\n",
      " 98%|█████████▊| 50/51 [00:27<00:00,  1.88it/s]\u001b[A\n",
      "100%|██████████| 51/51 [00:27<00:00,  2.28it/s]\u001b[A\n",
      "  0%|          | 0/2 [00:00<?, ?it/s]\u001b[A"
     ]
    },
    {
     "name": "stdout",
     "output_type": "stream",
     "text": [
      "Completed training for epoch 78, testing validation dataset\n"
     ]
    },
    {
     "name": "stderr",
     "output_type": "stream",
     "text": [
      "\n",
      " 50%|█████     | 1/2 [00:00<00:00,  1.64it/s]\u001b[A\n",
      "100%|██████████| 2/2 [00:00<00:00,  2.10it/s]\u001b[A\n",
      "  0%|          | 0/2 [00:00<?, ?it/s]\u001b[A"
     ]
    },
    {
     "name": "stdout",
     "output_type": "stream",
     "text": [
      "loss: 0.3955886960029602\n",
      "top1acc: 88.99994659423828\n",
      "Completed testing validation dataset for epoch 78, testing training dataset\n"
     ]
    },
    {
     "name": "stderr",
     "output_type": "stream",
     "text": [
      "\n",
      " 50%|█████     | 1/2 [00:00<00:00,  1.58it/s]\u001b[A\n",
      " 66%|██████▌   | 79/120 [38:24<19:57, 29.20s/it]\n",
      "  0%|          | 0/51 [00:00<?, ?it/s]\u001b[A"
     ]
    },
    {
     "name": "stdout",
     "output_type": "stream",
     "text": [
      "loss: 0.17826004326343536\n",
      "top1acc: 94.39997863769531\n",
      "Completed testing training dataset for epoch 78\n",
      "Starting epoch 79\n"
     ]
    },
    {
     "name": "stderr",
     "output_type": "stream",
     "text": [
      "\n",
      "  2%|▏         | 1/51 [00:01<00:51,  1.02s/it]\u001b[A\n",
      "  4%|▍         | 2/51 [00:01<00:42,  1.14it/s]\u001b[A\n",
      "  6%|▌         | 3/51 [00:02<00:37,  1.29it/s]\u001b[A\n",
      "  8%|▊         | 4/51 [00:02<00:32,  1.43it/s]\u001b[A\n",
      " 10%|▉         | 5/51 [00:03<00:29,  1.54it/s]\u001b[A\n",
      " 12%|█▏        | 6/51 [00:03<00:27,  1.62it/s]\u001b[A\n",
      " 14%|█▎        | 7/51 [00:04<00:26,  1.69it/s]\u001b[A\n",
      " 16%|█▌        | 8/51 [00:04<00:24,  1.74it/s]\u001b[A\n",
      " 18%|█▊        | 9/51 [00:05<00:23,  1.78it/s]\u001b[A\n",
      " 20%|█▉        | 10/51 [00:05<00:22,  1.81it/s]\u001b[A\n",
      " 22%|██▏       | 11/51 [00:06<00:21,  1.83it/s]\u001b[A\n",
      " 24%|██▎       | 12/51 [00:06<00:21,  1.84it/s]\u001b[A\n",
      " 25%|██▌       | 13/51 [00:07<00:20,  1.85it/s]\u001b[A\n",
      " 27%|██▋       | 14/51 [00:07<00:19,  1.86it/s]\u001b[A\n",
      " 29%|██▉       | 15/51 [00:08<00:19,  1.86it/s]\u001b[A\n",
      " 31%|███▏      | 16/51 [00:09<00:18,  1.87it/s]\u001b[A\n",
      " 33%|███▎      | 17/51 [00:09<00:18,  1.87it/s]\u001b[A\n",
      " 35%|███▌      | 18/51 [00:10<00:17,  1.87it/s]\u001b[A\n",
      " 37%|███▋      | 19/51 [00:10<00:17,  1.87it/s]\u001b[A\n",
      " 39%|███▉      | 20/51 [00:11<00:16,  1.87it/s]\u001b[A\n",
      " 41%|████      | 21/51 [00:11<00:16,  1.87it/s]\u001b[A\n",
      " 43%|████▎     | 22/51 [00:12<00:15,  1.88it/s]\u001b[A\n",
      " 45%|████▌     | 23/51 [00:12<00:14,  1.88it/s]\u001b[A\n",
      " 47%|████▋     | 24/51 [00:13<00:14,  1.88it/s]\u001b[A\n",
      " 49%|████▉     | 25/51 [00:13<00:13,  1.88it/s]\u001b[A\n",
      " 51%|█████     | 26/51 [00:14<00:13,  1.88it/s]\u001b[A\n",
      " 53%|█████▎    | 27/51 [00:14<00:12,  1.88it/s]\u001b[A\n",
      " 55%|█████▍    | 28/51 [00:15<00:12,  1.88it/s]\u001b[A\n",
      " 57%|█████▋    | 29/51 [00:15<00:11,  1.87it/s]\u001b[A\n",
      " 59%|█████▉    | 30/51 [00:16<00:11,  1.88it/s]\u001b[A\n",
      " 61%|██████    | 31/51 [00:17<00:10,  1.88it/s]\u001b[A\n",
      " 63%|██████▎   | 32/51 [00:17<00:10,  1.88it/s]\u001b[A\n",
      " 65%|██████▍   | 33/51 [00:18<00:09,  1.88it/s]\u001b[A\n",
      " 67%|██████▋   | 34/51 [00:18<00:09,  1.88it/s]\u001b[A\n",
      " 69%|██████▊   | 35/51 [00:19<00:08,  1.88it/s]\u001b[A\n",
      " 71%|███████   | 36/51 [00:19<00:07,  1.88it/s]\u001b[A\n",
      " 73%|███████▎  | 37/51 [00:20<00:07,  1.87it/s]\u001b[A\n",
      " 75%|███████▍  | 38/51 [00:20<00:06,  1.88it/s]\u001b[A\n",
      " 76%|███████▋  | 39/51 [00:21<00:06,  1.87it/s]\u001b[A\n",
      " 78%|███████▊  | 40/51 [00:21<00:05,  1.87it/s]\u001b[A\n",
      " 80%|████████  | 41/51 [00:22<00:05,  1.87it/s]\u001b[A\n",
      " 82%|████████▏ | 42/51 [00:22<00:04,  1.88it/s]\u001b[A\n",
      " 84%|████████▍ | 43/51 [00:23<00:04,  1.88it/s]\u001b[A\n",
      " 86%|████████▋ | 44/51 [00:23<00:03,  1.88it/s]\u001b[A\n",
      " 88%|████████▊ | 45/51 [00:24<00:03,  1.88it/s]\u001b[A\n",
      " 90%|█████████ | 46/51 [00:25<00:02,  1.88it/s]\u001b[A\n",
      " 92%|█████████▏| 47/51 [00:25<00:02,  1.88it/s]\u001b[A\n",
      " 94%|█████████▍| 48/51 [00:26<00:01,  1.88it/s]\u001b[A\n",
      " 96%|█████████▌| 49/51 [00:26<00:01,  1.88it/s]\u001b[A\n",
      " 98%|█████████▊| 50/51 [00:27<00:00,  1.88it/s]\u001b[A\n",
      "100%|██████████| 51/51 [00:27<00:00,  2.29it/s]\u001b[A\n",
      "  0%|          | 0/2 [00:00<?, ?it/s]\u001b[A"
     ]
    },
    {
     "name": "stdout",
     "output_type": "stream",
     "text": [
      "Completed training for epoch 79, testing validation dataset\n"
     ]
    },
    {
     "name": "stderr",
     "output_type": "stream",
     "text": [
      "\n",
      " 50%|█████     | 1/2 [00:00<00:00,  1.65it/s]\u001b[A\n",
      "100%|██████████| 2/2 [00:00<00:00,  2.11it/s]\u001b[A\n",
      "  0%|          | 0/2 [00:00<?, ?it/s]\u001b[A"
     ]
    },
    {
     "name": "stdout",
     "output_type": "stream",
     "text": [
      "loss: 0.4052780568599701\n",
      "top1acc: 87.7999267578125\n",
      "Completed testing validation dataset for epoch 79, testing training dataset\n"
     ]
    },
    {
     "name": "stderr",
     "output_type": "stream",
     "text": [
      "\n",
      " 50%|█████     | 1/2 [00:00<00:00,  1.74it/s]\u001b[A\n",
      " 67%|██████▋   | 80/120 [38:54<19:26, 29.17s/it]\n",
      "  0%|          | 0/51 [00:00<?, ?it/s]\u001b[A"
     ]
    },
    {
     "name": "stdout",
     "output_type": "stream",
     "text": [
      "loss: 0.20369978249073029\n",
      "top1acc: 93.19994354248047\n",
      "Completed testing training dataset for epoch 79\n",
      "Starting epoch 80\n"
     ]
    },
    {
     "name": "stderr",
     "output_type": "stream",
     "text": [
      "\n",
      "  2%|▏         | 1/51 [00:01<00:52,  1.05s/it]\u001b[A\n",
      "  4%|▍         | 2/51 [00:01<00:43,  1.12it/s]\u001b[A\n",
      "  6%|▌         | 3/51 [00:02<00:37,  1.27it/s]\u001b[A\n",
      "  8%|▊         | 4/51 [00:02<00:33,  1.41it/s]\u001b[A\n",
      " 10%|▉         | 5/51 [00:03<00:30,  1.52it/s]\u001b[A\n",
      " 12%|█▏        | 6/51 [00:03<00:27,  1.61it/s]\u001b[A\n",
      " 14%|█▎        | 7/51 [00:04<00:26,  1.68it/s]\u001b[A\n",
      " 16%|█▌        | 8/51 [00:04<00:24,  1.74it/s]\u001b[A\n",
      " 18%|█▊        | 9/51 [00:05<00:23,  1.78it/s]\u001b[A\n",
      " 20%|█▉        | 10/51 [00:05<00:22,  1.81it/s]\u001b[A\n",
      " 22%|██▏       | 11/51 [00:06<00:21,  1.83it/s]\u001b[A\n",
      " 24%|██▎       | 12/51 [00:06<00:21,  1.84it/s]\u001b[A\n",
      " 25%|██▌       | 13/51 [00:07<00:20,  1.85it/s]\u001b[A\n",
      " 27%|██▋       | 14/51 [00:07<00:19,  1.86it/s]\u001b[A\n",
      " 29%|██▉       | 15/51 [00:08<00:19,  1.86it/s]\u001b[A\n",
      " 31%|███▏      | 16/51 [00:09<00:18,  1.87it/s]\u001b[A\n",
      " 33%|███▎      | 17/51 [00:09<00:18,  1.87it/s]\u001b[A\n",
      " 35%|███▌      | 18/51 [00:10<00:17,  1.87it/s]\u001b[A\n",
      " 37%|███▋      | 19/51 [00:10<00:17,  1.87it/s]\u001b[A\n",
      " 39%|███▉      | 20/51 [00:11<00:16,  1.87it/s]\u001b[A\n",
      " 41%|████      | 21/51 [00:11<00:16,  1.87it/s]\u001b[A\n",
      " 43%|████▎     | 22/51 [00:12<00:15,  1.87it/s]\u001b[A\n",
      " 45%|████▌     | 23/51 [00:12<00:14,  1.87it/s]\u001b[A\n",
      " 47%|████▋     | 24/51 [00:13<00:14,  1.87it/s]\u001b[A\n",
      " 49%|████▉     | 25/51 [00:13<00:13,  1.87it/s]\u001b[A\n",
      " 51%|█████     | 26/51 [00:14<00:13,  1.87it/s]\u001b[A\n",
      " 53%|█████▎    | 27/51 [00:14<00:12,  1.87it/s]\u001b[A\n",
      " 55%|█████▍    | 28/51 [00:15<00:12,  1.87it/s]\u001b[A\n",
      " 57%|█████▋    | 29/51 [00:15<00:11,  1.87it/s]\u001b[A\n",
      " 59%|█████▉    | 30/51 [00:16<00:11,  1.87it/s]\u001b[A\n",
      " 61%|██████    | 31/51 [00:17<00:10,  1.87it/s]\u001b[A\n",
      " 63%|██████▎   | 32/51 [00:17<00:10,  1.87it/s]\u001b[A\n",
      " 65%|██████▍   | 33/51 [00:18<00:09,  1.87it/s]\u001b[A\n",
      " 67%|██████▋   | 34/51 [00:18<00:09,  1.87it/s]\u001b[A\n",
      " 69%|██████▊   | 35/51 [00:19<00:08,  1.87it/s]\u001b[A\n",
      " 71%|███████   | 36/51 [00:19<00:08,  1.87it/s]\u001b[A\n",
      " 73%|███████▎  | 37/51 [00:20<00:07,  1.87it/s]\u001b[A\n",
      " 75%|███████▍  | 38/51 [00:20<00:06,  1.87it/s]\u001b[A\n",
      " 76%|███████▋  | 39/51 [00:21<00:06,  1.87it/s]\u001b[A\n",
      " 78%|███████▊  | 40/51 [00:21<00:05,  1.87it/s]\u001b[A\n",
      " 80%|████████  | 41/51 [00:22<00:05,  1.87it/s]\u001b[A\n",
      " 82%|████████▏ | 42/51 [00:22<00:04,  1.87it/s]\u001b[A\n",
      " 84%|████████▍ | 43/51 [00:23<00:04,  1.87it/s]\u001b[A\n",
      " 86%|████████▋ | 44/51 [00:23<00:03,  1.87it/s]\u001b[A\n",
      " 88%|████████▊ | 45/51 [00:24<00:03,  1.88it/s]\u001b[A\n",
      " 90%|█████████ | 46/51 [00:25<00:02,  1.88it/s]\u001b[A\n",
      " 92%|█████████▏| 47/51 [00:25<00:02,  1.88it/s]\u001b[A\n",
      " 94%|█████████▍| 48/51 [00:26<00:01,  1.88it/s]\u001b[A\n",
      " 96%|█████████▌| 49/51 [00:26<00:01,  1.88it/s]\u001b[A\n",
      " 98%|█████████▊| 50/51 [00:27<00:00,  1.88it/s]\u001b[A\n",
      "100%|██████████| 51/51 [00:27<00:00,  2.29it/s]\u001b[A\n",
      "  0%|          | 0/2 [00:00<?, ?it/s]\u001b[A"
     ]
    },
    {
     "name": "stdout",
     "output_type": "stream",
     "text": [
      "Completed training for epoch 80, testing validation dataset\n"
     ]
    },
    {
     "name": "stderr",
     "output_type": "stream",
     "text": [
      "\n",
      " 50%|█████     | 1/2 [00:00<00:00,  1.71it/s]\u001b[A\n",
      "100%|██████████| 2/2 [00:00<00:00,  2.19it/s]\u001b[A\n",
      "  0%|          | 0/2 [00:00<?, ?it/s]\u001b[A"
     ]
    },
    {
     "name": "stdout",
     "output_type": "stream",
     "text": [
      "loss: 0.4012455344200134\n",
      "top1acc: 88.99993896484375\n",
      "Completed testing validation dataset for epoch 80, testing training dataset\n"
     ]
    },
    {
     "name": "stderr",
     "output_type": "stream",
     "text": [
      "\n",
      " 50%|█████     | 1/2 [00:00<00:00,  1.64it/s]\u001b[A\n",
      " 68%|██████▊   | 81/120 [39:23<18:57, 29.16s/it]\n",
      "  0%|          | 0/51 [00:00<?, ?it/s]\u001b[A"
     ]
    },
    {
     "name": "stdout",
     "output_type": "stream",
     "text": [
      "loss: 0.17380523681640625\n",
      "top1acc: 93.79994201660156\n",
      "Completed testing training dataset for epoch 80\n",
      "Starting epoch 81\n"
     ]
    },
    {
     "name": "stderr",
     "output_type": "stream",
     "text": [
      "\n",
      "  2%|▏         | 1/51 [00:01<00:52,  1.05s/it]\u001b[A\n",
      "  4%|▍         | 2/51 [00:01<00:43,  1.11it/s]\u001b[A\n",
      "  6%|▌         | 3/51 [00:02<00:37,  1.27it/s]\u001b[A\n",
      "  8%|▊         | 4/51 [00:02<00:33,  1.40it/s]\u001b[A\n",
      " 10%|▉         | 5/51 [00:03<00:30,  1.52it/s]\u001b[A\n",
      " 12%|█▏        | 6/51 [00:03<00:27,  1.61it/s]\u001b[A\n",
      " 14%|█▎        | 7/51 [00:04<00:26,  1.68it/s]\u001b[A\n",
      " 16%|█▌        | 8/51 [00:04<00:24,  1.74it/s]\u001b[A\n",
      " 18%|█▊        | 9/51 [00:05<00:23,  1.78it/s]\u001b[A\n",
      " 20%|█▉        | 10/51 [00:05<00:22,  1.80it/s]\u001b[A\n",
      " 22%|██▏       | 11/51 [00:06<00:21,  1.83it/s]\u001b[A\n",
      " 24%|██▎       | 12/51 [00:06<00:21,  1.84it/s]\u001b[A\n",
      " 25%|██▌       | 13/51 [00:07<00:20,  1.85it/s]\u001b[A\n",
      " 27%|██▋       | 14/51 [00:07<00:19,  1.86it/s]\u001b[A\n",
      " 29%|██▉       | 15/51 [00:08<00:19,  1.86it/s]\u001b[A\n",
      " 31%|███▏      | 16/51 [00:09<00:18,  1.87it/s]\u001b[A\n",
      " 33%|███▎      | 17/51 [00:09<00:18,  1.87it/s]\u001b[A\n",
      " 35%|███▌      | 18/51 [00:10<00:17,  1.87it/s]\u001b[A\n",
      " 37%|███▋      | 19/51 [00:10<00:17,  1.87it/s]\u001b[A\n",
      " 39%|███▉      | 20/51 [00:11<00:16,  1.87it/s]\u001b[A\n",
      " 41%|████      | 21/51 [00:11<00:16,  1.87it/s]\u001b[A\n",
      " 43%|████▎     | 22/51 [00:12<00:15,  1.87it/s]\u001b[A\n",
      " 45%|████▌     | 23/51 [00:12<00:14,  1.87it/s]\u001b[A\n",
      " 47%|████▋     | 24/51 [00:13<00:14,  1.87it/s]\u001b[A\n",
      " 49%|████▉     | 25/51 [00:13<00:13,  1.88it/s]\u001b[A\n",
      " 51%|█████     | 26/51 [00:14<00:13,  1.88it/s]\u001b[A\n",
      " 53%|█████▎    | 27/51 [00:14<00:12,  1.87it/s]\u001b[A\n",
      " 55%|█████▍    | 28/51 [00:15<00:12,  1.87it/s]\u001b[A\n",
      " 57%|█████▋    | 29/51 [00:15<00:11,  1.87it/s]\u001b[A\n",
      " 59%|█████▉    | 30/51 [00:16<00:11,  1.87it/s]\u001b[A\n",
      " 61%|██████    | 31/51 [00:17<00:10,  1.87it/s]\u001b[A\n",
      " 63%|██████▎   | 32/51 [00:17<00:10,  1.87it/s]\u001b[A\n",
      " 65%|██████▍   | 33/51 [00:18<00:09,  1.87it/s]\u001b[A\n",
      " 67%|██████▋   | 34/51 [00:18<00:09,  1.88it/s]\u001b[A\n",
      " 69%|██████▊   | 35/51 [00:19<00:08,  1.88it/s]\u001b[A\n",
      " 71%|███████   | 36/51 [00:19<00:07,  1.88it/s]\u001b[A\n",
      " 73%|███████▎  | 37/51 [00:20<00:07,  1.87it/s]\u001b[A\n",
      " 75%|███████▍  | 38/51 [00:20<00:06,  1.88it/s]\u001b[A\n",
      " 76%|███████▋  | 39/51 [00:21<00:06,  1.87it/s]\u001b[A\n",
      " 78%|███████▊  | 40/51 [00:21<00:05,  1.87it/s]\u001b[A\n",
      " 80%|████████  | 41/51 [00:22<00:05,  1.87it/s]\u001b[A\n",
      " 82%|████████▏ | 42/51 [00:22<00:04,  1.87it/s]\u001b[A\n",
      " 84%|████████▍ | 43/51 [00:23<00:04,  1.87it/s]\u001b[A\n",
      " 86%|████████▋ | 44/51 [00:23<00:03,  1.87it/s]\u001b[A\n",
      " 88%|████████▊ | 45/51 [00:24<00:03,  1.88it/s]\u001b[A\n",
      " 90%|█████████ | 46/51 [00:25<00:02,  1.88it/s]\u001b[A\n",
      " 92%|█████████▏| 47/51 [00:25<00:02,  1.88it/s]\u001b[A\n",
      " 94%|█████████▍| 48/51 [00:26<00:01,  1.88it/s]\u001b[A\n",
      " 96%|█████████▌| 49/51 [00:26<00:01,  1.88it/s]\u001b[A\n",
      " 98%|█████████▊| 50/51 [00:27<00:00,  1.88it/s]\u001b[A\n",
      "100%|██████████| 51/51 [00:27<00:00,  2.29it/s]\u001b[A\n",
      "  0%|          | 0/2 [00:00<?, ?it/s]\u001b[A"
     ]
    },
    {
     "name": "stdout",
     "output_type": "stream",
     "text": [
      "Completed training for epoch 81, testing validation dataset\n"
     ]
    },
    {
     "name": "stderr",
     "output_type": "stream",
     "text": [
      "\n",
      " 50%|█████     | 1/2 [00:00<00:00,  1.67it/s]\u001b[A\n",
      "100%|██████████| 2/2 [00:00<00:00,  2.15it/s]\u001b[A\n",
      "  0%|          | 0/2 [00:00<?, ?it/s]\u001b[A"
     ]
    },
    {
     "name": "stdout",
     "output_type": "stream",
     "text": [
      "loss: 0.37672412395477295\n",
      "top1acc: 88.99993896484375\n",
      "Completed testing validation dataset for epoch 81, testing training dataset\n"
     ]
    },
    {
     "name": "stderr",
     "output_type": "stream",
     "text": [
      "\n",
      " 50%|█████     | 1/2 [00:00<00:00,  1.61it/s]\u001b[A\n",
      " 68%|██████▊   | 82/120 [39:52<18:28, 29.16s/it]\n",
      "  0%|          | 0/51 [00:00<?, ?it/s]\u001b[A"
     ]
    },
    {
     "name": "stdout",
     "output_type": "stream",
     "text": [
      "loss: 0.15876860916614532\n",
      "top1acc: 95.79998016357422\n",
      "Completed testing training dataset for epoch 81\n",
      "Starting epoch 82\n"
     ]
    },
    {
     "name": "stderr",
     "output_type": "stream",
     "text": [
      "\n",
      "  2%|▏         | 1/51 [00:01<00:51,  1.03s/it]\u001b[A\n",
      "  4%|▍         | 2/51 [00:01<00:43,  1.13it/s]\u001b[A\n",
      "  6%|▌         | 3/51 [00:02<00:37,  1.28it/s]\u001b[A\n",
      "  8%|▊         | 4/51 [00:02<00:33,  1.41it/s]\u001b[A\n",
      " 10%|▉         | 5/51 [00:03<00:30,  1.52it/s]\u001b[A\n",
      " 12%|█▏        | 6/51 [00:03<00:27,  1.62it/s]\u001b[A\n",
      " 14%|█▎        | 7/51 [00:04<00:26,  1.69it/s]\u001b[A\n",
      " 16%|█▌        | 8/51 [00:04<00:24,  1.74it/s]\u001b[A\n",
      " 18%|█▊        | 9/51 [00:05<00:23,  1.78it/s]\u001b[A\n",
      " 20%|█▉        | 10/51 [00:05<00:22,  1.80it/s]\u001b[A\n",
      " 22%|██▏       | 11/51 [00:06<00:21,  1.82it/s]\u001b[A\n",
      " 24%|██▎       | 12/51 [00:06<00:21,  1.84it/s]\u001b[A\n",
      " 25%|██▌       | 13/51 [00:07<00:20,  1.85it/s]\u001b[A\n",
      " 27%|██▋       | 14/51 [00:07<00:19,  1.86it/s]\u001b[A\n",
      " 29%|██▉       | 15/51 [00:08<00:19,  1.86it/s]\u001b[A\n",
      " 31%|███▏      | 16/51 [00:09<00:18,  1.87it/s]\u001b[A\n",
      " 33%|███▎      | 17/51 [00:09<00:18,  1.87it/s]\u001b[A\n",
      " 35%|███▌      | 18/51 [00:10<00:17,  1.87it/s]\u001b[A\n",
      " 37%|███▋      | 19/51 [00:10<00:17,  1.87it/s]\u001b[A\n",
      " 39%|███▉      | 20/51 [00:11<00:16,  1.88it/s]\u001b[A\n",
      " 41%|████      | 21/51 [00:11<00:15,  1.88it/s]\u001b[A\n",
      " 43%|████▎     | 22/51 [00:12<00:15,  1.88it/s]\u001b[A\n",
      " 45%|████▌     | 23/51 [00:12<00:14,  1.88it/s]\u001b[A\n",
      " 47%|████▋     | 24/51 [00:13<00:14,  1.88it/s]\u001b[A\n",
      " 49%|████▉     | 25/51 [00:13<00:13,  1.88it/s]\u001b[A\n",
      " 51%|█████     | 26/51 [00:14<00:13,  1.88it/s]\u001b[A\n",
      " 53%|█████▎    | 27/51 [00:14<00:12,  1.88it/s]\u001b[A\n",
      " 55%|█████▍    | 28/51 [00:15<00:12,  1.88it/s]\u001b[A\n",
      " 57%|█████▋    | 29/51 [00:15<00:11,  1.88it/s]\u001b[A\n",
      " 59%|█████▉    | 30/51 [00:16<00:11,  1.88it/s]\u001b[A\n",
      " 61%|██████    | 31/51 [00:17<00:10,  1.87it/s]\u001b[A\n",
      " 63%|██████▎   | 32/51 [00:17<00:10,  1.88it/s]\u001b[A\n",
      " 65%|██████▍   | 33/51 [00:18<00:09,  1.87it/s]\u001b[A\n",
      " 67%|██████▋   | 34/51 [00:18<00:09,  1.87it/s]\u001b[A\n",
      " 69%|██████▊   | 35/51 [00:19<00:08,  1.87it/s]\u001b[A\n",
      " 71%|███████   | 36/51 [00:19<00:08,  1.87it/s]\u001b[A\n",
      " 73%|███████▎  | 37/51 [00:20<00:07,  1.87it/s]\u001b[A\n",
      " 75%|███████▍  | 38/51 [00:20<00:06,  1.88it/s]\u001b[A\n",
      " 76%|███████▋  | 39/51 [00:21<00:06,  1.88it/s]\u001b[A\n",
      " 78%|███████▊  | 40/51 [00:21<00:05,  1.88it/s]\u001b[A\n",
      " 80%|████████  | 41/51 [00:22<00:05,  1.88it/s]\u001b[A\n",
      " 82%|████████▏ | 42/51 [00:22<00:04,  1.87it/s]\u001b[A\n",
      " 84%|████████▍ | 43/51 [00:23<00:04,  1.87it/s]\u001b[A\n",
      " 86%|████████▋ | 44/51 [00:23<00:03,  1.88it/s]\u001b[A\n",
      " 88%|████████▊ | 45/51 [00:24<00:03,  1.88it/s]\u001b[A\n",
      " 90%|█████████ | 46/51 [00:25<00:02,  1.88it/s]\u001b[A\n",
      " 92%|█████████▏| 47/51 [00:25<00:02,  1.88it/s]\u001b[A\n",
      " 94%|█████████▍| 48/51 [00:26<00:01,  1.88it/s]\u001b[A\n",
      " 96%|█████████▌| 49/51 [00:26<00:01,  1.88it/s]\u001b[A\n",
      " 98%|█████████▊| 50/51 [00:27<00:00,  1.88it/s]\u001b[A\n",
      "100%|██████████| 51/51 [00:27<00:00,  2.29it/s]\u001b[A\n",
      "  0%|          | 0/2 [00:00<?, ?it/s]\u001b[A"
     ]
    },
    {
     "name": "stdout",
     "output_type": "stream",
     "text": [
      "Completed training for epoch 82, testing validation dataset\n"
     ]
    },
    {
     "name": "stderr",
     "output_type": "stream",
     "text": [
      "\n",
      " 50%|█████     | 1/2 [00:00<00:00,  1.65it/s]\u001b[A\n",
      "100%|██████████| 2/2 [00:00<00:00,  2.12it/s]\u001b[A\n",
      "  0%|          | 0/2 [00:00<?, ?it/s]\u001b[A"
     ]
    },
    {
     "name": "stdout",
     "output_type": "stream",
     "text": [
      "loss: 0.39172831177711487\n",
      "top1acc: 88.99993133544922\n",
      "Completed testing validation dataset for epoch 82, testing training dataset\n"
     ]
    },
    {
     "name": "stderr",
     "output_type": "stream",
     "text": [
      "\n",
      " 50%|█████     | 1/2 [00:00<00:00,  1.67it/s]\u001b[A\n",
      " 69%|██████▉   | 83/120 [40:21<17:58, 29.16s/it]\n",
      "  0%|          | 0/51 [00:00<?, ?it/s]\u001b[A"
     ]
    },
    {
     "name": "stdout",
     "output_type": "stream",
     "text": [
      "loss: 0.16183996200561523\n",
      "top1acc: 95.20001220703125\n",
      "Completed testing training dataset for epoch 82\n",
      "Starting epoch 83\n"
     ]
    },
    {
     "name": "stderr",
     "output_type": "stream",
     "text": [
      "\n",
      "  2%|▏         | 1/51 [00:01<00:53,  1.07s/it]\u001b[A\n",
      "  4%|▍         | 2/51 [00:01<00:44,  1.10it/s]\u001b[A\n",
      "  6%|▌         | 3/51 [00:02<00:38,  1.26it/s]\u001b[A\n",
      "  8%|▊         | 4/51 [00:02<00:33,  1.39it/s]\u001b[A\n",
      " 10%|▉         | 5/51 [00:03<00:30,  1.51it/s]\u001b[A\n",
      " 12%|█▏        | 6/51 [00:03<00:28,  1.60it/s]\u001b[A\n",
      " 14%|█▎        | 7/51 [00:04<00:26,  1.67it/s]\u001b[A\n",
      " 16%|█▌        | 8/51 [00:04<00:24,  1.73it/s]\u001b[A\n",
      " 18%|█▊        | 9/51 [00:05<00:23,  1.77it/s]\u001b[A\n",
      " 20%|█▉        | 10/51 [00:05<00:22,  1.80it/s]\u001b[A\n",
      " 22%|██▏       | 11/51 [00:06<00:21,  1.82it/s]\u001b[A\n",
      " 24%|██▎       | 12/51 [00:06<00:21,  1.84it/s]\u001b[A\n",
      " 25%|██▌       | 13/51 [00:07<00:20,  1.85it/s]\u001b[A\n",
      " 27%|██▋       | 14/51 [00:08<00:19,  1.86it/s]\u001b[A\n",
      " 29%|██▉       | 15/51 [00:08<00:19,  1.86it/s]\u001b[A\n",
      " 31%|███▏      | 16/51 [00:09<00:18,  1.86it/s]\u001b[A\n",
      " 33%|███▎      | 17/51 [00:09<00:18,  1.87it/s]\u001b[A\n",
      " 35%|███▌      | 18/51 [00:10<00:17,  1.87it/s]\u001b[A\n",
      " 37%|███▋      | 19/51 [00:10<00:17,  1.87it/s]\u001b[A\n",
      " 39%|███▉      | 20/51 [00:11<00:16,  1.87it/s]\u001b[A\n",
      " 41%|████      | 21/51 [00:11<00:16,  1.87it/s]\u001b[A\n",
      " 43%|████▎     | 22/51 [00:12<00:15,  1.87it/s]\u001b[A\n",
      " 45%|████▌     | 23/51 [00:12<00:14,  1.87it/s]\u001b[A\n",
      " 47%|████▋     | 24/51 [00:13<00:14,  1.87it/s]\u001b[A\n",
      " 49%|████▉     | 25/51 [00:13<00:13,  1.87it/s]\u001b[A\n",
      " 51%|█████     | 26/51 [00:14<00:13,  1.87it/s]\u001b[A\n",
      " 53%|█████▎    | 27/51 [00:14<00:12,  1.87it/s]\u001b[A\n",
      " 55%|█████▍    | 28/51 [00:15<00:12,  1.87it/s]\u001b[A\n",
      " 57%|█████▋    | 29/51 [00:16<00:11,  1.87it/s]\u001b[A\n",
      " 59%|█████▉    | 30/51 [00:16<00:11,  1.87it/s]\u001b[A\n",
      " 61%|██████    | 31/51 [00:17<00:10,  1.87it/s]\u001b[A\n",
      " 63%|██████▎   | 32/51 [00:17<00:10,  1.87it/s]\u001b[A\n",
      " 65%|██████▍   | 33/51 [00:18<00:09,  1.87it/s]\u001b[A\n",
      " 67%|██████▋   | 34/51 [00:18<00:09,  1.87it/s]\u001b[A\n",
      " 69%|██████▊   | 35/51 [00:19<00:08,  1.87it/s]\u001b[A\n",
      " 71%|███████   | 36/51 [00:19<00:08,  1.87it/s]\u001b[A\n",
      " 73%|███████▎  | 37/51 [00:20<00:07,  1.87it/s]\u001b[A\n",
      " 75%|███████▍  | 38/51 [00:20<00:06,  1.88it/s]\u001b[A\n",
      " 76%|███████▋  | 39/51 [00:21<00:06,  1.87it/s]\u001b[A\n",
      " 78%|███████▊  | 40/51 [00:21<00:05,  1.87it/s]\u001b[A\n",
      " 80%|████████  | 41/51 [00:22<00:05,  1.87it/s]\u001b[A\n",
      " 82%|████████▏ | 42/51 [00:22<00:04,  1.87it/s]\u001b[A\n",
      " 84%|████████▍ | 43/51 [00:23<00:04,  1.87it/s]\u001b[A\n",
      " 86%|████████▋ | 44/51 [00:24<00:03,  1.87it/s]\u001b[A\n",
      " 88%|████████▊ | 45/51 [00:24<00:03,  1.88it/s]\u001b[A\n",
      " 90%|█████████ | 46/51 [00:25<00:02,  1.88it/s]\u001b[A\n",
      " 92%|█████████▏| 47/51 [00:25<00:02,  1.88it/s]\u001b[A\n",
      " 94%|█████████▍| 48/51 [00:26<00:01,  1.88it/s]\u001b[A\n",
      " 96%|█████████▌| 49/51 [00:26<00:01,  1.88it/s]\u001b[A\n",
      " 98%|█████████▊| 50/51 [00:27<00:00,  1.88it/s]\u001b[A\n",
      "100%|██████████| 51/51 [00:27<00:00,  2.29it/s]\u001b[A\n",
      "  0%|          | 0/2 [00:00<?, ?it/s]\u001b[A"
     ]
    },
    {
     "name": "stdout",
     "output_type": "stream",
     "text": [
      "Completed training for epoch 83, testing validation dataset\n"
     ]
    },
    {
     "name": "stderr",
     "output_type": "stream",
     "text": [
      "\n",
      " 50%|█████     | 1/2 [00:00<00:00,  1.65it/s]\u001b[A\n",
      "100%|██████████| 2/2 [00:00<00:00,  2.13it/s]\u001b[A\n",
      "  0%|          | 0/2 [00:00<?, ?it/s]\u001b[A"
     ]
    },
    {
     "name": "stdout",
     "output_type": "stream",
     "text": [
      "loss: 0.39396145939826965\n",
      "top1acc: 88.79993438720703\n",
      "Completed testing validation dataset for epoch 83, testing training dataset\n"
     ]
    },
    {
     "name": "stderr",
     "output_type": "stream",
     "text": [
      "\n",
      " 50%|█████     | 1/2 [00:00<00:00,  1.72it/s]\u001b[A\n",
      " 70%|███████   | 84/120 [40:50<17:29, 29.15s/it]\n",
      "  0%|          | 0/51 [00:00<?, ?it/s]\u001b[A"
     ]
    },
    {
     "name": "stdout",
     "output_type": "stream",
     "text": [
      "loss: 0.158380925655365\n",
      "top1acc: 95.00001525878906\n",
      "Completed testing training dataset for epoch 83\n",
      "Starting epoch 84\n"
     ]
    },
    {
     "name": "stderr",
     "output_type": "stream",
     "text": [
      "\n",
      "  2%|▏         | 1/51 [00:01<00:51,  1.03s/it]\u001b[A\n",
      "  4%|▍         | 2/51 [00:01<00:43,  1.13it/s]\u001b[A\n",
      "  6%|▌         | 3/51 [00:02<00:37,  1.28it/s]\u001b[A\n",
      "  8%|▊         | 4/51 [00:02<00:33,  1.42it/s]\u001b[A\n",
      " 10%|▉         | 5/51 [00:03<00:30,  1.53it/s]\u001b[A\n",
      " 12%|█▏        | 6/51 [00:03<00:27,  1.62it/s]\u001b[A\n",
      " 14%|█▎        | 7/51 [00:04<00:26,  1.69it/s]\u001b[A\n",
      " 16%|█▌        | 8/51 [00:04<00:24,  1.74it/s]\u001b[A\n",
      " 18%|█▊        | 9/51 [00:05<00:23,  1.78it/s]\u001b[A\n",
      " 20%|█▉        | 10/51 [00:05<00:22,  1.81it/s]\u001b[A\n",
      " 22%|██▏       | 11/51 [00:06<00:21,  1.83it/s]\u001b[A\n",
      " 24%|██▎       | 12/51 [00:06<00:21,  1.84it/s]\u001b[A\n",
      " 25%|██▌       | 13/51 [00:07<00:20,  1.85it/s]\u001b[A\n",
      " 27%|██▋       | 14/51 [00:07<00:19,  1.86it/s]\u001b[A\n",
      " 29%|██▉       | 15/51 [00:08<00:19,  1.87it/s]\u001b[A\n",
      " 31%|███▏      | 16/51 [00:09<00:18,  1.87it/s]\u001b[A\n",
      " 33%|███▎      | 17/51 [00:09<00:18,  1.87it/s]\u001b[A\n",
      " 35%|███▌      | 18/51 [00:10<00:17,  1.87it/s]\u001b[A\n",
      " 37%|███▋      | 19/51 [00:10<00:17,  1.87it/s]\u001b[A\n",
      " 39%|███▉      | 20/51 [00:11<00:16,  1.88it/s]\u001b[A\n",
      " 41%|████      | 21/51 [00:11<00:16,  1.87it/s]\u001b[A\n",
      " 43%|████▎     | 22/51 [00:12<00:15,  1.88it/s]\u001b[A\n",
      " 45%|████▌     | 23/51 [00:12<00:14,  1.88it/s]\u001b[A\n",
      " 47%|████▋     | 24/51 [00:13<00:14,  1.88it/s]\u001b[A\n",
      " 49%|████▉     | 25/51 [00:13<00:13,  1.88it/s]\u001b[A\n",
      " 51%|█████     | 26/51 [00:14<00:13,  1.88it/s]\u001b[A\n",
      " 53%|█████▎    | 27/51 [00:14<00:12,  1.88it/s]\u001b[A\n",
      " 55%|█████▍    | 28/51 [00:15<00:12,  1.88it/s]\u001b[A\n",
      " 57%|█████▋    | 29/51 [00:15<00:11,  1.87it/s]\u001b[A\n",
      " 59%|█████▉    | 30/51 [00:16<00:11,  1.87it/s]\u001b[A\n",
      " 61%|██████    | 31/51 [00:17<00:10,  1.87it/s]\u001b[A\n",
      " 63%|██████▎   | 32/51 [00:17<00:10,  1.87it/s]\u001b[A\n",
      " 65%|██████▍   | 33/51 [00:18<00:09,  1.88it/s]\u001b[A\n",
      " 67%|██████▋   | 34/51 [00:18<00:09,  1.88it/s]\u001b[A\n",
      " 69%|██████▊   | 35/51 [00:19<00:08,  1.88it/s]\u001b[A\n",
      " 71%|███████   | 36/51 [00:19<00:08,  1.87it/s]\u001b[A\n",
      " 73%|███████▎  | 37/51 [00:20<00:07,  1.88it/s]\u001b[A\n",
      " 75%|███████▍  | 38/51 [00:20<00:06,  1.88it/s]\u001b[A\n",
      " 76%|███████▋  | 39/51 [00:21<00:06,  1.88it/s]\u001b[A\n",
      " 78%|███████▊  | 40/51 [00:21<00:05,  1.88it/s]\u001b[A\n",
      " 80%|████████  | 41/51 [00:22<00:05,  1.87it/s]\u001b[A\n",
      " 82%|████████▏ | 42/51 [00:22<00:04,  1.88it/s]\u001b[A\n",
      " 84%|████████▍ | 43/51 [00:23<00:04,  1.88it/s]\u001b[A\n",
      " 86%|████████▋ | 44/51 [00:23<00:03,  1.88it/s]\u001b[A\n",
      " 88%|████████▊ | 45/51 [00:24<00:03,  1.88it/s]\u001b[A\n",
      " 90%|█████████ | 46/51 [00:25<00:02,  1.88it/s]\u001b[A\n",
      " 92%|█████████▏| 47/51 [00:25<00:02,  1.88it/s]\u001b[A\n",
      " 94%|█████████▍| 48/51 [00:26<00:01,  1.88it/s]\u001b[A\n",
      " 96%|█████████▌| 49/51 [00:26<00:01,  1.88it/s]\u001b[A\n",
      " 98%|█████████▊| 50/51 [00:27<00:00,  1.88it/s]\u001b[A\n",
      "100%|██████████| 51/51 [00:27<00:00,  2.29it/s]\u001b[A\n",
      "  0%|          | 0/2 [00:00<?, ?it/s]\u001b[A"
     ]
    },
    {
     "name": "stdout",
     "output_type": "stream",
     "text": [
      "Completed training for epoch 84, testing validation dataset\n"
     ]
    },
    {
     "name": "stderr",
     "output_type": "stream",
     "text": [
      "\n",
      " 50%|█████     | 1/2 [00:00<00:00,  1.59it/s]\u001b[A\n",
      "100%|██████████| 2/2 [00:00<00:00,  2.05it/s]\u001b[A\n",
      "  0%|          | 0/2 [00:00<?, ?it/s]\u001b[A"
     ]
    },
    {
     "name": "stdout",
     "output_type": "stream",
     "text": [
      "loss: 0.3983616530895233\n",
      "top1acc: 88.19994354248047\n",
      "Completed testing validation dataset for epoch 84, testing training dataset\n"
     ]
    },
    {
     "name": "stderr",
     "output_type": "stream",
     "text": [
      "\n",
      " 50%|█████     | 1/2 [00:00<00:00,  1.73it/s]\u001b[A\n",
      " 71%|███████   | 85/120 [41:19<17:00, 29.15s/it]\n",
      "  0%|          | 0/51 [00:00<?, ?it/s]\u001b[A"
     ]
    },
    {
     "name": "stdout",
     "output_type": "stream",
     "text": [
      "loss: 0.16202159225940704\n",
      "top1acc: 95.1999740600586\n",
      "Completed testing training dataset for epoch 84\n",
      "Starting epoch 85\n"
     ]
    },
    {
     "name": "stderr",
     "output_type": "stream",
     "text": [
      "\n",
      "  2%|▏         | 1/51 [00:01<00:52,  1.05s/it]\u001b[A\n",
      "  4%|▍         | 2/51 [00:01<00:43,  1.12it/s]\u001b[A\n",
      "  6%|▌         | 3/51 [00:02<00:37,  1.27it/s]\u001b[A\n",
      "  8%|▊         | 4/51 [00:02<00:33,  1.40it/s]\u001b[A\n",
      " 10%|▉         | 5/51 [00:03<00:30,  1.52it/s]\u001b[A\n",
      " 12%|█▏        | 6/51 [00:03<00:27,  1.61it/s]\u001b[A\n",
      " 14%|█▎        | 7/51 [00:04<00:26,  1.69it/s]\u001b[A\n",
      " 16%|█▌        | 8/51 [00:04<00:24,  1.74it/s]\u001b[A\n",
      " 18%|█▊        | 9/51 [00:05<00:23,  1.78it/s]\u001b[A\n",
      " 20%|█▉        | 10/51 [00:05<00:22,  1.81it/s]\u001b[A\n",
      " 22%|██▏       | 11/51 [00:06<00:21,  1.83it/s]\u001b[A\n",
      " 24%|██▎       | 12/51 [00:06<00:21,  1.85it/s]\u001b[A\n",
      " 25%|██▌       | 13/51 [00:07<00:20,  1.86it/s]\u001b[A\n",
      " 27%|██▋       | 14/51 [00:07<00:19,  1.86it/s]\u001b[A\n",
      " 29%|██▉       | 15/51 [00:08<00:19,  1.87it/s]\u001b[A\n",
      " 31%|███▏      | 16/51 [00:09<00:18,  1.87it/s]\u001b[A\n",
      " 33%|███▎      | 17/51 [00:09<00:18,  1.88it/s]\u001b[A\n",
      " 35%|███▌      | 18/51 [00:10<00:17,  1.88it/s]\u001b[A\n",
      " 37%|███▋      | 19/51 [00:10<00:17,  1.88it/s]\u001b[A\n",
      " 39%|███▉      | 20/51 [00:11<00:16,  1.88it/s]\u001b[A\n",
      " 41%|████      | 21/51 [00:11<00:15,  1.88it/s]\u001b[A\n",
      " 43%|████▎     | 22/51 [00:12<00:15,  1.88it/s]\u001b[A\n",
      " 45%|████▌     | 23/51 [00:12<00:14,  1.88it/s]\u001b[A\n",
      " 47%|████▋     | 24/51 [00:13<00:14,  1.88it/s]\u001b[A\n",
      " 49%|████▉     | 25/51 [00:13<00:13,  1.88it/s]\u001b[A\n",
      " 51%|█████     | 26/51 [00:14<00:13,  1.88it/s]\u001b[A\n",
      " 53%|█████▎    | 27/51 [00:14<00:12,  1.88it/s]\u001b[A\n",
      " 55%|█████▍    | 28/51 [00:15<00:12,  1.88it/s]\u001b[A\n",
      " 57%|█████▋    | 29/51 [00:15<00:11,  1.88it/s]\u001b[A\n",
      " 59%|█████▉    | 30/51 [00:16<00:11,  1.88it/s]\u001b[A\n",
      " 61%|██████    | 31/51 [00:17<00:10,  1.88it/s]\u001b[A\n",
      " 63%|██████▎   | 32/51 [00:17<00:10,  1.88it/s]\u001b[A\n",
      " 65%|██████▍   | 33/51 [00:18<00:09,  1.88it/s]\u001b[A\n",
      " 67%|██████▋   | 34/51 [00:18<00:09,  1.88it/s]\u001b[A\n",
      " 69%|██████▊   | 35/51 [00:19<00:08,  1.87it/s]\u001b[A\n",
      " 71%|███████   | 36/51 [00:19<00:08,  1.87it/s]\u001b[A\n",
      " 73%|███████▎  | 37/51 [00:20<00:07,  1.87it/s]\u001b[A\n",
      " 75%|███████▍  | 38/51 [00:20<00:06,  1.87it/s]\u001b[A\n",
      " 76%|███████▋  | 39/51 [00:21<00:06,  1.87it/s]\u001b[A\n",
      " 78%|███████▊  | 40/51 [00:21<00:05,  1.87it/s]\u001b[A\n",
      " 80%|████████  | 41/51 [00:22<00:05,  1.87it/s]\u001b[A\n",
      " 82%|████████▏ | 42/51 [00:22<00:04,  1.87it/s]\u001b[A\n",
      " 84%|████████▍ | 43/51 [00:23<00:04,  1.87it/s]\u001b[A\n",
      " 86%|████████▋ | 44/51 [00:23<00:03,  1.87it/s]\u001b[A\n",
      " 88%|████████▊ | 45/51 [00:24<00:03,  1.87it/s]\u001b[A\n",
      " 90%|█████████ | 46/51 [00:25<00:02,  1.88it/s]\u001b[A\n",
      " 92%|█████████▏| 47/51 [00:25<00:02,  1.88it/s]\u001b[A\n",
      " 94%|█████████▍| 48/51 [00:26<00:01,  1.88it/s]\u001b[A\n",
      " 96%|█████████▌| 49/51 [00:26<00:01,  1.88it/s]\u001b[A\n",
      " 98%|█████████▊| 50/51 [00:27<00:00,  1.88it/s]\u001b[A\n",
      "100%|██████████| 51/51 [00:27<00:00,  2.28it/s]\u001b[A\n",
      "  0%|          | 0/2 [00:00<?, ?it/s]\u001b[A"
     ]
    },
    {
     "name": "stdout",
     "output_type": "stream",
     "text": [
      "Completed training for epoch 85, testing validation dataset\n"
     ]
    },
    {
     "name": "stderr",
     "output_type": "stream",
     "text": [
      "\n",
      " 50%|█████     | 1/2 [00:00<00:00,  1.66it/s]\u001b[A\n",
      "100%|██████████| 2/2 [00:00<00:00,  2.14it/s]\u001b[A\n",
      "  0%|          | 0/2 [00:00<?, ?it/s]\u001b[A"
     ]
    },
    {
     "name": "stdout",
     "output_type": "stream",
     "text": [
      "loss: 0.3957047164440155\n",
      "top1acc: 89.39994812011719\n",
      "Completed testing validation dataset for epoch 85, testing training dataset\n"
     ]
    },
    {
     "name": "stderr",
     "output_type": "stream",
     "text": [
      "\n",
      " 50%|█████     | 1/2 [00:00<00:00,  1.61it/s]\u001b[A\n",
      " 72%|███████▏  | 86/120 [41:48<16:31, 29.15s/it]\n",
      "  0%|          | 0/51 [00:00<?, ?it/s]\u001b[A"
     ]
    },
    {
     "name": "stdout",
     "output_type": "stream",
     "text": [
      "loss: 0.17122913897037506\n",
      "top1acc: 93.79994201660156\n",
      "Completed testing training dataset for epoch 85\n",
      "Starting epoch 86\n"
     ]
    },
    {
     "name": "stderr",
     "output_type": "stream",
     "text": [
      "\n",
      "  2%|▏         | 1/51 [00:01<00:53,  1.06s/it]\u001b[A\n",
      "  4%|▍         | 2/51 [00:01<00:44,  1.10it/s]\u001b[A\n",
      "  6%|▌         | 3/51 [00:02<00:38,  1.26it/s]\u001b[A\n",
      "  8%|▊         | 4/51 [00:02<00:33,  1.40it/s]\u001b[A\n",
      " 10%|▉         | 5/51 [00:03<00:30,  1.51it/s]\u001b[A\n",
      " 12%|█▏        | 6/51 [00:03<00:27,  1.61it/s]\u001b[A\n",
      " 14%|█▎        | 7/51 [00:04<00:26,  1.68it/s]\u001b[A\n",
      " 16%|█▌        | 8/51 [00:04<00:24,  1.74it/s]\u001b[A\n",
      " 18%|█▊        | 9/51 [00:05<00:23,  1.78it/s]\u001b[A\n",
      " 20%|█▉        | 10/51 [00:05<00:22,  1.81it/s]\u001b[A\n",
      " 22%|██▏       | 11/51 [00:06<00:21,  1.83it/s]\u001b[A\n",
      " 24%|██▎       | 12/51 [00:06<00:21,  1.84it/s]\u001b[A\n",
      " 25%|██▌       | 13/51 [00:07<00:20,  1.85it/s]\u001b[A\n",
      " 27%|██▋       | 14/51 [00:07<00:19,  1.86it/s]\u001b[A\n",
      " 29%|██▉       | 15/51 [00:08<00:19,  1.87it/s]\u001b[A\n",
      " 31%|███▏      | 16/51 [00:09<00:18,  1.87it/s]\u001b[A\n",
      " 33%|███▎      | 17/51 [00:09<00:18,  1.87it/s]\u001b[A\n",
      " 35%|███▌      | 18/51 [00:10<00:17,  1.87it/s]\u001b[A\n",
      " 37%|███▋      | 19/51 [00:10<00:17,  1.87it/s]\u001b[A\n",
      " 39%|███▉      | 20/51 [00:11<00:16,  1.87it/s]\u001b[A\n",
      " 41%|████      | 21/51 [00:11<00:16,  1.87it/s]\u001b[A\n",
      " 43%|████▎     | 22/51 [00:12<00:15,  1.87it/s]\u001b[A\n",
      " 45%|████▌     | 23/51 [00:12<00:14,  1.87it/s]\u001b[A\n",
      " 47%|████▋     | 24/51 [00:13<00:14,  1.87it/s]\u001b[A\n",
      " 49%|████▉     | 25/51 [00:13<00:13,  1.87it/s]\u001b[A\n",
      " 51%|█████     | 26/51 [00:14<00:13,  1.87it/s]\u001b[A\n",
      " 53%|█████▎    | 27/51 [00:14<00:12,  1.87it/s]\u001b[A\n",
      " 55%|█████▍    | 28/51 [00:15<00:12,  1.87it/s]\u001b[A\n",
      " 57%|█████▋    | 29/51 [00:15<00:11,  1.87it/s]\u001b[A\n",
      " 59%|█████▉    | 30/51 [00:16<00:11,  1.87it/s]\u001b[A\n",
      " 61%|██████    | 31/51 [00:17<00:10,  1.87it/s]\u001b[A\n",
      " 63%|██████▎   | 32/51 [00:17<00:10,  1.88it/s]\u001b[A\n",
      " 65%|██████▍   | 33/51 [00:18<00:09,  1.88it/s]\u001b[A\n",
      " 67%|██████▋   | 34/51 [00:18<00:09,  1.88it/s]\u001b[A\n",
      " 69%|██████▊   | 35/51 [00:19<00:08,  1.87it/s]\u001b[A\n",
      " 71%|███████   | 36/51 [00:19<00:07,  1.88it/s]\u001b[A\n",
      " 73%|███████▎  | 37/51 [00:20<00:07,  1.88it/s]\u001b[A\n",
      " 75%|███████▍  | 38/51 [00:20<00:06,  1.88it/s]\u001b[A\n",
      " 76%|███████▋  | 39/51 [00:21<00:06,  1.88it/s]\u001b[A\n",
      " 78%|███████▊  | 40/51 [00:21<00:05,  1.88it/s]\u001b[A\n",
      " 80%|████████  | 41/51 [00:22<00:05,  1.88it/s]\u001b[A\n",
      " 82%|████████▏ | 42/51 [00:22<00:04,  1.88it/s]\u001b[A\n",
      " 84%|████████▍ | 43/51 [00:23<00:04,  1.88it/s]\u001b[A\n",
      " 86%|████████▋ | 44/51 [00:23<00:03,  1.88it/s]\u001b[A\n",
      " 88%|████████▊ | 45/51 [00:24<00:03,  1.88it/s]\u001b[A\n",
      " 90%|█████████ | 46/51 [00:25<00:02,  1.88it/s]\u001b[A\n",
      " 92%|█████████▏| 47/51 [00:25<00:02,  1.88it/s]\u001b[A\n",
      " 94%|█████████▍| 48/51 [00:26<00:01,  1.88it/s]\u001b[A\n",
      " 96%|█████████▌| 49/51 [00:26<00:01,  1.88it/s]\u001b[A\n",
      " 98%|█████████▊| 50/51 [00:27<00:00,  1.88it/s]\u001b[A\n",
      "100%|██████████| 51/51 [00:27<00:00,  2.29it/s]\u001b[A\n",
      "  0%|          | 0/2 [00:00<?, ?it/s]\u001b[A"
     ]
    },
    {
     "name": "stdout",
     "output_type": "stream",
     "text": [
      "Completed training for epoch 86, testing validation dataset\n"
     ]
    },
    {
     "name": "stderr",
     "output_type": "stream",
     "text": [
      "\n",
      " 50%|█████     | 1/2 [00:00<00:00,  1.64it/s]\u001b[A\n",
      "100%|██████████| 2/2 [00:00<00:00,  2.11it/s]\u001b[A\n",
      "  0%|          | 0/2 [00:00<?, ?it/s]\u001b[A"
     ]
    },
    {
     "name": "stdout",
     "output_type": "stream",
     "text": [
      "loss: 0.38627609610557556\n",
      "top1acc: 88.39994049072266\n",
      "Completed testing validation dataset for epoch 86, testing training dataset\n"
     ]
    },
    {
     "name": "stderr",
     "output_type": "stream",
     "text": [
      "\n",
      " 50%|█████     | 1/2 [00:00<00:00,  1.65it/s]\u001b[A\n",
      " 72%|███████▎  | 87/120 [42:18<16:02, 29.15s/it]\n",
      "  0%|          | 0/51 [00:00<?, ?it/s]\u001b[A"
     ]
    },
    {
     "name": "stdout",
     "output_type": "stream",
     "text": [
      "loss: 0.1592845618724823\n",
      "top1acc: 94.79998016357422\n",
      "Completed testing training dataset for epoch 86\n",
      "Starting epoch 87\n"
     ]
    },
    {
     "name": "stderr",
     "output_type": "stream",
     "text": [
      "\n",
      "  2%|▏         | 1/51 [00:01<00:51,  1.03s/it]\u001b[A\n",
      "  4%|▍         | 2/51 [00:01<00:43,  1.14it/s]\u001b[A\n",
      "  6%|▌         | 3/51 [00:02<00:37,  1.29it/s]\u001b[A\n",
      "  8%|▊         | 4/51 [00:02<00:33,  1.42it/s]\u001b[A\n",
      " 10%|▉         | 5/51 [00:03<00:30,  1.53it/s]\u001b[A\n",
      " 12%|█▏        | 6/51 [00:03<00:27,  1.62it/s]\u001b[A\n",
      " 14%|█▎        | 7/51 [00:04<00:26,  1.69it/s]\u001b[A\n",
      " 16%|█▌        | 8/51 [00:04<00:24,  1.74it/s]\u001b[A\n",
      " 18%|█▊        | 9/51 [00:05<00:23,  1.78it/s]\u001b[A\n",
      " 20%|█▉        | 10/51 [00:05<00:22,  1.81it/s]\u001b[A\n",
      " 22%|██▏       | 11/51 [00:06<00:21,  1.83it/s]\u001b[A\n",
      " 24%|██▎       | 12/51 [00:06<00:21,  1.84it/s]\u001b[A\n",
      " 25%|██▌       | 13/51 [00:07<00:20,  1.85it/s]\u001b[A\n",
      " 27%|██▋       | 14/51 [00:07<00:19,  1.86it/s]\u001b[A\n",
      " 29%|██▉       | 15/51 [00:08<00:19,  1.87it/s]\u001b[A\n",
      " 31%|███▏      | 16/51 [00:09<00:18,  1.87it/s]\u001b[A\n",
      " 33%|███▎      | 17/51 [00:09<00:18,  1.87it/s]\u001b[A\n",
      " 35%|███▌      | 18/51 [00:10<00:17,  1.87it/s]\u001b[A\n",
      " 37%|███▋      | 19/51 [00:10<00:17,  1.88it/s]\u001b[A\n",
      " 39%|███▉      | 20/51 [00:11<00:16,  1.88it/s]\u001b[A\n",
      " 41%|████      | 21/51 [00:11<00:15,  1.88it/s]\u001b[A\n",
      " 43%|████▎     | 22/51 [00:12<00:15,  1.88it/s]\u001b[A\n",
      " 45%|████▌     | 23/51 [00:12<00:14,  1.88it/s]\u001b[A\n",
      " 47%|████▋     | 24/51 [00:13<00:14,  1.88it/s]\u001b[A\n",
      " 49%|████▉     | 25/51 [00:13<00:13,  1.88it/s]\u001b[A\n",
      " 51%|█████     | 26/51 [00:14<00:13,  1.88it/s]\u001b[A\n",
      " 53%|█████▎    | 27/51 [00:14<00:12,  1.88it/s]\u001b[A\n",
      " 55%|█████▍    | 28/51 [00:15<00:12,  1.88it/s]\u001b[A\n",
      " 57%|█████▋    | 29/51 [00:15<00:11,  1.88it/s]\u001b[A\n",
      " 59%|█████▉    | 30/51 [00:16<00:11,  1.88it/s]\u001b[A\n",
      " 61%|██████    | 31/51 [00:17<00:10,  1.88it/s]\u001b[A\n",
      " 63%|██████▎   | 32/51 [00:17<00:10,  1.88it/s]\u001b[A\n",
      " 65%|██████▍   | 33/51 [00:18<00:09,  1.88it/s]\u001b[A\n",
      " 67%|██████▋   | 34/51 [00:18<00:09,  1.88it/s]\u001b[A\n",
      " 69%|██████▊   | 35/51 [00:19<00:08,  1.88it/s]\u001b[A\n",
      " 71%|███████   | 36/51 [00:19<00:07,  1.88it/s]\u001b[A\n",
      " 73%|███████▎  | 37/51 [00:20<00:07,  1.88it/s]\u001b[A\n",
      " 75%|███████▍  | 38/51 [00:20<00:06,  1.88it/s]\u001b[A\n",
      " 76%|███████▋  | 39/51 [00:21<00:06,  1.88it/s]\u001b[A\n",
      " 78%|███████▊  | 40/51 [00:21<00:05,  1.88it/s]\u001b[A\n",
      " 80%|████████  | 41/51 [00:22<00:05,  1.88it/s]\u001b[A\n",
      " 82%|████████▏ | 42/51 [00:22<00:04,  1.88it/s]\u001b[A\n",
      " 84%|████████▍ | 43/51 [00:23<00:04,  1.88it/s]\u001b[A\n",
      " 86%|████████▋ | 44/51 [00:23<00:03,  1.88it/s]\u001b[A\n",
      " 88%|████████▊ | 45/51 [00:24<00:03,  1.88it/s]\u001b[A\n",
      " 90%|█████████ | 46/51 [00:24<00:02,  1.88it/s]\u001b[A\n",
      " 92%|█████████▏| 47/51 [00:25<00:02,  1.88it/s]\u001b[A\n",
      " 94%|█████████▍| 48/51 [00:26<00:01,  1.88it/s]\u001b[A\n",
      " 96%|█████████▌| 49/51 [00:26<00:01,  1.88it/s]\u001b[A\n",
      " 98%|█████████▊| 50/51 [00:27<00:00,  1.88it/s]\u001b[A\n",
      "100%|██████████| 51/51 [00:27<00:00,  2.29it/s]\u001b[A\n",
      "  0%|          | 0/2 [00:00<?, ?it/s]\u001b[A"
     ]
    },
    {
     "name": "stdout",
     "output_type": "stream",
     "text": [
      "Completed training for epoch 87, testing validation dataset\n"
     ]
    },
    {
     "name": "stderr",
     "output_type": "stream",
     "text": [
      "\n",
      " 50%|█████     | 1/2 [00:00<00:00,  1.68it/s]\u001b[A\n",
      "100%|██████████| 2/2 [00:00<00:00,  2.16it/s]\u001b[A\n",
      "  0%|          | 0/2 [00:00<?, ?it/s]\u001b[A"
     ]
    },
    {
     "name": "stdout",
     "output_type": "stream",
     "text": [
      "loss: 0.38306349515914917\n",
      "top1acc: 89.2000732421875\n",
      "Completed testing validation dataset for epoch 87, testing training dataset\n"
     ]
    },
    {
     "name": "stderr",
     "output_type": "stream",
     "text": [
      "\n",
      " 50%|█████     | 1/2 [00:00<00:00,  1.64it/s]\u001b[A\n",
      " 73%|███████▎  | 88/120 [42:47<15:32, 29.13s/it]\n",
      "  0%|          | 0/51 [00:00<?, ?it/s]\u001b[A"
     ]
    },
    {
     "name": "stdout",
     "output_type": "stream",
     "text": [
      "loss: 0.15675297379493713\n",
      "top1acc: 94.9999771118164\n",
      "Completed testing training dataset for epoch 87\n",
      "Starting epoch 88\n"
     ]
    },
    {
     "name": "stderr",
     "output_type": "stream",
     "text": [
      "\n",
      "  2%|▏         | 1/51 [00:01<00:50,  1.02s/it]\u001b[A\n",
      "  4%|▍         | 2/51 [00:01<00:42,  1.14it/s]\u001b[A\n",
      "  6%|▌         | 3/51 [00:02<00:37,  1.30it/s]\u001b[A\n",
      "  8%|▊         | 4/51 [00:02<00:32,  1.43it/s]\u001b[A\n",
      " 10%|▉         | 5/51 [00:03<00:29,  1.54it/s]\u001b[A\n",
      " 12%|█▏        | 6/51 [00:03<00:27,  1.63it/s]\u001b[A\n",
      " 14%|█▎        | 7/51 [00:04<00:25,  1.70it/s]\u001b[A\n",
      " 16%|█▌        | 8/51 [00:04<00:24,  1.75it/s]\u001b[A\n",
      " 18%|█▊        | 9/51 [00:05<00:23,  1.79it/s]\u001b[A\n",
      " 20%|█▉        | 10/51 [00:05<00:22,  1.82it/s]\u001b[A\n",
      " 22%|██▏       | 11/51 [00:06<00:21,  1.83it/s]\u001b[A\n",
      " 24%|██▎       | 12/51 [00:06<00:21,  1.85it/s]\u001b[A\n",
      " 25%|██▌       | 13/51 [00:07<00:20,  1.86it/s]\u001b[A\n",
      " 27%|██▋       | 14/51 [00:07<00:19,  1.86it/s]\u001b[A\n",
      " 29%|██▉       | 15/51 [00:08<00:19,  1.87it/s]\u001b[A\n",
      " 31%|███▏      | 16/51 [00:08<00:18,  1.87it/s]\u001b[A\n",
      " 33%|███▎      | 17/51 [00:09<00:18,  1.87it/s]\u001b[A\n",
      " 35%|███▌      | 18/51 [00:10<00:17,  1.88it/s]\u001b[A\n",
      " 37%|███▋      | 19/51 [00:10<00:17,  1.88it/s]\u001b[A\n",
      " 39%|███▉      | 20/51 [00:11<00:16,  1.88it/s]\u001b[A\n",
      " 41%|████      | 21/51 [00:11<00:15,  1.88it/s]\u001b[A\n",
      " 43%|████▎     | 22/51 [00:12<00:15,  1.88it/s]\u001b[A\n",
      " 45%|████▌     | 23/51 [00:12<00:14,  1.88it/s]\u001b[A\n",
      " 47%|████▋     | 24/51 [00:13<00:14,  1.88it/s]\u001b[A\n",
      " 49%|████▉     | 25/51 [00:13<00:13,  1.88it/s]\u001b[A\n",
      " 51%|█████     | 26/51 [00:14<00:13,  1.88it/s]\u001b[A\n",
      " 53%|█████▎    | 27/51 [00:14<00:12,  1.88it/s]\u001b[A\n",
      " 55%|█████▍    | 28/51 [00:15<00:12,  1.88it/s]\u001b[A\n",
      " 57%|█████▋    | 29/51 [00:15<00:11,  1.88it/s]\u001b[A\n",
      " 59%|█████▉    | 30/51 [00:16<00:11,  1.88it/s]\u001b[A\n",
      " 61%|██████    | 31/51 [00:16<00:10,  1.88it/s]\u001b[A\n",
      " 63%|██████▎   | 32/51 [00:17<00:10,  1.88it/s]\u001b[A\n",
      " 65%|██████▍   | 33/51 [00:18<00:09,  1.88it/s]\u001b[A\n",
      " 67%|██████▋   | 34/51 [00:18<00:09,  1.87it/s]\u001b[A\n",
      " 69%|██████▊   | 35/51 [00:19<00:08,  1.87it/s]\u001b[A\n",
      " 71%|███████   | 36/51 [00:19<00:08,  1.87it/s]\u001b[A\n",
      " 73%|███████▎  | 37/51 [00:20<00:07,  1.88it/s]\u001b[A\n",
      " 75%|███████▍  | 38/51 [00:20<00:06,  1.88it/s]\u001b[A\n",
      " 76%|███████▋  | 39/51 [00:21<00:06,  1.87it/s]\u001b[A\n",
      " 78%|███████▊  | 40/51 [00:21<00:05,  1.88it/s]\u001b[A\n",
      " 80%|████████  | 41/51 [00:22<00:05,  1.88it/s]\u001b[A\n",
      " 82%|████████▏ | 42/51 [00:22<00:04,  1.88it/s]\u001b[A\n",
      " 84%|████████▍ | 43/51 [00:23<00:04,  1.88it/s]\u001b[A\n",
      " 86%|████████▋ | 44/51 [00:23<00:03,  1.88it/s]\u001b[A\n",
      " 88%|████████▊ | 45/51 [00:24<00:03,  1.88it/s]\u001b[A\n",
      " 90%|█████████ | 46/51 [00:24<00:02,  1.88it/s]\u001b[A\n",
      " 92%|█████████▏| 47/51 [00:25<00:02,  1.88it/s]\u001b[A\n",
      " 94%|█████████▍| 48/51 [00:26<00:01,  1.88it/s]\u001b[A\n",
      " 96%|█████████▌| 49/51 [00:26<00:01,  1.88it/s]\u001b[A\n",
      " 98%|█████████▊| 50/51 [00:27<00:00,  1.88it/s]\u001b[A\n",
      "100%|██████████| 51/51 [00:27<00:00,  2.29it/s]\u001b[A\n",
      "  0%|          | 0/2 [00:00<?, ?it/s]\u001b[A"
     ]
    },
    {
     "name": "stdout",
     "output_type": "stream",
     "text": [
      "Completed training for epoch 88, testing validation dataset\n"
     ]
    },
    {
     "name": "stderr",
     "output_type": "stream",
     "text": [
      "\n",
      " 50%|█████     | 1/2 [00:00<00:00,  1.65it/s]\u001b[A\n",
      "100%|██████████| 2/2 [00:00<00:00,  2.13it/s]\u001b[A\n",
      "  0%|          | 0/2 [00:00<?, ?it/s]\u001b[A"
     ]
    },
    {
     "name": "stdout",
     "output_type": "stream",
     "text": [
      "loss: 0.38901540637016296\n",
      "top1acc: 87.80005645751953\n",
      "Completed testing validation dataset for epoch 88, testing training dataset\n"
     ]
    },
    {
     "name": "stderr",
     "output_type": "stream",
     "text": [
      "\n",
      " 50%|█████     | 1/2 [00:00<00:00,  1.63it/s]\u001b[A\n",
      " 74%|███████▍  | 89/120 [43:16<15:02, 29.11s/it]\n",
      "  0%|          | 0/51 [00:00<?, ?it/s]\u001b[A"
     ]
    },
    {
     "name": "stdout",
     "output_type": "stream",
     "text": [
      "loss: 0.1649876832962036\n",
      "top1acc: 94.79998016357422\n",
      "Completed testing training dataset for epoch 88\n",
      "Starting epoch 89\n"
     ]
    },
    {
     "name": "stderr",
     "output_type": "stream",
     "text": [
      "\n",
      "  2%|▏         | 1/51 [00:01<00:51,  1.02s/it]\u001b[A\n",
      "  4%|▍         | 2/51 [00:01<00:42,  1.14it/s]\u001b[A\n",
      "  6%|▌         | 3/51 [00:02<00:37,  1.29it/s]\u001b[A\n",
      "  8%|▊         | 4/51 [00:02<00:32,  1.43it/s]\u001b[A\n",
      " 10%|▉         | 5/51 [00:03<00:29,  1.54it/s]\u001b[A\n",
      " 12%|█▏        | 6/51 [00:03<00:27,  1.63it/s]\u001b[A\n",
      " 14%|█▎        | 7/51 [00:04<00:25,  1.70it/s]\u001b[A\n",
      " 16%|█▌        | 8/51 [00:04<00:24,  1.75it/s]\u001b[A\n",
      " 18%|█▊        | 9/51 [00:05<00:23,  1.78it/s]\u001b[A\n",
      " 20%|█▉        | 10/51 [00:05<00:22,  1.81it/s]\u001b[A\n",
      " 22%|██▏       | 11/51 [00:06<00:21,  1.83it/s]\u001b[A\n",
      " 24%|██▎       | 12/51 [00:06<00:21,  1.85it/s]\u001b[A\n",
      " 25%|██▌       | 13/51 [00:07<00:20,  1.85it/s]\u001b[A\n",
      " 27%|██▋       | 14/51 [00:07<00:19,  1.86it/s]\u001b[A\n",
      " 29%|██▉       | 15/51 [00:08<00:19,  1.86it/s]\u001b[A\n",
      " 31%|███▏      | 16/51 [00:09<00:18,  1.87it/s]\u001b[A\n",
      " 33%|███▎      | 17/51 [00:09<00:18,  1.87it/s]\u001b[A\n",
      " 35%|███▌      | 18/51 [00:10<00:17,  1.87it/s]\u001b[A\n",
      " 37%|███▋      | 19/51 [00:10<00:17,  1.87it/s]\u001b[A\n",
      " 39%|███▉      | 20/51 [00:11<00:16,  1.87it/s]\u001b[A\n",
      " 41%|████      | 21/51 [00:11<00:16,  1.87it/s]\u001b[A\n",
      " 43%|████▎     | 22/51 [00:12<00:15,  1.87it/s]\u001b[A\n",
      " 45%|████▌     | 23/51 [00:12<00:14,  1.87it/s]\u001b[A\n",
      " 47%|████▋     | 24/51 [00:13<00:14,  1.87it/s]\u001b[A\n",
      " 49%|████▉     | 25/51 [00:13<00:13,  1.87it/s]\u001b[A\n",
      " 51%|█████     | 26/51 [00:14<00:13,  1.87it/s]\u001b[A\n",
      " 53%|█████▎    | 27/51 [00:14<00:12,  1.87it/s]\u001b[A\n",
      " 55%|█████▍    | 28/51 [00:15<00:12,  1.87it/s]\u001b[A\n",
      " 57%|█████▋    | 29/51 [00:15<00:11,  1.88it/s]\u001b[A\n",
      " 59%|█████▉    | 30/51 [00:16<00:11,  1.88it/s]\u001b[A\n",
      " 61%|██████    | 31/51 [00:17<00:10,  1.88it/s]\u001b[A\n",
      " 63%|██████▎   | 32/51 [00:17<00:10,  1.88it/s]\u001b[A\n",
      " 65%|██████▍   | 33/51 [00:18<00:09,  1.88it/s]\u001b[A\n",
      " 67%|██████▋   | 34/51 [00:18<00:09,  1.88it/s]\u001b[A\n",
      " 69%|██████▊   | 35/51 [00:19<00:08,  1.87it/s]\u001b[A\n",
      " 71%|███████   | 36/51 [00:19<00:08,  1.87it/s]\u001b[A\n",
      " 73%|███████▎  | 37/51 [00:20<00:07,  1.87it/s]\u001b[A\n",
      " 75%|███████▍  | 38/51 [00:20<00:06,  1.87it/s]\u001b[A\n",
      " 76%|███████▋  | 39/51 [00:21<00:06,  1.88it/s]\u001b[A\n",
      " 78%|███████▊  | 40/51 [00:21<00:05,  1.88it/s]\u001b[A\n",
      " 80%|████████  | 41/51 [00:22<00:05,  1.87it/s]\u001b[A\n",
      " 82%|████████▏ | 42/51 [00:22<00:04,  1.87it/s]\u001b[A\n",
      " 84%|████████▍ | 43/51 [00:23<00:04,  1.87it/s]\u001b[A\n",
      " 86%|████████▋ | 44/51 [00:23<00:03,  1.87it/s]\u001b[A\n",
      " 88%|████████▊ | 45/51 [00:24<00:03,  1.87it/s]\u001b[A\n",
      " 90%|█████████ | 46/51 [00:25<00:02,  1.87it/s]\u001b[A\n",
      " 92%|█████████▏| 47/51 [00:25<00:02,  1.87it/s]\u001b[A\n",
      " 94%|█████████▍| 48/51 [00:26<00:01,  1.87it/s]\u001b[A\n",
      " 96%|█████████▌| 49/51 [00:26<00:01,  1.87it/s]\u001b[A\n",
      " 98%|█████████▊| 50/51 [00:27<00:00,  1.87it/s]\u001b[A\n",
      "100%|██████████| 51/51 [00:27<00:00,  2.28it/s]\u001b[A\n",
      "  0%|          | 0/2 [00:00<?, ?it/s]\u001b[A"
     ]
    },
    {
     "name": "stdout",
     "output_type": "stream",
     "text": [
      "Completed training for epoch 89, testing validation dataset\n"
     ]
    },
    {
     "name": "stderr",
     "output_type": "stream",
     "text": [
      "\n",
      " 50%|█████     | 1/2 [00:00<00:00,  1.67it/s]\u001b[A\n",
      "100%|██████████| 2/2 [00:00<00:00,  2.14it/s]\u001b[A\n",
      "  0%|          | 0/2 [00:00<?, ?it/s]\u001b[A"
     ]
    },
    {
     "name": "stdout",
     "output_type": "stream",
     "text": [
      "loss: 0.38424086570739746\n",
      "top1acc: 88.9999771118164\n",
      "Completed testing validation dataset for epoch 89, testing training dataset\n"
     ]
    },
    {
     "name": "stderr",
     "output_type": "stream",
     "text": [
      "\n",
      " 50%|█████     | 1/2 [00:00<00:00,  1.65it/s]\u001b[A\n",
      " 75%|███████▌  | 90/120 [43:45<14:33, 29.12s/it]\n",
      "  0%|          | 0/51 [00:00<?, ?it/s]\u001b[A"
     ]
    },
    {
     "name": "stdout",
     "output_type": "stream",
     "text": [
      "loss: 0.16864719986915588\n",
      "top1acc: 94.39994812011719\n",
      "Completed testing training dataset for epoch 89\n",
      "Starting epoch 90\n"
     ]
    },
    {
     "name": "stderr",
     "output_type": "stream",
     "text": [
      "\n",
      "  2%|▏         | 1/51 [00:01<00:51,  1.04s/it]\u001b[A\n",
      "  4%|▍         | 2/51 [00:01<00:43,  1.13it/s]\u001b[A\n",
      "  6%|▌         | 3/51 [00:02<00:37,  1.28it/s]\u001b[A\n",
      "  8%|▊         | 4/51 [00:02<00:33,  1.41it/s]\u001b[A\n",
      " 10%|▉         | 5/51 [00:03<00:30,  1.53it/s]\u001b[A\n",
      " 12%|█▏        | 6/51 [00:03<00:27,  1.62it/s]\u001b[A\n",
      " 14%|█▎        | 7/51 [00:04<00:26,  1.69it/s]\u001b[A\n",
      " 16%|█▌        | 8/51 [00:04<00:24,  1.74it/s]\u001b[A\n",
      " 18%|█▊        | 9/51 [00:05<00:23,  1.78it/s]\u001b[A\n",
      " 20%|█▉        | 10/51 [00:05<00:22,  1.81it/s]\u001b[A\n",
      " 22%|██▏       | 11/51 [00:06<00:21,  1.83it/s]\u001b[A\n",
      " 24%|██▎       | 12/51 [00:06<00:21,  1.84it/s]\u001b[A\n",
      " 25%|██▌       | 13/51 [00:07<00:20,  1.85it/s]\u001b[A\n",
      " 27%|██▋       | 14/51 [00:07<00:19,  1.86it/s]\u001b[A\n",
      " 29%|██▉       | 15/51 [00:08<00:19,  1.86it/s]\u001b[A\n",
      " 31%|███▏      | 16/51 [00:09<00:18,  1.87it/s]\u001b[A\n",
      " 33%|███▎      | 17/51 [00:09<00:18,  1.87it/s]\u001b[A\n",
      " 35%|███▌      | 18/51 [00:10<00:17,  1.87it/s]\u001b[A\n",
      " 37%|███▋      | 19/51 [00:10<00:17,  1.87it/s]\u001b[A\n",
      " 39%|███▉      | 20/51 [00:11<00:16,  1.87it/s]\u001b[A\n",
      " 41%|████      | 21/51 [00:11<00:16,  1.87it/s]\u001b[A\n",
      " 43%|████▎     | 22/51 [00:12<00:15,  1.87it/s]\u001b[A\n",
      " 45%|████▌     | 23/51 [00:12<00:14,  1.87it/s]\u001b[A\n",
      " 47%|████▋     | 24/51 [00:13<00:14,  1.87it/s]\u001b[A\n",
      " 49%|████▉     | 25/51 [00:13<00:13,  1.87it/s]\u001b[A\n",
      " 51%|█████     | 26/51 [00:14<00:13,  1.87it/s]\u001b[A\n",
      " 53%|█████▎    | 27/51 [00:14<00:12,  1.88it/s]\u001b[A\n",
      " 55%|█████▍    | 28/51 [00:15<00:12,  1.88it/s]\u001b[A\n",
      " 57%|█████▋    | 29/51 [00:15<00:11,  1.88it/s]\u001b[A\n",
      " 59%|█████▉    | 30/51 [00:16<00:11,  1.88it/s]\u001b[A\n",
      " 61%|██████    | 31/51 [00:17<00:10,  1.88it/s]\u001b[A\n",
      " 63%|██████▎   | 32/51 [00:17<00:10,  1.88it/s]\u001b[A\n",
      " 65%|██████▍   | 33/51 [00:18<00:09,  1.87it/s]\u001b[A\n",
      " 67%|██████▋   | 34/51 [00:18<00:09,  1.87it/s]\u001b[A\n",
      " 69%|██████▊   | 35/51 [00:19<00:08,  1.87it/s]\u001b[A\n",
      " 71%|███████   | 36/51 [00:19<00:08,  1.87it/s]\u001b[A\n",
      " 73%|███████▎  | 37/51 [00:20<00:07,  1.87it/s]\u001b[A\n",
      " 75%|███████▍  | 38/51 [00:20<00:06,  1.88it/s]\u001b[A\n",
      " 76%|███████▋  | 39/51 [00:21<00:06,  1.88it/s]\u001b[A\n",
      " 78%|███████▊  | 40/51 [00:21<00:05,  1.88it/s]\u001b[A\n",
      " 80%|████████  | 41/51 [00:22<00:05,  1.88it/s]\u001b[A\n",
      " 82%|████████▏ | 42/51 [00:22<00:04,  1.88it/s]\u001b[A\n",
      " 84%|████████▍ | 43/51 [00:23<00:04,  1.87it/s]\u001b[A\n",
      " 86%|████████▋ | 44/51 [00:23<00:03,  1.87it/s]\u001b[A\n",
      " 88%|████████▊ | 45/51 [00:24<00:03,  1.88it/s]\u001b[A\n",
      " 90%|█████████ | 46/51 [00:25<00:02,  1.88it/s]\u001b[A\n",
      " 92%|█████████▏| 47/51 [00:25<00:02,  1.88it/s]\u001b[A\n",
      " 94%|█████████▍| 48/51 [00:26<00:01,  1.88it/s]\u001b[A\n",
      " 96%|█████████▌| 49/51 [00:26<00:01,  1.88it/s]\u001b[A\n",
      " 98%|█████████▊| 50/51 [00:27<00:00,  1.88it/s]\u001b[A\n",
      "100%|██████████| 51/51 [00:27<00:00,  2.29it/s]\u001b[A\n",
      "  0%|          | 0/2 [00:00<?, ?it/s]\u001b[A"
     ]
    },
    {
     "name": "stdout",
     "output_type": "stream",
     "text": [
      "Completed training for epoch 90, testing validation dataset\n"
     ]
    },
    {
     "name": "stderr",
     "output_type": "stream",
     "text": [
      "\n",
      " 50%|█████     | 1/2 [00:00<00:00,  1.67it/s]\u001b[A\n",
      "100%|██████████| 2/2 [00:00<00:00,  2.14it/s]\u001b[A\n",
      "  0%|          | 0/2 [00:00<?, ?it/s]\u001b[A"
     ]
    },
    {
     "name": "stdout",
     "output_type": "stream",
     "text": [
      "loss: 0.40063023567199707\n",
      "top1acc: 88.39997863769531\n",
      "Completed testing validation dataset for epoch 90, testing training dataset\n"
     ]
    },
    {
     "name": "stderr",
     "output_type": "stream",
     "text": [
      "\n",
      " 50%|█████     | 1/2 [00:00<00:00,  1.74it/s]\u001b[A\n",
      " 76%|███████▌  | 91/120 [44:14<14:04, 29.11s/it]\n",
      "  0%|          | 0/51 [00:00<?, ?it/s]\u001b[A"
     ]
    },
    {
     "name": "stdout",
     "output_type": "stream",
     "text": [
      "loss: 0.17495915293693542\n",
      "top1acc: 93.79999542236328\n",
      "Completed testing training dataset for epoch 90\n",
      "Starting epoch 91\n"
     ]
    },
    {
     "name": "stderr",
     "output_type": "stream",
     "text": [
      "\n",
      "  2%|▏         | 1/51 [00:01<00:51,  1.03s/it]\u001b[A\n",
      "  4%|▍         | 2/51 [00:01<00:43,  1.14it/s]\u001b[A\n",
      "  6%|▌         | 3/51 [00:02<00:37,  1.29it/s]\u001b[A\n",
      "  8%|▊         | 4/51 [00:02<00:33,  1.42it/s]\u001b[A\n",
      " 10%|▉         | 5/51 [00:03<00:30,  1.53it/s]\u001b[A\n",
      " 12%|█▏        | 6/51 [00:03<00:27,  1.62it/s]\u001b[A\n",
      " 14%|█▎        | 7/51 [00:04<00:26,  1.69it/s]\u001b[A\n",
      " 16%|█▌        | 8/51 [00:04<00:24,  1.74it/s]\u001b[A\n",
      " 18%|█▊        | 9/51 [00:05<00:23,  1.78it/s]\u001b[A\n",
      " 20%|█▉        | 10/51 [00:05<00:22,  1.81it/s]\u001b[A\n",
      " 22%|██▏       | 11/51 [00:06<00:21,  1.83it/s]\u001b[A\n",
      " 24%|██▎       | 12/51 [00:06<00:21,  1.84it/s]\u001b[A\n",
      " 25%|██▌       | 13/51 [00:07<00:20,  1.85it/s]\u001b[A\n",
      " 27%|██▋       | 14/51 [00:07<00:19,  1.86it/s]\u001b[A\n",
      " 29%|██▉       | 15/51 [00:08<00:19,  1.86it/s]\u001b[A\n",
      " 31%|███▏      | 16/51 [00:09<00:18,  1.87it/s]\u001b[A\n",
      " 33%|███▎      | 17/51 [00:09<00:18,  1.87it/s]\u001b[A\n",
      " 35%|███▌      | 18/51 [00:10<00:17,  1.87it/s]\u001b[A\n",
      " 37%|███▋      | 19/51 [00:10<00:17,  1.87it/s]\u001b[A\n",
      " 39%|███▉      | 20/51 [00:11<00:16,  1.87it/s]\u001b[A\n",
      " 41%|████      | 21/51 [00:11<00:16,  1.87it/s]\u001b[A\n",
      " 43%|████▎     | 22/51 [00:12<00:15,  1.87it/s]\u001b[A\n",
      " 45%|████▌     | 23/51 [00:12<00:14,  1.87it/s]\u001b[A\n",
      " 47%|████▋     | 24/51 [00:13<00:14,  1.87it/s]\u001b[A\n",
      " 49%|████▉     | 25/51 [00:13<00:13,  1.87it/s]\u001b[A\n",
      " 51%|█████     | 26/51 [00:14<00:13,  1.87it/s]\u001b[A\n",
      " 53%|█████▎    | 27/51 [00:14<00:12,  1.87it/s]\u001b[A\n",
      " 55%|█████▍    | 28/51 [00:15<00:12,  1.88it/s]\u001b[A\n",
      " 57%|█████▋    | 29/51 [00:15<00:11,  1.88it/s]\u001b[A\n",
      " 59%|█████▉    | 30/51 [00:16<00:11,  1.88it/s]\u001b[A\n",
      " 61%|██████    | 31/51 [00:17<00:10,  1.88it/s]\u001b[A\n",
      " 63%|██████▎   | 32/51 [00:17<00:10,  1.88it/s]\u001b[A\n",
      " 65%|██████▍   | 33/51 [00:18<00:09,  1.88it/s]\u001b[A\n",
      " 67%|██████▋   | 34/51 [00:18<00:09,  1.88it/s]\u001b[A\n",
      " 69%|██████▊   | 35/51 [00:19<00:08,  1.88it/s]\u001b[A\n",
      " 71%|███████   | 36/51 [00:19<00:07,  1.88it/s]\u001b[A\n",
      " 73%|███████▎  | 37/51 [00:20<00:07,  1.88it/s]\u001b[A\n",
      " 75%|███████▍  | 38/51 [00:20<00:06,  1.88it/s]\u001b[A\n",
      " 76%|███████▋  | 39/51 [00:21<00:06,  1.88it/s]\u001b[A\n",
      " 78%|███████▊  | 40/51 [00:21<00:05,  1.88it/s]\u001b[A\n",
      " 80%|████████  | 41/51 [00:22<00:05,  1.88it/s]\u001b[A\n",
      " 82%|████████▏ | 42/51 [00:22<00:04,  1.88it/s]\u001b[A\n",
      " 84%|████████▍ | 43/51 [00:23<00:04,  1.88it/s]\u001b[A\n",
      " 86%|████████▋ | 44/51 [00:23<00:03,  1.88it/s]\u001b[A\n",
      " 88%|████████▊ | 45/51 [00:24<00:03,  1.88it/s]\u001b[A\n",
      " 90%|█████████ | 46/51 [00:25<00:02,  1.88it/s]\u001b[A\n",
      " 92%|█████████▏| 47/51 [00:25<00:02,  1.88it/s]\u001b[A\n",
      " 94%|█████████▍| 48/51 [00:26<00:01,  1.88it/s]\u001b[A\n",
      " 96%|█████████▌| 49/51 [00:26<00:01,  1.88it/s]\u001b[A\n",
      " 98%|█████████▊| 50/51 [00:27<00:00,  1.88it/s]\u001b[A\n",
      "100%|██████████| 51/51 [00:27<00:00,  2.29it/s]\u001b[A\n",
      "  0%|          | 0/2 [00:00<?, ?it/s]\u001b[A"
     ]
    },
    {
     "name": "stdout",
     "output_type": "stream",
     "text": [
      "Completed training for epoch 91, testing validation dataset\n"
     ]
    },
    {
     "name": "stderr",
     "output_type": "stream",
     "text": [
      "\n",
      " 50%|█████     | 1/2 [00:00<00:00,  1.62it/s]\u001b[A\n",
      "100%|██████████| 2/2 [00:00<00:00,  2.08it/s]\u001b[A\n",
      "  0%|          | 0/2 [00:00<?, ?it/s]\u001b[A"
     ]
    },
    {
     "name": "stdout",
     "output_type": "stream",
     "text": [
      "loss: 0.3941539227962494\n",
      "top1acc: 88.79993438720703\n",
      "Completed testing validation dataset for epoch 91, testing training dataset\n"
     ]
    },
    {
     "name": "stderr",
     "output_type": "stream",
     "text": [
      "\n",
      " 50%|█████     | 1/2 [00:00<00:00,  1.70it/s]\u001b[A\n",
      " 77%|███████▋  | 92/120 [44:43<13:35, 29.12s/it]\n",
      "  0%|          | 0/51 [00:00<?, ?it/s]\u001b[A"
     ]
    },
    {
     "name": "stdout",
     "output_type": "stream",
     "text": [
      "loss: 0.1628599911928177\n",
      "top1acc: 94.39999389648438\n",
      "Completed testing training dataset for epoch 91\n",
      "Starting epoch 92\n"
     ]
    },
    {
     "name": "stderr",
     "output_type": "stream",
     "text": [
      "\n",
      "  2%|▏         | 1/51 [00:01<00:52,  1.04s/it]\u001b[A\n",
      "  4%|▍         | 2/51 [00:01<00:43,  1.12it/s]\u001b[A\n",
      "  6%|▌         | 3/51 [00:02<00:37,  1.28it/s]\u001b[A\n",
      "  8%|▊         | 4/51 [00:02<00:33,  1.40it/s]\u001b[A\n",
      " 10%|▉         | 5/51 [00:03<00:30,  1.52it/s]\u001b[A\n",
      " 12%|█▏        | 6/51 [00:03<00:28,  1.60it/s]\u001b[A\n",
      " 14%|█▎        | 7/51 [00:04<00:26,  1.68it/s]\u001b[A\n",
      " 16%|█▌        | 8/51 [00:04<00:24,  1.73it/s]\u001b[A\n",
      " 18%|█▊        | 9/51 [00:05<00:23,  1.77it/s]\u001b[A\n",
      " 20%|█▉        | 10/51 [00:05<00:22,  1.80it/s]\u001b[A\n",
      " 22%|██▏       | 11/51 [00:06<00:22,  1.82it/s]\u001b[A\n",
      " 24%|██▎       | 12/51 [00:06<00:21,  1.83it/s]\u001b[A\n",
      " 25%|██▌       | 13/51 [00:07<00:20,  1.85it/s]\u001b[A\n",
      " 27%|██▋       | 14/51 [00:08<00:19,  1.86it/s]\u001b[A\n",
      " 29%|██▉       | 15/51 [00:08<00:19,  1.86it/s]\u001b[A\n",
      " 31%|███▏      | 16/51 [00:09<00:18,  1.87it/s]\u001b[A\n",
      " 33%|███▎      | 17/51 [00:09<00:18,  1.87it/s]\u001b[A\n",
      " 35%|███▌      | 18/51 [00:10<00:17,  1.87it/s]\u001b[A\n",
      " 37%|███▋      | 19/51 [00:10<00:17,  1.87it/s]\u001b[A\n",
      " 39%|███▉      | 20/51 [00:11<00:16,  1.88it/s]\u001b[A\n",
      " 41%|████      | 21/51 [00:11<00:15,  1.88it/s]\u001b[A\n",
      " 43%|████▎     | 22/51 [00:12<00:15,  1.88it/s]\u001b[A\n",
      " 45%|████▌     | 23/51 [00:12<00:14,  1.88it/s]\u001b[A\n",
      " 47%|████▋     | 24/51 [00:13<00:14,  1.88it/s]\u001b[A\n",
      " 49%|████▉     | 25/51 [00:13<00:13,  1.88it/s]\u001b[A\n",
      " 51%|█████     | 26/51 [00:14<00:13,  1.88it/s]\u001b[A\n",
      " 53%|█████▎    | 27/51 [00:14<00:12,  1.88it/s]\u001b[A\n",
      " 55%|█████▍    | 28/51 [00:15<00:12,  1.87it/s]\u001b[A\n",
      " 57%|█████▋    | 29/51 [00:16<00:11,  1.87it/s]\u001b[A\n",
      " 59%|█████▉    | 30/51 [00:16<00:11,  1.87it/s]\u001b[A\n",
      " 61%|██████    | 31/51 [00:17<00:10,  1.87it/s]\u001b[A\n",
      " 63%|██████▎   | 32/51 [00:17<00:10,  1.87it/s]\u001b[A\n",
      " 65%|██████▍   | 33/51 [00:18<00:09,  1.87it/s]\u001b[A\n",
      " 67%|██████▋   | 34/51 [00:18<00:09,  1.88it/s]\u001b[A\n",
      " 69%|██████▊   | 35/51 [00:19<00:08,  1.88it/s]\u001b[A\n",
      " 71%|███████   | 36/51 [00:19<00:07,  1.88it/s]\u001b[A\n",
      " 73%|███████▎  | 37/51 [00:20<00:07,  1.88it/s]\u001b[A\n",
      " 75%|███████▍  | 38/51 [00:20<00:06,  1.88it/s]\u001b[A\n",
      " 76%|███████▋  | 39/51 [00:21<00:06,  1.88it/s]\u001b[A\n",
      " 78%|███████▊  | 40/51 [00:21<00:05,  1.88it/s]\u001b[A\n",
      " 80%|████████  | 41/51 [00:22<00:05,  1.88it/s]\u001b[A\n",
      " 82%|████████▏ | 42/51 [00:22<00:04,  1.88it/s]\u001b[A\n",
      " 84%|████████▍ | 43/51 [00:23<00:04,  1.87it/s]\u001b[A\n",
      " 86%|████████▋ | 44/51 [00:24<00:03,  1.88it/s]\u001b[A\n",
      " 88%|████████▊ | 45/51 [00:24<00:03,  1.88it/s]\u001b[A\n",
      " 90%|█████████ | 46/51 [00:25<00:02,  1.88it/s]\u001b[A\n",
      " 92%|█████████▏| 47/51 [00:25<00:02,  1.88it/s]\u001b[A\n",
      " 94%|█████████▍| 48/51 [00:26<00:01,  1.88it/s]\u001b[A\n",
      " 96%|█████████▌| 49/51 [00:26<00:01,  1.88it/s]\u001b[A\n",
      " 98%|█████████▊| 50/51 [00:27<00:00,  1.88it/s]\u001b[A\n",
      "100%|██████████| 51/51 [00:27<00:00,  2.29it/s]\u001b[A\n",
      "  0%|          | 0/2 [00:00<?, ?it/s]\u001b[A"
     ]
    },
    {
     "name": "stdout",
     "output_type": "stream",
     "text": [
      "Completed training for epoch 92, testing validation dataset\n"
     ]
    },
    {
     "name": "stderr",
     "output_type": "stream",
     "text": [
      "\n",
      " 50%|█████     | 1/2 [00:00<00:00,  1.66it/s]\u001b[A\n",
      "100%|██████████| 2/2 [00:00<00:00,  2.14it/s]\u001b[A\n",
      "  0%|          | 0/2 [00:00<?, ?it/s]\u001b[A"
     ]
    },
    {
     "name": "stdout",
     "output_type": "stream",
     "text": [
      "loss: 0.3804416358470917\n",
      "top1acc: 90.39997100830078\n",
      "Completed testing validation dataset for epoch 92, testing training dataset\n"
     ]
    },
    {
     "name": "stderr",
     "output_type": "stream",
     "text": [
      "\n",
      " 50%|█████     | 1/2 [00:00<00:00,  1.71it/s]\u001b[A\n",
      " 78%|███████▊  | 93/120 [45:12<13:06, 29.13s/it]\n",
      "  0%|          | 0/51 [00:00<?, ?it/s]\u001b[A"
     ]
    },
    {
     "name": "stdout",
     "output_type": "stream",
     "text": [
      "loss: 0.16169309616088867\n",
      "top1acc: 95.60001373291016\n",
      "Completed testing training dataset for epoch 92\n",
      "Starting epoch 93\n"
     ]
    },
    {
     "name": "stderr",
     "output_type": "stream",
     "text": [
      "\n",
      "  2%|▏         | 1/51 [00:01<00:51,  1.02s/it]\u001b[A\n",
      "  4%|▍         | 2/51 [00:01<00:42,  1.14it/s]\u001b[A\n",
      "  6%|▌         | 3/51 [00:02<00:37,  1.29it/s]\u001b[A\n",
      "  8%|▊         | 4/51 [00:02<00:32,  1.43it/s]\u001b[A\n",
      " 10%|▉         | 5/51 [00:03<00:29,  1.54it/s]\u001b[A\n",
      " 12%|█▏        | 6/51 [00:03<00:27,  1.62it/s]\u001b[A\n",
      " 14%|█▎        | 7/51 [00:04<00:25,  1.69it/s]\u001b[A\n",
      " 16%|█▌        | 8/51 [00:04<00:24,  1.74it/s]\u001b[A\n",
      " 18%|█▊        | 9/51 [00:05<00:23,  1.78it/s]\u001b[A\n",
      " 20%|█▉        | 10/51 [00:05<00:22,  1.81it/s]\u001b[A\n",
      " 22%|██▏       | 11/51 [00:06<00:21,  1.83it/s]\u001b[A\n",
      " 24%|██▎       | 12/51 [00:06<00:21,  1.84it/s]\u001b[A\n",
      " 25%|██▌       | 13/51 [00:07<00:20,  1.85it/s]\u001b[A\n",
      " 27%|██▋       | 14/51 [00:07<00:19,  1.86it/s]\u001b[A\n",
      " 29%|██▉       | 15/51 [00:08<00:19,  1.87it/s]\u001b[A\n",
      " 31%|███▏      | 16/51 [00:09<00:18,  1.87it/s]\u001b[A\n",
      " 33%|███▎      | 17/51 [00:09<00:18,  1.87it/s]\u001b[A\n",
      " 35%|███▌      | 18/51 [00:10<00:17,  1.87it/s]\u001b[A\n",
      " 37%|███▋      | 19/51 [00:10<00:17,  1.87it/s]\u001b[A\n",
      " 39%|███▉      | 20/51 [00:11<00:16,  1.87it/s]\u001b[A\n",
      " 41%|████      | 21/51 [00:11<00:16,  1.87it/s]\u001b[A\n",
      " 43%|████▎     | 22/51 [00:12<00:15,  1.87it/s]\u001b[A\n",
      " 45%|████▌     | 23/51 [00:12<00:14,  1.87it/s]\u001b[A\n",
      " 47%|████▋     | 24/51 [00:13<00:14,  1.87it/s]\u001b[A\n",
      " 49%|████▉     | 25/51 [00:13<00:13,  1.88it/s]\u001b[A\n",
      " 51%|█████     | 26/51 [00:14<00:13,  1.88it/s]\u001b[A\n",
      " 53%|█████▎    | 27/51 [00:14<00:12,  1.88it/s]\u001b[A\n",
      " 55%|█████▍    | 28/51 [00:15<00:12,  1.88it/s]\u001b[A\n",
      " 57%|█████▋    | 29/51 [00:15<00:11,  1.87it/s]\u001b[A\n",
      " 59%|█████▉    | 30/51 [00:16<00:11,  1.86it/s]\u001b[A\n",
      " 61%|██████    | 31/51 [00:17<00:10,  1.87it/s]\u001b[A\n",
      " 63%|██████▎   | 32/51 [00:17<00:10,  1.87it/s]\u001b[A\n",
      " 65%|██████▍   | 33/51 [00:18<00:09,  1.87it/s]\u001b[A\n",
      " 67%|██████▋   | 34/51 [00:18<00:09,  1.87it/s]\u001b[A\n",
      " 69%|██████▊   | 35/51 [00:19<00:08,  1.87it/s]\u001b[A\n",
      " 71%|███████   | 36/51 [00:19<00:08,  1.87it/s]\u001b[A\n",
      " 73%|███████▎  | 37/51 [00:20<00:07,  1.88it/s]\u001b[A\n",
      " 75%|███████▍  | 38/51 [00:20<00:06,  1.88it/s]\u001b[A\n",
      " 76%|███████▋  | 39/51 [00:21<00:06,  1.88it/s]\u001b[A\n",
      " 78%|███████▊  | 40/51 [00:21<00:05,  1.88it/s]\u001b[A\n",
      " 80%|████████  | 41/51 [00:22<00:05,  1.88it/s]\u001b[A\n",
      " 82%|████████▏ | 42/51 [00:22<00:04,  1.88it/s]\u001b[A\n",
      " 84%|████████▍ | 43/51 [00:23<00:04,  1.88it/s]\u001b[A\n",
      " 86%|████████▋ | 44/51 [00:23<00:03,  1.88it/s]\u001b[A\n",
      " 88%|████████▊ | 45/51 [00:24<00:03,  1.87it/s]\u001b[A\n",
      " 90%|█████████ | 46/51 [00:25<00:02,  1.87it/s]\u001b[A\n",
      " 92%|█████████▏| 47/51 [00:25<00:02,  1.87it/s]\u001b[A\n",
      " 94%|█████████▍| 48/51 [00:26<00:01,  1.87it/s]\u001b[A\n",
      " 96%|█████████▌| 49/51 [00:26<00:01,  1.88it/s]\u001b[A\n",
      " 98%|█████████▊| 50/51 [00:27<00:00,  1.88it/s]\u001b[A\n",
      "100%|██████████| 51/51 [00:27<00:00,  2.29it/s]\u001b[A\n",
      "  0%|          | 0/2 [00:00<?, ?it/s]\u001b[A"
     ]
    },
    {
     "name": "stdout",
     "output_type": "stream",
     "text": [
      "Completed training for epoch 93, testing validation dataset\n"
     ]
    },
    {
     "name": "stderr",
     "output_type": "stream",
     "text": [
      "\n",
      " 50%|█████     | 1/2 [00:00<00:00,  1.64it/s]\u001b[A\n",
      "100%|██████████| 2/2 [00:00<00:00,  2.12it/s]\u001b[A\n",
      "  0%|          | 0/2 [00:00<?, ?it/s]\u001b[A"
     ]
    },
    {
     "name": "stdout",
     "output_type": "stream",
     "text": [
      "loss: 0.372405081987381\n",
      "top1acc: 89.39994812011719\n",
      "Completed testing validation dataset for epoch 93, testing training dataset\n"
     ]
    },
    {
     "name": "stderr",
     "output_type": "stream",
     "text": [
      "\n",
      " 50%|█████     | 1/2 [00:00<00:00,  1.74it/s]\u001b[A\n",
      " 78%|███████▊  | 94/120 [45:41<12:36, 29.11s/it]\n",
      "  0%|          | 0/51 [00:00<?, ?it/s]\u001b[A"
     ]
    },
    {
     "name": "stdout",
     "output_type": "stream",
     "text": [
      "loss: 0.15683674812316895\n",
      "top1acc: 94.99994659423828\n",
      "Completed testing training dataset for epoch 93\n",
      "Starting epoch 94\n"
     ]
    },
    {
     "name": "stderr",
     "output_type": "stream",
     "text": [
      "\n",
      "  2%|▏         | 1/51 [00:01<00:51,  1.04s/it]\u001b[A\n",
      "  4%|▍         | 2/51 [00:01<00:43,  1.13it/s]\u001b[A\n",
      "  6%|▌         | 3/51 [00:02<00:37,  1.28it/s]\u001b[A\n",
      "  8%|▊         | 4/51 [00:02<00:33,  1.41it/s]\u001b[A\n",
      " 10%|▉         | 5/51 [00:03<00:30,  1.53it/s]\u001b[A\n",
      " 12%|█▏        | 6/51 [00:03<00:27,  1.62it/s]\u001b[A\n",
      " 14%|█▎        | 7/51 [00:04<00:26,  1.69it/s]\u001b[A\n",
      " 16%|█▌        | 8/51 [00:04<00:24,  1.74it/s]\u001b[A\n",
      " 18%|█▊        | 9/51 [00:05<00:23,  1.78it/s]\u001b[A\n",
      " 20%|█▉        | 10/51 [00:05<00:22,  1.81it/s]\u001b[A\n",
      " 22%|██▏       | 11/51 [00:06<00:21,  1.83it/s]\u001b[A\n",
      " 24%|██▎       | 12/51 [00:06<00:21,  1.85it/s]\u001b[A\n",
      " 25%|██▌       | 13/51 [00:07<00:20,  1.86it/s]\u001b[A\n",
      " 27%|██▋       | 14/51 [00:07<00:19,  1.86it/s]\u001b[A\n",
      " 29%|██▉       | 15/51 [00:08<00:19,  1.87it/s]\u001b[A\n",
      " 31%|███▏      | 16/51 [00:09<00:18,  1.87it/s]\u001b[A\n",
      " 33%|███▎      | 17/51 [00:09<00:18,  1.87it/s]\u001b[A\n",
      " 35%|███▌      | 18/51 [00:10<00:17,  1.88it/s]\u001b[A\n",
      " 37%|███▋      | 19/51 [00:10<00:17,  1.88it/s]\u001b[A\n",
      " 39%|███▉      | 20/51 [00:11<00:16,  1.88it/s]\u001b[A\n",
      " 41%|████      | 21/51 [00:11<00:16,  1.87it/s]\u001b[A\n",
      " 43%|████▎     | 22/51 [00:12<00:15,  1.87it/s]\u001b[A\n",
      " 45%|████▌     | 23/51 [00:12<00:14,  1.88it/s]\u001b[A\n",
      " 47%|████▋     | 24/51 [00:13<00:14,  1.88it/s]\u001b[A\n",
      " 49%|████▉     | 25/51 [00:13<00:13,  1.88it/s]\u001b[A\n",
      " 51%|█████     | 26/51 [00:14<00:13,  1.88it/s]\u001b[A\n",
      " 53%|█████▎    | 27/51 [00:14<00:12,  1.88it/s]\u001b[A\n",
      " 55%|█████▍    | 28/51 [00:15<00:12,  1.88it/s]\u001b[A\n",
      " 57%|█████▋    | 29/51 [00:15<00:11,  1.88it/s]\u001b[A\n",
      " 59%|█████▉    | 30/51 [00:16<00:11,  1.88it/s]\u001b[A\n",
      " 61%|██████    | 31/51 [00:17<00:10,  1.88it/s]\u001b[A\n",
      " 63%|██████▎   | 32/51 [00:17<00:10,  1.87it/s]\u001b[A\n",
      " 65%|██████▍   | 33/51 [00:18<00:09,  1.86it/s]\u001b[A\n",
      " 67%|██████▋   | 34/51 [00:18<00:09,  1.87it/s]\u001b[A\n",
      " 69%|██████▊   | 35/51 [00:19<00:08,  1.87it/s]\u001b[A\n",
      " 71%|███████   | 36/51 [00:19<00:08,  1.87it/s]\u001b[A\n",
      " 73%|███████▎  | 37/51 [00:20<00:07,  1.87it/s]\u001b[A\n",
      " 75%|███████▍  | 38/51 [00:20<00:06,  1.87it/s]\u001b[A\n",
      " 76%|███████▋  | 39/51 [00:21<00:06,  1.87it/s]\u001b[A\n",
      " 78%|███████▊  | 40/51 [00:21<00:05,  1.88it/s]\u001b[A\n",
      " 80%|████████  | 41/51 [00:22<00:05,  1.88it/s]\u001b[A\n",
      " 82%|████████▏ | 42/51 [00:22<00:04,  1.87it/s]\u001b[A\n",
      " 84%|████████▍ | 43/51 [00:23<00:04,  1.87it/s]\u001b[A\n",
      " 86%|████████▋ | 44/51 [00:23<00:03,  1.87it/s]\u001b[A\n",
      " 88%|████████▊ | 45/51 [00:24<00:03,  1.87it/s]\u001b[A\n",
      " 90%|█████████ | 46/51 [00:25<00:02,  1.87it/s]\u001b[A\n",
      " 92%|█████████▏| 47/51 [00:25<00:02,  1.87it/s]\u001b[A\n",
      " 94%|█████████▍| 48/51 [00:26<00:01,  1.87it/s]\u001b[A\n",
      " 96%|█████████▌| 49/51 [00:26<00:01,  1.87it/s]\u001b[A\n",
      " 98%|█████████▊| 50/51 [00:27<00:00,  1.87it/s]\u001b[A\n",
      "100%|██████████| 51/51 [00:27<00:00,  2.28it/s]\u001b[A\n",
      "  0%|          | 0/2 [00:00<?, ?it/s]\u001b[A"
     ]
    },
    {
     "name": "stdout",
     "output_type": "stream",
     "text": [
      "Completed training for epoch 94, testing validation dataset\n"
     ]
    },
    {
     "name": "stderr",
     "output_type": "stream",
     "text": [
      "\n",
      " 50%|█████     | 1/2 [00:00<00:00,  1.61it/s]\u001b[A\n",
      "100%|██████████| 2/2 [00:00<00:00,  2.08it/s]\u001b[A\n",
      "  0%|          | 0/2 [00:00<?, ?it/s]\u001b[A"
     ]
    },
    {
     "name": "stdout",
     "output_type": "stream",
     "text": [
      "loss: 0.3861960768699646\n",
      "top1acc: 89.79993438720703\n",
      "Completed testing validation dataset for epoch 94, testing training dataset\n"
     ]
    },
    {
     "name": "stderr",
     "output_type": "stream",
     "text": [
      "\n",
      " 50%|█████     | 1/2 [00:00<00:00,  1.63it/s]\u001b[A\n",
      " 79%|███████▉  | 95/120 [46:11<12:08, 29.13s/it]\n",
      "  0%|          | 0/51 [00:00<?, ?it/s]\u001b[A"
     ]
    },
    {
     "name": "stdout",
     "output_type": "stream",
     "text": [
      "loss: 0.15097801387310028\n",
      "top1acc: 94.99999237060547\n",
      "Completed testing training dataset for epoch 94\n",
      "Starting epoch 95\n"
     ]
    },
    {
     "name": "stderr",
     "output_type": "stream",
     "text": [
      "\n",
      "  2%|▏         | 1/51 [00:01<00:50,  1.02s/it]\u001b[A\n",
      "  4%|▍         | 2/51 [00:01<00:42,  1.15it/s]\u001b[A\n",
      "  6%|▌         | 3/51 [00:02<00:36,  1.30it/s]\u001b[A\n",
      "  8%|▊         | 4/51 [00:02<00:32,  1.43it/s]\u001b[A\n",
      " 10%|▉         | 5/51 [00:03<00:30,  1.53it/s]\u001b[A\n",
      " 12%|█▏        | 6/51 [00:03<00:27,  1.62it/s]\u001b[A\n",
      " 14%|█▎        | 7/51 [00:04<00:26,  1.68it/s]\u001b[A\n",
      " 16%|█▌        | 8/51 [00:04<00:24,  1.74it/s]\u001b[A\n",
      " 18%|█▊        | 9/51 [00:05<00:23,  1.78it/s]\u001b[A\n",
      " 20%|█▉        | 10/51 [00:05<00:22,  1.79it/s]\u001b[A\n",
      " 22%|██▏       | 11/51 [00:06<00:21,  1.82it/s]\u001b[A\n",
      " 24%|██▎       | 12/51 [00:06<00:21,  1.84it/s]\u001b[A\n",
      " 25%|██▌       | 13/51 [00:07<00:20,  1.85it/s]\u001b[A\n",
      " 27%|██▋       | 14/51 [00:07<00:19,  1.86it/s]\u001b[A\n",
      " 29%|██▉       | 15/51 [00:08<00:19,  1.86it/s]\u001b[A\n",
      " 31%|███▏      | 16/51 [00:09<00:18,  1.87it/s]\u001b[A\n",
      " 33%|███▎      | 17/51 [00:09<00:18,  1.87it/s]\u001b[A\n",
      " 35%|███▌      | 18/51 [00:10<00:17,  1.87it/s]\u001b[A\n",
      " 37%|███▋      | 19/51 [00:10<00:17,  1.87it/s]\u001b[A\n",
      " 39%|███▉      | 20/51 [00:11<00:16,  1.87it/s]\u001b[A\n",
      " 41%|████      | 21/51 [00:11<00:16,  1.87it/s]\u001b[A\n",
      " 43%|████▎     | 22/51 [00:12<00:15,  1.87it/s]\u001b[A\n",
      " 45%|████▌     | 23/51 [00:12<00:14,  1.88it/s]\u001b[A\n",
      " 47%|████▋     | 24/51 [00:13<00:14,  1.88it/s]\u001b[A\n",
      " 49%|████▉     | 25/51 [00:13<00:13,  1.88it/s]\u001b[A\n",
      " 51%|█████     | 26/51 [00:14<00:13,  1.88it/s]\u001b[A\n",
      " 53%|█████▎    | 27/51 [00:14<00:12,  1.88it/s]\u001b[A\n",
      " 55%|█████▍    | 28/51 [00:15<00:12,  1.88it/s]\u001b[A\n",
      " 57%|█████▋    | 29/51 [00:15<00:11,  1.88it/s]\u001b[A\n",
      " 59%|█████▉    | 30/51 [00:16<00:11,  1.87it/s]\u001b[A\n",
      " 61%|██████    | 31/51 [00:17<00:10,  1.87it/s]\u001b[A\n",
      " 63%|██████▎   | 32/51 [00:17<00:10,  1.87it/s]\u001b[A\n",
      " 65%|██████▍   | 33/51 [00:18<00:09,  1.87it/s]\u001b[A\n",
      " 67%|██████▋   | 34/51 [00:18<00:09,  1.88it/s]\u001b[A\n",
      " 69%|██████▊   | 35/51 [00:19<00:08,  1.87it/s]\u001b[A\n",
      " 71%|███████   | 36/51 [00:19<00:08,  1.87it/s]\u001b[A\n",
      " 73%|███████▎  | 37/51 [00:20<00:07,  1.87it/s]\u001b[A\n",
      " 75%|███████▍  | 38/51 [00:20<00:06,  1.88it/s]\u001b[A\n",
      " 76%|███████▋  | 39/51 [00:21<00:06,  1.88it/s]\u001b[A\n",
      " 78%|███████▊  | 40/51 [00:21<00:05,  1.87it/s]\u001b[A\n",
      " 80%|████████  | 41/51 [00:22<00:05,  1.87it/s]\u001b[A\n",
      " 82%|████████▏ | 42/51 [00:22<00:04,  1.87it/s]\u001b[A\n",
      " 84%|████████▍ | 43/51 [00:23<00:04,  1.87it/s]\u001b[A\n",
      " 86%|████████▋ | 44/51 [00:23<00:03,  1.87it/s]\u001b[A\n",
      " 88%|████████▊ | 45/51 [00:24<00:03,  1.87it/s]\u001b[A\n",
      " 90%|█████████ | 46/51 [00:25<00:02,  1.87it/s]\u001b[A\n",
      " 92%|█████████▏| 47/51 [00:25<00:02,  1.88it/s]\u001b[A\n",
      " 94%|█████████▍| 48/51 [00:26<00:01,  1.88it/s]\u001b[A\n",
      " 96%|█████████▌| 49/51 [00:26<00:01,  1.88it/s]\u001b[A\n",
      " 98%|█████████▊| 50/51 [00:27<00:00,  1.88it/s]\u001b[A\n",
      "100%|██████████| 51/51 [00:27<00:00,  2.28it/s]\u001b[A\n",
      "  0%|          | 0/2 [00:00<?, ?it/s]\u001b[A"
     ]
    },
    {
     "name": "stdout",
     "output_type": "stream",
     "text": [
      "Completed training for epoch 95, testing validation dataset\n"
     ]
    },
    {
     "name": "stderr",
     "output_type": "stream",
     "text": [
      "\n",
      " 50%|█████     | 1/2 [00:00<00:00,  1.68it/s]\u001b[A\n",
      "100%|██████████| 2/2 [00:00<00:00,  2.15it/s]\u001b[A\n",
      "  0%|          | 0/2 [00:00<?, ?it/s]\u001b[A"
     ]
    },
    {
     "name": "stdout",
     "output_type": "stream",
     "text": [
      "loss: 0.39494621753692627\n",
      "top1acc: 88.79998016357422\n",
      "Completed testing validation dataset for epoch 95, testing training dataset\n"
     ]
    },
    {
     "name": "stderr",
     "output_type": "stream",
     "text": [
      "\n",
      " 50%|█████     | 1/2 [00:00<00:00,  1.64it/s]\u001b[A\n",
      " 80%|████████  | 96/120 [46:40<11:39, 29.14s/it]\n",
      "  0%|          | 0/51 [00:00<?, ?it/s]\u001b[A"
     ]
    },
    {
     "name": "stdout",
     "output_type": "stream",
     "text": [
      "loss: 0.14748317003250122\n",
      "top1acc: 94.9999771118164\n",
      "Completed testing training dataset for epoch 95\n",
      "Starting epoch 96\n"
     ]
    },
    {
     "name": "stderr",
     "output_type": "stream",
     "text": [
      "\n",
      "  2%|▏         | 1/51 [00:01<00:53,  1.08s/it]\u001b[A\n",
      "  4%|▍         | 2/51 [00:01<00:44,  1.09it/s]\u001b[A\n",
      "  6%|▌         | 3/51 [00:02<00:38,  1.25it/s]\u001b[A\n",
      "  8%|▊         | 4/51 [00:02<00:33,  1.39it/s]\u001b[A\n",
      " 10%|▉         | 5/51 [00:03<00:30,  1.51it/s]\u001b[A\n",
      " 12%|█▏        | 6/51 [00:03<00:28,  1.60it/s]\u001b[A\n",
      " 14%|█▎        | 7/51 [00:04<00:26,  1.68it/s]\u001b[A\n",
      " 16%|█▌        | 8/51 [00:04<00:24,  1.73it/s]\u001b[A\n",
      " 18%|█▊        | 9/51 [00:05<00:23,  1.77it/s]\u001b[A\n",
      " 20%|█▉        | 10/51 [00:05<00:22,  1.80it/s]\u001b[A\n",
      " 22%|██▏       | 11/51 [00:06<00:21,  1.83it/s]\u001b[A\n",
      " 24%|██▎       | 12/51 [00:06<00:21,  1.84it/s]\u001b[A\n",
      " 25%|██▌       | 13/51 [00:07<00:20,  1.85it/s]\u001b[A\n",
      " 27%|██▋       | 14/51 [00:07<00:19,  1.86it/s]\u001b[A\n",
      " 29%|██▉       | 15/51 [00:08<00:19,  1.87it/s]\u001b[A\n",
      " 31%|███▏      | 16/51 [00:09<00:18,  1.87it/s]\u001b[A\n",
      " 33%|███▎      | 17/51 [00:09<00:18,  1.88it/s]\u001b[A\n",
      " 35%|███▌      | 18/51 [00:10<00:17,  1.88it/s]\u001b[A\n",
      " 37%|███▋      | 19/51 [00:10<00:17,  1.88it/s]\u001b[A\n",
      " 39%|███▉      | 20/51 [00:11<00:16,  1.88it/s]\u001b[A\n",
      " 41%|████      | 21/51 [00:11<00:16,  1.87it/s]\u001b[A\n",
      " 43%|████▎     | 22/51 [00:12<00:15,  1.87it/s]\u001b[A\n",
      " 45%|████▌     | 23/51 [00:12<00:14,  1.87it/s]\u001b[A\n",
      " 47%|████▋     | 24/51 [00:13<00:14,  1.87it/s]\u001b[A\n",
      " 49%|████▉     | 25/51 [00:13<00:13,  1.88it/s]\u001b[A\n",
      " 51%|█████     | 26/51 [00:14<00:13,  1.88it/s]\u001b[A\n",
      " 53%|█████▎    | 27/51 [00:14<00:12,  1.88it/s]\u001b[A\n",
      " 55%|█████▍    | 28/51 [00:15<00:12,  1.88it/s]\u001b[A\n",
      " 57%|█████▋    | 29/51 [00:15<00:11,  1.88it/s]\u001b[A\n",
      " 59%|█████▉    | 30/51 [00:16<00:11,  1.88it/s]\u001b[A\n",
      " 61%|██████    | 31/51 [00:17<00:10,  1.88it/s]\u001b[A\n",
      " 63%|██████▎   | 32/51 [00:17<00:10,  1.88it/s]\u001b[A\n",
      " 65%|██████▍   | 33/51 [00:18<00:09,  1.87it/s]\u001b[A\n",
      " 67%|██████▋   | 34/51 [00:18<00:09,  1.88it/s]\u001b[A\n",
      " 69%|██████▊   | 35/51 [00:19<00:08,  1.88it/s]\u001b[A\n",
      " 71%|███████   | 36/51 [00:19<00:08,  1.87it/s]\u001b[A\n",
      " 73%|███████▎  | 37/51 [00:20<00:07,  1.87it/s]\u001b[A\n",
      " 75%|███████▍  | 38/51 [00:20<00:06,  1.87it/s]\u001b[A\n",
      " 76%|███████▋  | 39/51 [00:21<00:06,  1.87it/s]\u001b[A\n",
      " 78%|███████▊  | 40/51 [00:21<00:05,  1.87it/s]\u001b[A\n",
      " 80%|████████  | 41/51 [00:22<00:05,  1.87it/s]\u001b[A\n",
      " 82%|████████▏ | 42/51 [00:22<00:04,  1.88it/s]\u001b[A\n",
      " 84%|████████▍ | 43/51 [00:23<00:04,  1.88it/s]\u001b[A\n",
      " 86%|████████▋ | 44/51 [00:23<00:03,  1.88it/s]\u001b[A\n",
      " 88%|████████▊ | 45/51 [00:24<00:03,  1.88it/s]\u001b[A\n",
      " 90%|█████████ | 46/51 [00:25<00:02,  1.88it/s]\u001b[A\n",
      " 92%|█████████▏| 47/51 [00:25<00:02,  1.88it/s]\u001b[A\n",
      " 94%|█████████▍| 48/51 [00:26<00:01,  1.88it/s]\u001b[A\n",
      " 96%|█████████▌| 49/51 [00:26<00:01,  1.88it/s]\u001b[A\n",
      " 98%|█████████▊| 50/51 [00:27<00:00,  1.88it/s]\u001b[A\n",
      "100%|██████████| 51/51 [00:27<00:00,  2.29it/s]\u001b[A\n",
      "  0%|          | 0/2 [00:00<?, ?it/s]\u001b[A"
     ]
    },
    {
     "name": "stdout",
     "output_type": "stream",
     "text": [
      "Completed training for epoch 96, testing validation dataset\n"
     ]
    },
    {
     "name": "stderr",
     "output_type": "stream",
     "text": [
      "\n",
      " 50%|█████     | 1/2 [00:00<00:00,  1.65it/s]\u001b[A\n",
      "100%|██████████| 2/2 [00:00<00:00,  2.12it/s]\u001b[A\n",
      "  0%|          | 0/2 [00:00<?, ?it/s]\u001b[A"
     ]
    },
    {
     "name": "stdout",
     "output_type": "stream",
     "text": [
      "loss: 0.38132885098457336\n",
      "top1acc: 88.99994659423828\n",
      "Completed testing validation dataset for epoch 96, testing training dataset\n"
     ]
    },
    {
     "name": "stderr",
     "output_type": "stream",
     "text": [
      "\n",
      " 50%|█████     | 1/2 [00:00<00:00,  1.62it/s]\u001b[A\n",
      " 81%|████████  | 97/120 [47:09<11:10, 29.15s/it]\n",
      "  0%|          | 0/51 [00:00<?, ?it/s]\u001b[A"
     ]
    },
    {
     "name": "stdout",
     "output_type": "stream",
     "text": [
      "loss: 0.15005677938461304\n",
      "top1acc: 95.39997863769531\n",
      "Completed testing training dataset for epoch 96\n",
      "Starting epoch 97\n"
     ]
    },
    {
     "name": "stderr",
     "output_type": "stream",
     "text": [
      "\n",
      "  2%|▏         | 1/51 [00:01<00:51,  1.04s/it]\u001b[A\n",
      "  4%|▍         | 2/51 [00:01<00:43,  1.13it/s]\u001b[A\n",
      "  6%|▌         | 3/51 [00:02<00:37,  1.28it/s]\u001b[A\n",
      "  8%|▊         | 4/51 [00:02<00:33,  1.42it/s]\u001b[A\n",
      " 10%|▉         | 5/51 [00:03<00:30,  1.53it/s]\u001b[A\n",
      " 12%|█▏        | 6/51 [00:03<00:27,  1.62it/s]\u001b[A\n",
      " 14%|█▎        | 7/51 [00:04<00:26,  1.69it/s]\u001b[A\n",
      " 16%|█▌        | 8/51 [00:04<00:24,  1.74it/s]\u001b[A\n",
      " 18%|█▊        | 9/51 [00:05<00:23,  1.78it/s]\u001b[A\n",
      " 20%|█▉        | 10/51 [00:05<00:22,  1.81it/s]\u001b[A\n",
      " 22%|██▏       | 11/51 [00:06<00:21,  1.83it/s]\u001b[A\n",
      " 24%|██▎       | 12/51 [00:06<00:21,  1.84it/s]\u001b[A\n",
      " 25%|██▌       | 13/51 [00:07<00:20,  1.85it/s]\u001b[A\n",
      " 27%|██▋       | 14/51 [00:07<00:19,  1.86it/s]\u001b[A\n",
      " 29%|██▉       | 15/51 [00:08<00:19,  1.87it/s]\u001b[A\n",
      " 31%|███▏      | 16/51 [00:09<00:18,  1.87it/s]\u001b[A\n",
      " 33%|███▎      | 17/51 [00:09<00:18,  1.87it/s]\u001b[A\n",
      " 35%|███▌      | 18/51 [00:10<00:17,  1.87it/s]\u001b[A\n",
      " 37%|███▋      | 19/51 [00:10<00:17,  1.87it/s]\u001b[A\n",
      " 39%|███▉      | 20/51 [00:11<00:16,  1.88it/s]\u001b[A\n",
      " 41%|████      | 21/51 [00:11<00:16,  1.87it/s]\u001b[A\n",
      " 43%|████▎     | 22/51 [00:12<00:15,  1.87it/s]\u001b[A\n",
      " 45%|████▌     | 23/51 [00:12<00:14,  1.87it/s]\u001b[A\n",
      " 47%|████▋     | 24/51 [00:13<00:14,  1.87it/s]\u001b[A\n",
      " 49%|████▉     | 25/51 [00:13<00:13,  1.87it/s]\u001b[A\n",
      " 51%|█████     | 26/51 [00:14<00:13,  1.87it/s]\u001b[A\n",
      " 53%|█████▎    | 27/51 [00:14<00:12,  1.87it/s]\u001b[A\n",
      " 55%|█████▍    | 28/51 [00:15<00:12,  1.87it/s]\u001b[A\n",
      " 57%|█████▋    | 29/51 [00:15<00:11,  1.87it/s]\u001b[A\n",
      " 59%|█████▉    | 30/51 [00:16<00:11,  1.87it/s]\u001b[A\n",
      " 61%|██████    | 31/51 [00:17<00:10,  1.87it/s]\u001b[A\n",
      " 63%|██████▎   | 32/51 [00:17<00:10,  1.88it/s]\u001b[A\n",
      " 65%|██████▍   | 33/51 [00:18<00:09,  1.88it/s]\u001b[A\n",
      " 67%|██████▋   | 34/51 [00:18<00:09,  1.88it/s]\u001b[A\n",
      " 69%|██████▊   | 35/51 [00:19<00:08,  1.88it/s]\u001b[A\n",
      " 71%|███████   | 36/51 [00:19<00:08,  1.87it/s]\u001b[A\n",
      " 73%|███████▎  | 37/51 [00:20<00:07,  1.88it/s]\u001b[A\n",
      " 75%|███████▍  | 38/51 [00:20<00:06,  1.88it/s]\u001b[A\n",
      " 76%|███████▋  | 39/51 [00:21<00:06,  1.88it/s]\u001b[A\n",
      " 78%|███████▊  | 40/51 [00:21<00:05,  1.88it/s]\u001b[A\n",
      " 80%|████████  | 41/51 [00:22<00:05,  1.88it/s]\u001b[A\n",
      " 82%|████████▏ | 42/51 [00:22<00:04,  1.88it/s]\u001b[A\n",
      " 84%|████████▍ | 43/51 [00:23<00:04,  1.87it/s]\u001b[A\n",
      " 86%|████████▋ | 44/51 [00:23<00:03,  1.88it/s]\u001b[A\n",
      " 88%|████████▊ | 45/51 [00:24<00:03,  1.88it/s]\u001b[A\n",
      " 90%|█████████ | 46/51 [00:25<00:02,  1.88it/s]\u001b[A\n",
      " 92%|█████████▏| 47/51 [00:25<00:02,  1.88it/s]\u001b[A\n",
      " 94%|█████████▍| 48/51 [00:26<00:01,  1.88it/s]\u001b[A\n",
      " 96%|█████████▌| 49/51 [00:26<00:01,  1.88it/s]\u001b[A\n",
      " 98%|█████████▊| 50/51 [00:27<00:00,  1.88it/s]\u001b[A\n",
      "100%|██████████| 51/51 [00:27<00:00,  2.29it/s]\u001b[A\n",
      "  0%|          | 0/2 [00:00<?, ?it/s]\u001b[A"
     ]
    },
    {
     "name": "stdout",
     "output_type": "stream",
     "text": [
      "Completed training for epoch 97, testing validation dataset\n"
     ]
    },
    {
     "name": "stderr",
     "output_type": "stream",
     "text": [
      "\n",
      " 50%|█████     | 1/2 [00:00<00:00,  1.63it/s]\u001b[A\n",
      "100%|██████████| 2/2 [00:00<00:00,  2.10it/s]\u001b[A\n",
      "  0%|          | 0/2 [00:00<?, ?it/s]\u001b[A"
     ]
    },
    {
     "name": "stdout",
     "output_type": "stream",
     "text": [
      "loss: 0.38963866233825684\n",
      "top1acc: 87.99993133544922\n",
      "Completed testing validation dataset for epoch 97, testing training dataset\n"
     ]
    },
    {
     "name": "stderr",
     "output_type": "stream",
     "text": [
      "\n",
      " 50%|█████     | 1/2 [00:00<00:00,  1.68it/s]\u001b[A\n",
      " 82%|████████▏ | 98/120 [47:38<10:41, 29.14s/it]\n",
      "  0%|          | 0/51 [00:00<?, ?it/s]\u001b[A"
     ]
    },
    {
     "name": "stdout",
     "output_type": "stream",
     "text": [
      "loss: 0.16254740953445435\n",
      "top1acc: 94.59996032714844\n",
      "Completed testing training dataset for epoch 97\n",
      "Starting epoch 98\n"
     ]
    },
    {
     "name": "stderr",
     "output_type": "stream",
     "text": [
      "\n",
      "  2%|▏         | 1/51 [00:01<00:53,  1.06s/it]\u001b[A\n",
      "  4%|▍         | 2/51 [00:01<00:44,  1.11it/s]\u001b[A\n",
      "  6%|▌         | 3/51 [00:02<00:37,  1.26it/s]\u001b[A\n",
      "  8%|▊         | 4/51 [00:02<00:33,  1.40it/s]\u001b[A\n",
      " 10%|▉         | 5/51 [00:03<00:30,  1.52it/s]\u001b[A\n",
      " 12%|█▏        | 6/51 [00:03<00:27,  1.61it/s]\u001b[A\n",
      " 14%|█▎        | 7/51 [00:04<00:26,  1.68it/s]\u001b[A\n",
      " 16%|█▌        | 8/51 [00:04<00:24,  1.74it/s]\u001b[A\n",
      " 18%|█▊        | 9/51 [00:05<00:23,  1.78it/s]\u001b[A\n",
      " 20%|█▉        | 10/51 [00:05<00:22,  1.81it/s]\u001b[A\n",
      " 22%|██▏       | 11/51 [00:06<00:21,  1.83it/s]\u001b[A\n",
      " 24%|██▎       | 12/51 [00:06<00:21,  1.84it/s]\u001b[A\n",
      " 25%|██▌       | 13/51 [00:07<00:20,  1.85it/s]\u001b[A\n",
      " 27%|██▋       | 14/51 [00:07<00:19,  1.86it/s]\u001b[A\n",
      " 29%|██▉       | 15/51 [00:08<00:19,  1.87it/s]\u001b[A\n",
      " 31%|███▏      | 16/51 [00:09<00:18,  1.87it/s]\u001b[A\n",
      " 33%|███▎      | 17/51 [00:09<00:18,  1.87it/s]\u001b[A\n",
      " 35%|███▌      | 18/51 [00:10<00:17,  1.87it/s]\u001b[A\n",
      " 37%|███▋      | 19/51 [00:10<00:17,  1.87it/s]\u001b[A\n",
      " 39%|███▉      | 20/51 [00:11<00:16,  1.88it/s]\u001b[A\n",
      " 41%|████      | 21/51 [00:11<00:15,  1.88it/s]\u001b[A\n",
      " 43%|████▎     | 22/51 [00:12<00:15,  1.88it/s]\u001b[A\n",
      " 45%|████▌     | 23/51 [00:12<00:14,  1.88it/s]\u001b[A\n",
      " 47%|████▋     | 24/51 [00:13<00:14,  1.88it/s]\u001b[A\n",
      " 49%|████▉     | 25/51 [00:13<00:13,  1.88it/s]\u001b[A\n",
      " 51%|█████     | 26/51 [00:14<00:13,  1.88it/s]\u001b[A\n",
      " 53%|█████▎    | 27/51 [00:14<00:12,  1.88it/s]\u001b[A\n",
      " 55%|█████▍    | 28/51 [00:15<00:12,  1.88it/s]\u001b[A\n",
      " 57%|█████▋    | 29/51 [00:15<00:11,  1.88it/s]\u001b[A\n",
      " 59%|█████▉    | 30/51 [00:16<00:11,  1.88it/s]\u001b[A\n",
      " 61%|██████    | 31/51 [00:17<00:10,  1.88it/s]\u001b[A\n",
      " 63%|██████▎   | 32/51 [00:17<00:10,  1.88it/s]\u001b[A\n",
      " 65%|██████▍   | 33/51 [00:18<00:09,  1.88it/s]\u001b[A\n",
      " 67%|██████▋   | 34/51 [00:18<00:09,  1.88it/s]\u001b[A\n",
      " 69%|██████▊   | 35/51 [00:19<00:08,  1.88it/s]\u001b[A\n",
      " 71%|███████   | 36/51 [00:19<00:07,  1.88it/s]\u001b[A\n",
      " 73%|███████▎  | 37/51 [00:20<00:07,  1.88it/s]\u001b[A\n",
      " 75%|███████▍  | 38/51 [00:20<00:06,  1.88it/s]\u001b[A\n",
      " 76%|███████▋  | 39/51 [00:21<00:06,  1.88it/s]\u001b[A\n",
      " 78%|███████▊  | 40/51 [00:21<00:05,  1.88it/s]\u001b[A\n",
      " 80%|████████  | 41/51 [00:22<00:05,  1.87it/s]\u001b[A\n",
      " 82%|████████▏ | 42/51 [00:22<00:04,  1.88it/s]\u001b[A\n",
      " 84%|████████▍ | 43/51 [00:23<00:04,  1.87it/s]\u001b[A\n",
      " 86%|████████▋ | 44/51 [00:23<00:03,  1.88it/s]\u001b[A\n",
      " 88%|████████▊ | 45/51 [00:24<00:03,  1.88it/s]\u001b[A\n",
      " 90%|█████████ | 46/51 [00:25<00:02,  1.88it/s]\u001b[A\n",
      " 92%|█████████▏| 47/51 [00:25<00:02,  1.88it/s]\u001b[A\n",
      " 94%|█████████▍| 48/51 [00:26<00:01,  1.88it/s]\u001b[A\n",
      " 96%|█████████▌| 49/51 [00:26<00:01,  1.88it/s]\u001b[A\n",
      " 98%|█████████▊| 50/51 [00:27<00:00,  1.88it/s]\u001b[A\n",
      "100%|██████████| 51/51 [00:27<00:00,  2.29it/s]\u001b[A\n",
      "  0%|          | 0/2 [00:00<?, ?it/s]\u001b[A"
     ]
    },
    {
     "name": "stdout",
     "output_type": "stream",
     "text": [
      "Completed training for epoch 98, testing validation dataset\n"
     ]
    },
    {
     "name": "stderr",
     "output_type": "stream",
     "text": [
      "\n",
      " 50%|█████     | 1/2 [00:00<00:00,  1.66it/s]\u001b[A\n",
      "100%|██████████| 2/2 [00:00<00:00,  2.14it/s]\u001b[A\n",
      "  0%|          | 0/2 [00:00<?, ?it/s]\u001b[A"
     ]
    },
    {
     "name": "stdout",
     "output_type": "stream",
     "text": [
      "loss: 0.3890766501426697\n",
      "top1acc: 88.99994659423828\n",
      "Completed testing validation dataset for epoch 98, testing training dataset\n"
     ]
    },
    {
     "name": "stderr",
     "output_type": "stream",
     "text": [
      "\n",
      " 50%|█████     | 1/2 [00:00<00:00,  1.61it/s]\u001b[A\n",
      " 82%|████████▎ | 99/120 [48:07<10:12, 29.14s/it]\n",
      "  0%|          | 0/51 [00:00<?, ?it/s]\u001b[A"
     ]
    },
    {
     "name": "stdout",
     "output_type": "stream",
     "text": [
      "loss: 0.1466895043849945\n",
      "top1acc: 95.60001373291016\n",
      "Completed testing training dataset for epoch 98\n",
      "Starting epoch 99\n"
     ]
    },
    {
     "name": "stderr",
     "output_type": "stream",
     "text": [
      "\n",
      "  2%|▏         | 1/51 [00:01<00:51,  1.03s/it]\u001b[A\n",
      "  4%|▍         | 2/51 [00:01<00:43,  1.13it/s]\u001b[A\n",
      "  6%|▌         | 3/51 [00:02<00:37,  1.28it/s]\u001b[A\n",
      "  8%|▊         | 4/51 [00:02<00:33,  1.42it/s]\u001b[A\n",
      " 10%|▉         | 5/51 [00:03<00:30,  1.53it/s]\u001b[A\n",
      " 12%|█▏        | 6/51 [00:03<00:27,  1.62it/s]\u001b[A\n",
      " 14%|█▎        | 7/51 [00:04<00:26,  1.69it/s]\u001b[A\n",
      " 16%|█▌        | 8/51 [00:04<00:24,  1.74it/s]\u001b[A\n",
      " 18%|█▊        | 9/51 [00:05<00:23,  1.78it/s]\u001b[A\n",
      " 20%|█▉        | 10/51 [00:05<00:22,  1.81it/s]\u001b[A\n",
      " 22%|██▏       | 11/51 [00:06<00:21,  1.83it/s]\u001b[A\n",
      " 24%|██▎       | 12/51 [00:06<00:21,  1.84it/s]\u001b[A\n",
      " 25%|██▌       | 13/51 [00:07<00:20,  1.85it/s]\u001b[A\n",
      " 27%|██▋       | 14/51 [00:07<00:19,  1.85it/s]\u001b[A\n",
      " 29%|██▉       | 15/51 [00:08<00:19,  1.86it/s]\u001b[A\n",
      " 31%|███▏      | 16/51 [00:09<00:18,  1.86it/s]\u001b[A\n",
      " 33%|███▎      | 17/51 [00:09<00:18,  1.87it/s]\u001b[A\n",
      " 35%|███▌      | 18/51 [00:10<00:17,  1.87it/s]\u001b[A\n",
      " 37%|███▋      | 19/51 [00:10<00:17,  1.87it/s]\u001b[A\n",
      " 39%|███▉      | 20/51 [00:11<00:16,  1.87it/s]\u001b[A\n",
      " 41%|████      | 21/51 [00:11<00:16,  1.87it/s]\u001b[A\n",
      " 43%|████▎     | 22/51 [00:12<00:15,  1.87it/s]\u001b[A\n",
      " 45%|████▌     | 23/51 [00:12<00:14,  1.87it/s]\u001b[A\n",
      " 47%|████▋     | 24/51 [00:13<00:14,  1.87it/s]\u001b[A\n",
      " 49%|████▉     | 25/51 [00:13<00:13,  1.88it/s]\u001b[A\n",
      " 51%|█████     | 26/51 [00:14<00:13,  1.88it/s]\u001b[A\n",
      " 53%|█████▎    | 27/51 [00:14<00:12,  1.88it/s]\u001b[A\n",
      " 55%|█████▍    | 28/51 [00:15<00:12,  1.87it/s]\u001b[A\n",
      " 57%|█████▋    | 29/51 [00:15<00:11,  1.87it/s]\u001b[A\n",
      " 59%|█████▉    | 30/51 [00:16<00:11,  1.87it/s]\u001b[A\n",
      " 61%|██████    | 31/51 [00:17<00:10,  1.87it/s]\u001b[A\n",
      " 63%|██████▎   | 32/51 [00:17<00:10,  1.87it/s]\u001b[A\n",
      " 65%|██████▍   | 33/51 [00:18<00:09,  1.87it/s]\u001b[A\n",
      " 67%|██████▋   | 34/51 [00:18<00:09,  1.88it/s]\u001b[A\n",
      " 69%|██████▊   | 35/51 [00:19<00:08,  1.88it/s]\u001b[A\n",
      " 71%|███████   | 36/51 [00:19<00:08,  1.87it/s]\u001b[A\n",
      " 73%|███████▎  | 37/51 [00:20<00:07,  1.87it/s]\u001b[A\n",
      " 75%|███████▍  | 38/51 [00:20<00:06,  1.87it/s]\u001b[A\n",
      " 76%|███████▋  | 39/51 [00:21<00:06,  1.87it/s]\u001b[A\n",
      " 78%|███████▊  | 40/51 [00:21<00:05,  1.88it/s]\u001b[A\n",
      " 80%|████████  | 41/51 [00:22<00:05,  1.88it/s]\u001b[A\n",
      " 82%|████████▏ | 42/51 [00:22<00:04,  1.88it/s]\u001b[A\n",
      " 84%|████████▍ | 43/51 [00:23<00:04,  1.88it/s]\u001b[A\n",
      " 86%|████████▋ | 44/51 [00:23<00:03,  1.88it/s]\u001b[A\n",
      " 88%|████████▊ | 45/51 [00:24<00:03,  1.88it/s]\u001b[A\n",
      " 90%|█████████ | 46/51 [00:25<00:02,  1.88it/s]\u001b[A\n",
      " 92%|█████████▏| 47/51 [00:25<00:02,  1.88it/s]\u001b[A\n",
      " 94%|█████████▍| 48/51 [00:26<00:01,  1.88it/s]\u001b[A\n",
      " 96%|█████████▌| 49/51 [00:26<00:01,  1.88it/s]\u001b[A\n",
      " 98%|█████████▊| 50/51 [00:27<00:00,  1.88it/s]\u001b[A\n",
      "100%|██████████| 51/51 [00:27<00:00,  2.29it/s]\u001b[A\n",
      "  0%|          | 0/2 [00:00<?, ?it/s]\u001b[A"
     ]
    },
    {
     "name": "stdout",
     "output_type": "stream",
     "text": [
      "Completed training for epoch 99, testing validation dataset\n"
     ]
    },
    {
     "name": "stderr",
     "output_type": "stream",
     "text": [
      "\n",
      " 50%|█████     | 1/2 [00:00<00:00,  1.62it/s]\u001b[A\n",
      "100%|██████████| 2/2 [00:00<00:00,  2.09it/s]\u001b[A\n",
      "  0%|          | 0/2 [00:00<?, ?it/s]\u001b[A"
     ]
    },
    {
     "name": "stdout",
     "output_type": "stream",
     "text": [
      "loss: 0.39377570152282715\n",
      "top1acc: 88.9999771118164\n",
      "Completed testing validation dataset for epoch 99, testing training dataset\n"
     ]
    },
    {
     "name": "stderr",
     "output_type": "stream",
     "text": [
      "\n",
      " 50%|█████     | 1/2 [00:00<00:00,  1.66it/s]\u001b[A\n",
      " 83%|████████▎ | 100/120 [48:36<09:42, 29.15s/it]\n",
      "  0%|          | 0/51 [00:00<?, ?it/s]\u001b[A"
     ]
    },
    {
     "name": "stdout",
     "output_type": "stream",
     "text": [
      "loss: 0.1536923348903656\n",
      "top1acc: 94.39994812011719\n",
      "Completed testing training dataset for epoch 99\n",
      "Starting epoch 100\n"
     ]
    },
    {
     "name": "stderr",
     "output_type": "stream",
     "text": [
      "\n",
      "  2%|▏         | 1/51 [00:01<00:51,  1.02s/it]\u001b[A\n",
      "  4%|▍         | 2/51 [00:01<00:42,  1.14it/s]\u001b[A\n",
      "  6%|▌         | 3/51 [00:02<00:37,  1.29it/s]\u001b[A\n",
      "  8%|▊         | 4/51 [00:02<00:32,  1.43it/s]\u001b[A\n",
      " 10%|▉         | 5/51 [00:03<00:29,  1.54it/s]\u001b[A\n",
      " 12%|█▏        | 6/51 [00:03<00:27,  1.62it/s]\u001b[A\n",
      " 14%|█▎        | 7/51 [00:04<00:25,  1.69it/s]\u001b[A\n",
      " 16%|█▌        | 8/51 [00:04<00:24,  1.75it/s]\u001b[A\n",
      " 18%|█▊        | 9/51 [00:05<00:23,  1.79it/s]\u001b[A\n",
      " 20%|█▉        | 10/51 [00:05<00:22,  1.81it/s]\u001b[A\n",
      " 22%|██▏       | 11/51 [00:06<00:21,  1.83it/s]\u001b[A\n",
      " 24%|██▎       | 12/51 [00:06<00:21,  1.84it/s]\u001b[A\n",
      " 25%|██▌       | 13/51 [00:07<00:20,  1.85it/s]\u001b[A\n",
      " 27%|██▋       | 14/51 [00:07<00:19,  1.86it/s]\u001b[A\n",
      " 29%|██▉       | 15/51 [00:08<00:19,  1.86it/s]\u001b[A\n",
      " 31%|███▏      | 16/51 [00:09<00:18,  1.87it/s]\u001b[A\n",
      " 33%|███▎      | 17/51 [00:09<00:18,  1.87it/s]\u001b[A\n",
      " 35%|███▌      | 18/51 [00:10<00:17,  1.87it/s]\u001b[A\n",
      " 37%|███▋      | 19/51 [00:10<00:17,  1.87it/s]\u001b[A\n",
      " 39%|███▉      | 20/51 [00:11<00:16,  1.88it/s]\u001b[A\n",
      " 41%|████      | 21/51 [00:11<00:15,  1.88it/s]\u001b[A\n",
      " 43%|████▎     | 22/51 [00:12<00:15,  1.88it/s]\u001b[A\n",
      " 45%|████▌     | 23/51 [00:12<00:14,  1.88it/s]\u001b[A\n",
      " 47%|████▋     | 24/51 [00:13<00:14,  1.88it/s]\u001b[A\n",
      " 49%|████▉     | 25/51 [00:13<00:13,  1.88it/s]\u001b[A\n",
      " 51%|█████     | 26/51 [00:14<00:13,  1.88it/s]\u001b[A\n",
      " 53%|█████▎    | 27/51 [00:14<00:12,  1.88it/s]\u001b[A\n",
      " 55%|█████▍    | 28/51 [00:15<00:12,  1.88it/s]\u001b[A\n",
      " 57%|█████▋    | 29/51 [00:15<00:11,  1.88it/s]\u001b[A\n",
      " 59%|█████▉    | 30/51 [00:16<00:11,  1.88it/s]\u001b[A\n",
      " 61%|██████    | 31/51 [00:16<00:10,  1.88it/s]\u001b[A\n",
      " 63%|██████▎   | 32/51 [00:17<00:10,  1.88it/s]\u001b[A\n",
      " 65%|██████▍   | 33/51 [00:18<00:09,  1.88it/s]\u001b[A\n",
      " 67%|██████▋   | 34/51 [00:18<00:09,  1.88it/s]\u001b[A\n",
      " 69%|██████▊   | 35/51 [00:19<00:08,  1.88it/s]\u001b[A\n",
      " 71%|███████   | 36/51 [00:19<00:07,  1.88it/s]\u001b[A\n",
      " 73%|███████▎  | 37/51 [00:20<00:07,  1.88it/s]\u001b[A\n",
      " 75%|███████▍  | 38/51 [00:20<00:06,  1.88it/s]\u001b[A\n",
      " 76%|███████▋  | 39/51 [00:21<00:06,  1.88it/s]\u001b[A\n",
      " 78%|███████▊  | 40/51 [00:21<00:05,  1.88it/s]\u001b[A\n",
      " 80%|████████  | 41/51 [00:22<00:05,  1.88it/s]\u001b[A\n",
      " 82%|████████▏ | 42/51 [00:22<00:04,  1.88it/s]\u001b[A\n",
      " 84%|████████▍ | 43/51 [00:23<00:04,  1.88it/s]\u001b[A\n",
      " 86%|████████▋ | 44/51 [00:23<00:03,  1.88it/s]\u001b[A\n",
      " 88%|████████▊ | 45/51 [00:24<00:03,  1.88it/s]\u001b[A\n",
      " 90%|█████████ | 46/51 [00:24<00:02,  1.88it/s]\u001b[A\n",
      " 92%|█████████▏| 47/51 [00:25<00:02,  1.88it/s]\u001b[A\n",
      " 94%|█████████▍| 48/51 [00:26<00:01,  1.88it/s]\u001b[A\n",
      " 96%|█████████▌| 49/51 [00:26<00:01,  1.88it/s]\u001b[A\n",
      " 98%|█████████▊| 50/51 [00:27<00:00,  1.88it/s]\u001b[A\n",
      "100%|██████████| 51/51 [00:27<00:00,  2.29it/s]\u001b[A\n",
      "  0%|          | 0/2 [00:00<?, ?it/s]\u001b[A"
     ]
    },
    {
     "name": "stdout",
     "output_type": "stream",
     "text": [
      "Completed training for epoch 100, testing validation dataset\n"
     ]
    },
    {
     "name": "stderr",
     "output_type": "stream",
     "text": [
      "\n",
      " 50%|█████     | 1/2 [00:00<00:00,  1.65it/s]\u001b[A\n",
      "100%|██████████| 2/2 [00:00<00:00,  2.13it/s]\u001b[A\n",
      "  0%|          | 0/2 [00:00<?, ?it/s]\u001b[A"
     ]
    },
    {
     "name": "stdout",
     "output_type": "stream",
     "text": [
      "loss: 0.38954398036003113\n",
      "top1acc: 88.79993438720703\n",
      "Completed testing validation dataset for epoch 100, testing training dataset\n"
     ]
    },
    {
     "name": "stderr",
     "output_type": "stream",
     "text": [
      "\n",
      " 50%|█████     | 1/2 [00:00<00:00,  1.74it/s]\u001b[A\n",
      " 84%|████████▍ | 101/120 [49:05<09:13, 29.12s/it]\n",
      "  0%|          | 0/51 [00:00<?, ?it/s]\u001b[A"
     ]
    },
    {
     "name": "stdout",
     "output_type": "stream",
     "text": [
      "loss: 0.14045090973377228\n",
      "top1acc: 95.39999389648438\n",
      "Completed testing training dataset for epoch 100\n",
      "Starting epoch 101\n"
     ]
    },
    {
     "name": "stderr",
     "output_type": "stream",
     "text": [
      "\n",
      "  2%|▏         | 1/51 [00:01<00:53,  1.06s/it]\u001b[A\n",
      "  4%|▍         | 2/51 [00:01<00:44,  1.11it/s]\u001b[A\n",
      "  6%|▌         | 3/51 [00:02<00:38,  1.26it/s]\u001b[A\n",
      "  8%|▊         | 4/51 [00:02<00:33,  1.40it/s]\u001b[A\n",
      " 10%|▉         | 5/51 [00:03<00:30,  1.51it/s]\u001b[A\n",
      " 12%|█▏        | 6/51 [00:03<00:27,  1.61it/s]\u001b[A\n",
      " 14%|█▎        | 7/51 [00:04<00:26,  1.68it/s]\u001b[A\n",
      " 16%|█▌        | 8/51 [00:04<00:24,  1.74it/s]\u001b[A\n",
      " 18%|█▊        | 9/51 [00:05<00:23,  1.77it/s]\u001b[A\n",
      " 20%|█▉        | 10/51 [00:05<00:22,  1.80it/s]\u001b[A\n",
      " 22%|██▏       | 11/51 [00:06<00:21,  1.82it/s]\u001b[A\n",
      " 24%|██▎       | 12/51 [00:06<00:21,  1.84it/s]\u001b[A\n",
      " 25%|██▌       | 13/51 [00:07<00:20,  1.85it/s]\u001b[A\n",
      " 27%|██▋       | 14/51 [00:08<00:19,  1.86it/s]\u001b[A\n",
      " 29%|██▉       | 15/51 [00:08<00:19,  1.86it/s]\u001b[A\n",
      " 31%|███▏      | 16/51 [00:09<00:18,  1.87it/s]\u001b[A\n",
      " 33%|███▎      | 17/51 [00:09<00:18,  1.87it/s]\u001b[A\n",
      " 35%|███▌      | 18/51 [00:10<00:17,  1.87it/s]\u001b[A\n",
      " 37%|███▋      | 19/51 [00:10<00:17,  1.87it/s]\u001b[A\n",
      " 39%|███▉      | 20/51 [00:11<00:16,  1.87it/s]\u001b[A\n",
      " 41%|████      | 21/51 [00:11<00:16,  1.87it/s]\u001b[A\n",
      " 43%|████▎     | 22/51 [00:12<00:15,  1.88it/s]\u001b[A\n",
      " 45%|████▌     | 23/51 [00:12<00:14,  1.87it/s]\u001b[A\n",
      " 47%|████▋     | 24/51 [00:13<00:14,  1.87it/s]\u001b[A\n",
      " 49%|████▉     | 25/51 [00:13<00:13,  1.87it/s]\u001b[A\n",
      " 51%|█████     | 26/51 [00:14<00:13,  1.87it/s]\u001b[A\n",
      " 53%|█████▎    | 27/51 [00:14<00:12,  1.87it/s]\u001b[A\n",
      " 55%|█████▍    | 28/51 [00:15<00:12,  1.87it/s]\u001b[A\n",
      " 57%|█████▋    | 29/51 [00:16<00:11,  1.87it/s]\u001b[A\n",
      " 59%|█████▉    | 30/51 [00:16<00:11,  1.87it/s]\u001b[A\n",
      " 61%|██████    | 31/51 [00:17<00:10,  1.87it/s]\u001b[A\n",
      " 63%|██████▎   | 32/51 [00:17<00:10,  1.87it/s]\u001b[A\n",
      " 65%|██████▍   | 33/51 [00:18<00:09,  1.87it/s]\u001b[A\n",
      " 67%|██████▋   | 34/51 [00:18<00:09,  1.87it/s]\u001b[A\n",
      " 69%|██████▊   | 35/51 [00:19<00:08,  1.87it/s]\u001b[A\n",
      " 71%|███████   | 36/51 [00:19<00:08,  1.87it/s]\u001b[A\n",
      " 73%|███████▎  | 37/51 [00:20<00:07,  1.88it/s]\u001b[A\n",
      " 75%|███████▍  | 38/51 [00:20<00:06,  1.88it/s]\u001b[A\n",
      " 76%|███████▋  | 39/51 [00:21<00:06,  1.88it/s]\u001b[A\n",
      " 78%|███████▊  | 40/51 [00:21<00:05,  1.87it/s]\u001b[A\n",
      " 80%|████████  | 41/51 [00:22<00:05,  1.87it/s]\u001b[A\n",
      " 82%|████████▏ | 42/51 [00:22<00:04,  1.87it/s]\u001b[A\n",
      " 84%|████████▍ | 43/51 [00:23<00:04,  1.87it/s]\u001b[A\n",
      " 86%|████████▋ | 44/51 [00:24<00:03,  1.87it/s]\u001b[A\n",
      " 88%|████████▊ | 45/51 [00:24<00:03,  1.87it/s]\u001b[A\n",
      " 90%|█████████ | 46/51 [00:25<00:02,  1.87it/s]\u001b[A\n",
      " 92%|█████████▏| 47/51 [00:25<00:02,  1.87it/s]\u001b[A\n",
      " 94%|█████████▍| 48/51 [00:26<00:01,  1.88it/s]\u001b[A\n",
      " 96%|█████████▌| 49/51 [00:26<00:01,  1.88it/s]\u001b[A\n",
      " 98%|█████████▊| 50/51 [00:27<00:00,  1.87it/s]\u001b[A\n",
      "100%|██████████| 51/51 [00:27<00:00,  2.27it/s]\u001b[A\n",
      "  0%|          | 0/2 [00:00<?, ?it/s]\u001b[A"
     ]
    },
    {
     "name": "stdout",
     "output_type": "stream",
     "text": [
      "Completed training for epoch 101, testing validation dataset\n"
     ]
    },
    {
     "name": "stderr",
     "output_type": "stream",
     "text": [
      "\n",
      " 50%|█████     | 1/2 [00:00<00:00,  1.62it/s]\u001b[A\n",
      "100%|██████████| 2/2 [00:00<00:00,  2.08it/s]\u001b[A\n",
      "  0%|          | 0/2 [00:00<?, ?it/s]\u001b[A"
     ]
    },
    {
     "name": "stdout",
     "output_type": "stream",
     "text": [
      "loss: 0.3873865306377411\n",
      "top1acc: 89.1999740600586\n",
      "Completed testing validation dataset for epoch 101, testing training dataset\n"
     ]
    },
    {
     "name": "stderr",
     "output_type": "stream",
     "text": [
      "\n",
      " 50%|█████     | 1/2 [00:00<00:00,  1.73it/s]\u001b[A\n",
      " 85%|████████▌ | 102/120 [49:35<08:44, 29.14s/it]\n",
      "  0%|          | 0/51 [00:00<?, ?it/s]\u001b[A"
     ]
    },
    {
     "name": "stdout",
     "output_type": "stream",
     "text": [
      "loss: 0.14671052992343903\n",
      "top1acc: 95.80001831054688\n",
      "Completed testing training dataset for epoch 101\n",
      "Starting epoch 102\n"
     ]
    },
    {
     "name": "stderr",
     "output_type": "stream",
     "text": [
      "\n",
      "  2%|▏         | 1/51 [00:01<00:52,  1.05s/it]\u001b[A\n",
      "  4%|▍         | 2/51 [00:01<00:43,  1.12it/s]\u001b[A\n",
      "  6%|▌         | 3/51 [00:02<00:37,  1.27it/s]\u001b[A\n",
      "  8%|▊         | 4/51 [00:02<00:33,  1.41it/s]\u001b[A\n",
      " 10%|▉         | 5/51 [00:03<00:30,  1.52it/s]\u001b[A\n",
      " 12%|█▏        | 6/51 [00:03<00:27,  1.61it/s]\u001b[A\n",
      " 14%|█▎        | 7/51 [00:04<00:26,  1.69it/s]\u001b[A\n",
      " 16%|█▌        | 8/51 [00:04<00:24,  1.74it/s]\u001b[A\n",
      " 18%|█▊        | 9/51 [00:05<00:23,  1.78it/s]\u001b[A\n",
      " 20%|█▉        | 10/51 [00:05<00:22,  1.80it/s]\u001b[A\n",
      " 22%|██▏       | 11/51 [00:06<00:21,  1.82it/s]\u001b[A\n",
      " 24%|██▎       | 12/51 [00:06<00:21,  1.84it/s]\u001b[A\n",
      " 25%|██▌       | 13/51 [00:07<00:20,  1.85it/s]\u001b[A\n",
      " 27%|██▋       | 14/51 [00:07<00:19,  1.86it/s]\u001b[A\n",
      " 29%|██▉       | 15/51 [00:08<00:19,  1.86it/s]\u001b[A\n",
      " 31%|███▏      | 16/51 [00:09<00:18,  1.87it/s]\u001b[A\n",
      " 33%|███▎      | 17/51 [00:09<00:18,  1.87it/s]\u001b[A\n",
      " 35%|███▌      | 18/51 [00:10<00:17,  1.87it/s]\u001b[A\n",
      " 37%|███▋      | 19/51 [00:10<00:17,  1.87it/s]\u001b[A\n",
      " 39%|███▉      | 20/51 [00:11<00:16,  1.88it/s]\u001b[A\n",
      " 41%|████      | 21/51 [00:11<00:15,  1.88it/s]\u001b[A\n",
      " 43%|████▎     | 22/51 [00:12<00:15,  1.87it/s]\u001b[A\n",
      " 45%|████▌     | 23/51 [00:12<00:14,  1.88it/s]\u001b[A\n",
      " 47%|████▋     | 24/51 [00:13<00:14,  1.88it/s]\u001b[A\n",
      " 49%|████▉     | 25/51 [00:13<00:13,  1.88it/s]\u001b[A\n",
      " 51%|█████     | 26/51 [00:14<00:13,  1.88it/s]\u001b[A\n",
      " 53%|█████▎    | 27/51 [00:14<00:12,  1.88it/s]\u001b[A\n",
      " 55%|█████▍    | 28/51 [00:15<00:12,  1.88it/s]\u001b[A\n",
      " 57%|█████▋    | 29/51 [00:15<00:11,  1.88it/s]\u001b[A\n",
      " 59%|█████▉    | 30/51 [00:16<00:11,  1.88it/s]\u001b[A\n",
      " 61%|██████    | 31/51 [00:17<00:10,  1.88it/s]\u001b[A\n",
      " 63%|██████▎   | 32/51 [00:17<00:10,  1.88it/s]\u001b[A\n",
      " 65%|██████▍   | 33/51 [00:18<00:09,  1.88it/s]\u001b[A\n",
      " 67%|██████▋   | 34/51 [00:18<00:09,  1.88it/s]\u001b[A\n",
      " 69%|██████▊   | 35/51 [00:19<00:08,  1.88it/s]\u001b[A\n",
      " 71%|███████   | 36/51 [00:19<00:07,  1.88it/s]\u001b[A\n",
      " 73%|███████▎  | 37/51 [00:20<00:07,  1.88it/s]\u001b[A\n",
      " 75%|███████▍  | 38/51 [00:20<00:06,  1.88it/s]\u001b[A\n",
      " 76%|███████▋  | 39/51 [00:21<00:06,  1.86it/s]\u001b[A\n",
      " 78%|███████▊  | 40/51 [00:21<00:05,  1.87it/s]\u001b[A\n",
      " 80%|████████  | 41/51 [00:22<00:05,  1.87it/s]\u001b[A\n",
      " 82%|████████▏ | 42/51 [00:22<00:04,  1.87it/s]\u001b[A\n",
      " 84%|████████▍ | 43/51 [00:23<00:04,  1.87it/s]\u001b[A\n",
      " 86%|████████▋ | 44/51 [00:23<00:03,  1.87it/s]\u001b[A\n",
      " 88%|████████▊ | 45/51 [00:24<00:03,  1.87it/s]\u001b[A\n",
      " 90%|█████████ | 46/51 [00:25<00:02,  1.88it/s]\u001b[A\n",
      " 92%|█████████▏| 47/51 [00:25<00:02,  1.88it/s]\u001b[A\n",
      " 94%|█████████▍| 48/51 [00:26<00:01,  1.88it/s]\u001b[A\n",
      " 96%|█████████▌| 49/51 [00:26<00:01,  1.88it/s]\u001b[A\n",
      " 98%|█████████▊| 50/51 [00:27<00:00,  1.88it/s]\u001b[A\n",
      "100%|██████████| 51/51 [00:27<00:00,  2.29it/s]\u001b[A\n",
      "  0%|          | 0/2 [00:00<?, ?it/s]\u001b[A"
     ]
    },
    {
     "name": "stdout",
     "output_type": "stream",
     "text": [
      "Completed training for epoch 102, testing validation dataset\n"
     ]
    },
    {
     "name": "stderr",
     "output_type": "stream",
     "text": [
      "\n",
      " 50%|█████     | 1/2 [00:00<00:00,  1.67it/s]\u001b[A\n",
      "100%|██████████| 2/2 [00:00<00:00,  2.14it/s]\u001b[A\n",
      "  0%|          | 0/2 [00:00<?, ?it/s]\u001b[A"
     ]
    },
    {
     "name": "stdout",
     "output_type": "stream",
     "text": [
      "loss: 0.39041757583618164\n",
      "top1acc: 89.19993591308594\n",
      "Completed testing validation dataset for epoch 102, testing training dataset\n"
     ]
    },
    {
     "name": "stderr",
     "output_type": "stream",
     "text": [
      "\n",
      " 50%|█████     | 1/2 [00:00<00:00,  1.76it/s]\u001b[A\n",
      " 86%|████████▌ | 103/120 [50:04<08:15, 29.13s/it]\n",
      "  0%|          | 0/51 [00:00<?, ?it/s]\u001b[A"
     ]
    },
    {
     "name": "stdout",
     "output_type": "stream",
     "text": [
      "loss: 0.1519717425107956\n",
      "top1acc: 94.5999755859375\n",
      "Completed testing training dataset for epoch 102\n",
      "Starting epoch 103\n"
     ]
    },
    {
     "name": "stderr",
     "output_type": "stream",
     "text": [
      "\n",
      "  2%|▏         | 1/51 [00:01<00:51,  1.02s/it]\u001b[A\n",
      "  4%|▍         | 2/51 [00:01<00:42,  1.14it/s]\u001b[A\n",
      "  6%|▌         | 3/51 [00:02<00:37,  1.29it/s]\u001b[A\n",
      "  8%|▊         | 4/51 [00:02<00:32,  1.42it/s]\u001b[A\n",
      " 10%|▉         | 5/51 [00:03<00:29,  1.53it/s]\u001b[A\n",
      " 12%|█▏        | 6/51 [00:03<00:27,  1.62it/s]\u001b[A\n",
      " 14%|█▎        | 7/51 [00:04<00:25,  1.69it/s]\u001b[A\n",
      " 16%|█▌        | 8/51 [00:04<00:24,  1.74it/s]\u001b[A\n",
      " 18%|█▊        | 9/51 [00:05<00:23,  1.78it/s]\u001b[A\n",
      " 20%|█▉        | 10/51 [00:05<00:22,  1.81it/s]\u001b[A\n",
      " 22%|██▏       | 11/51 [00:06<00:21,  1.83it/s]\u001b[A\n",
      " 24%|██▎       | 12/51 [00:06<00:21,  1.84it/s]\u001b[A\n",
      " 25%|██▌       | 13/51 [00:07<00:20,  1.85it/s]\u001b[A\n",
      " 27%|██▋       | 14/51 [00:07<00:19,  1.86it/s]\u001b[A\n",
      " 29%|██▉       | 15/51 [00:08<00:19,  1.86it/s]\u001b[A\n",
      " 31%|███▏      | 16/51 [00:09<00:18,  1.87it/s]\u001b[A\n",
      " 33%|███▎      | 17/51 [00:09<00:18,  1.87it/s]\u001b[A\n",
      " 35%|███▌      | 18/51 [00:10<00:17,  1.87it/s]\u001b[A\n",
      " 37%|███▋      | 19/51 [00:10<00:17,  1.87it/s]\u001b[A\n",
      " 39%|███▉      | 20/51 [00:11<00:16,  1.87it/s]\u001b[A\n",
      " 41%|████      | 21/51 [00:11<00:16,  1.87it/s]\u001b[A\n",
      " 43%|████▎     | 22/51 [00:12<00:15,  1.87it/s]\u001b[A\n",
      " 45%|████▌     | 23/51 [00:12<00:14,  1.87it/s]\u001b[A\n",
      " 47%|████▋     | 24/51 [00:13<00:14,  1.87it/s]\u001b[A\n",
      " 49%|████▉     | 25/51 [00:13<00:13,  1.87it/s]\u001b[A\n",
      " 51%|█████     | 26/51 [00:14<00:13,  1.88it/s]\u001b[A\n",
      " 53%|█████▎    | 27/51 [00:14<00:12,  1.87it/s]\u001b[A\n",
      " 55%|█████▍    | 28/51 [00:15<00:12,  1.87it/s]\u001b[A\n",
      " 57%|█████▋    | 29/51 [00:15<00:11,  1.88it/s]\u001b[A\n",
      " 59%|█████▉    | 30/51 [00:16<00:11,  1.87it/s]\u001b[A\n",
      " 61%|██████    | 31/51 [00:17<00:10,  1.88it/s]\u001b[A\n",
      " 63%|██████▎   | 32/51 [00:17<00:10,  1.88it/s]\u001b[A\n",
      " 65%|██████▍   | 33/51 [00:18<00:09,  1.88it/s]\u001b[A\n",
      " 67%|██████▋   | 34/51 [00:18<00:09,  1.87it/s]\u001b[A\n",
      " 69%|██████▊   | 35/51 [00:19<00:08,  1.87it/s]\u001b[A\n",
      " 71%|███████   | 36/51 [00:19<00:08,  1.87it/s]\u001b[A\n",
      " 73%|███████▎  | 37/51 [00:20<00:07,  1.87it/s]\u001b[A\n",
      " 75%|███████▍  | 38/51 [00:20<00:06,  1.87it/s]\u001b[A\n",
      " 76%|███████▋  | 39/51 [00:21<00:06,  1.87it/s]\u001b[A\n",
      " 78%|███████▊  | 40/51 [00:21<00:05,  1.87it/s]\u001b[A\n",
      " 80%|████████  | 41/51 [00:22<00:05,  1.87it/s]\u001b[A\n",
      " 82%|████████▏ | 42/51 [00:22<00:04,  1.87it/s]\u001b[A\n",
      " 84%|████████▍ | 43/51 [00:23<00:04,  1.87it/s]\u001b[A\n",
      " 86%|████████▋ | 44/51 [00:23<00:03,  1.87it/s]\u001b[A\n",
      " 88%|████████▊ | 45/51 [00:24<00:03,  1.87it/s]\u001b[A\n",
      " 90%|█████████ | 46/51 [00:25<00:02,  1.88it/s]\u001b[A\n",
      " 92%|█████████▏| 47/51 [00:25<00:02,  1.88it/s]\u001b[A\n",
      " 94%|█████████▍| 48/51 [00:26<00:01,  1.88it/s]\u001b[A\n",
      " 96%|█████████▌| 49/51 [00:26<00:01,  1.87it/s]\u001b[A\n",
      " 98%|█████████▊| 50/51 [00:27<00:00,  1.88it/s]\u001b[A\n",
      "100%|██████████| 51/51 [00:27<00:00,  2.27it/s]\u001b[A\n",
      "  0%|          | 0/2 [00:00<?, ?it/s]\u001b[A"
     ]
    },
    {
     "name": "stdout",
     "output_type": "stream",
     "text": [
      "Completed training for epoch 103, testing validation dataset\n"
     ]
    },
    {
     "name": "stderr",
     "output_type": "stream",
     "text": [
      "\n",
      " 50%|█████     | 1/2 [00:00<00:00,  1.66it/s]\u001b[A\n",
      "100%|██████████| 2/2 [00:00<00:00,  2.13it/s]\u001b[A\n",
      "  0%|          | 0/2 [00:00<?, ?it/s]\u001b[A"
     ]
    },
    {
     "name": "stdout",
     "output_type": "stream",
     "text": [
      "loss: 0.37506911158561707\n",
      "top1acc: 89.19993591308594\n",
      "Completed testing validation dataset for epoch 103, testing training dataset\n"
     ]
    },
    {
     "name": "stderr",
     "output_type": "stream",
     "text": [
      "\n",
      " 50%|█████     | 1/2 [00:00<00:00,  1.72it/s]\u001b[A\n",
      " 87%|████████▋ | 104/120 [50:33<07:45, 29.12s/it]\n",
      "  0%|          | 0/51 [00:00<?, ?it/s]\u001b[A"
     ]
    },
    {
     "name": "stdout",
     "output_type": "stream",
     "text": [
      "loss: 0.14406345784664154\n",
      "top1acc: 95.39997863769531\n",
      "Completed testing training dataset for epoch 103\n",
      "Starting epoch 104\n"
     ]
    },
    {
     "name": "stderr",
     "output_type": "stream",
     "text": [
      "\n",
      "  2%|▏         | 1/51 [00:01<00:50,  1.01s/it]\u001b[A\n",
      "  4%|▍         | 2/51 [00:01<00:42,  1.15it/s]\u001b[A\n",
      "  6%|▌         | 3/51 [00:02<00:36,  1.30it/s]\u001b[A\n",
      "  8%|▊         | 4/51 [00:02<00:32,  1.44it/s]\u001b[A\n",
      " 10%|▉         | 5/51 [00:03<00:29,  1.54it/s]\u001b[A\n",
      " 12%|█▏        | 6/51 [00:03<00:27,  1.63it/s]\u001b[A\n",
      " 14%|█▎        | 7/51 [00:04<00:25,  1.70it/s]\u001b[A\n",
      " 16%|█▌        | 8/51 [00:04<00:24,  1.75it/s]\u001b[A\n",
      " 18%|█▊        | 9/51 [00:05<00:23,  1.79it/s]\u001b[A\n",
      " 20%|█▉        | 10/51 [00:05<00:22,  1.81it/s]\u001b[A\n",
      " 22%|██▏       | 11/51 [00:06<00:21,  1.83it/s]\u001b[A\n",
      " 24%|██▎       | 12/51 [00:06<00:21,  1.84it/s]\u001b[A\n",
      " 25%|██▌       | 13/51 [00:07<00:20,  1.85it/s]\u001b[A\n",
      " 27%|██▋       | 14/51 [00:07<00:19,  1.86it/s]\u001b[A\n",
      " 29%|██▉       | 15/51 [00:08<00:19,  1.86it/s]\u001b[A\n",
      " 31%|███▏      | 16/51 [00:09<00:18,  1.87it/s]\u001b[A\n",
      " 33%|███▎      | 17/51 [00:09<00:18,  1.87it/s]\u001b[A\n",
      " 35%|███▌      | 18/51 [00:10<00:17,  1.87it/s]\u001b[A\n",
      " 37%|███▋      | 19/51 [00:10<00:17,  1.87it/s]\u001b[A\n",
      " 39%|███▉      | 20/51 [00:11<00:16,  1.87it/s]\u001b[A\n",
      " 41%|████      | 21/51 [00:11<00:15,  1.88it/s]\u001b[A\n",
      " 43%|████▎     | 22/51 [00:12<00:15,  1.88it/s]\u001b[A\n",
      " 45%|████▌     | 23/51 [00:12<00:14,  1.87it/s]\u001b[A\n",
      " 47%|████▋     | 24/51 [00:13<00:14,  1.87it/s]\u001b[A\n",
      " 49%|████▉     | 25/51 [00:13<00:13,  1.87it/s]\u001b[A\n",
      " 51%|█████     | 26/51 [00:14<00:13,  1.88it/s]\u001b[A\n",
      " 53%|█████▎    | 27/51 [00:14<00:12,  1.88it/s]\u001b[A\n",
      " 55%|█████▍    | 28/51 [00:15<00:12,  1.88it/s]\u001b[A\n",
      " 57%|█████▋    | 29/51 [00:15<00:11,  1.88it/s]\u001b[A\n",
      " 59%|█████▉    | 30/51 [00:16<00:11,  1.87it/s]\u001b[A\n",
      " 61%|██████    | 31/51 [00:17<00:10,  1.87it/s]\u001b[A\n",
      " 63%|██████▎   | 32/51 [00:17<00:10,  1.88it/s]\u001b[A\n",
      " 65%|██████▍   | 33/51 [00:18<00:09,  1.87it/s]\u001b[A\n",
      " 67%|██████▋   | 34/51 [00:18<00:09,  1.87it/s]\u001b[A\n",
      " 69%|██████▊   | 35/51 [00:19<00:08,  1.87it/s]\u001b[A\n",
      " 71%|███████   | 36/51 [00:19<00:08,  1.87it/s]\u001b[A\n",
      " 73%|███████▎  | 37/51 [00:20<00:07,  1.88it/s]\u001b[A\n",
      " 75%|███████▍  | 38/51 [00:20<00:06,  1.88it/s]\u001b[A\n",
      " 76%|███████▋  | 39/51 [00:21<00:06,  1.88it/s]\u001b[A\n",
      " 78%|███████▊  | 40/51 [00:21<00:05,  1.88it/s]\u001b[A\n",
      " 80%|████████  | 41/51 [00:22<00:05,  1.88it/s]\u001b[A\n",
      " 82%|████████▏ | 42/51 [00:22<00:04,  1.87it/s]\u001b[A\n",
      " 84%|████████▍ | 43/51 [00:23<00:04,  1.87it/s]\u001b[A\n",
      " 86%|████████▋ | 44/51 [00:23<00:03,  1.87it/s]\u001b[A\n",
      " 88%|████████▊ | 45/51 [00:24<00:03,  1.87it/s]\u001b[A\n",
      " 90%|█████████ | 46/51 [00:25<00:02,  1.88it/s]\u001b[A\n",
      " 92%|█████████▏| 47/51 [00:25<00:02,  1.88it/s]\u001b[A\n",
      " 94%|█████████▍| 48/51 [00:26<00:01,  1.88it/s]\u001b[A\n",
      " 96%|█████████▌| 49/51 [00:26<00:01,  1.88it/s]\u001b[A\n",
      " 98%|█████████▊| 50/51 [00:27<00:00,  1.88it/s]\u001b[A\n",
      "100%|██████████| 51/51 [00:27<00:00,  2.28it/s]\u001b[A\n",
      "  0%|          | 0/2 [00:00<?, ?it/s]\u001b[A"
     ]
    },
    {
     "name": "stdout",
     "output_type": "stream",
     "text": [
      "Completed training for epoch 104, testing validation dataset\n"
     ]
    },
    {
     "name": "stderr",
     "output_type": "stream",
     "text": [
      "\n",
      " 50%|█████     | 1/2 [00:00<00:00,  1.64it/s]\u001b[A\n",
      "100%|██████████| 2/2 [00:00<00:00,  2.11it/s]\u001b[A\n",
      "  0%|          | 0/2 [00:00<?, ?it/s]\u001b[A"
     ]
    },
    {
     "name": "stdout",
     "output_type": "stream",
     "text": [
      "loss: 0.392625629901886\n",
      "top1acc: 88.9999771118164\n",
      "Completed testing validation dataset for epoch 104, testing training dataset\n"
     ]
    },
    {
     "name": "stderr",
     "output_type": "stream",
     "text": [
      "\n",
      " 50%|█████     | 1/2 [00:00<00:00,  1.65it/s]\u001b[A\n",
      " 88%|████████▊ | 105/120 [51:02<07:16, 29.13s/it]\n",
      "  0%|          | 0/51 [00:00<?, ?it/s]\u001b[A"
     ]
    },
    {
     "name": "stdout",
     "output_type": "stream",
     "text": [
      "loss: 0.1400071233510971\n",
      "top1acc: 95.79998016357422\n",
      "Completed testing training dataset for epoch 104\n",
      "Starting epoch 105\n"
     ]
    },
    {
     "name": "stderr",
     "output_type": "stream",
     "text": [
      "\n",
      "  2%|▏         | 1/51 [00:01<00:52,  1.05s/it]\u001b[A\n",
      "  4%|▍         | 2/51 [00:01<00:43,  1.12it/s]\u001b[A\n",
      "  6%|▌         | 3/51 [00:02<00:37,  1.27it/s]\u001b[A\n",
      "  8%|▊         | 4/51 [00:02<00:33,  1.40it/s]\u001b[A\n",
      " 10%|▉         | 5/51 [00:03<00:30,  1.51it/s]\u001b[A\n",
      " 12%|█▏        | 6/51 [00:03<00:28,  1.61it/s]\u001b[A\n",
      " 14%|█▎        | 7/51 [00:04<00:26,  1.68it/s]\u001b[A\n",
      " 16%|█▌        | 8/51 [00:04<00:24,  1.73it/s]\u001b[A\n",
      " 18%|█▊        | 9/51 [00:05<00:23,  1.76it/s]\u001b[A\n",
      " 20%|█▉        | 10/51 [00:05<00:22,  1.79it/s]\u001b[A\n",
      " 22%|██▏       | 11/51 [00:06<00:22,  1.82it/s]\u001b[A\n",
      " 24%|██▎       | 12/51 [00:06<00:21,  1.83it/s]\u001b[A\n",
      " 25%|██▌       | 13/51 [00:07<00:20,  1.84it/s]\u001b[A\n",
      " 27%|██▋       | 14/51 [00:08<00:20,  1.85it/s]\u001b[A\n",
      " 29%|██▉       | 15/51 [00:08<00:19,  1.85it/s]\u001b[A\n",
      " 31%|███▏      | 16/51 [00:09<00:18,  1.86it/s]\u001b[A\n",
      " 33%|███▎      | 17/51 [00:09<00:18,  1.86it/s]\u001b[A\n",
      " 35%|███▌      | 18/51 [00:10<00:17,  1.87it/s]\u001b[A\n",
      " 37%|███▋      | 19/51 [00:10<00:17,  1.87it/s]\u001b[A\n",
      " 39%|███▉      | 20/51 [00:11<00:16,  1.87it/s]\u001b[A\n",
      " 41%|████      | 21/51 [00:11<00:16,  1.87it/s]\u001b[A\n",
      " 43%|████▎     | 22/51 [00:12<00:15,  1.87it/s]\u001b[A\n",
      " 45%|████▌     | 23/51 [00:12<00:14,  1.87it/s]\u001b[A\n",
      " 47%|████▋     | 24/51 [00:13<00:14,  1.87it/s]\u001b[A\n",
      " 49%|████▉     | 25/51 [00:13<00:13,  1.87it/s]\u001b[A\n",
      " 51%|█████     | 26/51 [00:14<00:13,  1.87it/s]\u001b[A\n",
      " 53%|█████▎    | 27/51 [00:14<00:12,  1.87it/s]\u001b[A\n",
      " 55%|█████▍    | 28/51 [00:15<00:12,  1.88it/s]\u001b[A\n",
      " 57%|█████▋    | 29/51 [00:16<00:11,  1.88it/s]\u001b[A\n",
      " 59%|█████▉    | 30/51 [00:16<00:11,  1.87it/s]\u001b[A\n",
      " 61%|██████    | 31/51 [00:17<00:10,  1.87it/s]\u001b[A\n",
      " 63%|██████▎   | 32/51 [00:17<00:10,  1.87it/s]\u001b[A\n",
      " 65%|██████▍   | 33/51 [00:18<00:09,  1.87it/s]\u001b[A\n",
      " 67%|██████▋   | 34/51 [00:18<00:09,  1.87it/s]\u001b[A\n",
      " 69%|██████▊   | 35/51 [00:19<00:08,  1.87it/s]\u001b[A\n",
      " 71%|███████   | 36/51 [00:19<00:08,  1.87it/s]\u001b[A\n",
      " 73%|███████▎  | 37/51 [00:20<00:07,  1.87it/s]\u001b[A\n",
      " 75%|███████▍  | 38/51 [00:20<00:06,  1.87it/s]\u001b[A\n",
      " 76%|███████▋  | 39/51 [00:21<00:06,  1.88it/s]\u001b[A\n",
      " 78%|███████▊  | 40/51 [00:21<00:05,  1.88it/s]\u001b[A\n",
      " 80%|████████  | 41/51 [00:22<00:05,  1.88it/s]\u001b[A\n",
      " 82%|████████▏ | 42/51 [00:22<00:04,  1.88it/s]\u001b[A\n",
      " 84%|████████▍ | 43/51 [00:23<00:04,  1.88it/s]\u001b[A\n",
      " 86%|████████▋ | 44/51 [00:24<00:03,  1.88it/s]\u001b[A\n",
      " 88%|████████▊ | 45/51 [00:24<00:03,  1.88it/s]\u001b[A\n",
      " 90%|█████████ | 46/51 [00:25<00:02,  1.88it/s]\u001b[A\n",
      " 92%|█████████▏| 47/51 [00:25<00:02,  1.88it/s]\u001b[A\n",
      " 94%|█████████▍| 48/51 [00:26<00:01,  1.88it/s]\u001b[A\n",
      " 96%|█████████▌| 49/51 [00:26<00:01,  1.88it/s]\u001b[A\n",
      " 98%|█████████▊| 50/51 [00:27<00:00,  1.88it/s]\u001b[A\n",
      "100%|██████████| 51/51 [00:27<00:00,  2.29it/s]\u001b[A\n",
      "  0%|          | 0/2 [00:00<?, ?it/s]\u001b[A"
     ]
    },
    {
     "name": "stdout",
     "output_type": "stream",
     "text": [
      "Completed training for epoch 105, testing validation dataset\n"
     ]
    },
    {
     "name": "stderr",
     "output_type": "stream",
     "text": [
      "\n",
      " 50%|█████     | 1/2 [00:00<00:00,  1.68it/s]\u001b[A\n",
      "100%|██████████| 2/2 [00:00<00:00,  2.16it/s]\u001b[A\n",
      "  0%|          | 0/2 [00:00<?, ?it/s]\u001b[A"
     ]
    },
    {
     "name": "stdout",
     "output_type": "stream",
     "text": [
      "loss: 0.39439722895622253\n",
      "top1acc: 88.59994506835938\n",
      "Completed testing validation dataset for epoch 105, testing training dataset\n"
     ]
    },
    {
     "name": "stderr",
     "output_type": "stream",
     "text": [
      "\n",
      " 50%|█████     | 1/2 [00:00<00:00,  1.68it/s]\u001b[A\n",
      " 88%|████████▊ | 106/120 [51:31<06:47, 29.14s/it]\n",
      "  0%|          | 0/51 [00:00<?, ?it/s]\u001b[A"
     ]
    },
    {
     "name": "stdout",
     "output_type": "stream",
     "text": [
      "loss: 0.15197117626667023\n",
      "top1acc: 94.79999542236328\n",
      "Completed testing training dataset for epoch 105\n",
      "Starting epoch 106\n"
     ]
    },
    {
     "name": "stderr",
     "output_type": "stream",
     "text": [
      "\n",
      "  2%|▏         | 1/51 [00:01<00:52,  1.05s/it]\u001b[A\n",
      "  4%|▍         | 2/51 [00:01<00:43,  1.11it/s]\u001b[A\n",
      "  6%|▌         | 3/51 [00:02<00:37,  1.27it/s]\u001b[A\n",
      "  8%|▊         | 4/51 [00:02<00:33,  1.41it/s]\u001b[A\n",
      " 10%|▉         | 5/51 [00:03<00:30,  1.52it/s]\u001b[A\n",
      " 12%|█▏        | 6/51 [00:03<00:27,  1.61it/s]\u001b[A\n",
      " 14%|█▎        | 7/51 [00:04<00:26,  1.68it/s]\u001b[A\n",
      " 16%|█▌        | 8/51 [00:04<00:24,  1.74it/s]\u001b[A\n",
      " 18%|█▊        | 9/51 [00:05<00:23,  1.78it/s]\u001b[A\n",
      " 20%|█▉        | 10/51 [00:05<00:22,  1.81it/s]\u001b[A\n",
      " 22%|██▏       | 11/51 [00:06<00:21,  1.83it/s]\u001b[A\n",
      " 24%|██▎       | 12/51 [00:06<00:21,  1.84it/s]\u001b[A\n",
      " 25%|██▌       | 13/51 [00:07<00:20,  1.85it/s]\u001b[A\n",
      " 27%|██▋       | 14/51 [00:07<00:19,  1.86it/s]\u001b[A\n",
      " 29%|██▉       | 15/51 [00:08<00:19,  1.86it/s]\u001b[A\n",
      " 31%|███▏      | 16/51 [00:09<00:18,  1.87it/s]\u001b[A\n",
      " 33%|███▎      | 17/51 [00:09<00:18,  1.87it/s]\u001b[A\n",
      " 35%|███▌      | 18/51 [00:10<00:17,  1.87it/s]\u001b[A\n",
      " 37%|███▋      | 19/51 [00:10<00:17,  1.87it/s]\u001b[A\n",
      " 39%|███▉      | 20/51 [00:11<00:16,  1.88it/s]\u001b[A\n",
      " 41%|████      | 21/51 [00:11<00:15,  1.88it/s]\u001b[A\n",
      " 43%|████▎     | 22/51 [00:12<00:15,  1.88it/s]\u001b[A\n",
      " 45%|████▌     | 23/51 [00:12<00:14,  1.87it/s]\u001b[A\n",
      " 47%|████▋     | 24/51 [00:13<00:14,  1.87it/s]\u001b[A\n",
      " 49%|████▉     | 25/51 [00:13<00:13,  1.88it/s]\u001b[A\n",
      " 51%|█████     | 26/51 [00:14<00:13,  1.87it/s]\u001b[A\n",
      " 53%|█████▎    | 27/51 [00:14<00:12,  1.87it/s]\u001b[A\n",
      " 55%|█████▍    | 28/51 [00:15<00:12,  1.88it/s]\u001b[A\n",
      " 57%|█████▋    | 29/51 [00:15<00:11,  1.88it/s]\u001b[A\n",
      " 59%|█████▉    | 30/51 [00:16<00:11,  1.88it/s]\u001b[A\n",
      " 61%|██████    | 31/51 [00:17<00:10,  1.87it/s]\u001b[A\n",
      " 63%|██████▎   | 32/51 [00:17<00:10,  1.87it/s]\u001b[A\n",
      " 65%|██████▍   | 33/51 [00:18<00:09,  1.87it/s]\u001b[A\n",
      " 67%|██████▋   | 34/51 [00:18<00:09,  1.87it/s]\u001b[A\n",
      " 69%|██████▊   | 35/51 [00:19<00:08,  1.88it/s]\u001b[A\n",
      " 71%|███████   | 36/51 [00:19<00:07,  1.88it/s]\u001b[A\n",
      " 73%|███████▎  | 37/51 [00:20<00:07,  1.88it/s]\u001b[A\n",
      " 75%|███████▍  | 38/51 [00:20<00:06,  1.88it/s]\u001b[A\n",
      " 76%|███████▋  | 39/51 [00:21<00:06,  1.88it/s]\u001b[A\n",
      " 78%|███████▊  | 40/51 [00:21<00:05,  1.88it/s]\u001b[A\n",
      " 80%|████████  | 41/51 [00:22<00:05,  1.88it/s]\u001b[A\n",
      " 82%|████████▏ | 42/51 [00:22<00:04,  1.88it/s]\u001b[A\n",
      " 84%|████████▍ | 43/51 [00:23<00:04,  1.88it/s]\u001b[A\n",
      " 86%|████████▋ | 44/51 [00:23<00:03,  1.88it/s]\u001b[A\n",
      " 88%|████████▊ | 45/51 [00:24<00:03,  1.88it/s]\u001b[A\n",
      " 90%|█████████ | 46/51 [00:25<00:02,  1.88it/s]\u001b[A\n",
      " 92%|█████████▏| 47/51 [00:25<00:02,  1.88it/s]\u001b[A\n",
      " 94%|█████████▍| 48/51 [00:26<00:01,  1.88it/s]\u001b[A\n",
      " 96%|█████████▌| 49/51 [00:26<00:01,  1.88it/s]\u001b[A\n",
      " 98%|█████████▊| 50/51 [00:27<00:00,  1.88it/s]\u001b[A\n",
      "100%|██████████| 51/51 [00:27<00:00,  2.29it/s]\u001b[A\n",
      "  0%|          | 0/2 [00:00<?, ?it/s]\u001b[A"
     ]
    },
    {
     "name": "stdout",
     "output_type": "stream",
     "text": [
      "Completed training for epoch 106, testing validation dataset\n"
     ]
    },
    {
     "name": "stderr",
     "output_type": "stream",
     "text": [
      "\n",
      " 50%|█████     | 1/2 [00:00<00:00,  1.64it/s]\u001b[A\n",
      "100%|██████████| 2/2 [00:00<00:00,  2.11it/s]\u001b[A\n",
      "  0%|          | 0/2 [00:00<?, ?it/s]\u001b[A"
     ]
    },
    {
     "name": "stdout",
     "output_type": "stream",
     "text": [
      "loss: 0.3949129283428192\n",
      "top1acc: 89.1999282836914\n",
      "Completed testing validation dataset for epoch 106, testing training dataset\n"
     ]
    },
    {
     "name": "stderr",
     "output_type": "stream",
     "text": [
      "\n",
      " 50%|█████     | 1/2 [00:00<00:00,  1.76it/s]\u001b[A\n",
      " 89%|████████▉ | 107/120 [52:00<06:18, 29.13s/it]\n",
      "  0%|          | 0/51 [00:00<?, ?it/s]\u001b[A"
     ]
    },
    {
     "name": "stdout",
     "output_type": "stream",
     "text": [
      "loss: 0.14402411878108978\n",
      "top1acc: 95.39999389648438\n",
      "Completed testing training dataset for epoch 106\n",
      "Starting epoch 107\n"
     ]
    },
    {
     "name": "stderr",
     "output_type": "stream",
     "text": [
      "\n",
      "  2%|▏         | 1/51 [00:01<00:50,  1.02s/it]\u001b[A\n",
      "  4%|▍         | 2/51 [00:01<00:42,  1.15it/s]\u001b[A\n",
      "  6%|▌         | 3/51 [00:02<00:37,  1.30it/s]\u001b[A\n",
      "  8%|▊         | 4/51 [00:02<00:32,  1.43it/s]\u001b[A\n",
      " 10%|▉         | 5/51 [00:03<00:29,  1.54it/s]\u001b[A\n",
      " 12%|█▏        | 6/51 [00:03<00:27,  1.63it/s]\u001b[A\n",
      " 14%|█▎        | 7/51 [00:04<00:25,  1.69it/s]\u001b[A\n",
      " 16%|█▌        | 8/51 [00:04<00:24,  1.75it/s]\u001b[A\n",
      " 18%|█▊        | 9/51 [00:05<00:23,  1.78it/s]\u001b[A\n",
      " 20%|█▉        | 10/51 [00:05<00:22,  1.81it/s]\u001b[A\n",
      " 22%|██▏       | 11/51 [00:06<00:21,  1.83it/s]\u001b[A\n",
      " 24%|██▎       | 12/51 [00:06<00:21,  1.84it/s]\u001b[A\n",
      " 25%|██▌       | 13/51 [00:07<00:20,  1.85it/s]\u001b[A\n",
      " 27%|██▋       | 14/51 [00:07<00:19,  1.86it/s]\u001b[A\n",
      " 29%|██▉       | 15/51 [00:08<00:19,  1.87it/s]\u001b[A\n",
      " 31%|███▏      | 16/51 [00:09<00:18,  1.87it/s]\u001b[A\n",
      " 33%|███▎      | 17/51 [00:09<00:18,  1.87it/s]\u001b[A\n",
      " 35%|███▌      | 18/51 [00:10<00:17,  1.87it/s]\u001b[A\n",
      " 37%|███▋      | 19/51 [00:10<00:17,  1.87it/s]\u001b[A\n",
      " 39%|███▉      | 20/51 [00:11<00:16,  1.88it/s]\u001b[A\n",
      " 41%|████      | 21/51 [00:11<00:15,  1.88it/s]\u001b[A\n",
      " 43%|████▎     | 22/51 [00:12<00:15,  1.88it/s]\u001b[A\n",
      " 45%|████▌     | 23/51 [00:12<00:14,  1.88it/s]\u001b[A\n",
      " 47%|████▋     | 24/51 [00:13<00:14,  1.88it/s]\u001b[A\n",
      " 49%|████▉     | 25/51 [00:13<00:13,  1.88it/s]\u001b[A\n",
      " 51%|█████     | 26/51 [00:14<00:13,  1.88it/s]\u001b[A\n",
      " 53%|█████▎    | 27/51 [00:14<00:12,  1.88it/s]\u001b[A\n",
      " 55%|█████▍    | 28/51 [00:15<00:12,  1.88it/s]\u001b[A\n",
      " 57%|█████▋    | 29/51 [00:15<00:11,  1.88it/s]\u001b[A\n",
      " 59%|█████▉    | 30/51 [00:16<00:11,  1.88it/s]\u001b[A\n",
      " 61%|██████    | 31/51 [00:17<00:10,  1.88it/s]\u001b[A\n",
      " 63%|██████▎   | 32/51 [00:17<00:10,  1.88it/s]\u001b[A\n",
      " 65%|██████▍   | 33/51 [00:18<00:09,  1.88it/s]\u001b[A\n",
      " 67%|██████▋   | 34/51 [00:18<00:09,  1.88it/s]\u001b[A\n",
      " 69%|██████▊   | 35/51 [00:19<00:08,  1.88it/s]\u001b[A\n",
      " 71%|███████   | 36/51 [00:19<00:07,  1.88it/s]\u001b[A\n",
      " 73%|███████▎  | 37/51 [00:20<00:07,  1.88it/s]\u001b[A\n",
      " 75%|███████▍  | 38/51 [00:20<00:06,  1.88it/s]\u001b[A\n",
      " 76%|███████▋  | 39/51 [00:21<00:06,  1.88it/s]\u001b[A\n",
      " 78%|███████▊  | 40/51 [00:21<00:05,  1.88it/s]\u001b[A\n",
      " 80%|████████  | 41/51 [00:22<00:05,  1.88it/s]\u001b[A\n",
      " 82%|████████▏ | 42/51 [00:22<00:04,  1.88it/s]\u001b[A\n",
      " 84%|████████▍ | 43/51 [00:23<00:04,  1.88it/s]\u001b[A\n",
      " 86%|████████▋ | 44/51 [00:23<00:03,  1.88it/s]\u001b[A\n",
      " 88%|████████▊ | 45/51 [00:24<00:03,  1.88it/s]\u001b[A\n",
      " 90%|█████████ | 46/51 [00:24<00:02,  1.88it/s]\u001b[A\n",
      " 92%|█████████▏| 47/51 [00:25<00:02,  1.88it/s]\u001b[A\n",
      " 94%|█████████▍| 48/51 [00:26<00:01,  1.88it/s]\u001b[A\n",
      " 96%|█████████▌| 49/51 [00:26<00:01,  1.88it/s]\u001b[A\n",
      " 98%|█████████▊| 50/51 [00:27<00:00,  1.88it/s]\u001b[A\n",
      "100%|██████████| 51/51 [00:27<00:00,  2.29it/s]\u001b[A\n",
      "  0%|          | 0/2 [00:00<?, ?it/s]\u001b[A"
     ]
    },
    {
     "name": "stdout",
     "output_type": "stream",
     "text": [
      "Completed training for epoch 107, testing validation dataset\n"
     ]
    },
    {
     "name": "stderr",
     "output_type": "stream",
     "text": [
      "\n",
      " 50%|█████     | 1/2 [00:00<00:00,  1.63it/s]\u001b[A\n",
      "100%|██████████| 2/2 [00:00<00:00,  2.09it/s]\u001b[A\n",
      "  0%|          | 0/2 [00:00<?, ?it/s]\u001b[A"
     ]
    },
    {
     "name": "stdout",
     "output_type": "stream",
     "text": [
      "loss: 0.3897542953491211\n",
      "top1acc: 88.59993743896484\n",
      "Completed testing validation dataset for epoch 107, testing training dataset\n"
     ]
    },
    {
     "name": "stderr",
     "output_type": "stream",
     "text": [
      "\n",
      " 50%|█████     | 1/2 [00:00<00:00,  1.70it/s]\u001b[A\n",
      " 90%|█████████ | 108/120 [52:29<05:49, 29.11s/it]\n",
      "  0%|          | 0/51 [00:00<?, ?it/s]\u001b[A"
     ]
    },
    {
     "name": "stdout",
     "output_type": "stream",
     "text": [
      "loss: 0.14435462653636932\n",
      "top1acc: 94.79999542236328\n",
      "Completed testing training dataset for epoch 107\n",
      "Starting epoch 108\n"
     ]
    },
    {
     "name": "stderr",
     "output_type": "stream",
     "text": [
      "\n",
      "  2%|▏         | 1/51 [00:01<00:53,  1.07s/it]\u001b[A\n",
      "  4%|▍         | 2/51 [00:01<00:44,  1.10it/s]\u001b[A\n",
      "  6%|▌         | 3/51 [00:02<00:38,  1.26it/s]\u001b[A\n",
      "  8%|▊         | 4/51 [00:02<00:33,  1.39it/s]\u001b[A\n",
      " 10%|▉         | 5/51 [00:03<00:30,  1.51it/s]\u001b[A\n",
      " 12%|█▏        | 6/51 [00:03<00:28,  1.60it/s]\u001b[A\n",
      " 14%|█▎        | 7/51 [00:04<00:26,  1.68it/s]\u001b[A\n",
      " 16%|█▌        | 8/51 [00:04<00:24,  1.73it/s]\u001b[A\n",
      " 18%|█▊        | 9/51 [00:05<00:23,  1.77it/s]\u001b[A\n",
      " 20%|█▉        | 10/51 [00:05<00:22,  1.80it/s]\u001b[A\n",
      " 22%|██▏       | 11/51 [00:06<00:21,  1.82it/s]\u001b[A\n",
      " 24%|██▎       | 12/51 [00:06<00:21,  1.84it/s]\u001b[A\n",
      " 25%|██▌       | 13/51 [00:07<00:20,  1.85it/s]\u001b[A\n",
      " 27%|██▋       | 14/51 [00:08<00:19,  1.86it/s]\u001b[A\n",
      " 29%|██▉       | 15/51 [00:08<00:19,  1.86it/s]\u001b[A\n",
      " 31%|███▏      | 16/51 [00:09<00:18,  1.87it/s]\u001b[A\n",
      " 33%|███▎      | 17/51 [00:09<00:18,  1.87it/s]\u001b[A\n",
      " 35%|███▌      | 18/51 [00:10<00:17,  1.87it/s]\u001b[A\n",
      " 37%|███▋      | 19/51 [00:10<00:17,  1.87it/s]\u001b[A\n",
      " 39%|███▉      | 20/51 [00:11<00:16,  1.87it/s]\u001b[A\n",
      " 41%|████      | 21/51 [00:11<00:16,  1.87it/s]\u001b[A\n",
      " 43%|████▎     | 22/51 [00:12<00:15,  1.88it/s]\u001b[A\n",
      " 45%|████▌     | 23/51 [00:12<00:14,  1.88it/s]\u001b[A\n",
      " 47%|████▋     | 24/51 [00:13<00:14,  1.88it/s]\u001b[A\n",
      " 49%|████▉     | 25/51 [00:13<00:13,  1.87it/s]\u001b[A\n",
      " 51%|█████     | 26/51 [00:14<00:13,  1.86it/s]\u001b[A\n",
      " 53%|█████▎    | 27/51 [00:14<00:12,  1.87it/s]\u001b[A\n",
      " 55%|█████▍    | 28/51 [00:15<00:12,  1.87it/s]\u001b[A\n",
      " 57%|█████▋    | 29/51 [00:16<00:11,  1.87it/s]\u001b[A\n",
      " 59%|█████▉    | 30/51 [00:16<00:11,  1.87it/s]\u001b[A\n",
      " 61%|██████    | 31/51 [00:17<00:10,  1.87it/s]\u001b[A\n",
      " 63%|██████▎   | 32/51 [00:17<00:10,  1.87it/s]\u001b[A\n",
      " 65%|██████▍   | 33/51 [00:18<00:09,  1.87it/s]\u001b[A\n",
      " 67%|██████▋   | 34/51 [00:18<00:09,  1.87it/s]\u001b[A\n",
      " 69%|██████▊   | 35/51 [00:19<00:08,  1.87it/s]\u001b[A\n",
      " 71%|███████   | 36/51 [00:19<00:07,  1.88it/s]\u001b[A\n",
      " 73%|███████▎  | 37/51 [00:20<00:07,  1.88it/s]\u001b[A\n",
      " 75%|███████▍  | 38/51 [00:20<00:06,  1.88it/s]\u001b[A\n",
      " 76%|███████▋  | 39/51 [00:21<00:06,  1.88it/s]\u001b[A\n",
      " 78%|███████▊  | 40/51 [00:21<00:05,  1.88it/s]\u001b[A\n",
      " 80%|████████  | 41/51 [00:22<00:05,  1.88it/s]\u001b[A\n",
      " 82%|████████▏ | 42/51 [00:22<00:04,  1.88it/s]\u001b[A\n",
      " 84%|████████▍ | 43/51 [00:23<00:04,  1.88it/s]\u001b[A\n",
      " 86%|████████▋ | 44/51 [00:24<00:03,  1.88it/s]\u001b[A\n",
      " 88%|████████▊ | 45/51 [00:24<00:03,  1.88it/s]\u001b[A\n",
      " 90%|█████████ | 46/51 [00:25<00:02,  1.88it/s]\u001b[A\n",
      " 92%|█████████▏| 47/51 [00:25<00:02,  1.88it/s]\u001b[A\n",
      " 94%|█████████▍| 48/51 [00:26<00:01,  1.88it/s]\u001b[A\n",
      " 96%|█████████▌| 49/51 [00:26<00:01,  1.88it/s]\u001b[A\n",
      " 98%|█████████▊| 50/51 [00:27<00:00,  1.88it/s]\u001b[A\n",
      "100%|██████████| 51/51 [00:27<00:00,  2.29it/s]\u001b[A\n",
      "  0%|          | 0/2 [00:00<?, ?it/s]\u001b[A"
     ]
    },
    {
     "name": "stdout",
     "output_type": "stream",
     "text": [
      "Completed training for epoch 108, testing validation dataset\n"
     ]
    },
    {
     "name": "stderr",
     "output_type": "stream",
     "text": [
      "\n",
      " 50%|█████     | 1/2 [00:00<00:00,  1.65it/s]\u001b[A\n",
      "100%|██████████| 2/2 [00:00<00:00,  2.12it/s]\u001b[A\n",
      "  0%|          | 0/2 [00:00<?, ?it/s]\u001b[A"
     ]
    },
    {
     "name": "stdout",
     "output_type": "stream",
     "text": [
      "loss: 0.39241844415664673\n",
      "top1acc: 89.39994812011719\n",
      "Completed testing validation dataset for epoch 108, testing training dataset\n"
     ]
    },
    {
     "name": "stderr",
     "output_type": "stream",
     "text": [
      "\n",
      " 50%|█████     | 1/2 [00:00<00:00,  1.56it/s]\u001b[A\n",
      " 91%|█████████ | 109/120 [52:58<05:20, 29.15s/it]\n",
      "  0%|          | 0/51 [00:00<?, ?it/s]\u001b[A"
     ]
    },
    {
     "name": "stdout",
     "output_type": "stream",
     "text": [
      "loss: 0.14795677363872528\n",
      "top1acc: 95.20001220703125\n",
      "Completed testing training dataset for epoch 108\n",
      "Starting epoch 109\n"
     ]
    },
    {
     "name": "stderr",
     "output_type": "stream",
     "text": [
      "\n",
      "  2%|▏         | 1/51 [00:01<00:52,  1.06s/it]\u001b[A\n",
      "  4%|▍         | 2/51 [00:01<00:44,  1.11it/s]\u001b[A\n",
      "  6%|▌         | 3/51 [00:02<00:37,  1.27it/s]\u001b[A\n",
      "  8%|▊         | 4/51 [00:02<00:33,  1.41it/s]\u001b[A\n",
      " 10%|▉         | 5/51 [00:03<00:30,  1.52it/s]\u001b[A\n",
      " 12%|█▏        | 6/51 [00:03<00:27,  1.61it/s]\u001b[A\n",
      " 14%|█▎        | 7/51 [00:04<00:26,  1.68it/s]\u001b[A\n",
      " 16%|█▌        | 8/51 [00:04<00:24,  1.74it/s]\u001b[A\n",
      " 18%|█▊        | 9/51 [00:05<00:23,  1.78it/s]\u001b[A\n",
      " 20%|█▉        | 10/51 [00:05<00:22,  1.81it/s]\u001b[A\n",
      " 22%|██▏       | 11/51 [00:06<00:21,  1.83it/s]\u001b[A\n",
      " 24%|██▎       | 12/51 [00:06<00:21,  1.84it/s]\u001b[A\n",
      " 25%|██▌       | 13/51 [00:07<00:20,  1.85it/s]\u001b[A\n",
      " 27%|██▋       | 14/51 [00:07<00:19,  1.86it/s]\u001b[A\n",
      " 29%|██▉       | 15/51 [00:08<00:19,  1.86it/s]\u001b[A\n",
      " 31%|███▏      | 16/51 [00:09<00:18,  1.87it/s]\u001b[A\n",
      " 33%|███▎      | 17/51 [00:09<00:18,  1.87it/s]\u001b[A\n",
      " 35%|███▌      | 18/51 [00:10<00:17,  1.87it/s]\u001b[A\n",
      " 37%|███▋      | 19/51 [00:10<00:17,  1.87it/s]\u001b[A\n",
      " 39%|███▉      | 20/51 [00:11<00:16,  1.87it/s]\u001b[A\n",
      " 41%|████      | 21/51 [00:11<00:16,  1.87it/s]\u001b[A\n",
      " 43%|████▎     | 22/51 [00:12<00:15,  1.87it/s]\u001b[A\n",
      " 45%|████▌     | 23/51 [00:12<00:14,  1.88it/s]\u001b[A\n",
      " 47%|████▋     | 24/51 [00:13<00:14,  1.88it/s]\u001b[A\n",
      " 49%|████▉     | 25/51 [00:13<00:13,  1.87it/s]\u001b[A\n",
      " 51%|█████     | 26/51 [00:14<00:13,  1.87it/s]\u001b[A\n",
      " 53%|█████▎    | 27/51 [00:14<00:12,  1.87it/s]\u001b[A\n",
      " 55%|█████▍    | 28/51 [00:15<00:12,  1.87it/s]\u001b[A\n",
      " 57%|█████▋    | 29/51 [00:15<00:11,  1.87it/s]\u001b[A\n",
      " 59%|█████▉    | 30/51 [00:16<00:11,  1.87it/s]\u001b[A\n",
      " 61%|██████    | 31/51 [00:17<00:10,  1.87it/s]\u001b[A\n",
      " 63%|██████▎   | 32/51 [00:17<00:10,  1.87it/s]\u001b[A\n",
      " 65%|██████▍   | 33/51 [00:18<00:09,  1.87it/s]\u001b[A\n",
      " 67%|██████▋   | 34/51 [00:18<00:09,  1.87it/s]\u001b[A\n",
      " 69%|██████▊   | 35/51 [00:19<00:08,  1.87it/s]\u001b[A\n",
      " 71%|███████   | 36/51 [00:19<00:08,  1.87it/s]\u001b[A\n",
      " 73%|███████▎  | 37/51 [00:20<00:07,  1.87it/s]\u001b[A\n",
      " 75%|███████▍  | 38/51 [00:20<00:06,  1.88it/s]\u001b[A\n",
      " 76%|███████▋  | 39/51 [00:21<00:06,  1.88it/s]\u001b[A\n",
      " 78%|███████▊  | 40/51 [00:21<00:05,  1.88it/s]\u001b[A\n",
      " 80%|████████  | 41/51 [00:22<00:05,  1.88it/s]\u001b[A\n",
      " 82%|████████▏ | 42/51 [00:22<00:04,  1.88it/s]\u001b[A\n",
      " 84%|████████▍ | 43/51 [00:23<00:04,  1.88it/s]\u001b[A\n",
      " 86%|████████▋ | 44/51 [00:23<00:03,  1.88it/s]\u001b[A\n",
      " 88%|████████▊ | 45/51 [00:24<00:03,  1.88it/s]\u001b[A\n",
      " 90%|█████████ | 46/51 [00:25<00:02,  1.88it/s]\u001b[A\n",
      " 92%|█████████▏| 47/51 [00:25<00:02,  1.88it/s]\u001b[A\n",
      " 94%|█████████▍| 48/51 [00:26<00:01,  1.88it/s]\u001b[A\n",
      " 96%|█████████▌| 49/51 [00:26<00:01,  1.88it/s]\u001b[A\n",
      " 98%|█████████▊| 50/51 [00:27<00:00,  1.88it/s]\u001b[A\n",
      "100%|██████████| 51/51 [00:27<00:00,  2.28it/s]\u001b[A\n",
      "  0%|          | 0/2 [00:00<?, ?it/s]\u001b[A"
     ]
    },
    {
     "name": "stdout",
     "output_type": "stream",
     "text": [
      "Completed training for epoch 109, testing validation dataset\n"
     ]
    },
    {
     "name": "stderr",
     "output_type": "stream",
     "text": [
      "\n",
      " 50%|█████     | 1/2 [00:00<00:00,  1.65it/s]\u001b[A\n",
      "100%|██████████| 2/2 [00:00<00:00,  2.12it/s]\u001b[A\n",
      "  0%|          | 0/2 [00:00<?, ?it/s]\u001b[A"
     ]
    },
    {
     "name": "stdout",
     "output_type": "stream",
     "text": [
      "loss: 0.38407406210899353\n",
      "top1acc: 88.99994659423828\n",
      "Completed testing validation dataset for epoch 109, testing training dataset\n"
     ]
    },
    {
     "name": "stderr",
     "output_type": "stream",
     "text": [
      "\n",
      " 50%|█████     | 1/2 [00:00<00:00,  1.75it/s]\u001b[A\n",
      " 92%|█████████▏| 110/120 [53:28<04:51, 29.14s/it]\n",
      "  0%|          | 0/51 [00:00<?, ?it/s]\u001b[A"
     ]
    },
    {
     "name": "stdout",
     "output_type": "stream",
     "text": [
      "loss: 0.14640763401985168\n",
      "top1acc: 95.19998931884766\n",
      "Completed testing training dataset for epoch 109\n",
      "Starting epoch 110\n"
     ]
    },
    {
     "name": "stderr",
     "output_type": "stream",
     "text": [
      "\n",
      "  2%|▏         | 1/51 [00:01<00:50,  1.02s/it]\u001b[A\n",
      "  4%|▍         | 2/51 [00:01<00:42,  1.14it/s]\u001b[A\n",
      "  6%|▌         | 3/51 [00:02<00:37,  1.30it/s]\u001b[A\n",
      "  8%|▊         | 4/51 [00:02<00:32,  1.43it/s]\u001b[A\n",
      " 10%|▉         | 5/51 [00:03<00:29,  1.54it/s]\u001b[A\n",
      " 12%|█▏        | 6/51 [00:03<00:27,  1.63it/s]\u001b[A\n",
      " 14%|█▎        | 7/51 [00:04<00:25,  1.69it/s]\u001b[A\n",
      " 16%|█▌        | 8/51 [00:04<00:24,  1.75it/s]\u001b[A\n",
      " 18%|█▊        | 9/51 [00:05<00:23,  1.78it/s]\u001b[A\n",
      " 20%|█▉        | 10/51 [00:05<00:22,  1.81it/s]\u001b[A\n",
      " 22%|██▏       | 11/51 [00:06<00:21,  1.83it/s]\u001b[A\n",
      " 24%|██▎       | 12/51 [00:06<00:21,  1.84it/s]\u001b[A\n",
      " 25%|██▌       | 13/51 [00:07<00:20,  1.85it/s]\u001b[A\n",
      " 27%|██▋       | 14/51 [00:07<00:19,  1.86it/s]\u001b[A\n",
      " 29%|██▉       | 15/51 [00:08<00:19,  1.86it/s]\u001b[A\n",
      " 31%|███▏      | 16/51 [00:09<00:18,  1.87it/s]\u001b[A\n",
      " 33%|███▎      | 17/51 [00:09<00:18,  1.87it/s]\u001b[A\n",
      " 35%|███▌      | 18/51 [00:10<00:17,  1.87it/s]\u001b[A\n",
      " 37%|███▋      | 19/51 [00:10<00:17,  1.87it/s]\u001b[A\n",
      " 39%|███▉      | 20/51 [00:11<00:16,  1.88it/s]\u001b[A\n",
      " 41%|████      | 21/51 [00:11<00:15,  1.88it/s]\u001b[A\n",
      " 43%|████▎     | 22/51 [00:12<00:15,  1.87it/s]\u001b[A\n",
      " 45%|████▌     | 23/51 [00:12<00:14,  1.87it/s]\u001b[A\n",
      " 47%|████▋     | 24/51 [00:13<00:14,  1.87it/s]\u001b[A\n",
      " 49%|████▉     | 25/51 [00:13<00:13,  1.88it/s]\u001b[A\n",
      " 51%|█████     | 26/51 [00:14<00:13,  1.87it/s]\u001b[A\n",
      " 53%|█████▎    | 27/51 [00:14<00:12,  1.88it/s]\u001b[A\n",
      " 55%|█████▍    | 28/51 [00:15<00:12,  1.87it/s]\u001b[A\n",
      " 57%|█████▋    | 29/51 [00:15<00:11,  1.87it/s]\u001b[A\n",
      " 59%|█████▉    | 30/51 [00:16<00:11,  1.87it/s]\u001b[A\n",
      " 61%|██████    | 31/51 [00:17<00:10,  1.87it/s]\u001b[A\n",
      " 63%|██████▎   | 32/51 [00:17<00:10,  1.88it/s]\u001b[A\n",
      " 65%|██████▍   | 33/51 [00:18<00:09,  1.87it/s]\u001b[A\n",
      " 67%|██████▋   | 34/51 [00:18<00:09,  1.87it/s]\u001b[A\n",
      " 69%|██████▊   | 35/51 [00:19<00:08,  1.87it/s]\u001b[A\n",
      " 71%|███████   | 36/51 [00:19<00:08,  1.87it/s]\u001b[A\n",
      " 73%|███████▎  | 37/51 [00:20<00:07,  1.88it/s]\u001b[A\n",
      " 75%|███████▍  | 38/51 [00:20<00:06,  1.88it/s]\u001b[A\n",
      " 76%|███████▋  | 39/51 [00:21<00:06,  1.88it/s]\u001b[A\n",
      " 78%|███████▊  | 40/51 [00:21<00:05,  1.88it/s]\u001b[A\n",
      " 80%|████████  | 41/51 [00:22<00:05,  1.88it/s]\u001b[A\n",
      " 82%|████████▏ | 42/51 [00:22<00:04,  1.88it/s]\u001b[A\n",
      " 84%|████████▍ | 43/51 [00:23<00:04,  1.88it/s]\u001b[A\n",
      " 86%|████████▋ | 44/51 [00:23<00:03,  1.88it/s]\u001b[A\n",
      " 88%|████████▊ | 45/51 [00:24<00:03,  1.88it/s]\u001b[A\n",
      " 90%|█████████ | 46/51 [00:25<00:02,  1.88it/s]\u001b[A\n",
      " 92%|█████████▏| 47/51 [00:25<00:02,  1.88it/s]\u001b[A\n",
      " 94%|█████████▍| 48/51 [00:26<00:01,  1.88it/s]\u001b[A\n",
      " 96%|█████████▌| 49/51 [00:26<00:01,  1.88it/s]\u001b[A\n",
      " 98%|█████████▊| 50/51 [00:27<00:00,  1.88it/s]\u001b[A\n",
      "100%|██████████| 51/51 [00:27<00:00,  2.29it/s]\u001b[A\n",
      "  0%|          | 0/2 [00:00<?, ?it/s]\u001b[A"
     ]
    },
    {
     "name": "stdout",
     "output_type": "stream",
     "text": [
      "Completed training for epoch 110, testing validation dataset\n"
     ]
    },
    {
     "name": "stderr",
     "output_type": "stream",
     "text": [
      "\n",
      " 50%|█████     | 1/2 [00:00<00:00,  1.66it/s]\u001b[A\n",
      "100%|██████████| 2/2 [00:00<00:00,  2.13it/s]\u001b[A\n",
      "  0%|          | 0/2 [00:00<?, ?it/s]\u001b[A"
     ]
    },
    {
     "name": "stdout",
     "output_type": "stream",
     "text": [
      "loss: 0.3907421827316284\n",
      "top1acc: 88.59994506835938\n",
      "Completed testing validation dataset for epoch 110, testing training dataset\n"
     ]
    },
    {
     "name": "stderr",
     "output_type": "stream",
     "text": [
      "\n",
      " 50%|█████     | 1/2 [00:00<00:00,  1.70it/s]\u001b[A\n",
      " 92%|█████████▎| 111/120 [53:57<04:22, 29.13s/it]\n",
      "  0%|          | 0/51 [00:00<?, ?it/s]\u001b[A"
     ]
    },
    {
     "name": "stdout",
     "output_type": "stream",
     "text": [
      "loss: 0.14346632361412048\n",
      "top1acc: 94.9999771118164\n",
      "Completed testing training dataset for epoch 110\n",
      "Starting epoch 111\n"
     ]
    },
    {
     "name": "stderr",
     "output_type": "stream",
     "text": [
      "\n",
      "  2%|▏         | 1/51 [00:01<00:51,  1.04s/it]\u001b[A\n",
      "  4%|▍         | 2/51 [00:01<00:43,  1.13it/s]\u001b[A\n",
      "  6%|▌         | 3/51 [00:02<00:37,  1.28it/s]\u001b[A\n",
      "  8%|▊         | 4/51 [00:02<00:33,  1.42it/s]\u001b[A\n",
      " 10%|▉         | 5/51 [00:03<00:30,  1.53it/s]\u001b[A\n",
      " 12%|█▏        | 6/51 [00:03<00:27,  1.62it/s]\u001b[A\n",
      " 14%|█▎        | 7/51 [00:04<00:26,  1.69it/s]\u001b[A\n",
      " 16%|█▌        | 8/51 [00:04<00:24,  1.74it/s]\u001b[A\n",
      " 18%|█▊        | 9/51 [00:05<00:23,  1.78it/s]\u001b[A\n",
      " 20%|█▉        | 10/51 [00:05<00:22,  1.81it/s]\u001b[A\n",
      " 22%|██▏       | 11/51 [00:06<00:21,  1.83it/s]\u001b[A\n",
      " 24%|██▎       | 12/51 [00:06<00:21,  1.84it/s]\u001b[A\n",
      " 25%|██▌       | 13/51 [00:07<00:20,  1.85it/s]\u001b[A\n",
      " 27%|██▋       | 14/51 [00:07<00:19,  1.86it/s]\u001b[A\n",
      " 29%|██▉       | 15/51 [00:08<00:19,  1.86it/s]\u001b[A\n",
      " 31%|███▏      | 16/51 [00:09<00:18,  1.87it/s]\u001b[A\n",
      " 33%|███▎      | 17/51 [00:09<00:18,  1.87it/s]\u001b[A\n",
      " 35%|███▌      | 18/51 [00:10<00:17,  1.87it/s]\u001b[A\n",
      " 37%|███▋      | 19/51 [00:10<00:17,  1.87it/s]\u001b[A\n",
      " 39%|███▉      | 20/51 [00:11<00:16,  1.87it/s]\u001b[A\n",
      " 41%|████      | 21/51 [00:11<00:16,  1.87it/s]\u001b[A\n",
      " 43%|████▎     | 22/51 [00:12<00:15,  1.88it/s]\u001b[A\n",
      " 45%|████▌     | 23/51 [00:12<00:14,  1.87it/s]\u001b[A\n",
      " 47%|████▋     | 24/51 [00:13<00:14,  1.87it/s]\u001b[A\n",
      " 49%|████▉     | 25/51 [00:13<00:13,  1.87it/s]\u001b[A\n",
      " 51%|█████     | 26/51 [00:14<00:13,  1.88it/s]\u001b[A\n",
      " 53%|█████▎    | 27/51 [00:14<00:12,  1.87it/s]\u001b[A\n",
      " 55%|█████▍    | 28/51 [00:15<00:12,  1.87it/s]\u001b[A\n",
      " 57%|█████▋    | 29/51 [00:15<00:11,  1.87it/s]\u001b[A\n",
      " 59%|█████▉    | 30/51 [00:16<00:11,  1.87it/s]\u001b[A\n",
      " 61%|██████    | 31/51 [00:17<00:10,  1.88it/s]\u001b[A\n",
      " 63%|██████▎   | 32/51 [00:17<00:10,  1.87it/s]\u001b[A\n",
      " 65%|██████▍   | 33/51 [00:18<00:09,  1.87it/s]\u001b[A\n",
      " 67%|██████▋   | 34/51 [00:18<00:09,  1.88it/s]\u001b[A\n",
      " 69%|██████▊   | 35/51 [00:19<00:08,  1.88it/s]\u001b[A\n",
      " 71%|███████   | 36/51 [00:19<00:07,  1.88it/s]\u001b[A\n",
      " 73%|███████▎  | 37/51 [00:20<00:07,  1.87it/s]\u001b[A\n",
      " 75%|███████▍  | 38/51 [00:20<00:06,  1.87it/s]\u001b[A\n",
      " 76%|███████▋  | 39/51 [00:21<00:06,  1.87it/s]\u001b[A\n",
      " 78%|███████▊  | 40/51 [00:21<00:05,  1.87it/s]\u001b[A\n",
      " 80%|████████  | 41/51 [00:22<00:05,  1.87it/s]\u001b[A\n",
      " 82%|████████▏ | 42/51 [00:22<00:04,  1.88it/s]\u001b[A\n",
      " 84%|████████▍ | 43/51 [00:23<00:04,  1.87it/s]\u001b[A\n",
      " 86%|████████▋ | 44/51 [00:23<00:03,  1.88it/s]\u001b[A\n",
      " 88%|████████▊ | 45/51 [00:24<00:03,  1.87it/s]\u001b[A\n",
      " 90%|█████████ | 46/51 [00:25<00:02,  1.87it/s]\u001b[A\n",
      " 92%|█████████▏| 47/51 [00:25<00:02,  1.87it/s]\u001b[A\n",
      " 94%|█████████▍| 48/51 [00:26<00:01,  1.87it/s]\u001b[A\n",
      " 96%|█████████▌| 49/51 [00:26<00:01,  1.88it/s]\u001b[A\n",
      " 98%|█████████▊| 50/51 [00:27<00:00,  1.88it/s]\u001b[A\n",
      "100%|██████████| 51/51 [00:27<00:00,  2.29it/s]\u001b[A\n",
      "  0%|          | 0/2 [00:00<?, ?it/s]\u001b[A"
     ]
    },
    {
     "name": "stdout",
     "output_type": "stream",
     "text": [
      "Completed training for epoch 111, testing validation dataset\n"
     ]
    },
    {
     "name": "stderr",
     "output_type": "stream",
     "text": [
      "\n",
      " 50%|█████     | 1/2 [00:00<00:00,  1.70it/s]\u001b[A\n",
      "100%|██████████| 2/2 [00:00<00:00,  2.17it/s]\u001b[A\n",
      "  0%|          | 0/2 [00:00<?, ?it/s]\u001b[A"
     ]
    },
    {
     "name": "stdout",
     "output_type": "stream",
     "text": [
      "loss: 0.3859167993068695\n",
      "top1acc: 89.19993591308594\n",
      "Completed testing validation dataset for epoch 111, testing training dataset\n"
     ]
    },
    {
     "name": "stderr",
     "output_type": "stream",
     "text": [
      "\n",
      " 50%|█████     | 1/2 [00:00<00:00,  1.61it/s]\u001b[A\n",
      " 93%|█████████▎| 112/120 [54:26<03:53, 29.13s/it]\n",
      "  0%|          | 0/51 [00:00<?, ?it/s]\u001b[A"
     ]
    },
    {
     "name": "stdout",
     "output_type": "stream",
     "text": [
      "loss: 0.1385374218225479\n",
      "top1acc: 95.59999084472656\n",
      "Completed testing training dataset for epoch 111\n",
      "Starting epoch 112\n"
     ]
    },
    {
     "name": "stderr",
     "output_type": "stream",
     "text": [
      "\n",
      "  2%|▏         | 1/51 [00:01<00:52,  1.04s/it]\u001b[A\n",
      "  4%|▍         | 2/51 [00:01<00:43,  1.12it/s]\u001b[A\n",
      "  6%|▌         | 3/51 [00:02<00:37,  1.28it/s]\u001b[A\n",
      "  8%|▊         | 4/51 [00:02<00:33,  1.41it/s]\u001b[A\n",
      " 10%|▉         | 5/51 [00:03<00:30,  1.53it/s]\u001b[A\n",
      " 12%|█▏        | 6/51 [00:03<00:27,  1.62it/s]\u001b[A\n",
      " 14%|█▎        | 7/51 [00:04<00:26,  1.69it/s]\u001b[A\n",
      " 16%|█▌        | 8/51 [00:04<00:24,  1.74it/s]\u001b[A\n",
      " 18%|█▊        | 9/51 [00:05<00:23,  1.77it/s]\u001b[A\n",
      " 20%|█▉        | 10/51 [00:05<00:22,  1.80it/s]\u001b[A\n",
      " 22%|██▏       | 11/51 [00:06<00:21,  1.82it/s]\u001b[A\n",
      " 24%|██▎       | 12/51 [00:06<00:21,  1.84it/s]\u001b[A\n",
      " 25%|██▌       | 13/51 [00:07<00:20,  1.85it/s]\u001b[A\n",
      " 27%|██▋       | 14/51 [00:07<00:19,  1.86it/s]\u001b[A\n",
      " 29%|██▉       | 15/51 [00:08<00:19,  1.86it/s]\u001b[A\n",
      " 31%|███▏      | 16/51 [00:09<00:18,  1.87it/s]\u001b[A\n",
      " 33%|███▎      | 17/51 [00:09<00:18,  1.87it/s]\u001b[A\n",
      " 35%|███▌      | 18/51 [00:10<00:17,  1.87it/s]\u001b[A\n",
      " 37%|███▋      | 19/51 [00:10<00:17,  1.87it/s]\u001b[A\n",
      " 39%|███▉      | 20/51 [00:11<00:16,  1.87it/s]\u001b[A\n",
      " 41%|████      | 21/51 [00:11<00:16,  1.87it/s]\u001b[A\n",
      " 43%|████▎     | 22/51 [00:12<00:15,  1.87it/s]\u001b[A\n",
      " 45%|████▌     | 23/51 [00:12<00:14,  1.87it/s]\u001b[A\n",
      " 47%|████▋     | 24/51 [00:13<00:14,  1.87it/s]\u001b[A\n",
      " 49%|████▉     | 25/51 [00:13<00:13,  1.87it/s]\u001b[A\n",
      " 51%|█████     | 26/51 [00:14<00:13,  1.87it/s]\u001b[A\n",
      " 53%|█████▎    | 27/51 [00:14<00:12,  1.87it/s]\u001b[A\n",
      " 55%|█████▍    | 28/51 [00:15<00:12,  1.87it/s]\u001b[A\n",
      " 57%|█████▋    | 29/51 [00:15<00:11,  1.87it/s]\u001b[A\n",
      " 59%|█████▉    | 30/51 [00:16<00:11,  1.87it/s]\u001b[A\n",
      " 61%|██████    | 31/51 [00:17<00:10,  1.87it/s]\u001b[A\n",
      " 63%|██████▎   | 32/51 [00:17<00:10,  1.88it/s]\u001b[A\n",
      " 65%|██████▍   | 33/51 [00:18<00:09,  1.88it/s]\u001b[A\n",
      " 67%|██████▋   | 34/51 [00:18<00:09,  1.88it/s]\u001b[A\n",
      " 69%|██████▊   | 35/51 [00:19<00:08,  1.87it/s]\u001b[A\n",
      " 71%|███████   | 36/51 [00:19<00:08,  1.87it/s]\u001b[A\n",
      " 73%|███████▎  | 37/51 [00:20<00:07,  1.87it/s]\u001b[A\n",
      " 75%|███████▍  | 38/51 [00:20<00:06,  1.87it/s]\u001b[A\n",
      " 76%|███████▋  | 39/51 [00:21<00:06,  1.87it/s]\u001b[A\n",
      " 78%|███████▊  | 40/51 [00:21<00:05,  1.87it/s]\u001b[A\n",
      " 80%|████████  | 41/51 [00:22<00:05,  1.87it/s]\u001b[A\n",
      " 82%|████████▏ | 42/51 [00:22<00:04,  1.87it/s]\u001b[A\n",
      " 84%|████████▍ | 43/51 [00:23<00:04,  1.87it/s]\u001b[A\n",
      " 86%|████████▋ | 44/51 [00:23<00:03,  1.88it/s]\u001b[A\n",
      " 88%|████████▊ | 45/51 [00:24<00:03,  1.88it/s]\u001b[A\n",
      " 90%|█████████ | 46/51 [00:25<00:02,  1.88it/s]\u001b[A\n",
      " 92%|█████████▏| 47/51 [00:25<00:02,  1.88it/s]\u001b[A\n",
      " 94%|█████████▍| 48/51 [00:26<00:01,  1.88it/s]\u001b[A\n",
      " 96%|█████████▌| 49/51 [00:26<00:01,  1.88it/s]\u001b[A\n",
      " 98%|█████████▊| 50/51 [00:27<00:00,  1.88it/s]\u001b[A\n",
      "100%|██████████| 51/51 [00:27<00:00,  2.29it/s]\u001b[A\n",
      "  0%|          | 0/2 [00:00<?, ?it/s]\u001b[A"
     ]
    },
    {
     "name": "stdout",
     "output_type": "stream",
     "text": [
      "Completed training for epoch 112, testing validation dataset\n"
     ]
    },
    {
     "name": "stderr",
     "output_type": "stream",
     "text": [
      "\n",
      " 50%|█████     | 1/2 [00:00<00:00,  1.65it/s]\u001b[A\n",
      "100%|██████████| 2/2 [00:00<00:00,  2.12it/s]\u001b[A\n",
      "  0%|          | 0/2 [00:00<?, ?it/s]\u001b[A"
     ]
    },
    {
     "name": "stdout",
     "output_type": "stream",
     "text": [
      "loss: 0.39220210909843445\n",
      "top1acc: 89.19994354248047\n",
      "Completed testing validation dataset for epoch 112, testing training dataset\n"
     ]
    },
    {
     "name": "stderr",
     "output_type": "stream",
     "text": [
      "\n",
      " 50%|█████     | 1/2 [00:00<00:00,  1.61it/s]\u001b[A\n",
      " 94%|█████████▍| 113/120 [54:55<03:24, 29.14s/it]\n",
      "  0%|          | 0/51 [00:00<?, ?it/s]\u001b[A"
     ]
    },
    {
     "name": "stdout",
     "output_type": "stream",
     "text": [
      "loss: 0.14316397905349731\n",
      "top1acc: 95.59999084472656\n",
      "Completed testing training dataset for epoch 112\n",
      "Starting epoch 113\n"
     ]
    },
    {
     "name": "stderr",
     "output_type": "stream",
     "text": [
      "\n",
      "  2%|▏         | 1/51 [00:01<00:51,  1.03s/it]\u001b[A\n",
      "  4%|▍         | 2/51 [00:01<00:43,  1.13it/s]\u001b[A\n",
      "  6%|▌         | 3/51 [00:02<00:37,  1.28it/s]\u001b[A\n",
      "  8%|▊         | 4/51 [00:02<00:33,  1.42it/s]\u001b[A\n",
      " 10%|▉         | 5/51 [00:03<00:30,  1.53it/s]\u001b[A\n",
      " 12%|█▏        | 6/51 [00:03<00:27,  1.62it/s]\u001b[A\n",
      " 14%|█▎        | 7/51 [00:04<00:26,  1.69it/s]\u001b[A\n",
      " 16%|█▌        | 8/51 [00:04<00:24,  1.74it/s]\u001b[A\n",
      " 18%|█▊        | 9/51 [00:05<00:23,  1.78it/s]\u001b[A\n",
      " 20%|█▉        | 10/51 [00:05<00:22,  1.81it/s]\u001b[A\n",
      " 22%|██▏       | 11/51 [00:06<00:21,  1.83it/s]\u001b[A\n",
      " 24%|██▎       | 12/51 [00:06<00:21,  1.84it/s]\u001b[A\n",
      " 25%|██▌       | 13/51 [00:07<00:20,  1.85it/s]\u001b[A\n",
      " 27%|██▋       | 14/51 [00:07<00:19,  1.86it/s]\u001b[A\n",
      " 29%|██▉       | 15/51 [00:08<00:19,  1.86it/s]\u001b[A\n",
      " 31%|███▏      | 16/51 [00:09<00:18,  1.87it/s]\u001b[A\n",
      " 33%|███▎      | 17/51 [00:09<00:18,  1.87it/s]\u001b[A\n",
      " 35%|███▌      | 18/51 [00:10<00:17,  1.87it/s]\u001b[A\n",
      " 37%|███▋      | 19/51 [00:10<00:17,  1.87it/s]\u001b[A\n",
      " 39%|███▉      | 20/51 [00:11<00:16,  1.87it/s]\u001b[A\n",
      " 41%|████      | 21/51 [00:11<00:16,  1.87it/s]\u001b[A\n",
      " 43%|████▎     | 22/51 [00:12<00:15,  1.88it/s]\u001b[A\n",
      " 45%|████▌     | 23/51 [00:12<00:14,  1.88it/s]\u001b[A\n",
      " 47%|████▋     | 24/51 [00:13<00:14,  1.88it/s]\u001b[A\n",
      " 49%|████▉     | 25/51 [00:13<00:13,  1.88it/s]\u001b[A\n",
      " 51%|█████     | 26/51 [00:14<00:13,  1.88it/s]\u001b[A\n",
      " 53%|█████▎    | 27/51 [00:14<00:12,  1.88it/s]\u001b[A\n",
      " 55%|█████▍    | 28/51 [00:15<00:12,  1.88it/s]\u001b[A\n",
      " 57%|█████▋    | 29/51 [00:15<00:11,  1.88it/s]\u001b[A\n",
      " 59%|█████▉    | 30/51 [00:16<00:11,  1.87it/s]\u001b[A\n",
      " 61%|██████    | 31/51 [00:17<00:10,  1.87it/s]\u001b[A\n",
      " 63%|██████▎   | 32/51 [00:17<00:10,  1.88it/s]\u001b[A\n",
      " 65%|██████▍   | 33/51 [00:18<00:09,  1.88it/s]\u001b[A\n",
      " 67%|██████▋   | 34/51 [00:18<00:09,  1.88it/s]\u001b[A\n",
      " 69%|██████▊   | 35/51 [00:19<00:08,  1.88it/s]\u001b[A\n",
      " 71%|███████   | 36/51 [00:19<00:08,  1.87it/s]\u001b[A\n",
      " 73%|███████▎  | 37/51 [00:20<00:07,  1.87it/s]\u001b[A\n",
      " 75%|███████▍  | 38/51 [00:20<00:06,  1.88it/s]\u001b[A\n",
      " 76%|███████▋  | 39/51 [00:21<00:06,  1.88it/s]\u001b[A\n",
      " 78%|███████▊  | 40/51 [00:21<00:05,  1.88it/s]\u001b[A\n",
      " 80%|████████  | 41/51 [00:22<00:05,  1.88it/s]\u001b[A\n",
      " 82%|████████▏ | 42/51 [00:22<00:04,  1.88it/s]\u001b[A\n",
      " 84%|████████▍ | 43/51 [00:23<00:04,  1.88it/s]\u001b[A\n",
      " 86%|████████▋ | 44/51 [00:23<00:03,  1.88it/s]\u001b[A\n",
      " 88%|████████▊ | 45/51 [00:24<00:03,  1.88it/s]\u001b[A\n",
      " 90%|█████████ | 46/51 [00:25<00:02,  1.88it/s]\u001b[A\n",
      " 92%|█████████▏| 47/51 [00:25<00:02,  1.88it/s]\u001b[A\n",
      " 94%|█████████▍| 48/51 [00:26<00:01,  1.88it/s]\u001b[A\n",
      " 96%|█████████▌| 49/51 [00:26<00:01,  1.88it/s]\u001b[A\n",
      " 98%|█████████▊| 50/51 [00:27<00:00,  1.88it/s]\u001b[A\n",
      "100%|██████████| 51/51 [00:27<00:00,  2.29it/s]\u001b[A\n",
      "  0%|          | 0/2 [00:00<?, ?it/s]\u001b[A"
     ]
    },
    {
     "name": "stdout",
     "output_type": "stream",
     "text": [
      "Completed training for epoch 113, testing validation dataset\n"
     ]
    },
    {
     "name": "stderr",
     "output_type": "stream",
     "text": [
      "\n",
      " 50%|█████     | 1/2 [00:00<00:00,  1.66it/s]\u001b[A\n",
      "100%|██████████| 2/2 [00:00<00:00,  2.14it/s]\u001b[A\n",
      "  0%|          | 0/2 [00:00<?, ?it/s]\u001b[A"
     ]
    },
    {
     "name": "stdout",
     "output_type": "stream",
     "text": [
      "loss: 0.39059051871299744\n",
      "top1acc: 88.40007019042969\n",
      "Completed testing validation dataset for epoch 113, testing training dataset\n"
     ]
    },
    {
     "name": "stderr",
     "output_type": "stream",
     "text": [
      "\n",
      " 50%|█████     | 1/2 [00:00<00:00,  1.74it/s]\u001b[A\n",
      " 95%|█████████▌| 114/120 [55:24<02:54, 29.13s/it]\n",
      "  0%|          | 0/51 [00:00<?, ?it/s]\u001b[A"
     ]
    },
    {
     "name": "stdout",
     "output_type": "stream",
     "text": [
      "loss: 0.1446521133184433\n",
      "top1acc: 94.79994201660156\n",
      "Completed testing training dataset for epoch 113\n",
      "Starting epoch 114\n"
     ]
    },
    {
     "name": "stderr",
     "output_type": "stream",
     "text": [
      "\n",
      "  2%|▏         | 1/51 [00:01<00:51,  1.03s/it]\u001b[A\n",
      "  4%|▍         | 2/51 [00:01<00:43,  1.14it/s]\u001b[A\n",
      "  6%|▌         | 3/51 [00:02<00:37,  1.29it/s]\u001b[A\n",
      "  8%|▊         | 4/51 [00:02<00:33,  1.42it/s]\u001b[A\n",
      " 10%|▉         | 5/51 [00:03<00:30,  1.53it/s]\u001b[A\n",
      " 12%|█▏        | 6/51 [00:03<00:27,  1.62it/s]\u001b[A\n",
      " 14%|█▎        | 7/51 [00:04<00:26,  1.69it/s]\u001b[A\n",
      " 16%|█▌        | 8/51 [00:04<00:24,  1.74it/s]\u001b[A\n",
      " 18%|█▊        | 9/51 [00:05<00:23,  1.78it/s]\u001b[A\n",
      " 20%|█▉        | 10/51 [00:05<00:22,  1.81it/s]\u001b[A\n",
      " 22%|██▏       | 11/51 [00:06<00:21,  1.83it/s]\u001b[A\n",
      " 24%|██▎       | 12/51 [00:06<00:21,  1.84it/s]\u001b[A\n",
      " 25%|██▌       | 13/51 [00:07<00:20,  1.85it/s]\u001b[A\n",
      " 27%|██▋       | 14/51 [00:07<00:19,  1.86it/s]\u001b[A\n",
      " 29%|██▉       | 15/51 [00:08<00:19,  1.86it/s]\u001b[A\n",
      " 31%|███▏      | 16/51 [00:09<00:18,  1.87it/s]\u001b[A\n",
      " 33%|███▎      | 17/51 [00:09<00:18,  1.87it/s]\u001b[A\n",
      " 35%|███▌      | 18/51 [00:10<00:17,  1.87it/s]\u001b[A\n",
      " 37%|███▋      | 19/51 [00:10<00:17,  1.87it/s]\u001b[A\n",
      " 39%|███▉      | 20/51 [00:11<00:16,  1.87it/s]\u001b[A\n",
      " 41%|████      | 21/51 [00:11<00:15,  1.88it/s]\u001b[A\n",
      " 43%|████▎     | 22/51 [00:12<00:15,  1.88it/s]\u001b[A\n",
      " 45%|████▌     | 23/51 [00:12<00:14,  1.87it/s]\u001b[A\n",
      " 47%|████▋     | 24/51 [00:13<00:14,  1.87it/s]\u001b[A\n",
      " 49%|████▉     | 25/51 [00:13<00:13,  1.87it/s]\u001b[A\n",
      " 51%|█████     | 26/51 [00:14<00:13,  1.88it/s]\u001b[A\n",
      " 53%|█████▎    | 27/51 [00:14<00:12,  1.88it/s]\u001b[A\n",
      " 55%|█████▍    | 28/51 [00:15<00:12,  1.88it/s]\u001b[A\n",
      " 57%|█████▋    | 29/51 [00:15<00:11,  1.88it/s]\u001b[A\n",
      " 59%|█████▉    | 30/51 [00:16<00:11,  1.88it/s]\u001b[A\n",
      " 61%|██████    | 31/51 [00:17<00:10,  1.88it/s]\u001b[A\n",
      " 63%|██████▎   | 32/51 [00:17<00:10,  1.88it/s]\u001b[A\n",
      " 65%|██████▍   | 33/51 [00:18<00:09,  1.88it/s]\u001b[A\n",
      " 67%|██████▋   | 34/51 [00:18<00:09,  1.87it/s]\u001b[A\n",
      " 69%|██████▊   | 35/51 [00:19<00:08,  1.88it/s]\u001b[A\n",
      " 71%|███████   | 36/51 [00:19<00:08,  1.87it/s]\u001b[A\n",
      " 73%|███████▎  | 37/51 [00:20<00:07,  1.88it/s]\u001b[A\n",
      " 75%|███████▍  | 38/51 [00:20<00:06,  1.88it/s]\u001b[A\n",
      " 76%|███████▋  | 39/51 [00:21<00:06,  1.87it/s]\u001b[A\n",
      " 78%|███████▊  | 40/51 [00:21<00:05,  1.88it/s]\u001b[A\n",
      " 80%|████████  | 41/51 [00:22<00:05,  1.88it/s]\u001b[A\n",
      " 82%|████████▏ | 42/51 [00:22<00:04,  1.88it/s]\u001b[A\n",
      " 84%|████████▍ | 43/51 [00:23<00:04,  1.88it/s]\u001b[A\n",
      " 86%|████████▋ | 44/51 [00:23<00:03,  1.88it/s]\u001b[A\n",
      " 88%|████████▊ | 45/51 [00:24<00:03,  1.88it/s]\u001b[A\n",
      " 90%|█████████ | 46/51 [00:25<00:02,  1.87it/s]\u001b[A\n",
      " 92%|█████████▏| 47/51 [00:25<00:02,  1.87it/s]\u001b[A\n",
      " 94%|█████████▍| 48/51 [00:26<00:01,  1.87it/s]\u001b[A\n",
      " 96%|█████████▌| 49/51 [00:26<00:01,  1.88it/s]\u001b[A\n",
      " 98%|█████████▊| 50/51 [00:27<00:00,  1.88it/s]\u001b[A\n",
      "100%|██████████| 51/51 [00:27<00:00,  2.29it/s]\u001b[A\n",
      "  0%|          | 0/2 [00:00<?, ?it/s]\u001b[A"
     ]
    },
    {
     "name": "stdout",
     "output_type": "stream",
     "text": [
      "Completed training for epoch 114, testing validation dataset\n"
     ]
    },
    {
     "name": "stderr",
     "output_type": "stream",
     "text": [
      "\n",
      " 50%|█████     | 1/2 [00:00<00:00,  1.68it/s]\u001b[A\n",
      "100%|██████████| 2/2 [00:00<00:00,  2.15it/s]\u001b[A\n",
      "  0%|          | 0/2 [00:00<?, ?it/s]\u001b[A"
     ]
    },
    {
     "name": "stdout",
     "output_type": "stream",
     "text": [
      "loss: 0.38881149888038635\n",
      "top1acc: 89.19994354248047\n",
      "Completed testing validation dataset for epoch 114, testing training dataset\n"
     ]
    },
    {
     "name": "stderr",
     "output_type": "stream",
     "text": [
      "\n",
      " 50%|█████     | 1/2 [00:00<00:00,  1.74it/s]\u001b[A\n",
      " 96%|█████████▌| 115/120 [55:53<02:25, 29.12s/it]\n",
      "  0%|          | 0/51 [00:00<?, ?it/s]\u001b[A"
     ]
    },
    {
     "name": "stdout",
     "output_type": "stream",
     "text": [
      "loss: 0.14207713305950165\n",
      "top1acc: 95.39999389648438\n",
      "Completed testing training dataset for epoch 114\n",
      "Starting epoch 115\n"
     ]
    },
    {
     "name": "stderr",
     "output_type": "stream",
     "text": [
      "\n",
      "  2%|▏         | 1/51 [00:01<00:51,  1.02s/it]\u001b[A\n",
      "  4%|▍         | 2/51 [00:01<00:42,  1.14it/s]\u001b[A\n",
      "  6%|▌         | 3/51 [00:02<00:37,  1.29it/s]\u001b[A\n",
      "  8%|▊         | 4/51 [00:02<00:33,  1.42it/s]\u001b[A\n",
      " 10%|▉         | 5/51 [00:03<00:30,  1.53it/s]\u001b[A\n",
      " 12%|█▏        | 6/51 [00:03<00:27,  1.62it/s]\u001b[A\n",
      " 14%|█▎        | 7/51 [00:04<00:26,  1.69it/s]\u001b[A\n",
      " 16%|█▌        | 8/51 [00:04<00:24,  1.74it/s]\u001b[A\n",
      " 18%|█▊        | 9/51 [00:05<00:23,  1.78it/s]\u001b[A\n",
      " 20%|█▉        | 10/51 [00:05<00:22,  1.81it/s]\u001b[A\n",
      " 22%|██▏       | 11/51 [00:06<00:21,  1.83it/s]\u001b[A\n",
      " 24%|██▎       | 12/51 [00:06<00:21,  1.84it/s]\u001b[A\n",
      " 25%|██▌       | 13/51 [00:07<00:20,  1.85it/s]\u001b[A\n",
      " 27%|██▋       | 14/51 [00:07<00:19,  1.86it/s]\u001b[A\n",
      " 29%|██▉       | 15/51 [00:08<00:19,  1.86it/s]\u001b[A\n",
      " 31%|███▏      | 16/51 [00:09<00:18,  1.86it/s]\u001b[A\n",
      " 33%|███▎      | 17/51 [00:09<00:18,  1.87it/s]\u001b[A\n",
      " 35%|███▌      | 18/51 [00:10<00:17,  1.87it/s]\u001b[A\n",
      " 37%|███▋      | 19/51 [00:10<00:17,  1.87it/s]\u001b[A\n",
      " 39%|███▉      | 20/51 [00:11<00:16,  1.87it/s]\u001b[A\n",
      " 41%|████      | 21/51 [00:11<00:16,  1.87it/s]\u001b[A\n",
      " 43%|████▎     | 22/51 [00:12<00:15,  1.87it/s]\u001b[A\n",
      " 45%|████▌     | 23/51 [00:12<00:14,  1.87it/s]\u001b[A\n",
      " 47%|████▋     | 24/51 [00:13<00:14,  1.87it/s]\u001b[A\n",
      " 49%|████▉     | 25/51 [00:13<00:13,  1.87it/s]\u001b[A\n",
      " 51%|█████     | 26/51 [00:14<00:13,  1.87it/s]\u001b[A\n",
      " 53%|█████▎    | 27/51 [00:14<00:12,  1.87it/s]\u001b[A\n",
      " 55%|█████▍    | 28/51 [00:15<00:12,  1.87it/s]\u001b[A\n",
      " 57%|█████▋    | 29/51 [00:15<00:11,  1.87it/s]\u001b[A\n",
      " 59%|█████▉    | 30/51 [00:16<00:11,  1.87it/s]\u001b[A\n",
      " 61%|██████    | 31/51 [00:17<00:10,  1.87it/s]\u001b[A\n",
      " 63%|██████▎   | 32/51 [00:17<00:10,  1.87it/s]\u001b[A\n",
      " 65%|██████▍   | 33/51 [00:18<00:09,  1.87it/s]\u001b[A\n",
      " 67%|██████▋   | 34/51 [00:18<00:09,  1.87it/s]\u001b[A\n",
      " 69%|██████▊   | 35/51 [00:19<00:08,  1.87it/s]\u001b[A\n",
      " 71%|███████   | 36/51 [00:19<00:08,  1.87it/s]\u001b[A\n",
      " 73%|███████▎  | 37/51 [00:20<00:07,  1.88it/s]\u001b[A\n",
      " 75%|███████▍  | 38/51 [00:20<00:06,  1.88it/s]\u001b[A\n",
      " 76%|███████▋  | 39/51 [00:21<00:06,  1.88it/s]\u001b[A\n",
      " 78%|███████▊  | 40/51 [00:21<00:05,  1.88it/s]\u001b[A\n",
      " 80%|████████  | 41/51 [00:22<00:05,  1.87it/s]\u001b[A\n",
      " 82%|████████▏ | 42/51 [00:22<00:04,  1.88it/s]\u001b[A\n",
      " 84%|████████▍ | 43/51 [00:23<00:04,  1.88it/s]\u001b[A\n",
      " 86%|████████▋ | 44/51 [00:23<00:03,  1.88it/s]\u001b[A\n",
      " 88%|████████▊ | 45/51 [00:24<00:03,  1.88it/s]\u001b[A\n",
      " 90%|█████████ | 46/51 [00:25<00:02,  1.88it/s]\u001b[A\n",
      " 92%|█████████▏| 47/51 [00:25<00:02,  1.88it/s]\u001b[A\n",
      " 94%|█████████▍| 48/51 [00:26<00:01,  1.88it/s]\u001b[A\n",
      " 96%|█████████▌| 49/51 [00:26<00:01,  1.88it/s]\u001b[A\n",
      " 98%|█████████▊| 50/51 [00:27<00:00,  1.88it/s]\u001b[A\n",
      "100%|██████████| 51/51 [00:27<00:00,  2.29it/s]\u001b[A\n",
      "  0%|          | 0/2 [00:00<?, ?it/s]\u001b[A"
     ]
    },
    {
     "name": "stdout",
     "output_type": "stream",
     "text": [
      "Completed training for epoch 115, testing validation dataset\n"
     ]
    },
    {
     "name": "stderr",
     "output_type": "stream",
     "text": [
      "\n",
      " 50%|█████     | 1/2 [00:00<00:00,  1.71it/s]\u001b[A\n",
      "100%|██████████| 2/2 [00:00<00:00,  2.19it/s]\u001b[A\n",
      "  0%|          | 0/2 [00:00<?, ?it/s]\u001b[A"
     ]
    },
    {
     "name": "stdout",
     "output_type": "stream",
     "text": [
      "loss: 0.3842807710170746\n",
      "top1acc: 88.99993133544922\n",
      "Completed testing validation dataset for epoch 115, testing training dataset\n"
     ]
    },
    {
     "name": "stderr",
     "output_type": "stream",
     "text": [
      "\n",
      " 50%|█████     | 1/2 [00:00<00:00,  1.70it/s]\u001b[A\n",
      " 97%|█████████▋| 116/120 [56:22<01:56, 29.12s/it]\n",
      "  0%|          | 0/51 [00:00<?, ?it/s]\u001b[A"
     ]
    },
    {
     "name": "stdout",
     "output_type": "stream",
     "text": [
      "loss: 0.1332586705684662\n",
      "top1acc: 95.60001373291016\n",
      "Completed testing training dataset for epoch 115\n",
      "Starting epoch 116\n"
     ]
    },
    {
     "name": "stderr",
     "output_type": "stream",
     "text": [
      "\n",
      "  2%|▏         | 1/51 [00:01<00:51,  1.02s/it]\u001b[A\n",
      "  4%|▍         | 2/51 [00:01<00:42,  1.14it/s]\u001b[A\n",
      "  6%|▌         | 3/51 [00:02<00:37,  1.29it/s]\u001b[A\n",
      "  8%|▊         | 4/51 [00:02<00:32,  1.43it/s]\u001b[A\n",
      " 10%|▉         | 5/51 [00:03<00:29,  1.54it/s]\u001b[A\n",
      " 12%|█▏        | 6/51 [00:03<00:27,  1.62it/s]\u001b[A\n",
      " 14%|█▎        | 7/51 [00:04<00:25,  1.69it/s]\u001b[A\n",
      " 16%|█▌        | 8/51 [00:04<00:24,  1.75it/s]\u001b[A\n",
      " 18%|█▊        | 9/51 [00:05<00:23,  1.78it/s]\u001b[A\n",
      " 20%|█▉        | 10/51 [00:05<00:22,  1.81it/s]\u001b[A\n",
      " 22%|██▏       | 11/51 [00:06<00:21,  1.83it/s]\u001b[A\n",
      " 24%|██▎       | 12/51 [00:06<00:21,  1.84it/s]\u001b[A\n",
      " 25%|██▌       | 13/51 [00:07<00:20,  1.85it/s]\u001b[A\n",
      " 27%|██▋       | 14/51 [00:07<00:19,  1.86it/s]\u001b[A\n",
      " 29%|██▉       | 15/51 [00:08<00:19,  1.86it/s]\u001b[A\n",
      " 31%|███▏      | 16/51 [00:09<00:18,  1.86it/s]\u001b[A\n",
      " 33%|███▎      | 17/51 [00:09<00:18,  1.87it/s]\u001b[A\n",
      " 35%|███▌      | 18/51 [00:10<00:17,  1.87it/s]\u001b[A\n",
      " 37%|███▋      | 19/51 [00:10<00:17,  1.87it/s]\u001b[A\n",
      " 39%|███▉      | 20/51 [00:11<00:16,  1.87it/s]\u001b[A\n",
      " 41%|████      | 21/51 [00:11<00:16,  1.87it/s]\u001b[A\n",
      " 43%|████▎     | 22/51 [00:12<00:15,  1.88it/s]\u001b[A\n",
      " 45%|████▌     | 23/51 [00:12<00:14,  1.88it/s]\u001b[A\n",
      " 47%|████▋     | 24/51 [00:13<00:14,  1.88it/s]\u001b[A\n",
      " 49%|████▉     | 25/51 [00:13<00:13,  1.88it/s]\u001b[A\n",
      " 51%|█████     | 26/51 [00:14<00:13,  1.88it/s]\u001b[A\n",
      " 53%|█████▎    | 27/51 [00:14<00:12,  1.88it/s]\u001b[A\n",
      " 55%|█████▍    | 28/51 [00:15<00:12,  1.88it/s]\u001b[A\n",
      " 57%|█████▋    | 29/51 [00:15<00:11,  1.88it/s]\u001b[A\n",
      " 59%|█████▉    | 30/51 [00:16<00:11,  1.88it/s]\u001b[A\n",
      " 61%|██████    | 31/51 [00:17<00:10,  1.88it/s]\u001b[A\n",
      " 63%|██████▎   | 32/51 [00:17<00:10,  1.88it/s]\u001b[A\n",
      " 65%|██████▍   | 33/51 [00:18<00:09,  1.88it/s]\u001b[A\n",
      " 67%|██████▋   | 34/51 [00:18<00:09,  1.88it/s]\u001b[A\n",
      " 69%|██████▊   | 35/51 [00:19<00:08,  1.88it/s]\u001b[A\n",
      " 71%|███████   | 36/51 [00:19<00:08,  1.87it/s]\u001b[A\n",
      " 73%|███████▎  | 37/51 [00:20<00:07,  1.88it/s]\u001b[A\n",
      " 75%|███████▍  | 38/51 [00:20<00:06,  1.88it/s]\u001b[A\n",
      " 76%|███████▋  | 39/51 [00:21<00:06,  1.88it/s]\u001b[A\n",
      " 78%|███████▊  | 40/51 [00:21<00:05,  1.88it/s]\u001b[A\n",
      " 80%|████████  | 41/51 [00:22<00:05,  1.87it/s]\u001b[A\n",
      " 82%|████████▏ | 42/51 [00:22<00:04,  1.87it/s]\u001b[A\n",
      " 84%|████████▍ | 43/51 [00:23<00:04,  1.87it/s]\u001b[A\n",
      " 86%|████████▋ | 44/51 [00:23<00:03,  1.88it/s]\u001b[A\n",
      " 88%|████████▊ | 45/51 [00:24<00:03,  1.88it/s]\u001b[A\n",
      " 90%|█████████ | 46/51 [00:25<00:02,  1.88it/s]\u001b[A\n",
      " 92%|█████████▏| 47/51 [00:25<00:02,  1.87it/s]\u001b[A\n",
      " 94%|█████████▍| 48/51 [00:26<00:01,  1.87it/s]\u001b[A\n",
      " 96%|█████████▌| 49/51 [00:26<00:01,  1.88it/s]\u001b[A\n",
      " 98%|█████████▊| 50/51 [00:27<00:00,  1.88it/s]\u001b[A\n",
      "100%|██████████| 51/51 [00:27<00:00,  2.29it/s]\u001b[A\n",
      "  0%|          | 0/2 [00:00<?, ?it/s]\u001b[A"
     ]
    },
    {
     "name": "stdout",
     "output_type": "stream",
     "text": [
      "Completed training for epoch 116, testing validation dataset\n"
     ]
    },
    {
     "name": "stderr",
     "output_type": "stream",
     "text": [
      "\n",
      " 50%|█████     | 1/2 [00:00<00:00,  1.58it/s]\u001b[A\n",
      "100%|██████████| 2/2 [00:00<00:00,  2.04it/s]\u001b[A\n",
      "  0%|          | 0/2 [00:00<?, ?it/s]\u001b[A"
     ]
    },
    {
     "name": "stdout",
     "output_type": "stream",
     "text": [
      "loss: 0.3806011378765106\n",
      "top1acc: 89.39994812011719\n",
      "Completed testing validation dataset for epoch 116, testing training dataset\n"
     ]
    },
    {
     "name": "stderr",
     "output_type": "stream",
     "text": [
      "\n",
      " 50%|█████     | 1/2 [00:00<00:00,  1.58it/s]\u001b[A\n",
      " 98%|█████████▊| 117/120 [56:52<01:27, 29.14s/it]\n",
      "  0%|          | 0/51 [00:00<?, ?it/s]\u001b[A"
     ]
    },
    {
     "name": "stdout",
     "output_type": "stream",
     "text": [
      "loss: 0.1348140984773636\n",
      "top1acc: 95.79999542236328\n",
      "Completed testing training dataset for epoch 116\n",
      "Starting epoch 117\n"
     ]
    },
    {
     "name": "stderr",
     "output_type": "stream",
     "text": [
      "\n",
      "  2%|▏         | 1/51 [00:01<00:52,  1.05s/it]\u001b[A\n",
      "  4%|▍         | 2/51 [00:01<00:43,  1.11it/s]\u001b[A\n",
      "  6%|▌         | 3/51 [00:02<00:37,  1.27it/s]\u001b[A\n",
      "  8%|▊         | 4/51 [00:02<00:33,  1.40it/s]\u001b[A\n",
      " 10%|▉         | 5/51 [00:03<00:30,  1.52it/s]\u001b[A\n",
      " 12%|█▏        | 6/51 [00:03<00:28,  1.61it/s]\u001b[A\n",
      " 14%|█▎        | 7/51 [00:04<00:26,  1.68it/s]\u001b[A\n",
      " 16%|█▌        | 8/51 [00:04<00:24,  1.74it/s]\u001b[A\n",
      " 18%|█▊        | 9/51 [00:05<00:23,  1.77it/s]\u001b[A\n",
      " 20%|█▉        | 10/51 [00:05<00:22,  1.80it/s]\u001b[A\n",
      " 22%|██▏       | 11/51 [00:06<00:21,  1.83it/s]\u001b[A\n",
      " 24%|██▎       | 12/51 [00:06<00:21,  1.84it/s]\u001b[A\n",
      " 25%|██▌       | 13/51 [00:07<00:20,  1.85it/s]\u001b[A\n",
      " 27%|██▋       | 14/51 [00:07<00:19,  1.86it/s]\u001b[A\n",
      " 29%|██▉       | 15/51 [00:08<00:19,  1.86it/s]\u001b[A\n",
      " 31%|███▏      | 16/51 [00:09<00:18,  1.87it/s]\u001b[A\n",
      " 33%|███▎      | 17/51 [00:09<00:18,  1.87it/s]\u001b[A\n",
      " 35%|███▌      | 18/51 [00:10<00:17,  1.87it/s]\u001b[A\n",
      " 37%|███▋      | 19/51 [00:10<00:17,  1.87it/s]\u001b[A\n",
      " 39%|███▉      | 20/51 [00:11<00:16,  1.88it/s]\u001b[A\n",
      " 41%|████      | 21/51 [00:11<00:15,  1.88it/s]\u001b[A\n",
      " 43%|████▎     | 22/51 [00:12<00:15,  1.88it/s]\u001b[A\n",
      " 45%|████▌     | 23/51 [00:12<00:14,  1.88it/s]\u001b[A\n",
      " 47%|████▋     | 24/51 [00:13<00:14,  1.88it/s]\u001b[A\n",
      " 49%|████▉     | 25/51 [00:13<00:13,  1.88it/s]\u001b[A\n",
      " 51%|█████     | 26/51 [00:14<00:13,  1.88it/s]\u001b[A\n",
      " 53%|█████▎    | 27/51 [00:14<00:12,  1.88it/s]\u001b[A\n",
      " 55%|█████▍    | 28/51 [00:15<00:12,  1.88it/s]\u001b[A\n",
      " 57%|█████▋    | 29/51 [00:15<00:11,  1.88it/s]\u001b[A\n",
      " 59%|█████▉    | 30/51 [00:16<00:11,  1.88it/s]\u001b[A\n",
      " 61%|██████    | 31/51 [00:17<00:10,  1.88it/s]\u001b[A\n",
      " 63%|██████▎   | 32/51 [00:17<00:10,  1.88it/s]\u001b[A\n",
      " 65%|██████▍   | 33/51 [00:18<00:09,  1.88it/s]\u001b[A\n",
      " 67%|██████▋   | 34/51 [00:18<00:09,  1.88it/s]\u001b[A\n",
      " 69%|██████▊   | 35/51 [00:19<00:08,  1.88it/s]\u001b[A\n",
      " 71%|███████   | 36/51 [00:19<00:07,  1.88it/s]\u001b[A\n",
      " 73%|███████▎  | 37/51 [00:20<00:07,  1.88it/s]\u001b[A\n",
      " 75%|███████▍  | 38/51 [00:20<00:06,  1.88it/s]\u001b[A\n",
      " 76%|███████▋  | 39/51 [00:21<00:06,  1.87it/s]\u001b[A\n",
      " 78%|███████▊  | 40/51 [00:21<00:05,  1.88it/s]\u001b[A\n",
      " 80%|████████  | 41/51 [00:22<00:05,  1.87it/s]\u001b[A\n",
      " 82%|████████▏ | 42/51 [00:22<00:04,  1.88it/s]\u001b[A\n",
      " 84%|████████▍ | 43/51 [00:23<00:04,  1.88it/s]\u001b[A\n",
      " 86%|████████▋ | 44/51 [00:23<00:03,  1.88it/s]\u001b[A\n",
      " 88%|████████▊ | 45/51 [00:24<00:03,  1.88it/s]\u001b[A\n",
      " 90%|█████████ | 46/51 [00:25<00:02,  1.88it/s]\u001b[A\n",
      " 92%|█████████▏| 47/51 [00:25<00:02,  1.88it/s]\u001b[A\n",
      " 94%|█████████▍| 48/51 [00:26<00:01,  1.88it/s]\u001b[A\n",
      " 96%|█████████▌| 49/51 [00:26<00:01,  1.88it/s]\u001b[A\n",
      " 98%|█████████▊| 50/51 [00:27<00:00,  1.88it/s]\u001b[A\n",
      "100%|██████████| 51/51 [00:27<00:00,  2.29it/s]\u001b[A\n",
      "  0%|          | 0/2 [00:00<?, ?it/s]\u001b[A"
     ]
    },
    {
     "name": "stdout",
     "output_type": "stream",
     "text": [
      "Completed training for epoch 117, testing validation dataset\n"
     ]
    },
    {
     "name": "stderr",
     "output_type": "stream",
     "text": [
      "\n",
      " 50%|█████     | 1/2 [00:00<00:00,  1.64it/s]\u001b[A\n",
      "100%|██████████| 2/2 [00:00<00:00,  2.11it/s]\u001b[A\n",
      "  0%|          | 0/2 [00:00<?, ?it/s]\u001b[A"
     ]
    },
    {
     "name": "stdout",
     "output_type": "stream",
     "text": [
      "loss: 0.37968018651008606\n",
      "top1acc: 88.59993743896484\n",
      "Completed testing validation dataset for epoch 117, testing training dataset\n"
     ]
    },
    {
     "name": "stderr",
     "output_type": "stream",
     "text": [
      "\n",
      " 50%|█████     | 1/2 [00:00<00:00,  1.65it/s]\u001b[A\n",
      " 98%|█████████▊| 118/120 [57:21<00:58, 29.14s/it]\n",
      "  0%|          | 0/51 [00:00<?, ?it/s]\u001b[A"
     ]
    },
    {
     "name": "stdout",
     "output_type": "stream",
     "text": [
      "loss: 0.13960713148117065\n",
      "top1acc: 95.5999755859375\n",
      "Completed testing training dataset for epoch 117\n",
      "Starting epoch 118\n"
     ]
    },
    {
     "name": "stderr",
     "output_type": "stream",
     "text": [
      "\n",
      "  2%|▏         | 1/51 [00:01<00:51,  1.03s/it]\u001b[A\n",
      "  4%|▍         | 2/51 [00:01<00:43,  1.13it/s]\u001b[A\n",
      "  6%|▌         | 3/51 [00:02<00:37,  1.29it/s]\u001b[A\n",
      "  8%|▊         | 4/51 [00:02<00:33,  1.42it/s]\u001b[A\n",
      " 10%|▉         | 5/51 [00:03<00:30,  1.53it/s]\u001b[A\n",
      " 12%|█▏        | 6/51 [00:03<00:27,  1.62it/s]\u001b[A\n",
      " 14%|█▎        | 7/51 [00:04<00:26,  1.69it/s]\u001b[A\n",
      " 16%|█▌        | 8/51 [00:04<00:24,  1.74it/s]\u001b[A\n",
      " 18%|█▊        | 9/51 [00:05<00:23,  1.78it/s]\u001b[A\n",
      " 20%|█▉        | 10/51 [00:05<00:22,  1.80it/s]\u001b[A\n",
      " 22%|██▏       | 11/51 [00:06<00:21,  1.82it/s]\u001b[A\n",
      " 24%|██▎       | 12/51 [00:06<00:21,  1.84it/s]\u001b[A\n",
      " 25%|██▌       | 13/51 [00:07<00:20,  1.85it/s]\u001b[A\n",
      " 27%|██▋       | 14/51 [00:07<00:19,  1.86it/s]\u001b[A\n",
      " 29%|██▉       | 15/51 [00:08<00:19,  1.86it/s]\u001b[A\n",
      " 31%|███▏      | 16/51 [00:09<00:18,  1.87it/s]\u001b[A\n",
      " 33%|███▎      | 17/51 [00:09<00:18,  1.87it/s]\u001b[A\n",
      " 35%|███▌      | 18/51 [00:10<00:17,  1.87it/s]\u001b[A\n",
      " 37%|███▋      | 19/51 [00:10<00:17,  1.87it/s]\u001b[A\n",
      " 39%|███▉      | 20/51 [00:11<00:16,  1.87it/s]\u001b[A\n",
      " 41%|████      | 21/51 [00:11<00:16,  1.87it/s]\u001b[A\n",
      " 43%|████▎     | 22/51 [00:12<00:15,  1.88it/s]\u001b[A\n",
      " 45%|████▌     | 23/51 [00:12<00:14,  1.88it/s]\u001b[A\n",
      " 47%|████▋     | 24/51 [00:13<00:14,  1.88it/s]\u001b[A\n",
      " 49%|████▉     | 25/51 [00:13<00:13,  1.88it/s]\u001b[A\n",
      " 51%|█████     | 26/51 [00:14<00:13,  1.88it/s]\u001b[A\n",
      " 53%|█████▎    | 27/51 [00:14<00:12,  1.88it/s]\u001b[A\n",
      " 55%|█████▍    | 28/51 [00:15<00:12,  1.88it/s]\u001b[A\n",
      " 57%|█████▋    | 29/51 [00:15<00:11,  1.87it/s]\u001b[A\n",
      " 59%|█████▉    | 30/51 [00:16<00:11,  1.87it/s]\u001b[A\n",
      " 61%|██████    | 31/51 [00:17<00:10,  1.87it/s]\u001b[A\n",
      " 63%|██████▎   | 32/51 [00:17<00:10,  1.87it/s]\u001b[A\n",
      " 65%|██████▍   | 33/51 [00:18<00:09,  1.87it/s]\u001b[A\n",
      " 67%|██████▋   | 34/51 [00:18<00:09,  1.88it/s]\u001b[A\n",
      " 69%|██████▊   | 35/51 [00:19<00:08,  1.87it/s]\u001b[A\n",
      " 71%|███████   | 36/51 [00:19<00:07,  1.88it/s]\u001b[A\n",
      " 73%|███████▎  | 37/51 [00:20<00:07,  1.88it/s]\u001b[A\n",
      " 75%|███████▍  | 38/51 [00:20<00:06,  1.88it/s]\u001b[A\n",
      " 76%|███████▋  | 39/51 [00:21<00:06,  1.88it/s]\u001b[A\n",
      " 78%|███████▊  | 40/51 [00:21<00:05,  1.87it/s]\u001b[A\n",
      " 80%|████████  | 41/51 [00:22<00:05,  1.88it/s]\u001b[A\n",
      " 82%|████████▏ | 42/51 [00:22<00:04,  1.88it/s]\u001b[A\n",
      " 84%|████████▍ | 43/51 [00:23<00:04,  1.88it/s]\u001b[A\n",
      " 86%|████████▋ | 44/51 [00:23<00:03,  1.88it/s]\u001b[A\n",
      " 88%|████████▊ | 45/51 [00:24<00:03,  1.88it/s]\u001b[A\n",
      " 90%|█████████ | 46/51 [00:25<00:02,  1.88it/s]\u001b[A\n",
      " 92%|█████████▏| 47/51 [00:25<00:02,  1.88it/s]\u001b[A\n",
      " 94%|█████████▍| 48/51 [00:26<00:01,  1.88it/s]\u001b[A\n",
      " 96%|█████████▌| 49/51 [00:26<00:01,  1.88it/s]\u001b[A\n",
      " 98%|█████████▊| 50/51 [00:27<00:00,  1.88it/s]\u001b[A\n",
      "100%|██████████| 51/51 [00:27<00:00,  2.28it/s]\u001b[A\n",
      "  0%|          | 0/2 [00:00<?, ?it/s]\u001b[A"
     ]
    },
    {
     "name": "stdout",
     "output_type": "stream",
     "text": [
      "Completed training for epoch 118, testing validation dataset\n"
     ]
    },
    {
     "name": "stderr",
     "output_type": "stream",
     "text": [
      "\n",
      " 50%|█████     | 1/2 [00:00<00:00,  1.65it/s]\u001b[A\n",
      "100%|██████████| 2/2 [00:00<00:00,  2.12it/s]\u001b[A\n",
      "  0%|          | 0/2 [00:00<?, ?it/s]\u001b[A"
     ]
    },
    {
     "name": "stdout",
     "output_type": "stream",
     "text": [
      "loss: 0.3836105167865753\n",
      "top1acc: 89.1999740600586\n",
      "Completed testing validation dataset for epoch 118, testing training dataset\n"
     ]
    },
    {
     "name": "stderr",
     "output_type": "stream",
     "text": [
      "\n",
      " 50%|█████     | 1/2 [00:00<00:00,  1.74it/s]\u001b[A\n",
      " 99%|█████████▉| 119/120 [57:50<00:29, 29.13s/it]\n",
      "  0%|          | 0/51 [00:00<?, ?it/s]\u001b[A"
     ]
    },
    {
     "name": "stdout",
     "output_type": "stream",
     "text": [
      "loss: 0.1363842934370041\n",
      "top1acc: 95.79998016357422\n",
      "Completed testing training dataset for epoch 118\n",
      "Starting epoch 119\n"
     ]
    },
    {
     "name": "stderr",
     "output_type": "stream",
     "text": [
      "\n",
      "  2%|▏         | 1/51 [00:01<00:51,  1.04s/it]\u001b[A\n",
      "  4%|▍         | 2/51 [00:01<00:43,  1.13it/s]\u001b[A\n",
      "  6%|▌         | 3/51 [00:02<00:37,  1.28it/s]\u001b[A\n",
      "  8%|▊         | 4/51 [00:02<00:33,  1.42it/s]\u001b[A\n",
      " 10%|▉         | 5/51 [00:03<00:30,  1.53it/s]\u001b[A\n",
      " 12%|█▏        | 6/51 [00:03<00:27,  1.62it/s]\u001b[A\n",
      " 14%|█▎        | 7/51 [00:04<00:26,  1.69it/s]\u001b[A\n",
      " 16%|█▌        | 8/51 [00:04<00:24,  1.74it/s]\u001b[A\n",
      " 18%|█▊        | 9/51 [00:05<00:23,  1.78it/s]\u001b[A\n",
      " 20%|█▉        | 10/51 [00:05<00:22,  1.81it/s]\u001b[A\n",
      " 22%|██▏       | 11/51 [00:06<00:21,  1.83it/s]\u001b[A\n",
      " 24%|██▎       | 12/51 [00:06<00:21,  1.84it/s]\u001b[A\n",
      " 25%|██▌       | 13/51 [00:07<00:20,  1.85it/s]\u001b[A\n",
      " 27%|██▋       | 14/51 [00:07<00:19,  1.86it/s]\u001b[A\n",
      " 29%|██▉       | 15/51 [00:08<00:19,  1.86it/s]\u001b[A\n",
      " 31%|███▏      | 16/51 [00:09<00:18,  1.87it/s]\u001b[A\n",
      " 33%|███▎      | 17/51 [00:09<00:18,  1.86it/s]\u001b[A\n",
      " 35%|███▌      | 18/51 [00:10<00:17,  1.86it/s]\u001b[A\n",
      " 37%|███▋      | 19/51 [00:10<00:17,  1.86it/s]\u001b[A\n",
      " 39%|███▉      | 20/51 [00:11<00:16,  1.87it/s]\u001b[A\n",
      " 41%|████      | 21/51 [00:11<00:16,  1.87it/s]\u001b[A\n",
      " 43%|████▎     | 22/51 [00:12<00:15,  1.87it/s]\u001b[A\n",
      " 45%|████▌     | 23/51 [00:12<00:14,  1.87it/s]\u001b[A\n",
      " 47%|████▋     | 24/51 [00:13<00:14,  1.88it/s]\u001b[A\n",
      " 49%|████▉     | 25/51 [00:13<00:13,  1.88it/s]\u001b[A\n",
      " 51%|█████     | 26/51 [00:14<00:13,  1.88it/s]\u001b[A\n",
      " 53%|█████▎    | 27/51 [00:14<00:12,  1.88it/s]\u001b[A\n",
      " 55%|█████▍    | 28/51 [00:15<00:12,  1.88it/s]\u001b[A\n",
      " 57%|█████▋    | 29/51 [00:15<00:11,  1.88it/s]\u001b[A\n",
      " 59%|█████▉    | 30/51 [00:16<00:11,  1.88it/s]\u001b[A\n",
      " 61%|██████    | 31/51 [00:17<00:10,  1.88it/s]\u001b[A\n",
      " 63%|██████▎   | 32/51 [00:17<00:10,  1.88it/s]\u001b[A\n",
      " 65%|██████▍   | 33/51 [00:18<00:09,  1.88it/s]\u001b[A\n",
      " 67%|██████▋   | 34/51 [00:18<00:09,  1.88it/s]\u001b[A\n",
      " 69%|██████▊   | 35/51 [00:19<00:08,  1.88it/s]\u001b[A\n",
      " 71%|███████   | 36/51 [00:19<00:07,  1.88it/s]\u001b[A\n",
      " 73%|███████▎  | 37/51 [00:20<00:07,  1.88it/s]\u001b[A\n",
      " 75%|███████▍  | 38/51 [00:20<00:06,  1.88it/s]\u001b[A\n",
      " 76%|███████▋  | 39/51 [00:21<00:06,  1.88it/s]\u001b[A\n",
      " 78%|███████▊  | 40/51 [00:21<00:05,  1.88it/s]\u001b[A\n",
      " 80%|████████  | 41/51 [00:22<00:05,  1.88it/s]\u001b[A\n",
      " 82%|████████▏ | 42/51 [00:22<00:04,  1.88it/s]\u001b[A\n",
      " 84%|████████▍ | 43/51 [00:23<00:04,  1.88it/s]\u001b[A\n",
      " 86%|████████▋ | 44/51 [00:23<00:03,  1.88it/s]\u001b[A\n",
      " 88%|████████▊ | 45/51 [00:24<00:03,  1.87it/s]\u001b[A\n",
      " 90%|█████████ | 46/51 [00:25<00:02,  1.87it/s]\u001b[A\n",
      " 92%|█████████▏| 47/51 [00:25<00:02,  1.87it/s]\u001b[A\n",
      " 94%|█████████▍| 48/51 [00:26<00:01,  1.88it/s]\u001b[A\n",
      " 96%|█████████▌| 49/51 [00:26<00:01,  1.88it/s]\u001b[A\n",
      " 98%|█████████▊| 50/51 [00:27<00:00,  1.88it/s]\u001b[A\n",
      "100%|██████████| 51/51 [00:27<00:00,  2.29it/s]\u001b[A\n",
      "  0%|          | 0/2 [00:00<?, ?it/s]\u001b[A"
     ]
    },
    {
     "name": "stdout",
     "output_type": "stream",
     "text": [
      "Completed training for epoch 119, testing validation dataset\n"
     ]
    },
    {
     "name": "stderr",
     "output_type": "stream",
     "text": [
      "\n",
      " 50%|█████     | 1/2 [00:00<00:00,  1.64it/s]\u001b[A\n",
      "100%|██████████| 2/2 [00:00<00:00,  2.11it/s]\u001b[A\n",
      "  0%|          | 0/2 [00:00<?, ?it/s]\u001b[A"
     ]
    },
    {
     "name": "stdout",
     "output_type": "stream",
     "text": [
      "loss: 0.3852517306804657\n",
      "top1acc: 89.1999740600586\n",
      "Completed testing validation dataset for epoch 119, testing training dataset\n"
     ]
    },
    {
     "name": "stderr",
     "output_type": "stream",
     "text": [
      "\n",
      " 50%|█████     | 1/2 [00:00<00:00,  1.65it/s]\u001b[A\n",
      "100%|██████████| 120/120 [58:19<00:00, 29.14s/it]"
     ]
    },
    {
     "name": "stdout",
     "output_type": "stream",
     "text": [
      "loss: 0.1325506567955017\n",
      "top1acc: 95.5999755859375\n",
      "Completed testing training dataset for epoch 119\n",
      "Finished pruning, saving model to /home/mark/neuralmagic/Shared/neuralmagicml-pytorch/notebooks/ResNet-2019.08.11.11.59.07.pth\n"
     ]
    },
    {
     "name": "stderr",
     "output_type": "stream",
     "text": [
      "\n"
     ]
    },
    {
     "ename": "NameError",
     "evalue": "name 'save_model' is not defined",
     "output_type": "error",
     "traceback": [
      "\u001b[0;31m---------------------------------------------------------------------------\u001b[0m",
      "\u001b[0;31mNameError\u001b[0m                                 Traceback (most recent call last)",
      "\u001b[0;32m<ipython-input-9-5e349593d548>\u001b[0m in \u001b[0;36m<module>\u001b[0;34m\u001b[0m\n\u001b[1;32m     81\u001b[0m \u001b[0mpruned_save_path\u001b[0m \u001b[0;34m=\u001b[0m \u001b[0mos\u001b[0m\u001b[0;34m.\u001b[0m\u001b[0mpath\u001b[0m\u001b[0;34m.\u001b[0m\u001b[0mabspath\u001b[0m\u001b[0;34m(\u001b[0m\u001b[0mos\u001b[0m\u001b[0;34m.\u001b[0m\u001b[0mpath\u001b[0m\u001b[0;34m.\u001b[0m\u001b[0mexpanduser\u001b[0m\u001b[0;34m(\u001b[0m\u001b[0mos\u001b[0m\u001b[0;34m.\u001b[0m\u001b[0mpath\u001b[0m\u001b[0;34m.\u001b[0m\u001b[0mjoin\u001b[0m\u001b[0;34m(\u001b[0m\u001b[0;34m'.'\u001b[0m\u001b[0;34m,\u001b[0m \u001b[0;34m'{}.pth'\u001b[0m\u001b[0;34m.\u001b[0m\u001b[0mformat\u001b[0m\u001b[0;34m(\u001b[0m\u001b[0mmodel_id\u001b[0m\u001b[0;34m)\u001b[0m\u001b[0;34m)\u001b[0m\u001b[0;34m)\u001b[0m\u001b[0;34m)\u001b[0m\u001b[0;34m\u001b[0m\u001b[0;34m\u001b[0m\u001b[0m\n\u001b[1;32m     82\u001b[0m \u001b[0mprint\u001b[0m\u001b[0;34m(\u001b[0m\u001b[0;34m'Finished pruning, saving model to {}'\u001b[0m\u001b[0;34m.\u001b[0m\u001b[0mformat\u001b[0m\u001b[0;34m(\u001b[0m\u001b[0mpruned_save_path\u001b[0m\u001b[0;34m)\u001b[0m\u001b[0;34m)\u001b[0m\u001b[0;34m\u001b[0m\u001b[0;34m\u001b[0m\u001b[0m\n\u001b[0;32m---> 83\u001b[0;31m \u001b[0msave_model\u001b[0m\u001b[0;34m(\u001b[0m\u001b[0mpruned_save_path\u001b[0m\u001b[0;34m,\u001b[0m \u001b[0mmodel\u001b[0m\u001b[0;34m,\u001b[0m \u001b[0moptimizer\u001b[0m\u001b[0;34m,\u001b[0m \u001b[0mepoch\u001b[0m\u001b[0;34m)\u001b[0m\u001b[0;34m\u001b[0m\u001b[0;34m\u001b[0m\u001b[0m\n\u001b[0m\u001b[1;32m     84\u001b[0m \u001b[0mprint\u001b[0m\u001b[0;34m(\u001b[0m\u001b[0;34m'Saved model'\u001b[0m\u001b[0;34m)\u001b[0m\u001b[0;34m\u001b[0m\u001b[0;34m\u001b[0m\u001b[0m\n",
      "\u001b[0;31mNameError\u001b[0m: name 'save_model' is not defined"
     ]
    }
   ],
   "source": [
    "from tqdm import tqdm\n",
    "\n",
    "\n",
    "def test_epoch(model, data_loader, loss, device, epoch):\n",
    "    model.eval()\n",
    "    results = {}\n",
    "    \n",
    "    with torch.no_grad():\n",
    "        for batch, (*x_feature, y_lab) in enumerate(tqdm(data_loader)):\n",
    "            y_lab = y_lab.to(device)\n",
    "            x_feature = tuple([dat.to(device) for dat in x_feature])\n",
    "            batch_size = y_lab.shape[0]\n",
    "            y_pred = model(*x_feature)\n",
    "            losses = loss(x_feature, y_lab, y_pred)\n",
    "            \n",
    "            for key, val in losses.items():\n",
    "                if key not in results:\n",
    "                    results[key] = []\n",
    "                result = val.detach_().cpu()\n",
    "                result = result.repeat(batch_size)\n",
    "                results[key].append(result)\n",
    "                \n",
    "    return results\n",
    "\n",
    "def train_epoch(model, data_loader, optimizer, loss, device, epoch, writer):\n",
    "    model.train()\n",
    "    init_batch_size = None\n",
    "    batches_per_epoch = len(data_loader)\n",
    "    \n",
    "    for batch, (*x_feature, y_lab) in enumerate(tqdm(data_loader)):\n",
    "        y_lab = y_lab.to(device)\n",
    "        x_feature = tuple([dat.to(device) for dat in x_feature])\n",
    "        batch_size = y_lab.shape[0]\n",
    "        if init_batch_size is None:\n",
    "            init_batch_size = batch_size\n",
    "        optimizer.zero_grad()\n",
    "        y_pred = model(*x_feature)\n",
    "        losses = loss(x_feature, y_lab, y_pred)\n",
    "        losses['loss'].backward()\n",
    "        optimizer.step(closure=None)\n",
    "        \n",
    "        step_count = init_batch_size * (epoch * batches_per_epoch + batch)\n",
    "        for _loss, _value in losses.items():\n",
    "            writer.add_scalar('Train/{}'.format(_loss), _value.item(), step_count)\n",
    "            writer.add_scalar('Train/Learning Rate', optimizer.learning_rate, step_count)\n",
    "            \n",
    "print('Recalibrating model for kernel sparsity...')\n",
    "\n",
    "analyzed_layers = KSAnalyzerLayer.analyze_layers(\n",
    "    model, layers=[name for name, mod in model.named_modules()\n",
    "                   if isinstance(mod, Conv2d) or isinstance(mod, Linear)]\n",
    ")\n",
    "            \n",
    "for epoch in tqdm(range(math.ceil(modifier_manager.max_epochs))):\n",
    "    print('Starting epoch {}'.format(epoch))\n",
    "    optimizer.epoch_start()\n",
    "    train_epoch(model, train_data_loader, optimizer, loss, device, epoch, writer)\n",
    "    \n",
    "    print('Completed training for epoch {}, testing validation dataset'.format(epoch))\n",
    "    val_losses = test_epoch(model, val_data_loader, loss, device, epoch)\n",
    "    for _loss, _values in val_losses.items():\n",
    "        _value = torch.mean(torch.cat(_values))\n",
    "        last_value = _value\n",
    "        writer.add_scalar('Test/Validation/{}'.format(_loss), _value, epoch)\n",
    "        print('{}: {}'.format(_loss, _value))\n",
    "        \n",
    "    print('Completed testing validation dataset for epoch {}, testing training dataset'.format(epoch))\n",
    "    train_losses = test_epoch(model, train_test_data_loader, loss, device, epoch)\n",
    "    for _loss, _values in train_losses.items():\n",
    "        _value = torch.mean(torch.cat(_values))\n",
    "        writer.add_scalar('Test/Training/{}'.format(_loss), _value, epoch)\n",
    "        print('{}: {}'.format(_loss, _value))\n",
    "        \n",
    "    optimizer.epoch_end()\n",
    "    \n",
    "    for ks_layer in analyzed_layers:\n",
    "        writer.add_scalar('Kernel Sparsity/{}'.format(ks_layer.name), ks_layer.param_sparsity.item(), epoch + 1)\n",
    "        \n",
    "    print('Completed testing training dataset for epoch {}'.format(epoch))\n",
    "    \n",
    "pruned_save_path = os.path.abspath(os.path.expanduser(os.path.join('.', '{}.pth'.format(model_id))))\n",
    "print('Finished pruning, saving model to {}'.format(pruned_save_path))\n",
    "save_model(pruned_save_path, model, optimizer, epoch)\n",
    "print('Saved model')\n"
   ]
  },
  {
   "cell_type": "code",
   "execution_count": null,
   "metadata": {},
   "outputs": [],
   "source": []
  }
 ],
 "metadata": {
  "kernelspec": {
   "display_name": "Python 3",
   "language": "python",
   "name": "python3"
  },
  "language_info": {
   "codemirror_mode": {
    "name": "ipython",
    "version": 3
   },
   "file_extension": ".py",
   "mimetype": "text/x-python",
   "name": "python",
   "nbconvert_exporter": "python",
   "pygments_lexer": "ipython3",
   "version": "3.6.8"
  }
 },
 "nbformat": 4,
 "nbformat_minor": 2
}
