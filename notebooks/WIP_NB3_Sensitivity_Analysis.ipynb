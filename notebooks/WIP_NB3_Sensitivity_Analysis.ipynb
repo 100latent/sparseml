{
 "cells": [
  {
   "cell_type": "markdown",
   "metadata": {},
   "source": [
    "## Notebook #3 - Automating Prunning (or \"what about all those hyperparameters\")\n",
    "In the previous tutorials we saw how to train a model and then prune it to our delight. Recall that we set target sparsity levels. Up to fairly high levels of sparsity (e.g 85% for the previous example) we got by by setting the same sparsity level throughout the model. Let's now take a closer look and build the tools needed to sparsify the network even further.\n",
    "\n",
    "Generally speaking this is not an easy task, as sparsifying a layer too much may have detremental - unrecoverable - effects on total accuracy (consider the limiting case where a single hidden layer is completely zeroed out; trivially, all information is lost irrespective of the level of sparsity of all other layers). In other words, when one approaches the 'limit' of optimal sparsity per layer, there is strong coupling between the layers.\n",
    "\n",
    "Finding this optimum is in principle a problem of searching over a combinatorically large space - in our example for resnet-50 with e.g. 10 sparsity levels considered per layer, the size of the space is $50^{10} \\approx 10^{17}$.\n",
    "\n",
    "Have heart - we can get very far in practice with a greedy algorithm instead. For that let us first observe that 'far enough' form the optimal sparsity configuration, layer sparsity can be well approximated as independent. \n",
    "So, as a first step, let us find the sparsity level per layer, such that holding all others layers constant, affects total accuracy. This is a per-layer sensitivity analysis."
   ]
  },
  {
   "cell_type": "code",
   "execution_count": 11,
   "metadata": {},
   "outputs": [
    {
     "name": "stdout",
     "output_type": "stream",
     "text": [
      "already downloaded imagenette of size ImagenetteSize.s160\n",
      "already downloaded imagenette of size ImagenetteSize.s160\n",
      "already downloaded imagenette of size ImagenetteSize.s160\n",
      "initializing model...\n",
      "loading model...\n",
      "done\n",
      "Setting up model for kernel sparsity tracking...\n",
      "Creating optimizer with initial lr: 0.01, momentum: 0.9, weight_decay: 0.0001\n",
      "Created loss calc <neuralmagicML.utils.loss_calc.CrossEntropyLossCalc object at 0x7fa7b79788d0> with extras top1acc, top5acc\n",
      "Creating summary writer in ../pruned/resnet50-3-logs\n"
     ]
    }
   ],
   "source": [
    "## Load Data\n",
    "from neuralmagicML.datasets import *\n",
    "from torch.utils.data import Dataset, DataLoader\n",
    "from neuralmagicML.sparsity.kernel import *\n",
    "\n",
    "dataset_type = 'imagenette'\n",
    "dataset_path = '../data/imagenette-160/'\n",
    "device = 'cuda:2'\n",
    " #device to run on: 'cpu' / 'cuda:0'\n",
    "    \n",
    "train_batch_size = 128\n",
    "test_batch_size = 256\n",
    "earlystop = -1 \n",
    "\n",
    "train_dataset = ImagenetteDataset(dataset_path, train=True, rand_trans=True)\n",
    "train_data_loader = DataLoader(train_dataset, batch_size=train_batch_size, shuffle=True, num_workers=8)\n",
    "\n",
    "val_dataset = ImagenetteDataset(dataset_path, train=False, rand_trans=False)\n",
    "val_data_loader = DataLoader(val_dataset, batch_size=test_batch_size, shuffle=True, num_workers=8)\n",
    "\n",
    "train_test_dataset = ImagenetteDataset(dataset_path, train=True, rand_trans=False)\n",
    "train_test_data_loader = DataLoader(train_test_dataset, batch_size=test_batch_size, shuffle=True, num_workers=8)\n",
    "\n",
    "## Load Model\n",
    "\n",
    "from neuralmagicML.models import *\n",
    "from neuralmagicML.sparsity import *\n",
    "from torch.nn import Conv2d\n",
    "\n",
    "model_path = '../checkpoints/resnet50-epoch=030-val=0.3995.pth'\n",
    "print('initializing model...')\n",
    "model_type = 'resnet50'\n",
    "model = resnet50(num_classes = 10)\n",
    "model = model.to(device)\n",
    "\n",
    "print('loading model...')\n",
    "load_model(model_path, model)\n",
    "print('done')\n",
    "\n",
    "## sparsity monitoring:\n",
    "\n",
    "from typing import List\n",
    "from tensorboardX import SummaryWriter\n",
    "\n",
    "\n",
    "print('Setting up model for kernel sparsity tracking...')\n",
    "conv_layers_names = []\n",
    "layer_masks = {}\n",
    "for name, mod in model.named_modules():\n",
    "    if isinstance(mod, Conv2d): #to add the FC layers: isinstance(mod, Conv2d) or isinstance(mod, Linear) \n",
    "        conv_layers_names.append(name)\n",
    "        ## explicitly add masks:\n",
    "        layer_masks[name] = KSLayerMask(mod, 'weight')\n",
    "        layer_masks[name].enable()\n",
    "        \n",
    "analyzed_layers = KSAnalyzerLayer.analyze_layers(model, conv_layers_names)\n",
    "\n",
    "def _record_kernel_sparsity(analyzed_layers: List[KSAnalyzerLayer], writer: SummaryWriter, epoch: int):\n",
    "#     layers_sparsities = []\n",
    "    for ks_layer in analyzed_layers:\n",
    "        tag = 'Kernel Sparsity/{}'.format(ks_layer.name)\n",
    "        writer.add_scalar(tag, ks_layer.param_sparsity.item(), epoch)\n",
    "    print('sparsity per layer [%]: '+ str([round(ks_layer.param_sparsity.item()*100.0,0) for ks_layer in analyzed_layers]))\n",
    "\n",
    "## optimizer etc\n",
    "import torch\n",
    "from torch import optim\n",
    "from torch.nn import DataParallel\n",
    "from neuralmagicML.utils import CrossEntropyLossCalc, TopKAccuracy\n",
    "import os\n",
    "\n",
    "init_lr = 0.01\n",
    "momentum = 0.9\n",
    "weight_decay = 1e-4\n",
    "\n",
    "print('Creating optimizer with initial lr: {}, momentum: {}, weight_decay: {}'\n",
    "          .format(init_lr, momentum, weight_decay))\n",
    "optimizer = optim.SGD(\n",
    "    model.parameters(), init_lr, momentum=momentum, weight_decay=weight_decay, nesterov=True\n",
    ")\n",
    "loss_extras = {\n",
    "    'top1acc': TopKAccuracy(1),\n",
    "    'top5acc': TopKAccuracy(5)\n",
    "}\n",
    "loss_calc = CrossEntropyLossCalc(loss_extras)\n",
    "print('Created loss calc {} with extras {}'.format(loss_calc, ', '.join(loss_extras.keys())))\n",
    "\n",
    "\n",
    "logs_dir = './logs'\n",
    "output_dir = '../pruned'\n",
    "counter = 0\n",
    "model_dir = None\n",
    "while model_dir is None or os.path.exists(model_dir):\n",
    "    model_name = '{}-{}'.format(model_type, counter)\n",
    "    model_dir = os.path.join(output_dir, model_name)\n",
    "    counter += 1\n",
    "\n",
    "logs_dir = model_dir + '-logs'\n",
    "\n",
    "if not os.path.exists(model_dir):\n",
    "    os.makedirs(model_dir)\n",
    "\n",
    "if not os.path.exists(logs_dir):\n",
    "    os.makedirs(logs_dir)\n",
    "    \n",
    "save_rate = 5\n",
    "\n",
    "print('Creating summary writer in {}'.format(logs_dir))\n",
    "writer = SummaryWriter(logdir=logs_dir, comment='imagenette training')\n",
    "if isinstance(model, DataParallel):\n",
    "    model = model.module\n"
   ]
  },
  {
   "cell_type": "markdown",
   "metadata": {},
   "source": [
    "## testing functions as ususal"
   ]
  },
  {
   "cell_type": "code",
   "execution_count": 12,
   "metadata": {},
   "outputs": [],
   "source": [
    "from tqdm import tqdm\n",
    "from torch.utils.data import DataLoader\n",
    "\n",
    "from typing import Tuple, Dict\n",
    "from torch import Tensor\n",
    "import torch\n",
    "from torch.nn import Module\n",
    "\n",
    "\n",
    "def _test_datasets(model, train_data_loader: DataLoader, val_data_loader: DataLoader,\n",
    "                   writer: SummaryWriter, epoch: int, earlystop: int=-1) -> Tuple[Dict[str, float], Dict[str, float]]:\n",
    "    val_losses , train_losses = None, None\n",
    "    if val_data_loader  is not None:\n",
    "#         print('Running test for validation dataset for epoch {}'.format(epoch))\n",
    "        val = test_epoch(model, val_data_loader, loss_calc, device, epoch, earlystop)\n",
    "#         print('Completed test for validation dataset for epoch {}'.format(epoch))\n",
    "        val_losses = {}\n",
    "        for loss, _ in val.items():\n",
    "            val_losses[loss] = torch.mean(torch.cat(val[loss])).item()\n",
    "            val_tag = 'Test/validation/{}'.format(loss)\n",
    "            writer.add_scalar(val_tag, val_losses[loss], epoch)\n",
    "        \n",
    "        val_loss_str = 'validation set - epoch: {} '.format(epoch)\n",
    "        for loss, value in val_losses.items():\n",
    "            val_loss_str += (loss + ': {0:.2f} '.format(value))\n",
    "#         print(val_loss_str)\n",
    "        \n",
    "        \n",
    "    if train_data_loader is not None:\n",
    "#         print('Running test for train dataset for epoch {}'.format(epoch))\n",
    "        train = test_epoch(model, train_data_loader, loss_calc, device, epoch, earlystop)\n",
    "#         print('Completed test for train dataset for epoch {}'.format(epoch))\n",
    "        train_losses = {}\n",
    "\n",
    "        for loss, _ in train.items():\n",
    "            train_losses[loss] = torch.mean(torch.cat(train[loss])).item()\n",
    "            train_tag = 'Test/training/{}'.format(loss)\n",
    "            writer.add_scalar(train_tag, train_losses[loss], epoch)\n",
    "\n",
    "        \n",
    "        train_loss_str = 'training set - epoch: {} '.format(epoch)\n",
    "        for loss, value in train_losses.items():\n",
    "            train_loss_str += (loss + ': {0:.2f} '.format(value))\n",
    "#         print(train_loss_str)\n",
    "\n",
    "\n",
    "    return val_losses , train_losses\n",
    "\n",
    "\n",
    "def test_epoch(model: Module, data_loader: DataLoader, loss, device, epoch: int, earlystop: int) -> Dict:\n",
    "    model.eval()\n",
    "    results = {}#ModuleTestResults()\n",
    "    with torch.no_grad():\n",
    "        for batch, (*x_feature, y_lab) in enumerate(data_loader):\n",
    "            y_lab = y_lab.to(device)\n",
    "            x_feature = tuple([dat.to(device) for dat in x_feature])\n",
    "            batch_size = y_lab.shape[0]\n",
    "            \n",
    "            y_pred = model(*x_feature)\n",
    "\n",
    "            losses = loss(x_feature, y_lab, y_pred)  # type: Dict[str, Tensor]\n",
    "            for key, val in losses.items():\n",
    "                if key not in results:\n",
    "                    results[key] = []\n",
    "\n",
    "                result = val.detach_().cpu()\n",
    "                result = result.repeat(batch_size) #repeat tensor so that there is no dependency on batch size\n",
    "                results[key].append(result)\n",
    "            \n",
    "            if earlystop>0.0:\n",
    "                if batch_size*batch > earlystop:\n",
    "#                 print('stopped after {} samples'.format(batch_size*batch))\n",
    "                    break\n",
    "#             results.append(losses, batch_size)\n",
    "    return results\n",
    "\n",
    "def train_epoch(model: Module, data_loader: DataLoader, optimizer, loss, device, data_counter: int):\n",
    "    model.train()\n",
    "    \n",
    "    for batch, (*x_feature, y_lab) in enumerate(tqdm(data_loader)):\n",
    "        # copy next batch to the device we are using\n",
    "        y_lab = y_lab.to(device)\n",
    "        x_feature = tuple([dat.to(device) for dat in x_feature])\n",
    "        batch_size = y_lab.shape[0]\n",
    "\n",
    "        # Zero the parameter gradients\n",
    "        optimizer.zero_grad()\n",
    "\n",
    "        # forward \n",
    "        y_pred = model(*x_feature)\n",
    "        \n",
    "        # update losses\n",
    "        losses = loss(x_feature, y_lab, y_pred)  # type: Dict[str, Tensor]\n",
    "        \n",
    "        # backward\n",
    "        losses['loss'].backward()\n",
    "        \n",
    "        # take SGD step\n",
    "        optimizer.step(closure=None)\n",
    "        \n",
    "        # log loss and accuracy\n",
    "        data_counter += batch_size\n",
    "        for _loss, _value in losses.items():\n",
    "            writer.add_scalar('Train/{}'.format(_loss), _value.item(), data_counter)\n",
    "\n",
    "    return data_counter\n",
    "\n"
   ]
  },
  {
   "cell_type": "markdown",
   "metadata": {},
   "source": [
    "## Sensitivity analysis"
   ]
  },
  {
   "cell_type": "code",
   "execution_count": 13,
   "metadata": {},
   "outputs": [
    {
     "name": "stdout",
     "output_type": "stream",
     "text": [
      "[0.30000000000000004, 0.48322044590157076, 0.618484132094041, 0.7183434284315475, 0.792065203622804, 0.8464907837809215, 0.8866708224175789, 0.9163339973465925, 0.9382330292222486, 0.9544001319763756, 0.9663356007654346, 0.9751470382493854, 0.9816521392978458, 0.9864545724681152, 0.99]\n"
     ]
    }
   ],
   "source": [
    "start = 0.3\n",
    "end = 0.99\n",
    "steps = 15\n",
    "gamma = ((1-end)/(1-start))**(1/(steps-1))\n",
    "sparsities = [1-(1-start)*gamma**ii for ii in range(steps)] #geometric steps\n",
    "# sparsities = [start+ ii*(end - start)/(steps-1) for ii in range(steps)]            \n",
    "print(sparsities)"
   ]
  },
  {
   "cell_type": "code",
   "execution_count": null,
   "metadata": {},
   "outputs": [],
   "source": [
    "from tqdm import tqdm\n",
    "\n",
    "\n",
    "layer_sparsity_dict = {}\n",
    "exp_idx=0\n",
    " # nember of samples to evaluate acc on 1000 per class for imagenette\n",
    "for lidx, ks_layer in enumerate(tqdm(analyzed_layers)):\n",
    "    layer_mask = layer_masks[ks_layer.name]\n",
    "    orig_mask = layer_mask.mask_tensor.clone()\n",
    "    val_losses, train_losses = _test_datasets(model, None, val_data_loader, writer, exp_idx, earlystop )\n",
    "    exp_idx +=1\n",
    "    baseline_val_acc = val_losses['top1acc']\n",
    "#     baseline_train_acc = train_losses['top1acc']\n",
    "\n",
    "\n",
    "    if ks_layer.name not in layer_sparsity_dict.keys():\n",
    "        layer_sparsity_dict[ks_layer.name]=[[ks_layer.param_sparsity.item(), baseline_val_acc]] #, baseline_train_acc\n",
    "#     print('performing sensitivity anlysis for layer {}'.format(ks_layer.name))\n",
    "\n",
    "\n",
    "    for sidx, sparsity in enumerate(sparsities):\n",
    "#         print('sparsity {}'.format(sparsity))\n",
    "\n",
    "        layer_mask.apply_mask_tensor(mask_from_sparsity(layer_mask.init_param_tensor, sparsity))\n",
    "#         global_sparsity = get_global_sparsity(layer_masks)  # calculate total_sparsity\n",
    "        \n",
    "        val_losses, train_losses = _test_datasets(model, None, val_data_loader, writer, exp_idx, earlystop)\n",
    "        exp_idx +=1\n",
    "        masked_val_acc = val_losses['top1acc']\n",
    "#         masked_train_acc = train_losses['top1acc']\n",
    "        layer_sparsity_dict[ks_layer.name].append([ks_layer.param_sparsity.item(), masked_val_acc]) #, masked_train_acc\n",
    "#         if masked_val_acc < 0.5*baseline_val_acc:\n",
    "#             break\n",
    "            \n",
    "    layer_mask.apply_mask_tensor(orig_mask) #revert to original mask\n",
    "    layer_mask.apply_new_tensor(layer_mask.init_param_tensor) #revert to original param\n"
   ]
  },
  {
   "cell_type": "code",
   "execution_count": 2,
   "metadata": {},
   "outputs": [],
   "source": [
    "import pickle\n",
    "filename = 'temp'\n",
    "# with open(filename,'wb') as outfile:\n",
    "#     pickle.dump(layer_sparsity_dict,outfile)\n",
    "#     outfile.close()\n",
    "\n",
    "with open(filename,'rb') as infile:\n",
    "    layer_sparsity_dict = pickle.load(infile)"
   ]
  },
  {
   "cell_type": "markdown",
   "metadata": {},
   "source": [
    "## what did we get?\n",
    "By reviewing the dependency of the accuracy on the sparsity level of each layer (independently) it is evident that there are layers which affect accuracy more than others - we call these layers with high sensitivity.\n",
    "\n",
    "The blow cell visualizes the error (1 - accuracy) versus density (1 - sparsity):\n",
    "\n"
   ]
  },
  {
   "cell_type": "code",
   "execution_count": 14,
   "metadata": {},
   "outputs": [
    {
     "data": {
      "image/png": "[encoded data removed]",
      "text/plain": [
       "<Figure size 432x288 with 1 Axes>"
      ]
     },
     "metadata": {
      "needs_background": "light"
     },
     "output_type": "display_data"
    }
   ],
   "source": [
    "\n",
    "import matplotlib.pyplot as plt\n",
    "import numpy as np\n",
    "\n",
    "for layer_name, res_list in layer_sparsity_dict.items():\n",
    "    sparsities = [res_list[ii][0] for ii in range(len(res_list))]\n",
    "    densities = [1- spar for spar in sparsities]\n",
    "    val_accs = [res_list[ii][1] for ii in range(len(res_list))]\n",
    "#     train_accs = [val_accs[0]]\n",
    "#     train_accs.extend([res_list[ii+1][2] for ii in range(len(res_list)-1)])\n",
    "    val_err = [1-(acc/100) for acc in val_accs]\n",
    "#     train_err = [1-(acc/100) for acc in train_accs]\n",
    "#     plt.plot(densities, val_err, label=layer_name, linestyle='', marker='o')\n",
    "    plt.plot(np.log10(densities), val_err, label=layer_name, linestyle='--', marker='o')\n",
    "plt.title('error versus sparsity')\n",
    "plt.ylabel('$error$ [fraction]')\n",
    "plt.xlabel(' $log_{10}(density)$ [fraction]')\n",
    "# plt.legend(loc='right')\n",
    "plt.show()\n"
   ]
  },
  {
   "cell_type": "markdown",
   "metadata": {},
   "source": [
    "## How we use this information?\n",
    "With the gleaned insight into the sensitivity (to prunning) of each layer, let us guide the sparsity allocation such that less sensitive layers are targeted with correspondingly higher sparsity levels.\n",
    "\n",
    "First let us define a metric for quantifying this sensitivity. With no particular attachment, let us examine the criterion defined by the sparsity level at a relative error increase of x%\n",
    "\n",
    "Let x for example be 5%, such that we evaluate for each layer what was the sparsity at which the error changed by (1 - baseline_acc)*(1+x).\n",
    "Note that this error is going to be removed by retraining."
   ]
  },
  {
   "cell_type": "code",
   "execution_count": 15,
   "metadata": {},
   "outputs": [
    {
     "data": {
      "text/plain": [
       "Text(0.5, 1.0, 'sparsity level at 5.0% relative acc loss per layer')"
      ]
     },
     "execution_count": 15,
     "metadata": {},
     "output_type": "execute_result"
    },
    {
     "data": {
      "image/png": "[encoded data removed]",
      "text/plain": [
       "<Figure size 720x720 with 1 Axes>"
      ]
     },
     "metadata": {
      "needs_background": "light"
     },
     "output_type": "display_data"
    }
   ],
   "source": [
    "from scipy.interpolate import interp1d\n",
    "thresh_sparsity = {}\n",
    "max_sparsity = 0.99\n",
    "acc_hit_rel = 0.05\n",
    "for layer_name, res_list in layer_sparsity_dict.items():\n",
    "    sparsities = [res_list[ii][0] for ii in range(len(res_list))]\n",
    "    densities = [1- spar for spar in sparsities]\n",
    "    accs = [res_list[ii][1] for ii in range(len(res_list))]\n",
    "    err = [1-(acc/100) for acc in accs]\n",
    "    f=interp1d(densities,err,'linear')\n",
    "    eval_dens = np.arange(min(densities),max(densities),0.01)\n",
    "    if err[np.argmax(sparsities)]/err[np.argmin(sparsities)] > 1+acc_hit_rel:\n",
    "        thresh = np.argmin(np.abs(f(eval_dens)-(1+acc_hit_rel)*err[np.argmin(sparsities)]))\n",
    "        thresh_sparsity[layer_name] = 1-eval_dens[thresh]\n",
    "    else:\n",
    "        thresh_sparsity[layer_name] = min(max_sparsity, max(sparsities))\n",
    "    \n",
    "\n",
    "y_pos= [ii for ii in range(len(thresh_sparsity.values()))]\n",
    "spars= [r for r in thresh_sparsity.values()]\n",
    "\n",
    "names = [k for k in thresh_sparsity.keys()]\n",
    "plt.figure(figsize=(10,10))\n",
    "# plt.plot(y_pos,ratios, marker='o',linestyle = 'None')\n",
    "plt.bar(y_pos, spars, align='center', alpha=0.5)\n",
    "plt.xticks(y_pos, names,rotation='vertical')\n",
    "plt.plot(y_pos, [max_sparsity for _ in range(len(y_pos))])\n",
    "plt.title('sparsity level at {}% relative acc loss per layer'.format(acc_hit_rel*100))\n"
   ]
  },
  {
   "cell_type": "code",
   "execution_count": 16,
   "metadata": {},
   "outputs": [
    {
     "name": "stdout",
     "output_type": "stream",
     "text": [
      "total sparsity: 0.7931642134628023\n"
     ]
    }
   ],
   "source": [
    "layers_param_count={}\n",
    "for ks_layer in analyzed_layers:\n",
    "    layer_mask = layer_masks[ks_layer.name].mask_tensor\n",
    "    layers_param_count[ks_layer.name] = layer_mask.numel()\n",
    "\n",
    "dens_list=[]\n",
    "n_param_list=[]\n",
    "dense_x_param=[]\n",
    "for layer_name, n_param in layers_param_count.items():\n",
    "    dens_i = 1-thresh_sparsity[layer_name]\n",
    "    dens_list.append(dens_i)\n",
    "    n_param_list.append(n_param)\n",
    "    dense_x_param.append(dens_i*n_param)\n",
    "\n",
    "beta = np.sum(n_param_list)/np.sum(dense_x_param)\n",
    "\n",
    "print('total sparsity: {}'.format(1-np.sum(dense_x_param)/np.sum(n_param_list)))\n",
    "# original_sparsities = 1- np.array(dens_list)\n",
    "# print('original sparsities: {}'.format(original_sparsities))\n",
    "# target_sparsity = 0.95\n",
    "# target_sparsities = 1 - target_densities\n",
    "# print('target sparsities: {}'.format(target_sparsities))"
   ]
  },
  {
   "cell_type": "code",
   "execution_count": 17,
   "metadata": {},
   "outputs": [
    {
     "data": {
      "application/vnd.jupyter.widget-view+json": {
       "model_id": "d233dc727d1b4bc395db513d8026af82",
       "version_major": 2,
       "version_minor": 0
      },
      "text/plain": [
       "HBox(children=(VBox(children=(HBox(children=(Checkbox(value=True, description='sensitivity norm'), FloatSlider…"
      ]
     },
     "metadata": {},
     "output_type": "display_data"
    }
   ],
   "source": [
    "import ipywidgets as widgets\n",
    "\n",
    "############################################################\n",
    "## configuration of sparsity levels / enables per layer ####\n",
    "############################################################\n",
    "c0 = widgets.VBox([widgets.Checkbox(description=ks_layer.name, value=True) for ks_layer in analyzed_layers])\n",
    "c1 = widgets.VBox([widgets.FloatSlider(value=0.5,min=0.05,max=0.99,step=0.01) for _ in range(len(analyzed_layers))])\n",
    "layer_ctrl = widgets.HBox([c0,c1])\n",
    "global_ctrl = widgets.HBox([widgets.Checkbox(description='sensitivity norm', value = True), \n",
    "                            widgets.FloatSlider(value=0.5,min=0.05,max=0.99,step=0.01,description='sparsity [%]')\n",
    "                           ])\n",
    "output2 = widgets.Output()\n",
    "\n",
    "activated_layers = [child.value for child in layer_ctrl.children[0].children]\n",
    "\n",
    "def global_enable_change(change):\n",
    "    with output2:\n",
    "        state = change['new']\n",
    "        print(state)\n",
    "        if state is not None:\n",
    "            for ckbx_child in layer_ctrl.children[0].children:\n",
    "                ckbx_child.value = state\n",
    "                \n",
    "global_ctrl.children[0].observe(global_enable_change, names='value')   \n",
    "\n",
    "def global_sparsity_set(change):\n",
    "    with output2:\n",
    "        val = change['new']\n",
    "        print(val)\n",
    "        if val is not None:\n",
    "            for ckbx_child, sldr_child in zip(layer_ctrl.children[0].children, layer_ctrl.children[1].children):\n",
    "                layer_name = ckbx_child.description\n",
    "                sldr_child.value = val if global_ctrl.children[0].value else 1- beta*(1-val)*(1-thresh_sparsity[layer_name])\n",
    "                    \n",
    "    \n",
    "global_ctrl.children[1].observe(global_sparsity_set, names='value')   \n",
    "\n",
    "###############################################\n",
    "## configuration of learning rate schedule ####\n",
    "###############################################\n",
    "\n",
    "lr_class_dict = {   #TODO: read from CONSTRUCTORS in modifier_lr.py instead\n",
    "                    #to include all supported methods in the GUI\n",
    "    'ExponentialLR': {'gamma': [0.95, widgets.BoundedFloatText]}, #bound by 0.0\n",
    "    'StepLR': {'step_size': [20, widgets.BoundedIntText], #bound by 1\n",
    "              'gamma': [0.2, widgets.BoundedFloatText]}\n",
    "}\n",
    "\n",
    "lr_mod_args_field_initval = {\n",
    "    'start_epoch': 25.0,# 'start epoch:'],\n",
    "    'end_epoch': 40.0,# 'end epoch  :'],\n",
    "    'update_frequency': 1.0,# 'update freq:'],\n",
    "    'init_lr': 0.01# 'initial learning rate :']\n",
    "}\n",
    "\n",
    "style = {'description_width': 'initial'}\n",
    "# lr_cfg_list = [widgets.Text(value='learning rate schedule', disabled=True)]\n",
    "lr_section_title = widgets.Text(value='learning rate schedule', disabled=True)\n",
    "lr_cfg_list =[]\n",
    "for fld, val in lr_mod_args_field_initval.items():\n",
    "    lr_cfg_list.append(widgets.BoundedFloatText(value=val, description=fld, disabled=False, min=0, style=style,))\n",
    "\n",
    "lr_slct = widgets.Dropdown(\n",
    "    options=[key for key in lr_class_dict.keys()],  \n",
    "    value=[key for key in lr_class_dict.keys()][0],\n",
    "    description='lr_class',\n",
    ")\n",
    "# lr_cfg_list.append(lr_slct)\n",
    "\n",
    "def create_lr_slct_list():\n",
    "    lr_slct_params = [] #create new widgets\n",
    "    for param, val in lr_class_dict[lr_slct.value].items():\n",
    "        lr_slct_params.append(val[1](value=val[0],description=param))\n",
    "    return lr_slct_params\n",
    "slct_param = widgets.VBox(children=create_lr_slct_list())\n",
    "# lr_cfg_list.append(slct_param)\n",
    "\n",
    "def refresh_lr_param(change):\n",
    "    if change['new']:\n",
    "        val = lr_slct.value\n",
    "        slct_param.children = create_lr_slct_list()\n",
    "\n",
    "lr_slct.observe(refresh_lr_param, names='value')   \n",
    "lr_cfg = widgets.VBox([lr_section_title, *lr_cfg_list, lr_slct, slct_param])\n",
    "\n",
    "##########################################\n",
    "## configuration of prunning schedule ####\n",
    "##########################################\n",
    "\n",
    "prunning_mod_args_field_initval = {\n",
    "    'start_epoch': 0.0,# 'start epoch:'],\n",
    "    'end_epoch': 25.0,#'end epoch  :'],\n",
    "    'update_frequency': 1.0#,'update freq:'],\n",
    "\n",
    "}\n",
    "\n",
    "style = {'description_width': 'initial'}\n",
    "prn_section_title = widgets.Text(value='prunning schedule', disabled=True)\n",
    "prn_cfg_list =[]\n",
    "for fld, val in prunning_mod_args_field_initval.items():\n",
    "    prn_cfg_list.append(widgets.BoundedFloatText(value=val, description=fld, disabled=False, min=0, style=style,))\n",
    "\n",
    "\n",
    "prn_cfg = widgets.VBox([prn_section_title,*prn_cfg_list])\n",
    "schd_cfg = widgets.VBox([lr_cfg, prn_cfg])#,prn_cfg_list])\n",
    "display(widgets.HBox([widgets.VBox([global_ctrl,layer_ctrl]),schd_cfg]))\n",
    "\n"
   ]
  },
  {
   "cell_type": "code",
   "execution_count": 18,
   "metadata": {},
   "outputs": [
    {
     "name": "stdout",
     "output_type": "stream",
     "text": [
      "Creating learning rate schedule...\n",
      "Creating sparsification schedule...\n"
     ]
    }
   ],
   "source": [
    "print('Creating learning rate schedule...')\n",
    "lr_mod_args = {}\n",
    "\n",
    "for child in lr_cfg_list: \n",
    "    lr_mod_args[child.description] = child.value\n",
    "assert(lr_slct.description == 'lr_class')\n",
    "lr_mod_args['lr_class'] = lr_slct.value\n",
    "lr_mod_args['lr_kwargs'] = {}\n",
    "for child in slct_param.children:\n",
    "    lr_mod_args['lr_kwargs'][child.description] = child.value\n",
    "\n",
    "lr_mod = LearningRateModifier(**lr_mod_args)\n",
    "\n",
    "print('Creating sparsification schedule...')\n",
    "\n",
    "def create_ks_mod_args(layer_name, final_sparsity):\n",
    "    ks_mod_args ={\n",
    "        'param': 'weight',\n",
    "        'init_sparsity': 0.05,\n",
    "        'inter_func': 'cubic',\n",
    "        'layers': [layer_name],\n",
    "        'final_sparsity': final_sparsity\n",
    "    }\n",
    "    # add common fields\n",
    "    for child in prn_cfg_list:\n",
    "        ks_mod_args[child.description] = child.value\n",
    "    return ks_mod_args\n",
    "\n",
    "ks_mod_args_list = []\n",
    "for ckbx_child, sldr_child in zip(layer_ctrl.children[0].children, layer_ctrl.children[1].children):\n",
    "        if ckbx_child.value: #layer is sparsified\n",
    "            layer_name = ckbx_child.description\n",
    "            final_sparsity = sldr_child.value#\n",
    "            ks_mod_args_list.append(create_ks_mod_args(layer_name, final_sparsity))\n",
    "            \n",
    "ks_mod_list = [GradualKSModifier(**ks_mod_args) for ks_mod_args in ks_mod_args_list]\n",
    "modifiers = [lr_mod, *ks_mod_list]\n",
    "\n",
    "modifier_manager = ScheduledModifierManager(modifiers)\n",
    "optimizer = ScheduledOptimizer(optimizer, model, modifier_manager, steps_per_epoch=len(train_dataset))"
   ]
  },
  {
   "cell_type": "code",
   "execution_count": null,
   "metadata": {},
   "outputs": [
    {
     "name": "stdout",
     "output_type": "stream",
     "text": [
      "Running baseline test...\n",
      "sparsity per layer [%]: [0.0, 0.0, 0.0, 0.0, 0.0, 0.0, 0.0, 0.0, 0.0, 0.0, 0.0, 0.0, 0.0, 0.0, 0.0, 0.0, 0.0, 0.0, 0.0, 0.0, 0.0, 0.0, 0.0, 0.0, 0.0, 0.0, 0.0, 0.0, 0.0, 0.0, 0.0, 0.0, 0.0, 0.0, 0.0, 0.0, 0.0, 0.0, 0.0, 0.0, 0.0, 0.0, 0.0, 0.0, 0.0, 0.0, 0.0, 0.0, 0.0, 0.0, 0.0, 0.0, 0.0]\n",
      "Training model\n",
      "Starting epoch 0\n"
     ]
    },
    {
     "name": "stderr",
     "output_type": "stream",
     "text": [
      "\r",
      "  0%|          | 0/101 [00:00<?, ?it/s]"
     ]
    },
    {
     "name": "stdout",
     "output_type": "stream",
     "text": [
      "sparsity per layer [%]: [5.0, 5.0, 5.0, 5.0, 5.0, 5.0, 5.0, 5.0, 5.0, 5.0, 5.0, 5.0, 5.0, 5.0, 5.0, 5.0, 5.0, 5.0, 5.0, 5.0, 5.0, 5.0, 5.0, 5.0, 5.0, 5.0, 5.0, 5.0, 5.0, 5.0, 5.0, 5.0, 5.0, 5.0, 5.0, 5.0, 5.0, 5.0, 5.0, 5.0, 5.0, 5.0, 5.0, 5.0, 5.0, 5.0, 5.0, 5.0, 5.0, 5.0, 5.0, 5.0, 5.0]\n"
     ]
    },
    {
     "name": "stderr",
     "output_type": "stream",
     "text": [
      "100%|██████████| 101/101 [00:44<00:00,  2.54it/s]\n"
     ]
    },
    {
     "name": "stdout",
     "output_type": "stream",
     "text": [
      "saved model checkpoint at ../pruned/resnet50-3/resnet50-epoch=000-val=0.3973.pth\n",
      "Starting epoch 1\n"
     ]
    },
    {
     "name": "stderr",
     "output_type": "stream",
     "text": [
      "\r",
      "  0%|          | 0/101 [00:00<?, ?it/s]"
     ]
    },
    {
     "name": "stdout",
     "output_type": "stream",
     "text": [
      "sparsity per layer [%]: [15.0, 15.0, 15.0, 15.0, 15.0, 15.0, 15.0, 15.0, 15.0, 15.0, 15.0, 15.0, 15.0, 15.0, 15.0, 15.0, 15.0, 15.0, 15.0, 15.0, 15.0, 15.0, 15.0, 15.0, 15.0, 15.0, 15.0, 15.0, 15.0, 15.0, 15.0, 15.0, 15.0, 15.0, 15.0, 15.0, 15.0, 15.0, 15.0, 15.0, 15.0, 15.0, 15.0, 15.0, 15.0, 15.0, 15.0, 15.0, 15.0, 15.0, 15.0, 15.0, 15.0]\n"
     ]
    },
    {
     "name": "stderr",
     "output_type": "stream",
     "text": [
      "100%|██████████| 101/101 [00:44<00:00,  2.70it/s]\n"
     ]
    },
    {
     "name": "stdout",
     "output_type": "stream",
     "text": [
      "Starting epoch 2\n"
     ]
    },
    {
     "name": "stderr",
     "output_type": "stream",
     "text": [
      "\r",
      "  0%|          | 0/101 [00:00<?, ?it/s]"
     ]
    },
    {
     "name": "stdout",
     "output_type": "stream",
     "text": [
      "sparsity per layer [%]: [24.0, 24.0, 24.0, 24.0, 24.0, 24.0, 24.0, 24.0, 24.0, 24.0, 24.0, 24.0, 24.0, 24.0, 24.0, 24.0, 24.0, 24.0, 24.0, 24.0, 24.0, 24.0, 24.0, 24.0, 24.0, 24.0, 24.0, 24.0, 24.0, 24.0, 24.0, 24.0, 24.0, 24.0, 24.0, 24.0, 24.0, 24.0, 24.0, 24.0, 24.0, 24.0, 24.0, 24.0, 24.0, 24.0, 24.0, 24.0, 24.0, 24.0, 24.0, 24.0, 24.0]\n"
     ]
    },
    {
     "name": "stderr",
     "output_type": "stream",
     "text": [
      "100%|██████████| 101/101 [00:44<00:00,  2.42it/s]\n"
     ]
    },
    {
     "name": "stdout",
     "output_type": "stream",
     "text": [
      "Starting epoch 3\n"
     ]
    },
    {
     "name": "stderr",
     "output_type": "stream",
     "text": [
      "\r",
      "  0%|          | 0/101 [00:00<?, ?it/s]"
     ]
    },
    {
     "name": "stdout",
     "output_type": "stream",
     "text": [
      "sparsity per layer [%]: [32.0, 32.0, 32.0, 32.0, 32.0, 32.0, 32.0, 32.0, 32.0, 32.0, 32.0, 32.0, 32.0, 32.0, 32.0, 32.0, 32.0, 32.0, 32.0, 32.0, 32.0, 32.0, 32.0, 32.0, 32.0, 32.0, 32.0, 32.0, 32.0, 32.0, 32.0, 32.0, 32.0, 32.0, 32.0, 32.0, 32.0, 32.0, 32.0, 32.0, 32.0, 32.0, 32.0, 32.0, 32.0, 32.0, 32.0, 32.0, 32.0, 32.0, 32.0, 32.0, 32.0]\n"
     ]
    },
    {
     "name": "stderr",
     "output_type": "stream",
     "text": [
      "100%|██████████| 101/101 [00:44<00:00,  2.42it/s]\n"
     ]
    },
    {
     "name": "stdout",
     "output_type": "stream",
     "text": [
      "Starting epoch 4\n"
     ]
    },
    {
     "name": "stderr",
     "output_type": "stream",
     "text": [
      "\r",
      "  0%|          | 0/101 [00:00<?, ?it/s]"
     ]
    },
    {
     "name": "stdout",
     "output_type": "stream",
     "text": [
      "sparsity per layer [%]: [40.0, 40.0, 40.0, 40.0, 40.0, 40.0, 40.0, 40.0, 40.0, 40.0, 40.0, 40.0, 40.0, 40.0, 40.0, 40.0, 40.0, 40.0, 40.0, 40.0, 40.0, 40.0, 40.0, 40.0, 40.0, 40.0, 40.0, 40.0, 40.0, 40.0, 40.0, 40.0, 40.0, 40.0, 40.0, 40.0, 40.0, 40.0, 40.0, 40.0, 40.0, 40.0, 40.0, 40.0, 40.0, 40.0, 40.0, 40.0, 40.0, 40.0, 40.0, 40.0, 40.0]\n"
     ]
    },
    {
     "name": "stderr",
     "output_type": "stream",
     "text": [
      "100%|██████████| 101/101 [00:44<00:00,  2.47it/s]\n"
     ]
    },
    {
     "name": "stdout",
     "output_type": "stream",
     "text": [
      "Starting epoch 5\n"
     ]
    },
    {
     "name": "stderr",
     "output_type": "stream",
     "text": [
      "\r",
      "  0%|          | 0/101 [00:00<?, ?it/s]"
     ]
    },
    {
     "name": "stdout",
     "output_type": "stream",
     "text": [
      "sparsity per layer [%]: [46.0, 46.0, 46.0, 46.0, 46.0, 46.0, 46.0, 46.0, 46.0, 46.0, 46.0, 46.0, 46.0, 46.0, 46.0, 46.0, 46.0, 46.0, 46.0, 46.0, 46.0, 46.0, 46.0, 46.0, 46.0, 46.0, 46.0, 46.0, 46.0, 46.0, 46.0, 46.0, 46.0, 46.0, 46.0, 46.0, 46.0, 46.0, 46.0, 46.0, 46.0, 46.0, 46.0, 46.0, 46.0, 46.0, 46.0, 46.0, 46.0, 46.0, 46.0, 46.0, 46.0]\n"
     ]
    },
    {
     "name": "stderr",
     "output_type": "stream",
     "text": [
      "100%|██████████| 101/101 [00:44<00:00,  2.48it/s]\n"
     ]
    },
    {
     "name": "stdout",
     "output_type": "stream",
     "text": [
      "saved model checkpoint at ../pruned/resnet50-3/resnet50-epoch=005-val=0.3784.pth\n",
      "Starting epoch 6\n"
     ]
    },
    {
     "name": "stderr",
     "output_type": "stream",
     "text": [
      "\r",
      "  0%|          | 0/101 [00:00<?, ?it/s]"
     ]
    },
    {
     "name": "stdout",
     "output_type": "stream",
     "text": [
      "sparsity per layer [%]: [53.0, 53.0, 53.0, 53.0, 53.0, 53.0, 53.0, 53.0, 53.0, 53.0, 53.0, 53.0, 53.0, 53.0, 53.0, 53.0, 53.0, 53.0, 53.0, 53.0, 53.0, 53.0, 53.0, 53.0, 53.0, 53.0, 53.0, 53.0, 53.0, 53.0, 53.0, 53.0, 53.0, 53.0, 53.0, 53.0, 53.0, 53.0, 53.0, 53.0, 53.0, 53.0, 53.0, 53.0, 53.0, 53.0, 53.0, 53.0, 53.0, 53.0, 53.0, 53.0, 53.0]\n"
     ]
    },
    {
     "name": "stderr",
     "output_type": "stream",
     "text": [
      "100%|██████████| 101/101 [00:44<00:00,  2.58it/s]\n"
     ]
    },
    {
     "name": "stdout",
     "output_type": "stream",
     "text": [
      "Starting epoch 7\n"
     ]
    },
    {
     "name": "stderr",
     "output_type": "stream",
     "text": [
      "\r",
      "  0%|          | 0/101 [00:00<?, ?it/s]"
     ]
    },
    {
     "name": "stdout",
     "output_type": "stream",
     "text": [
      "sparsity per layer [%]: [58.0, 58.0, 58.0, 58.0, 58.0, 58.0, 58.0, 58.0, 58.0, 58.0, 58.0, 58.0, 58.0, 58.0, 58.0, 58.0, 58.0, 58.0, 58.0, 58.0, 58.0, 58.0, 58.0, 58.0, 58.0, 58.0, 58.0, 58.0, 58.0, 58.0, 58.0, 58.0, 58.0, 58.0, 58.0, 58.0, 58.0, 58.0, 58.0, 58.0, 58.0, 58.0, 58.0, 58.0, 58.0, 58.0, 58.0, 58.0, 58.0, 58.0, 58.0, 58.0, 58.0]\n"
     ]
    },
    {
     "name": "stderr",
     "output_type": "stream",
     "text": [
      "100%|██████████| 101/101 [00:44<00:00,  2.45it/s]\n"
     ]
    },
    {
     "name": "stdout",
     "output_type": "stream",
     "text": [
      "Starting epoch 8\n"
     ]
    },
    {
     "name": "stderr",
     "output_type": "stream",
     "text": [
      "\r",
      "  0%|          | 0/101 [00:00<?, ?it/s]"
     ]
    },
    {
     "name": "stdout",
     "output_type": "stream",
     "text": [
      "sparsity per layer [%]: [63.0, 63.0, 63.0, 63.0, 63.0, 63.0, 63.0, 63.0, 63.0, 63.0, 63.0, 63.0, 63.0, 63.0, 63.0, 63.0, 63.0, 63.0, 63.0, 63.0, 63.0, 63.0, 63.0, 63.0, 63.0, 63.0, 63.0, 63.0, 63.0, 63.0, 63.0, 63.0, 63.0, 63.0, 63.0, 63.0, 63.0, 63.0, 63.0, 63.0, 63.0, 63.0, 63.0, 63.0, 63.0, 63.0, 63.0, 63.0, 63.0, 63.0, 63.0, 63.0, 63.0]\n"
     ]
    },
    {
     "name": "stderr",
     "output_type": "stream",
     "text": [
      "100%|██████████| 101/101 [00:44<00:00,  2.48it/s]\n"
     ]
    },
    {
     "name": "stdout",
     "output_type": "stream",
     "text": [
      "Starting epoch 9\n"
     ]
    },
    {
     "name": "stderr",
     "output_type": "stream",
     "text": [
      "\r",
      "  0%|          | 0/101 [00:00<?, ?it/s]"
     ]
    },
    {
     "name": "stdout",
     "output_type": "stream",
     "text": [
      "sparsity per layer [%]: [68.0, 68.0, 68.0, 68.0, 68.0, 68.0, 68.0, 68.0, 68.0, 68.0, 68.0, 68.0, 68.0, 68.0, 68.0, 68.0, 68.0, 68.0, 68.0, 68.0, 68.0, 68.0, 68.0, 68.0, 68.0, 68.0, 68.0, 68.0, 68.0, 68.0, 68.0, 68.0, 68.0, 68.0, 68.0, 68.0, 68.0, 68.0, 68.0, 68.0, 68.0, 68.0, 68.0, 68.0, 68.0, 68.0, 68.0, 68.0, 68.0, 68.0, 68.0, 68.0, 68.0]\n"
     ]
    },
    {
     "name": "stderr",
     "output_type": "stream",
     "text": [
      "100%|██████████| 101/101 [00:33<00:00,  3.01it/s]\n"
     ]
    },
    {
     "name": "stdout",
     "output_type": "stream",
     "text": [
      "Starting epoch 10\n"
     ]
    },
    {
     "name": "stderr",
     "output_type": "stream",
     "text": [
      "\r",
      "  0%|          | 0/101 [00:00<?, ?it/s]"
     ]
    },
    {
     "name": "stdout",
     "output_type": "stream",
     "text": [
      "sparsity per layer [%]: [72.0, 72.0, 72.0, 72.0, 72.0, 72.0, 72.0, 72.0, 72.0, 72.0, 72.0, 72.0, 72.0, 72.0, 72.0, 72.0, 72.0, 72.0, 72.0, 72.0, 72.0, 72.0, 72.0, 72.0, 72.0, 72.0, 72.0, 72.0, 72.0, 72.0, 72.0, 72.0, 72.0, 72.0, 72.0, 72.0, 72.0, 72.0, 72.0, 72.0, 72.0, 72.0, 72.0, 72.0, 72.0, 72.0, 72.0, 72.0, 72.0, 72.0, 72.0, 72.0, 72.0]\n"
     ]
    },
    {
     "name": "stderr",
     "output_type": "stream",
     "text": [
      "100%|██████████| 101/101 [00:37<00:00,  2.50it/s]\n"
     ]
    },
    {
     "name": "stdout",
     "output_type": "stream",
     "text": [
      "saved model checkpoint at ../pruned/resnet50-3/resnet50-epoch=010-val=0.3908.pth\n",
      "Starting epoch 11\n"
     ]
    },
    {
     "name": "stderr",
     "output_type": "stream",
     "text": [
      "\r",
      "  0%|          | 0/101 [00:00<?, ?it/s]"
     ]
    },
    {
     "name": "stdout",
     "output_type": "stream",
     "text": [
      "sparsity per layer [%]: [75.0, 75.0, 75.0, 75.0, 75.0, 75.0, 75.0, 75.0, 75.0, 75.0, 75.0, 75.0, 75.0, 75.0, 75.0, 75.0, 75.0, 75.0, 75.0, 75.0, 75.0, 75.0, 75.0, 75.0, 75.0, 75.0, 75.0, 75.0, 75.0, 75.0, 75.0, 75.0, 75.0, 75.0, 75.0, 75.0, 75.0, 75.0, 75.0, 75.0, 75.0, 75.0, 75.0, 75.0, 75.0, 75.0, 75.0, 75.0, 75.0, 75.0, 75.0, 75.0, 75.0]\n"
     ]
    },
    {
     "name": "stderr",
     "output_type": "stream",
     "text": [
      "100%|██████████| 101/101 [00:44<00:00,  2.47it/s]\n"
     ]
    },
    {
     "name": "stdout",
     "output_type": "stream",
     "text": [
      "Starting epoch 12\n"
     ]
    },
    {
     "name": "stderr",
     "output_type": "stream",
     "text": [
      "\r",
      "  0%|          | 0/101 [00:00<?, ?it/s]"
     ]
    },
    {
     "name": "stdout",
     "output_type": "stream",
     "text": [
      "sparsity per layer [%]: [78.0, 78.0, 78.0, 78.0, 78.0, 78.0, 78.0, 78.0, 78.0, 78.0, 78.0, 78.0, 78.0, 78.0, 78.0, 78.0, 78.0, 78.0, 78.0, 78.0, 78.0, 78.0, 78.0, 78.0, 78.0, 78.0, 78.0, 78.0, 78.0, 78.0, 78.0, 78.0, 78.0, 78.0, 78.0, 78.0, 78.0, 78.0, 78.0, 78.0, 78.0, 78.0, 78.0, 78.0, 78.0, 78.0, 78.0, 78.0, 78.0, 78.0, 78.0, 78.0, 78.0]\n"
     ]
    },
    {
     "name": "stderr",
     "output_type": "stream",
     "text": [
      "100%|██████████| 101/101 [00:44<00:00,  2.47it/s]\n"
     ]
    },
    {
     "name": "stdout",
     "output_type": "stream",
     "text": [
      "Starting epoch 13\n"
     ]
    },
    {
     "name": "stderr",
     "output_type": "stream",
     "text": [
      "\r",
      "  0%|          | 0/101 [00:00<?, ?it/s]"
     ]
    },
    {
     "name": "stdout",
     "output_type": "stream",
     "text": [
      "sparsity per layer [%]: [81.0, 81.0, 81.0, 81.0, 81.0, 81.0, 81.0, 81.0, 81.0, 81.0, 81.0, 81.0, 81.0, 81.0, 81.0, 81.0, 81.0, 81.0, 81.0, 81.0, 81.0, 81.0, 81.0, 81.0, 81.0, 81.0, 81.0, 81.0, 81.0, 81.0, 81.0, 81.0, 81.0, 81.0, 81.0, 81.0, 81.0, 81.0, 81.0, 81.0, 81.0, 81.0, 81.0, 81.0, 81.0, 81.0, 81.0, 81.0, 81.0, 81.0, 81.0, 81.0, 81.0]\n"
     ]
    },
    {
     "name": "stderr",
     "output_type": "stream",
     "text": [
      "100%|██████████| 101/101 [00:44<00:00,  2.48it/s]\n"
     ]
    },
    {
     "name": "stdout",
     "output_type": "stream",
     "text": [
      "Starting epoch 14\n"
     ]
    },
    {
     "name": "stderr",
     "output_type": "stream",
     "text": [
      "\r",
      "  0%|          | 0/101 [00:00<?, ?it/s]"
     ]
    },
    {
     "name": "stdout",
     "output_type": "stream",
     "text": [
      "sparsity per layer [%]: [83.0, 83.0, 83.0, 83.0, 83.0, 83.0, 83.0, 83.0, 83.0, 83.0, 83.0, 83.0, 83.0, 83.0, 83.0, 83.0, 83.0, 83.0, 83.0, 83.0, 83.0, 83.0, 83.0, 83.0, 83.0, 83.0, 83.0, 83.0, 83.0, 83.0, 83.0, 83.0, 83.0, 83.0, 83.0, 83.0, 83.0, 83.0, 83.0, 83.0, 83.0, 83.0, 83.0, 83.0, 83.0, 83.0, 83.0, 83.0, 83.0, 83.0, 83.0, 83.0, 83.0]\n"
     ]
    },
    {
     "name": "stderr",
     "output_type": "stream",
     "text": [
      "100%|██████████| 101/101 [00:44<00:00,  2.80it/s]\n"
     ]
    },
    {
     "name": "stdout",
     "output_type": "stream",
     "text": [
      "Starting epoch 15\n"
     ]
    },
    {
     "name": "stderr",
     "output_type": "stream",
     "text": [
      "\r",
      "  0%|          | 0/101 [00:00<?, ?it/s]"
     ]
    },
    {
     "name": "stdout",
     "output_type": "stream",
     "text": [
      "sparsity per layer [%]: [85.0, 85.0, 85.0, 85.0, 85.0, 85.0, 85.0, 85.0, 85.0, 85.0, 85.0, 85.0, 85.0, 85.0, 85.0, 85.0, 85.0, 85.0, 85.0, 85.0, 85.0, 85.0, 85.0, 85.0, 85.0, 85.0, 85.0, 85.0, 85.0, 85.0, 85.0, 85.0, 85.0, 85.0, 85.0, 85.0, 85.0, 85.0, 85.0, 85.0, 85.0, 85.0, 85.0, 85.0, 85.0, 85.0, 85.0, 85.0, 85.0, 85.0, 85.0, 85.0, 85.0]\n"
     ]
    },
    {
     "name": "stderr",
     "output_type": "stream",
     "text": [
      "100%|██████████| 101/101 [00:44<00:00,  2.46it/s]\n"
     ]
    },
    {
     "name": "stdout",
     "output_type": "stream",
     "text": [
      "saved model checkpoint at ../pruned/resnet50-3/resnet50-epoch=015-val=0.4717.pth\n",
      "Starting epoch 16\n"
     ]
    },
    {
     "name": "stderr",
     "output_type": "stream",
     "text": [
      "\r",
      "  0%|          | 0/101 [00:00<?, ?it/s]"
     ]
    },
    {
     "name": "stdout",
     "output_type": "stream",
     "text": [
      "sparsity per layer [%]: [86.0, 86.0, 86.0, 86.0, 86.0, 86.0, 86.0, 86.0, 86.0, 86.0, 86.0, 86.0, 86.0, 86.0, 86.0, 86.0, 86.0, 86.0, 86.0, 86.0, 86.0, 86.0, 86.0, 86.0, 86.0, 86.0, 86.0, 86.0, 86.0, 86.0, 86.0, 86.0, 86.0, 86.0, 86.0, 86.0, 86.0, 86.0, 86.0, 86.0, 86.0, 86.0, 86.0, 86.0, 86.0, 86.0, 86.0, 86.0, 86.0, 86.0, 86.0, 86.0, 86.0]\n"
     ]
    },
    {
     "name": "stderr",
     "output_type": "stream",
     "text": [
      "100%|██████████| 101/101 [00:44<00:00,  2.48it/s]\n"
     ]
    },
    {
     "name": "stdout",
     "output_type": "stream",
     "text": [
      "Starting epoch 17\n"
     ]
    },
    {
     "name": "stderr",
     "output_type": "stream",
     "text": [
      "\r",
      "  0%|          | 0/101 [00:00<?, ?it/s]"
     ]
    },
    {
     "name": "stdout",
     "output_type": "stream",
     "text": [
      "sparsity per layer [%]: [87.0, 87.0, 87.0, 87.0, 87.0, 87.0, 87.0, 87.0, 87.0, 87.0, 87.0, 87.0, 87.0, 87.0, 87.0, 87.0, 87.0, 87.0, 87.0, 87.0, 87.0, 87.0, 87.0, 87.0, 87.0, 87.0, 87.0, 87.0, 87.0, 87.0, 87.0, 87.0, 87.0, 87.0, 87.0, 87.0, 87.0, 87.0, 87.0, 87.0, 87.0, 87.0, 87.0, 87.0, 87.0, 87.0, 87.0, 87.0, 87.0, 87.0, 87.0, 87.0, 87.0]\n"
     ]
    },
    {
     "name": "stderr",
     "output_type": "stream",
     "text": [
      "100%|██████████| 101/101 [00:44<00:00,  2.51it/s]\n"
     ]
    },
    {
     "name": "stdout",
     "output_type": "stream",
     "text": [
      "Starting epoch 18\n"
     ]
    },
    {
     "name": "stderr",
     "output_type": "stream",
     "text": [
      "\r",
      "  0%|          | 0/101 [00:00<?, ?it/s]"
     ]
    },
    {
     "name": "stdout",
     "output_type": "stream",
     "text": [
      "sparsity per layer [%]: [88.0, 88.0, 88.0, 88.0, 88.0, 88.0, 88.0, 88.0, 88.0, 88.0, 88.0, 88.0, 88.0, 88.0, 88.0, 88.0, 88.0, 88.0, 88.0, 88.0, 88.0, 88.0, 88.0, 88.0, 88.0, 88.0, 88.0, 88.0, 88.0, 88.0, 88.0, 88.0, 88.0, 88.0, 88.0, 88.0, 88.0, 88.0, 88.0, 88.0, 88.0, 88.0, 88.0, 88.0, 88.0, 88.0, 88.0, 88.0, 88.0, 88.0, 88.0, 88.0, 88.0]\n"
     ]
    },
    {
     "name": "stderr",
     "output_type": "stream",
     "text": [
      "100%|██████████| 101/101 [00:44<00:00,  2.44it/s]\n"
     ]
    },
    {
     "name": "stdout",
     "output_type": "stream",
     "text": [
      "Starting epoch 19\n"
     ]
    },
    {
     "name": "stderr",
     "output_type": "stream",
     "text": [
      "\r",
      "  0%|          | 0/101 [00:00<?, ?it/s]"
     ]
    },
    {
     "name": "stdout",
     "output_type": "stream",
     "text": [
      "sparsity per layer [%]: [89.0, 89.0, 89.0, 89.0, 89.0, 89.0, 89.0, 89.0, 89.0, 89.0, 89.0, 89.0, 89.0, 89.0, 89.0, 89.0, 89.0, 89.0, 89.0, 89.0, 89.0, 89.0, 89.0, 89.0, 89.0, 89.0, 89.0, 89.0, 89.0, 89.0, 89.0, 89.0, 89.0, 89.0, 89.0, 89.0, 89.0, 89.0, 89.0, 89.0, 89.0, 89.0, 89.0, 89.0, 89.0, 89.0, 89.0, 89.0, 89.0, 89.0, 89.0, 89.0, 89.0]\n"
     ]
    },
    {
     "name": "stderr",
     "output_type": "stream",
     "text": [
      "100%|██████████| 101/101 [00:44<00:00,  2.43it/s]\n"
     ]
    },
    {
     "name": "stdout",
     "output_type": "stream",
     "text": [
      "Starting epoch 20\n"
     ]
    },
    {
     "name": "stderr",
     "output_type": "stream",
     "text": [
      "\r",
      "  0%|          | 0/101 [00:00<?, ?it/s]"
     ]
    },
    {
     "name": "stdout",
     "output_type": "stream",
     "text": [
      "sparsity per layer [%]: [89.0, 89.0, 89.0, 89.0, 89.0, 89.0, 89.0, 89.0, 89.0, 89.0, 89.0, 89.0, 89.0, 89.0, 89.0, 89.0, 89.0, 89.0, 89.0, 89.0, 89.0, 89.0, 89.0, 89.0, 89.0, 89.0, 89.0, 89.0, 89.0, 89.0, 89.0, 89.0, 89.0, 89.0, 89.0, 89.0, 89.0, 89.0, 89.0, 89.0, 89.0, 89.0, 89.0, 89.0, 89.0, 89.0, 89.0, 89.0, 89.0, 89.0, 89.0, 89.0, 89.0]\n"
     ]
    },
    {
     "name": "stderr",
     "output_type": "stream",
     "text": [
      "100%|██████████| 101/101 [00:44<00:00,  2.49it/s]\n"
     ]
    },
    {
     "name": "stdout",
     "output_type": "stream",
     "text": [
      "saved model checkpoint at ../pruned/resnet50-3/resnet50-epoch=020-val=0.4121.pth\n",
      "Starting epoch 21\n"
     ]
    },
    {
     "name": "stderr",
     "output_type": "stream",
     "text": [
      "\r",
      "  0%|          | 0/101 [00:00<?, ?it/s]"
     ]
    },
    {
     "name": "stdout",
     "output_type": "stream",
     "text": [
      "sparsity per layer [%]: [90.0, 90.0, 90.0, 90.0, 90.0, 90.0, 90.0, 90.0, 90.0, 90.0, 90.0, 90.0, 90.0, 90.0, 90.0, 90.0, 90.0, 90.0, 90.0, 90.0, 90.0, 90.0, 90.0, 90.0, 90.0, 90.0, 90.0, 90.0, 90.0, 90.0, 90.0, 90.0, 90.0, 90.0, 90.0, 90.0, 90.0, 90.0, 90.0, 90.0, 90.0, 90.0, 90.0, 90.0, 90.0, 90.0, 90.0, 90.0, 90.0, 90.0, 90.0, 90.0, 90.0]\n"
     ]
    },
    {
     "name": "stderr",
     "output_type": "stream",
     "text": [
      "100%|██████████| 101/101 [00:44<00:00,  2.59it/s]\n"
     ]
    },
    {
     "name": "stdout",
     "output_type": "stream",
     "text": [
      "Starting epoch 22\n"
     ]
    },
    {
     "name": "stderr",
     "output_type": "stream",
     "text": [
      "\r",
      "  0%|          | 0/101 [00:00<?, ?it/s]"
     ]
    },
    {
     "name": "stdout",
     "output_type": "stream",
     "text": [
      "sparsity per layer [%]: [90.0, 90.0, 90.0, 90.0, 90.0, 90.0, 90.0, 90.0, 90.0, 90.0, 90.0, 90.0, 90.0, 90.0, 90.0, 90.0, 90.0, 90.0, 90.0, 90.0, 90.0, 90.0, 90.0, 90.0, 90.0, 90.0, 90.0, 90.0, 90.0, 90.0, 90.0, 90.0, 90.0, 90.0, 90.0, 90.0, 90.0, 90.0, 90.0, 90.0, 90.0, 90.0, 90.0, 90.0, 90.0, 90.0, 90.0, 90.0, 90.0, 90.0, 90.0, 90.0, 90.0]\n"
     ]
    },
    {
     "name": "stderr",
     "output_type": "stream",
     "text": [
      "100%|██████████| 101/101 [00:44<00:00,  2.50it/s]\n"
     ]
    },
    {
     "name": "stdout",
     "output_type": "stream",
     "text": [
      "Starting epoch 23\n"
     ]
    },
    {
     "name": "stderr",
     "output_type": "stream",
     "text": [
      "\r",
      "  0%|          | 0/101 [00:00<?, ?it/s]"
     ]
    },
    {
     "name": "stdout",
     "output_type": "stream",
     "text": [
      "sparsity per layer [%]: [90.0, 90.0, 90.0, 90.0, 90.0, 90.0, 90.0, 90.0, 90.0, 90.0, 90.0, 90.0, 90.0, 90.0, 90.0, 90.0, 90.0, 90.0, 90.0, 90.0, 90.0, 90.0, 90.0, 90.0, 90.0, 90.0, 90.0, 90.0, 90.0, 90.0, 90.0, 90.0, 90.0, 90.0, 90.0, 90.0, 90.0, 90.0, 90.0, 90.0, 90.0, 90.0, 90.0, 90.0, 90.0, 90.0, 90.0, 90.0, 90.0, 90.0, 90.0, 90.0, 90.0]\n"
     ]
    },
    {
     "name": "stderr",
     "output_type": "stream",
     "text": [
      "100%|██████████| 101/101 [00:44<00:00,  2.51it/s]\n"
     ]
    },
    {
     "name": "stdout",
     "output_type": "stream",
     "text": [
      "Starting epoch 24\n"
     ]
    },
    {
     "name": "stderr",
     "output_type": "stream",
     "text": [
      "\r",
      "  0%|          | 0/101 [00:00<?, ?it/s]"
     ]
    },
    {
     "name": "stdout",
     "output_type": "stream",
     "text": [
      "sparsity per layer [%]: [90.0, 90.0, 90.0, 90.0, 90.0, 90.0, 90.0, 90.0, 90.0, 90.0, 90.0, 90.0, 90.0, 90.0, 90.0, 90.0, 90.0, 90.0, 90.0, 90.0, 90.0, 90.0, 90.0, 90.0, 90.0, 90.0, 90.0, 90.0, 90.0, 90.0, 90.0, 90.0, 90.0, 90.0, 90.0, 90.0, 90.0, 90.0, 90.0, 90.0, 90.0, 90.0, 90.0, 90.0, 90.0, 90.0, 90.0, 90.0, 90.0, 90.0, 90.0, 90.0, 90.0]\n"
     ]
    },
    {
     "name": "stderr",
     "output_type": "stream",
     "text": [
      "100%|██████████| 101/101 [00:44<00:00,  2.43it/s]\n"
     ]
    },
    {
     "name": "stdout",
     "output_type": "stream",
     "text": [
      "Starting epoch 25\n"
     ]
    },
    {
     "name": "stderr",
     "output_type": "stream",
     "text": [
      "\r",
      "  0%|          | 0/101 [00:00<?, ?it/s]"
     ]
    },
    {
     "name": "stdout",
     "output_type": "stream",
     "text": [
      "sparsity per layer [%]: [90.0, 90.0, 90.0, 90.0, 90.0, 90.0, 90.0, 90.0, 90.0, 90.0, 90.0, 90.0, 90.0, 90.0, 90.0, 90.0, 90.0, 90.0, 90.0, 90.0, 90.0, 90.0, 90.0, 90.0, 90.0, 90.0, 90.0, 90.0, 90.0, 90.0, 90.0, 90.0, 90.0, 90.0, 90.0, 90.0, 90.0, 90.0, 90.0, 90.0, 90.0, 90.0, 90.0, 90.0, 90.0, 90.0, 90.0, 90.0, 90.0, 90.0, 90.0, 90.0, 90.0]\n"
     ]
    },
    {
     "name": "stderr",
     "output_type": "stream",
     "text": [
      " 92%|█████████▏| 93/101 [00:40<00:03,  2.47it/s]"
     ]
    }
   ],
   "source": [
    "import math\n",
    "print('Running baseline test...')\n",
    "epoch = -1\n",
    "_record_kernel_sparsity(analyzed_layers, writer, epoch)\n",
    "_test_datasets(model, None, val_data_loader, writer, epoch=-1)\n",
    "\n",
    "print('Training model')\n",
    "num_epochs = int(math.ceil(modifier_manager.max_epochs))\n",
    "data_counter = 0\n",
    "\n",
    "for epoch in range(num_epochs):\n",
    "    print('Starting epoch {}'.format(epoch))\n",
    "    optimizer.epoch_start()\n",
    "    _record_kernel_sparsity(analyzed_layers, writer, epoch)\n",
    "\n",
    "\n",
    "\n",
    "    data_counter = train_epoch(model, train_data_loader, optimizer, loss_calc, device, data_counter)\n",
    "    optimizer.epoch_end()\n",
    "    val_losses, train_losses = _test_datasets(model, None, val_data_loader, writer, epoch)\n",
    "\n",
    "    if save_rate > 0 and epoch % save_rate == 0:\n",
    "        save_path = os.path.join(model_dir, 'resnet50-epoch={:03d}-val={:.4f}.pth'\n",
    "                                 .format(epoch, val_losses['loss']))\n",
    "        save_model(save_path, model, optimizer, epoch)\n",
    "        print('saved model checkpoint at {}'.format(save_path))\n",
    "\n",
    "_record_kernel_sparsity(analyzed_layers, writer, num_epochs)\n",
    "\n",
    "\n",
    "scalars_json_path = os.path.join(logs_dir, 'all_scalars.json')\n",
    "writer.export_scalars_to_json(scalars_json_path)\n",
    "writer.close()\n",
    "\n",
    "save_path = os.path.join(model_dir, 'resnet50-pruned.pth')\n",
    "print('Finished training, saving model to {}'.format(save_path))\n",
    "save_model(save_path, model)\n",
    "print('Saved model')"
   ]
  },
  {
   "cell_type": "code",
   "execution_count": null,
   "metadata": {},
   "outputs": [],
   "source": []
  }
 ],
 "metadata": {
  "kernelspec": {
   "display_name": "venv",
   "language": "python",
   "name": "venv"
  },
  "language_info": {
   "codemirror_mode": {
    "name": "ipython",
    "version": 3
   },
   "file_extension": ".py",
   "mimetype": "text/x-python",
   "name": "python",
   "nbconvert_exporter": "python",
   "pygments_lexer": "ipython3",
   "version": "3.6.7"
  }
 },
 "nbformat": 4,
 "nbformat_minor": 2
}
