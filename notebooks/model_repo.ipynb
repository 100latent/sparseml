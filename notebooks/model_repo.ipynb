{
 "cells": [
  {
   "cell_type": "markdown",
   "metadata": {},
   "source": [
    "© 2020 Neuralmagic, Inc. // [Neural Magic Legal](https://neuralmagic.com/legal)\n",
    "# Downloading from Neural Magic’s Model Repo\n",
    "\n",
    "This notebook provides an easy step-by-step walkthrough for downloading a model from the Neural Magic Model Repository. You will:\n",
    "- Set up the environment\n",
    "- Select a model\n",
    "- Download the model\n",
    "\n",
    "Reading through this notebook will quickly provide an overview of the pretrained, performance-tuned models available in the Neural Magic Repo. This will take approximately:\n",
    "- 15 minutes\n",
    "\n",
    "# Background\n",
    "Neural networks can take a long time to train. Model optimization techniques such as model pruning may be necessary to achieve both performance and optimization goals. However, these model optimizations can involve many trials and errors due to a large number of hyperparameters. Fortunately, in the computer vision and natural language space, pruned (sparsiﬁed) neural networks transfer learn.\n",
    "\n",
    "To make it easier to use pruned models, Neural Magic is actively:\n",
    "- Creating pruned versions of popular models and datasets\n",
    "- Thoroughly testing these models with the Neural Magic Inference Engine to ensure performance\n",
    "- Updating the Neural Magic Repo with these models and datasets\n"
   ]
  },
  {
   "cell_type": "markdown",
   "metadata": {},
   "source": [
    "## Step 1 - Setting Up the Environment\n",
    "\n",
    "In this step, Neural Magic checks your environment setup to ensure the rest of the notebook will flow smoothly.\n",
    "Before running, install the neuralmagicML package into the system using the following at the parent of the package directory:\n",
    "\n",
    "`pip install neuralmagicML-python/ `\n"
   ]
  },
  {
   "cell_type": "code",
   "execution_count": null,
   "metadata": {
    "scrolled": false
   },
   "outputs": [],
   "source": [
    "notebook_name = \"model_repo\"\n",
    "print(\"checking setup for {}...\".format(notebook_name))\n",
    "\n",
    "# filter because of tensorboard future warnings\n",
    "import warnings\n",
    "warnings.filterwarnings(\"ignore\", category=FutureWarning)\n",
    "\n",
    "try:\n",
    "    # make sure neuralmagicML is installed\n",
    "    import neuralmagicML\n",
    "except Exception as ex:\n",
    "    raise Exception(\n",
    "        \"please install neuralmagicML using the setup.py file before continuing\"\n",
    "    )"
   ]
  },
  {
   "cell_type": "markdown",
   "metadata": {},
   "source": [
    "## Step 2 - Selecting a Model\n",
    "\n",
    "Repositories may hold many models, so a simple UI is provided to make this selection process easier. Within the UI, ﬁlters can be applied for models trained in/on speciﬁc domains or datasets. Each network architecture listed will also include options for the dataset it was trained on, ML frameworks (ONNX, PyTorch, TensorFlow, Keras), and the type. The type refers to how the models were trained and/or recalibrated, speciﬁcally:\n",
    "- base - baseline model, trained generally as in the original paper\n",
    "- recal - a recalibrated model that is recalibrated to the point of fully recovering the baseline model’s metrics\n",
    "- recal-perf - a recalibrated model that is recalibrated for performance to the point of recovering 99% of the baseline model’s metrics"
   ]
  },
  {
   "cell_type": "code",
   "execution_count": null,
   "metadata": {},
   "outputs": [],
   "source": [
    "from neuralmagicML.utilsnb import ModelSelectWidgetContainer\n",
    "\n",
    "print(\"creating ui...\")\n",
    "container = ModelSelectWidgetContainer()\n",
    "display(container.create())"
   ]
  },
  {
   "cell_type": "markdown",
   "metadata": {},
   "source": [
    "### Step 3 - Downloading the Model\n",
    "\n",
    "After making a model selection, run the cell block below to download the model locally. By default, it will save the model to an appropriately named folder under the current working directory. You can change the save_dir if you'd like to save to another location on the local system.\n"
   ]
  },
  {
   "cell_type": "code",
   "execution_count": null,
   "metadata": {},
   "outputs": [],
   "source": [
    "import os\n",
    "from neuralmagicML.utils import clean_path\n",
    "\n",
    "model = container.selected_model\n",
    "save_onnx = container.selected_framework == \"onnx\"\n",
    "save_dir = clean_path(os.path.join(\".\", notebook_name, model.root_path.replace(\"/\", \"-\")))\n",
    "\n",
    "if save_onnx:\n",
    "    saved_path = model.download_onnx_file(overwrite=True, save_dir=save_dir)\n",
    "    print(\"downloaded model to {}\".format(saved_path))\n",
    "else:\n",
    "    saved_paths = model.download_framework_files(overwrite=True, save_dir=save_dir)\n",
    "    print(\"downloaded {} files to {}\".format(model.framework, saved_paths))\n"
   ]
  },
  {
   "cell_type": "markdown",
   "metadata": {},
   "source": [
    "## Next Step\n",
    "\n",
    "You may want to explore one of these paths:\n",
    "- Perform transfer learning, using the PyTorch Transfer Learning notebook\n",
    "- Optimize your model using the Neural Magic Recalibration Tooling, described in the PyTorch or TensorFlow Pruning notebook\n",
    "\n",
    "Refer to Getting Started with Neural Magic for a description of each notebook."
   ]
  }
 ],
 "metadata": {
  "kernelspec": {
   "display_name": "Python 3",
   "language": "python",
   "name": "python3"
  },
  "language_info": {
   "codemirror_mode": {
    "name": "ipython",
    "version": 3
   },
   "file_extension": ".py",
   "mimetype": "text/x-python",
   "name": "python",
   "nbconvert_exporter": "python",
   "pygments_lexer": "ipython3",
   "version": "3.6.9"
  }
 },
 "nbformat": 4,
 "nbformat_minor": 4
}
